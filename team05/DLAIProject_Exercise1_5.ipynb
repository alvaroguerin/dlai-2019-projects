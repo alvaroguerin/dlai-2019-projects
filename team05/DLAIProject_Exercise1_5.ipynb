{
  "nbformat": 4,
  "nbformat_minor": 0,
  "metadata": {
    "colab": {
      "name": "DLAIProject-Exercise1.ipynb",
      "provenance": [],
      "collapsed_sections": []
    },
    "kernelspec": {
      "name": "python3",
      "display_name": "Python 3"
    },
    "accelerator": "GPU"
  },
  "cells": [
    {
      "cell_type": "markdown",
      "metadata": {
        "id": "YH34G1JNIspi",
        "colab_type": "text"
      },
      "source": [
        "\n",
        "# **Exercise 1. Autoencoder**\n",
        "\n"
      ]
    },
    {
      "cell_type": "markdown",
      "metadata": {
        "id": "v2hFdCXpJEh9",
        "colab_type": "text"
      },
      "source": [
        "First exercise for the Project of DLAI Fall semester 2019/2020.\n",
        "\n",
        "Authors:\n",
        "*   Carlos Alejandro López Molina\n",
        "*   María González i Calabuig\n",
        "*   Roser Batlle Roca\n",
        "*   Jordi Biosca Caro\n",
        "\n"
      ]
    },
    {
      "cell_type": "markdown",
      "metadata": {
        "id": "6egPDBulcwVa",
        "colab_type": "text"
      },
      "source": [
        "Import of different libraries used to build the script:"
      ]
    },
    {
      "cell_type": "code",
      "metadata": {
        "id": "Y-lFDEemIpzB",
        "colab_type": "code",
        "colab": {}
      },
      "source": [
        "import torch\n",
        "\n",
        "import numpy as np\n",
        "import torchvision as tv\n",
        "import torchvision.transforms as transforms\n",
        "import torch.nn as nn\n",
        "import torch.nn.functional as F\n",
        "import matplotlib\n",
        "import matplotlib.pyplot as plt\n",
        "from torch.autograd import Variable\n",
        "from torchvision.utils import save_image\n",
        "from torchvision import datasets\n",
        "from sklearn.model_selection import train_test_split\n",
        "from sklearn.metrics import mean_squared_error\n",
        "from torch.utils.data.sampler import SubsetRandomSampler\n",
        "from tabulate import tabulate\n",
        "\n",
        "seed = 1\n",
        "torch.manual_seed(seed)\n",
        "np.random.seed(seed)"
      ],
      "execution_count": 0,
      "outputs": []
    },
    {
      "cell_type": "markdown",
      "metadata": {
        "id": "eFonJxdhcrL7",
        "colab_type": "text"
      },
      "source": [
        "Definition of hyper-parameters:"
      ]
    },
    {
      "cell_type": "code",
      "metadata": {
        "id": "yv_4HR_lGfOK",
        "colab_type": "code",
        "colab": {}
      },
      "source": [
        "hparams = {\n",
        "    'batch_size': 64,\n",
        "    'num_epochs': 5,\n",
        "    'test_batch_size': 64,\n",
        "    'hidden_size': 64,\n",
        "    'hidden_size_2': 128,\n",
        "    'hidden_size_3': 64,\n",
        "    'num_classes': 10,\n",
        "    'num_inputs': 1, \n",
        "    'learning_rate': 1e-3,\n",
        "    'log_interval': 100,\n",
        "    'num_workers': 4,\n",
        "    'kernel_size': 3,\n",
        "    'encoder_key': [1, 5, 25, 50, 100]\n",
        "}\n",
        "\n",
        "hparams['device'] = 'cuda' if torch.cuda.is_available() else 'cpu'"
      ],
      "execution_count": 0,
      "outputs": []
    },
    {
      "cell_type": "markdown",
      "metadata": {
        "id": "sRiEAKgrTkhv",
        "colab_type": "text"
      },
      "source": [
        "**STEP 1** - Load MNIST data set and split the original training data."
      ]
    },
    {
      "cell_type": "code",
      "metadata": {
        "id": "VDneYwszGBAJ",
        "colab_type": "code",
        "outputId": "7b820446-07b8-4d7d-bb44-001da2db9fdb",
        "colab": {
          "base_uri": "https://localhost:8080/",
          "height": 271
        }
      },
      "source": [
        "mnist_trainset = datasets.MNIST('data', train=True, download=True,\n",
        "                                transform=transforms.Compose([\n",
        "                                    transforms.ToTensor(),\n",
        "                                    transforms.Normalize((0.1307,), (0.3081,))\n",
        "                                ]))\n",
        "mnist_testset = datasets.MNIST('data', train=False, \n",
        "                               transform=transforms.Compose([\n",
        "                                   transforms.ToTensor(),\n",
        "                                   transforms.Normalize((0.1307,), (0.3081,))\n",
        "                               ]))\n",
        "\n",
        "num_train = len(mnist_trainset)\n",
        "indices = list(range(num_train))\n",
        "test_size = 0.05\n",
        "split = int(np.floor(test_size * num_train))\n",
        "\n",
        "train_id, test_id = indices[split:], indices[:split]\n",
        "train_sampler = SubsetRandomSampler(train_id)\n",
        "\n",
        "test_sampler = SubsetRandomSampler(test_id)\n",
        "\n",
        "train_loader = torch.utils.data.DataLoader(mnist_trainset, \n",
        "                                           hparams['batch_size'], \n",
        "                                           shuffle=False,\n",
        "                                           sampler=train_sampler,\n",
        "                                           num_workers=hparams['num_workers'], \n",
        "                                           )\n",
        "\n",
        "test_loader = torch.utils.data.DataLoader(mnist_trainset, \n",
        "                                          hparams['batch_size'], \n",
        "                                          shuffle=False,\n",
        "                                          sampler=test_sampler,\n",
        "                                          num_workers=hparams['num_workers'], \n",
        "                                          )\n"
      ],
      "execution_count": 3,
      "outputs": [
        {
          "output_type": "stream",
          "text": [
            "\r0it [00:00, ?it/s]"
          ],
          "name": "stderr"
        },
        {
          "output_type": "stream",
          "text": [
            "Downloading http://yann.lecun.com/exdb/mnist/train-images-idx3-ubyte.gz to data/MNIST/raw/train-images-idx3-ubyte.gz\n"
          ],
          "name": "stdout"
        },
        {
          "output_type": "stream",
          "text": [
            "9920512it [00:01, 8137902.98it/s]                            \n"
          ],
          "name": "stderr"
        },
        {
          "output_type": "stream",
          "text": [
            "Extracting data/MNIST/raw/train-images-idx3-ubyte.gz to data/MNIST/raw\n"
          ],
          "name": "stdout"
        },
        {
          "output_type": "stream",
          "text": [
            "  0%|          | 0/28881 [00:00<?, ?it/s]"
          ],
          "name": "stderr"
        },
        {
          "output_type": "stream",
          "text": [
            "Downloading http://yann.lecun.com/exdb/mnist/train-labels-idx1-ubyte.gz to data/MNIST/raw/train-labels-idx1-ubyte.gz\n"
          ],
          "name": "stdout"
        },
        {
          "output_type": "stream",
          "text": [
            "32768it [00:00, 131313.07it/s]           \n",
            "  0%|          | 0/1648877 [00:00<?, ?it/s]"
          ],
          "name": "stderr"
        },
        {
          "output_type": "stream",
          "text": [
            "Extracting data/MNIST/raw/train-labels-idx1-ubyte.gz to data/MNIST/raw\n",
            "Downloading http://yann.lecun.com/exdb/mnist/t10k-images-idx3-ubyte.gz to data/MNIST/raw/t10k-images-idx3-ubyte.gz\n"
          ],
          "name": "stdout"
        },
        {
          "output_type": "stream",
          "text": [
            "1654784it [00:00, 2372078.86it/s]                           \n",
            "0it [00:00, ?it/s]"
          ],
          "name": "stderr"
        },
        {
          "output_type": "stream",
          "text": [
            "Extracting data/MNIST/raw/t10k-images-idx3-ubyte.gz to data/MNIST/raw\n",
            "Downloading http://yann.lecun.com/exdb/mnist/t10k-labels-idx1-ubyte.gz to data/MNIST/raw/t10k-labels-idx1-ubyte.gz\n"
          ],
          "name": "stdout"
        },
        {
          "output_type": "stream",
          "text": [
            "8192it [00:00, 49986.53it/s]            "
          ],
          "name": "stderr"
        },
        {
          "output_type": "stream",
          "text": [
            "Extracting data/MNIST/raw/t10k-labels-idx1-ubyte.gz to data/MNIST/raw\n",
            "Processing...\n",
            "Done!\n"
          ],
          "name": "stdout"
        },
        {
          "output_type": "stream",
          "text": [
            "\n"
          ],
          "name": "stderr"
        }
      ]
    },
    {
      "cell_type": "markdown",
      "metadata": {
        "id": "xzFmV10IXelk",
        "colab_type": "text"
      },
      "source": [
        "**STEP 2** - Autoencoder."
      ]
    },
    {
      "cell_type": "code",
      "metadata": {
        "id": "LyVhvfyFI7nh",
        "colab_type": "code",
        "colab": {}
      },
      "source": [
        "class AutoEncoder_convolution(nn.Module):\n",
        "\n",
        "  def __init__(self, encoder_key):\n",
        "    super(AutoEncoder_convolution,self).__init__()\n",
        "\n",
        "    self.encoder = nn.Sequential(\n",
        "        nn.Conv2d(hparams['num_inputs'], hparams['hidden_size'], 4, padding=3, stride=2), # surten 16,16\n",
        "        nn.ReLU(True),\n",
        "        nn.Conv2d(hparams['hidden_size'], hparams['hidden_size_2'], 4, padding=1, stride=2), #surten 8,8\n",
        "        nn.ReLU(True),\n",
        "        nn.Conv2d(hparams['hidden_size_2'], encoder_key, 4, stride=2), #surten 3,3\n",
        "        nn.ReLU(True),\n",
        "        nn.MaxPool2d(2, stride=1) # surten 2,2\n",
        "    )\n",
        "\n",
        "    self.decoder = nn.Sequential(\n",
        "        nn.ConvTranspose2d(encoder_key, hparams['hidden_size_2'], 3, stride=2), #surten 5,5\n",
        "        nn.ReLU(True),\n",
        "        nn.ConvTranspose2d(hparams['hidden_size_2'], hparams['hidden_size'], 5, stride=3, padding=1), # surten 15,15\n",
        "        nn.ReLU(True),\n",
        "        nn.ConvTranspose2d(hparams['hidden_size'], hparams['num_inputs'], 2, stride=2, padding=1), #surten 28,28\n",
        "        nn.Tanh(),\n",
        "    )\n",
        "\n",
        "  def forward(self,x):\n",
        "    x = self.encoder(x)\n",
        "    x = self.decoder(x)\n",
        "    return x"
      ],
      "execution_count": 0,
      "outputs": []
    },
    {
      "cell_type": "markdown",
      "metadata": {
        "id": "5ZgamqWRaeC0",
        "colab_type": "text"
      },
      "source": [
        "**STEP 3** - Autoencoder training. Different bottleneck sizes. "
      ]
    },
    {
      "cell_type": "markdown",
      "metadata": {
        "id": "GkZ8fkQXcZmh",
        "colab_type": "text"
      },
      "source": [
        "We declare some variables to save the data:"
      ]
    },
    {
      "cell_type": "code",
      "metadata": {
        "id": "4RWUJIwMNgXQ",
        "colab_type": "code",
        "colab": {}
      },
      "source": [
        "losses_train = [[]for x in range(5)]\n",
        "losses_test = [[]for x in range(5)]\n",
        "model = [[]for x in range(5)]"
      ],
      "execution_count": 0,
      "outputs": []
    },
    {
      "cell_type": "code",
      "metadata": {
        "id": "u8jPVE-qm_yP",
        "colab_type": "code",
        "outputId": "41b8ac57-eb83-4a5a-8a15-efcca4410039",
        "colab": {
          "base_uri": "https://localhost:8080/",
          "height": 1000
        }
      },
      "source": [
        "# Trainning process\n",
        "for key,i in zip(hparams['encoder_key'],range(5)):\n",
        "  #key = hparams['encoder_key'][3]\n",
        "  model[i] = AutoEncoder_convolution(key)\n",
        "  print(model)\n",
        "  model[i] = model[i].to(hparams['device'])\n",
        "  distance = nn.SmoothL1Loss()\n",
        "  optimizer = torch.optim.Adam(model[i].parameters(), lr=hparams['learning_rate'], weight_decay=1e-5)\n",
        "  #losses_train_0 = [] \n",
        "  #losses_test_0 = []\n",
        "  print('BOTTLENECK: ', key)\n",
        "  for epoch in range (hparams['num_epochs']):\n",
        "    for batch_id,data in enumerate(train_loader):\n",
        "      img, _ = data\n",
        "      img = img.to(hparams['device'])\n",
        "      # Forward pass\n",
        "      output = model[i](img)\n",
        "      loss = distance(output, img)\n",
        "      #losses_train_0.append(loss.cpu().data.item())\n",
        "      losses_train[i].append(loss.cpu().data.item())\n",
        "      # Backward pass\n",
        "      optimizer.zero_grad() \n",
        "      loss.backward()\n",
        "      optimizer.step()\n",
        "    for data in test_loader:\n",
        "      img, _ = data\n",
        "      img = img.to(hparams['device'])\n",
        "      # Forward pass\n",
        "      output = model[i](img)\n",
        "      loss = distance(output, img)\n",
        "      #losses_test_0.append(loss.cpu().data.item())\n",
        "      losses_test[i].append(loss.cpu().data.item())\n",
        "      # Backward pass\n",
        "      optimizer.zero_grad() \n",
        "      loss.backward()\n",
        "      optimizer.step()"
      ],
      "execution_count": 6,
      "outputs": [
        {
          "output_type": "stream",
          "text": [
            "[AutoEncoder_convolution(\n",
            "  (encoder): Sequential(\n",
            "    (0): Conv2d(1, 64, kernel_size=(4, 4), stride=(2, 2), padding=(3, 3))\n",
            "    (1): ReLU(inplace=True)\n",
            "    (2): Conv2d(64, 128, kernel_size=(4, 4), stride=(2, 2), padding=(1, 1))\n",
            "    (3): ReLU(inplace=True)\n",
            "    (4): Conv2d(128, 1, kernel_size=(4, 4), stride=(2, 2))\n",
            "    (5): ReLU(inplace=True)\n",
            "    (6): MaxPool2d(kernel_size=2, stride=1, padding=0, dilation=1, ceil_mode=False)\n",
            "  )\n",
            "  (decoder): Sequential(\n",
            "    (0): ConvTranspose2d(1, 128, kernel_size=(3, 3), stride=(2, 2))\n",
            "    (1): ReLU(inplace=True)\n",
            "    (2): ConvTranspose2d(128, 64, kernel_size=(5, 5), stride=(3, 3), padding=(1, 1))\n",
            "    (3): ReLU(inplace=True)\n",
            "    (4): ConvTranspose2d(64, 1, kernel_size=(2, 2), stride=(2, 2), padding=(1, 1))\n",
            "    (5): Tanh()\n",
            "  )\n",
            "), [], [], [], []]\n",
            "BOTTLENECK:  1\n",
            "[AutoEncoder_convolution(\n",
            "  (encoder): Sequential(\n",
            "    (0): Conv2d(1, 64, kernel_size=(4, 4), stride=(2, 2), padding=(3, 3))\n",
            "    (1): ReLU(inplace=True)\n",
            "    (2): Conv2d(64, 128, kernel_size=(4, 4), stride=(2, 2), padding=(1, 1))\n",
            "    (3): ReLU(inplace=True)\n",
            "    (4): Conv2d(128, 1, kernel_size=(4, 4), stride=(2, 2))\n",
            "    (5): ReLU(inplace=True)\n",
            "    (6): MaxPool2d(kernel_size=2, stride=1, padding=0, dilation=1, ceil_mode=False)\n",
            "  )\n",
            "  (decoder): Sequential(\n",
            "    (0): ConvTranspose2d(1, 128, kernel_size=(3, 3), stride=(2, 2))\n",
            "    (1): ReLU(inplace=True)\n",
            "    (2): ConvTranspose2d(128, 64, kernel_size=(5, 5), stride=(3, 3), padding=(1, 1))\n",
            "    (3): ReLU(inplace=True)\n",
            "    (4): ConvTranspose2d(64, 1, kernel_size=(2, 2), stride=(2, 2), padding=(1, 1))\n",
            "    (5): Tanh()\n",
            "  )\n",
            "), AutoEncoder_convolution(\n",
            "  (encoder): Sequential(\n",
            "    (0): Conv2d(1, 64, kernel_size=(4, 4), stride=(2, 2), padding=(3, 3))\n",
            "    (1): ReLU(inplace=True)\n",
            "    (2): Conv2d(64, 128, kernel_size=(4, 4), stride=(2, 2), padding=(1, 1))\n",
            "    (3): ReLU(inplace=True)\n",
            "    (4): Conv2d(128, 5, kernel_size=(4, 4), stride=(2, 2))\n",
            "    (5): ReLU(inplace=True)\n",
            "    (6): MaxPool2d(kernel_size=2, stride=1, padding=0, dilation=1, ceil_mode=False)\n",
            "  )\n",
            "  (decoder): Sequential(\n",
            "    (0): ConvTranspose2d(5, 128, kernel_size=(3, 3), stride=(2, 2))\n",
            "    (1): ReLU(inplace=True)\n",
            "    (2): ConvTranspose2d(128, 64, kernel_size=(5, 5), stride=(3, 3), padding=(1, 1))\n",
            "    (3): ReLU(inplace=True)\n",
            "    (4): ConvTranspose2d(64, 1, kernel_size=(2, 2), stride=(2, 2), padding=(1, 1))\n",
            "    (5): Tanh()\n",
            "  )\n",
            "), [], [], []]\n",
            "BOTTLENECK:  5\n",
            "[AutoEncoder_convolution(\n",
            "  (encoder): Sequential(\n",
            "    (0): Conv2d(1, 64, kernel_size=(4, 4), stride=(2, 2), padding=(3, 3))\n",
            "    (1): ReLU(inplace=True)\n",
            "    (2): Conv2d(64, 128, kernel_size=(4, 4), stride=(2, 2), padding=(1, 1))\n",
            "    (3): ReLU(inplace=True)\n",
            "    (4): Conv2d(128, 1, kernel_size=(4, 4), stride=(2, 2))\n",
            "    (5): ReLU(inplace=True)\n",
            "    (6): MaxPool2d(kernel_size=2, stride=1, padding=0, dilation=1, ceil_mode=False)\n",
            "  )\n",
            "  (decoder): Sequential(\n",
            "    (0): ConvTranspose2d(1, 128, kernel_size=(3, 3), stride=(2, 2))\n",
            "    (1): ReLU(inplace=True)\n",
            "    (2): ConvTranspose2d(128, 64, kernel_size=(5, 5), stride=(3, 3), padding=(1, 1))\n",
            "    (3): ReLU(inplace=True)\n",
            "    (4): ConvTranspose2d(64, 1, kernel_size=(2, 2), stride=(2, 2), padding=(1, 1))\n",
            "    (5): Tanh()\n",
            "  )\n",
            "), AutoEncoder_convolution(\n",
            "  (encoder): Sequential(\n",
            "    (0): Conv2d(1, 64, kernel_size=(4, 4), stride=(2, 2), padding=(3, 3))\n",
            "    (1): ReLU(inplace=True)\n",
            "    (2): Conv2d(64, 128, kernel_size=(4, 4), stride=(2, 2), padding=(1, 1))\n",
            "    (3): ReLU(inplace=True)\n",
            "    (4): Conv2d(128, 5, kernel_size=(4, 4), stride=(2, 2))\n",
            "    (5): ReLU(inplace=True)\n",
            "    (6): MaxPool2d(kernel_size=2, stride=1, padding=0, dilation=1, ceil_mode=False)\n",
            "  )\n",
            "  (decoder): Sequential(\n",
            "    (0): ConvTranspose2d(5, 128, kernel_size=(3, 3), stride=(2, 2))\n",
            "    (1): ReLU(inplace=True)\n",
            "    (2): ConvTranspose2d(128, 64, kernel_size=(5, 5), stride=(3, 3), padding=(1, 1))\n",
            "    (3): ReLU(inplace=True)\n",
            "    (4): ConvTranspose2d(64, 1, kernel_size=(2, 2), stride=(2, 2), padding=(1, 1))\n",
            "    (5): Tanh()\n",
            "  )\n",
            "), AutoEncoder_convolution(\n",
            "  (encoder): Sequential(\n",
            "    (0): Conv2d(1, 64, kernel_size=(4, 4), stride=(2, 2), padding=(3, 3))\n",
            "    (1): ReLU(inplace=True)\n",
            "    (2): Conv2d(64, 128, kernel_size=(4, 4), stride=(2, 2), padding=(1, 1))\n",
            "    (3): ReLU(inplace=True)\n",
            "    (4): Conv2d(128, 25, kernel_size=(4, 4), stride=(2, 2))\n",
            "    (5): ReLU(inplace=True)\n",
            "    (6): MaxPool2d(kernel_size=2, stride=1, padding=0, dilation=1, ceil_mode=False)\n",
            "  )\n",
            "  (decoder): Sequential(\n",
            "    (0): ConvTranspose2d(25, 128, kernel_size=(3, 3), stride=(2, 2))\n",
            "    (1): ReLU(inplace=True)\n",
            "    (2): ConvTranspose2d(128, 64, kernel_size=(5, 5), stride=(3, 3), padding=(1, 1))\n",
            "    (3): ReLU(inplace=True)\n",
            "    (4): ConvTranspose2d(64, 1, kernel_size=(2, 2), stride=(2, 2), padding=(1, 1))\n",
            "    (5): Tanh()\n",
            "  )\n",
            "), [], []]\n",
            "BOTTLENECK:  25\n",
            "[AutoEncoder_convolution(\n",
            "  (encoder): Sequential(\n",
            "    (0): Conv2d(1, 64, kernel_size=(4, 4), stride=(2, 2), padding=(3, 3))\n",
            "    (1): ReLU(inplace=True)\n",
            "    (2): Conv2d(64, 128, kernel_size=(4, 4), stride=(2, 2), padding=(1, 1))\n",
            "    (3): ReLU(inplace=True)\n",
            "    (4): Conv2d(128, 1, kernel_size=(4, 4), stride=(2, 2))\n",
            "    (5): ReLU(inplace=True)\n",
            "    (6): MaxPool2d(kernel_size=2, stride=1, padding=0, dilation=1, ceil_mode=False)\n",
            "  )\n",
            "  (decoder): Sequential(\n",
            "    (0): ConvTranspose2d(1, 128, kernel_size=(3, 3), stride=(2, 2))\n",
            "    (1): ReLU(inplace=True)\n",
            "    (2): ConvTranspose2d(128, 64, kernel_size=(5, 5), stride=(3, 3), padding=(1, 1))\n",
            "    (3): ReLU(inplace=True)\n",
            "    (4): ConvTranspose2d(64, 1, kernel_size=(2, 2), stride=(2, 2), padding=(1, 1))\n",
            "    (5): Tanh()\n",
            "  )\n",
            "), AutoEncoder_convolution(\n",
            "  (encoder): Sequential(\n",
            "    (0): Conv2d(1, 64, kernel_size=(4, 4), stride=(2, 2), padding=(3, 3))\n",
            "    (1): ReLU(inplace=True)\n",
            "    (2): Conv2d(64, 128, kernel_size=(4, 4), stride=(2, 2), padding=(1, 1))\n",
            "    (3): ReLU(inplace=True)\n",
            "    (4): Conv2d(128, 5, kernel_size=(4, 4), stride=(2, 2))\n",
            "    (5): ReLU(inplace=True)\n",
            "    (6): MaxPool2d(kernel_size=2, stride=1, padding=0, dilation=1, ceil_mode=False)\n",
            "  )\n",
            "  (decoder): Sequential(\n",
            "    (0): ConvTranspose2d(5, 128, kernel_size=(3, 3), stride=(2, 2))\n",
            "    (1): ReLU(inplace=True)\n",
            "    (2): ConvTranspose2d(128, 64, kernel_size=(5, 5), stride=(3, 3), padding=(1, 1))\n",
            "    (3): ReLU(inplace=True)\n",
            "    (4): ConvTranspose2d(64, 1, kernel_size=(2, 2), stride=(2, 2), padding=(1, 1))\n",
            "    (5): Tanh()\n",
            "  )\n",
            "), AutoEncoder_convolution(\n",
            "  (encoder): Sequential(\n",
            "    (0): Conv2d(1, 64, kernel_size=(4, 4), stride=(2, 2), padding=(3, 3))\n",
            "    (1): ReLU(inplace=True)\n",
            "    (2): Conv2d(64, 128, kernel_size=(4, 4), stride=(2, 2), padding=(1, 1))\n",
            "    (3): ReLU(inplace=True)\n",
            "    (4): Conv2d(128, 25, kernel_size=(4, 4), stride=(2, 2))\n",
            "    (5): ReLU(inplace=True)\n",
            "    (6): MaxPool2d(kernel_size=2, stride=1, padding=0, dilation=1, ceil_mode=False)\n",
            "  )\n",
            "  (decoder): Sequential(\n",
            "    (0): ConvTranspose2d(25, 128, kernel_size=(3, 3), stride=(2, 2))\n",
            "    (1): ReLU(inplace=True)\n",
            "    (2): ConvTranspose2d(128, 64, kernel_size=(5, 5), stride=(3, 3), padding=(1, 1))\n",
            "    (3): ReLU(inplace=True)\n",
            "    (4): ConvTranspose2d(64, 1, kernel_size=(2, 2), stride=(2, 2), padding=(1, 1))\n",
            "    (5): Tanh()\n",
            "  )\n",
            "), AutoEncoder_convolution(\n",
            "  (encoder): Sequential(\n",
            "    (0): Conv2d(1, 64, kernel_size=(4, 4), stride=(2, 2), padding=(3, 3))\n",
            "    (1): ReLU(inplace=True)\n",
            "    (2): Conv2d(64, 128, kernel_size=(4, 4), stride=(2, 2), padding=(1, 1))\n",
            "    (3): ReLU(inplace=True)\n",
            "    (4): Conv2d(128, 50, kernel_size=(4, 4), stride=(2, 2))\n",
            "    (5): ReLU(inplace=True)\n",
            "    (6): MaxPool2d(kernel_size=2, stride=1, padding=0, dilation=1, ceil_mode=False)\n",
            "  )\n",
            "  (decoder): Sequential(\n",
            "    (0): ConvTranspose2d(50, 128, kernel_size=(3, 3), stride=(2, 2))\n",
            "    (1): ReLU(inplace=True)\n",
            "    (2): ConvTranspose2d(128, 64, kernel_size=(5, 5), stride=(3, 3), padding=(1, 1))\n",
            "    (3): ReLU(inplace=True)\n",
            "    (4): ConvTranspose2d(64, 1, kernel_size=(2, 2), stride=(2, 2), padding=(1, 1))\n",
            "    (5): Tanh()\n",
            "  )\n",
            "), []]\n",
            "BOTTLENECK:  50\n",
            "[AutoEncoder_convolution(\n",
            "  (encoder): Sequential(\n",
            "    (0): Conv2d(1, 64, kernel_size=(4, 4), stride=(2, 2), padding=(3, 3))\n",
            "    (1): ReLU(inplace=True)\n",
            "    (2): Conv2d(64, 128, kernel_size=(4, 4), stride=(2, 2), padding=(1, 1))\n",
            "    (3): ReLU(inplace=True)\n",
            "    (4): Conv2d(128, 1, kernel_size=(4, 4), stride=(2, 2))\n",
            "    (5): ReLU(inplace=True)\n",
            "    (6): MaxPool2d(kernel_size=2, stride=1, padding=0, dilation=1, ceil_mode=False)\n",
            "  )\n",
            "  (decoder): Sequential(\n",
            "    (0): ConvTranspose2d(1, 128, kernel_size=(3, 3), stride=(2, 2))\n",
            "    (1): ReLU(inplace=True)\n",
            "    (2): ConvTranspose2d(128, 64, kernel_size=(5, 5), stride=(3, 3), padding=(1, 1))\n",
            "    (3): ReLU(inplace=True)\n",
            "    (4): ConvTranspose2d(64, 1, kernel_size=(2, 2), stride=(2, 2), padding=(1, 1))\n",
            "    (5): Tanh()\n",
            "  )\n",
            "), AutoEncoder_convolution(\n",
            "  (encoder): Sequential(\n",
            "    (0): Conv2d(1, 64, kernel_size=(4, 4), stride=(2, 2), padding=(3, 3))\n",
            "    (1): ReLU(inplace=True)\n",
            "    (2): Conv2d(64, 128, kernel_size=(4, 4), stride=(2, 2), padding=(1, 1))\n",
            "    (3): ReLU(inplace=True)\n",
            "    (4): Conv2d(128, 5, kernel_size=(4, 4), stride=(2, 2))\n",
            "    (5): ReLU(inplace=True)\n",
            "    (6): MaxPool2d(kernel_size=2, stride=1, padding=0, dilation=1, ceil_mode=False)\n",
            "  )\n",
            "  (decoder): Sequential(\n",
            "    (0): ConvTranspose2d(5, 128, kernel_size=(3, 3), stride=(2, 2))\n",
            "    (1): ReLU(inplace=True)\n",
            "    (2): ConvTranspose2d(128, 64, kernel_size=(5, 5), stride=(3, 3), padding=(1, 1))\n",
            "    (3): ReLU(inplace=True)\n",
            "    (4): ConvTranspose2d(64, 1, kernel_size=(2, 2), stride=(2, 2), padding=(1, 1))\n",
            "    (5): Tanh()\n",
            "  )\n",
            "), AutoEncoder_convolution(\n",
            "  (encoder): Sequential(\n",
            "    (0): Conv2d(1, 64, kernel_size=(4, 4), stride=(2, 2), padding=(3, 3))\n",
            "    (1): ReLU(inplace=True)\n",
            "    (2): Conv2d(64, 128, kernel_size=(4, 4), stride=(2, 2), padding=(1, 1))\n",
            "    (3): ReLU(inplace=True)\n",
            "    (4): Conv2d(128, 25, kernel_size=(4, 4), stride=(2, 2))\n",
            "    (5): ReLU(inplace=True)\n",
            "    (6): MaxPool2d(kernel_size=2, stride=1, padding=0, dilation=1, ceil_mode=False)\n",
            "  )\n",
            "  (decoder): Sequential(\n",
            "    (0): ConvTranspose2d(25, 128, kernel_size=(3, 3), stride=(2, 2))\n",
            "    (1): ReLU(inplace=True)\n",
            "    (2): ConvTranspose2d(128, 64, kernel_size=(5, 5), stride=(3, 3), padding=(1, 1))\n",
            "    (3): ReLU(inplace=True)\n",
            "    (4): ConvTranspose2d(64, 1, kernel_size=(2, 2), stride=(2, 2), padding=(1, 1))\n",
            "    (5): Tanh()\n",
            "  )\n",
            "), AutoEncoder_convolution(\n",
            "  (encoder): Sequential(\n",
            "    (0): Conv2d(1, 64, kernel_size=(4, 4), stride=(2, 2), padding=(3, 3))\n",
            "    (1): ReLU(inplace=True)\n",
            "    (2): Conv2d(64, 128, kernel_size=(4, 4), stride=(2, 2), padding=(1, 1))\n",
            "    (3): ReLU(inplace=True)\n",
            "    (4): Conv2d(128, 50, kernel_size=(4, 4), stride=(2, 2))\n",
            "    (5): ReLU(inplace=True)\n",
            "    (6): MaxPool2d(kernel_size=2, stride=1, padding=0, dilation=1, ceil_mode=False)\n",
            "  )\n",
            "  (decoder): Sequential(\n",
            "    (0): ConvTranspose2d(50, 128, kernel_size=(3, 3), stride=(2, 2))\n",
            "    (1): ReLU(inplace=True)\n",
            "    (2): ConvTranspose2d(128, 64, kernel_size=(5, 5), stride=(3, 3), padding=(1, 1))\n",
            "    (3): ReLU(inplace=True)\n",
            "    (4): ConvTranspose2d(64, 1, kernel_size=(2, 2), stride=(2, 2), padding=(1, 1))\n",
            "    (5): Tanh()\n",
            "  )\n",
            "), AutoEncoder_convolution(\n",
            "  (encoder): Sequential(\n",
            "    (0): Conv2d(1, 64, kernel_size=(4, 4), stride=(2, 2), padding=(3, 3))\n",
            "    (1): ReLU(inplace=True)\n",
            "    (2): Conv2d(64, 128, kernel_size=(4, 4), stride=(2, 2), padding=(1, 1))\n",
            "    (3): ReLU(inplace=True)\n",
            "    (4): Conv2d(128, 100, kernel_size=(4, 4), stride=(2, 2))\n",
            "    (5): ReLU(inplace=True)\n",
            "    (6): MaxPool2d(kernel_size=2, stride=1, padding=0, dilation=1, ceil_mode=False)\n",
            "  )\n",
            "  (decoder): Sequential(\n",
            "    (0): ConvTranspose2d(100, 128, kernel_size=(3, 3), stride=(2, 2))\n",
            "    (1): ReLU(inplace=True)\n",
            "    (2): ConvTranspose2d(128, 64, kernel_size=(5, 5), stride=(3, 3), padding=(1, 1))\n",
            "    (3): ReLU(inplace=True)\n",
            "    (4): ConvTranspose2d(64, 1, kernel_size=(2, 2), stride=(2, 2), padding=(1, 1))\n",
            "    (5): Tanh()\n",
            "  )\n",
            ")]\n",
            "BOTTLENECK:  100\n"
          ],
          "name": "stdout"
        }
      ]
    },
    {
      "cell_type": "markdown",
      "metadata": {
        "id": "2vfklz9AcOnO",
        "colab_type": "text"
      },
      "source": [
        "Plot of the training and validation losses for all the encoders:"
      ]
    },
    {
      "cell_type": "code",
      "metadata": {
        "id": "MUQ0liAhAF9g",
        "colab_type": "code",
        "outputId": "03c392e4-cce6-49ac-918f-19ab0e55c721",
        "colab": {
          "base_uri": "https://localhost:8080/",
          "height": 297
        }
      },
      "source": [
        "fig, axs = plt.subplots(2)\n",
        "axs[0].set_xlabel('Epoch')\n",
        "axs[0].set_ylabel('Loss - Train')\n",
        "axs[1].set_xlabel('Epoch')\n",
        "axs[1].set_ylabel('Loss - Test')\n",
        "for i in range(5):\n",
        "  axs[0].plot(losses_train[i], label = 'bn'+str(hparams['encoder_key'][i]))\n",
        "  axs[1].plot(losses_test[i], label = 'bn'+str(hparams['encoder_key'][i]))\n",
        "\n",
        "plt.legend()\n",
        "\n"
      ],
      "execution_count": 7,
      "outputs": [
        {
          "output_type": "execute_result",
          "data": {
            "text/plain": [
              "<matplotlib.legend.Legend at 0x7fa48061e390>"
            ]
          },
          "metadata": {
            "tags": []
          },
          "execution_count": 7
        },
        {
          "output_type": "display_data",
          "data": {
            "image/png": "[encoded data removed]",
            "text/plain": [
              "<Figure size 432x288 with 2 Axes>"
            ]
          },
          "metadata": {
            "tags": []
          }
        }
      ]
    },
    {
      "cell_type": "markdown",
      "metadata": {
        "id": "c6TgVX6WcHGR",
        "colab_type": "text"
      },
      "source": [
        "Evaluation of the results:"
      ]
    },
    {
      "cell_type": "code",
      "metadata": {
        "id": "UHHNPDyg_ooM",
        "colab_type": "code",
        "outputId": "fd72b17c-4d19-4834-d38b-4e4760931493",
        "colab": {
          "base_uri": "https://localhost:8080/",
          "height": 290
        }
      },
      "source": [
        "loss = nn.MSELoss()\n",
        "mse = 0\n",
        "error = [[]for x in range(5)] \n",
        "num_param = [[]for x in range(5)]\n",
        "for i in range(5):\n",
        "    print('Evaluating model '+str(i))\n",
        "    for data in test_loader:\n",
        "      img, label = data\n",
        "      model[i].eval()\n",
        "      model[i].to('cpu')\n",
        "      output = model[i](img)\n",
        "      mse += loss(img, output)\n",
        "      \n",
        "    num_param[i] = sum([p.data.nelement() for p in model[i].parameters()])\n",
        "    print('Number of parameters ' + str(num_param[i]))\n",
        "\n",
        "    error[i] = mse/len(test_loader)\n",
        "    print('Total MSE Error: {}'.format(error[i]))\n",
        "    mse = 0\n"
      ],
      "execution_count": 8,
      "outputs": [
        {
          "output_type": "stream",
          "text": [
            "Evaluating model 0\n",
            "Number of parameters 340738\n",
            "Total MSE Error: 0.6365168690681458\n",
            "Evaluating model 1\n",
            "Number of parameters 353542\n",
            "Total MSE Error: 0.40981540083885193\n",
            "Evaluating model 2\n",
            "Number of parameters 417562\n",
            "Total MSE Error: 0.34736037254333496\n",
            "Evaluating model 3\n",
            "Number of parameters 497587\n",
            "Total MSE Error: 0.33516067266464233\n",
            "Evaluating model 4\n",
            "Number of parameters 657637\n",
            "Total MSE Error: 0.32661834359169006\n"
          ],
          "name": "stdout"
        }
      ]
    },
    {
      "cell_type": "code",
      "metadata": {
        "id": "EoIBYasMVTkk",
        "colab_type": "code",
        "outputId": "bdb49f20-56e8-417e-db56-6583ba0464ac",
        "colab": {
          "base_uri": "https://localhost:8080/",
          "height": 144
        }
      },
      "source": [
        "# Table of conclusions\n",
        "print(tabulate([[hparams['encoder_key'][0],num_param[0],error[0]], \n",
        "                [hparams['encoder_key'][1],num_param[1],error[1]],\n",
        "                [hparams['encoder_key'][2],num_param[2],error[2]],\n",
        "                [hparams['encoder_key'][3],num_param[3],error[3]],\n",
        "                [hparams['encoder_key'][4],num_param[4],error[4]]], headers=['BottleNeck','# Parameters', 'MSE']))"
      ],
      "execution_count": 9,
      "outputs": [
        {
          "output_type": "stream",
          "text": [
            "  BottleNeck    # Parameters       MSE\n",
            "------------  --------------  --------\n",
            "           1          340738  0.636517\n",
            "           5          353542  0.409815\n",
            "          25          417562  0.34736\n",
            "          50          497587  0.335161\n",
            "         100          657637  0.326618\n"
          ],
          "name": "stdout"
        }
      ]
    },
    {
      "cell_type": "markdown",
      "metadata": {
        "id": "G4QjbmzobnZA",
        "colab_type": "text"
      },
      "source": [
        "Representation of the reconstruction of one autoencoder. We chose the one with the smallest MSE that best compresses the image, which corresponds to a bottleneck of size 25. (It compresses the image from 784 pixels to 100 pixels) "
      ]
    },
    {
      "cell_type": "code",
      "metadata": {
        "id": "gwL2CLAO4ZUT",
        "colab_type": "code",
        "outputId": "bf11f5df-6f3e-431c-ab92-d7d4ef688787",
        "colab": {
          "base_uri": "https://localhost:8080/",
          "height": 252
        }
      },
      "source": [
        "\n",
        "for data in test_loader:\n",
        "    img, _ = data\n",
        "    model[2].eval()\n",
        "    model[2].to('cpu')\n",
        "    output = model[2](img)\n",
        "\n",
        "    output = output.to('cpu')\n",
        "    output = output.detach().numpy()\n",
        "\n",
        "fig, axes = plt.subplots(nrows=2, ncols=10, sharex=True, sharey=True, figsize=(25,4))\n",
        "for images, row in zip([img, output], axes):\n",
        "    for img, ax in zip(images, row):\n",
        "        ax.imshow(np.squeeze(img), cmap='gray')\n",
        "        ax.get_xaxis().set_visible(False)\n",
        "        ax.get_yaxis().set_visible(False)\n"
      ],
      "execution_count": 10,
      "outputs": [
        {
          "output_type": "display_data",
          "data": {
            "image/png": "[encoded data removed]",
            "text/plain": [
              "<Figure size 1800x288 with 20 Axes>"
            ]
          },
          "metadata": {
            "tags": []
          }
        }
      ]
    },
    {
      "cell_type": "markdown",
      "metadata": {
        "id": "YYyV8VaDb69d",
        "colab_type": "text"
      },
      "source": [
        "Generation of 5 new images by injecting random values as input."
      ]
    },
    {
      "cell_type": "code",
      "metadata": {
        "id": "KmiE856M3Vum",
        "colab_type": "code",
        "outputId": "5bdd3988-25c3-488a-fc98-6978adab9752",
        "colab": {
          "base_uri": "https://localhost:8080/",
          "height": 394
        }
      },
      "source": [
        "rand_img = 5*torch.rand(5, hparams['encoder_key'][2],2,2)\n",
        "# model[3].eval()\n",
        "# model[3].to('cpu')\n",
        "model = AutoEncoder_convolution(hparams['encoder_key'][2])\n",
        "model.to('cpu')\n",
        "\n",
        "output = model.decoder(rand_img)\n",
        "print(output.shape)\n",
        "\n",
        "output = output.to('cpu')\n",
        "output = output.detach().numpy()\n",
        "\n",
        "fig, axes = plt.subplots(nrows=2, ncols=5, sharex=True, sharey=True, figsize=(25,4))\n",
        "for images, row in zip([output], axes):\n",
        "    for img, ax in zip(images, row):\n",
        "        print(img.shape)\n",
        "        ax.imshow(np.squeeze(img), cmap='gray')\n",
        "        ax.get_xaxis().set_visible(False)\n",
        "        ax.get_yaxis().set_visible(False)"
      ],
      "execution_count": 11,
      "outputs": [
        {
          "output_type": "stream",
          "text": [
            "torch.Size([5, 1, 28, 28])\n",
            "(1, 28, 28)\n",
            "(1, 28, 28)\n",
            "(1, 28, 28)\n",
            "(1, 28, 28)\n",
            "(1, 28, 28)\n"
          ],
          "name": "stdout"
        },
        {
          "output_type": "display_data",
          "data": {
            "image/png": "[encoded data removed]",
            "text/plain": [
              "<Figure size 1800x288 with 10 Axes>"
            ]
          },
          "metadata": {
            "tags": []
          }
        }
      ]
    }
  ]
}
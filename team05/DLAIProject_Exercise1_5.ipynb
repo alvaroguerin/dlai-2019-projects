{
  "nbformat": 4,
  "nbformat_minor": 0,
  "metadata": {
    "colab": {
      "name": "DLAIProject-Exercise1.ipynb",
      "provenance": [],
      "collapsed_sections": []
    },
    "kernelspec": {
      "name": "python3",
      "display_name": "Python 3"
    },
    "accelerator": "GPU"
  },
  "cells": [
    {
      "cell_type": "markdown",
      "metadata": {
        "id": "YH34G1JNIspi",
        "colab_type": "text"
      },
      "source": [
        "\n",
        "# **Exercise 1. Autoencoder**\n",
        "\n"
      ]
    },
    {
      "cell_type": "markdown",
      "metadata": {
        "id": "v2hFdCXpJEh9",
        "colab_type": "text"
      },
      "source": [
        "First exercise for the Project of DLAI Fall semester 2019/2020.\n",
        "\n",
        "Authors:\n",
        "*   Carlos Alejandro López Molina\n",
        "*   María González i Calabuig\n",
        "*   Roser Batlle Roca\n",
        "*   Jordi Biosca Caro\n",
        "\n"
      ]
    },
    {
      "cell_type": "markdown",
      "metadata": {
        "id": "6egPDBulcwVa",
        "colab_type": "text"
      },
      "source": [
        "Import of different libraries used to build the script:"
      ]
    },
    {
      "cell_type": "code",
      "metadata": {
        "id": "Y-lFDEemIpzB",
        "colab_type": "code",
        "colab": {}
      },
      "source": [
        "import torch\n",
        "\n",
        "import numpy as np\n",
        "import torchvision as tv\n",
        "import torchvision.transforms as transforms\n",
        "import torch.nn as nn\n",
        "import torch.nn.functional as F\n",
        "import matplotlib\n",
        "import matplotlib.pyplot as plt\n",
        "from torch.autograd import Variable\n",
        "from torchvision.utils import save_image\n",
        "from torchvision import datasets\n",
        "from sklearn.model_selection import train_test_split\n",
        "from sklearn.metrics import mean_squared_error\n",
        "from torch.utils.data.sampler import SubsetRandomSampler\n",
        "from tabulate import tabulate\n",
        "\n",
        "seed = 1\n",
        "torch.manual_seed(seed)\n",
        "np.random.seed(seed)"
      ],
      "execution_count": 0,
      "outputs": []
    },
    {
      "cell_type": "markdown",
      "metadata": {
        "id": "eFonJxdhcrL7",
        "colab_type": "text"
      },
      "source": [
        "Definition of hyper-parameters:"
      ]
    },
    {
      "cell_type": "code",
      "metadata": {
        "id": "yv_4HR_lGfOK",
        "colab_type": "code",
        "colab": {}
      },
      "source": [
        "hparams = {\n",
        "    'batch_size': 64,\n",
        "    'num_epochs': 5,\n",
        "    'test_batch_size': 64,\n",
        "    'hidden_size': 64,\n",
        "    'hidden_size_2': 128,\n",
        "    'hidden_size_3': 256,\n",
        "    'num_classes': 10,\n",
        "    'num_inputs': 1, \n",
        "    'learning_rate': 1e-3,\n",
        "    'log_interval': 100,\n",
        "    'num_workers': 4,\n",
        "    'kernel_size': 3,\n",
        "    'encoder_key': [1, 5, 25, 50, 100]\n",
        "}\n",
        "\n",
        "hparams['device'] = 'cuda' if torch.cuda.is_available() else 'cpu'"
      ],
      "execution_count": 0,
      "outputs": []
    },
    {
      "cell_type": "markdown",
      "metadata": {
        "id": "sRiEAKgrTkhv",
        "colab_type": "text"
      },
      "source": [
        "**STEP 1** - Load MNIST data set and split the original training data."
      ]
    },
    {
      "cell_type": "code",
      "metadata": {
        "id": "VDneYwszGBAJ",
        "colab_type": "code",
        "outputId": "9358ba4f-3316-4adf-b011-6f9c7ce23c05",
        "colab": {
          "base_uri": "https://localhost:8080/",
          "height": 271
        }
      },
      "source": [
        "mnist_trainset = datasets.MNIST('data', train=True, download=True,\n",
        "                                transform=transforms.Compose([\n",
        "                                    transforms.ToTensor(),\n",
        "                                    transforms.Normalize((0.1307,), (0.3081,))\n",
        "                                ]))\n",
        "mnist_testset = datasets.MNIST('data', train=False, \n",
        "                               transform=transforms.Compose([\n",
        "                                   transforms.ToTensor(),\n",
        "                                   transforms.Normalize((0.1307,), (0.3081,))\n",
        "                               ]))\n",
        "\n",
        "num_train = len(mnist_trainset)\n",
        "indices = list(range(num_train))\n",
        "test_size = 0.05\n",
        "split = int(np.floor(test_size * num_train))\n",
        "\n",
        "train_id, test_id = indices[split:], indices[:split]\n",
        "train_sampler = SubsetRandomSampler(train_id)\n",
        "\n",
        "test_sampler = SubsetRandomSampler(test_id)\n",
        "\n",
        "train_loader = torch.utils.data.DataLoader(mnist_trainset, \n",
        "                                           hparams['batch_size'], \n",
        "                                           shuffle=False,\n",
        "                                           sampler=train_sampler,\n",
        "                                           num_workers=hparams['num_workers'], \n",
        "                                           )\n",
        "\n",
        "test_loader = torch.utils.data.DataLoader(mnist_trainset, \n",
        "                                          hparams['batch_size'], \n",
        "                                          shuffle=False,\n",
        "                                          sampler=test_sampler,\n",
        "                                          num_workers=hparams['num_workers'], \n",
        "                                          )\n"
      ],
      "execution_count": 3,
      "outputs": [
        {
          "output_type": "stream",
          "text": [
            "\r0it [00:00, ?it/s]"
          ],
          "name": "stderr"
        },
        {
          "output_type": "stream",
          "text": [
            "Downloading http://yann.lecun.com/exdb/mnist/train-images-idx3-ubyte.gz to data/MNIST/raw/train-images-idx3-ubyte.gz\n"
          ],
          "name": "stdout"
        },
        {
          "output_type": "stream",
          "text": [
            "9920512it [00:01, 8773252.83it/s]                            \n"
          ],
          "name": "stderr"
        },
        {
          "output_type": "stream",
          "text": [
            "Extracting data/MNIST/raw/train-images-idx3-ubyte.gz to data/MNIST/raw\n"
          ],
          "name": "stdout"
        },
        {
          "output_type": "stream",
          "text": [
            "  0%|          | 0/28881 [00:00<?, ?it/s]"
          ],
          "name": "stderr"
        },
        {
          "output_type": "stream",
          "text": [
            "Downloading http://yann.lecun.com/exdb/mnist/train-labels-idx1-ubyte.gz to data/MNIST/raw/train-labels-idx1-ubyte.gz\n"
          ],
          "name": "stdout"
        },
        {
          "output_type": "stream",
          "text": [
            "32768it [00:00, 136343.84it/s]           \n",
            "  0%|          | 0/1648877 [00:00<?, ?it/s]"
          ],
          "name": "stderr"
        },
        {
          "output_type": "stream",
          "text": [
            "Extracting data/MNIST/raw/train-labels-idx1-ubyte.gz to data/MNIST/raw\n",
            "Downloading http://yann.lecun.com/exdb/mnist/t10k-images-idx3-ubyte.gz to data/MNIST/raw/t10k-images-idx3-ubyte.gz\n"
          ],
          "name": "stdout"
        },
        {
          "output_type": "stream",
          "text": [
            "1654784it [00:00, 2130625.86it/s]                            \n",
            "0it [00:00, ?it/s]"
          ],
          "name": "stderr"
        },
        {
          "output_type": "stream",
          "text": [
            "Extracting data/MNIST/raw/t10k-images-idx3-ubyte.gz to data/MNIST/raw\n",
            "Downloading http://yann.lecun.com/exdb/mnist/t10k-labels-idx1-ubyte.gz to data/MNIST/raw/t10k-labels-idx1-ubyte.gz\n"
          ],
          "name": "stdout"
        },
        {
          "output_type": "stream",
          "text": [
            "8192it [00:00, 51692.25it/s]            \n"
          ],
          "name": "stderr"
        },
        {
          "output_type": "stream",
          "text": [
            "Extracting data/MNIST/raw/t10k-labels-idx1-ubyte.gz to data/MNIST/raw\n",
            "Processing...\n",
            "Done!\n"
          ],
          "name": "stdout"
        }
      ]
    },
    {
      "cell_type": "markdown",
      "metadata": {
        "id": "xzFmV10IXelk",
        "colab_type": "text"
      },
      "source": [
        "**STEP 2** - Autoencoder."
      ]
    },
    {
      "cell_type": "code",
      "metadata": {
        "id": "LyVhvfyFI7nh",
        "colab_type": "code",
        "colab": {}
      },
      "source": [
        "class Reshape(nn.Module):\n",
        "    def __init__(self, *args):\n",
        "        super(Reshape, self).__init__()\n",
        "        self.shape = args\n",
        "\n",
        "    def forward(self, x):\n",
        "        return x.view(self.shape)\n",
        "\n",
        "\n",
        "\n",
        "\n",
        "class AutoEncoder_convolution(nn.Module):\n",
        "\n",
        "  def __init__(self, encoder_key):\n",
        "    super(AutoEncoder_convolution,self).__init__()\n",
        "\n",
        "    self.encoder = nn.Sequential(\n",
        "        nn.Conv2d(hparams['num_inputs'], hparams['hidden_size'], 4, padding=3, stride=2),\n",
        "        nn.ReLU(True),\n",
        "        nn.Conv2d(hparams['hidden_size'], hparams['hidden_size_2'], 4, padding=1, stride=2),\n",
        "        nn.ReLU(True),\n",
        "        nn.Conv2d(hparams['hidden_size_2'], hparams['hidden_size_3'], 4, stride=2),\n",
        "        nn.ReLU(True),\n",
        "        nn.MaxPool2d(2, stride=1),\n",
        "        nn.ReLU(True),\n",
        "        nn.Flatten(),\n",
        "        nn.Linear(2*2*hparams['hidden_size_3'], encoder_key)\n",
        "    )\n",
        "\n",
        "    self.decoder = nn.Sequential(\n",
        "        nn.Linear(encoder_key, 2*2*hparams['hidden_size_3']),\n",
        "        nn.ReLU(True),\n",
        "        Reshape(-1,hparams['hidden_size_3'], 2, 2),\n",
        "        nn.ConvTranspose2d(hparams['hidden_size_3'], hparams['hidden_size_2'], 3, stride=2),\n",
        "        nn.ReLU(True),\n",
        "        nn.ConvTranspose2d(hparams['hidden_size_2'], hparams['hidden_size'], 5, stride=3, padding=1),\n",
        "        nn.ReLU(True),\n",
        "        nn.ConvTranspose2d(hparams['hidden_size'], hparams['num_inputs'], 2, stride=2, padding=1),\n",
        "        nn.Tanh(),\n",
        "    )\n",
        "\n",
        "  def forward(self,x):\n",
        "    x = self.encoder(x)\n",
        "    x = self.decoder(x)\n",
        "    return x"
      ],
      "execution_count": 0,
      "outputs": []
    },
    {
      "cell_type": "markdown",
      "metadata": {
        "id": "5ZgamqWRaeC0",
        "colab_type": "text"
      },
      "source": [
        "**STEP 3** - Autoencoder training. Different bottleneck sizes. "
      ]
    },
    {
      "cell_type": "markdown",
      "metadata": {
        "id": "GkZ8fkQXcZmh",
        "colab_type": "text"
      },
      "source": [
        "We declare some variables to save the data:"
      ]
    },
    {
      "cell_type": "code",
      "metadata": {
        "id": "4RWUJIwMNgXQ",
        "colab_type": "code",
        "colab": {}
      },
      "source": [
        "losses_train = [[]for x in range(5)]\n",
        "losses_test = [[]for x in range(5)]\n",
        "model = [[]for x in range(5)]"
      ],
      "execution_count": 0,
      "outputs": []
    },
    {
      "cell_type": "code",
      "metadata": {
        "id": "u8jPVE-qm_yP",
        "colab_type": "code",
        "outputId": "d308c22c-71ed-498d-a003-667c4cd8e345",
        "colab": {
          "base_uri": "https://localhost:8080/",
          "height": 108
        }
      },
      "source": [
        "# Trainning process\n",
        "for key,i in zip(hparams['encoder_key'],range(5)):\n",
        "  model[i] = AutoEncoder_convolution(key)\n",
        "  model[i] = model[i].to(hparams['device'])\n",
        "  distance = nn.SmoothL1Loss()\n",
        "  optimizer = torch.optim.Adam(model[i].parameters(), lr=hparams['learning_rate'], weight_decay=1e-5)\n",
        "  print('BOTTLENECK: ', key)\n",
        "  for epoch in range (hparams['num_epochs']):\n",
        "    for batch_id,data in enumerate(train_loader):\n",
        "      img, _ = data\n",
        "      img = img.to(hparams['device'])\n",
        "      output = model[i](img)\n",
        "      loss = distance(output, img)\n",
        "      losses_train[i].append(loss.cpu().data.item())\n",
        "      optimizer.zero_grad() \n",
        "      loss.backward()\n",
        "      optimizer.step()\n",
        "    for data in test_loader:\n",
        "      img, _ = data\n",
        "      img = img.to(hparams['device'])\n",
        "      output = model[i](img)\n",
        "      loss = distance(output, img)\n",
        "      losses_test[i].append(loss.cpu().data.item())\n",
        "      optimizer.zero_grad() \n",
        "      loss.backward()\n",
        "      optimizer.step()"
      ],
      "execution_count": 38,
      "outputs": [
        {
          "output_type": "stream",
          "text": [
            "BOTTLENECK:  1\n",
            "BOTTLENECK:  5\n",
            "BOTTLENECK:  25\n",
            "BOTTLENECK:  50\n",
            "BOTTLENECK:  100\n"
          ],
          "name": "stdout"
        }
      ]
    },
    {
      "cell_type": "markdown",
      "metadata": {
        "id": "2vfklz9AcOnO",
        "colab_type": "text"
      },
      "source": [
        "Plot of the training and validation losses for all the encoders:"
      ]
    },
    {
      "cell_type": "code",
      "metadata": {
        "id": "MUQ0liAhAF9g",
        "colab_type": "code",
        "outputId": "98a67b11-8285-4225-bbf3-a8a7ffe725ad",
        "colab": {
          "base_uri": "https://localhost:8080/",
          "height": 297
        }
      },
      "source": [
        "fig, axs = plt.subplots(2)\n",
        "plt.ylim((0,0.5))\n",
        "axs[0].set_xlabel('Epoch')\n",
        "axs[0].set_ylabel('Loss - Train')\n",
        "axs[1].set_xlabel('Epoch')\n",
        "axs[1].set_ylabel('Loss - Test')\n",
        "for i in range(5):\n",
        "  axs[0].plot(losses_train[i], label = 'bn'+str(hparams['encoder_key'][i]))\n",
        "  axs[1].plot(losses_test[i], label = 'bn'+str(hparams['encoder_key'][i]))\n",
        "\n",
        "plt.legend()\n",
        "\n"
      ],
      "execution_count": 44,
      "outputs": [
        {
          "output_type": "execute_result",
          "data": {
            "text/plain": [
              "<matplotlib.legend.Legend at 0x7f3a818d4b38>"
            ]
          },
          "metadata": {
            "tags": []
          },
          "execution_count": 44
        },
        {
          "output_type": "display_data",
          "data": {
            "image/png": "[encoded data removed]",
            "text/plain": [
              "<Figure size 432x288 with 2 Axes>"
            ]
          },
          "metadata": {
            "tags": []
          }
        }
      ]
    },
    {
      "cell_type": "markdown",
      "metadata": {
        "id": "c6TgVX6WcHGR",
        "colab_type": "text"
      },
      "source": [
        "Evaluation of the results:"
      ]
    },
    {
      "cell_type": "code",
      "metadata": {
        "id": "UHHNPDyg_ooM",
        "colab_type": "code",
        "colab": {}
      },
      "source": [
        "loss = nn.MSELoss()\n",
        "error = [[]for x in range(5)] \n",
        "num_param = [[]for x in range(5)]\n",
        "for i in range(5):\n",
        "    mse = 0\n",
        "    for data in test_loader:\n",
        "      img, label = data\n",
        "      model[i].eval()\n",
        "      model[i].to('cpu')\n",
        "      output = model[i](img)\n",
        "      mse += loss(img, output)\n",
        "      \n",
        "    num_param[i] = sum([p.data.nelement() for p in model[i].parameters()])\n",
        "    error[i] = mse/len(test_loader)\n"
      ],
      "execution_count": 0,
      "outputs": []
    },
    {
      "cell_type": "code",
      "metadata": {
        "id": "EoIBYasMVTkk",
        "colab_type": "code",
        "outputId": "04585699-00a4-4faf-b25c-6b3605b74dba",
        "colab": {
          "base_uri": "https://localhost:8080/",
          "height": 144
        }
      },
      "source": [
        "# Table of conclusions\n",
        "print(tabulate([[hparams['encoder_key'][0],num_param[0],error[0]], \n",
        "                [hparams['encoder_key'][1],num_param[1],error[1]],\n",
        "                [hparams['encoder_key'][2],num_param[2],error[2]],\n",
        "                [hparams['encoder_key'][3],num_param[3],error[3]],\n",
        "                [hparams['encoder_key'][4],num_param[4],error[4]]], headers=['BottleNeck','# Parameters', 'MSE']))"
      ],
      "execution_count": 48,
      "outputs": [
        {
          "output_type": "stream",
          "text": [
            "  BottleNeck    # Parameters       MSE\n",
            "------------  --------------  --------\n",
            "           1          543170  0.584382\n",
            "           5          545222  0.421764\n",
            "          25          555482  0.344382\n",
            "          50          568307  0.336352\n",
            "         100          593957  0.337884\n"
          ],
          "name": "stdout"
        }
      ]
    },
    {
      "cell_type": "markdown",
      "metadata": {
        "id": "G4QjbmzobnZA",
        "colab_type": "text"
      },
      "source": [
        "Representation of the reconstruction of one autoencoder. We chose the one with the smallest MSE that best compresses the image, which corresponds to a bottleneck of size 25. (It compresses the image from 784 pixels to 100 pixels) "
      ]
    },
    {
      "cell_type": "code",
      "metadata": {
        "id": "gwL2CLAO4ZUT",
        "colab_type": "code",
        "outputId": "7de20166-39fd-48d1-86af-f40ea556ff68",
        "colab": {
          "base_uri": "https://localhost:8080/",
          "height": 252
        }
      },
      "source": [
        "\n",
        "for data in test_loader:\n",
        "    img, _ = data\n",
        "    model[2].eval()\n",
        "    model[2].to('cpu')\n",
        "    output = model[2](img)\n",
        "\n",
        "    output = output.to('cpu')\n",
        "    output = output.detach().numpy()\n",
        "\n",
        "fig, axes = plt.subplots(nrows=2, ncols=10, sharex=True, sharey=True, figsize=(25,4))\n",
        "for images, row in zip([img, output], axes):\n",
        "    for img, ax in zip(images, row):\n",
        "        ax.imshow(np.squeeze(img), cmap='gray')\n",
        "        ax.get_xaxis().set_visible(False)\n",
        "        ax.get_yaxis().set_visible(False)\n"
      ],
      "execution_count": 49,
      "outputs": [
        {
          "output_type": "display_data",
          "data": {
            "image/png": "[encoded data removed]",
            "text/plain": [
              "<Figure size 1800x288 with 20 Axes>"
            ]
          },
          "metadata": {
            "tags": []
          }
        }
      ]
    },
    {
      "cell_type": "markdown",
      "metadata": {
        "id": "YYyV8VaDb69d",
        "colab_type": "text"
      },
      "source": [
        "Generation of 5 new images by injecting random values as input."
      ]
    },
    {
      "cell_type": "code",
      "metadata": {
        "id": "KmiE856M3Vum",
        "colab_type": "code",
        "outputId": "d0c9f840-8b5a-47b9-bac1-bb604b913474",
        "colab": {
          "base_uri": "https://localhost:8080/",
          "height": 594
        }
      },
      "source": [
        "rand_img = 5*torch.rand(5,hparams['encoder_key'][2])\n",
        "# model[3].eval()\n",
        "# model[3].to('cpu')\n",
        "model = AutoEncoder_convolution(hparams['encoder_key'][2])\n",
        "model.to('cpu')\n",
        "\n",
        "output = model.decoder(rand_img)\n",
        "\n",
        "output = output.to('cpu')\n",
        "output = output.detach().numpy()\n",
        "\n",
        "fig, axes = plt.subplots(5,figsize=(10,10))\n",
        "for i in range(5):\n",
        "  axes[i].imshow(np.squeeze(output[i, :]), cmap='gray')\n"
      ],
      "execution_count": 68,
      "outputs": [
        {
          "output_type": "display_data",
          "data": {
            "image/png": "[encoded data removed]",
            "text/plain": [
              "<Figure size 720x720 with 5 Axes>"
            ]
          },
          "metadata": {
            "tags": []
          }
        }
      ]
    }
  ]
}
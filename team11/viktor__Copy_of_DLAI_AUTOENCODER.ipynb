{
  "nbformat": 4,
  "nbformat_minor": 0,
  "metadata": {
    "colab": {
      "name": "viktor_ Copy of DLAI_AUTOENCODER.ipynb",
      "provenance": [],
      "collapsed_sections": []
    },
    "kernelspec": {
      "name": "python3",
      "display_name": "Python 3"
    },
    "accelerator": "GPU"
  },
  "cells": [
    {
      "cell_type": "markdown",
      "metadata": {
        "id": "lkyWHeD9C5mJ",
        "colab_type": "text"
      },
      "source": [
        "Library Importing"
      ]
    },
    {
      "cell_type": "code",
      "metadata": {
        "id": "8nUj4_z0CupF",
        "colab_type": "code",
        "outputId": "e196f42f-8480-4939-cdca-9eb742e43ce2",
        "colab": {
          "base_uri": "https://localhost:8080/",
          "height": 280
        }
      },
      "source": [
        "import numpy as np\n",
        "import matplotlib.pyplot as plt\n",
        "import torch.nn as nn\n",
        "import torch.nn.functional as F\n",
        "%matplotlib inline\n",
        "\n",
        "import torch\n",
        "from torchvision import datasets\n",
        "import torchvision.transforms as transforms\n",
        "\n",
        "# convert data to torch.FloatTensor\n",
        "transform = transforms.ToTensor()\n",
        "\n",
        "# load the training and test datasets\n",
        "train_data = datasets.MNIST(root='data', train=True,download=True, transform=transform)\n",
        "test_data = datasets.MNIST(root='data', train=False,download=True, transform=transform)"
      ],
      "execution_count": 1,
      "outputs": [
        {
          "output_type": "stream",
          "text": [
            "\r0it [00:00, ?it/s]"
          ],
          "name": "stderr"
        },
        {
          "output_type": "stream",
          "text": [
            "Downloading http://yann.lecun.com/exdb/mnist/train-images-idx3-ubyte.gz to data/MNIST/raw/train-images-idx3-ubyte.gz\n"
          ],
          "name": "stdout"
        },
        {
          "output_type": "stream",
          "text": [
            "9920512it [00:01, 9501996.82it/s]                            \n"
          ],
          "name": "stderr"
        },
        {
          "output_type": "stream",
          "text": [
            "Extracting data/MNIST/raw/train-images-idx3-ubyte.gz to data/MNIST/raw\n"
          ],
          "name": "stdout"
        },
        {
          "output_type": "stream",
          "text": [
            "  0%|          | 0/28881 [00:00<?, ?it/s]"
          ],
          "name": "stderr"
        },
        {
          "output_type": "stream",
          "text": [
            "Downloading http://yann.lecun.com/exdb/mnist/train-labels-idx1-ubyte.gz to data/MNIST/raw/train-labels-idx1-ubyte.gz\n"
          ],
          "name": "stdout"
        },
        {
          "output_type": "stream",
          "text": [
            "32768it [00:00, 135694.87it/s]           \n",
            "  0%|          | 0/1648877 [00:00<?, ?it/s]"
          ],
          "name": "stderr"
        },
        {
          "output_type": "stream",
          "text": [
            "Extracting data/MNIST/raw/train-labels-idx1-ubyte.gz to data/MNIST/raw\n",
            "Downloading http://yann.lecun.com/exdb/mnist/t10k-images-idx3-ubyte.gz to data/MNIST/raw/t10k-images-idx3-ubyte.gz\n"
          ],
          "name": "stdout"
        },
        {
          "output_type": "stream",
          "text": [
            "1654784it [00:00, 2303267.02it/s]                            \n",
            "0it [00:00, ?it/s]"
          ],
          "name": "stderr"
        },
        {
          "output_type": "stream",
          "text": [
            "Extracting data/MNIST/raw/t10k-images-idx3-ubyte.gz to data/MNIST/raw\n",
            "Downloading http://yann.lecun.com/exdb/mnist/t10k-labels-idx1-ubyte.gz to data/MNIST/raw/t10k-labels-idx1-ubyte.gz\n"
          ],
          "name": "stdout"
        },
        {
          "output_type": "stream",
          "text": [
            "8192it [00:00, 51066.65it/s]            \n"
          ],
          "name": "stderr"
        },
        {
          "output_type": "stream",
          "text": [
            "Extracting data/MNIST/raw/t10k-labels-idx1-ubyte.gz to data/MNIST/raw\n",
            "Processing...\n",
            "Done!\n"
          ],
          "name": "stdout"
        }
      ]
    },
    {
      "cell_type": "markdown",
      "metadata": {
        "id": "9ugFSg8cJYAx",
        "colab_type": "text"
      },
      "source": [
        "Splitting The Training Set"
      ]
    },
    {
      "cell_type": "code",
      "metadata": {
        "id": "tNvx8BkVJaXH",
        "colab_type": "code",
        "outputId": "3c8893b6-8ab3-49a4-faf2-75eb9511d466",
        "colab": {
          "base_uri": "https://localhost:8080/",
          "height": 35
        }
      },
      "source": [
        "validation_size = int(0.05*len(train_data))\n",
        "training_size = int(0.95*len(train_data))\n",
        "\n",
        "train_dataset, validation_dataset = torch.utils.data.random_split(train_data, [training_size, validation_size])\n",
        "\n",
        "print(len(validation_dataset))"
      ],
      "execution_count": 2,
      "outputs": [
        {
          "output_type": "stream",
          "text": [
            "3000\n"
          ],
          "name": "stdout"
        }
      ]
    },
    {
      "cell_type": "markdown",
      "metadata": {
        "id": "qzJFXUBaDFhQ",
        "colab_type": "text"
      },
      "source": [
        "Load Data"
      ]
    },
    {
      "cell_type": "code",
      "metadata": {
        "id": "s2zRoJUGC_KN",
        "colab_type": "code",
        "colab": {}
      },
      "source": [
        "# number of subprocesses to use for data loading\n",
        "num_workers = 0\n",
        "# how many samples per batch to load\n",
        "batch_size = 20\n",
        "\n",
        "# prepare data loaders\n",
        "train_loader = torch.utils.data.DataLoader(train_dataset, batch_size=batch_size, num_workers=num_workers)\n",
        "validation_loader = torch.utils.data.DataLoader(validation_dataset, batch_size=batch_size, num_workers=num_workers)\n",
        "test_loader = torch.utils.data.DataLoader(test_data, batch_size=batch_size, num_workers=num_workers,shuffle=True)"
      ],
      "execution_count": 0,
      "outputs": []
    },
    {
      "cell_type": "markdown",
      "metadata": {
        "id": "ElduB3PHDHvL",
        "colab_type": "text"
      },
      "source": [
        "Visualize Data"
      ]
    },
    {
      "cell_type": "markdown",
      "metadata": {
        "id": "G_TYk7f_UWzb",
        "colab_type": "text"
      },
      "source": [
        "Encoder & Decoder in Different Modules with bottleneck value passed in"
      ]
    },
    {
      "cell_type": "code",
      "metadata": {
        "id": "lTzyLyxoUaHW",
        "colab_type": "code",
        "colab": {}
      },
      "source": [
        "class Encoder(nn.Module):\n",
        "\n",
        "   def __init__(self,bottleneck):\n",
        "     super().__init__()\n",
        "\n",
        "     self.conv1 = nn.Conv2d(1,16,3,padding=1)\n",
        "     self.conv2 = nn.Conv2d(16,bottleneck,3,padding=1)\n",
        "     self.pool  = nn.MaxPool2d(2,2)\n",
        "\n",
        "   def forward(self,x):\n",
        "        ## encode ##\n",
        "        # add hidden layers with relu activation function\n",
        "        # and maxpooling after\n",
        "        x = F.relu(self.conv1(x))\n",
        "        x = self.pool(x)\n",
        "        # add second hidden layer\n",
        "        x = F.relu(self.conv2(x))\n",
        "        x = self.pool(x)  # compressed representation\n",
        "        return x\n",
        "\n",
        "class Decoder(nn.Module):\n",
        "\n",
        "   def __init__(self,bottleneck):\n",
        "     super().__init__()\n",
        "\n",
        "     ## decoder layers ##\n",
        "     ## a kernel of 2 and a stride of 2 will increase the spatial dims by 2\n",
        "     self.t_conv1 = nn.ConvTranspose2d(bottleneck, 16, 2, stride=2)\n",
        "     self.t_conv2 = nn.ConvTranspose2d(16, 1, 2, stride=2)\n",
        "     \n",
        "       \n",
        "\n",
        "   def forward(self,x):\n",
        "     ## decode ##\n",
        "     # add transpose conv layers, with relu activation function\n",
        "     x = F.relu(self.t_conv1(x))\n",
        "     # output layer (with sigmoid for scaling from 0 to 1)\n",
        "     x = F.sigmoid(self.t_conv2(x))\n",
        "            \n",
        "     return x\n",
        "\n",
        "class Concatenator(nn.Module):\n",
        "\n",
        "  def __init__(self, enc, dec):\n",
        "    super().__init__()\n",
        "\n",
        "    self.encoder = enc\n",
        "    self.decoder = dec\n",
        "\n",
        "  def forward(self,x):\n",
        "    #encode\n",
        "    x = self.encoder(x)\n",
        "    y = self.decoder(x)\n",
        "\n",
        "    return y\n",
        "\n"
      ],
      "execution_count": 0,
      "outputs": []
    },
    {
      "cell_type": "markdown",
      "metadata": {
        "id": "4r_NUGcuDaI-",
        "colab_type": "text"
      },
      "source": [
        "Training           have not done for different bottlenecks"
      ]
    },
    {
      "cell_type": "code",
      "metadata": {
        "id": "xqeTP8_6Da_q",
        "colab_type": "code",
        "outputId": "2e522b3a-ae80-401f-9fef-f181ba414fea",
        "colab": {
          "base_uri": "https://localhost:8080/",
          "height": 176
        }
      },
      "source": [
        "# Loss function\n",
        "criterion = nn.MSELoss()\n",
        "\n",
        "encoder = Encoder(3)\n",
        "decoder = Decoder(3)\n",
        "model = Concatenator(encoder,decoder)\n",
        "\n",
        "# Optimizer\n",
        "optimizer = torch.optim.Adam(model.parameters(), lr=0.001)\n",
        "train_losses, val_losses = [], []\n",
        "epochs = 3\n",
        "\n",
        "for e in range(1, epochs+1):\n",
        "    train_loss = 0.0  # monitor training loss\n",
        "    validation_loss = 0.0 \n",
        "    for data in train_loader:\n",
        "     \n",
        "      images, _ = data                        # we are just intrested in just images\n",
        "      # no need to flatten images\n",
        "      optimizer.zero_grad()                   # clear the gradients\n",
        "      outputs = model(images)                 # forward pass: compute predicted outputs \n",
        "      loss = criterion(outputs, images)       # calculate the loss\n",
        "      loss.backward()                         # backward pass\n",
        "      optimizer.step()                        # perform optimization step\n",
        "      train_loss += loss.item()*images.size(0)# update running training loss\n",
        "\n",
        "    for data in validation_loader:\n",
        "      model.eval()\n",
        "      images, _ = data                        # we are just intrested in just images\n",
        "      #no need to flatten images\n",
        "      outputs = model(images)                 # forward pass: compute predicted outputs \n",
        "      loss = criterion(outputs, images)       # calculate the loss\n",
        "      validation_loss += loss.item()*images.size(0)# update running training loss\n",
        "        \n",
        "    # print avg training statistics \n",
        "    train_loss = train_loss/len(train_loader)\n",
        "    print('Epoch: {}'.format(e),\n",
        "              '\\tTraining Loss: {:.4f}'.format(train_loss))\n",
        "    validation_loss = validation_loss/len(validation_loader)\n",
        "    print('Epoch: {}'.format(e),\n",
        "              '\\tValidation Loss: {:.4f}'.format(validation_loss))\n",
        "    train_losses.append(train_loss)\n",
        "    val_losses.append(validation_loss)    \n",
        "   #bottleneck = bottleneck +3\n",
        "   #print (bottlneck)"
      ],
      "execution_count": 5,
      "outputs": [
        {
          "output_type": "stream",
          "text": [
            "/usr/local/lib/python3.6/dist-packages/torch/nn/functional.py:1351: UserWarning: nn.functional.sigmoid is deprecated. Use torch.sigmoid instead.\n",
            "  warnings.warn(\"nn.functional.sigmoid is deprecated. Use torch.sigmoid instead.\")\n"
          ],
          "name": "stderr"
        },
        {
          "output_type": "stream",
          "text": [
            "Epoch: 1 \tTraining Loss: 0.8654\n",
            "Epoch: 1 \tValidation Loss: 0.5907\n",
            "Epoch: 2 \tTraining Loss: 0.5609\n",
            "Epoch: 2 \tValidation Loss: 0.5210\n",
            "Epoch: 3 \tTraining Loss: 0.4789\n",
            "Epoch: 3 \tValidation Loss: 0.4547\n"
          ],
          "name": "stdout"
        }
      ]
    },
    {
      "cell_type": "markdown",
      "metadata": {
        "id": "31D0p7Too7JS",
        "colab_type": "text"
      },
      "source": [
        "\n",
        "\n",
        "plot val and train loss       plot for diff bottlenecks       "
      ]
    },
    {
      "cell_type": "code",
      "metadata": {
        "id": "8zILV6J3o_nB",
        "colab_type": "code",
        "outputId": "cb60eb44-35ec-4d14-c368-4fba86c25a62",
        "colab": {
          "base_uri": "https://localhost:8080/",
          "height": 283
        }
      },
      "source": [
        "import matplotlib.pyplot as plt\n",
        "\n",
        "plt.plot(train_losses, label='train')\n",
        "plt.plot(val_losses, label='val')\n",
        "plt.legend()"
      ],
      "execution_count": 0,
      "outputs": [
        {
          "output_type": "execute_result",
          "data": {
            "text/plain": [
              "<matplotlib.legend.Legend at 0x7fc605413898>"
            ]
          },
          "metadata": {
            "tags": []
          },
          "execution_count": 6
        },
        {
          "output_type": "display_data",
          "data": {
            "image/png": "[encoded data removed]",
            "text/plain": [
              "<Figure size 432x288 with 1 Axes>"
            ]
          },
          "metadata": {
            "tags": []
          }
        }
      ]
    },
    {
      "cell_type": "markdown",
      "metadata": {
        "id": "4F44JkEsgc5C",
        "colab_type": "text"
      },
      "source": [
        "Test Loss           compute for validation as well"
      ]
    },
    {
      "cell_type": "code",
      "metadata": {
        "id": "XNBZHdNegeFt",
        "colab_type": "code",
        "outputId": "9abbd023-a463-40eb-9c2c-993aa6144ccd",
        "colab": {
          "base_uri": "https://localhost:8080/",
          "height": 107
        }
      },
      "source": [
        "test_loss=0.0\n",
        "for data in test_loader:\n",
        "  images, _ = data                        # we are just intrested in just images\n",
        "  # no need to flatten images\n",
        "  optimizer.zero_grad()                   # clear the gradients\n",
        "  outputs = model(images)                 # forward pass: compute predicted outputs \n",
        "  loss = criterion(outputs, images)       # calculate the loss\n",
        "  test_loss += loss.item()*images.size(0)\n",
        "        \n",
        "test_loss = test_loss/len(test_loader)\n",
        "print(test_loss)\n",
        "\n",
        "pytorch_total_params = sum(p.numel() for p in model.parameters() if p.requires_grad)\n",
        "\n",
        "print(pytorch_total_params)\n",
        "\n",
        "\n"
      ],
      "execution_count": 8,
      "outputs": [
        {
          "output_type": "stream",
          "text": [
            "/usr/local/lib/python3.6/dist-packages/torch/nn/functional.py:1351: UserWarning: nn.functional.sigmoid is deprecated. Use torch.sigmoid instead.\n",
            "  warnings.warn(\"nn.functional.sigmoid is deprecated. Use torch.sigmoid instead.\")\n"
          ],
          "name": "stderr"
        },
        {
          "output_type": "stream",
          "text": [
            "0.45185260772705077\n",
            "868\n"
          ],
          "name": "stdout"
        }
      ]
    },
    {
      "cell_type": "markdown",
      "metadata": {
        "id": "87pI_tLJyxE6",
        "colab_type": "text"
      },
      "source": [
        "5.                              for model with some bottleneck"
      ]
    },
    {
      "cell_type": "code",
      "metadata": {
        "id": "NHPgTdeIywME",
        "colab_type": "code",
        "outputId": "a6d1457f-0f19-4ab1-ff1c-3ceb6dfc1964",
        "colab": {
          "base_uri": "https://localhost:8080/",
          "height": 307
        }
      },
      "source": [
        "# Lets get batch of test images\n",
        "\n",
        "import random\n",
        "dataiter = iter(test_loader)\n",
        "\n",
        "images, labels = dataiter.next()\n",
        "\n",
        "\n",
        "\n",
        "output = model(images)                     # get sample outputs\n",
        "images = images.numpy() \n",
        "\n",
        "\n",
        "                  # prep images for display\n",
        "output = output.view(batch_size, 1, 28, 28)# resizing output\n",
        "output = output.detach().numpy()           # use detach when it's an output that requires_grad\n",
        "\n",
        "\n",
        "\n",
        "\n",
        "# plot the first ten input images and then reconstructed images\n",
        "fig, axes = plt.subplots(nrows=2, ncols=5, sharex=True, sharey=True, figsize=(25,4))\n",
        "# input images on top row, reconstructions on bottom\n",
        "for images, row in zip([images, output], axes):\n",
        "    for img, ax in zip(images, row):\n",
        "        ax.imshow(np.squeeze(img), cmap='gray')\n",
        "        ax.get_xaxis().set_visible(False)\n",
        "        ax.get_yaxis().set_visible(False)\n"
      ],
      "execution_count": 0,
      "outputs": [
        {
          "output_type": "stream",
          "text": [
            "/usr/local/lib/python3.6/dist-packages/torch/nn/functional.py:1351: UserWarning: nn.functional.sigmoid is deprecated. Use torch.sigmoid instead.\n",
            "  warnings.warn(\"nn.functional.sigmoid is deprecated. Use torch.sigmoid instead.\")\n"
          ],
          "name": "stderr"
        },
        {
          "output_type": "display_data",
          "data": {
            "image/png": "[encoded data removed]",
            "text/plain": [
              "<Figure size 1800x288 with 10 Axes>"
            ]
          },
          "metadata": {
            "tags": []
          }
        }
      ]
    },
    {
      "cell_type": "markdown",
      "metadata": {
        "id": "VHJJBhTMzCzs",
        "colab_type": "text"
      },
      "source": [
        "6. Generate 5 new images by injecting random values as input to the decoder. Show them.\n"
      ]
    },
    {
      "cell_type": "code",
      "metadata": {
        "id": "z-_w1mLpzDit",
        "colab_type": "code",
        "outputId": "6af6119e-a77b-476a-f565-8a8c96a4927f",
        "colab": {
          "base_uri": "https://localhost:8080/",
          "height": 687
        }
      },
      "source": [
        "input = torch.rand(6,3,28,28)\n",
        "#output = decoder(input)\n",
        "output = output.detach().numpy()\n",
        "\n",
        "fig, axes = plt.subplots(nrows=2, ncols=5, sharex=True, sharey=True, figsize=(25,4))\n",
        "\n",
        "for i in range(5):\n",
        "  axes[0][i].imshow(np.squeeze(input[i]),cmap = 'gray')\n",
        "  axes[1][i].imshow(np.squeeze(input[i]),cmap = 'gray')\n",
        "\n",
        "fig.show()"
      ],
      "execution_count": 0,
      "outputs": [
        {
          "output_type": "stream",
          "text": [
            "/usr/local/lib/python3.6/dist-packages/torch/nn/functional.py:1351: UserWarning: nn.functional.sigmoid is deprecated. Use torch.sigmoid instead.\n",
            "  warnings.warn(\"nn.functional.sigmoid is deprecated. Use torch.sigmoid instead.\")\n"
          ],
          "name": "stderr"
        },
        {
          "output_type": "error",
          "ename": "TypeError",
          "evalue": "ignored",
          "traceback": [
            "\u001b[0;31m---------------------------------------------------------------------------\u001b[0m",
            "\u001b[0;31mTypeError\u001b[0m                                 Traceback (most recent call last)",
            "\u001b[0;32m<ipython-input-9-bfcdefd759c8>\u001b[0m in \u001b[0;36m<module>\u001b[0;34m()\u001b[0m\n\u001b[1;32m      6\u001b[0m \u001b[0;34m\u001b[0m\u001b[0m\n\u001b[1;32m      7\u001b[0m \u001b[0;32mfor\u001b[0m \u001b[0mi\u001b[0m \u001b[0;32min\u001b[0m \u001b[0mrange\u001b[0m\u001b[0;34m(\u001b[0m\u001b[0;36m5\u001b[0m\u001b[0;34m)\u001b[0m\u001b[0;34m:\u001b[0m\u001b[0;34m\u001b[0m\u001b[0;34m\u001b[0m\u001b[0m\n\u001b[0;32m----> 8\u001b[0;31m   \u001b[0maxes\u001b[0m\u001b[0;34m[\u001b[0m\u001b[0;36m0\u001b[0m\u001b[0;34m]\u001b[0m\u001b[0;34m[\u001b[0m\u001b[0mi\u001b[0m\u001b[0;34m]\u001b[0m\u001b[0;34m.\u001b[0m\u001b[0mimshow\u001b[0m\u001b[0;34m(\u001b[0m\u001b[0mnp\u001b[0m\u001b[0;34m.\u001b[0m\u001b[0msqueeze\u001b[0m\u001b[0;34m(\u001b[0m\u001b[0minput\u001b[0m\u001b[0;34m[\u001b[0m\u001b[0mi\u001b[0m\u001b[0;34m]\u001b[0m\u001b[0;34m)\u001b[0m\u001b[0;34m,\u001b[0m\u001b[0mcmap\u001b[0m \u001b[0;34m=\u001b[0m \u001b[0;34m'gray'\u001b[0m\u001b[0;34m)\u001b[0m\u001b[0;34m\u001b[0m\u001b[0;34m\u001b[0m\u001b[0m\n\u001b[0m\u001b[1;32m      9\u001b[0m   \u001b[0maxes\u001b[0m\u001b[0;34m[\u001b[0m\u001b[0;36m1\u001b[0m\u001b[0;34m]\u001b[0m\u001b[0;34m[\u001b[0m\u001b[0mi\u001b[0m\u001b[0;34m]\u001b[0m\u001b[0;34m.\u001b[0m\u001b[0mimshow\u001b[0m\u001b[0;34m(\u001b[0m\u001b[0mnp\u001b[0m\u001b[0;34m.\u001b[0m\u001b[0msqueeze\u001b[0m\u001b[0;34m(\u001b[0m\u001b[0minput\u001b[0m\u001b[0;34m[\u001b[0m\u001b[0mi\u001b[0m\u001b[0;34m]\u001b[0m\u001b[0;34m)\u001b[0m\u001b[0;34m,\u001b[0m\u001b[0mcmap\u001b[0m \u001b[0;34m=\u001b[0m \u001b[0;34m'gray'\u001b[0m\u001b[0;34m)\u001b[0m\u001b[0;34m\u001b[0m\u001b[0;34m\u001b[0m\u001b[0m\n\u001b[1;32m     10\u001b[0m \u001b[0;34m\u001b[0m\u001b[0m\n",
            "\u001b[0;32m/usr/local/lib/python3.6/dist-packages/matplotlib/__init__.py\u001b[0m in \u001b[0;36minner\u001b[0;34m(ax, data, *args, **kwargs)\u001b[0m\n\u001b[1;32m   1597\u001b[0m     \u001b[0;32mdef\u001b[0m \u001b[0minner\u001b[0m\u001b[0;34m(\u001b[0m\u001b[0max\u001b[0m\u001b[0;34m,\u001b[0m \u001b[0;34m*\u001b[0m\u001b[0margs\u001b[0m\u001b[0;34m,\u001b[0m \u001b[0mdata\u001b[0m\u001b[0;34m=\u001b[0m\u001b[0;32mNone\u001b[0m\u001b[0;34m,\u001b[0m \u001b[0;34m**\u001b[0m\u001b[0mkwargs\u001b[0m\u001b[0;34m)\u001b[0m\u001b[0;34m:\u001b[0m\u001b[0;34m\u001b[0m\u001b[0;34m\u001b[0m\u001b[0m\n\u001b[1;32m   1598\u001b[0m         \u001b[0;32mif\u001b[0m \u001b[0mdata\u001b[0m \u001b[0;32mis\u001b[0m \u001b[0;32mNone\u001b[0m\u001b[0;34m:\u001b[0m\u001b[0;34m\u001b[0m\u001b[0;34m\u001b[0m\u001b[0m\n\u001b[0;32m-> 1599\u001b[0;31m             \u001b[0;32mreturn\u001b[0m \u001b[0mfunc\u001b[0m\u001b[0;34m(\u001b[0m\u001b[0max\u001b[0m\u001b[0;34m,\u001b[0m \u001b[0;34m*\u001b[0m\u001b[0mmap\u001b[0m\u001b[0;34m(\u001b[0m\u001b[0msanitize_sequence\u001b[0m\u001b[0;34m,\u001b[0m \u001b[0margs\u001b[0m\u001b[0;34m)\u001b[0m\u001b[0;34m,\u001b[0m \u001b[0;34m**\u001b[0m\u001b[0mkwargs\u001b[0m\u001b[0;34m)\u001b[0m\u001b[0;34m\u001b[0m\u001b[0;34m\u001b[0m\u001b[0m\n\u001b[0m\u001b[1;32m   1600\u001b[0m \u001b[0;34m\u001b[0m\u001b[0m\n\u001b[1;32m   1601\u001b[0m         \u001b[0mbound\u001b[0m \u001b[0;34m=\u001b[0m \u001b[0mnew_sig\u001b[0m\u001b[0;34m.\u001b[0m\u001b[0mbind\u001b[0m\u001b[0;34m(\u001b[0m\u001b[0max\u001b[0m\u001b[0;34m,\u001b[0m \u001b[0;34m*\u001b[0m\u001b[0margs\u001b[0m\u001b[0;34m,\u001b[0m \u001b[0;34m**\u001b[0m\u001b[0mkwargs\u001b[0m\u001b[0;34m)\u001b[0m\u001b[0;34m\u001b[0m\u001b[0;34m\u001b[0m\u001b[0m\n",
            "\u001b[0;32m/usr/local/lib/python3.6/dist-packages/matplotlib/cbook/deprecation.py\u001b[0m in \u001b[0;36mwrapper\u001b[0;34m(*args, **kwargs)\u001b[0m\n\u001b[1;32m    367\u001b[0m                 \u001b[0;34mf\"%(removal)s.  If any parameter follows {name!r}, they \"\u001b[0m\u001b[0;34m\u001b[0m\u001b[0;34m\u001b[0m\u001b[0m\n\u001b[1;32m    368\u001b[0m                 f\"should be pass as keyword, not positionally.\")\n\u001b[0;32m--> 369\u001b[0;31m         \u001b[0;32mreturn\u001b[0m \u001b[0mfunc\u001b[0m\u001b[0;34m(\u001b[0m\u001b[0;34m*\u001b[0m\u001b[0margs\u001b[0m\u001b[0;34m,\u001b[0m \u001b[0;34m**\u001b[0m\u001b[0mkwargs\u001b[0m\u001b[0;34m)\u001b[0m\u001b[0;34m\u001b[0m\u001b[0;34m\u001b[0m\u001b[0m\n\u001b[0m\u001b[1;32m    370\u001b[0m \u001b[0;34m\u001b[0m\u001b[0m\n\u001b[1;32m    371\u001b[0m     \u001b[0;32mreturn\u001b[0m \u001b[0mwrapper\u001b[0m\u001b[0;34m\u001b[0m\u001b[0;34m\u001b[0m\u001b[0m\n",
            "\u001b[0;32m/usr/local/lib/python3.6/dist-packages/matplotlib/cbook/deprecation.py\u001b[0m in \u001b[0;36mwrapper\u001b[0;34m(*args, **kwargs)\u001b[0m\n\u001b[1;32m    367\u001b[0m                 \u001b[0;34mf\"%(removal)s.  If any parameter follows {name!r}, they \"\u001b[0m\u001b[0;34m\u001b[0m\u001b[0;34m\u001b[0m\u001b[0m\n\u001b[1;32m    368\u001b[0m                 f\"should be pass as keyword, not positionally.\")\n\u001b[0;32m--> 369\u001b[0;31m         \u001b[0;32mreturn\u001b[0m \u001b[0mfunc\u001b[0m\u001b[0;34m(\u001b[0m\u001b[0;34m*\u001b[0m\u001b[0margs\u001b[0m\u001b[0;34m,\u001b[0m \u001b[0;34m**\u001b[0m\u001b[0mkwargs\u001b[0m\u001b[0;34m)\u001b[0m\u001b[0;34m\u001b[0m\u001b[0;34m\u001b[0m\u001b[0m\n\u001b[0m\u001b[1;32m    370\u001b[0m \u001b[0;34m\u001b[0m\u001b[0m\n\u001b[1;32m    371\u001b[0m     \u001b[0;32mreturn\u001b[0m \u001b[0mwrapper\u001b[0m\u001b[0;34m\u001b[0m\u001b[0;34m\u001b[0m\u001b[0m\n",
            "\u001b[0;32m/usr/local/lib/python3.6/dist-packages/matplotlib/axes/_axes.py\u001b[0m in \u001b[0;36mimshow\u001b[0;34m(self, X, cmap, norm, aspect, interpolation, alpha, vmin, vmax, origin, extent, shape, filternorm, filterrad, imlim, resample, url, **kwargs)\u001b[0m\n\u001b[1;32m   5677\u001b[0m                               resample=resample, **kwargs)\n\u001b[1;32m   5678\u001b[0m \u001b[0;34m\u001b[0m\u001b[0m\n\u001b[0;32m-> 5679\u001b[0;31m         \u001b[0mim\u001b[0m\u001b[0;34m.\u001b[0m\u001b[0mset_data\u001b[0m\u001b[0;34m(\u001b[0m\u001b[0mX\u001b[0m\u001b[0;34m)\u001b[0m\u001b[0;34m\u001b[0m\u001b[0;34m\u001b[0m\u001b[0m\n\u001b[0m\u001b[1;32m   5680\u001b[0m         \u001b[0mim\u001b[0m\u001b[0;34m.\u001b[0m\u001b[0mset_alpha\u001b[0m\u001b[0;34m(\u001b[0m\u001b[0malpha\u001b[0m\u001b[0;34m)\u001b[0m\u001b[0;34m\u001b[0m\u001b[0;34m\u001b[0m\u001b[0m\n\u001b[1;32m   5681\u001b[0m         \u001b[0;32mif\u001b[0m \u001b[0mim\u001b[0m\u001b[0;34m.\u001b[0m\u001b[0mget_clip_path\u001b[0m\u001b[0;34m(\u001b[0m\u001b[0;34m)\u001b[0m \u001b[0;32mis\u001b[0m \u001b[0;32mNone\u001b[0m\u001b[0;34m:\u001b[0m\u001b[0;34m\u001b[0m\u001b[0;34m\u001b[0m\u001b[0m\n",
            "\u001b[0;32m/usr/local/lib/python3.6/dist-packages/matplotlib/image.py\u001b[0m in \u001b[0;36mset_data\u001b[0;34m(self, A)\u001b[0m\n\u001b[1;32m    688\u001b[0m                 or self._A.ndim == 3 and self._A.shape[-1] in [3, 4]):\n\u001b[1;32m    689\u001b[0m             raise TypeError(\"Invalid shape {} for image data\"\n\u001b[0;32m--> 690\u001b[0;31m                             .format(self._A.shape))\n\u001b[0m\u001b[1;32m    691\u001b[0m \u001b[0;34m\u001b[0m\u001b[0m\n\u001b[1;32m    692\u001b[0m         \u001b[0;32mif\u001b[0m \u001b[0mself\u001b[0m\u001b[0;34m.\u001b[0m\u001b[0m_A\u001b[0m\u001b[0;34m.\u001b[0m\u001b[0mndim\u001b[0m \u001b[0;34m==\u001b[0m \u001b[0;36m3\u001b[0m\u001b[0;34m:\u001b[0m\u001b[0;34m\u001b[0m\u001b[0;34m\u001b[0m\u001b[0m\n",
            "\u001b[0;31mTypeError\u001b[0m: Invalid shape (3, 28, 28) for image data"
          ]
        },
        {
          "output_type": "display_data",
          "data": {
            "image/png": "[encoded data removed]",
            "text/plain": [
              "<Figure size 1800x288 with 10 Axes>"
            ]
          },
          "metadata": {
            "tags": []
          }
        }
      ]
    },
    {
      "cell_type": "markdown",
      "metadata": {
        "id": "bHL5xdA0Z9yY",
        "colab_type": "text"
      },
      "source": [
        "Excersice 2\n"
      ]
    },
    {
      "cell_type": "markdown",
      "metadata": {
        "id": "akjWNJPdRAr_",
        "colab_type": "text"
      },
      "source": [
        "Select subset of 100 images & labels"
      ]
    },
    {
      "cell_type": "code",
      "metadata": {
        "id": "AeRwhhz-aACs",
        "colab_type": "code",
        "colab": {}
      },
      "source": [
        "subset  = torch.utils.data.Subset(train_dataset, range(0, 100))\n",
        "len(subset)\n",
        "subset_loader = torch.utils.data.DataLoader(subset, batch_size=batch_size, num_workers=num_workers)\n",
        "\n"
      ],
      "execution_count": 0,
      "outputs": []
    },
    {
      "cell_type": "markdown",
      "metadata": {
        "id": "O19D00rUc2Cy",
        "colab_type": "text"
      },
      "source": [
        "select one of the autoencoder"
      ]
    },
    {
      "cell_type": "code",
      "metadata": {
        "id": "3AjRTGvOc4W4",
        "colab_type": "code",
        "colab": {}
      },
      "source": [
        "enc = Encoder(3)\n"
      ],
      "execution_count": 0,
      "outputs": []
    },
    {
      "cell_type": "markdown",
      "metadata": {
        "id": "EX-z93i1Rc8P",
        "colab_type": "text"
      },
      "source": [
        "create the classification model"
      ]
    },
    {
      "cell_type": "code",
      "metadata": {
        "id": "HLPUbOa-oAOH",
        "colab_type": "code",
        "colab": {}
      },
      "source": [
        "model_classifier =    nn.Sequential( nn.Linear(3*7*7,10),\n",
        "                      nn.LogSoftmax(-1)\n",
        "                      )\n",
        "\n",
        "#model_2 = nn.Sequential(encoder,\n",
        " #                       nn.Flatten(),\n",
        "  #                      nn.Linear(3*7*7,10),\n",
        "    #                    nn.LogSoftmax(-1)\n",
        "   #                     )\n",
        "\n",
        "model_2 = nn.Sequential(encoder,\n",
        "                        nn.Flatten(),\n",
        "                        model_classifier)"
      ],
      "execution_count": 0,
      "outputs": []
    },
    {
      "cell_type": "markdown",
      "metadata": {
        "id": "G6_FZcH7e3GH",
        "colab_type": "text"
      },
      "source": [
        "Train the classifer"
      ]
    },
    {
      "cell_type": "code",
      "metadata": {
        "id": "XpJlkh9te4jT",
        "colab_type": "code",
        "outputId": "8b9e8c0f-f6c0-4b67-e8b3-637da6ccf813",
        "colab": {
          "base_uri": "https://localhost:8080/",
          "height": 884
        }
      },
      "source": [
        "criterion = F.nll_loss\n",
        "\n",
        "# Optimizer\n",
        "#optimizer = torch.optim.Adam(model_2.parameters(), lr=0.001)\n",
        "optimizer = torch.optim.RMSprop(model_2.parameters(), lr=0.001)\n",
        "train_losses, val_losses = [],[]\n",
        "epochs = 10\n",
        "model_2.train()\n",
        "for e in range(1, epochs+1):\n",
        "    train_loss = 0.0  # monitor training loss\n",
        "    for data in subset_loader:\n",
        "     \n",
        "      images, labels = data                        # we are just intrested in just images & labels\n",
        "      optimizer.zero_grad()                        # clear the gradients\n",
        "      outputs = model_2(images)                    # forward pass: compute predicted outputs \n",
        "      loss = criterion(outputs, labels)           # calculate the loss\n",
        "      loss.backward()                             # backward pass\n",
        "      optimizer.step()                             # perform optimization step\n",
        "      train_loss += loss.item()*images.size(0)     # update running training loss\n",
        "\n",
        "      train_loss = train_loss/len(train_loader)\n",
        "      print('Epoch: {}'.format(e),\n",
        "              '\\tTraining Loss: {:.4f}'.format(train_loss))\n",
        "      train_losses.append(train_loss)\n",
        "   #bottleneck = bottleneck +3\n",
        "   #print (bottlneck)\n",
        "\n"
      ],
      "execution_count": 16,
      "outputs": [
        {
          "output_type": "stream",
          "text": [
            "Epoch: 1 \tTraining Loss: 0.0031\n",
            "Epoch: 1 \tTraining Loss: 0.0330\n",
            "Epoch: 1 \tTraining Loss: 0.0127\n",
            "Epoch: 1 \tTraining Loss: 0.0032\n",
            "Epoch: 1 \tTraining Loss: 0.0044\n",
            "Epoch: 2 \tTraining Loss: 0.0031\n",
            "Epoch: 2 \tTraining Loss: 0.0053\n",
            "Epoch: 2 \tTraining Loss: 0.0038\n",
            "Epoch: 2 \tTraining Loss: 0.0027\n",
            "Epoch: 2 \tTraining Loss: 0.0033\n",
            "Epoch: 3 \tTraining Loss: 0.0027\n",
            "Epoch: 3 \tTraining Loss: 0.0043\n",
            "Epoch: 3 \tTraining Loss: 0.0031\n",
            "Epoch: 3 \tTraining Loss: 0.0022\n",
            "Epoch: 3 \tTraining Loss: 0.0027\n",
            "Epoch: 4 \tTraining Loss: 0.0024\n",
            "Epoch: 4 \tTraining Loss: 0.0038\n",
            "Epoch: 4 \tTraining Loss: 0.0027\n",
            "Epoch: 4 \tTraining Loss: 0.0019\n",
            "Epoch: 4 \tTraining Loss: 0.0023\n",
            "Epoch: 5 \tTraining Loss: 0.0022\n",
            "Epoch: 5 \tTraining Loss: 0.0034\n",
            "Epoch: 5 \tTraining Loss: 0.0024\n",
            "Epoch: 5 \tTraining Loss: 0.0017\n",
            "Epoch: 5 \tTraining Loss: 0.0020\n",
            "Epoch: 6 \tTraining Loss: 0.0020\n",
            "Epoch: 6 \tTraining Loss: 0.0030\n",
            "Epoch: 6 \tTraining Loss: 0.0022\n",
            "Epoch: 6 \tTraining Loss: 0.0016\n",
            "Epoch: 6 \tTraining Loss: 0.0018\n",
            "Epoch: 7 \tTraining Loss: 0.0018\n",
            "Epoch: 7 \tTraining Loss: 0.0028\n",
            "Epoch: 7 \tTraining Loss: 0.0020\n",
            "Epoch: 7 \tTraining Loss: 0.0015\n",
            "Epoch: 7 \tTraining Loss: 0.0016\n",
            "Epoch: 8 \tTraining Loss: 0.0017\n",
            "Epoch: 8 \tTraining Loss: 0.0025\n",
            "Epoch: 8 \tTraining Loss: 0.0018\n",
            "Epoch: 8 \tTraining Loss: 0.0014\n",
            "Epoch: 8 \tTraining Loss: 0.0015\n",
            "Epoch: 9 \tTraining Loss: 0.0015\n",
            "Epoch: 9 \tTraining Loss: 0.0023\n",
            "Epoch: 9 \tTraining Loss: 0.0017\n",
            "Epoch: 9 \tTraining Loss: 0.0014\n",
            "Epoch: 9 \tTraining Loss: 0.0013\n",
            "Epoch: 10 \tTraining Loss: 0.0014\n",
            "Epoch: 10 \tTraining Loss: 0.0021\n",
            "Epoch: 10 \tTraining Loss: 0.0015\n",
            "Epoch: 10 \tTraining Loss: 0.0013\n",
            "Epoch: 10 \tTraining Loss: 0.0012\n"
          ],
          "name": "stdout"
        }
      ]
    },
    {
      "cell_type": "markdown",
      "metadata": {
        "id": "7LTQ8ezsmO2S",
        "colab_type": "text"
      },
      "source": [
        "5. Fine tuning"
      ]
    },
    {
      "cell_type": "code",
      "metadata": {
        "id": "dmGv7kb5mQoM",
        "colab_type": "code",
        "outputId": "2010e68f-1dfe-4fc0-e8ce-f28e3a948991",
        "colab": {
          "base_uri": "https://localhost:8080/",
          "height": 884
        }
      },
      "source": [
        "criterion = F.nll_loss\n",
        "\n",
        "# Optimizer\n",
        "optimizer = torch.optim.Adam(encoder.parameters(), lr=0.00000001)\n",
        "optimizer1 = torch.optim.Adam(model_classifier.parameters(), lr=0.001)\n",
        "#optimizer = torch.optim.RMSprop(model_2.parameters(), lr=0.001)\n",
        "\n",
        "train_losses, val_losses = [],[]\n",
        "epochs = 10\n",
        "model_2.train()\n",
        "for e in range(1, epochs+1):\n",
        "    train_loss = 0.0  # monitor training loss\n",
        "    for data in subset_loader:\n",
        "     \n",
        "      images, labels = data                        # we are just intrested in just images & labels\n",
        "      optimizer.zero_grad()                        # clear the gradients\n",
        "      optimizer1.zero_grad()                        # clear the gradients\n",
        "      outputs = model_2(images)                    # forward pass: compute predicted outputs \n",
        "      loss = criterion(outputs, labels)           # calculate the loss\n",
        "      loss.backward()                             # backward pass\n",
        "      optimizer.step()                             # perform optimization step\n",
        "      optimizer1.step()\n",
        "      train_loss += loss.item()*images.size(0)     # update running training loss\n",
        "\n",
        "      train_loss = train_loss/len(train_loader)\n",
        "      print('Epoch: {}'.format(e),\n",
        "              '\\tTraining Loss: {:.4f}'.format(train_loss))\n",
        "      train_losses.append(train_loss)\n",
        "   #bottleneck = bottleneck +3\n",
        "   #print (bottlneck)\n"
      ],
      "execution_count": 18,
      "outputs": [
        {
          "output_type": "stream",
          "text": [
            "Epoch: 1 \tTraining Loss: 0.0005\n",
            "Epoch: 1 \tTraining Loss: 0.0014\n",
            "Epoch: 1 \tTraining Loss: 0.0010\n",
            "Epoch: 1 \tTraining Loss: 0.0009\n",
            "Epoch: 1 \tTraining Loss: 0.0014\n",
            "Epoch: 2 \tTraining Loss: 0.0005\n",
            "Epoch: 2 \tTraining Loss: 0.0012\n",
            "Epoch: 2 \tTraining Loss: 0.0013\n",
            "Epoch: 2 \tTraining Loss: 0.0005\n",
            "Epoch: 2 \tTraining Loss: 0.0007\n",
            "Epoch: 3 \tTraining Loss: 0.0007\n",
            "Epoch: 3 \tTraining Loss: 0.0013\n",
            "Epoch: 3 \tTraining Loss: 0.0011\n",
            "Epoch: 3 \tTraining Loss: 0.0005\n",
            "Epoch: 3 \tTraining Loss: 0.0009\n",
            "Epoch: 4 \tTraining Loss: 0.0005\n",
            "Epoch: 4 \tTraining Loss: 0.0011\n",
            "Epoch: 4 \tTraining Loss: 0.0008\n",
            "Epoch: 4 \tTraining Loss: 0.0006\n",
            "Epoch: 4 \tTraining Loss: 0.0011\n",
            "Epoch: 5 \tTraining Loss: 0.0004\n",
            "Epoch: 5 \tTraining Loss: 0.0010\n",
            "Epoch: 5 \tTraining Loss: 0.0008\n",
            "Epoch: 5 \tTraining Loss: 0.0006\n",
            "Epoch: 5 \tTraining Loss: 0.0009\n",
            "Epoch: 6 \tTraining Loss: 0.0004\n",
            "Epoch: 6 \tTraining Loss: 0.0010\n",
            "Epoch: 6 \tTraining Loss: 0.0009\n",
            "Epoch: 6 \tTraining Loss: 0.0005\n",
            "Epoch: 6 \tTraining Loss: 0.0007\n",
            "Epoch: 7 \tTraining Loss: 0.0004\n",
            "Epoch: 7 \tTraining Loss: 0.0010\n",
            "Epoch: 7 \tTraining Loss: 0.0009\n",
            "Epoch: 7 \tTraining Loss: 0.0004\n",
            "Epoch: 7 \tTraining Loss: 0.0007\n",
            "Epoch: 8 \tTraining Loss: 0.0004\n",
            "Epoch: 8 \tTraining Loss: 0.0009\n",
            "Epoch: 8 \tTraining Loss: 0.0008\n",
            "Epoch: 8 \tTraining Loss: 0.0005\n",
            "Epoch: 8 \tTraining Loss: 0.0008\n",
            "Epoch: 9 \tTraining Loss: 0.0004\n",
            "Epoch: 9 \tTraining Loss: 0.0009\n",
            "Epoch: 9 \tTraining Loss: 0.0007\n",
            "Epoch: 9 \tTraining Loss: 0.0005\n",
            "Epoch: 9 \tTraining Loss: 0.0007\n",
            "Epoch: 10 \tTraining Loss: 0.0004\n",
            "Epoch: 10 \tTraining Loss: 0.0009\n",
            "Epoch: 10 \tTraining Loss: 0.0007\n",
            "Epoch: 10 \tTraining Loss: 0.0004\n",
            "Epoch: 10 \tTraining Loss: 0.0007\n"
          ],
          "name": "stdout"
        }
      ]
    },
    {
      "cell_type": "markdown",
      "metadata": {
        "id": "vDMd6vwLw00A",
        "colab_type": "text"
      },
      "source": [
        "6. \n"
      ]
    },
    {
      "cell_type": "code",
      "metadata": {
        "id": "2Uacsqo0w7gY",
        "colab_type": "code",
        "colab": {}
      },
      "source": [
        ""
      ],
      "execution_count": 0,
      "outputs": []
    }
  ]
}
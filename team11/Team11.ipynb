{
  "nbformat": 4,
  "nbformat_minor": 0,
  "metadata": {
    "colab": {
      "name": "Team11.ipynb",
      "provenance": [],
      "collapsed_sections": []
    },
    "kernelspec": {
      "name": "python3",
      "display_name": "Python 3"
    },
    "accelerator": "GPU"
  },
  "cells": [
    {
      "cell_type": "markdown",
      "metadata": {
        "id": "lkyWHeD9C5mJ",
        "colab_type": "text"
      },
      "source": [
        "Library Importing"
      ]
    },
    {
      "cell_type": "code",
      "metadata": {
        "id": "8nUj4_z0CupF",
        "colab_type": "code",
        "colab": {}
      },
      "source": [
        "import numpy as np\n",
        "import matplotlib.pyplot as plt\n",
        "import torch.cuda\n",
        "import torch.nn as nn\n",
        "import torch.nn.functional as F\n",
        "import torch.optim\n",
        "torch.cuda.manual_seed_all\n",
        "%matplotlib inline\n",
        "\n",
        "import torch\n",
        "from torchvision import datasets\n",
        "import torchvision.transforms as transforms"
      ],
      "execution_count": 0,
      "outputs": []
    },
    {
      "cell_type": "markdown",
      "metadata": {
        "id": "9ugFSg8cJYAx",
        "colab_type": "text"
      },
      "source": [
        " Loading train and test data. Splitting the training set into training and validation."
      ]
    },
    {
      "cell_type": "code",
      "metadata": {
        "id": "tNvx8BkVJaXH",
        "colab_type": "code",
        "colab": {}
      },
      "source": [
        "transform = transforms.ToTensor()\n",
        "\n",
        "train_data = datasets.MNIST(root='data', train=True,download=True, transform=transform)\n",
        "test_data = datasets.MNIST(root='data', train=False,download=True, transform=transform)\n",
        "\n",
        "validation_size = int(0.05*len(train_data))\n",
        "training_size = int(0.95*len(train_data))\n",
        "\n",
        "train_dataset, validation_dataset = torch.utils.data.random_split(train_data, [training_size, validation_size])"
      ],
      "execution_count": 0,
      "outputs": []
    },
    {
      "cell_type": "markdown",
      "metadata": {
        "id": "qzJFXUBaDFhQ",
        "colab_type": "text"
      },
      "source": [
        "Load Data"
      ]
    },
    {
      "cell_type": "code",
      "metadata": {
        "id": "s2zRoJUGC_KN",
        "colab_type": "code",
        "colab": {}
      },
      "source": [
        "batch_size = 20\n",
        "epochs = 8\n",
        "\n",
        "train_loader = torch.utils.data.DataLoader(train_dataset, batch_size=batch_size)\n",
        "validation_loader = torch.utils.data.DataLoader(validation_dataset, batch_size=batch_size)\n",
        "test_loader = torch.utils.data.DataLoader(test_data, batch_size=batch_size,shuffle=True)"
      ],
      "execution_count": 0,
      "outputs": []
    },
    {
      "cell_type": "markdown",
      "metadata": {
        "id": "G_TYk7f_UWzb",
        "colab_type": "text"
      },
      "source": [
        "Encoder & Decoder in Different Modules with bottleneck value passed in"
      ]
    },
    {
      "cell_type": "code",
      "metadata": {
        "id": "lTzyLyxoUaHW",
        "colab_type": "code",
        "colab": {}
      },
      "source": [
        "class Encoder(nn.Module):\n",
        "\n",
        "   def __init__(self,bottleneck):\n",
        "     super().__init__()\n",
        "     self.conv1 = nn.Conv2d(1,16,3,padding=1)\n",
        "     self.pool  = nn.MaxPool2d(2,2)\n",
        "     self.conv2 = nn.Conv2d(16,4,3,padding=1)\n",
        "     self.flat  = nn.Flatten()\n",
        "     self.botl  = nn.Linear(7*7*4,bottleneck) \n",
        "\n",
        "   def forward(self,x):\n",
        "        x = F.relu(self.conv1(x))\n",
        "        x = self.pool(x)\n",
        "        x = F.relu(self.conv2(x))\n",
        "        x = self.pool(x)  \n",
        "        x = self.flat(x)\n",
        "        x = self.botl(x)\n",
        "        return x\n",
        "\n",
        "class Decoder(nn.Module):\n",
        "\n",
        "   def __init__(self,bottleneck):\n",
        "     super().__init__()\n",
        "\n",
        "     self.botle2 =  nn.Linear(bottleneck,4*7*7)\n",
        "     self.conv1_t = nn.ConvTranspose2d(4,16, 2, stride=2)\n",
        "     self.conv2_t = nn.ConvTranspose2d(16, 1, 2, stride=2)\n",
        "       \n",
        "\n",
        "   def forward(self,x):\n",
        "     x = self.botle2(x)\n",
        "     x = x.view(-1,4,7,7)\n",
        "     x = F.relu(self.conv1_t(x))\n",
        "     x = F.sigmoid(self.conv2_t(x))\n",
        "      \n",
        "     return x\n",
        "\n",
        "class Concatenator(nn.Module):\n",
        "\n",
        "  def __init__(self, enc, dec):\n",
        "    super().__init__()\n",
        "\n",
        "    self.encoder = enc\n",
        "    self.decoder = dec\n",
        "\n",
        "  def forward(self,x):\n",
        "    x = self.encoder(x)\n",
        "    y = self.decoder(x)\n",
        "\n",
        "    return y\n",
        "\n"
      ],
      "execution_count": 0,
      "outputs": []
    },
    {
      "cell_type": "markdown",
      "metadata": {
        "id": "4r_NUGcuDaI-",
        "colab_type": "text"
      },
      "source": [
        "Training function              "
      ]
    },
    {
      "cell_type": "code",
      "metadata": {
        "id": "NY7kj3CZgonE",
        "colab_type": "code",
        "colab": {}
      },
      "source": [
        "def train_model_ex1(model, criterion, train_loader,validation_loader, epochs):\n",
        "  \n",
        "  optimizer = torch.optim.Adam(model.parameters(), lr=0.001)\n",
        "  train_losses, validation_losses, validation_x_value = [], [], []\n",
        "  i = 0\n",
        "  \n",
        "\n",
        "  for e in range(1, epochs+1):\n",
        "        train_loss = 0.0 \n",
        "        validation_loss = 0.0 \n",
        "         \n",
        "        model.train()\n",
        "\n",
        "        for data in train_loader:\n",
        "           \n",
        "            images, _ = data                        \n",
        "            optimizer.zero_grad()     \n",
        "            outputs = model(images)    \n",
        "            loss = criterion(outputs, images)\n",
        "            loss.backward()  \n",
        "            optimizer.step()           \n",
        "\n",
        "            train_loss = loss.item()*images.size(0)\n",
        "            train_losses.append(train_loss)\n",
        "            i = i + 1\n",
        "\n",
        "        for data in validation_loader:\n",
        "           model.eval()\n",
        "           images, _ = data                        \n",
        "           outputs = model(images)                  \n",
        "           loss = criterion(outputs, images)       \n",
        "           validation_loss += loss.item()*images.size(0)\n",
        "           \n",
        "        \n",
        "        validation_loss = validation_loss/len(validation_loader)\n",
        "\n",
        "        validation_losses.append(validation_loss)\n",
        "        validation_x_value.append(i)\n",
        "        \n",
        "  return train_losses, validation_losses, validation_x_value"
      ],
      "execution_count": 0,
      "outputs": []
    },
    {
      "cell_type": "markdown",
      "metadata": {
        "id": "31D0p7Too7JS",
        "colab_type": "text"
      },
      "source": [
        "Pass values and models with different bottlenecks to training and validation\n"
      ]
    },
    {
      "cell_type": "code",
      "metadata": {
        "id": "g2UJHFanktG4",
        "colab_type": "code",
        "outputId": "0d87f568-82ed-4c7d-939a-42de7c7a5519",
        "colab": {
          "base_uri": "https://localhost:8080/",
          "height": 52
        }
      },
      "source": [
        "\n",
        "criterion = nn.MSELoss()\n",
        "\n",
        "enc1 =Encoder(20)\n",
        "dec1 = Decoder(20)\n",
        "model1 = Concatenator(enc1,dec1)\n",
        "\n",
        "train_losses1, val_losses1, x_value = train_model_ex1(model1, criterion,train_loader,validation_loader,epochs)\n",
        "\n",
        "\n",
        "enc2  =Encoder(40)\n",
        "dec2 = Decoder(40)\n",
        "model2 = Concatenator(enc2,dec2)\n",
        "train_losses2, val_losses2, x_value = train_model_ex1(model2,criterion,train_loader,validation_loader,epochs)\n",
        "\n",
        "\n",
        "enc3 =Encoder(80)\n",
        "dec3 = Decoder(80)\n",
        "model3 = Concatenator(enc3,dec3)\n",
        "train_losses3, val_losses3, x_value = train_model_ex1(model3,criterion,train_loader,validation_loader,epochs)\n",
        "\n",
        "\n",
        "enc4 =Encoder(120)\n",
        "dec4 = Decoder(120)\n",
        "model4 = Concatenator(enc4,dec4)\n",
        "train_losses4, val_losses4, x_value = train_model_ex1(model4,criterion,train_loader,validation_loader,epochs)\n",
        "\n",
        "\n",
        "\n",
        "\n",
        "\n"
      ],
      "execution_count": 180,
      "outputs": [
        {
          "output_type": "stream",
          "text": [
            "/usr/local/lib/python3.6/dist-packages/torch/nn/functional.py:1351: UserWarning: nn.functional.sigmoid is deprecated. Use torch.sigmoid instead.\n",
            "  warnings.warn(\"nn.functional.sigmoid is deprecated. Use torch.sigmoid instead.\")\n"
          ],
          "name": "stderr"
        }
      ]
    },
    {
      "cell_type": "markdown",
      "metadata": {
        "id": "qrn7N8L-ljxp",
        "colab_type": "text"
      },
      "source": [
        "Plot losses for models with different bottlenecks"
      ]
    },
    {
      "cell_type": "code",
      "metadata": {
        "id": "USQU-OBkfzxi",
        "colab_type": "code",
        "outputId": "886556f0-3b7f-40b1-86c2-e5a054a62848",
        "colab": {
          "base_uri": "https://localhost:8080/",
          "height": 297
        }
      },
      "source": [
        "import matplotlib.pyplot as plt\n",
        "\n",
        "plt.ylabel('MSE loss')\n",
        "plt.xlabel('batch iteration')\n",
        "\n",
        "plt.plot(train_losses1, label='train, b=20')\n",
        "plt.plot(x_value, val_losses1, 'o', label='val, b=20')\n",
        "\n",
        "plt.plot(train_losses2, label='train, b=40')\n",
        "plt.plot(x_value, val_losses2, 'o', label='val, b=40')\n",
        "\n",
        "plt.plot(train_losses3, label='train, b=80')\n",
        "plt.plot(x_value, val_losses3, 'o', label='val, b=80')\n",
        "\n",
        "plt.plot(train_losses4, label='train, b=120')\n",
        "plt.plot(x_value, val_losses4, 'o', label='val, b=120')\n",
        "\n",
        "\n",
        "plt.legend()"
      ],
      "execution_count": 181,
      "outputs": [
        {
          "output_type": "execute_result",
          "data": {
            "text/plain": [
              "<matplotlib.legend.Legend at 0x7f5a50738978>"
            ]
          },
          "metadata": {
            "tags": []
          },
          "execution_count": 181
        },
        {
          "output_type": "display_data",
          "data": {
            "image/png": "[encoded data removed]",
            "text/plain": [
              "<Figure size 432x288 with 1 Axes>"
            ]
          },
          "metadata": {
            "tags": []
          }
        }
      ]
    },
    {
      "cell_type": "markdown",
      "metadata": {
        "id": "4F44JkEsgc5C",
        "colab_type": "text"
      },
      "source": [
        "Function that computes train and validation MSE loss and number of params     "
      ]
    },
    {
      "cell_type": "code",
      "metadata": {
        "id": "XNBZHdNegeFt",
        "colab_type": "code",
        "colab": {}
      },
      "source": [
        "def test_model(model, criterion, test_loader,validation_loader, epochs, bottleneck):\n",
        " \n",
        "  optimizer = torch.optim.Adam(model.parameters(), lr=0.001)\n",
        "  model.eval()\n",
        "\n",
        "  test_loss=0.0\n",
        "  val_loss = 0.0\n",
        "\n",
        "  for data in test_loader:\n",
        "    images, _ = data                        \n",
        "    outputs = model(images)                  \n",
        "    loss = criterion(outputs, images)       \n",
        "    test_loss += loss.item()*images.size(0)\n",
        "\n",
        "  for data in validation_loader:\n",
        "    images, _ = data                        \n",
        "    outputs = model(images)                  \n",
        "    loss = criterion(outputs, images)       \n",
        "    val_loss += loss.item()*images.size(0)\n",
        "          \n",
        "  test_loss = test_loss/len(test_loader)   #append & div with number of epochs\n",
        "  val_loss = val_loss/len(validation_loader)\n",
        "  \n",
        "  total_params = sum(p.numel() for p in model.parameters() if p.requires_grad)\n",
        "\n",
        "\n",
        "  print('Bottleneck: {:.1f}'.format(bottleneck),\n",
        "                '\\tTest loss: {:.10f}'.format(test_loss),\n",
        "                '\\tValidation loss: {:.10f}'.format(val_loss),\n",
        "                '\\tNumber of params : {:.10f}'.format(total_params))"
      ],
      "execution_count": 0,
      "outputs": []
    },
    {
      "cell_type": "markdown",
      "metadata": {
        "id": "_HMwEYp31N8T",
        "colab_type": "text"
      },
      "source": [
        "Pass values to function that compute losses and number of params for different models"
      ]
    },
    {
      "cell_type": "code",
      "metadata": {
        "id": "ihclD6fB1Oi-",
        "colab_type": "code",
        "outputId": "a211fe66-a726-4e56-85f7-08306227e8ec",
        "colab": {
          "base_uri": "https://localhost:8080/",
          "height": 121
        }
      },
      "source": [
        "criterion = nn.MSELoss()\n",
        "\n",
        "test_model(model1,criterion,test_loader,validation_loader,epochs,20)\n",
        "test_model(model2,criterion,test_loader,validation_loader,epochs,40)\n",
        "test_model(model3,criterion,test_loader,validation_loader,epochs,80)\n",
        "test_model(model4,criterion,test_loader,validation_loader,epochs,120)\n",
        "\n",
        "\n"
      ],
      "execution_count": 194,
      "outputs": [
        {
          "output_type": "stream",
          "text": [
            "/usr/local/lib/python3.6/dist-packages/torch/nn/functional.py:1351: UserWarning: nn.functional.sigmoid is deprecated. Use torch.sigmoid instead.\n",
            "  warnings.warn(\"nn.functional.sigmoid is deprecated. Use torch.sigmoid instead.\")\n"
          ],
          "name": "stderr"
        },
        {
          "output_type": "stream",
          "text": [
            "Bottleneck: 20.0 \tTest loss: 0.3031303311 \tValidation loss: 0.3114593635 \tNumber of params : 9133.0000000000\n",
            "Bottleneck: 40.0 \tTest loss: 0.1918571949 \tValidation loss: 0.1980920728 \tNumber of params : 16993.0000000000\n",
            "Bottleneck: 80.0 \tTest loss: 0.1508933003 \tValidation loss: 0.1553859306 \tNumber of params : 32713.0000000000\n",
            "Bottleneck: 120.0 \tTest loss: 0.1503795661 \tValidation loss: 0.1544426632 \tNumber of params : 48433.0000000000\n"
          ],
          "name": "stdout"
        }
      ]
    },
    {
      "cell_type": "markdown",
      "metadata": {
        "id": "87pI_tLJyxE6",
        "colab_type": "text"
      },
      "source": [
        "Selects one autoencoder (where bottleneck = 120) and send 5 random images from test set to that encoder. Shows the originial images with the reconstructed ones.\n"
      ]
    },
    {
      "cell_type": "code",
      "metadata": {
        "id": "NHPgTdeIywME",
        "colab_type": "code",
        "outputId": "505c6515-cc32-42fa-fbe2-e749660e6001",
        "colab": {
          "base_uri": "https://localhost:8080/",
          "height": 307
        }
      },
      "source": [
        "\n",
        "dataiter = iter(test_loader)\n",
        "\n",
        "images, labels = dataiter.next()\n",
        "\n",
        "output = model4(images)                     \n",
        "images = images.numpy() \n",
        "  \n",
        "output = output.view(batch_size, 1, 28, 28)\n",
        "output = output.detach().numpy()           \n",
        "\n",
        "fig, axes = plt.subplots(nrows=2, ncols=5, sharex=True, sharey=True, figsize=(25,4))\n",
        "\n",
        "for images, row in zip([images, output], axes):\n",
        "    for img, ax in zip(images, row):\n",
        "        ax.imshow(np.squeeze(img), cmap='gray')\n",
        "        ax.get_xaxis().set_visible(False)\n",
        "        ax.get_yaxis().set_visible(False)\n"
      ],
      "execution_count": 195,
      "outputs": [
        {
          "output_type": "stream",
          "text": [
            "/usr/local/lib/python3.6/dist-packages/torch/nn/functional.py:1351: UserWarning: nn.functional.sigmoid is deprecated. Use torch.sigmoid instead.\n",
            "  warnings.warn(\"nn.functional.sigmoid is deprecated. Use torch.sigmoid instead.\")\n"
          ],
          "name": "stderr"
        },
        {
          "output_type": "display_data",
          "data": {
            "image/png": "[encoded data removed]",
            "text/plain": [
              "<Figure size 1800x288 with 10 Axes>"
            ]
          },
          "metadata": {
            "tags": []
          }
        }
      ]
    },
    {
      "cell_type": "markdown",
      "metadata": {
        "id": "VHJJBhTMzCzs",
        "colab_type": "text"
      },
      "source": [
        "Generate 5 new images by injecting random values as input to the decoder. \n"
      ]
    },
    {
      "cell_type": "code",
      "metadata": {
        "id": "z-_w1mLpzDit",
        "colab_type": "code",
        "outputId": "37858e9b-8560-44a8-9b0e-3cea089ac832",
        "colab": {
          "base_uri": "https://localhost:8080/",
          "height": 640
        }
      },
      "source": [
        "input = torch.rand(5,1,120)\n",
        "\n",
        "new_dec = model4.decoder\n",
        "output = new_dec(input.view(-1,1,120))\n",
        "\n",
        "import cv2\n",
        "\n",
        "from skimage import color\n",
        "from skimage import io\n",
        "input = input.view(-1,5,5,3)\n",
        "output = output.view(-1,28,28)\n",
        "\n",
        "input_new = input.detach().numpy()\n",
        "output = output.detach().numpy()\n",
        "\n",
        "fig, axes = plt.subplots(nrows=2, ncols=5, sharex=True, sharey=True, figsize=(25,10))\n",
        "for i in range(5):\n",
        "  \n",
        "  #axes[0][i].imshow(color.rgb2gray(np.squeeze(input_new[i])),cmap = 'gray')\n",
        "  axes[0][i].imshow(color.rgb2gray(input_new[i]),cmap = 'gray')\n",
        "  axes[1][i].imshow(np.squeeze(output[i]),cmap = 'gray')\n",
        "\n",
        "\n",
        "\n",
        "fig.show()"
      ],
      "execution_count": 287,
      "outputs": [
        {
          "output_type": "stream",
          "text": [
            "/usr/local/lib/python3.6/dist-packages/torch/nn/functional.py:1351: UserWarning: nn.functional.sigmoid is deprecated. Use torch.sigmoid instead.\n",
            "  warnings.warn(\"nn.functional.sigmoid is deprecated. Use torch.sigmoid instead.\")\n"
          ],
          "name": "stderr"
        },
        {
          "output_type": "display_data",
          "data": {
            "image/png": "[encoded data removed]",
            "text/plain": [
              "<Figure size 1800x720 with 10 Axes>"
            ]
          },
          "metadata": {
            "tags": []
          }
        }
      ]
    },
    {
      "cell_type": "markdown",
      "metadata": {
        "id": "bHL5xdA0Z9yY",
        "colab_type": "text"
      },
      "source": [
        "## **Excercise** 2\n"
      ]
    },
    {
      "cell_type": "markdown",
      "metadata": {
        "id": "1tZoHSY98nEX",
        "colab_type": "text"
      },
      "source": [
        "Classification model that takes in a encoder and add a fully connected layer"
      ]
    },
    {
      "cell_type": "code",
      "metadata": {
        "id": "mBVEILfK2eIQ",
        "colab_type": "code",
        "colab": {}
      },
      "source": [
        "class classification_model(nn.Module):\n",
        "  def __init__(self, encoder,bottleneck):\n",
        "    super().__init__()\n",
        "    self.encoder = encoder\n",
        "    self.fully_connected = nn.Sequential(\n",
        "      nn.Linear(bottleneck,4*7*7),\n",
        "      nn.LogSoftmax(-1)\n",
        "    )\n",
        "  \n",
        "  def forward(self, x):\n",
        "    x = self.encoder(x)\n",
        "    x = self.fully_connected(x)\n",
        "    return x"
      ],
      "execution_count": 0,
      "outputs": []
    },
    {
      "cell_type": "markdown",
      "metadata": {
        "id": "6MBviGr19WSk",
        "colab_type": "text"
      },
      "source": [
        "Select subset of 100 images & labels"
      ]
    },
    {
      "cell_type": "code",
      "metadata": {
        "id": "3Ycrvpt-9Wwt",
        "colab_type": "code",
        "colab": {}
      },
      "source": [
        "subset  = torch.utils.data.Subset(train_dataset, range(0, 100))\n",
        "len(subset)\n",
        "subset_loader = torch.utils.data.DataLoader(subset, batch_size=batch_size)"
      ],
      "execution_count": 0,
      "outputs": []
    },
    {
      "cell_type": "markdown",
      "metadata": {
        "id": "4vncWATD9jsY",
        "colab_type": "text"
      },
      "source": [
        "Train function"
      ]
    },
    {
      "cell_type": "code",
      "metadata": {
        "id": "Y03JNb449k65",
        "colab_type": "code",
        "colab": {}
      },
      "source": [
        "def train_model_ex2(model, optimizer, loader, epochs):\n",
        "  criterion = F.nll_loss\n",
        "  model.train()\n",
        "  for e in range(1, epochs+1):\n",
        "      for data in loader:   \n",
        "        images, labels = data                       \n",
        "        optimizer.zero_grad()                      \n",
        "        outputs = model(images)            \n",
        "        loss = criterion(outputs, labels)           \n",
        "        loss.backward()                             \n",
        "        optimizer.step() "
      ],
      "execution_count": 0,
      "outputs": []
    },
    {
      "cell_type": "markdown",
      "metadata": {
        "id": "lOVYE89i8wjw",
        "colab_type": "text"
      },
      "source": [
        "Get the previous used encoder (bottleneck = 120) weights and train that model"
      ]
    },
    {
      "cell_type": "code",
      "metadata": {
        "id": "6MNm3Bzl3Cz5",
        "colab_type": "code",
        "colab": {}
      },
      "source": [
        "encoder = model4.encoder\n",
        "bottleneck = 120\n",
        "\n",
        "model_pretrain = classification_model(encoder.requires_grad_(requires_grad=True), bottleneck)\n",
        "optimizer = torch.optim.RMSprop(model_pretrain.parameters(), lr=0.001)\n",
        "\n",
        "\n",
        "train_model_ex2(model_pretrain, optimizer, subset_loader, epochs)"
      ],
      "execution_count": 0,
      "outputs": []
    },
    {
      "cell_type": "markdown",
      "metadata": {
        "id": "MtybvIfp_gCj",
        "colab_type": "text"
      },
      "source": [
        "Fine tuning training, using different learnig rates for different parts of classifier"
      ]
    },
    {
      "cell_type": "code",
      "metadata": {
        "id": "HcHnxA57_gu2",
        "colab_type": "code",
        "colab": {}
      },
      "source": [
        "model_finetune = classification_model(encoder.requires_grad_(requires_grad=True), bottleneck)\n",
        "optimizer = torch.optim.RMSprop([{'params': model_finetune.encoder.parameters(), \"lr\": 0.00000001},\n",
        "                           {'params': model_finetune.fully_connected.parameters(), \"lr\": 0.001}])\n",
        "\n",
        "train_model_ex2(model_finetune, optimizer, subset_loader, epochs)"
      ],
      "execution_count": 0,
      "outputs": []
    },
    {
      "cell_type": "markdown",
      "metadata": {
        "id": "O19D00rUc2Cy",
        "colab_type": "text"
      },
      "source": [
        "Create new autoencoder with bottleneck 120 and train it from scratch."
      ]
    },
    {
      "cell_type": "code",
      "metadata": {
        "id": "Vxq7UkG6qtI0",
        "colab_type": "code",
        "colab": {}
      },
      "source": [
        "new_encoder = Encoder(bottleneck)\n",
        "\n",
        "model_new = classification_model(new_encoder, bottleneck)\n",
        "optimizer = torch.optim.RMSprop(model_new.parameters(), lr=0.001)\n",
        "\n",
        "\n",
        "train_model_ex2(model_new, optimizer, subset_loader, epochs)\n"
      ],
      "execution_count": 0,
      "outputs": []
    },
    {
      "cell_type": "markdown",
      "metadata": {
        "id": "6-BYJxGJr97A",
        "colab_type": "text"
      },
      "source": [
        "Function that computes if prediction is correct or not\n",
        "\n",
        "\n"
      ]
    },
    {
      "cell_type": "code",
      "metadata": {
        "id": "l5x1GQV7ibJq",
        "colab_type": "code",
        "colab": {}
      },
      "source": [
        "def correct_predictions(predicted_batch, label_batch):\n",
        "  pred = predicted_batch.argmax(dim=1, keepdim=True)\n",
        "  acum = pred.eq(label_batch.view_as(pred)).sum().item()\n",
        "  return acum"
      ],
      "execution_count": 0,
      "outputs": []
    },
    {
      "cell_type": "markdown",
      "metadata": {
        "id": "cV7tNivau8hZ",
        "colab_type": "text"
      },
      "source": [
        "Function for test"
      ]
    },
    {
      "cell_type": "code",
      "metadata": {
        "id": "0WHhZDvdt_Uz",
        "colab_type": "code",
        "colab": {}
      },
      "source": [
        "def test_epoch(test_loader, model, string_model):\n",
        "    criterion = F.nll_loss\n",
        "    model.eval()\n",
        "    test_loss = 0\n",
        "    acc = 0\n",
        "    with torch.no_grad():\n",
        "        for data in test_loader:\n",
        "            data, labels = data\n",
        "            output = model(data)\n",
        "            test_loss += criterion(output, labels)\n",
        "            acc += correct_predictions(output, labels)\n",
        "    test_acc = 100. * acc / len(test_loader.dataset)\n",
        "\n",
        "    print('Model: {}'.format(string_model),\n",
        "                '\\tTest accuracy: {:.4f}'.format(test_acc))\n",
        "                \n",
        "    "
      ],
      "execution_count": 0,
      "outputs": []
    },
    {
      "cell_type": "code",
      "metadata": {
        "id": "FV7Q7ycRk-__",
        "colab_type": "code",
        "outputId": "e61fffc3-cc91-4eb9-acf9-562fc3913385",
        "colab": {
          "base_uri": "https://localhost:8080/",
          "height": 69
        }
      },
      "source": [
        "test_epoch(test_loader,model_pretrain,'pre-trained') \n",
        "test_epoch(test_loader,model_finetune,'finetune')\n",
        "test_epoch(test_loader,model_new,'from scratch')\n",
        "\n"
      ],
      "execution_count": 283,
      "outputs": [
        {
          "output_type": "stream",
          "text": [
            "Model: pre-trained \tTest accuracy: 78.5200\n",
            "Model: finetune \tTest accuracy: 74.7900\n",
            "Model: from scratch \tTest accuracy: 58.5900\n"
          ],
          "name": "stdout"
        }
      ]
    }
  ]
}
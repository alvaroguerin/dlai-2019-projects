{
  "nbformat": 4,
  "nbformat_minor": 0,
  "metadata": {
    "colab": {
      "name": "dlai_proj.ipynb",
      "provenance": [],
      "collapsed_sections": []
    },
    "kernelspec": {
      "name": "python3",
      "display_name": "Python 3"
    },
    "accelerator": "GPU"
  },
  "cells": [
    {
      "cell_type": "markdown",
      "metadata": {
        "id": "lkyWHeD9C5mJ",
        "colab_type": "text"
      },
      "source": [
        "Library Importing"
      ]
    },
    {
      "cell_type": "code",
      "metadata": {
        "id": "8nUj4_z0CupF",
        "colab_type": "code",
        "outputId": "b4965e19-6268-4ee7-d5ef-4f3af05623d9",
        "colab": {
          "base_uri": "https://localhost:8080/",
          "height": 280
        }
      },
      "source": [
        "import numpy as np\n",
        "import matplotlib.pyplot as plt\n",
        "import torch.nn as nn\n",
        "import torch.nn.functional as F\n",
        "%matplotlib inline\n",
        "\n",
        "import torch\n",
        "from torchvision import datasets\n",
        "import torchvision.transforms as transforms\n",
        "\n",
        "# convert data to torch.FloatTensor\n",
        "transform = transforms.ToTensor()\n",
        "\n",
        "# load the training and test datasets\n",
        "train_data = datasets.MNIST(root='data', train=True,download=True, transform=transform)\n",
        "test_data = datasets.MNIST(root='data', train=False,download=True, transform=transform)"
      ],
      "execution_count": 1,
      "outputs": [
        {
          "output_type": "stream",
          "text": [
            "\r0it [00:00, ?it/s]"
          ],
          "name": "stderr"
        },
        {
          "output_type": "stream",
          "text": [
            "Downloading http://yann.lecun.com/exdb/mnist/train-images-idx3-ubyte.gz to data/MNIST/raw/train-images-idx3-ubyte.gz\n"
          ],
          "name": "stdout"
        },
        {
          "output_type": "stream",
          "text": [
            "9920512it [00:01, 9396426.97it/s]                            \n"
          ],
          "name": "stderr"
        },
        {
          "output_type": "stream",
          "text": [
            "Extracting data/MNIST/raw/train-images-idx3-ubyte.gz to data/MNIST/raw\n"
          ],
          "name": "stdout"
        },
        {
          "output_type": "stream",
          "text": [
            "  0%|          | 0/28881 [00:00<?, ?it/s]"
          ],
          "name": "stderr"
        },
        {
          "output_type": "stream",
          "text": [
            "Downloading http://yann.lecun.com/exdb/mnist/train-labels-idx1-ubyte.gz to data/MNIST/raw/train-labels-idx1-ubyte.gz\n"
          ],
          "name": "stdout"
        },
        {
          "output_type": "stream",
          "text": [
            "32768it [00:00, 135373.69it/s]           \n",
            "  0%|          | 0/1648877 [00:00<?, ?it/s]"
          ],
          "name": "stderr"
        },
        {
          "output_type": "stream",
          "text": [
            "Extracting data/MNIST/raw/train-labels-idx1-ubyte.gz to data/MNIST/raw\n",
            "Downloading http://yann.lecun.com/exdb/mnist/t10k-images-idx3-ubyte.gz to data/MNIST/raw/t10k-images-idx3-ubyte.gz\n"
          ],
          "name": "stdout"
        },
        {
          "output_type": "stream",
          "text": [
            "1654784it [00:00, 2199272.01it/s]                            \n",
            "0it [00:00, ?it/s]"
          ],
          "name": "stderr"
        },
        {
          "output_type": "stream",
          "text": [
            "Extracting data/MNIST/raw/t10k-images-idx3-ubyte.gz to data/MNIST/raw\n",
            "Downloading http://yann.lecun.com/exdb/mnist/t10k-labels-idx1-ubyte.gz to data/MNIST/raw/t10k-labels-idx1-ubyte.gz\n"
          ],
          "name": "stdout"
        },
        {
          "output_type": "stream",
          "text": [
            "8192it [00:00, 52613.69it/s]            \n"
          ],
          "name": "stderr"
        },
        {
          "output_type": "stream",
          "text": [
            "Extracting data/MNIST/raw/t10k-labels-idx1-ubyte.gz to data/MNIST/raw\n",
            "Processing...\n",
            "Done!\n"
          ],
          "name": "stdout"
        }
      ]
    },
    {
      "cell_type": "markdown",
      "metadata": {
        "id": "9ugFSg8cJYAx",
        "colab_type": "text"
      },
      "source": [
        "1. Splitting The Training Set"
      ]
    },
    {
      "cell_type": "code",
      "metadata": {
        "id": "tNvx8BkVJaXH",
        "colab_type": "code",
        "outputId": "a1e99529-644c-48a1-d767-1e1731ae9775",
        "colab": {
          "base_uri": "https://localhost:8080/",
          "height": 35
        }
      },
      "source": [
        "validation_size = int(0.05*len(train_data))\n",
        "training_size = int(0.95*len(train_data))\n",
        "\n",
        "train_dataset, validation_dataset = torch.utils.data.random_split(train_data, [training_size, validation_size])\n",
        "\n",
        "print(len(validation_dataset))"
      ],
      "execution_count": 2,
      "outputs": [
        {
          "output_type": "stream",
          "text": [
            "3000\n"
          ],
          "name": "stdout"
        }
      ]
    },
    {
      "cell_type": "markdown",
      "metadata": {
        "id": "qzJFXUBaDFhQ",
        "colab_type": "text"
      },
      "source": [
        "Load Data"
      ]
    },
    {
      "cell_type": "code",
      "metadata": {
        "id": "s2zRoJUGC_KN",
        "colab_type": "code",
        "colab": {}
      },
      "source": [
        "# number of subprocesses to use for data loading\n",
        "num_workers = 0\n",
        "# how many samples per batch to load\n",
        "batch_size = 20\n",
        "\n",
        "# prepare data loaders\n",
        "train_loader = torch.utils.data.DataLoader(train_dataset, batch_size=batch_size, num_workers=num_workers)\n",
        "validation_loader = torch.utils.data.DataLoader(validation_dataset, batch_size=batch_size, num_workers=num_workers)\n",
        "test_loader = torch.utils.data.DataLoader(test_data, batch_size=batch_size, num_workers=num_workers,shuffle=True)"
      ],
      "execution_count": 0,
      "outputs": []
    },
    {
      "cell_type": "markdown",
      "metadata": {
        "id": "G_TYk7f_UWzb",
        "colab_type": "text"
      },
      "source": [
        "## 2. Encoder & Decoder in Different Modules with bottleneck value passed in"
      ]
    },
    {
      "cell_type": "code",
      "metadata": {
        "id": "lTzyLyxoUaHW",
        "colab_type": "code",
        "colab": {}
      },
      "source": [
        "class Encoder(nn.Module):\n",
        "\n",
        "   def __init__(self,bottleneck):\n",
        "     super().__init__()\n",
        "\n",
        "     self.conv1 = nn.Conv2d(1,16,3,padding=1)\n",
        "     self.conv2 = nn.Conv2d(16,bottleneck,3,padding=1)\n",
        "     self.pool  = nn.MaxPool2d(2,2)\n",
        "\n",
        "   def forward(self,x):\n",
        "        ## encode ##\n",
        "        # add hidden layers with relu activation function\n",
        "        # and maxpooling after\n",
        "        x = F.relu(self.conv1(x))\n",
        "        x = self.pool(x)\n",
        "        # add second hidden layer\n",
        "        x = F.relu(self.conv2(x))\n",
        "        x = self.pool(x)  # compressed representation\n",
        "        return x\n",
        "\n",
        "class Decoder(nn.Module):\n",
        "\n",
        "   def __init__(self,bottleneck):\n",
        "     super().__init__()\n",
        "\n",
        "     ## decoder layers ##\n",
        "     ## a kernel of 2 and a stride of 2 will increase the spatial dims by 2\n",
        "     self.t_conv1 = nn.ConvTranspose2d(bottleneck, 16, 2, stride=2)\n",
        "     self.t_conv2 = nn.ConvTranspose2d(16, 1, 2, stride=2)\n",
        "     \n",
        "       \n",
        "\n",
        "   def forward(self,x):\n",
        "     ## decode ##\n",
        "     # add transpose conv layers, with relu activation function\n",
        "     x = F.relu(self.t_conv1(x))\n",
        "     # output layer (with sigmoid for scaling from 0 to 1)\n",
        "     x = F.sigmoid(self.t_conv2(x))\n",
        "            \n",
        "     return x\n",
        "\n",
        "class Concatenator(nn.Module):\n",
        "\n",
        "  def __init__(self, enc, dec):\n",
        "    super().__init__()\n",
        "\n",
        "    self.encoder = enc\n",
        "    self.decoder = dec\n",
        "\n",
        "  def forward(self,x):\n",
        "    #encode\n",
        "    x = self.encoder(x)\n",
        "    y = self.decoder(x)\n",
        "\n",
        "    return y\n",
        "\n"
      ],
      "execution_count": 0,
      "outputs": []
    },
    {
      "cell_type": "markdown",
      "metadata": {
        "id": "4r_NUGcuDaI-",
        "colab_type": "text"
      },
      "source": [
        "Training function              "
      ]
    },
    {
      "cell_type": "code",
      "metadata": {
        "id": "NY7kj3CZgonE",
        "colab_type": "code",
        "colab": {}
      },
      "source": [
        "def train_model_ex1(model, optimizer, criterion, train_loader,validation_loader, epochs):\n",
        "\n",
        "  train_losses, val_losses = [], []\n",
        "\n",
        "  for e in range(1, epochs+1):\n",
        "        train_loss = 0.0  # monitor training loss\n",
        "        validation_loss = 0.0 \n",
        "\n",
        "        \n",
        "        ###################\n",
        "        # train the model #\n",
        "        ###################\n",
        "        model.train()\n",
        "\n",
        "        for data in train_loader:\n",
        "            # we are just intrested in just images\n",
        "            # no need to flatten images\n",
        "            images, labels = data                        \n",
        "\n",
        "            # clear the gradients\n",
        "            optimizer.zero_grad()     \n",
        "\n",
        "            # forward pass: compute predicted outputs \n",
        "            outputs = model(images)    \n",
        "\n",
        "            # calculate the loss             \n",
        "            loss = criterion(outputs, images)\n",
        "\n",
        "            # backward pass     \n",
        "            loss.backward()  \n",
        "\n",
        "            # perform optimization step                       \n",
        "            optimizer.step()           \n",
        "\n",
        "            # update running training loss             \n",
        "            train_loss += loss.item()*images.size(0)\n",
        "\n",
        "        for data in validation_loader:\n",
        "           model.eval()\n",
        "           images, _ = data                        # we are just intrested in just images\n",
        "           outputs = model(images)                 # forward pass: compute predicted outputs \n",
        "           loss = criterion(outputs, images)       # calculate the loss\n",
        "           validation_loss += loss.item()*images.size(0)# update running training loss\n",
        "        \n",
        "        train_loss = train_loss/len(train_loader)\n",
        "\n",
        "        print('Epoch: {}'.format(e),\n",
        "              '\\tTraining Loss: {:.4f}'.format(train_loss))\n",
        "        validation_loss = validation_loss/len(validation_loader)\n",
        "        print('Epoch: {}'.format(e),\n",
        "                  '\\tValidation Loss: {:.4f}'.format(validation_loss))\n",
        "        train_losses.append(train_loss)\n",
        "        val_losses.append(validation_loss)    \n",
        "\n",
        "  return train_losses, val_losses"
      ],
      "execution_count": 0,
      "outputs": []
    },
    {
      "cell_type": "markdown",
      "metadata": {
        "id": "31D0p7Too7JS",
        "colab_type": "text"
      },
      "source": [
        "## 3. pass values to training & plot"
      ]
    },
    {
      "cell_type": "code",
      "metadata": {
        "id": "g2UJHFanktG4",
        "colab_type": "code",
        "colab": {
          "base_uri": "https://localhost:8080/",
          "height": 423
        },
        "outputId": "08a742ea-e607-4a1b-b01b-0352de160dbd"
      },
      "source": [
        "enc  =Encoder(3)\n",
        "dec = Decoder(3)\n",
        "model = Concatenator(enc,dec)\n",
        "\n",
        "optimizer = torch.optim.Adam(model.parameters(), lr=0.001)\n",
        "criterion = nn.MSELoss()    # is this correct? accroding to 3.\n",
        "\n",
        "\n",
        "train_losses, val_losses = train_model_ex1(model, optimizer,criterion,train_loader,validation_loader,3)\n",
        "\n",
        "\n",
        "import matplotlib.pyplot as plt\n",
        "\n",
        "plt.plot(train_losses, label='train')\n",
        "plt.plot(val_losses, label='val')\n",
        "plt.legend()"
      ],
      "execution_count": 16,
      "outputs": [
        {
          "output_type": "stream",
          "text": [
            "/usr/local/lib/python3.6/dist-packages/torch/nn/functional.py:1351: UserWarning: nn.functional.sigmoid is deprecated. Use torch.sigmoid instead.\n",
            "  warnings.warn(\"nn.functional.sigmoid is deprecated. Use torch.sigmoid instead.\")\n"
          ],
          "name": "stderr"
        },
        {
          "output_type": "stream",
          "text": [
            "Epoch: 1 \tTraining Loss: 0.6375\n",
            "Epoch: 1 \tValidation Loss: 0.3772\n",
            "Epoch: 2 \tTraining Loss: 0.3502\n",
            "Epoch: 2 \tValidation Loss: 0.3319\n",
            "Epoch: 3 \tTraining Loss: 0.3176\n",
            "Epoch: 3 \tValidation Loss: 0.3074\n"
          ],
          "name": "stdout"
        },
        {
          "output_type": "execute_result",
          "data": {
            "text/plain": [
              "<matplotlib.legend.Legend at 0x7f40747f53c8>"
            ]
          },
          "metadata": {
            "tags": []
          },
          "execution_count": 16
        },
        {
          "output_type": "display_data",
          "data": {
            "image/png": "[encoded data removed]",
            "text/plain": [
              "<Figure size 432x288 with 1 Axes>"
            ]
          },
          "metadata": {
            "tags": []
          }
        }
      ]
    },
    {
      "cell_type": "markdown",
      "metadata": {
        "id": "UbFrXxDbnm-M",
        "colab_type": "text"
      },
      "source": [
        "plot test and val loss           //have not done for different bottlenecks"
      ]
    },
    {
      "cell_type": "markdown",
      "metadata": {
        "id": "4F44JkEsgc5C",
        "colab_type": "text"
      },
      "source": [
        "# 4. Test Loss  & val loss         "
      ]
    },
    {
      "cell_type": "code",
      "metadata": {
        "id": "XNBZHdNegeFt",
        "colab_type": "code",
        "outputId": "2b958b6e-e75c-4863-dc40-d54fbb5976eb",
        "colab": {
          "base_uri": "https://localhost:8080/",
          "height": 104
        }
      },
      "source": [
        "test_loss=0.0\n",
        "val_loss = 0.0\n",
        "\n",
        "for data in test_loader:\n",
        "  images, _ = data                        # we are just intrested in just images\n",
        "  # no need to flatten images\n",
        " # optimizer.zero_grad()                   # clear the gradients\n",
        "  outputs = model(images)                 # forward pass: compute predicted outputs \n",
        "  loss = criterion(outputs, images)       # calculate the loss\n",
        "  test_loss += loss.item()*images.size(0)\n",
        "\n",
        "for data in validation_loader:\n",
        "  images, _ = data                        # we are just intrested in just images\n",
        " # optimizer.zero_grad()                   # clear the gradients\n",
        "  outputs = model(images)                 # forward pass: compute predicted outputs \n",
        "  loss = criterion(outputs, images)       # calculate the loss\n",
        "  val_loss += loss.item()*images.size(0)\n",
        "        \n",
        "test_loss = test_loss/len(test_loader)\n",
        "val_loss = val_loss/len(validation_loader)\n",
        "print('test',test_loss)\n",
        "print('val', val_loss)\n",
        "\n",
        "pytorch_total_params = sum(p.numel() for p in model.parameters() if p.requires_grad)\n",
        "print('param', pytorch_total_params)\n",
        "\n",
        "\n"
      ],
      "execution_count": 17,
      "outputs": [
        {
          "output_type": "stream",
          "text": [
            "/usr/local/lib/python3.6/dist-packages/torch/nn/functional.py:1351: UserWarning: nn.functional.sigmoid is deprecated. Use torch.sigmoid instead.\n",
            "  warnings.warn(\"nn.functional.sigmoid is deprecated. Use torch.sigmoid instead.\")\n"
          ],
          "name": "stderr"
        },
        {
          "output_type": "stream",
          "text": [
            "test 0.30108537901192906\n",
            "val 0.3073524560779333\n",
            "param 868\n"
          ],
          "name": "stdout"
        }
      ]
    },
    {
      "cell_type": "markdown",
      "metadata": {
        "id": "87pI_tLJyxE6",
        "colab_type": "text"
      },
      "source": [
        "# **5**.                              for model with some bottleneck"
      ]
    },
    {
      "cell_type": "code",
      "metadata": {
        "id": "NHPgTdeIywME",
        "colab_type": "code",
        "outputId": "075435ed-7fa2-43e7-d690-8af14ff5401f",
        "colab": {
          "base_uri": "https://localhost:8080/",
          "height": 307
        }
      },
      "source": [
        "# Lets get batch of test images\n",
        "\n",
        "import random\n",
        "dataiter = iter(test_loader)\n",
        "\n",
        "images, labels = dataiter.next()\n",
        "\n",
        "\n",
        "\n",
        "output = model(images)                     # get sample outputs\n",
        "images = images.numpy() \n",
        "\n",
        "\n",
        "                  # prep images for display\n",
        "output = output.view(batch_size, 1, 28, 28)# resizing output\n",
        "output = output.detach().numpy()           # use detach when it's an output that requires_grad\n",
        "\n",
        "\n",
        "\n",
        "\n",
        "# plot the first ten input images and then reconstructed images\n",
        "fig, axes = plt.subplots(nrows=2, ncols=5, sharex=True, sharey=True, figsize=(25,4))\n",
        "# input images on top row, reconstructions on bottom\n",
        "for images, row in zip([images, output], axes):\n",
        "    for img, ax in zip(images, row):\n",
        "        ax.imshow(np.squeeze(img), cmap='gray')\n",
        "        ax.get_xaxis().set_visible(False)\n",
        "        ax.get_yaxis().set_visible(False)\n"
      ],
      "execution_count": 19,
      "outputs": [
        {
          "output_type": "stream",
          "text": [
            "/usr/local/lib/python3.6/dist-packages/torch/nn/functional.py:1351: UserWarning: nn.functional.sigmoid is deprecated. Use torch.sigmoid instead.\n",
            "  warnings.warn(\"nn.functional.sigmoid is deprecated. Use torch.sigmoid instead.\")\n"
          ],
          "name": "stderr"
        },
        {
          "output_type": "display_data",
          "data": {
            "image/png": "[encoded data removed]",
            "text/plain": [
              "<Figure size 1800x288 with 10 Axes>"
            ]
          },
          "metadata": {
            "tags": []
          }
        }
      ]
    },
    {
      "cell_type": "markdown",
      "metadata": {
        "id": "VHJJBhTMzCzs",
        "colab_type": "text"
      },
      "source": [
        "6. Generate 5 new images by injecting random values as input to the decoder. Show them.\n"
      ]
    },
    {
      "cell_type": "code",
      "metadata": {
        "id": "z-_w1mLpzDit",
        "colab_type": "code",
        "outputId": "c4f6fa9b-68dc-4fe7-dd2c-599866474eca",
        "colab": {
          "base_uri": "https://localhost:8080/",
          "height": 657
        }
      },
      "source": [
        "input = torch.rand(5,14,7,7)\n",
        "\n",
        "new_dec = Decoder(14)\n",
        "output = new_dec(input)\n",
        "#print(np.squeeze(input[3].detach()).size())\n",
        "\n",
        "#self.t_conv1 = nn.ConvTranspose2d(bottleneck, 16, 2, stride=2)\n",
        "#self.t_conv2 = nn.ConvTranspose2d(16, 1, 2, stride=2)\n",
        "import cv2\n",
        "\n",
        "from skimage import color\n",
        "from skimage import io\n",
        "\n",
        "input_new = input.view(5,14,7,7)\n",
        "input_new = input.detach().numpy()\n",
        "#output = output.view(5,3,28,28)\n",
        "print(output.size())\n",
        "output = output.detach().numpy()\n",
        "out_new = output.reshape(5,28,28,1)\n",
        "input_new = input_new.reshape(5,7,7,14)\n",
        "\n",
        "fig, axes = plt.subplots(nrows=2, ncols=5, sharex=True, sharey=True, figsize=(25,10))\n",
        "for i in range(5):\n",
        "  #grayImage = your4Dimage(:,:,1,181)\n",
        "  \n",
        "  axes[0][i].imshow(color.rgb2gray(np.squeeze(input_new[i])),cmap = 'gray')\n",
        "  axes[1][i].imshow(color.rgb2gray(np.squeeze(out_new[i])),cmap = 'gray')\n",
        "\n",
        "\n",
        "\n",
        "fig.show()"
      ],
      "execution_count": 20,
      "outputs": [
        {
          "output_type": "stream",
          "text": [
            "/usr/local/lib/python3.6/dist-packages/torch/nn/functional.py:1351: UserWarning: nn.functional.sigmoid is deprecated. Use torch.sigmoid instead.\n",
            "  warnings.warn(\"nn.functional.sigmoid is deprecated. Use torch.sigmoid instead.\")\n"
          ],
          "name": "stderr"
        },
        {
          "output_type": "stream",
          "text": [
            "torch.Size([5, 1, 28, 28])\n"
          ],
          "name": "stdout"
        },
        {
          "output_type": "display_data",
          "data": {
            "image/png": "[encoded data removed]",
            "text/plain": [
              "<Figure size 1800x720 with 10 Axes>"
            ]
          },
          "metadata": {
            "tags": []
          }
        }
      ]
    },
    {
      "cell_type": "markdown",
      "metadata": {
        "id": "bHL5xdA0Z9yY",
        "colab_type": "text"
      },
      "source": [
        "## **Excercise** 2\n"
      ]
    },
    {
      "cell_type": "markdown",
      "metadata": {
        "id": "akjWNJPdRAr_",
        "colab_type": "text"
      },
      "source": [
        "# 1.Select subset of 100 images & labels"
      ]
    },
    {
      "cell_type": "code",
      "metadata": {
        "id": "AeRwhhz-aACs",
        "colab_type": "code",
        "colab": {}
      },
      "source": [
        "subset  = torch.utils.data.Subset(train_dataset, range(0, 100))\n",
        "len(subset)\n",
        "subset_loader = torch.utils.data.DataLoader(subset, batch_size=batch_size, num_workers=num_workers)\n",
        "\n"
      ],
      "execution_count": 0,
      "outputs": []
    },
    {
      "cell_type": "markdown",
      "metadata": {
        "id": "O19D00rUc2Cy",
        "colab_type": "text"
      },
      "source": [
        "# 2. select one of the autoencoder"
      ]
    },
    {
      "cell_type": "code",
      "metadata": {
        "id": "3AjRTGvOc4W4",
        "colab_type": "code",
        "colab": {}
      },
      "source": [
        "encoder = Encoder(3)\n"
      ],
      "execution_count": 0,
      "outputs": []
    },
    {
      "cell_type": "markdown",
      "metadata": {
        "id": "EX-z93i1Rc8P",
        "colab_type": "text"
      },
      "source": [
        "# 3. create the classification model"
      ]
    },
    {
      "cell_type": "code",
      "metadata": {
        "id": "HLPUbOa-oAOH",
        "colab_type": "code",
        "colab": {}
      },
      "source": [
        "model_classifier =    nn.Sequential( nn.Linear(3*7*7,10),\n",
        "                      nn.LogSoftmax(-1)\n",
        "                      )\n",
        "\n",
        "#model_2 = nn.Sequential(encoder,\n",
        " #                       nn.Flatten(),\n",
        "  #                      nn.Linear(3*7*7,10),\n",
        "    #                    nn.LogSoftmax(-1)\n",
        "   #                     )\n",
        "\n",
        "model_2 = nn.Sequential(encoder,\n",
        "                        nn.Flatten(),\n",
        "                        model_classifier)"
      ],
      "execution_count": 0,
      "outputs": []
    },
    {
      "cell_type": "markdown",
      "metadata": {
        "id": "G6_FZcH7e3GH",
        "colab_type": "text"
      },
      "source": [
        "# 4. Train the classifer"
      ]
    },
    {
      "cell_type": "code",
      "metadata": {
        "id": "XpJlkh9te4jT",
        "colab_type": "code",
        "outputId": "3f440672-07cf-4026-f367-f2d90e63d2ca",
        "colab": {
          "base_uri": "https://localhost:8080/",
          "height": 884
        }
      },
      "source": [
        "criterion = F.nll_loss\n",
        "\n",
        "# Optimizer\n",
        "#optimizer = torch.optim.Adam(model_2.parameters(), lr=0.001)\n",
        "optimizer = torch.optim.RMSprop(model_2.parameters(), lr=0.001)\n",
        "train_losses, val_losses = [],[]\n",
        "epochs = 10\n",
        "model_2.train()\n",
        "for e in range(1, epochs+1):\n",
        "    train_loss = 0.0  # monitor training loss\n",
        "    for data in subset_loader:\n",
        "     \n",
        "      images, labels = data                        # we are just intrested in just images & labels\n",
        "      optimizer.zero_grad()                        # clear the gradients\n",
        "      outputs = model_2(images)                    # forward pass: compute predicted outputs \n",
        "      loss = criterion(outputs, labels)           # calculate the loss\n",
        "      loss.backward()                             # backward pass\n",
        "      optimizer.step()                             # perform optimization step\n",
        "      train_loss += loss.item()*images.size(0)     # update running training loss\n",
        "\n",
        "      train_loss = train_loss/len(train_loader)\n",
        "      print('Epoch: {}'.format(e),\n",
        "              '\\tTraining Loss: {:.4f}'.format(train_loss))\n",
        "      train_losses.append(train_loss)\n",
        "   #bottleneck = bottleneck +3\n",
        "   #print (bottlneck)\n",
        "\n"
      ],
      "execution_count": 29,
      "outputs": [
        {
          "output_type": "stream",
          "text": [
            "Epoch: 1 \tTraining Loss: 0.0162\n",
            "Epoch: 1 \tTraining Loss: 0.0163\n",
            "Epoch: 1 \tTraining Loss: 0.0161\n",
            "Epoch: 1 \tTraining Loss: 0.0162\n",
            "Epoch: 1 \tTraining Loss: 0.0160\n",
            "Epoch: 2 \tTraining Loss: 0.0157\n",
            "Epoch: 2 \tTraining Loss: 0.0155\n",
            "Epoch: 2 \tTraining Loss: 0.0153\n",
            "Epoch: 2 \tTraining Loss: 0.0152\n",
            "Epoch: 2 \tTraining Loss: 0.0145\n",
            "Epoch: 3 \tTraining Loss: 0.0141\n",
            "Epoch: 3 \tTraining Loss: 0.0133\n",
            "Epoch: 3 \tTraining Loss: 0.0130\n",
            "Epoch: 3 \tTraining Loss: 0.0125\n",
            "Epoch: 3 \tTraining Loss: 0.0115\n",
            "Epoch: 4 \tTraining Loss: 0.0116\n",
            "Epoch: 4 \tTraining Loss: 0.0098\n",
            "Epoch: 4 \tTraining Loss: 0.0100\n",
            "Epoch: 4 \tTraining Loss: 0.0093\n",
            "Epoch: 4 \tTraining Loss: 0.0090\n",
            "Epoch: 5 \tTraining Loss: 0.0091\n",
            "Epoch: 5 \tTraining Loss: 0.0068\n",
            "Epoch: 5 \tTraining Loss: 0.0080\n",
            "Epoch: 5 \tTraining Loss: 0.0071\n",
            "Epoch: 5 \tTraining Loss: 0.0075\n",
            "Epoch: 6 \tTraining Loss: 0.0075\n",
            "Epoch: 6 \tTraining Loss: 0.0050\n",
            "Epoch: 6 \tTraining Loss: 0.0067\n",
            "Epoch: 6 \tTraining Loss: 0.0058\n",
            "Epoch: 6 \tTraining Loss: 0.0064\n",
            "Epoch: 7 \tTraining Loss: 0.0062\n",
            "Epoch: 7 \tTraining Loss: 0.0038\n",
            "Epoch: 7 \tTraining Loss: 0.0057\n",
            "Epoch: 7 \tTraining Loss: 0.0048\n",
            "Epoch: 7 \tTraining Loss: 0.0056\n",
            "Epoch: 8 \tTraining Loss: 0.0052\n",
            "Epoch: 8 \tTraining Loss: 0.0030\n",
            "Epoch: 8 \tTraining Loss: 0.0050\n",
            "Epoch: 8 \tTraining Loss: 0.0041\n",
            "Epoch: 8 \tTraining Loss: 0.0049\n",
            "Epoch: 9 \tTraining Loss: 0.0045\n",
            "Epoch: 9 \tTraining Loss: 0.0025\n",
            "Epoch: 9 \tTraining Loss: 0.0044\n",
            "Epoch: 9 \tTraining Loss: 0.0036\n",
            "Epoch: 9 \tTraining Loss: 0.0044\n",
            "Epoch: 10 \tTraining Loss: 0.0038\n",
            "Epoch: 10 \tTraining Loss: 0.0020\n",
            "Epoch: 10 \tTraining Loss: 0.0039\n",
            "Epoch: 10 \tTraining Loss: 0.0031\n",
            "Epoch: 10 \tTraining Loss: 0.0039\n"
          ],
          "name": "stdout"
        }
      ]
    },
    {
      "cell_type": "markdown",
      "metadata": {
        "id": "7LTQ8ezsmO2S",
        "colab_type": "text"
      },
      "source": [
        "5. Fine tuning, using different learnig rates"
      ]
    },
    {
      "cell_type": "code",
      "metadata": {
        "id": "dmGv7kb5mQoM",
        "colab_type": "code",
        "outputId": "d83a1a82-f66f-4fa9-ff87-18bba99da008",
        "colab": {
          "base_uri": "https://localhost:8080/",
          "height": 884
        }
      },
      "source": [
        "criterion = F.nll_loss\n",
        "\n",
        "# Optimizer\n",
        "optimizer = torch.optim.Adam(encoder.parameters(), lr=0.00000001)\n",
        "optimizer1 = torch.optim.Adam(model_classifier.parameters(), lr=0.001)\n",
        "#optimizer = torch.optim.RMSprop(model_2.parameters(), lr=0.001)\n",
        "\n",
        "train_losses, val_losses = [],[]\n",
        "epochs = 10\n",
        "model_2.train()\n",
        "for e in range(1, epochs+1):\n",
        "    train_loss = 0.0  # monitor training loss\n",
        "    for data in subset_loader:\n",
        "     \n",
        "      images, labels = data                        # we are just intrested in just images & labels\n",
        "      optimizer.zero_grad()                        # clear the gradients\n",
        "      optimizer1.zero_grad()                        # clear the gradients\n",
        "      outputs = model_2(images)                    # forward pass: compute predicted outputs \n",
        "      loss = criterion(outputs, labels)           # calculate the loss\n",
        "      loss.backward()                             # backward pass\n",
        "      optimizer.step()                             # perform optimization step\n",
        "      optimizer1.step()\n",
        "      train_loss += loss.item()*images.size(0)     # update running training loss\n",
        "\n",
        "      train_loss = train_loss/len(train_loader)\n",
        "      print('Epoch: {}'.format(e),\n",
        "              '\\tTraining Loss: {:.4f}'.format(train_loss))\n",
        "      train_losses.append(train_loss)\n",
        "   \n"
      ],
      "execution_count": 30,
      "outputs": [
        {
          "output_type": "stream",
          "text": [
            "Epoch: 1 \tTraining Loss: 0.0033\n",
            "Epoch: 1 \tTraining Loss: 0.0016\n",
            "Epoch: 1 \tTraining Loss: 0.0035\n",
            "Epoch: 1 \tTraining Loss: 0.0024\n",
            "Epoch: 1 \tTraining Loss: 0.0035\n",
            "Epoch: 2 \tTraining Loss: 0.0026\n",
            "Epoch: 2 \tTraining Loss: 0.0014\n",
            "Epoch: 2 \tTraining Loss: 0.0031\n",
            "Epoch: 2 \tTraining Loss: 0.0023\n",
            "Epoch: 2 \tTraining Loss: 0.0032\n",
            "Epoch: 3 \tTraining Loss: 0.0024\n",
            "Epoch: 3 \tTraining Loss: 0.0013\n",
            "Epoch: 3 \tTraining Loss: 0.0030\n",
            "Epoch: 3 \tTraining Loss: 0.0024\n",
            "Epoch: 3 \tTraining Loss: 0.0028\n",
            "Epoch: 4 \tTraining Loss: 0.0023\n",
            "Epoch: 4 \tTraining Loss: 0.0012\n",
            "Epoch: 4 \tTraining Loss: 0.0029\n",
            "Epoch: 4 \tTraining Loss: 0.0023\n",
            "Epoch: 4 \tTraining Loss: 0.0026\n",
            "Epoch: 5 \tTraining Loss: 0.0022\n",
            "Epoch: 5 \tTraining Loss: 0.0012\n",
            "Epoch: 5 \tTraining Loss: 0.0027\n",
            "Epoch: 5 \tTraining Loss: 0.0022\n",
            "Epoch: 5 \tTraining Loss: 0.0026\n",
            "Epoch: 6 \tTraining Loss: 0.0021\n",
            "Epoch: 6 \tTraining Loss: 0.0011\n",
            "Epoch: 6 \tTraining Loss: 0.0026\n",
            "Epoch: 6 \tTraining Loss: 0.0020\n",
            "Epoch: 6 \tTraining Loss: 0.0025\n",
            "Epoch: 7 \tTraining Loss: 0.0020\n",
            "Epoch: 7 \tTraining Loss: 0.0011\n",
            "Epoch: 7 \tTraining Loss: 0.0025\n",
            "Epoch: 7 \tTraining Loss: 0.0020\n",
            "Epoch: 7 \tTraining Loss: 0.0024\n",
            "Epoch: 8 \tTraining Loss: 0.0019\n",
            "Epoch: 8 \tTraining Loss: 0.0010\n",
            "Epoch: 8 \tTraining Loss: 0.0023\n",
            "Epoch: 8 \tTraining Loss: 0.0019\n",
            "Epoch: 8 \tTraining Loss: 0.0023\n",
            "Epoch: 9 \tTraining Loss: 0.0018\n",
            "Epoch: 9 \tTraining Loss: 0.0010\n",
            "Epoch: 9 \tTraining Loss: 0.0022\n",
            "Epoch: 9 \tTraining Loss: 0.0019\n",
            "Epoch: 9 \tTraining Loss: 0.0022\n",
            "Epoch: 10 \tTraining Loss: 0.0018\n",
            "Epoch: 10 \tTraining Loss: 0.0009\n",
            "Epoch: 10 \tTraining Loss: 0.0021\n",
            "Epoch: 10 \tTraining Loss: 0.0018\n",
            "Epoch: 10 \tTraining Loss: 0.0021\n"
          ],
          "name": "stdout"
        }
      ]
    },
    {
      "cell_type": "markdown",
      "metadata": {
        "id": "vDMd6vwLw00A",
        "colab_type": "text"
      },
      "source": [
        "## 6. Train the 100 samples from scratch\n"
      ]
    },
    {
      "cell_type": "code",
      "metadata": {
        "id": "2Uacsqo0w7gY",
        "colab_type": "code",
        "colab": {}
      },
      "source": [
        "# without using encoder? or decoder"
      ],
      "execution_count": 0,
      "outputs": []
    },
    {
      "cell_type": "markdown",
      "metadata": {
        "id": "6-BYJxGJr97A",
        "colab_type": "text"
      },
      "source": [
        "## 7. Show the accuracy of the four ??three?? models on the test set in a table"
      ]
    },
    {
      "cell_type": "code",
      "metadata": {
        "id": "0WHhZDvdt_Uz",
        "colab_type": "code",
        "colab": {}
      },
      "source": [
        ""
      ],
      "execution_count": 0,
      "outputs": []
    }
  ]
}
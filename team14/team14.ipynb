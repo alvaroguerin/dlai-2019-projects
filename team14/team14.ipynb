{
  "nbformat": 4,
  "nbformat_minor": 0,
  "metadata": {
    "colab": {
      "name": "team14.ipynb",
      "provenance": [],
      "collapsed_sections": []
    },
    "kernelspec": {
      "name": "python3",
      "display_name": "Python 3"
    }
  },
  "cells": [
    {
      "cell_type": "markdown",
      "metadata": {
        "id": "y8mBmXEQGbpM",
        "colab_type": "text"
      },
      "source": [
        "# **DLAI PROJECT - 2019**\n",
        "---\n",
        "##**Elisabet Bayó, Guillem Bonafonte, Witold Drozdzowski, Jady Ramanandray**\n",
        "\n",
        "\n",
        "\n",
        "\n"
      ]
    },
    {
      "cell_type": "markdown",
      "metadata": {
        "id": "gS0qIx3o3kNW",
        "colab_type": "text"
      },
      "source": [
        "#**Preparations of the environment**#\n",
        "\n",
        "We import all the necessary libraries to use and train the neural networks and to visualize the data.\n"
      ]
    },
    {
      "cell_type": "code",
      "metadata": {
        "id": "t9G3sIlO3yYi",
        "colab_type": "code",
        "outputId": "1f80baaa-348d-49c4-a0b3-fc3584eb20b4",
        "colab": {
          "base_uri": "https://localhost:8080/",
          "height": 34
        }
      },
      "source": [
        "import torch\n",
        "import numpy as np\n",
        "from torchvision import datasets\n",
        "import torchvision.transforms as transforms\n",
        "import torch.nn as nn\n",
        "import torch.optim as optim\n",
        "import torch.nn.functional as F\n",
        "import random\n",
        "import copy\n",
        "from torch.autograd import Variable\n",
        "\n",
        "\n",
        "import matplotlib.pyplot as plt\n",
        "%matplotlib inline\n",
        "import itertools\n",
        "from numpy import array\n",
        "\n",
        "from prettytable import PrettyTable\n",
        "from google.colab import drive\n",
        "drive.mount('/content/gdrive')"
      ],
      "execution_count": 247,
      "outputs": [
        {
          "output_type": "stream",
          "text": [
            "Drive already mounted at /content/gdrive; to attempt to forcibly remount, call drive.mount(\"/content/gdrive\", force_remount=True).\n"
          ],
          "name": "stdout"
        }
      ]
    },
    {
      "cell_type": "markdown",
      "metadata": {
        "id": "6_9R11LbypQE",
        "colab_type": "text"
      },
      "source": [
        "We define hyperparameters to use in the models as well as saving them. We also define to work on GPU when possible"
      ]
    },
    {
      "cell_type": "code",
      "metadata": {
        "id": "eTa8DpnP3cca",
        "colab_type": "code",
        "colab": {}
      },
      "source": [
        "hparams = {\n",
        "    'batch_size':100,\n",
        "    'num_epochs':5,\n",
        "    'learning_rate':1e-3,\n",
        "    'log_interval':100,\n",
        "    'train_percentage':0.95,\n",
        "    'autoencoder_criterion':nn.MSELoss(),\n",
        "    'model_path':F\"/content/gdrive/My Drive/Colab Notebooks/\",\n",
        "}\n",
        "hparams['device'] = 'cuda' if torch.cuda.is_available() else 'cpu'"
      ],
      "execution_count": 0,
      "outputs": []
    },
    {
      "cell_type": "markdown",
      "metadata": {
        "id": "FwGgVD7nwE8L",
        "colab_type": "text"
      },
      "source": [
        "#**EXERCISE 1 : Convolutional Autoencoder**"
      ]
    },
    {
      "cell_type": "markdown",
      "metadata": {
        "id": "6Y9gzzj8vQzy",
        "colab_type": "text"
      },
      "source": [
        "##1. Load MNIST train and test sets. Split the original training data into 95% training and 5% validation data.\n",
        "\n",
        "\n"
      ]
    },
    {
      "cell_type": "code",
      "metadata": {
        "id": "oh7H4vkTvU-I",
        "colab_type": "code",
        "colab": {}
      },
      "source": [
        "transform = transforms.ToTensor()\n",
        "\n",
        "initial_data = datasets.MNIST(root='data', train=True, download=True, transform=transform)\n",
        "test_data = datasets.MNIST(root='data', train=False, download=True, transform=transform)\n",
        "\n",
        "train_size = int(hparams['train_percentage'] * len(initial_data))\n",
        "validation_size = len(initial_data) - train_size\n",
        "train_dataset, validation_dataset = torch.utils.data.random_split(initial_data, [train_size, validation_size])\n",
        "test_dataset = test_data\n",
        "\n",
        "train_loader = torch.utils.data.DataLoader(train_dataset, batch_size=hparams['batch_size'], shuffle=True)\n",
        "validation_loader = torch.utils.data.DataLoader(validation_dataset, batch_size=hparams['batch_size'], shuffle=True)\n",
        "test_loader = torch.utils.data.DataLoader(test_dataset,batch_size=hparams['batch_size'], shuffle=True)\n"
      ],
      "execution_count": 0,
      "outputs": []
    },
    {
      "cell_type": "markdown",
      "metadata": {
        "id": "y50JCesovagZ",
        "colab_type": "text"
      },
      "source": [
        "## 2. Implement a convolutional autoencoder (with separate Encoder and Decoder modules).\n"
      ]
    },
    {
      "cell_type": "markdown",
      "metadata": {
        "id": "LDWYr21e1zrX",
        "colab_type": "text"
      },
      "source": [
        "### a) Number of parameters per model\n",
        "We define a function to count the number of parameters of a model"
      ]
    },
    {
      "cell_type": "code",
      "metadata": {
        "id": "6ZX3Wj7nvdxm",
        "colab_type": "code",
        "colab": {}
      },
      "source": [
        "def model_params(model):\n",
        "    number_of_paremeters=0\n",
        "    for parameter in list(model.parameters()):\n",
        "        neural_network=1\n",
        "        for size_index in list(parameter.size()):\n",
        "            neural_network = neural_network*size_index\n",
        "        number_of_paremeters += neural_network\n",
        "    return number_of_paremeters"
      ],
      "execution_count": 0,
      "outputs": []
    },
    {
      "cell_type": "markdown",
      "metadata": {
        "id": "hHHaIJ9I5ilO",
        "colab_type": "text"
      },
      "source": [
        "### b) encoder\n",
        "\n",
        "We define a convolutional encoder with two **(convolutional - max pooling - ReLU activation function)** layers, a** flattening layer **and a **fully connected layer**. This encoder takes the `bottleneck_size` as a parameter."
      ]
    },
    {
      "cell_type": "code",
      "metadata": {
        "id": "WEuaYeQT5hXS",
        "colab_type": "code",
        "colab": {}
      },
      "source": [
        "class Encoder(nn.Module):\n",
        "  def __init__(self, bottleneck_size):\n",
        "    super(Encoder, self).__init__()\n",
        "    \n",
        "    self.conv1 = nn.Conv2d(1, 20, 3, padding=1)  \n",
        "    self.conv2 = nn.Conv2d(20, 10, 3, padding=1)\n",
        "    self.flatten = nn.Flatten()\n",
        "    self.linear = nn.Linear(7*7*10,bottleneck_size) \n",
        "    self.relu = nn.ReLU()    \n",
        "    self.pool = nn.MaxPool2d(2, 2)\n",
        "    \n",
        "  def forward(self,x):\n",
        "    x = self.conv1(x)\n",
        "    x = self.relu(x)\n",
        "    x = self.pool(x)\n",
        "    x = self.conv2(x)\n",
        "    x = self.relu(x)\n",
        "    x = self.pool(x) \n",
        "    x = self.flatten(x)\n",
        "    x = self.linear(x)\n",
        "    x = self.relu(x)\n",
        "\n",
        "    return x"
      ],
      "execution_count": 0,
      "outputs": []
    },
    {
      "cell_type": "markdown",
      "metadata": {
        "id": "MJuN2VjbIwyu",
        "colab_type": "text"
      },
      "source": [
        "### c) decoder\n",
        "We define the decoder network according to the previously defined encoder.\n",
        "We use : a **fully connected layer** from bottleneck to 10*7*7, a **ReLU activation function**, an unflattening function (**view function**), and two transposed convolutional layers. The **first transposed convolution layer is followed by a ReLU activation**, and the **last one by a Sigmoid activation**, in order to scale the outputs between 0 and 1. Again, we have the `bottleneck_size` as a parameter for its configuration."
      ]
    },
    {
      "cell_type": "code",
      "metadata": {
        "id": "Wxoys0DX54oL",
        "colab_type": "code",
        "colab": {}
      },
      "source": [
        "class Decoder(nn.Module):\n",
        "  def __init__(self, bottleneck_size):\n",
        "    super(Decoder, self).__init__()\n",
        "    self.linear = nn.Linear(bottleneck_size, 10*7*7)\n",
        "    self.t_conv1 = nn.ConvTranspose2d(10, 20, 2, stride=2)\n",
        "    self.t_conv2 = nn.ConvTranspose2d(20, 1, 2, stride=2)\n",
        "    self.sigmoid = nn.Sigmoid()\n",
        "    self.relu = nn.ReLU()\n",
        "    \n",
        "  def forward(self,code):\n",
        "    x = code\n",
        "    x = self.linear(x)\n",
        "    x = self.relu(x)\n",
        "    x = x.view([x.shape[0],10,7,7])\n",
        "    x = self.t_conv1(x)\n",
        "    x = self.relu(x)\n",
        "    x = self.t_conv2(x)\n",
        "    x = self.sigmoid(x)\n",
        "    return x"
      ],
      "execution_count": 0,
      "outputs": []
    },
    {
      "cell_type": "markdown",
      "metadata": {
        "id": "5jKAdL9Eve6v",
        "colab_type": "text"
      },
      "source": [
        "## 3. Train the convolutional autoencoder, with different bottleneck sizes. Plot the train and validation loss curves of all autoencoders in the same figure."
      ]
    },
    {
      "cell_type": "markdown",
      "metadata": {
        "id": "41ESRcHh6byH",
        "colab_type": "text"
      },
      "source": [
        "### a) Epochs preparation and other auxiliary functions"
      ]
    },
    {
      "cell_type": "markdown",
      "metadata": {
        "id": "8UjvbUTn4NHq",
        "colab_type": "text"
      },
      "source": [
        "#### i) Definition of a train epoch"
      ]
    },
    {
      "cell_type": "code",
      "metadata": {
        "id": "-zJnndRGv46L",
        "colab_type": "code",
        "colab": {}
      },
      "source": [
        "def train_epoch(train_loader, EncoderModel, DecoderModel, optimizer, criterion, hparams, epoch):\n",
        "  EncoderModel.train()\n",
        "  DecoderModel.train()\n",
        "  \n",
        "  loss = 0.0\n",
        "  losses = []\n",
        "\n",
        "  for batch_idx, (data) in enumerate(train_loader, 1):\n",
        "      data = data[0].to(hparams['device'])\n",
        "      optimizer.zero_grad()\n",
        "\n",
        "      outputs = DecoderModel(EncoderModel(data))\n",
        "      \n",
        "      loss = criterion(outputs, data)\n",
        "      \n",
        "      loss.backward()\n",
        "      losses.append(loss.item())\n",
        "      optimizer.step()\n",
        "\n",
        "      if batch_idx % hparams['log_interval'] == 0 or batch_idx >= len(train_loader):\n",
        "          print('Train Epoch: {} [{}/{} ({:.0f}%)]\\tLoss: {:.6f}'.format(epoch, batch_idx * len(data), len(train_loader.dataset), 100. * batch_idx / len(train_loader), loss.item()))\n",
        "          \n",
        "\n",
        "  return losses\n"
      ],
      "execution_count": 0,
      "outputs": []
    },
    {
      "cell_type": "markdown",
      "metadata": {
        "id": "559CzNIH4ywn",
        "colab_type": "text"
      },
      "source": [
        "#### ii) Definition of the MSE loss over an image and then over a batch of images\n"
      ]
    },
    {
      "cell_type": "code",
      "metadata": {
        "id": "MXQRqTfvFVs9",
        "colab_type": "code",
        "colab": {}
      },
      "source": [
        "def MSE_Image(imageA, imageB):\n",
        "\terr = np.sum((imageA.data.numpy() - imageB.data.numpy()) ** 2)\n",
        "\terr /= float((imageA.shape[0] * imageA.shape[1]))\n",
        "\treturn err"
      ],
      "execution_count": 0,
      "outputs": []
    },
    {
      "cell_type": "code",
      "metadata": {
        "id": "l6fWzmxhFWZd",
        "colab_type": "code",
        "colab": {}
      },
      "source": [
        "def MSE_Batch (original, reconstructed, batch_size):\n",
        "  err = 0\n",
        "  for i in range (0,batch_size):\n",
        "    err += MSE_Image(original[i].detach(),reconstructed[i].detach())\n",
        "    err /= float(batch_size)\n",
        "  return err"
      ],
      "execution_count": 0,
      "outputs": []
    },
    {
      "cell_type": "markdown",
      "metadata": {
        "id": "TygNt5915Tem",
        "colab_type": "text"
      },
      "source": [
        "#### iii) Definition of the validation epoch\n",
        "\n",
        "We set the models to **evaluation mode**. The `criterion` is set as a parameter for the validation step. We also have the option to calculate the average `Image_MSE`."
      ]
    },
    {
      "cell_type": "code",
      "metadata": {
        "id": "QQ_3r3P65jHV",
        "colab_type": "code",
        "colab": {}
      },
      "source": [
        "def eval_epoch(eval_loader,  EncoderModel, DecoderModel, criterion, hparams, printing=True, Image_MSE=False):\n",
        "  EncoderModel.eval()\n",
        "  DecoderModel.eval()\n",
        "  \n",
        "  eval_loss = 0\n",
        "  avg_img = 0\n",
        "  \n",
        "  with torch.no_grad():\n",
        "      for data in eval_loader:\n",
        "          data = data[0].to(hparams['device']) \n",
        "\n",
        "          firstOutput = EncoderModel(data)\n",
        "          outputs = DecoderModel(firstOutput)\n",
        "          eval_loss += criterion(outputs, data).item()\n",
        "          \n",
        "          if Image_MSE:\n",
        "            avg_img += MSE_Batch(data,outputs,hparams['batch_size'])\n",
        "\n",
        "      eval_loss /=len(eval_loader)\n",
        "      avg_img /= len (eval_loader)\n",
        "\n",
        "  if printing:\n",
        "    print('Eval set: Average loss: {:.15f}'.format(eval_loss))\n",
        "  \n",
        "  if Image_MSE:\n",
        "    return eval_loss, avg_img\n",
        "  else:  \n",
        "    return eval_loss"
      ],
      "execution_count": 0,
      "outputs": []
    },
    {
      "cell_type": "markdown",
      "metadata": {
        "id": "ajdDesiW6Dg9",
        "colab_type": "text"
      },
      "source": [
        "#### iv) We define a function to train a whole autoencoder\n",
        "\n",
        "We use **Adam** as optimizer because it is effective and has benefits from AdaGrad (deals with problems including sparse gradients) and RMSProp (deals with online and noisy problems). <br>\n",
        "We use **MSELoss** as criterion because the reconstructed image from the autoencoder is a real-valued of the input images."
      ]
    },
    {
      "cell_type": "code",
      "metadata": {
        "id": "B_kI2G-E5kWt",
        "colab_type": "code",
        "colab": {}
      },
      "source": [
        "def train_autoencoder(myEncoder, myDecoder,criterion):\n",
        "  train_losses = []\n",
        "  eval_losses = []\n",
        "  test_losses = []\n",
        "\n",
        "  myEncoder.to(hparams['device'])\n",
        "  myDecoder.to(hparams['device'])\n",
        "\n",
        "  optimizer = optim.Adam(list(myEncoder.parameters()) + list(myDecoder.parameters()), lr=hparams['learning_rate'])\n",
        "\n",
        "  for epoch in range(1, hparams['num_epochs'] + 1):\n",
        "    tr_loss = train_epoch(train_loader, myEncoder, myDecoder, optimizer, criterion, hparams, epoch)\n",
        "    te_loss = eval_epoch(validation_loader, myEncoder, myDecoder, criterion, hparams)\n",
        "    train_losses.append(tr_loss)\n",
        "    eval_losses.append(te_loss)\n",
        "    \n",
        "\n",
        "  return myEncoder, myDecoder, train_losses, eval_losses"
      ],
      "execution_count": 0,
      "outputs": []
    },
    {
      "cell_type": "markdown",
      "metadata": {
        "id": "RJgz5NjX63ZQ",
        "colab_type": "text"
      },
      "source": [
        "#### v) Save models\n",
        "\n",
        "We define a function to save the models in the Drive so we don't have to train them in every execution of the notebook"
      ]
    },
    {
      "cell_type": "code",
      "metadata": {
        "id": "6ASpXDFW62py",
        "colab_type": "code",
        "colab": {}
      },
      "source": [
        "def save_models():\n",
        "\n",
        "  for bottleneck_size in bottlenecks:\n",
        "    model_save_name = 'myEncoder' + str(bottleneck_size) + '.pt'\n",
        "    path = hparams[\"model_path\"] + model_save_name\n",
        "    torch.save(myEncoders[bottleneck_size].state_dict(), path)\n",
        "    \n",
        "    model_save_name = 'myDecoder' + str(bottleneck_size) + '.pt'\n",
        "    path = hparams[\"model_path\"] + model_save_name\n",
        "    torch.save(myDecoders[bottleneck_size].state_dict(), path)\n"
      ],
      "execution_count": 0,
      "outputs": []
    },
    {
      "cell_type": "markdown",
      "metadata": {
        "id": "6VJS4k0K7TE-",
        "colab_type": "text"
      },
      "source": [
        "#### vi) Load models\n",
        "\n",
        "We define a function that loads one model from Drive, and another one that loads a series of models by a list of bottleneck sizes. Both of them generate again the variables `myEncoders` and `myDecoders` in which we save all the trained models."
      ]
    },
    {
      "cell_type": "code",
      "metadata": {
        "id": "9DpkXYzYJSft",
        "colab_type": "code",
        "colab": {}
      },
      "source": [
        "def load_model(modelname, modelClass):\n",
        "  \n",
        "  path = hparams['model_path'] + modelname +'.pt'\n",
        "  modelClass.load_state_dict(torch.load(path))"
      ],
      "execution_count": 0,
      "outputs": []
    },
    {
      "cell_type": "code",
      "metadata": {
        "id": "j5pxJVsGXW-H",
        "colab_type": "code",
        "colab": {}
      },
      "source": [
        "def load_all_models(bottlenecks):\n",
        "\n",
        "  myEncoders = {}\n",
        "  myDecoders = {}\n",
        "\n",
        " \n",
        "  for each_bottleneck_size in bottlenecks:\n",
        "    myLoadedEncoder = Encoder(each_bottleneck_size)\n",
        "    myLoadedDecoder = Decoder(each_bottleneck_size)\n",
        "\n",
        "    model_load_name = 'myEncoder' + str(each_bottleneck_size)\n",
        "    load_model(model_load_name, myLoadedEncoder)\n",
        "    myEncoders[each_bottleneck_size] = (myLoadedEncoder)\n",
        "    \n",
        "    model_load_name = 'myDecoder' + str(each_bottleneck_size)\n",
        "    load_model(model_load_name, myLoadedDecoder)\n",
        "    myDecoders[each_bottleneck_size] = (myLoadedDecoder)\n",
        "\n",
        "  \n",
        "  return myEncoders,myDecoders"
      ],
      "execution_count": 0,
      "outputs": []
    },
    {
      "cell_type": "markdown",
      "metadata": {
        "id": "4xfaQcCR6f50",
        "colab_type": "text"
      },
      "source": [
        "### b) Training\n",
        "\n",
        "We train the autoendoer with different sizes of the bottleneck (`bottlenecks`)"
      ]
    },
    {
      "cell_type": "markdown",
      "metadata": {
        "id": "IfMbDbwe_I7d",
        "colab_type": "text"
      },
      "source": [
        "#### i) Train autoencoders"
      ]
    },
    {
      "cell_type": "code",
      "metadata": {
        "id": "45lurxB6_ki9",
        "colab_type": "code",
        "colab": {}
      },
      "source": [
        "bottlenecks = [5,20,50,70]"
      ],
      "execution_count": 0,
      "outputs": []
    },
    {
      "cell_type": "code",
      "metadata": {
        "id": "5Zq-u7RmDuGg",
        "colab_type": "code",
        "colab": {
          "base_uri": "https://localhost:8080/",
          "height": 1000
        },
        "outputId": "b22a3acb-6209-430d-fd6d-b25696a461b2"
      },
      "source": [
        "myEncoders = {}\n",
        "myDecoders = {}\n",
        "myTrain_losses = []\n",
        "myEval_losses = []\n",
        "\n",
        "for bottleneck_size in bottlenecks:\n",
        "  print(\"\\n***************** BOTTLENECK SIZE:\",bottleneck_size,\" ************************\")\n",
        "  myEncoder = Encoder(bottleneck_size)  \n",
        "  myDecoder = Decoder(bottleneck_size)\n",
        "\n",
        "  myTrainResults = train_autoencoder(myEncoder, myDecoder,hparams['autoencoder_criterion'])\n",
        "  myEncoders[bottleneck_size] = (myTrainResults[0])\n",
        "  myDecoders[bottleneck_size] = (myTrainResults[1])\n",
        "  myTrain_losses.append(myTrainResults[2])\n",
        "  myEval_losses.append(myTrainResults[3])\n"
      ],
      "execution_count": 263,
      "outputs": [
        {
          "output_type": "stream",
          "text": [
            "\n",
            "***************** BOTTLENECK SIZE: 5  ************************\n",
            "Train Epoch: 1 [10000/57000 (18%)]\tLoss: 0.081850\n",
            "Train Epoch: 1 [20000/57000 (35%)]\tLoss: 0.073570\n",
            "Train Epoch: 1 [30000/57000 (53%)]\tLoss: 0.069503\n",
            "Train Epoch: 1 [40000/57000 (70%)]\tLoss: 0.069112\n",
            "Train Epoch: 1 [50000/57000 (88%)]\tLoss: 0.065119\n",
            "Train Epoch: 1 [57000/57000 (100%)]\tLoss: 0.061148\n",
            "Eval set: Average loss: 0.062363324562709\n",
            "Train Epoch: 2 [10000/57000 (18%)]\tLoss: 0.063472\n",
            "Train Epoch: 2 [20000/57000 (35%)]\tLoss: 0.061583\n",
            "Train Epoch: 2 [30000/57000 (53%)]\tLoss: 0.057537\n",
            "Train Epoch: 2 [40000/57000 (70%)]\tLoss: 0.057860\n",
            "Train Epoch: 2 [50000/57000 (88%)]\tLoss: 0.059468\n",
            "Train Epoch: 2 [57000/57000 (100%)]\tLoss: 0.056085\n",
            "Eval set: Average loss: 0.057944644987583\n",
            "Train Epoch: 3 [10000/57000 (18%)]\tLoss: 0.055135\n",
            "Train Epoch: 3 [20000/57000 (35%)]\tLoss: 0.058450\n",
            "Train Epoch: 3 [30000/57000 (53%)]\tLoss: 0.055845\n",
            "Train Epoch: 3 [40000/57000 (70%)]\tLoss: 0.057365\n",
            "Train Epoch: 3 [50000/57000 (88%)]\tLoss: 0.056133\n",
            "Train Epoch: 3 [57000/57000 (100%)]\tLoss: 0.055302\n",
            "Eval set: Average loss: 0.056782366087039\n",
            "Train Epoch: 4 [10000/57000 (18%)]\tLoss: 0.056695\n",
            "Train Epoch: 4 [20000/57000 (35%)]\tLoss: 0.057034\n",
            "Train Epoch: 4 [30000/57000 (53%)]\tLoss: 0.056385\n",
            "Train Epoch: 4 [40000/57000 (70%)]\tLoss: 0.058290\n",
            "Train Epoch: 4 [50000/57000 (88%)]\tLoss: 0.054816\n",
            "Train Epoch: 4 [57000/57000 (100%)]\tLoss: 0.055861\n",
            "Eval set: Average loss: 0.055942670380076\n",
            "Train Epoch: 5 [10000/57000 (18%)]\tLoss: 0.054620\n",
            "Train Epoch: 5 [20000/57000 (35%)]\tLoss: 0.055839\n",
            "Train Epoch: 5 [30000/57000 (53%)]\tLoss: 0.055400\n",
            "Train Epoch: 5 [40000/57000 (70%)]\tLoss: 0.057135\n",
            "Train Epoch: 5 [50000/57000 (88%)]\tLoss: 0.055338\n",
            "Train Epoch: 5 [57000/57000 (100%)]\tLoss: 0.056148\n",
            "Eval set: Average loss: 0.055401357511679\n",
            "\n",
            "***************** BOTTLENECK SIZE: 20  ************************\n",
            "Train Epoch: 1 [10000/57000 (18%)]\tLoss: 0.074195\n",
            "Train Epoch: 1 [20000/57000 (35%)]\tLoss: 0.067939\n",
            "Train Epoch: 1 [30000/57000 (53%)]\tLoss: 0.064430\n",
            "Train Epoch: 1 [40000/57000 (70%)]\tLoss: 0.056825\n",
            "Train Epoch: 1 [50000/57000 (88%)]\tLoss: 0.050194\n",
            "Train Epoch: 1 [57000/57000 (100%)]\tLoss: 0.046090\n",
            "Eval set: Average loss: 0.045823662728071\n",
            "Train Epoch: 2 [10000/57000 (18%)]\tLoss: 0.040926\n",
            "Train Epoch: 2 [20000/57000 (35%)]\tLoss: 0.039137\n",
            "Train Epoch: 2 [30000/57000 (53%)]\tLoss: 0.040217\n",
            "Train Epoch: 2 [40000/57000 (70%)]\tLoss: 0.041511\n",
            "Train Epoch: 2 [50000/57000 (88%)]\tLoss: 0.035689\n",
            "Train Epoch: 2 [57000/57000 (100%)]\tLoss: 0.034485\n",
            "Eval set: Average loss: 0.036014123509328\n",
            "Train Epoch: 3 [10000/57000 (18%)]\tLoss: 0.033892\n",
            "Train Epoch: 3 [20000/57000 (35%)]\tLoss: 0.036928\n",
            "Train Epoch: 3 [30000/57000 (53%)]\tLoss: 0.035285\n",
            "Train Epoch: 3 [40000/57000 (70%)]\tLoss: 0.033592\n",
            "Train Epoch: 3 [50000/57000 (88%)]\tLoss: 0.031680\n",
            "Train Epoch: 3 [57000/57000 (100%)]\tLoss: 0.032335\n",
            "Eval set: Average loss: 0.032185774172346\n",
            "Train Epoch: 4 [10000/57000 (18%)]\tLoss: 0.032185\n",
            "Train Epoch: 4 [20000/57000 (35%)]\tLoss: 0.032292\n",
            "Train Epoch: 4 [30000/57000 (53%)]\tLoss: 0.030201\n",
            "Train Epoch: 4 [40000/57000 (70%)]\tLoss: 0.029870\n",
            "Train Epoch: 4 [50000/57000 (88%)]\tLoss: 0.030249\n",
            "Train Epoch: 4 [57000/57000 (100%)]\tLoss: 0.030700\n",
            "Eval set: Average loss: 0.030243186280131\n",
            "Train Epoch: 5 [10000/57000 (18%)]\tLoss: 0.031448\n",
            "Train Epoch: 5 [20000/57000 (35%)]\tLoss: 0.027999\n",
            "Train Epoch: 5 [30000/57000 (53%)]\tLoss: 0.031293\n",
            "Train Epoch: 5 [40000/57000 (70%)]\tLoss: 0.031098\n",
            "Train Epoch: 5 [50000/57000 (88%)]\tLoss: 0.029132\n",
            "Train Epoch: 5 [57000/57000 (100%)]\tLoss: 0.028441\n",
            "Eval set: Average loss: 0.028953083666662\n",
            "\n",
            "***************** BOTTLENECK SIZE: 50  ************************\n",
            "Train Epoch: 1 [10000/57000 (18%)]\tLoss: 0.070385\n",
            "Train Epoch: 1 [20000/57000 (35%)]\tLoss: 0.060870\n",
            "Train Epoch: 1 [30000/57000 (53%)]\tLoss: 0.048019\n",
            "Train Epoch: 1 [40000/57000 (70%)]\tLoss: 0.043438\n",
            "Train Epoch: 1 [50000/57000 (88%)]\tLoss: 0.037703\n",
            "Train Epoch: 1 [57000/57000 (100%)]\tLoss: 0.033943\n",
            "Eval set: Average loss: 0.034817801043391\n",
            "Train Epoch: 2 [10000/57000 (18%)]\tLoss: 0.031055\n",
            "Train Epoch: 2 [20000/57000 (35%)]\tLoss: 0.029427\n",
            "Train Epoch: 2 [30000/57000 (53%)]\tLoss: 0.030376\n",
            "Train Epoch: 2 [40000/57000 (70%)]\tLoss: 0.025776\n",
            "Train Epoch: 2 [50000/57000 (88%)]\tLoss: 0.026758\n",
            "Train Epoch: 2 [57000/57000 (100%)]\tLoss: 0.027430\n",
            "Eval set: Average loss: 0.025902367569506\n",
            "Train Epoch: 3 [10000/57000 (18%)]\tLoss: 0.025330\n",
            "Train Epoch: 3 [20000/57000 (35%)]\tLoss: 0.023809\n",
            "Train Epoch: 3 [30000/57000 (53%)]\tLoss: 0.027910\n",
            "Train Epoch: 3 [40000/57000 (70%)]\tLoss: 0.024697\n",
            "Train Epoch: 3 [50000/57000 (88%)]\tLoss: 0.024368\n",
            "Train Epoch: 3 [57000/57000 (100%)]\tLoss: 0.024284\n",
            "Eval set: Average loss: 0.023018794134259\n",
            "Train Epoch: 4 [10000/57000 (18%)]\tLoss: 0.024046\n",
            "Train Epoch: 4 [20000/57000 (35%)]\tLoss: 0.022721\n",
            "Train Epoch: 4 [30000/57000 (53%)]\tLoss: 0.021139\n",
            "Train Epoch: 4 [40000/57000 (70%)]\tLoss: 0.022399\n",
            "Train Epoch: 4 [50000/57000 (88%)]\tLoss: 0.021536\n",
            "Train Epoch: 4 [57000/57000 (100%)]\tLoss: 0.019993\n",
            "Eval set: Average loss: 0.021275467860202\n",
            "Train Epoch: 5 [10000/57000 (18%)]\tLoss: 0.022321\n",
            "Train Epoch: 5 [20000/57000 (35%)]\tLoss: 0.020609\n",
            "Train Epoch: 5 [30000/57000 (53%)]\tLoss: 0.020368\n",
            "Train Epoch: 5 [40000/57000 (70%)]\tLoss: 0.019541\n",
            "Train Epoch: 5 [50000/57000 (88%)]\tLoss: 0.020147\n",
            "Train Epoch: 5 [57000/57000 (100%)]\tLoss: 0.020028\n",
            "Eval set: Average loss: 0.020241145355006\n",
            "\n",
            "***************** BOTTLENECK SIZE: 70  ************************\n",
            "Train Epoch: 1 [10000/57000 (18%)]\tLoss: 0.070781\n",
            "Train Epoch: 1 [20000/57000 (35%)]\tLoss: 0.070338\n",
            "Train Epoch: 1 [30000/57000 (53%)]\tLoss: 0.060440\n",
            "Train Epoch: 1 [40000/57000 (70%)]\tLoss: 0.049747\n",
            "Train Epoch: 1 [50000/57000 (88%)]\tLoss: 0.045088\n",
            "Train Epoch: 1 [57000/57000 (100%)]\tLoss: 0.039223\n",
            "Eval set: Average loss: 0.041034978752335\n",
            "Train Epoch: 2 [10000/57000 (18%)]\tLoss: 0.037464\n",
            "Train Epoch: 2 [20000/57000 (35%)]\tLoss: 0.034045\n",
            "Train Epoch: 2 [30000/57000 (53%)]\tLoss: 0.032193\n",
            "Train Epoch: 2 [40000/57000 (70%)]\tLoss: 0.029971\n",
            "Train Epoch: 2 [50000/57000 (88%)]\tLoss: 0.028517\n",
            "Train Epoch: 2 [57000/57000 (100%)]\tLoss: 0.026216\n",
            "Eval set: Average loss: 0.028420948050916\n",
            "Train Epoch: 3 [10000/57000 (18%)]\tLoss: 0.027282\n",
            "Train Epoch: 3 [20000/57000 (35%)]\tLoss: 0.028718\n",
            "Train Epoch: 3 [30000/57000 (53%)]\tLoss: 0.026987\n",
            "Train Epoch: 3 [40000/57000 (70%)]\tLoss: 0.026971\n",
            "Train Epoch: 3 [50000/57000 (88%)]\tLoss: 0.023735\n",
            "Train Epoch: 3 [57000/57000 (100%)]\tLoss: 0.024891\n",
            "Eval set: Average loss: 0.024438587141534\n",
            "Train Epoch: 4 [10000/57000 (18%)]\tLoss: 0.024386\n",
            "Train Epoch: 4 [20000/57000 (35%)]\tLoss: 0.024510\n",
            "Train Epoch: 4 [30000/57000 (53%)]\tLoss: 0.024301\n",
            "Train Epoch: 4 [40000/57000 (70%)]\tLoss: 0.022535\n",
            "Train Epoch: 4 [50000/57000 (88%)]\tLoss: 0.022413\n",
            "Train Epoch: 4 [57000/57000 (100%)]\tLoss: 0.021515\n",
            "Eval set: Average loss: 0.021834996280571\n",
            "Train Epoch: 5 [10000/57000 (18%)]\tLoss: 0.022390\n",
            "Train Epoch: 5 [20000/57000 (35%)]\tLoss: 0.023278\n",
            "Train Epoch: 5 [30000/57000 (53%)]\tLoss: 0.020309\n",
            "Train Epoch: 5 [40000/57000 (70%)]\tLoss: 0.021161\n",
            "Train Epoch: 5 [50000/57000 (88%)]\tLoss: 0.020020\n",
            "Train Epoch: 5 [57000/57000 (100%)]\tLoss: 0.018646\n",
            "Eval set: Average loss: 0.020053220788638\n"
          ],
          "name": "stdout"
        }
      ]
    },
    {
      "cell_type": "markdown",
      "metadata": {
        "id": "i_Mbi-gN9lLk",
        "colab_type": "text"
      },
      "source": [
        "#### ii) Save models\n",
        "Only to be executed if we want to save them for a future execution of the notebook\n"
      ]
    },
    {
      "cell_type": "code",
      "metadata": {
        "id": "kzvBW0Hf96tX",
        "colab_type": "code",
        "colab": {}
      },
      "source": [
        "save_models()"
      ],
      "execution_count": 0,
      "outputs": []
    },
    {
      "cell_type": "markdown",
      "metadata": {
        "id": "Z0tUV9NT-gDp",
        "colab_type": "text"
      },
      "source": [
        "### c) Plot loss curves"
      ]
    },
    {
      "cell_type": "code",
      "metadata": {
        "id": "AersYqgGSLc1",
        "colab_type": "code",
        "outputId": "b7401105-943c-4538-c896-cd2a88e57289",
        "colab": {
          "base_uri": "https://localhost:8080/",
          "height": 457
        }
      },
      "source": [
        "plt.figure(figsize=(20, 16))\n",
        "plt.subplot(2,1,1)\n",
        "plt.xlabel('Epoch')\n",
        "plt.ylabel('MSELoss')\n",
        "\n",
        "general_marker_size = 15\n",
        "general_linewidth = 1\n",
        "number_of_losspoints_per_epoch = len(train_dataset)/hparams['batch_size']\n",
        "x_labels = [number_of_losspoints_per_epoch * i for i in range(1,hparams['num_epochs']+1)]\n",
        "colors = ['blue','orange','red','yellow']\n",
        "\n",
        "number_of_models = range(0,len(myTrain_losses),1)\n",
        "\n",
        "for model_number,bt in zip(number_of_models,bottlenecks):\n",
        "  plt.plot(list(itertools.chain(*myTrain_losses[model_number])), label='Train loss, bottleneck = '+ str(bt), marker='', linewidth=general_linewidth, color=colors[model_number])\n",
        "  plt.plot(x_labels,myEval_losses[model_number],label='Evaluation loss, bottleneck = ' + str(bt), marker='o', markersize=general_marker_size, linewidth=0, color=colors[model_number])\n",
        "\n",
        "\n",
        "plt.xticks(x_labels, range(1,hparams['num_epochs']+1))\n",
        "\n",
        "plt.legend();\n",
        "\n"
      ],
      "execution_count": 265,
      "outputs": [
        {
          "output_type": "display_data",
          "data": {
            "image/png": "[encoded data removed]",
            "text/plain": [
              "<Figure size 1440x1152 with 1 Axes>"
            ]
          },
          "metadata": {
            "tags": []
          }
        }
      ]
    },
    {
      "cell_type": "markdown",
      "metadata": {
        "id": "UR-k3sD_v5cQ",
        "colab_type": "text"
      },
      "source": [
        "## 4. Compute the avg. image reconstruction error (MSE) of the trained models on the MNIST validation and test sets. Show the results in a table, including number of parameters of each model."
      ]
    },
    {
      "cell_type": "markdown",
      "metadata": {
        "id": "70NeSDpg-ng0",
        "colab_type": "text"
      },
      "source": [
        "#### i) Load models\n",
        "Only to be executed if we are using saved models and we haven't trained them in this session. Make sure we have executed the code cell where we define `bottlenecks`, in section 3b.i"
      ]
    },
    {
      "cell_type": "code",
      "metadata": {
        "id": "Cw2_3Fz17vGO",
        "colab_type": "code",
        "outputId": "3a77aa9f-bdb7-486a-faff-dd65d90d35bf",
        "colab": {
          "base_uri": "https://localhost:8080/",
          "height": 151
        }
      },
      "source": [
        "myEncoders,myDecoders = load_all_models(bottlenecks)"
      ],
      "execution_count": 266,
      "outputs": [
        {
          "output_type": "stream",
          "text": [
            "myEncoder5 loaded.\n",
            "myDecoder5 loaded.\n",
            "myEncoder20 loaded.\n",
            "myDecoder20 loaded.\n",
            "myEncoder50 loaded.\n",
            "myDecoder50 loaded.\n",
            "myEncoder70 loaded.\n",
            "myDecoder70 loaded.\n"
          ],
          "name": "stdout"
        }
      ]
    },
    {
      "cell_type": "code",
      "metadata": {
        "id": "a_h78NjHv8ax",
        "colab_type": "code",
        "outputId": "4abaf380-93a9-4156-8607-94c7053facf0",
        "colab": {
          "base_uri": "https://localhost:8080/",
          "height": 151
        }
      },
      "source": [
        "test_losses_of_a_model = []\n",
        "test_losses = []\n",
        "eval_losses_of_a_model = []\n",
        "eval_losses = []\n",
        "img_MSE_val = []\n",
        "img_MSE_test = []\n",
        "\n",
        "myTable = PrettyTable(['Model #','Size of bottleneck', 'Average MSE error of validation set ','Average MSE error of test set', 'Number of parameters'])\n",
        "\n",
        "index=1\n",
        "\n",
        "for bottleneck_size in bottlenecks:\n",
        "   \n",
        "  eval_loss,img_avg = eval_epoch(validation_loader,  myEncoders[bottleneck_size], myDecoders[bottleneck_size], hparams['autoencoder_criterion'], hparams, False, True)\n",
        "  eval_losses_of_a_model.append(eval_loss)\n",
        "  img_MSE_val.append(img_avg)\n",
        "  \n",
        "  test_loss, img_avg = eval_epoch(test_loader,  myEncoders[bottleneck_size], myDecoders[bottleneck_size], hparams['autoencoder_criterion'], hparams, False, True)\n",
        "  test_losses_of_a_model.append(test_loss)\n",
        "  img_MSE_test.append(img_avg)\n",
        "\n",
        "  \n",
        "  eval_losses.append(eval_losses_of_a_model)\n",
        "  test_losses.append(test_losses_of_a_model)\n",
        "\n",
        "  \n",
        "  myTable.add_row([str(index),bottleneck_size,np.mean(img_MSE_val),np.mean(img_MSE_test), model_params(myEncoders[bottleneck_size]) + model_params(myDecoders[bottleneck_size])])\n",
        "  ++index;\n",
        "\n",
        "print(myTable)"
      ],
      "execution_count": 267,
      "outputs": [
        {
          "output_type": "stream",
          "text": [
            "+---------+--------------------+--------------------------------------+-------------------------------+----------------------+\n",
            "| Model # | Size of bottleneck | Average MSE error of validation set  | Average MSE error of test set | Number of parameters |\n",
            "+---------+--------------------+--------------------------------------+-------------------------------+----------------------+\n",
            "|    1    |         5          |         0.016012438151897877         |      0.016081928325016055     |         8306         |\n",
            "|    1    |         20         |         0.012627887683527819         |      0.012026745709482298     |        23021         |\n",
            "|    1    |         50         |         0.010065008438252204         |      0.009756446952985573     |        52451         |\n",
            "|    1    |         70         |         0.00888775091455224          |      0.008755489634313378     |        72071         |\n",
            "+---------+--------------------+--------------------------------------+-------------------------------+----------------------+\n"
          ],
          "name": "stdout"
        }
      ]
    },
    {
      "cell_type": "markdown",
      "metadata": {
        "id": "-DFwJ4l6v9SQ",
        "colab_type": "text"
      },
      "source": [
        "## 5. Select one of the autoencoders and feed it 5 random MNIST images from the test set. Show them along with their reconstructions.\n"
      ]
    },
    {
      "cell_type": "markdown",
      "metadata": {
        "id": "SY2hiZy_9cjy",
        "colab_type": "text"
      },
      "source": [
        "\n",
        "We choose the model with **lowest Average MSE error** and we save the bottleneck_size as a new hyperparameter."
      ]
    },
    {
      "cell_type": "code",
      "metadata": {
        "id": "Zrk08yCxEngw",
        "colab_type": "code",
        "colab": {}
      },
      "source": [
        "hparams['bottleneck_size'] = 70 "
      ],
      "execution_count": 0,
      "outputs": []
    },
    {
      "cell_type": "code",
      "metadata": {
        "id": "KwroYAJOPF12",
        "colab_type": "code",
        "colab": {}
      },
      "source": [
        "def renderImages(images, output):\n",
        "  images = images.numpy()\n",
        "\n",
        "  output = output.view(hparams['batch_size'], 1, 28, 28)\n",
        "  output = output.detach().numpy()\n",
        "\n",
        "  fig, axes = plt.subplots(nrows=2, ncols=5, sharex=True, sharey=True, figsize=(20,4))\n",
        "\n",
        "  for images, row in zip([images, output], axes):\n",
        "      for img, ax in zip(images, row):\n",
        "            ax.imshow(np.squeeze(img), cmap='gray')\n",
        "            ax.get_xaxis().set_visible(False)\n",
        "            ax.get_yaxis().set_visible(False)\n",
        "            ax.label_outer()"
      ],
      "execution_count": 0,
      "outputs": []
    },
    {
      "cell_type": "code",
      "metadata": {
        "id": "hs6My_O6wA9M",
        "colab_type": "code",
        "outputId": "9e13b5ed-73b9-4550-a95a-ccad4a21cc2c",
        "colab": {
          "base_uri": "https://localhost:8080/",
          "height": 252
        }
      },
      "source": [
        "SelectedEncoder = myEncoders[hparams['bottleneck_size']]\n",
        "SelectedDecoder = myDecoders[hparams['bottleneck_size']]\n",
        "\n",
        "dataiter = iter(test_loader)\n",
        "images_, labels_ = dataiter.next()\n",
        "\n",
        "images, labels = images_, labels_\n",
        "\n",
        "output = SelectedDecoder(SelectedEncoder(images))\n",
        "\n",
        "renderImages(images,output)\n"
      ],
      "execution_count": 270,
      "outputs": [
        {
          "output_type": "display_data",
          "data": {
            "image/png": "[encoded data removed]",
            "text/plain": [
              "<Figure size 1440x288 with 10 Axes>"
            ]
          },
          "metadata": {
            "tags": []
          }
        }
      ]
    },
    {
      "cell_type": "markdown",
      "metadata": {
        "id": "Ocf2aJhhwBfY",
        "colab_type": "text"
      },
      "source": [
        "## 6. Generate 5 new images by injecting random values as input to the decoder. Show them."
      ]
    },
    {
      "cell_type": "code",
      "metadata": {
        "id": "9ixmqX6pwTpd",
        "colab_type": "code",
        "outputId": "f61a83fe-dc0e-4916-8aa5-970dd3857b26",
        "colab": {
          "base_uri": "https://localhost:8080/",
          "height": 223
        }
      },
      "source": [
        "a = torch.randn(5,hparams['bottleneck_size'])\n",
        "a.to(hparams['device'])\n",
        "\n",
        "output = SelectedDecoder(a)\n",
        "output = output.detach().numpy()\n",
        "\n",
        "fig2, axes2 = plt.subplots(nrows=1, ncols=5, sharex=True, sharey=True, figsize=(20,4))\n",
        "for i in range(5):\n",
        "  im = output[i]\n",
        "  axes2[i].imshow(np.squeeze(im), cmap='gray')\n",
        "  axes2[i].axis('off')\n",
        "plt.show()"
      ],
      "execution_count": 271,
      "outputs": [
        {
          "output_type": "display_data",
          "data": {
            "image/png": "[encoded data removed]",
            "text/plain": [
              "<Figure size 1440x288 with 5 Axes>"
            ]
          },
          "metadata": {
            "tags": []
          }
        }
      ]
    },
    {
      "cell_type": "markdown",
      "metadata": {
        "id": "BBtfqwOUwTBS",
        "colab_type": "text"
      },
      "source": [
        "# **EXERCISE 2 : Transfer Learning**"
      ]
    },
    {
      "cell_type": "markdown",
      "metadata": {
        "id": "NAagyOr3wcXU",
        "colab_type": "text"
      },
      "source": [
        "We need new hyper-parameters for this exercise.\n",
        "\n",
        "The `batch_size_classifier` parameter has **to be smaller** than `number_of_images` so that we have **more than one batch per epoch**. <br>\n",
        "The `num_of_epochs_classifier` parameter can be a **great number**, because we have **only 100 images** to train with. <br>\n",
        "The digits are from 0 to 9: `num_classes` is then set to 10. <br>\n",
        "For `classifier_criterion`, we have chosen the cross-entropy loss **nll_loss**, because it minimizes the distance between two probability distributions: predicted and actual labels.\n",
        "\n"
      ]
    },
    {
      "cell_type": "code",
      "metadata": {
        "id": "lATnJRSTH-4J",
        "colab_type": "code",
        "colab": {}
      },
      "source": [
        "hparams['number_of_images']=100\n",
        "hparams['batch_size_classifier']=10\n",
        "hparams['num_epochs_classifier']=100\n",
        "hparams['num_classes']=10\n",
        "hparams['classifier_criterion']=F.nll_loss\n",
        "hparams['bottleneck_size']=70"
      ],
      "execution_count": 0,
      "outputs": []
    },
    {
      "cell_type": "markdown",
      "metadata": {
        "id": "DHwqkjiLIY3i",
        "colab_type": "text"
      },
      "source": [
        "## 1. Select a subset of 100 images and their associated labels from the MNIST training data."
      ]
    },
    {
      "cell_type": "code",
      "metadata": {
        "id": "koinhXjiwh2C",
        "colab_type": "code",
        "colab": {}
      },
      "source": [
        "sampling = random.choices(initial_data, k=hparams['number_of_images'])\n",
        "classifier_train_loader = torch.utils.data.DataLoader(sampling, batch_size=hparams['batch_size_classifier'], shuffle=True)\n",
        "\n",
        "iter_ = iter(classifier_train_loader)\n",
        "bimg, blabel = next(iter_)\n",
        "bimg_final = np.squeeze(bimg)"
      ],
      "execution_count": 0,
      "outputs": []
    },
    {
      "cell_type": "markdown",
      "metadata": {
        "id": "1NnCmn8bwiTn",
        "colab_type": "text"
      },
      "source": [
        "## 2. Select one of the previously trained autoencoders."
      ]
    },
    {
      "cell_type": "markdown",
      "metadata": {
        "id": "6druU3C8Jf8N",
        "colab_type": "text"
      },
      "source": [
        "We load the encoder with the selected bottlenecck size trained from exercise 1. We will copy it as a base for the pre-training and later on, as a base for fine-tuning."
      ]
    },
    {
      "cell_type": "code",
      "metadata": {
        "id": "e7ZnfxEPwrgx",
        "colab_type": "code",
        "outputId": "f9a40562-8328-442a-aa02-59c5fcf7fa91",
        "colab": {
          "base_uri": "https://localhost:8080/",
          "height": 34
        }
      },
      "source": [
        "myTrainedEncoder = Encoder(hparams['bottleneck_size'])\n",
        "load_model(\"myEncoder\"+str(hparams['bottleneck_size']),myTrainedEncoder)"
      ],
      "execution_count": 274,
      "outputs": [
        {
          "output_type": "stream",
          "text": [
            "myEncoder70 loaded.\n"
          ],
          "name": "stdout"
        }
      ]
    },
    {
      "cell_type": "markdown",
      "metadata": {
        "id": "PLaNoUENwvn0",
        "colab_type": "text"
      },
      "source": [
        "## 3. Create a digit (0-9) classification model reusing the encoder of the autoencoder and adding the needed fully connected (projection) layer."
      ]
    },
    {
      "cell_type": "markdown",
      "metadata": {
        "id": "4hnmQ-DzHjl6",
        "colab_type": "text"
      },
      "source": [
        "### a) Define the Classification Model"
      ]
    },
    {
      "cell_type": "code",
      "metadata": {
        "id": "YR-zmyUdw0we",
        "colab_type": "code",
        "colab": {}
      },
      "source": [
        "class ClassificationModel(nn.Module):\n",
        "  \n",
        "  def __init__(self, theTrainedEncoder):\n",
        "    super(ClassificationModel, self).__init__()\n",
        "    self.trainedEncoder = theTrainedEncoder\n",
        "    self.classifier = nn.Sequential(\n",
        "        nn.Linear(hparams['bottleneck_size'], 100),\n",
        "        nn.ReLU(),\n",
        "        nn.Dropout(0.5),\n",
        "        \n",
        "        nn.Linear(100, 50),\n",
        "        nn.ReLU(),\n",
        "        nn.Dropout(0.5),\n",
        "\n",
        "        nn.Linear(50, 20),\n",
        "        nn.ReLU(),\n",
        "        nn.Dropout(0.5),\n",
        "        \n",
        "        nn.Linear(20, hparams['num_classes']),\n",
        "        nn.ReLU(),        \n",
        "        nn.LogSoftmax()\n",
        "        \n",
        "        )\n",
        "\n",
        "  def forward(self,x):\n",
        "    x = self.trainedEncoder(x)\n",
        "    x = self.classifier(x)\n",
        "\n",
        "    return x"
      ],
      "execution_count": 0,
      "outputs": []
    },
    {
      "cell_type": "markdown",
      "metadata": {
        "id": "GfZeNYFZH0iR",
        "colab_type": "text"
      },
      "source": [
        "### b) Define the fuctions needed for training and validation\n",
        "\n",
        "We define new functions: training and validating each epoch, and the general training function."
      ]
    },
    {
      "cell_type": "code",
      "metadata": {
        "id": "erUgnRA3w4qK",
        "colab_type": "code",
        "colab": {}
      },
      "source": [
        "def train_epoch_classifier(train_loader, myClassificationModel, optimizer, criterion, hparams, epoch):\n",
        "  \n",
        "  myClassificationModel.train()\n",
        "  \n",
        "  loss = 0.0\n",
        "  losses = []\n",
        "\n",
        "\n",
        "  for data in train_loader:\n",
        "    image = data[0].to(hparams['device'])\n",
        "    label = data[1]\n",
        "    optimizer.zero_grad()\n",
        "\n",
        "    firstOutput = myClassificationModel(image)\n",
        "    loss = criterion(firstOutput, label)\n",
        "    loss.backward()\n",
        "    losses.append(loss.item())\n",
        "    optimizer.step()\n",
        "  if epoch % 10 == 0:\n",
        "    print('Train Epoch: {} \\tAverage training loss: {:.6f}'.format(epoch, np.mean(losses)))\n",
        "            \n",
        "  return losses"
      ],
      "execution_count": 0,
      "outputs": []
    },
    {
      "cell_type": "code",
      "metadata": {
        "id": "To-vj4B28UVa",
        "colab_type": "code",
        "colab": {}
      },
      "source": [
        "def correct_predictions(output_batch, label_batch):\n",
        "  pred = output_batch.argmax(dim=1, keepdim=True)\n",
        "  acum = pred.eq(label_batch.view_as(pred)).sum().item()\n",
        "  return acum\n",
        "\n",
        "def eval_epoch_classifier(eval_loader,  myClassificationModel, criterion, hparams, printing=True):\n",
        "  myClassificationModel.eval()\n",
        "  \n",
        "  eval_loss = 0\n",
        "  accuracy = 0\n",
        "  \n",
        "  with torch.no_grad():\n",
        "      for data in eval_loader:\n",
        "          image = data[0].to(hparams['device'])\n",
        "          label = data[1].to(hparams['device'])\n",
        "          firstOutput = myClassificationModel(image)\n",
        "          eval_loss += criterion(firstOutput, label).item()\n",
        "          accuracy += correct_predictions(firstOutput, label)\n",
        "\n",
        "      eval_loss /=len(eval_loader)\n",
        "      accuracy = 100. * accuracy /len(eval_loader.dataset)\n",
        "\n",
        "  if printing:\n",
        "    print('Eval set: Average loss: {:.15f}'.format(eval_loss))\n",
        "    print('Acc set: A: {:.15f}'.format(accuracy))\n",
        "\n",
        "  return eval_loss, accuracy\n"
      ],
      "execution_count": 0,
      "outputs": []
    },
    {
      "cell_type": "code",
      "metadata": {
        "id": "b3uUlrU3Iiq7",
        "colab_type": "code",
        "colab": {}
      },
      "source": [
        "def train_classifier(train_loader, myClassificationModel, criterion, optimizer):\n",
        "  \n",
        "  train_losses = []\n",
        "\n",
        "  myClassificationModel.to(hparams['device'])\n",
        "  \n",
        "  for epoch in range(1, hparams['num_epochs_classifier'] + 1):\n",
        "    tr_loss = train_epoch_classifier(train_loader, myClassificationModel, optimizer, criterion, hparams, epoch)\n",
        "    train_losses.append(tr_loss)\n",
        "\n",
        "  return myClassificationModel, train_losses"
      ],
      "execution_count": 0,
      "outputs": []
    },
    {
      "cell_type": "markdown",
      "metadata": {
        "id": "x1cxvu-4wzgS",
        "colab_type": "text"
      },
      "source": [
        "## 4. Pre-training: use the weights of the autoencoder as initial values for the network weights and train a classification model on the subset of 100 samples."
      ]
    },
    {
      "cell_type": "code",
      "metadata": {
        "id": "SgVoZcxYL3XE",
        "colab_type": "code",
        "outputId": "5a42446a-b386-42db-b539-4afe2bbf015a",
        "colab": {
          "base_uri": "https://localhost:8080/",
          "height": 238
        }
      },
      "source": [
        "myTrainedEncoder_pre = copy.copy(myTrainedEncoder)\n",
        "\n",
        "myClassificationModel_pre = ClassificationModel(myTrainedEncoder_pre)\n",
        "\n",
        "classifier_optimizer_pre=optim.RMSprop(myClassificationModel_pre.parameters(), hparams['learning_rate'])\n",
        "\n",
        "myTrainResults_pre = train_classifier(classifier_train_loader, myClassificationModel_pre, hparams['classifier_criterion'], classifier_optimizer_pre)"
      ],
      "execution_count": 279,
      "outputs": [
        {
          "output_type": "stream",
          "text": [
            "/usr/local/lib/python3.6/dist-packages/torch/nn/modules/container.py:92: UserWarning: Implicit dimension choice for log_softmax has been deprecated. Change the call to include dim=X as an argument.\n",
            "  input = module(input)\n"
          ],
          "name": "stderr"
        },
        {
          "output_type": "stream",
          "text": [
            "Train Epoch: 10 \tAverage training loss: 2.244405\n",
            "Train Epoch: 20 \tAverage training loss: 2.057275\n",
            "Train Epoch: 30 \tAverage training loss: 1.957335\n",
            "Train Epoch: 40 \tAverage training loss: 1.666930\n",
            "Train Epoch: 50 \tAverage training loss: 1.495539\n",
            "Train Epoch: 60 \tAverage training loss: 1.419588\n",
            "Train Epoch: 70 \tAverage training loss: 1.452380\n",
            "Train Epoch: 80 \tAverage training loss: 1.263338\n",
            "Train Epoch: 90 \tAverage training loss: 1.180552\n",
            "Train Epoch: 100 \tAverage training loss: 1.129106\n"
          ],
          "name": "stdout"
        }
      ]
    },
    {
      "cell_type": "markdown",
      "metadata": {
        "id": "lv9G8-D0w5TA",
        "colab_type": "text"
      },
      "source": [
        "## 5. Fine-tuning: do the same, but train the new projection layer with a normal learning rate and the reused part with a very low learning rate."
      ]
    },
    {
      "cell_type": "code",
      "metadata": {
        "id": "fWSYejpgw8bj",
        "colab_type": "code",
        "outputId": "06d277ce-0075-4f28-df60-15595bdf6c13",
        "colab": {
          "base_uri": "https://localhost:8080/",
          "height": 238
        }
      },
      "source": [
        "myTrainedEncoder_fine = copy.copy(myTrainedEncoder)\n",
        "\n",
        "myClassificationModel_fine = ClassificationModel(myTrainedEncoder_fine)\n",
        "\n",
        "classifier_optimizer_fine=optim.RMSprop([\n",
        "                {'params': myClassificationModel_fine.trainedEncoder.parameters(), 'lr': 1e-9},\n",
        "                {'params': myClassificationModel_fine.classifier.parameters()}\n",
        "            ], lr=hparams['learning_rate'])\n",
        "\n",
        "myTrainResults_fine = train_classifier(classifier_train_loader, myClassificationModel_fine, hparams['classifier_criterion'], classifier_optimizer_fine)"
      ],
      "execution_count": 280,
      "outputs": [
        {
          "output_type": "stream",
          "text": [
            "/usr/local/lib/python3.6/dist-packages/torch/nn/modules/container.py:92: UserWarning: Implicit dimension choice for log_softmax has been deprecated. Change the call to include dim=X as an argument.\n",
            "  input = module(input)\n"
          ],
          "name": "stderr"
        },
        {
          "output_type": "stream",
          "text": [
            "Train Epoch: 10 \tAverage training loss: 2.011640\n",
            "Train Epoch: 20 \tAverage training loss: 1.839816\n",
            "Train Epoch: 30 \tAverage training loss: 1.431639\n",
            "Train Epoch: 40 \tAverage training loss: 1.406917\n",
            "Train Epoch: 50 \tAverage training loss: 1.249656\n",
            "Train Epoch: 60 \tAverage training loss: 1.188846\n",
            "Train Epoch: 70 \tAverage training loss: 1.013661\n",
            "Train Epoch: 80 \tAverage training loss: 1.030819\n",
            "Train Epoch: 90 \tAverage training loss: 0.931122\n",
            "Train Epoch: 100 \tAverage training loss: 0.819806\n"
          ],
          "name": "stdout"
        }
      ]
    },
    {
      "cell_type": "markdown",
      "metadata": {
        "id": "qLAwADU-w9Af",
        "colab_type": "text"
      },
      "source": [
        "## 6. From scratch: train the model on the 100 samples without reusing the encoder weights at all."
      ]
    },
    {
      "cell_type": "code",
      "metadata": {
        "id": "IODaMSq9w_yC",
        "colab_type": "code",
        "outputId": "2b2ad3e2-7257-4514-ffc2-d864b5e4ec10",
        "colab": {
          "base_uri": "https://localhost:8080/",
          "height": 238
        }
      },
      "source": [
        "myEncoder_scratch = Encoder(hparams['bottleneck_size'])\n",
        "\n",
        "myClassificationModel_scratch = ClassificationModel(myEncoder_scratch)\n",
        "\n",
        "classifier_optimizer_scratch=optim.RMSprop(myClassificationModel_scratch.parameters(), hparams['learning_rate'])\n",
        "\n",
        "myTrainResults_scratch = train_classifier(classifier_train_loader, myClassificationModel_scratch, hparams['classifier_criterion'], classifier_optimizer_scratch)"
      ],
      "execution_count": 281,
      "outputs": [
        {
          "output_type": "stream",
          "text": [
            "/usr/local/lib/python3.6/dist-packages/torch/nn/modules/container.py:92: UserWarning: Implicit dimension choice for log_softmax has been deprecated. Change the call to include dim=X as an argument.\n",
            "  input = module(input)\n"
          ],
          "name": "stderr"
        },
        {
          "output_type": "stream",
          "text": [
            "Train Epoch: 10 \tAverage training loss: 2.301044\n",
            "Train Epoch: 20 \tAverage training loss: 2.289297\n",
            "Train Epoch: 30 \tAverage training loss: 2.114582\n",
            "Train Epoch: 40 \tAverage training loss: 1.944388\n",
            "Train Epoch: 50 \tAverage training loss: 1.732495\n",
            "Train Epoch: 60 \tAverage training loss: 1.521457\n",
            "Train Epoch: 70 \tAverage training loss: 1.438069\n",
            "Train Epoch: 80 \tAverage training loss: 1.420062\n",
            "Train Epoch: 90 \tAverage training loss: 1.276052\n",
            "Train Epoch: 100 \tAverage training loss: 1.255952\n"
          ],
          "name": "stdout"
        }
      ]
    },
    {
      "cell_type": "markdown",
      "metadata": {
        "id": "qN5XHTrQxAbA",
        "colab_type": "text"
      },
      "source": [
        "## 7. Show the accuracy of the four models on the MNIST test set in a table."
      ]
    },
    {
      "cell_type": "code",
      "metadata": {
        "id": "QqL9v3DXxCNe",
        "colab_type": "code",
        "outputId": "01c23e6d-9c68-4fec-d300-bc2a04c130d8",
        "colab": {
          "base_uri": "https://localhost:8080/",
          "height": 188
        }
      },
      "source": [
        "classifier_loss_acc_pre = eval_epoch_classifier(test_loader,myClassificationModel_pre,hparams['classifier_criterion'],hparams,False)\n",
        "classifier_loss_acc_fine= eval_epoch_classifier(test_loader,myClassificationModel_fine,hparams['classifier_criterion'],hparams,False)\n",
        "classifier_loss_acc_scratch= eval_epoch_classifier(test_loader,myClassificationModel_scratch,hparams['classifier_criterion'],hparams,False)\n",
        "\n",
        "accuracy_table = PrettyTable(['Classifier type','Accuracy'])\n",
        "\n",
        "accuracy_table.add_row([\"Pretrained\",classifier_loss_acc_pre[1]])\n",
        "accuracy_table.add_row([\"Finetuned\",classifier_loss_acc_fine[1]])\n",
        "accuracy_table.add_row([\"From scratch\",classifier_loss_acc_scratch[1]])\n",
        "\n",
        "print(accuracy_table)\n"
      ],
      "execution_count": 295,
      "outputs": [
        {
          "output_type": "stream",
          "text": [
            "/usr/local/lib/python3.6/dist-packages/torch/nn/modules/container.py:92: UserWarning: Implicit dimension choice for log_softmax has been deprecated. Change the call to include dim=X as an argument.\n",
            "  input = module(input)\n"
          ],
          "name": "stderr"
        },
        {
          "output_type": "stream",
          "text": [
            "+-----------------+----------+\n",
            "| Classifier type | Accuracy |\n",
            "+-----------------+----------+\n",
            "|    Pretrained   |  57.14   |\n",
            "|    Finetuned    |  58.78   |\n",
            "|   From scratch  |  51.62   |\n",
            "+-----------------+----------+\n"
          ],
          "name": "stdout"
        }
      ]
    },
    {
      "cell_type": "markdown",
      "metadata": {
        "id": "y1pZeqtlzxyp",
        "colab_type": "text"
      },
      "source": [
        "# **Optional Exercise A: Variational Autoencoder**\n",
        "\n",
        "## 1. Implement an autoencoder like that from Exercise 1, but turning the deterministic bottleneck into a stochastic bottleneck, with an isotropic Gaussian as distribution for the latent variables."
      ]
    },
    {
      "cell_type": "markdown",
      "metadata": {
        "id": "UoqbOWdBGFJ_",
        "colab_type": "text"
      },
      "source": [
        "We define a convolutional variational encoder and decoder with the same architecture as before."
      ]
    },
    {
      "cell_type": "code",
      "metadata": {
        "id": "KChuYVUn8HiT",
        "colab_type": "code",
        "colab": {}
      },
      "source": [
        "class VariationalEncoder(nn.Module):\n",
        "  def __init__(self, bottleneck_size):\n",
        "    super(VariationalEncoder, self).__init__()\n",
        "    \n",
        "    self.conv1 = nn.Conv2d(1, 20, 3, padding=1)  \n",
        "    self.conv2 = nn.Conv2d(20, 10, 3, padding=1)\n",
        "    self.flatten = nn.Flatten()\n",
        "    self.linearMu = nn.Linear(7*7*10,bottleneck_size)\n",
        "    self.linearLV = nn.Linear(7*7*10,bottleneck_size)\n",
        "    self.relu = nn.ReLU()    \n",
        "    self.pool = nn.MaxPool2d(2, 2)\n",
        "    \n",
        "\n",
        "  def forward(self,x):\n",
        "    x = self.conv1(x)\n",
        "    x = self.relu(x)\n",
        "    x = self.pool(x)\n",
        "\n",
        "    x = self.conv2(x)\n",
        "    x = self.relu(x)\n",
        "    x = self.pool(x)\n",
        "\n",
        "    x = self.flatten(x)\n",
        "    return self.linearMu(x), self.linearLV(x)"
      ],
      "execution_count": 0,
      "outputs": []
    },
    {
      "cell_type": "code",
      "metadata": {
        "id": "uOtIlL5O-umr",
        "colab_type": "code",
        "colab": {}
      },
      "source": [
        "class VariationalDecoder(nn.Module):\n",
        "  def __init__(self, bottleneck_size):\n",
        "    super(VariationalDecoder, self).__init__()\n",
        "    self.linear = nn.Linear(bottleneck_size, 10*7*7)\n",
        "    self.t_conv1 = nn.ConvTranspose2d(10, 20, 2, stride=2)\n",
        "    self.t_conv2 = nn.ConvTranspose2d(20, 1, 2, stride=2)\n",
        "    self.sigmoid = nn.Sigmoid()\n",
        "    self.relu = nn.ReLU()\n",
        "    \n",
        "  def forward(self,code):\n",
        "    x = code\n",
        "    x = self.linear(x)\n",
        "    x = self.relu(x)\n",
        "    \n",
        "    x = x.view([x.shape[0],10,7,7])\n",
        "\n",
        "    x = self.t_conv1(x)\n",
        "    x = self.relu(x)\n",
        "    \n",
        "    x = self.t_conv2(x)\n",
        "    x = self.sigmoid(x)\n",
        "    return x"
      ],
      "execution_count": 0,
      "outputs": []
    },
    {
      "cell_type": "code",
      "metadata": {
        "id": "Ngzl3C-C_HBt",
        "colab_type": "code",
        "colab": {}
      },
      "source": [
        "def reparametrize (mu, logvar):\n",
        "  std = logvar.mul(0.5).exp_()\n",
        "  eps = Variable(std.data.new(std.size()).normal_())\n",
        "  return eps.mul(std).add_(mu)"
      ],
      "execution_count": 0,
      "outputs": []
    },
    {
      "cell_type": "code",
      "metadata": {
        "id": "XFGP17QtFLKQ",
        "colab_type": "code",
        "outputId": "4184ca50-6685-49d9-eb64-10040cf03166",
        "colab": {
          "base_uri": "https://localhost:8080/",
          "height": 50
        }
      },
      "source": [
        "reconstruction_function = nn.MSELoss(size_average=False)"
      ],
      "execution_count": 313,
      "outputs": [
        {
          "output_type": "stream",
          "text": [
            "/usr/local/lib/python3.6/dist-packages/torch/nn/_reduction.py:43: UserWarning: size_average and reduce args will be deprecated, please use reduction='sum' instead.\n",
            "  warnings.warn(warning.format(ret))\n"
          ],
          "name": "stderr"
        }
      ]
    },
    {
      "cell_type": "code",
      "metadata": {
        "id": "FjHfsV-0Cz0X",
        "colab_type": "code",
        "colab": {}
      },
      "source": [
        "def loss_function(recon_x, x, mu, logvar):\n",
        "    BCE = reconstruction_function(recon_x, x) \n",
        "    KLD_element = mu.pow(2).add_(logvar.exp()).mul_(-1).add_(1).add_(logvar)\n",
        "    KLD = torch.sum(KLD_element).mul_(-0.5)\n",
        "    return BCE + KLD"
      ],
      "execution_count": 0,
      "outputs": []
    },
    {
      "cell_type": "code",
      "metadata": {
        "id": "Kk6ym0ClAKUE",
        "colab_type": "code",
        "colab": {}
      },
      "source": [
        "def train_epoch_variational(train_loader, EncoderModel, DecoderModel, optimizer, hparams, epoch):\n",
        "  \n",
        "  EncoderModel.train()\n",
        "  DecoderModel.train()\n",
        "  \n",
        "  loss = 0.0\n",
        "  losses = []\n",
        "\n",
        "  for batch_idx, (data) in enumerate(train_loader, 1):\n",
        "      data = data[0].to(hparams['device'])\n",
        "      optimizer.zero_grad()\n",
        "\n",
        "      mu, logvar = EncoderModel(data)\n",
        "      fixedresult = reparametrize(mu, logvar)\n",
        "      outputs = DecoderModel(fixedresult)\n",
        "\n",
        "      loss = loss_function(outputs, data, mu, logvar)\n",
        "\n",
        "      loss.backward()\n",
        "      losses.append(loss.item())\n",
        "      optimizer.step()\n",
        "\n",
        "      if batch_idx % hparams['log_interval'] == 0 or batch_idx >= len(train_loader):\n",
        "          print('Train Epoch: {} [{}/{} ({:.0f}%)]\\tLoss: {:.6f}'.format(epoch, batch_idx * len(data), len(train_loader.dataset), 100. * batch_idx / len(train_loader), loss.item()))\n",
        "          \n",
        "\n",
        "  return losses "
      ],
      "execution_count": 0,
      "outputs": []
    },
    {
      "cell_type": "code",
      "metadata": {
        "id": "OuUy4D7_BdC_",
        "colab_type": "code",
        "colab": {}
      },
      "source": [
        "def train_variational_autoencoder(myEncoder, myDecoder):\n",
        "  train_losses = []\n",
        "  myEncoder.to(hparams['device'])\n",
        "  myDecoder.to(hparams['device'])\n",
        "\n",
        "  optimizer = optim.Adam(list(myEncoder.parameters()) + list(myDecoder.parameters()), lr=hparams['learning_rate'])\n",
        "  \n",
        "  for epoch in range(1, hparams['num_epochs'] + 1):\n",
        "    tr_loss = train_epoch_variational(train_loader, myEncoder, myDecoder, optimizer, hparams, epoch)\n",
        "    train_losses.append(tr_loss)\n",
        "    \n",
        "\n",
        "  return myEncoder, myDecoder, train_losses"
      ],
      "execution_count": 0,
      "outputs": []
    },
    {
      "cell_type": "markdown",
      "metadata": {
        "id": "HUx4QkfNz3T2",
        "colab_type": "text"
      },
      "source": [
        "## 2. Train the model optimizing the Evidence Lower Bound (ELBO)."
      ]
    },
    {
      "cell_type": "code",
      "metadata": {
        "id": "mgc0E2Ex7ZNR",
        "colab_type": "code",
        "outputId": "e5f36bdd-8a00-4427-98ea-9105621e4c2b",
        "colab": {
          "base_uri": "https://localhost:8080/",
          "height": 521
        }
      },
      "source": [
        "  bottleneck_size_VA = 50\n",
        " \n",
        "  myVEncoder = VariationalEncoder(bottleneck_size_VA) \n",
        "  myVDecoder = VariationalDecoder(bottleneck_size_VA)\n",
        "\n",
        "  myTrainResults = train_variational_autoencoder(myVEncoder, myVDecoder)"
      ],
      "execution_count": 317,
      "outputs": [
        {
          "output_type": "stream",
          "text": [
            "Train Epoch: 1 [10000/57000 (18%)]\tLoss: 6776.226562\n",
            "Train Epoch: 1 [20000/57000 (35%)]\tLoss: 5951.873535\n",
            "Train Epoch: 1 [30000/57000 (53%)]\tLoss: 5953.326660\n",
            "Train Epoch: 1 [40000/57000 (70%)]\tLoss: 5497.147461\n",
            "Train Epoch: 1 [50000/57000 (88%)]\tLoss: 5415.124512\n",
            "Train Epoch: 1 [57000/57000 (100%)]\tLoss: 5229.929688\n",
            "Train Epoch: 2 [10000/57000 (18%)]\tLoss: 5249.945801\n",
            "Train Epoch: 2 [20000/57000 (35%)]\tLoss: 5128.238770\n",
            "Train Epoch: 2 [30000/57000 (53%)]\tLoss: 4751.096191\n",
            "Train Epoch: 2 [40000/57000 (70%)]\tLoss: 4752.207031\n",
            "Train Epoch: 2 [50000/57000 (88%)]\tLoss: 4593.269043\n",
            "Train Epoch: 2 [57000/57000 (100%)]\tLoss: 4455.808594\n",
            "Train Epoch: 3 [10000/57000 (18%)]\tLoss: 4565.841797\n",
            "Train Epoch: 3 [20000/57000 (35%)]\tLoss: 4447.054688\n",
            "Train Epoch: 3 [30000/57000 (53%)]\tLoss: 4355.303711\n",
            "Train Epoch: 3 [40000/57000 (70%)]\tLoss: 4248.555664\n",
            "Train Epoch: 3 [50000/57000 (88%)]\tLoss: 4036.742188\n",
            "Train Epoch: 3 [57000/57000 (100%)]\tLoss: 4191.422363\n",
            "Train Epoch: 4 [10000/57000 (18%)]\tLoss: 3911.556885\n",
            "Train Epoch: 4 [20000/57000 (35%)]\tLoss: 3967.372070\n",
            "Train Epoch: 4 [30000/57000 (53%)]\tLoss: 3959.767090\n",
            "Train Epoch: 4 [40000/57000 (70%)]\tLoss: 3738.428711\n",
            "Train Epoch: 4 [50000/57000 (88%)]\tLoss: 3789.497559\n",
            "Train Epoch: 4 [57000/57000 (100%)]\tLoss: 3833.700684\n",
            "Train Epoch: 5 [10000/57000 (18%)]\tLoss: 3921.078125\n",
            "Train Epoch: 5 [20000/57000 (35%)]\tLoss: 3661.407227\n",
            "Train Epoch: 5 [30000/57000 (53%)]\tLoss: 3610.104004\n",
            "Train Epoch: 5 [40000/57000 (70%)]\tLoss: 3705.938965\n",
            "Train Epoch: 5 [50000/57000 (88%)]\tLoss: 3585.532715\n",
            "Train Epoch: 5 [57000/57000 (100%)]\tLoss: 3713.194824\n"
          ],
          "name": "stdout"
        }
      ]
    },
    {
      "cell_type": "code",
      "metadata": {
        "id": "-xMyYAsEHfB6",
        "colab_type": "code",
        "outputId": "a30d19d0-6077-43b9-ba25-eb0d39c2e7ad",
        "colab": {
          "base_uri": "https://localhost:8080/",
          "height": 252
        }
      },
      "source": [
        "dataiter = iter(test_loader)\n",
        "images_, labels_ = dataiter.next()\n",
        "\n",
        "images, labels = images_, labels_\n",
        "\n",
        "mu, logvar = myVEncoder(images)\n",
        "output = myVDecoder(mu)\n",
        "\n",
        "renderImages(images,output)"
      ],
      "execution_count": 311,
      "outputs": [
        {
          "output_type": "display_data",
          "data": {
            "image/png": "[encoded data removed]",
            "text/plain": [
              "<Figure size 1440x288 with 10 Axes>"
            ]
          },
          "metadata": {
            "tags": []
          }
        }
      ]
    },
    {
      "cell_type": "markdown",
      "metadata": {
        "id": "R7TB4Yhwz51l",
        "colab_type": "text"
      },
      "source": [
        "## 3. Generate samples with the decoder and show them."
      ]
    },
    {
      "cell_type": "code",
      "metadata": {
        "id": "Lx3ta01DJKfJ",
        "colab_type": "code",
        "outputId": "e62413a6-b4e5-42e1-bbe2-74593b944f0c",
        "colab": {
          "base_uri": "https://localhost:8080/",
          "height": 223
        }
      },
      "source": [
        "\n",
        "a = torch.randn(5,bottleneck_size_VA)\n",
        "a.to(hparams['device'])\n",
        "\n",
        "output = myVDecoder(a)\n",
        "output = output.detach().numpy()\n",
        "\n",
        "fig2, axes2 = plt.subplots(nrows=1, ncols=5, sharex=True, sharey=True, figsize=(20,4))\n",
        "for i in range(5):\n",
        "  im = output[i]\n",
        "  axes2[i].imshow(np.squeeze(im), cmap='gray')\n",
        "  axes2[i].axis('off')\n",
        "plt.show()"
      ],
      "execution_count": 310,
      "outputs": [
        {
          "output_type": "display_data",
          "data": {
            "image/png": "[encoded data removed]",
            "text/plain": [
              "<Figure size 1440x288 with 5 Axes>"
            ]
          },
          "metadata": {
            "tags": []
          }
        }
      ]
    }
  ]
}
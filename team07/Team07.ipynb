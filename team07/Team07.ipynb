{
  "nbformat": 4,
  "nbformat_minor": 0,
  "metadata": {
    "colab": {
      "name": "FINAL.ipynb",
      "provenance": [],
      "collapsed_sections": []
    },
    "kernelspec": {
      "name": "python3",
      "display_name": "Python 3"
    },
    "accelerator": "GPU"
  },
  "cells": [
    {
      "cell_type": "markdown",
      "metadata": {
        "id": "KNWdDimyPP07",
        "colab_type": "text"
      },
      "source": [
        "#**DLAI Project 2019**\n",
        "\n",
        "  - Lluís Guardia\n",
        "  - Sergi Sánchez\n",
        "  - Miguel Ángel Bueno\n",
        "  - Juan José Nieto"
      ]
    },
    {
      "cell_type": "code",
      "metadata": {
        "id": "pws_rhOhcniA",
        "colab_type": "code",
        "colab": {}
      },
      "source": [
        "import torch\n",
        "import os\n",
        "import torchvision\n",
        "import torchvision.transforms as transforms\n",
        "import torch.nn as nn\n",
        "import torch.nn.functional as F\n",
        "from torch.autograd import Variable\n",
        "from collections import defaultdict\n",
        "from torchvision.utils import save_image, make_grid\n",
        "from torchvision.datasets import MNIST\n",
        "from torch.utils.data import DataLoader\n",
        "%matplotlib inline\n",
        "from matplotlib import pyplot as plt\n",
        "import numpy as np\n",
        "import copy \n",
        "from prettytable import PrettyTable\n",
        "\n",
        "def setSeed(manualSeed):\n",
        "\tnp.random.seed(manualSeed)\n",
        "\ttorch.manual_seed(manualSeed)\n",
        "\ttorch.cuda.manual_seed(manualSeed)\n",
        "\ttorch.cuda.manual_seed_all(manualSeed)\n",
        "\n",
        "\ttorch.backends.cudnn.enabled = False\n",
        "\ttorch.backends.cudnn.benchmark = False\n",
        "\ttorch.backends.cudnn.deterministic = True\n",
        "\n",
        "setSeed(2)"
      ],
      "execution_count": 0,
      "outputs": []
    },
    {
      "cell_type": "code",
      "metadata": {
        "id": "QaWbZBb7Zfeh",
        "colab_type": "code",
        "colab": {}
      },
      "source": [
        "hparams = {\n",
        "    'batch_size':128,\n",
        "    'num_epochs':7,\n",
        "    'num_epochs_class':300,\n",
        "    'num_epochs_gan':100,\n",
        "    'num_classes':10,\n",
        "    'pixels_inputs':784,\n",
        "    'learning_rate':1e-3,\n",
        "    'bottleneck_sizes': [16,64,256],\n",
        "    'log_interval': 100\n",
        "}\n",
        "\n",
        "hparams['device'] = 'cuda' if torch.cuda.is_available() else 'cpu'"
      ],
      "execution_count": 0,
      "outputs": []
    },
    {
      "cell_type": "markdown",
      "metadata": {
        "id": "WNbOXxDromgi",
        "colab_type": "text"
      },
      "source": [
        "#**PART 1**"
      ]
    },
    {
      "cell_type": "markdown",
      "metadata": {
        "id": "P18BxPVOweXA",
        "colab_type": "text"
      },
      "source": [
        "##1. Load MNIST train and test sets. \n",
        "\n",
        "Split the original training data into 95% training and 5% validation data"
      ]
    },
    {
      "cell_type": "code",
      "metadata": {
        "id": "4yqD4SRycu_H",
        "colab_type": "code",
        "outputId": "d3c0912e-1bce-4207-9574-e1907e75dc2f",
        "colab": {
          "base_uri": "https://localhost:8080/",
          "height": 68
        }
      },
      "source": [
        "percentage_train=0.95\n",
        "\n",
        "mnist_trainset = MNIST('data', train=True, download=True,\n",
        "                               transform=transforms.Compose([\n",
        "                                   transforms.ToTensor(),\n",
        "                                   transforms.Normalize((0.5,), (0.5,))\n",
        "                               ]))\n",
        "mnist_testset = MNIST('data', train=False, \n",
        "                              transform=transforms.Compose([\n",
        "                                  transforms.ToTensor(),\n",
        "                                  transforms.Normalize((0.5,), (0.5,))\n",
        "                              ]))\n",
        "\n",
        "train_size = int(percentage_train * len(mnist_trainset))\n",
        "val_size = len(mnist_trainset) - train_size\n",
        "train_dataset, val_dataset = torch.utils.data.random_split(mnist_trainset, [train_size, val_size])\n",
        "\n",
        "train_loader = torch.utils.data.DataLoader(\n",
        "    train_dataset,\n",
        "    batch_size=hparams['batch_size'],\n",
        "    shuffle=True)\n",
        "\n",
        "val_loader = torch.utils.data.DataLoader(\n",
        "    val_dataset,\n",
        "    batch_size=hparams['batch_size'], \n",
        "    shuffle=False)\n",
        "\n",
        "test_loader = torch.utils.data.DataLoader(\n",
        "    mnist_testset,\n",
        "    batch_size=hparams['batch_size'], \n",
        "    shuffle=False)\n",
        "\n",
        "print('\\nTraining set is :{}%'.format(100*len(train_dataset)/len(mnist_trainset)))\n",
        "print('Validation set is :{}%'.format(100*len(val_dataset)/len(mnist_trainset)))"
      ],
      "execution_count": 21,
      "outputs": [
        {
          "output_type": "stream",
          "text": [
            "\n",
            "Training set is :95.0%\n",
            "Validation set is :5.0%\n"
          ],
          "name": "stdout"
        }
      ]
    },
    {
      "cell_type": "markdown",
      "metadata": {
        "id": "KKePaLSRwrIl",
        "colab_type": "text"
      },
      "source": [
        "##2. Implement a convolutional autoencoder \n",
        "\n",
        "with separate Encoder and Decoder modules"
      ]
    },
    {
      "cell_type": "code",
      "metadata": {
        "id": "xlWZ-ks3t2Gn",
        "colab_type": "code",
        "colab": {}
      },
      "source": [
        "class Encoder(nn.Module):\n",
        "    def __init__(self, bottleneck):\n",
        "        super(Encoder, self).__init__()\n",
        "\n",
        "        self.encoder = nn.Sequential(\n",
        "            nn.Conv2d(1, 8, 5),\n",
        "            nn.ReLU(True),\n",
        "            nn.MaxPool2d(2),\n",
        "            nn.Conv2d(8, 16, 4, stride=2, padding=1),\n",
        "            nn.ReLU(True),\n",
        "            nn.MaxPool2d(2)\n",
        "            )\n",
        "    \n",
        "        self.inn = nn.Sequential(\n",
        "              nn.Linear(16*3*3, bottleneck),\n",
        "              nn.ReLU())\n",
        "\n",
        "    def forward(self, x):\n",
        "        x = self.encoder(x)\n",
        "        x= x.view(x.shape[0], -1)\n",
        "        return self.inn(x)"
      ],
      "execution_count": 0,
      "outputs": []
    },
    {
      "cell_type": "code",
      "metadata": {
        "id": "pL7iGHSkuyJc",
        "colab_type": "code",
        "colab": {}
      },
      "source": [
        "class Decoder(nn.Module):\n",
        "    def __init__(self, bottleneck):\n",
        "        super(Decoder, self).__init__()\n",
        "        \n",
        "        self.out = nn.Sequential(\n",
        "              nn.Linear(bottleneck, 16*3*3),\n",
        "              nn.ReLU()\n",
        "              )\n",
        "        self.decoder = nn.Sequential(\n",
        "            nn.ConvTranspose2d(16, 8, 7, stride=2),\n",
        "            nn.ReLU(True),\n",
        "            nn.ConvTranspose2d(8, 1, 8, stride=2),\n",
        "            nn.Tanh()\n",
        "        )\n",
        "\n",
        "    def forward(self, x):\n",
        "        x = self.out(x)\n",
        "        x = x.view(x.shape[0], 16, 3, 3)       \n",
        "        x = self.decoder(x)\n",
        "        return x"
      ],
      "execution_count": 0,
      "outputs": []
    },
    {
      "cell_type": "code",
      "metadata": {
        "id": "HLnYANS2t3nB",
        "colab_type": "code",
        "outputId": "d878adb4-bc74-4eab-d1a3-308f99b7d6a4",
        "colab": {
          "base_uri": "https://localhost:8080/",
          "height": 34
        }
      },
      "source": [
        "class ConvolutionalAutoEncoder(nn.Module):\n",
        "    def __init__(self, bottleneck):\n",
        "        super(ConvolutionalAutoEncoder, self).__init__()\n",
        "\n",
        "        self.bottleneck = bottleneck\n",
        "\n",
        "        self.encoder = Encoder(bottleneck)\n",
        "        self.decoder = Decoder(bottleneck)\n",
        "\n",
        "\n",
        "    def forward(self, x):\n",
        "        x = self.encoder(x)\n",
        "        x = self.decoder(x)\n",
        "        return x\n",
        "\n",
        "image = torch.randn((1, 1, 28, 28))\n",
        "autoencoder = ConvolutionalAutoEncoder(50).to(hparams['device'])\n",
        "output = autoencoder(image.to(hparams['device']))\n",
        "print('Size of image after passing through the AutoEncoder is {}'.format(output.shape))"
      ],
      "execution_count": 27,
      "outputs": [
        {
          "output_type": "stream",
          "text": [
            "Size of image after passing through the AutoEncoder is torch.Size([1, 1, 28, 28])\n"
          ],
          "name": "stdout"
        }
      ]
    },
    {
      "cell_type": "markdown",
      "metadata": {
        "id": "ikaiirNmWiU0",
        "colab_type": "text"
      },
      "source": [
        "###Functions to load and save models"
      ]
    },
    {
      "cell_type": "code",
      "metadata": {
        "id": "wSYiW1xvWfDK",
        "colab_type": "code",
        "colab": {}
      },
      "source": [
        "path = \"/content/gdrive/My Drive/DLAI_PROJECT/\" \n",
        "\n",
        "def load_weights(name):\n",
        "  return torch.load(os.path.join(path, name + '.pt'))\n",
        "def save_model(name, weights):\n",
        "  torch.save(weights, os.path.join(path, name + '.pt'))"
      ],
      "execution_count": 0,
      "outputs": []
    },
    {
      "cell_type": "markdown",
      "metadata": {
        "id": "HawEpXgVxBoQ",
        "colab_type": "text"
      },
      "source": [
        "##3. Train the convolutional autoencoder, with different bottleneck sizes. \n",
        "\n",
        "Plot the train and validation loss curves of all autoencoders in the same figure."
      ]
    },
    {
      "cell_type": "code",
      "metadata": {
        "id": "oXEFuzwLenXX",
        "colab_type": "code",
        "colab": {}
      },
      "source": [
        "def train_epoch(model, train_data, optimizer, criterion, hparams, classify, print_batch):\n",
        "  model.train()\n",
        "  device = hparams['device']\n",
        "  loss_epoch=[]\n",
        "  for batch_idx, (data, target) in enumerate(train_data):  \n",
        "      img = data.to(device)\n",
        "      optimizer.zero_grad()\n",
        "      output = model(img)\n",
        "\n",
        "      if classify:\n",
        "        loss = criterion(output, target.cuda().long())\n",
        "      else:\n",
        "        loss = criterion(output, img)*hparams['pixels_inputs']\n",
        "\n",
        "      loss.backward()\n",
        "      optimizer.step()\n",
        "      loss_epoch.append(loss.item())     \n",
        "      \n",
        "      if print_batch:\n",
        "        if batch_idx % hparams['log_interval'] == 0:\n",
        "            print('Train Epoch: {}/{} [{}/{} ({:.0f}%)]\\tLoss: {:.6f}'.format(\n",
        "                epoch+1, hparams['num_epochs'],  batch_idx * len(data), len(train_loader.dataset),\n",
        "                100. * batch_idx / len(train_loader), loss.item()))\n",
        "  return loss_epoch"
      ],
      "execution_count": 0,
      "outputs": []
    },
    {
      "cell_type": "code",
      "metadata": {
        "id": "TO7ugcy7aGdu",
        "colab_type": "code",
        "colab": {}
      },
      "source": [
        "def test_epoch(model, test_data, criterion, hparams):\n",
        "  model.eval()\n",
        "  device = hparams['device']\n",
        "  mean_loss = 0\n",
        "  \n",
        "  with torch.no_grad():\n",
        "      for data in test_data:\n",
        "            img, _ = data\n",
        "            img = img.to(device)\n",
        "            output = model(img)\n",
        "            loss = criterion(output, img)*hparams['pixels_inputs']\n",
        "            mean_loss += loss.item()\n",
        "\n",
        "      mean_loss = mean_loss/len(test_data)\n",
        "  return mean_loss "
      ],
      "execution_count": 0,
      "outputs": []
    },
    {
      "cell_type": "code",
      "metadata": {
        "id": "z8A-86jSe3dD",
        "colab_type": "code",
        "outputId": "367cf242-bcbb-487c-d335-8ae1b1a13242",
        "colab": {
          "base_uri": "https://localhost:8080/",
          "height": 1000
        }
      },
      "source": [
        "criterion = nn.MSELoss() \n",
        "\n",
        "losses = defaultdict(lambda: defaultdict(list))\n",
        "models = []\n",
        "for bt in hparams['bottleneck_sizes']:\n",
        "    models.append(ConvolutionalAutoEncoder(bt).cuda())\n",
        "for m in models:\n",
        "    print('Model with '+str(m.bottleneck)+' bottleneck size:')\n",
        "    params = list(m.encoder.parameters()) + list(m.decoder.parameters())\n",
        "    optimizer = torch.optim.Adam(params, lr=hparams['learning_rate'], weight_decay=1e-5)\n",
        "    for epoch in range(hparams['num_epochs']):\n",
        "      loss_train = train_epoch(m, train_loader, optimizer, criterion, hparams, False, True)\n",
        "      loss_val = test_epoch(m, test_loader, criterion, hparams)\n",
        "      losses[m.bottleneck]['train'].append(loss_train)\n",
        "      losses[m.bottleneck]['test'].append(loss_val)\n",
        "      print('Test set Epoch: {}/{} \\tAverage Loss: {:.6f}\\n'.format(\n",
        "          epoch+1, hparams['num_epochs'], loss_val))"
      ],
      "execution_count": 0,
      "outputs": [
        {
          "output_type": "stream",
          "text": [
            "Model with 16 bottleneck size:\n",
            "Train Epoch: 1/7 [0/57000 (0%)]\tLoss: 782.565308\n",
            "Train Epoch: 1/7 [12800/57000 (22%)]\tLoss: 357.482910\n",
            "Train Epoch: 1/7 [25600/57000 (45%)]\tLoss: 349.613831\n",
            "Train Epoch: 1/7 [38400/57000 (67%)]\tLoss: 335.491333\n",
            "Train Epoch: 1/7 [51200/57000 (90%)]\tLoss: 350.875488\n",
            "Test set Epoch: 1/7 \tAverage Loss: 357.118549\n",
            "\n",
            "Train Epoch: 2/7 [0/57000 (0%)]\tLoss: 346.291443\n",
            "Train Epoch: 2/7 [12800/57000 (22%)]\tLoss: 354.251099\n",
            "Train Epoch: 2/7 [25600/57000 (45%)]\tLoss: 335.739197\n",
            "Train Epoch: 2/7 [38400/57000 (67%)]\tLoss: 342.621643\n",
            "Train Epoch: 2/7 [51200/57000 (90%)]\tLoss: 346.353912\n",
            "Test set Epoch: 2/7 \tAverage Loss: 356.416925\n",
            "\n",
            "Train Epoch: 3/7 [0/57000 (0%)]\tLoss: 343.782043\n",
            "Train Epoch: 3/7 [12800/57000 (22%)]\tLoss: 365.568604\n",
            "Train Epoch: 3/7 [25600/57000 (45%)]\tLoss: 341.014221\n",
            "Train Epoch: 3/7 [38400/57000 (67%)]\tLoss: 342.681122\n",
            "Train Epoch: 3/7 [51200/57000 (90%)]\tLoss: 184.912231\n",
            "Test set Epoch: 3/7 \tAverage Loss: 171.588587\n",
            "\n",
            "Train Epoch: 4/7 [0/57000 (0%)]\tLoss: 167.335449\n",
            "Train Epoch: 4/7 [12800/57000 (22%)]\tLoss: 154.121582\n",
            "Train Epoch: 4/7 [25600/57000 (45%)]\tLoss: 136.526627\n",
            "Train Epoch: 4/7 [38400/57000 (67%)]\tLoss: 118.240875\n",
            "Train Epoch: 4/7 [51200/57000 (90%)]\tLoss: 114.274017\n",
            "Test set Epoch: 4/7 \tAverage Loss: 117.744112\n",
            "\n",
            "Train Epoch: 5/7 [0/57000 (0%)]\tLoss: 115.241600\n",
            "Train Epoch: 5/7 [12800/57000 (22%)]\tLoss: 112.505043\n",
            "Train Epoch: 5/7 [25600/57000 (45%)]\tLoss: 110.483215\n",
            "Train Epoch: 5/7 [38400/57000 (67%)]\tLoss: 112.108498\n",
            "Train Epoch: 5/7 [51200/57000 (90%)]\tLoss: 106.117065\n",
            "Test set Epoch: 5/7 \tAverage Loss: 107.672852\n",
            "\n",
            "Train Epoch: 6/7 [0/57000 (0%)]\tLoss: 112.608498\n",
            "Train Epoch: 6/7 [12800/57000 (22%)]\tLoss: 105.212013\n",
            "Train Epoch: 6/7 [25600/57000 (45%)]\tLoss: 113.326241\n",
            "Train Epoch: 6/7 [38400/57000 (67%)]\tLoss: 106.967590\n",
            "Train Epoch: 6/7 [51200/57000 (90%)]\tLoss: 100.236359\n",
            "Test set Epoch: 6/7 \tAverage Loss: 102.110601\n",
            "\n",
            "Train Epoch: 7/7 [0/57000 (0%)]\tLoss: 105.471588\n",
            "Train Epoch: 7/7 [12800/57000 (22%)]\tLoss: 101.495049\n",
            "Train Epoch: 7/7 [25600/57000 (45%)]\tLoss: 96.401711\n",
            "Train Epoch: 7/7 [38400/57000 (67%)]\tLoss: 105.859680\n",
            "Train Epoch: 7/7 [51200/57000 (90%)]\tLoss: 105.527466\n",
            "Test set Epoch: 7/7 \tAverage Loss: 99.414353\n",
            "\n",
            "Model with 64 bottleneck size:\n",
            "Train Epoch: 1/7 [0/57000 (0%)]\tLoss: 727.586182\n",
            "Train Epoch: 1/7 [12800/57000 (22%)]\tLoss: 319.328888\n",
            "Train Epoch: 1/7 [25600/57000 (45%)]\tLoss: 210.120667\n",
            "Train Epoch: 1/7 [38400/57000 (67%)]\tLoss: 179.018127\n",
            "Train Epoch: 1/7 [51200/57000 (90%)]\tLoss: 131.309021\n",
            "Test set Epoch: 1/7 \tAverage Loss: 117.621606\n",
            "\n",
            "Train Epoch: 2/7 [0/57000 (0%)]\tLoss: 119.257271\n",
            "Train Epoch: 2/7 [12800/57000 (22%)]\tLoss: 96.340660\n",
            "Train Epoch: 2/7 [25600/57000 (45%)]\tLoss: 79.122406\n",
            "Train Epoch: 2/7 [38400/57000 (67%)]\tLoss: 73.654785\n",
            "Train Epoch: 2/7 [51200/57000 (90%)]\tLoss: 70.266579\n",
            "Test set Epoch: 2/7 \tAverage Loss: 68.262642\n",
            "\n",
            "Train Epoch: 3/7 [0/57000 (0%)]\tLoss: 70.667252\n",
            "Train Epoch: 3/7 [12800/57000 (22%)]\tLoss: 64.407539\n",
            "Train Epoch: 3/7 [25600/57000 (45%)]\tLoss: 61.698048\n",
            "Train Epoch: 3/7 [38400/57000 (67%)]\tLoss: 63.698360\n",
            "Train Epoch: 3/7 [51200/57000 (90%)]\tLoss: 57.408360\n",
            "Test set Epoch: 3/7 \tAverage Loss: 54.197366\n",
            "\n",
            "Train Epoch: 4/7 [0/57000 (0%)]\tLoss: 52.785339\n",
            "Train Epoch: 4/7 [12800/57000 (22%)]\tLoss: 50.698841\n",
            "Train Epoch: 4/7 [25600/57000 (45%)]\tLoss: 48.774590\n",
            "Train Epoch: 4/7 [38400/57000 (67%)]\tLoss: 50.078285\n",
            "Train Epoch: 4/7 [51200/57000 (90%)]\tLoss: 44.763130\n",
            "Test set Epoch: 4/7 \tAverage Loss: 46.186944\n",
            "\n",
            "Train Epoch: 5/7 [0/57000 (0%)]\tLoss: 50.337692\n",
            "Train Epoch: 5/7 [12800/57000 (22%)]\tLoss: 44.980415\n",
            "Train Epoch: 5/7 [25600/57000 (45%)]\tLoss: 46.812569\n",
            "Train Epoch: 5/7 [38400/57000 (67%)]\tLoss: 46.162102\n",
            "Train Epoch: 5/7 [51200/57000 (90%)]\tLoss: 44.171364\n",
            "Test set Epoch: 5/7 \tAverage Loss: 41.831939\n",
            "\n",
            "Train Epoch: 6/7 [0/57000 (0%)]\tLoss: 37.881081\n",
            "Train Epoch: 6/7 [12800/57000 (22%)]\tLoss: 37.377113\n",
            "Train Epoch: 6/7 [25600/57000 (45%)]\tLoss: 41.186241\n",
            "Train Epoch: 6/7 [38400/57000 (67%)]\tLoss: 41.959190\n",
            "Train Epoch: 6/7 [51200/57000 (90%)]\tLoss: 41.147484\n",
            "Test set Epoch: 6/7 \tAverage Loss: 38.313915\n",
            "\n",
            "Train Epoch: 7/7 [0/57000 (0%)]\tLoss: 41.660713\n",
            "Train Epoch: 7/7 [12800/57000 (22%)]\tLoss: 37.890106\n",
            "Train Epoch: 7/7 [25600/57000 (45%)]\tLoss: 40.295284\n",
            "Train Epoch: 7/7 [38400/57000 (67%)]\tLoss: 37.301502\n",
            "Train Epoch: 7/7 [51200/57000 (90%)]\tLoss: 36.967445\n",
            "Test set Epoch: 7/7 \tAverage Loss: 36.541930\n",
            "\n",
            "Model with 256 bottleneck size:\n",
            "Train Epoch: 1/7 [0/57000 (0%)]\tLoss: 709.879395\n",
            "Train Epoch: 1/7 [12800/57000 (22%)]\tLoss: 301.769073\n",
            "Train Epoch: 1/7 [25600/57000 (45%)]\tLoss: 201.828293\n",
            "Train Epoch: 1/7 [38400/57000 (67%)]\tLoss: 123.746140\n",
            "Train Epoch: 1/7 [51200/57000 (90%)]\tLoss: 102.345215\n",
            "Test set Epoch: 1/7 \tAverage Loss: 90.908201\n",
            "\n",
            "Train Epoch: 2/7 [0/57000 (0%)]\tLoss: 93.241646\n",
            "Train Epoch: 2/7 [12800/57000 (22%)]\tLoss: 80.562111\n",
            "Train Epoch: 2/7 [25600/57000 (45%)]\tLoss: 72.229538\n",
            "Train Epoch: 2/7 [38400/57000 (67%)]\tLoss: 67.304169\n",
            "Train Epoch: 2/7 [51200/57000 (90%)]\tLoss: 58.415321\n",
            "Test set Epoch: 2/7 \tAverage Loss: 58.008570\n",
            "\n",
            "Train Epoch: 3/7 [0/57000 (0%)]\tLoss: 62.626999\n",
            "Train Epoch: 3/7 [12800/57000 (22%)]\tLoss: 60.413338\n",
            "Train Epoch: 3/7 [25600/57000 (45%)]\tLoss: 52.848778\n",
            "Train Epoch: 3/7 [38400/57000 (67%)]\tLoss: 50.503204\n",
            "Train Epoch: 3/7 [51200/57000 (90%)]\tLoss: 50.941196\n",
            "Test set Epoch: 3/7 \tAverage Loss: 46.906858\n",
            "\n",
            "Train Epoch: 4/7 [0/57000 (0%)]\tLoss: 45.838455\n",
            "Train Epoch: 4/7 [12800/57000 (22%)]\tLoss: 47.544998\n",
            "Train Epoch: 4/7 [25600/57000 (45%)]\tLoss: 44.897644\n",
            "Train Epoch: 4/7 [38400/57000 (67%)]\tLoss: 43.677109\n",
            "Train Epoch: 4/7 [51200/57000 (90%)]\tLoss: 43.704315\n",
            "Test set Epoch: 4/7 \tAverage Loss: 40.825506\n",
            "\n",
            "Train Epoch: 5/7 [0/57000 (0%)]\tLoss: 43.713295\n",
            "Train Epoch: 5/7 [12800/57000 (22%)]\tLoss: 40.629265\n",
            "Train Epoch: 5/7 [25600/57000 (45%)]\tLoss: 39.808628\n",
            "Train Epoch: 5/7 [38400/57000 (67%)]\tLoss: 39.791653\n",
            "Train Epoch: 5/7 [51200/57000 (90%)]\tLoss: 38.883518\n",
            "Test set Epoch: 5/7 \tAverage Loss: 37.178254\n",
            "\n",
            "Train Epoch: 6/7 [0/57000 (0%)]\tLoss: 37.262283\n",
            "Train Epoch: 6/7 [12800/57000 (22%)]\tLoss: 35.079536\n",
            "Train Epoch: 6/7 [25600/57000 (45%)]\tLoss: 36.432220\n",
            "Train Epoch: 6/7 [38400/57000 (67%)]\tLoss: 31.619474\n",
            "Train Epoch: 6/7 [51200/57000 (90%)]\tLoss: 38.873611\n",
            "Test set Epoch: 6/7 \tAverage Loss: 34.361967\n",
            "\n",
            "Train Epoch: 7/7 [0/57000 (0%)]\tLoss: 37.189514\n",
            "Train Epoch: 7/7 [12800/57000 (22%)]\tLoss: 36.294472\n",
            "Train Epoch: 7/7 [25600/57000 (45%)]\tLoss: 34.998070\n",
            "Train Epoch: 7/7 [38400/57000 (67%)]\tLoss: 32.955597\n",
            "Train Epoch: 7/7 [51200/57000 (90%)]\tLoss: 33.617538\n",
            "Test set Epoch: 7/7 \tAverage Loss: 32.050522\n",
            "\n"
          ],
          "name": "stdout"
        }
      ]
    },
    {
      "cell_type": "code",
      "metadata": {
        "id": "oNeO-ddwpP9O",
        "colab_type": "code",
        "colab": {}
      },
      "source": [
        "##SAVE MODELS\n",
        "for m in models:\n",
        "  save_model(str(m.bottleneck), m.state_dict())"
      ],
      "execution_count": 0,
      "outputs": []
    },
    {
      "cell_type": "code",
      "metadata": {
        "id": "ZP3nLQHOtCA8",
        "colab_type": "code",
        "outputId": "ba98988f-f3da-4eae-9fce-8487116c6838",
        "colab": {
          "base_uri": "https://localhost:8080/",
          "height": 513
        }
      },
      "source": [
        "plt.figure(figsize=(10, 8))\n",
        "plt.xlabel('Epoch')\n",
        "plt.ylabel('MSE Loss')\n",
        "\n",
        "bottlenecks = hparams['bottleneck_sizes']\n",
        "colors_train = ['r', 'g', 'b']\n",
        "colors_val = ['k', 'y', 'm']\n",
        "\n",
        "num_batch =np.ceil(len(train_loader.dataset)/hparams['batch_size'])\n",
        "x_t = list(np.linspace(0,hparams['num_epochs'],num_batch*hparams['num_epochs']))\n",
        "x_v = list(range(1, hparams['num_epochs']+1))\n",
        "\n",
        "for bt, ct, cv in zip(bottlenecks, colors_train, colors_val):\n",
        "  y_t = np.array(losses[bt]['train']).flatten()\n",
        "  y_v = losses[bt]['test']\n",
        "  plt.plot(x_t, y_t, ct, label='Training loss w/ bottleneck ' + str(bt))\n",
        "  plt.plot(x_v, y_v, cv + '--', label='Validation loss w/ bottleneck ' + str(bt))\n",
        "\n",
        "plt.title('Training and validation loss')\n",
        "plt.legend()\n",
        "plt.show()"
      ],
      "execution_count": 0,
      "outputs": [
        {
          "output_type": "display_data",
          "data": {
            "image/png": "[encoded data removed]",
            "text/plain": [
              "<Figure size 720x576 with 1 Axes>"
            ]
          },
          "metadata": {
            "tags": []
          }
        }
      ]
    },
    {
      "cell_type": "code",
      "metadata": {
        "id": "gW_l-hOiZJ5f",
        "colab_type": "code",
        "colab": {}
      },
      "source": [
        "# Execute only in case we want to use already trained models. Weights stored in Google Drive.\n",
        "models = []\n",
        "bottlenecks = [10,50,100,512]\n",
        "for bt in bottlenecks:\n",
        "  m = ConvolutionalAutoEncoder(bt).cuda()\n",
        "  weights = load_weights(str(bt))\n",
        "  m.load_state_dict(weights)\n",
        "  models.append(m)"
      ],
      "execution_count": 0,
      "outputs": []
    },
    {
      "cell_type": "markdown",
      "metadata": {
        "id": "SdYZASdEyF0m",
        "colab_type": "text"
      },
      "source": [
        "##4. Compute the avg. image reconstruction error (MSE) \n",
        "\n",
        "of the trained models on the MNIST validation and test sets. \n",
        "\n",
        "Show the results in a table, including #params of each model."
      ]
    },
    {
      "cell_type": "code",
      "metadata": {
        "id": "7DfK0XWnEr1-",
        "colab_type": "code",
        "colab": {}
      },
      "source": [
        "def get_nn_nparams(model):\n",
        "  pp=0\n",
        "  for p in list(model.parameters()):\n",
        "      nn=1\n",
        "      for s in list(p.size()):\n",
        "          nn = nn*s\n",
        "      pp += nn\n",
        "  return pp"
      ],
      "execution_count": 0,
      "outputs": []
    },
    {
      "cell_type": "code",
      "metadata": {
        "id": "IfNu1xh5yKK1",
        "colab_type": "code",
        "outputId": "dab7a35e-21c6-401a-aa90-89245c606295",
        "colab": {
          "base_uri": "https://localhost:8080/",
          "height": 139
        }
      },
      "source": [
        "mse_eval = []\n",
        "mse_test = []\n",
        "\n",
        "t = PrettyTable(['bottleneck size', 'MSE eval', 'MSE test', 'parameters'])\n",
        "\n",
        "for mod, n in zip(models, range(len(models))):\n",
        "  mse_eval.append(test_epoch(mod, val_loader, criterion, hparams))\n",
        "  mse_test.append(test_epoch(mod, test_loader, criterion, hparams))\n",
        "  t.add_row([hparams['bottleneck_sizes'][n], mse_eval[n], mse_test[n], get_nn_nparams(mod)])\n",
        "\n",
        "print(t)"
      ],
      "execution_count": 0,
      "outputs": [
        {
          "output_type": "stream",
          "text": [
            "+-----------------+--------------------+-------------------+------------+\n",
            "| bottleneck size |      MSE eval      |      MSE test     | parameters |\n",
            "+-----------------+--------------------+-------------------+------------+\n",
            "|        16       | 100.73494911193848 | 99.41435347931295 |   13833    |\n",
            "|        64       | 37.71660343805949  |  36.5419301383103 |   27705    |\n",
            "|       256       |  33.1649223168691  | 32.05052238174632 |   83193    |\n",
            "+-----------------+--------------------+-------------------+------------+\n"
          ],
          "name": "stdout"
        }
      ]
    },
    {
      "cell_type": "markdown",
      "metadata": {
        "id": "dZCazVRU1lms",
        "colab_type": "text"
      },
      "source": [
        "##5. Select one of the autoencoders and feed it 5 random MNIST images from the test set. \n",
        "\n",
        "Show them along with their reconstructions."
      ]
    },
    {
      "cell_type": "code",
      "metadata": {
        "id": "n8bDMlcZzFop",
        "colab_type": "code",
        "outputId": "d9e8d347-686c-434b-c683-90fe526044a1",
        "colab": {
          "base_uri": "https://localhost:8080/",
          "height": 954
        }
      },
      "source": [
        "model_used = models[1]\n",
        "\n",
        "dataiter = iter(test_loader)\n",
        "images, _ = dataiter.next()\n",
        "\n",
        "figure = plt.figure()\n",
        "num_of_images = 5\n",
        "\n",
        "for index in range(1, num_of_images + 1):\n",
        "    img=images[index].reshape(1, 1, 28, 28).to(hparams['device'])\n",
        "    img = Variable(img.cuda())\n",
        "    output = model_used(img)\n",
        "\n",
        "    img=img.reshape(28, 28)\n",
        "    output = output.reshape(28, 28)\n",
        "    \n",
        "    a = img.detach().cpu().numpy()\n",
        "    b = output.detach().cpu().numpy()\n",
        "    f, arr = plt.subplots(1,2)\n",
        "\n",
        "    arr[0].imshow(a, cmap='gray')\n",
        "    arr[1].imshow(b, cmap='gray')\n",
        "    plt.show()"
      ],
      "execution_count": 0,
      "outputs": [
        {
          "output_type": "display_data",
          "data": {
            "text/plain": [
              "<Figure size 432x288 with 0 Axes>"
            ]
          },
          "metadata": {
            "tags": []
          }
        },
        {
          "output_type": "display_data",
          "data": {
            "image/png": "[encoded data removed]",
            "text/plain": [
              "<Figure size 432x288 with 2 Axes>"
            ]
          },
          "metadata": {
            "tags": []
          }
        },
        {
          "output_type": "display_data",
          "data": {
            "image/png": "[encoded data removed]",
            "text/plain": [
              "<Figure size 432x288 with 2 Axes>"
            ]
          },
          "metadata": {
            "tags": []
          }
        },
        {
          "output_type": "display_data",
          "data": {
            "image/png": "[encoded data removed]",
            "text/plain": [
              "<Figure size 432x288 with 2 Axes>"
            ]
          },
          "metadata": {
            "tags": []
          }
        },
        {
          "output_type": "display_data",
          "data": {
            "image/png": "[encoded data removed]",
            "text/plain": [
              "<Figure size 432x288 with 2 Axes>"
            ]
          },
          "metadata": {
            "tags": []
          }
        },
        {
          "output_type": "display_data",
          "data": {
            "image/png": "[encoded data removed]",
            "text/plain": [
              "<Figure size 432x288 with 2 Axes>"
            ]
          },
          "metadata": {
            "tags": []
          }
        }
      ]
    },
    {
      "cell_type": "markdown",
      "metadata": {
        "id": "cZWEbKnZhXTU",
        "colab_type": "text"
      },
      "source": [
        "##6. Generate 5 new images by injecting random values as input to the decoder."
      ]
    },
    {
      "cell_type": "code",
      "metadata": {
        "id": "VZw5OU7dt_7-",
        "colab_type": "code",
        "outputId": "e9e3e6bd-7106-403d-bb6e-c865af351378",
        "colab": {
          "base_uri": "https://localhost:8080/",
          "height": 1000
        }
      },
      "source": [
        "model_used = models[1]\n",
        "for n in range(5):\n",
        "  noise_image = torch.randn([1,model_used.bottleneck]).cuda()\n",
        "\n",
        "  output = model_used.decoder(noise_image)\n",
        "  print('Image '+str(n))\n",
        "  plt.imshow(output.cpu().detach().numpy().squeeze(), cmap='gray')\n",
        "  plt.show()  "
      ],
      "execution_count": 0,
      "outputs": [
        {
          "output_type": "stream",
          "text": [
            "Image 0\n"
          ],
          "name": "stdout"
        },
        {
          "output_type": "display_data",
          "data": {
            "image/png": "[encoded data removed]",
            "text/plain": [
              "<Figure size 432x288 with 1 Axes>"
            ]
          },
          "metadata": {
            "tags": []
          }
        },
        {
          "output_type": "stream",
          "text": [
            "Image 1\n"
          ],
          "name": "stdout"
        },
        {
          "output_type": "display_data",
          "data": {
            "image/png": "[encoded data removed]",
            "text/plain": [
              "<Figure size 432x288 with 1 Axes>"
            ]
          },
          "metadata": {
            "tags": []
          }
        },
        {
          "output_type": "stream",
          "text": [
            "Image 2\n"
          ],
          "name": "stdout"
        },
        {
          "output_type": "display_data",
          "data": {
            "image/png": "[encoded data removed]",
            "text/plain": [
              "<Figure size 432x288 with 1 Axes>"
            ]
          },
          "metadata": {
            "tags": []
          }
        },
        {
          "output_type": "stream",
          "text": [
            "Image 3\n"
          ],
          "name": "stdout"
        },
        {
          "output_type": "display_data",
          "data": {
            "image/png": "[encoded data removed]",
            "text/plain": [
              "<Figure size 432x288 with 1 Axes>"
            ]
          },
          "metadata": {
            "tags": []
          }
        },
        {
          "output_type": "stream",
          "text": [
            "Image 4\n"
          ],
          "name": "stdout"
        },
        {
          "output_type": "display_data",
          "data": {
            "image/png": "[encoded data removed]",
            "text/plain": [
              "<Figure size 432x288 with 1 Axes>"
            ]
          },
          "metadata": {
            "tags": []
          }
        }
      ]
    },
    {
      "cell_type": "markdown",
      "metadata": {
        "id": "7KZKe0yKd_wy",
        "colab_type": "text"
      },
      "source": [
        "#**PART 2:**"
      ]
    },
    {
      "cell_type": "markdown",
      "metadata": {
        "id": "0JjgcwemeD19",
        "colab_type": "text"
      },
      "source": [
        "##1. Select a subset of 100 images and their associated labels from the MNIST training data."
      ]
    },
    {
      "cell_type": "code",
      "metadata": {
        "id": "G0lY6LTMuwKh",
        "colab_type": "code",
        "colab": {}
      },
      "source": [
        "sub_size = 100\n",
        "sub_dataset, _ = torch.utils.data.random_split(mnist_trainset, [sub_size, len(mnist_trainset)-sub_size])\n",
        "\n",
        "sub_loader = torch.utils.data.DataLoader(\n",
        "      sub_dataset,\n",
        "      batch_size=100,\n",
        "      shuffle=True)"
      ],
      "execution_count": 0,
      "outputs": []
    },
    {
      "cell_type": "markdown",
      "metadata": {
        "id": "RYdX3XPlhHJS",
        "colab_type": "text"
      },
      "source": [
        "##2 & 3. Select one of the previously trained autoencoders.\n",
        "\n",
        "Create a digit (0-9) classification model reusing the encoder of the autoencoder and adding the needed fully connected (projection) layer."
      ]
    },
    {
      "cell_type": "code",
      "metadata": {
        "id": "lqQs8O1AakRS",
        "colab_type": "code",
        "colab": {}
      },
      "source": [
        "class Classifier(nn.Module):\n",
        "  def __init__(self, bottleneck):\n",
        "    super(Classifier, self).__init__()\n",
        "    self.bottleneck = bottleneck\n",
        "    self.encoder = Encoder(bottleneck)\n",
        "    self.linear = nn.Sequential(\n",
        "              nn.Linear(bottleneck, 10),\n",
        "              nn.ReLU())\n",
        "    self.softmax = nn.Softmax()\n",
        "\n",
        "  def forward(self, x):\n",
        "    x = self.encoder(x)\n",
        "    x = self.linear(x)\n",
        "    return self.softmax(x)"
      ],
      "execution_count": 0,
      "outputs": []
    },
    {
      "cell_type": "markdown",
      "metadata": {
        "id": "aXGfcmjriK9c",
        "colab_type": "text"
      },
      "source": [
        "##4. Pre-training: \n",
        "\n",
        "use the weights of the autoencoder as initial values for the network weights and train a classification model on the subset of 100 samples."
      ]
    },
    {
      "cell_type": "code",
      "metadata": {
        "id": "DiNCibwgR03M",
        "colab_type": "code",
        "colab": {
          "base_uri": "https://localhost:8080/",
          "height": 34
        },
        "outputId": "58f398c7-5f6f-4cd1-e41f-a6c93c62de20"
      },
      "source": [
        "# weights = load_weights('final')\n",
        "\n",
        "criterion = nn.CrossEntropyLoss()\n",
        "loss_classifiers = defaultdict(lambda: defaultdict(list))\n",
        "\n",
        "bt = 64\n",
        "model_base = models[1]\n",
        "# model_base.load_state_dict(weights)"
      ],
      "execution_count": 29,
      "outputs": [
        {
          "output_type": "execute_result",
          "data": {
            "text/plain": [
              "<All keys matched successfully>"
            ]
          },
          "metadata": {
            "tags": []
          },
          "execution_count": 29
        }
      ]
    },
    {
      "cell_type": "code",
      "metadata": {
        "id": "9d6sUqaC9DMt",
        "colab_type": "code",
        "outputId": "bd4e7249-e0ab-4ce8-be6a-5d349553c9ab",
        "colab": {
          "base_uri": "https://localhost:8080/",
          "height": 598
        }
      },
      "source": [
        "model_init = Classifier(bt).cuda()\n",
        "model_init.encoder = copy.deepcopy(model_base.encoder)\n",
        "\n",
        "params = list(model_init.encoder.parameters()) + list(model_init.linear.parameters())\n",
        "optimizer = torch.optim.Adam(params, lr=hparams['learning_rate'], weight_decay=1e-5)\n",
        "\n",
        "print('Model with '+str(model_init.bottleneck)+' bottleneck size:')\n",
        "for epoch in range(hparams['num_epochs_class']):\n",
        "  train_loss = train_epoch(model_init, sub_loader, optimizer, criterion, hparams, True, False)\n",
        "  loss_classifiers['init']['train'].append(train_loss)\n",
        "  if epoch % 10 == 0:\n",
        "    print('Train Epoch: {}/{} \\tAverage Loss: {:.6f}'.format(\n",
        "        epoch+1, hparams['num_epochs_class'], np.mean(train_loss)))"
      ],
      "execution_count": 35,
      "outputs": [
        {
          "output_type": "stream",
          "text": [
            "Model with 256 bottleneck size:\n",
            "Train Epoch: 1/300 \tAverage Loss: 2.384113\n"
          ],
          "name": "stdout"
        },
        {
          "output_type": "stream",
          "text": [
            "/usr/local/lib/python3.6/dist-packages/ipykernel_launcher.py:14: UserWarning: Implicit dimension choice for softmax has been deprecated. Change the call to include dim=X as an argument.\n",
            "  \n"
          ],
          "name": "stderr"
        },
        {
          "output_type": "stream",
          "text": [
            "Train Epoch: 11/300 \tAverage Loss: 2.040144\n",
            "Train Epoch: 21/300 \tAverage Loss: 1.909382\n",
            "Train Epoch: 31/300 \tAverage Loss: 1.840991\n",
            "Train Epoch: 41/300 \tAverage Loss: 1.833086\n",
            "Train Epoch: 51/300 \tAverage Loss: 1.830204\n",
            "Train Epoch: 61/300 \tAverage Loss: 1.827466\n",
            "Train Epoch: 71/300 \tAverage Loss: 1.790704\n",
            "Train Epoch: 81/300 \tAverage Loss: 1.726395\n",
            "Train Epoch: 91/300 \tAverage Loss: 1.679424\n",
            "Train Epoch: 101/300 \tAverage Loss: 1.654350\n",
            "Train Epoch: 111/300 \tAverage Loss: 1.649041\n",
            "Train Epoch: 121/300 \tAverage Loss: 1.645787\n",
            "Train Epoch: 131/300 \tAverage Loss: 1.640857\n",
            "Train Epoch: 141/300 \tAverage Loss: 1.637596\n",
            "Train Epoch: 151/300 \tAverage Loss: 1.636047\n",
            "Train Epoch: 161/300 \tAverage Loss: 1.633410\n",
            "Train Epoch: 171/300 \tAverage Loss: 1.631069\n",
            "Train Epoch: 181/300 \tAverage Loss: 1.630113\n",
            "Train Epoch: 191/300 \tAverage Loss: 1.629847\n",
            "Train Epoch: 201/300 \tAverage Loss: 1.629753\n",
            "Train Epoch: 211/300 \tAverage Loss: 1.629700\n",
            "Train Epoch: 221/300 \tAverage Loss: 1.629661\n",
            "Train Epoch: 231/300 \tAverage Loss: 1.629630\n",
            "Train Epoch: 241/300 \tAverage Loss: 1.629621\n",
            "Train Epoch: 251/300 \tAverage Loss: 1.629612\n",
            "Train Epoch: 261/300 \tAverage Loss: 1.629597\n",
            "Train Epoch: 271/300 \tAverage Loss: 1.629599\n",
            "Train Epoch: 281/300 \tAverage Loss: 1.629580\n",
            "Train Epoch: 291/300 \tAverage Loss: 1.629572\n"
          ],
          "name": "stdout"
        }
      ]
    },
    {
      "cell_type": "markdown",
      "metadata": {
        "id": "bMbX-mJm5qWS",
        "colab_type": "text"
      },
      "source": [
        "##5. Fine-tuning: \n",
        "\n",
        "do the same, but train the new projection layer with a normal learning rate and the reused part with a very low learning rate."
      ]
    },
    {
      "cell_type": "code",
      "metadata": {
        "id": "RsDhhyZiLyhH",
        "colab_type": "code",
        "outputId": "a15ef703-4a34-4d70-fb78-e471f53c1793",
        "colab": {
          "base_uri": "https://localhost:8080/",
          "height": 598
        }
      },
      "source": [
        "model_finetuned = Classifier(bt).cuda()\n",
        "model_finetuned.encoder = copy.deepcopy(model_base.encoder)\n",
        "\n",
        "optimizer = torch.optim.Adam([\n",
        "                {'params': model_finetuned.linear.parameters()},\n",
        "                {'params': model_finetuned.encoder.parameters(), 'lr': 1e-7}\n",
        "            ], hparams['learning_rate'], weight_decay=1e-5)\n",
        "\n",
        "print('Model with '+str(model_finetuned.bottleneck)+' bottleneck size:')\n",
        "for epoch in range(hparams['num_epochs_class']):\n",
        "  train_loss = train_epoch(model_finetuned, sub_loader, optimizer, criterion, hparams, True, False)\n",
        "  loss_classifiers['finetuned']['train'].append(train_loss)\n",
        "  if epoch % 10 == 0:\n",
        "    print('Train Epoch: {}/{} \\tAverage Loss: {:.6f}'.format(\n",
        "        epoch+1, hparams['num_epochs_class'], np.mean(train_loss)))"
      ],
      "execution_count": 36,
      "outputs": [
        {
          "output_type": "stream",
          "text": [
            "Model with 256 bottleneck size:\n",
            "Train Epoch: 1/300 \tAverage Loss: 2.385386\n"
          ],
          "name": "stdout"
        },
        {
          "output_type": "stream",
          "text": [
            "/usr/local/lib/python3.6/dist-packages/ipykernel_launcher.py:14: UserWarning: Implicit dimension choice for softmax has been deprecated. Change the call to include dim=X as an argument.\n",
            "  \n"
          ],
          "name": "stderr"
        },
        {
          "output_type": "stream",
          "text": [
            "Train Epoch: 11/300 \tAverage Loss: 2.257761\n",
            "Train Epoch: 21/300 \tAverage Loss: 2.135377\n",
            "Train Epoch: 31/300 \tAverage Loss: 2.092981\n",
            "Train Epoch: 41/300 \tAverage Loss: 2.038461\n",
            "Train Epoch: 51/300 \tAverage Loss: 1.972941\n",
            "Train Epoch: 61/300 \tAverage Loss: 1.930737\n",
            "Train Epoch: 71/300 \tAverage Loss: 1.874149\n",
            "Train Epoch: 81/300 \tAverage Loss: 1.842771\n",
            "Train Epoch: 91/300 \tAverage Loss: 1.829893\n",
            "Train Epoch: 101/300 \tAverage Loss: 1.823395\n",
            "Train Epoch: 111/300 \tAverage Loss: 1.820074\n",
            "Train Epoch: 121/300 \tAverage Loss: 1.818125\n",
            "Train Epoch: 131/300 \tAverage Loss: 1.816772\n",
            "Train Epoch: 141/300 \tAverage Loss: 1.815763\n",
            "Train Epoch: 151/300 \tAverage Loss: 1.814971\n",
            "Train Epoch: 161/300 \tAverage Loss: 1.814313\n",
            "Train Epoch: 171/300 \tAverage Loss: 1.813737\n",
            "Train Epoch: 181/300 \tAverage Loss: 1.813212\n",
            "Train Epoch: 191/300 \tAverage Loss: 1.812714\n",
            "Train Epoch: 201/300 \tAverage Loss: 1.812213\n",
            "Train Epoch: 211/300 \tAverage Loss: 1.811636\n",
            "Train Epoch: 221/300 \tAverage Loss: 1.810754\n",
            "Train Epoch: 231/300 \tAverage Loss: 1.808685\n",
            "Train Epoch: 241/300 \tAverage Loss: 1.806355\n",
            "Train Epoch: 251/300 \tAverage Loss: 1.805060\n",
            "Train Epoch: 261/300 \tAverage Loss: 1.802570\n",
            "Train Epoch: 271/300 \tAverage Loss: 1.797878\n",
            "Train Epoch: 281/300 \tAverage Loss: 1.795114\n",
            "Train Epoch: 291/300 \tAverage Loss: 1.792133\n"
          ],
          "name": "stdout"
        }
      ]
    },
    {
      "cell_type": "markdown",
      "metadata": {
        "id": "iXikut1S6EwI",
        "colab_type": "text"
      },
      "source": [
        "##6. From scratch: \n",
        "\n",
        "train the model on the 100 samples without reusing the decoder weights at all."
      ]
    },
    {
      "cell_type": "code",
      "metadata": {
        "id": "onwa2FXC6LaG",
        "colab_type": "code",
        "outputId": "34c57094-b47f-4c3f-980d-7d51762007c3",
        "colab": {
          "base_uri": "https://localhost:8080/",
          "height": 598
        }
      },
      "source": [
        "model_simple = Classifier(bt).cuda()\n",
        "\n",
        "optimizer = torch.optim.Adam(model_simple.parameters(), lr=hparams['learning_rate'], weight_decay=1e-5)\n",
        "\n",
        "print('Model with '+str(model_simple.bottleneck)+' bottleneck size:')\n",
        "for epoch in range(hparams['num_epochs_class']):\n",
        "  train_loss = train_epoch(model_finetuned, sub_loader, optimizer, criterion, hparams, True, False)\n",
        "  loss_classifiers['simple']['train'].append(train_loss)\n",
        "  if epoch % 10 == 0:\n",
        "    print('Train Epoch: {}/{} \\tAverage Loss: {:.6f}'.format(\n",
        "        epoch+1, hparams['num_epochs_class'], np.mean(train_loss)))"
      ],
      "execution_count": 37,
      "outputs": [
        {
          "output_type": "stream",
          "text": [
            "Model with 256 bottleneck size:\n",
            "Train Epoch: 1/300 \tAverage Loss: 1.789880\n"
          ],
          "name": "stdout"
        },
        {
          "output_type": "stream",
          "text": [
            "/usr/local/lib/python3.6/dist-packages/ipykernel_launcher.py:14: UserWarning: Implicit dimension choice for softmax has been deprecated. Change the call to include dim=X as an argument.\n",
            "  \n"
          ],
          "name": "stderr"
        },
        {
          "output_type": "stream",
          "text": [
            "Train Epoch: 11/300 \tAverage Loss: 1.789880\n",
            "Train Epoch: 21/300 \tAverage Loss: 1.789880\n",
            "Train Epoch: 31/300 \tAverage Loss: 1.789879\n",
            "Train Epoch: 41/300 \tAverage Loss: 1.789880\n",
            "Train Epoch: 51/300 \tAverage Loss: 1.789880\n",
            "Train Epoch: 61/300 \tAverage Loss: 1.789879\n",
            "Train Epoch: 71/300 \tAverage Loss: 1.789880\n",
            "Train Epoch: 81/300 \tAverage Loss: 1.789879\n",
            "Train Epoch: 91/300 \tAverage Loss: 1.789879\n",
            "Train Epoch: 101/300 \tAverage Loss: 1.789880\n",
            "Train Epoch: 111/300 \tAverage Loss: 1.789880\n",
            "Train Epoch: 121/300 \tAverage Loss: 1.789879\n",
            "Train Epoch: 131/300 \tAverage Loss: 1.789880\n",
            "Train Epoch: 141/300 \tAverage Loss: 1.789880\n",
            "Train Epoch: 151/300 \tAverage Loss: 1.789880\n",
            "Train Epoch: 161/300 \tAverage Loss: 1.789880\n",
            "Train Epoch: 171/300 \tAverage Loss: 1.789880\n",
            "Train Epoch: 181/300 \tAverage Loss: 1.789880\n",
            "Train Epoch: 191/300 \tAverage Loss: 1.789880\n",
            "Train Epoch: 201/300 \tAverage Loss: 1.789879\n",
            "Train Epoch: 211/300 \tAverage Loss: 1.789880\n",
            "Train Epoch: 221/300 \tAverage Loss: 1.789879\n",
            "Train Epoch: 231/300 \tAverage Loss: 1.789880\n",
            "Train Epoch: 241/300 \tAverage Loss: 1.789880\n",
            "Train Epoch: 251/300 \tAverage Loss: 1.789879\n",
            "Train Epoch: 261/300 \tAverage Loss: 1.789880\n",
            "Train Epoch: 271/300 \tAverage Loss: 1.789880\n",
            "Train Epoch: 281/300 \tAverage Loss: 1.789879\n",
            "Train Epoch: 291/300 \tAverage Loss: 1.789880\n"
          ],
          "name": "stdout"
        }
      ]
    },
    {
      "cell_type": "markdown",
      "metadata": {
        "id": "Oqj3Wngq6MAe",
        "colab_type": "text"
      },
      "source": [
        "##7. Show the accuracy of the four models on the MNIST test set in a table."
      ]
    },
    {
      "cell_type": "code",
      "metadata": {
        "id": "xWUDPxKYMZga",
        "colab_type": "code",
        "colab": {}
      },
      "source": [
        "def test_epoch_class(model, test_data, criterion, hparams):\n",
        "  model.eval()\n",
        "  device = hparams['device']\n",
        "  mean_loss = 0\n",
        "  mean_acc = 0\n",
        "  \n",
        "  with torch.no_grad():\n",
        "      for data, target in test_data:\n",
        "            img, label = data.to(device), target.to(device)\n",
        "\n",
        "            output = model(img)\n",
        "            loss = criterion(output, label)\n",
        "\n",
        "            mean_loss += loss.item()\n",
        "            pred = output.argmax(dim=1, keepdim=True)\n",
        "            mean_acc += pred.eq(label.view_as(pred)).sum().item()\n",
        "   \n",
        "  mean_loss = mean_loss/len(test_data)   \n",
        "  mean_acc = mean_acc / len(test_data.dataset)\n",
        "\n",
        "  return mean_loss, mean_acc"
      ],
      "execution_count": 0,
      "outputs": []
    },
    {
      "cell_type": "code",
      "metadata": {
        "id": "TjY6NXybqc6Z",
        "colab_type": "code",
        "outputId": "449d5f44-9150-4a62-ee0d-fb8781b016ef",
        "colab": {
          "base_uri": "https://localhost:8080/",
          "height": 190
        }
      },
      "source": [
        "t2 = PrettyTable(['model', 'accuracy', 'loss'])\n",
        "\n",
        "for mod, typ in zip([model_init, model_finetuned, model_simple], ['init', 'fine', 'simple']):\n",
        "  loss,accuracy = test_epoch_class(mod, test_loader, criterion, hparams)\n",
        "  t2.add_row([typ+' model', str(int(100*accuracy))+'%', loss])\n",
        "\n",
        "print(t2)"
      ],
      "execution_count": 39,
      "outputs": [
        {
          "output_type": "stream",
          "text": [
            "/usr/local/lib/python3.6/dist-packages/ipykernel_launcher.py:14: UserWarning: Implicit dimension choice for softmax has been deprecated. Change the call to include dim=X as an argument.\n",
            "  \n"
          ],
          "name": "stderr"
        },
        {
          "output_type": "stream",
          "text": [
            "+--------------+----------+--------------------+\n",
            "|    model     | accuracy |        loss        |\n",
            "+--------------+----------+--------------------+\n",
            "|  init model  |   67%    | 1.7918822780440125 |\n",
            "|  fine model  |   58%    | 1.8851397656187225 |\n",
            "| simple model |    6%    | 2.3028343538694744 |\n",
            "+--------------+----------+--------------------+\n"
          ],
          "name": "stdout"
        }
      ]
    },
    {
      "cell_type": "markdown",
      "metadata": {
        "id": "uLTTth5-dRVt",
        "colab_type": "text"
      },
      "source": [
        "#**OPTIONAL A: VARIATIONAL AUTOENCODER**\n",
        "\n",
        "1. Implement an autoencoder like that from Exercise 1, but turning the deterministic bottleneck into a stochastic bottleneck, with an isotropic Gaussian as distribution for the latent variables.\n",
        "2. Train the model optimizing the Evidence Lower Bound (ELBO).\n",
        "3. Generate samples with the decoder and show them."
      ]
    },
    {
      "cell_type": "code",
      "metadata": {
        "id": "mX-tTq3EDGG9",
        "colab_type": "code",
        "colab": {}
      },
      "source": [
        "import torch\n",
        "import torch.nn as nn\n",
        "import torch.nn.functional as F\n",
        "import torch.optim as optim\n",
        "import matplotlib.pyplot as plt\n",
        "\n",
        "from torch.utils.data import DataLoader\n",
        "from torchvision import datasets, transforms\n",
        "\n",
        "device = torch.device('cuda' if torch.cuda.is_available() else 'cpu')"
      ],
      "execution_count": 0,
      "outputs": []
    },
    {
      "cell_type": "markdown",
      "metadata": {
        "id": "ngPWgGs6DOn9",
        "colab_type": "text"
      },
      "source": [
        "Load MNIST dataset\n"
      ]
    },
    {
      "cell_type": "code",
      "metadata": {
        "id": "k45GyTcvDTm2",
        "colab_type": "code",
        "colab": {
          "base_uri": "https://localhost:8080/",
          "height": 275
        },
        "outputId": "b45fb1bb-1b2d-4eba-93c4-8d8696a7831e"
      },
      "source": [
        "transforms = transforms.Compose([transforms.ToTensor()])\n",
        "train_dataset = datasets.MNIST(\n",
        "    './data',\n",
        "    train=True,\n",
        "    download=True,\n",
        "    transform=transforms)\n",
        "\n",
        "test_dataset = datasets.MNIST(\n",
        "    './data',\n",
        "    train=False,\n",
        "    download=True,\n",
        "    transform=transforms\n",
        ")"
      ],
      "execution_count": 2,
      "outputs": [
        {
          "output_type": "stream",
          "text": [
            "  0%|          | 0/9912422 [00:00<?, ?it/s]"
          ],
          "name": "stderr"
        },
        {
          "output_type": "stream",
          "text": [
            "Downloading http://yann.lecun.com/exdb/mnist/train-images-idx3-ubyte.gz to ./data/MNIST/raw/train-images-idx3-ubyte.gz\n"
          ],
          "name": "stdout"
        },
        {
          "output_type": "stream",
          "text": [
            "9920512it [00:00, 10502984.75it/s]                           \n"
          ],
          "name": "stderr"
        },
        {
          "output_type": "stream",
          "text": [
            "Extracting ./data/MNIST/raw/train-images-idx3-ubyte.gz to ./data/MNIST/raw\n"
          ],
          "name": "stdout"
        },
        {
          "output_type": "stream",
          "text": [
            "  0%|          | 0/28881 [00:00<?, ?it/s]"
          ],
          "name": "stderr"
        },
        {
          "output_type": "stream",
          "text": [
            "Downloading http://yann.lecun.com/exdb/mnist/train-labels-idx1-ubyte.gz to ./data/MNIST/raw/train-labels-idx1-ubyte.gz\n"
          ],
          "name": "stdout"
        },
        {
          "output_type": "stream",
          "text": [
            "32768it [00:00, 141993.10it/s]           \n",
            "  0%|          | 0/1648877 [00:00<?, ?it/s]"
          ],
          "name": "stderr"
        },
        {
          "output_type": "stream",
          "text": [
            "Extracting ./data/MNIST/raw/train-labels-idx1-ubyte.gz to ./data/MNIST/raw\n",
            "Downloading http://yann.lecun.com/exdb/mnist/t10k-images-idx3-ubyte.gz to ./data/MNIST/raw/t10k-images-idx3-ubyte.gz\n"
          ],
          "name": "stdout"
        },
        {
          "output_type": "stream",
          "text": [
            "1654784it [00:00, 2326993.33it/s]                            \n",
            "0it [00:00, ?it/s]"
          ],
          "name": "stderr"
        },
        {
          "output_type": "stream",
          "text": [
            "Extracting ./data/MNIST/raw/t10k-images-idx3-ubyte.gz to ./data/MNIST/raw\n",
            "Downloading http://yann.lecun.com/exdb/mnist/t10k-labels-idx1-ubyte.gz to ./data/MNIST/raw/t10k-labels-idx1-ubyte.gz\n"
          ],
          "name": "stdout"
        },
        {
          "output_type": "stream",
          "text": [
            "8192it [00:00, 53028.38it/s]            "
          ],
          "name": "stderr"
        },
        {
          "output_type": "stream",
          "text": [
            "Extracting ./data/MNIST/raw/t10k-labels-idx1-ubyte.gz to ./data/MNIST/raw\n",
            "Processing...\n",
            "Done!\n"
          ],
          "name": "stdout"
        },
        {
          "output_type": "stream",
          "text": [
            "\n"
          ],
          "name": "stderr"
        }
      ]
    },
    {
      "cell_type": "markdown",
      "metadata": {
        "id": "krsONTMgDWCn",
        "colab_type": "text"
      },
      "source": [
        "Define some parameters"
      ]
    },
    {
      "cell_type": "code",
      "metadata": {
        "id": "pM8ozr1_DY9A",
        "colab_type": "code",
        "colab": {}
      },
      "source": [
        "BATCH_SIZE = 64     \n",
        "N_EPOCHS = 30       \n",
        "INPUT_DIM = 28 * 28  \n",
        "HIDDEN_DIM = 256    \n",
        "LATENT_DIM = 30     \n",
        "lr = 1e-3  \n",
        "\n",
        "train_iterator = DataLoader(train_dataset, batch_size=BATCH_SIZE, shuffle=True)\n",
        "test_iterator = DataLoader(test_dataset, batch_size=BATCH_SIZE)"
      ],
      "execution_count": 0,
      "outputs": []
    },
    {
      "cell_type": "markdown",
      "metadata": {
        "id": "JRH1aFMkDbmp",
        "colab_type": "text"
      },
      "source": [
        "Define the new Autoencoder. For this exercise, we have observed that a simpler architecture using only linear layers performs better. The encoder only has one hidden layer, and we define the size of this hidden layer as well as the size of the latent dimension. "
      ]
    },
    {
      "cell_type": "code",
      "metadata": {
        "id": "sUWgKSpZDdr8",
        "colab_type": "code",
        "colab": {}
      },
      "source": [
        "class Encoder(nn.Module):\n",
        "\n",
        "  def __init__(self, input_dim, hidden_dim, z_dim):\n",
        "\n",
        "      super().__init__()\n",
        "\n",
        "      self.linear = nn.Linear(input_dim, hidden_dim)\n",
        "      self.mu = nn.Linear(hidden_dim, z_dim)\n",
        "      self.var = nn.Linear(hidden_dim, z_dim)\n",
        "\n",
        "  def forward(self, x):\n",
        "      hidden = F.relu(self.linear(x))\n",
        "      z_mu = self.mu(hidden)\n",
        "      z_var = self.var(hidden)\n",
        "\n",
        "      return z_mu, z_var"
      ],
      "execution_count": 0,
      "outputs": []
    },
    {
      "cell_type": "code",
      "metadata": {
        "id": "8K05Wg4mDfO6",
        "colab_type": "code",
        "colab": {}
      },
      "source": [
        "class Decoder(nn.Module):\n",
        "\n",
        "    def __init__(self, z_dim, hidden_dim, output_dim):\n",
        "\n",
        "        super().__init__()\n",
        "\n",
        "        self.linear = nn.Linear(z_dim, hidden_dim)\n",
        "        self.out = nn.Linear(hidden_dim, output_dim)\n",
        "\n",
        "    def forward(self, x):\n",
        "        hidden = F.relu(self.linear(x))\n",
        "        predicted = torch.sigmoid(self.out(hidden))\n",
        "\n",
        "        return predicted"
      ],
      "execution_count": 0,
      "outputs": []
    },
    {
      "cell_type": "code",
      "metadata": {
        "id": "5Wghm-EqDiKI",
        "colab_type": "code",
        "colab": {}
      },
      "source": [
        "class VAE(nn.Module):\n",
        "\n",
        "    def __init__(self, enc, dec):\n",
        "        super().__init__()\n",
        "\n",
        "        self.enc = enc\n",
        "        self.dec = dec\n",
        "\n",
        "    def forward(self, x):\n",
        "        z_mu, z_var = self.enc(x)\n",
        "\n",
        "        std = torch.exp(z_var / 2)\n",
        "        eps = torch.randn_like(std)\n",
        "        x_sample = eps.mul(std).add_(z_mu)\n",
        "\n",
        "        predicted = self.dec(x_sample)\n",
        "        return predicted, z_mu, z_var"
      ],
      "execution_count": 0,
      "outputs": []
    },
    {
      "cell_type": "markdown",
      "metadata": {
        "id": "luB4j77EDkJ3",
        "colab_type": "text"
      },
      "source": [
        "Create an instance of the VAE and define the otimizer."
      ]
    },
    {
      "cell_type": "code",
      "metadata": {
        "id": "DWcrwPyGDmem",
        "colab_type": "code",
        "colab": {}
      },
      "source": [
        "encoder = Encoder(INPUT_DIM, HIDDEN_DIM, LATENT_DIM)\n",
        "decoder = Decoder(LATENT_DIM, HIDDEN_DIM, INPUT_DIM)\n",
        "model = VAE(encoder, decoder).to(device)\n",
        "optimizer = optim.Adam(model.parameters(), lr=lr)"
      ],
      "execution_count": 0,
      "outputs": []
    },
    {
      "cell_type": "markdown",
      "metadata": {
        "id": "-z-la13sDtcE",
        "colab_type": "text"
      },
      "source": [
        "Define the training and test loop. The VAE takes into account the Reconstruction Loss as well as the KL Divergence."
      ]
    },
    {
      "cell_type": "code",
      "metadata": {
        "id": "odirw6_BDojC",
        "colab_type": "code",
        "colab": {}
      },
      "source": [
        "def train():\n",
        "    model.train()\n",
        "    train_loss = 0\n",
        "\n",
        "    for i, (x, _) in enumerate(train_iterator):\n",
        "        x = x.view(-1, 28 * 28)\n",
        "        x = x.to(device)\n",
        "        \n",
        "        optimizer.zero_grad()\n",
        "        x_sample, z_mu, z_var = model(x)\n",
        "\n",
        "        recon_loss = F.binary_cross_entropy(x_sample, x, size_average=False)\n",
        "        kl_loss = 0.5 * torch.sum(torch.exp(z_var) + z_mu**2 - 1.0 - z_var)\n",
        "        loss = recon_loss + kl_loss\n",
        "\n",
        "        loss.backward()\n",
        "        train_loss += loss.item()\n",
        "        optimizer.step()\n",
        "\n",
        "    return train_loss"
      ],
      "execution_count": 0,
      "outputs": []
    },
    {
      "cell_type": "code",
      "metadata": {
        "id": "OaDindTWDvYg",
        "colab_type": "code",
        "colab": {}
      },
      "source": [
        "def test():\n",
        "    model.eval()\n",
        "    test_loss = 0\n",
        "\n",
        "    with torch.no_grad():\n",
        "        for i, (x, _) in enumerate(test_iterator):\n",
        "            x = x.view(-1, 28 * 28)\n",
        "            x = x.to(device)\n",
        "            x_sample, z_mu, z_var = model(x)\n",
        "\n",
        "            recon_loss = F.binary_cross_entropy(x_sample, x, size_average=False)\n",
        "            kl_loss = 0.5 * torch.sum(torch.exp(z_var) + z_mu**2 - 1.0 - z_var)\n",
        "            loss = recon_loss + kl_loss\n",
        "            test_loss += loss.item()\n",
        "\n",
        "    return test_loss\n"
      ],
      "execution_count": 0,
      "outputs": []
    },
    {
      "cell_type": "markdown",
      "metadata": {
        "id": "gHVTxf2xDxnL",
        "colab_type": "text"
      },
      "source": [
        "Train the VAE"
      ]
    },
    {
      "cell_type": "code",
      "metadata": {
        "id": "9u_U9jkqDzWd",
        "colab_type": "code",
        "colab": {
          "base_uri": "https://localhost:8080/",
          "height": 581
        },
        "outputId": "6ad68f10-1f11-46ed-ee67-c2baae3de4df"
      },
      "source": [
        "best_test_loss = float('inf')\n",
        "\n",
        "for e in range(N_EPOCHS):\n",
        "\n",
        "    train_loss = train()\n",
        "    test_loss = test()\n",
        "\n",
        "    train_loss /= len(train_dataset)\n",
        "    test_loss /= len(test_dataset)\n",
        "\n",
        "    print(f'Epoch {e}, Train Loss: {train_loss:.2f}, Test Loss: {test_loss:.2f}')"
      ],
      "execution_count": 11,
      "outputs": [
        {
          "output_type": "stream",
          "text": [
            "/usr/local/lib/python3.6/dist-packages/torch/nn/_reduction.py:43: UserWarning: size_average and reduce args will be deprecated, please use reduction='sum' instead.\n",
            "  warnings.warn(warning.format(ret))\n"
          ],
          "name": "stderr"
        },
        {
          "output_type": "stream",
          "text": [
            "Epoch 0, Train Loss: 157.16, Test Loss: 126.49\n",
            "Epoch 1, Train Loss: 121.00, Test Loss: 116.09\n",
            "Epoch 2, Train Loss: 114.34, Test Loss: 111.54\n",
            "Epoch 3, Train Loss: 111.50, Test Loss: 109.77\n",
            "Epoch 4, Train Loss: 109.89, Test Loss: 108.59\n",
            "Epoch 5, Train Loss: 108.87, Test Loss: 107.84\n",
            "Epoch 6, Train Loss: 108.12, Test Loss: 107.32\n",
            "Epoch 7, Train Loss: 107.58, Test Loss: 106.56\n",
            "Epoch 8, Train Loss: 107.11, Test Loss: 106.29\n",
            "Epoch 9, Train Loss: 106.76, Test Loss: 106.31\n",
            "Epoch 10, Train Loss: 106.48, Test Loss: 105.70\n",
            "Epoch 11, Train Loss: 106.21, Test Loss: 106.05\n",
            "Epoch 12, Train Loss: 105.97, Test Loss: 105.47\n",
            "Epoch 13, Train Loss: 105.73, Test Loss: 105.42\n",
            "Epoch 14, Train Loss: 105.59, Test Loss: 105.04\n",
            "Epoch 15, Train Loss: 105.43, Test Loss: 105.12\n",
            "Epoch 16, Train Loss: 105.30, Test Loss: 104.95\n",
            "Epoch 17, Train Loss: 105.16, Test Loss: 104.72\n",
            "Epoch 18, Train Loss: 105.03, Test Loss: 104.83\n",
            "Epoch 19, Train Loss: 104.95, Test Loss: 104.57\n",
            "Epoch 20, Train Loss: 104.85, Test Loss: 104.39\n",
            "Epoch 21, Train Loss: 104.70, Test Loss: 104.64\n",
            "Epoch 22, Train Loss: 104.64, Test Loss: 104.33\n",
            "Epoch 23, Train Loss: 104.56, Test Loss: 104.20\n",
            "Epoch 24, Train Loss: 104.45, Test Loss: 104.13\n",
            "Epoch 25, Train Loss: 104.39, Test Loss: 104.41\n",
            "Epoch 26, Train Loss: 104.30, Test Loss: 104.18\n",
            "Epoch 27, Train Loss: 104.21, Test Loss: 103.80\n",
            "Epoch 28, Train Loss: 104.15, Test Loss: 103.89\n",
            "Epoch 29, Train Loss: 104.09, Test Loss: 103.87\n"
          ],
          "name": "stdout"
        }
      ]
    },
    {
      "cell_type": "code",
      "metadata": {
        "id": "-MCMKEbPD7Nd",
        "colab_type": "code",
        "colab": {
          "base_uri": "https://localhost:8080/",
          "height": 282
        },
        "outputId": "005f569f-3230-4aeb-aec3-26b73d10abe8"
      },
      "source": [
        "z = torch.randn(1, LATENT_DIM).to(device)\n",
        "\n",
        "reconstructed_img = model.dec(z)\n",
        "img = reconstructed_img.view(28, 28).data\n",
        "img = img.cpu()\n",
        "\n",
        "plt.imshow(img, cmap='gray')"
      ],
      "execution_count": 17,
      "outputs": [
        {
          "output_type": "execute_result",
          "data": {
            "text/plain": [
              "<matplotlib.image.AxesImage at 0x7f8df03f9be0>"
            ]
          },
          "metadata": {
            "tags": []
          },
          "execution_count": 17
        },
        {
          "output_type": "display_data",
          "data": {
            "image/png": "[encoded data removed]",
            "text/plain": [
              "<Figure size 432x288 with 1 Axes>"
            ]
          },
          "metadata": {
            "tags": []
          }
        }
      ]
    },
    {
      "cell_type": "markdown",
      "metadata": {
        "id": "NkE1iyTnH6dp",
        "colab_type": "text"
      },
      "source": [
        "#**OPTIONAL B: GAN**\n"
      ]
    },
    {
      "cell_type": "code",
      "metadata": {
        "id": "UvZkwBDqE6p8",
        "colab_type": "code",
        "colab": {}
      },
      "source": [
        "batch_size = hparams['batch_size']\n",
        "\n",
        "aux_loader = torch.utils.data.DataLoader(\n",
        "    mnist_trainset,\n",
        "    batch_size=hparams['batch_size'],\n",
        "    shuffle=True)\n",
        "\n",
        "data_loader = aux_loader"
      ],
      "execution_count": 0,
      "outputs": []
    },
    {
      "cell_type": "code",
      "metadata": {
        "id": "sDqPWdGBE9oN",
        "colab_type": "code",
        "colab": {}
      },
      "source": [
        "class Discriminator(nn.Module):\n",
        "    def __init__(self):\n",
        "        super().__init__()\n",
        "        \n",
        "        self.label_emb = nn.Embedding(10, 10)\n",
        "        \n",
        "        self.model = nn.Sequential(\n",
        "            nn.Linear(794, 1024),\n",
        "            nn.LeakyReLU(0.2, inplace=True),\n",
        "            nn.Dropout(0.3),\n",
        "            nn.Linear(1024, 512),\n",
        "            nn.LeakyReLU(0.2, inplace=True),\n",
        "            nn.Dropout(0.3),\n",
        "            nn.Linear(512, 256),\n",
        "            nn.LeakyReLU(0.2, inplace=True),\n",
        "            nn.Dropout(0.3),\n",
        "            nn.Linear(256, 1),\n",
        "            nn.Sigmoid()\n",
        "        )\n",
        "    \n",
        "    def forward(self, x, labels):\n",
        "        x = x.view(x.size(0), 784)\n",
        "        c = self.label_emb(labels)\n",
        "        x = torch.cat([x, c], 1)\n",
        "        out = self.model(x)\n",
        "        return out.squeeze()"
      ],
      "execution_count": 0,
      "outputs": []
    },
    {
      "cell_type": "code",
      "metadata": {
        "id": "CCSJkFLbFAEa",
        "colab_type": "code",
        "colab": {}
      },
      "source": [
        "class Generator(nn.Module):\n",
        "    def __init__(self):\n",
        "        super().__init__()\n",
        "        \n",
        "        self.label_emb = nn.Embedding(10, 10)\n",
        "        \n",
        "        self.model = nn.Sequential(\n",
        "            nn.Linear(110, 256),\n",
        "            nn.LeakyReLU(0.2, inplace=True),\n",
        "            nn.Linear(256, 512),\n",
        "            nn.LeakyReLU(0.2, inplace=True),\n",
        "            nn.Linear(512, 1024),\n",
        "            nn.LeakyReLU(0.2, inplace=True),\n",
        "            nn.Linear(1024, 784),\n",
        "            nn.Tanh()\n",
        "        )\n",
        "    \n",
        "    def forward(self, z, labels):\n",
        "        z = z.view(z.size(0), 100)\n",
        "        c = self.label_emb(labels)\n",
        "        x = torch.cat([z, c], 1)\n",
        "        out = self.model(x)\n",
        "        return out.view(x.size(0), 28, 28)"
      ],
      "execution_count": 0,
      "outputs": []
    },
    {
      "cell_type": "code",
      "metadata": {
        "id": "-pT646RVFGXr",
        "colab_type": "code",
        "colab": {}
      },
      "source": [
        "generator = Generator().cuda()\n",
        "discriminator = Discriminator().cuda()"
      ],
      "execution_count": 0,
      "outputs": []
    },
    {
      "cell_type": "code",
      "metadata": {
        "id": "sr0JjrZ0FJRA",
        "colab_type": "code",
        "colab": {}
      },
      "source": [
        "criterion = nn.BCELoss()\n",
        "d_optimizer = torch.optim.Adam(discriminator.parameters(), lr=1e-4)\n",
        "g_optimizer = torch.optim.Adam(generator.parameters(), lr=1e-4)"
      ],
      "execution_count": 0,
      "outputs": []
    },
    {
      "cell_type": "code",
      "metadata": {
        "id": "GLzA4JnlFLOM",
        "colab_type": "code",
        "colab": {}
      },
      "source": [
        "def generator_train_step(batch_size, discriminator, generator, g_optimizer, criterion):\n",
        "    g_optimizer.zero_grad()\n",
        "\n",
        "    z = Variable(torch.randn(batch_size, 100)).cuda()\n",
        "    fake_labels = Variable(torch.LongTensor(np.random.randint(0, 10, batch_size))).cuda()\n",
        "    fake_images = generator(z, fake_labels)\n",
        "    \n",
        "    validity = discriminator(fake_images, fake_labels)\n",
        "    g_loss = criterion(validity, Variable(torch.ones(batch_size)).cuda())\n",
        "    \n",
        "    g_loss.backward()\n",
        "    g_optimizer.step()\n",
        "    return g_loss.item()"
      ],
      "execution_count": 0,
      "outputs": []
    },
    {
      "cell_type": "code",
      "metadata": {
        "id": "-rB9IbmyFPVA",
        "colab_type": "code",
        "colab": {}
      },
      "source": [
        "def discriminator_train_step(batch_size, discriminator, generator, d_optimizer, criterion, real_images, labels):\n",
        "    d_optimizer.zero_grad()\n",
        "\n",
        "    real_validity = discriminator(real_images, labels)\n",
        "    real_loss = criterion(real_validity, Variable(torch.ones(batch_size)).cuda())\n",
        "    \n",
        "    z = Variable(torch.randn(batch_size, 100)).cuda()\n",
        "    fake_labels = Variable(torch.LongTensor(np.random.randint(0, 10, batch_size))).cuda()\n",
        "    fake_images = generator(z, fake_labels)\n",
        "    fake_validity = discriminator(fake_images, fake_labels)\n",
        "    fake_loss = criterion(fake_validity, Variable(torch.zeros(batch_size)).cuda())\n",
        "    \n",
        "    d_loss = real_loss + fake_loss\n",
        "    \n",
        "    d_loss.backward()\n",
        "    d_optimizer.step()\n",
        "    return d_loss.item()"
      ],
      "execution_count": 0,
      "outputs": []
    },
    {
      "cell_type": "code",
      "metadata": {
        "id": "6xKMmfqYFSqY",
        "colab_type": "code",
        "outputId": "b696a04c-65cb-403b-8101-28b7d791e0ed",
        "colab": {
          "base_uri": "https://localhost:8080/",
          "height": 1000
        }
      },
      "source": [
        "for epoch in range(hparams['num_epochs_gan']):\n",
        "    print('Starting epoch {}...'.format(epoch), end=' ')\n",
        "    for i, (images, labels) in enumerate(data_loader):\n",
        "        \n",
        "        step = epoch * len(data_loader) + i + 1\n",
        "        real_images = Variable(images).cuda()\n",
        "        labels = Variable(labels).cuda()\n",
        "        generator.train()\n",
        "        \n",
        "        d_loss = discriminator_train_step(len(real_images), discriminator,\n",
        "                                          generator, d_optimizer, criterion,\n",
        "                                          real_images, labels)\n",
        "            \n",
        "        g_loss = generator_train_step(batch_size, discriminator, generator, g_optimizer, criterion)    \n",
        "        \n",
        "    print('Done!')"
      ],
      "execution_count": 0,
      "outputs": [
        {
          "output_type": "stream",
          "text": [
            "Starting epoch 0... Done!\n",
            "Starting epoch 1... Done!\n",
            "Starting epoch 2... Done!\n",
            "Starting epoch 3... Done!\n",
            "Starting epoch 4... Done!\n",
            "Starting epoch 5... Done!\n",
            "Starting epoch 6... Done!\n",
            "Starting epoch 7... Done!\n",
            "Starting epoch 8... Done!\n",
            "Starting epoch 9... Done!\n",
            "Starting epoch 10... Done!\n",
            "Starting epoch 11... Done!\n",
            "Starting epoch 12... Done!\n",
            "Starting epoch 13... Done!\n",
            "Starting epoch 14... Done!\n",
            "Starting epoch 15... Done!\n",
            "Starting epoch 16... Done!\n",
            "Starting epoch 17... Done!\n",
            "Starting epoch 18... Done!\n",
            "Starting epoch 19... Done!\n",
            "Starting epoch 20... Done!\n",
            "Starting epoch 21... Done!\n",
            "Starting epoch 22... Done!\n",
            "Starting epoch 23... Done!\n",
            "Starting epoch 24... Done!\n",
            "Starting epoch 25... Done!\n",
            "Starting epoch 26... Done!\n",
            "Starting epoch 27... Done!\n",
            "Starting epoch 28... Done!\n",
            "Starting epoch 29... Done!\n",
            "Starting epoch 30... Done!\n",
            "Starting epoch 31... Done!\n",
            "Starting epoch 32... Done!\n",
            "Starting epoch 33... Done!\n",
            "Starting epoch 34... Done!\n",
            "Starting epoch 35... Done!\n",
            "Starting epoch 36... Done!\n",
            "Starting epoch 37... Done!\n",
            "Starting epoch 38... Done!\n",
            "Starting epoch 39... Done!\n",
            "Starting epoch 40... Done!\n",
            "Starting epoch 41... Done!\n",
            "Starting epoch 42... Done!\n",
            "Starting epoch 43... Done!\n",
            "Starting epoch 44... Done!\n",
            "Starting epoch 45... Done!\n",
            "Starting epoch 46... Done!\n",
            "Starting epoch 47... Done!\n",
            "Starting epoch 48... Done!\n",
            "Starting epoch 49... Done!\n",
            "Starting epoch 50... Done!\n",
            "Starting epoch 51... Done!\n",
            "Starting epoch 52... Done!\n",
            "Starting epoch 53... Done!\n",
            "Starting epoch 54... Done!\n",
            "Starting epoch 55... Done!\n",
            "Starting epoch 56... Done!\n",
            "Starting epoch 57... Done!\n",
            "Starting epoch 58... Done!\n",
            "Starting epoch 59... Done!\n",
            "Starting epoch 60... Done!\n",
            "Starting epoch 61... Done!\n",
            "Starting epoch 62... Done!\n",
            "Starting epoch 63... Done!\n",
            "Starting epoch 64... Done!\n",
            "Starting epoch 65... Done!\n",
            "Starting epoch 66... Done!\n",
            "Starting epoch 67... Done!\n",
            "Starting epoch 68... Done!\n",
            "Starting epoch 69... Done!\n",
            "Starting epoch 70... Done!\n",
            "Starting epoch 71... Done!\n",
            "Starting epoch 72... Done!\n",
            "Starting epoch 73... Done!\n",
            "Starting epoch 74... Done!\n",
            "Starting epoch 75... Done!\n",
            "Starting epoch 76... Done!\n",
            "Starting epoch 77... Done!\n",
            "Starting epoch 78... Done!\n",
            "Starting epoch 79... Done!\n",
            "Starting epoch 80... Done!\n",
            "Starting epoch 81... Done!\n",
            "Starting epoch 82... Done!\n",
            "Starting epoch 83... Done!\n",
            "Starting epoch 84... Done!\n",
            "Starting epoch 85... Done!\n",
            "Starting epoch 86... Done!\n",
            "Starting epoch 87... Done!\n",
            "Starting epoch 88... Done!\n",
            "Starting epoch 89... Done!\n",
            "Starting epoch 90... Done!\n",
            "Starting epoch 91... Done!\n",
            "Starting epoch 92... Done!\n",
            "Starting epoch 93... Done!\n",
            "Starting epoch 94... Done!\n",
            "Starting epoch 95... Done!\n",
            "Starting epoch 96... Done!\n",
            "Starting epoch 97... Done!\n",
            "Starting epoch 98... Done!\n",
            "Starting epoch 99... Done!\n"
          ],
          "name": "stdout"
        }
      ]
    },
    {
      "cell_type": "code",
      "metadata": {
        "id": "yT0o4mw8LOwu",
        "colab_type": "code",
        "outputId": "2a1d750b-6c2b-4f00-da5a-f2b5b2dc8135",
        "colab": {
          "base_uri": "https://localhost:8080/",
          "height": 575
        }
      },
      "source": [
        "z = Variable(torch.randn(100, 100)).cuda()\n",
        "labels = torch.LongTensor([i for i in range(10) for _ in range(10)]).cuda()\n",
        "images = generator(z, labels).unsqueeze(1)\n",
        "grid = make_grid(images, nrow=10, normalize=True)\n",
        "fig, ax = plt.subplots(figsize=(10,10))\n",
        "ax.imshow(grid.permute(1, 2, 0).detach().cpu().numpy(), cmap='binary')\n",
        "ax.axis('off')\n",
        "plt.show()"
      ],
      "execution_count": 0,
      "outputs": [
        {
          "output_type": "display_data",
          "data": {
            "image/png": "[encoded data removed]",
            "text/plain": [
              "<Figure size 720x720 with 1 Axes>"
            ]
          },
          "metadata": {
            "tags": []
          }
        }
      ]
    }
  ]
}
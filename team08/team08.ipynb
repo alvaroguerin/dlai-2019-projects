{
  "nbformat": 4,
  "nbformat_minor": 0,
  "metadata": {
    "accelerator": "GPU",
    "colab": {
      "name": "team08.ipynb",
      "provenance": [],
      "collapsed_sections": []
    },
    "kernelspec": {
      "display_name": "Python 3",
      "language": "python",
      "name": "python3"
    },
    "language_info": {
      "codemirror_mode": {
        "name": "ipython",
        "version": 3
      },
      "file_extension": ".py",
      "mimetype": "text/x-python",
      "name": "python",
      "nbconvert_exporter": "python",
      "pygments_lexer": "ipython3",
      "version": "3.6.6"
    },
    "pycharm": {
      "stem_cell": {
        "cell_type": "raw",
        "metadata": {
          "collapsed": false
        },
        "source": []
      }
    }
  },
  "cells": [
    {
      "cell_type": "code",
      "metadata": {
        "colab_type": "code",
        "id": "FaWaYXG1fIRm",
        "colab": {}
      },
      "source": [
        "import torch\n",
        "import torch.nn\n",
        "import torch.optim\n",
        "import torchvision.datasets\n",
        "import torchvision.transforms\n",
        "import torch.utils.data\n",
        "import matplotlib.pyplot as plt\n",
        "import numpy as np\n",
        "from prettytable import PrettyTable\n",
        "from random import randint"
      ],
      "execution_count": 0,
      "outputs": []
    },
    {
      "cell_type": "code",
      "metadata": {
        "colab_type": "code",
        "id": "GA4Aiz2Giu5e",
        "colab": {}
      },
      "source": [
        "torch.manual_seed(0)\n",
        "device = 'cuda:0' if torch.cuda.is_available() else 'cpu'"
      ],
      "execution_count": 0,
      "outputs": []
    },
    {
      "cell_type": "code",
      "metadata": {
        "colab_type": "code",
        "id": "-MjS3A1UNFJF",
        "colab": {}
      },
      "source": [
        "BATCH_SIZE = 128\n",
        "EPOCHS_AUTOENCODER = 10\n",
        "EPOCHS_PRETRAINING = 20\n",
        "EPOCHS_FINETUNING = 20\n",
        "EPOCHS_VAE = 50"
      ],
      "execution_count": 0,
      "outputs": []
    },
    {
      "cell_type": "markdown",
      "metadata": {
        "colab_type": "text",
        "id": "iyK3i7pS9gSH"
      },
      "source": [
        "# Exercise 1: Convolutional Autoencoder\n",
        "\n",
        "Steps:\n",
        "1. Load MNIST train and test sets. Split the original training data into 95% training and 5% validation data.\n",
        "2. Implement a convolutional autoencoder (with separate Encoder and Decoder modules).\n",
        "3. Train the convolutional autoencoder, with different bottleneck sizes. Plot the train and validation loss curves of all autoencoders in the same figure.\n",
        "4. Compute the avg. image reconstruction error (MSE) of the trained models on the MNIST validation and test sets. Show the results in a table, including #params of each model.\n",
        "5. Select one of the autoencoders and feed it 5 random MNIST images from the test set. Show them along with their reconstructions.\n",
        "Generate 5 new images by injecting random values as input to the decoder. Show them.\n"
      ]
    },
    {
      "cell_type": "markdown",
      "metadata": {
        "colab_type": "text",
        "id": "-Vf3xEV29k0y",
        "pycharm": {
          "name": "#%% md\n"
        }
      },
      "source": [
        "## Module definition\n",
        "\n",
        "Our autoencoder will be defined by the `ConvolutionalAutoencoder` class which uses a `ConvolutionalEncoder` object to encode followed a `ConvolutionalDecoder` object to decode. The `ConvolutionalEncoder` and `ConvolutionalDecoder` classes make use of `n_blocks` `ConvolutionalBlock`s or `DeconvolutionalBlock`s which are composed of `layer_per_block` convolution layers with the same number of filters.\n",
        "\n",
        "The dimensionality is reduced by applying 2-factor spatial downsampling at each block. The number of filters is doubled for each subsequent block. The decoder makes the exact oposite process.\n",
        "\n",
        "The final layer uses a tanh activation.\n",
        "\n",
        "Very similar to the `ConvolutionalAutoencoder`, there is the `ConvolutionalAutoencoderReducedLatentDim` class which includes 2 fully-connected layers between the encoder and decoder. The first one projects from the encoder's feature maps to a vector of `latent_dimensionality` dimensions, the second one does the opposite."
      ]
    },
    {
      "cell_type": "code",
      "metadata": {
        "colab_type": "code",
        "id": "EknaWIjxJUZ1",
        "pycharm": {
          "name": "#%%\n"
        },
        "colab": {}
      },
      "source": [
        "# %load models.py\n",
        "import torch\n",
        "import torch.nn\n",
        "\n",
        "\n",
        "class ConvolutionalAutoencoder(torch.nn.Module):\n",
        "\n",
        "    def __init__(self, n_blocks, downsampling_method, upsampling_method,\n",
        "                 layers_per_block=2):\n",
        "        super().__init__()\n",
        "        self.n_blocks = n_blocks\n",
        "        self.downsampling_method = downsampling_method\n",
        "        self.upsampling_method = upsampling_method\n",
        "\n",
        "        self.encoder = ConvolutionalEncoder(n_blocks, downsampling_method,\n",
        "                                            layers_per_block=layers_per_block)\n",
        "        self.decoder = ConvolutionalDecoder(n_blocks, upsampling_method,\n",
        "                                            self.encoder.output_channels,\n",
        "                                            layers_per_block)\n",
        "\n",
        "    def forward(self, x):\n",
        "        code = self.encoder(x)\n",
        "        reconstruction = self.decoder(code)\n",
        "        return reconstruction\n",
        "\n",
        "\n",
        "class ConvolutionalAutoencoderReducedLatentDim(torch.nn.Module):\n",
        "\n",
        "    def __init__(self, input_shape, n_blocks, downsampling_method, upsampling_method,\n",
        "                 layers_per_block=2, latent_dimensionality=50):\n",
        "        super().__init__()\n",
        "        self.n_blocks = n_blocks\n",
        "        self.downsampling_method = downsampling_method\n",
        "        self.upsampling_method = upsampling_method\n",
        "        self.latent_dimensionality = latent_dimensionality\n",
        "\n",
        "        # Encoder: Convolutional blocks + Linear\n",
        "        self.convolutional_encoder = ConvolutionalEncoder(\n",
        "            n_blocks, downsampling_method, layers_per_block=layers_per_block)\n",
        "        self.encoder_output_shape = (self.convolutional_encoder.init_filters * 2 ** (n_blocks - 1),\n",
        "                                     input_shape[0] // 2 ** n_blocks,\n",
        "                                     input_shape[1] // 2 ** n_blocks)\n",
        "        self.encoder = torch.nn.Sequential(\n",
        "            self.convolutional_encoder,\n",
        "            torch.nn.Flatten(),\n",
        "            torch.nn.Linear(self.encoder_output_shape[0] * self.encoder_output_shape[1] * self.encoder_output_shape[2],\n",
        "                            latent_dimensionality),\n",
        "            torch.nn.ReLU()\n",
        "        )\n",
        "\n",
        "        # Decoder: Linear + Convolutional blocks\n",
        "        self.linear_decoder = torch.nn.Sequential(\n",
        "            torch.nn.Linear(latent_dimensionality,\n",
        "                            self.encoder_output_shape[0] * self.encoder_output_shape[1] * self.encoder_output_shape[2]),\n",
        "            torch.nn.ReLU()\n",
        "        )\n",
        "        self.convolutional_decoder = ConvolutionalDecoder(\n",
        "            n_blocks, upsampling_method,\n",
        "            self.convolutional_encoder.output_channels, layers_per_block)\n",
        "\n",
        "    def forward(self, x):\n",
        "        code = self.encoder(x)\n",
        "        reconstruction = self.convolutional_decoder(\n",
        "            self.linear_decoder(code).view((-1,) + self.encoder_output_shape))\n",
        "        return reconstruction\n",
        "\n",
        "\n",
        "class ConvolutionalEncoder(torch.nn.Module):\n",
        "    DOWNSAMPLING_METHODS = [\"max-pooling\", \"avg-pooling\", \"stride-2\"]\n",
        "\n",
        "    def __init__(self, n_blocks, downsampling_method, init_filters=16,\n",
        "                 layers_per_block=2, kernel_size=5, input_channels=1):\n",
        "        super().__init__()\n",
        "        self.n_blocks = n_blocks\n",
        "        assert downsampling_method in self.DOWNSAMPLING_METHODS\n",
        "        self.downsampling_method = downsampling_method\n",
        "        self.layers_per_block = layers_per_block\n",
        "        self.init_filters = init_filters\n",
        "        self.kernel_size = kernel_size\n",
        "        self.input_channels = input_channels\n",
        "\n",
        "        layers = []\n",
        "\n",
        "        # First layer so we have <input_channels> channels.\n",
        "        n_filters = init_filters\n",
        "        layers.append(\n",
        "            ConvolutionalBlock(input_channels, n_filters, kernel_size, 1))\n",
        "\n",
        "        # Encoding blocks.\n",
        "        input_channels = n_filters\n",
        "        for _ in range(n_blocks):\n",
        "            if downsampling_method == \"max-pooling\":\n",
        "                # Convolutional block + max pooling.\n",
        "                conv_block = torch.nn.Sequential(\n",
        "                    ConvolutionalBlock(input_channels, n_filters, kernel_size,\n",
        "                                       layers_per_block),\n",
        "                    torch.nn.MaxPool2d(2)\n",
        "                )\n",
        "            elif downsampling_method == \"avg-pooling\":\n",
        "                # Convolutional block + average pooling.\n",
        "                conv_block = torch.nn.Sequential(\n",
        "                    ConvolutionalBlock(input_channels, n_filters, kernel_size,\n",
        "                                       layers_per_block),\n",
        "                    torch.nn.AvgPool2d(2)\n",
        "                )\n",
        "            else:\n",
        "                # Stride-2 convolution.\n",
        "                conv_block = ConvolutionalBlock(input_channels, n_filters,\n",
        "                                                kernel_size,\n",
        "                                                layers_per_block,\n",
        "                                                last_stride=2)\n",
        "            layers.append(conv_block)\n",
        "            # Double the number of filters.\n",
        "            input_channels = n_filters\n",
        "            n_filters = 2 * n_filters\n",
        "\n",
        "        self.encoder = torch.nn.Sequential(*layers)\n",
        "        self.output_channels = input_channels\n",
        "\n",
        "    def forward(self, x):\n",
        "        return self.encoder(x)\n",
        "\n",
        "\n",
        "class ConvolutionalDecoder(torch.nn.Module):\n",
        "    UPSAMPLING_METHODS = [\"transposed\", \"bilinear\", \"bicubic\", \"nearest\"]\n",
        "\n",
        "    def __init__(self, n_blocks, upsampling_method, input_channels,\n",
        "                 layers_per_block=2, kernel_size=5, output_channels=1,\n",
        "                 activation=\"tanh\"):\n",
        "        super().__init__()\n",
        "        self.n_blocks = n_blocks\n",
        "        assert upsampling_method in self.UPSAMPLING_METHODS\n",
        "        self.upsampling_method = upsampling_method\n",
        "        self.layers_per_block = layers_per_block\n",
        "        self.input_channels = input_channels\n",
        "        self.kernel_size = kernel_size\n",
        "        self.output_channels = output_channels\n",
        "        self.activation = activation\n",
        "\n",
        "        layers = []\n",
        "\n",
        "        # Decoding blocks.\n",
        "        n_filters = input_channels\n",
        "        for _ in range(n_blocks):\n",
        "            if upsampling_method == \"transposed\":\n",
        "                # Deconvolutional block\n",
        "                conv_block = DeconvolutionalBlock(input_channels, n_filters,\n",
        "                                                  kernel_size, layers_per_block,\n",
        "                                                  stride=2)\n",
        "            else:\n",
        "                # Upsampling.\n",
        "                conv_block = torch.nn.Sequential(\n",
        "                    ConvolutionalBlock(input_channels, n_filters, kernel_size,\n",
        "                                       layers_per_block),\n",
        "                    torch.nn.Upsample(scale_factor=2, mode=upsampling_method)\n",
        "                )\n",
        "            layers.append(conv_block)\n",
        "            # Half the number of filters.\n",
        "            input_channels = n_filters\n",
        "            n_filters = n_filters // 2\n",
        "\n",
        "        # Last layer so we have <output_channels> channel.\n",
        "        layers.append(torch.nn.Conv2d(input_channels, output_channels, kernel_size,\n",
        "                                      padding=kernel_size // 2))\n",
        "        if activation == \"tanh\":\n",
        "            layers.append(torch.nn.Tanh())\n",
        "        elif activation == \"sigmoid\":\n",
        "            layers.append(torch.nn.Sigmoid())\n",
        "\n",
        "        self.decoder = torch.nn.Sequential(*layers)\n",
        "\n",
        "    def forward(self, x):\n",
        "        return self.decoder(x)\n",
        "\n",
        "\n",
        "class ConvolutionalBlock(torch.nn.Module):\n",
        "    \"\"\"\n",
        "\n",
        "    Applies n_layers convolutional layers with the same number of\n",
        "    filters and filter sizes with ReLU activations\n",
        "    keeping the same spacial size.\n",
        "    \"\"\"\n",
        "\n",
        "    def __init__(self, input_channels, n_filters, kernel_size, n_layers,\n",
        "                 last_stride=1):\n",
        "        super().__init__()\n",
        "        layers = []\n",
        "        padding = kernel_size // 2  # To keep the same size.\n",
        "\n",
        "        for i in range(n_layers):\n",
        "            if i == 0:  # First layer with correct input channels.\n",
        "                layers.append(torch.nn.Conv2d(input_channels, n_filters,\n",
        "                                              kernel_size, padding=padding))\n",
        "            elif 0 < i < n_layers:  # Intermediate layers.\n",
        "                layers.append(torch.nn.Conv2d(n_filters, n_filters,\n",
        "                                              kernel_size, padding=padding))\n",
        "            else:  # Last layer with stride.\n",
        "                layers.append(torch.nn.Conv2d(n_filters, n_filters,\n",
        "                                              kernel_size, last_stride, padding))\n",
        "            layers.append(torch.nn.ReLU())\n",
        "\n",
        "        # To sequentially apply the layers.\n",
        "        self.block = torch.nn.Sequential(*layers)\n",
        "\n",
        "    def forward(self, x):\n",
        "        return self.block(x)\n",
        "\n",
        "\n",
        "class DeconvolutionalBlock(torch.nn.Module):\n",
        "    \"\"\"\n",
        "\n",
        "    Applies a transposed convolution followed by n_layers-1 convolutional\n",
        "    layers with the same number of filters and filter sizes with ReLU\n",
        "    activations keeping the same spacial size.\n",
        "    \"\"\"\n",
        "\n",
        "    def __init__(self, input_channels, n_filters, kernel_size, n_layers, stride):\n",
        "        super().__init__()\n",
        "        layers = []\n",
        "        padding = kernel_size // 2\n",
        "\n",
        "        # Transposed convolution layer.\n",
        "        layers.append(torch.nn.ConvTranspose2d(input_channels, n_filters,\n",
        "                                               kernel_size, stride, padding, 1))\n",
        "        layers.append(torch.nn.ReLU())\n",
        "\n",
        "        for _ in range(n_layers - 1):\n",
        "            layers.append(torch.nn.Conv2d(n_filters, n_filters, kernel_size,\n",
        "                                          padding=padding))\n",
        "            layers.append(torch.nn.ReLU())\n",
        "\n",
        "        # To sequentially apply the layers.\n",
        "        self.block = torch.nn.Sequential(*layers)\n",
        "\n",
        "    def forward(self, x):\n",
        "        return self.block(x)"
      ],
      "execution_count": 0,
      "outputs": []
    },
    {
      "cell_type": "markdown",
      "metadata": {
        "colab_type": "text",
        "id": "u_ZD0rgWBhJa",
        "pycharm": {
          "name": "#%% md\n"
        }
      },
      "source": [
        "To do a quick test, we will pass a random image and check if the output is of the same size as the input."
      ]
    },
    {
      "cell_type": "code",
      "metadata": {
        "colab_type": "code",
        "id": "hIO0AZWCfIR2",
        "pycharm": {
          "name": "#%%\n"
        },
        "colab": {}
      },
      "source": [
        "image = torch.randn((10, 1, 128, 128))\n",
        "autoencoder = ConvolutionalAutoencoderReducedLatentDim(input_shape=(128, 128),\n",
        "                                                       n_blocks=2,\n",
        "                                                       downsampling_method='max-pooling',\n",
        "                                                       upsampling_method='nearest',\n",
        "                                                       layers_per_block=2,\n",
        "                                                       latent_dimensionality=50)\n",
        "output = autoencoder(image)\n",
        "assert output.shape == (10, 1, 128, 128)"
      ],
      "execution_count": 0,
      "outputs": []
    },
    {
      "cell_type": "markdown",
      "metadata": {
        "colab_type": "text",
        "id": "z25DsijeCNvi",
        "pycharm": {
          "name": "#%% md\n"
        }
      },
      "source": [
        "## Dataset\n",
        "\n",
        "We split the training set and normalize the input images with mean and variance of the training set found on the internet."
      ]
    },
    {
      "cell_type": "code",
      "metadata": {
        "colab_type": "code",
        "id": "ObQndlPufIR9",
        "colab": {}
      },
      "source": [
        "transform = torchvision.transforms.Compose([\n",
        "     torchvision.transforms.ToTensor(),\n",
        "     torchvision.transforms.Normalize((0.1307,), (0.3081,))  # Mean and std from internet...\n",
        "])"
      ],
      "execution_count": 0,
      "outputs": []
    },
    {
      "cell_type": "code",
      "metadata": {
        "colab_type": "code",
        "id": "1VIGvzG4fISD",
        "colab": {
          "base_uri": "https://localhost:8080/",
          "height": 275
        },
        "outputId": "675b216d-92e8-4a3b-a7db-3dfcbcbd1856"
      },
      "source": [
        "mnist = torchvision.datasets.MNIST('mnist_dataset', train=True, transform=transform, download=True)"
      ],
      "execution_count": 7,
      "outputs": [
        {
          "output_type": "stream",
          "text": [
            "\r0it [00:00, ?it/s]"
          ],
          "name": "stderr"
        },
        {
          "output_type": "stream",
          "text": [
            "Downloading http://yann.lecun.com/exdb/mnist/train-images-idx3-ubyte.gz to mnist_dataset/MNIST/raw/train-images-idx3-ubyte.gz\n"
          ],
          "name": "stdout"
        },
        {
          "output_type": "stream",
          "text": [
            "9920512it [00:07, 1294225.32it/s]                             \n"
          ],
          "name": "stderr"
        },
        {
          "output_type": "stream",
          "text": [
            "Extracting mnist_dataset/MNIST/raw/train-images-idx3-ubyte.gz to mnist_dataset/MNIST/raw\n"
          ],
          "name": "stdout"
        },
        {
          "output_type": "stream",
          "text": [
            "\r0it [00:00, ?it/s]"
          ],
          "name": "stderr"
        },
        {
          "output_type": "stream",
          "text": [
            "Downloading http://yann.lecun.com/exdb/mnist/train-labels-idx1-ubyte.gz to mnist_dataset/MNIST/raw/train-labels-idx1-ubyte.gz\n"
          ],
          "name": "stdout"
        },
        {
          "output_type": "stream",
          "text": [
            "32768it [00:00, 58357.49it/s]                           \n",
            "0it [00:00, ?it/s]"
          ],
          "name": "stderr"
        },
        {
          "output_type": "stream",
          "text": [
            "Extracting mnist_dataset/MNIST/raw/train-labels-idx1-ubyte.gz to mnist_dataset/MNIST/raw\n",
            "Downloading http://yann.lecun.com/exdb/mnist/t10k-images-idx3-ubyte.gz to mnist_dataset/MNIST/raw/t10k-images-idx3-ubyte.gz\n"
          ],
          "name": "stdout"
        },
        {
          "output_type": "stream",
          "text": [
            "1654784it [00:01, 947988.46it/s]                             \n",
            "0it [00:00, ?it/s]"
          ],
          "name": "stderr"
        },
        {
          "output_type": "stream",
          "text": [
            "Extracting mnist_dataset/MNIST/raw/t10k-images-idx3-ubyte.gz to mnist_dataset/MNIST/raw\n",
            "Downloading http://yann.lecun.com/exdb/mnist/t10k-labels-idx1-ubyte.gz to mnist_dataset/MNIST/raw/t10k-labels-idx1-ubyte.gz\n"
          ],
          "name": "stdout"
        },
        {
          "output_type": "stream",
          "text": [
            "8192it [00:00, 22122.61it/s]            "
          ],
          "name": "stderr"
        },
        {
          "output_type": "stream",
          "text": [
            "Extracting mnist_dataset/MNIST/raw/t10k-labels-idx1-ubyte.gz to mnist_dataset/MNIST/raw\n",
            "Processing...\n",
            "Done!\n"
          ],
          "name": "stdout"
        },
        {
          "output_type": "stream",
          "text": [
            "\n"
          ],
          "name": "stderr"
        }
      ]
    },
    {
      "cell_type": "code",
      "metadata": {
        "colab_type": "code",
        "id": "K5cYwBL2fISH",
        "colab": {}
      },
      "source": [
        "dataset_len = len(mnist)"
      ],
      "execution_count": 0,
      "outputs": []
    },
    {
      "cell_type": "code",
      "metadata": {
        "colab_type": "code",
        "id": "QPrTXSnZfISN",
        "outputId": "b17f5141-bfed-4dcc-9dba-94663673e229",
        "colab": {
          "base_uri": "https://localhost:8080/",
          "height": 34
        }
      },
      "source": [
        "dataset_len * 0.95"
      ],
      "execution_count": 9,
      "outputs": [
        {
          "output_type": "execute_result",
          "data": {
            "text/plain": [
              "57000.0"
            ]
          },
          "metadata": {
            "tags": []
          },
          "execution_count": 9
        }
      ]
    },
    {
      "cell_type": "code",
      "metadata": {
        "colab_type": "code",
        "id": "B1BwFJY_fISU",
        "colab": {}
      },
      "source": [
        "mnist_train, mnist_val = torch.utils.data.random_split(mnist, [57000, dataset_len - 57000])"
      ],
      "execution_count": 0,
      "outputs": []
    },
    {
      "cell_type": "code",
      "metadata": {
        "colab_type": "code",
        "id": "b5yH0O1kfISY",
        "colab": {}
      },
      "source": [
        "train_dataloader = torch.utils.data.DataLoader(mnist_train,\n",
        "                                               batch_size=BATCH_SIZE,\n",
        "                                               shuffle=True,\n",
        "                                               num_workers=4)"
      ],
      "execution_count": 0,
      "outputs": []
    },
    {
      "cell_type": "code",
      "metadata": {
        "colab_type": "code",
        "id": "Ybj6UC1qJUaN",
        "pycharm": {
          "name": "#%%\n"
        },
        "colab": {}
      },
      "source": [
        "val_dataloader = torch.utils.data.DataLoader(mnist_val, batch_size=BATCH_SIZE)"
      ],
      "execution_count": 0,
      "outputs": []
    },
    {
      "cell_type": "markdown",
      "metadata": {
        "colab_type": "text",
        "id": "DZpKJsSBcc4b",
        "pycharm": {
          "name": "#%% md\n"
        }
      },
      "source": [
        "To create our autoencoder we need to know the size of our images."
      ]
    },
    {
      "cell_type": "code",
      "metadata": {
        "colab_type": "code",
        "id": "fqt6_aCtJUaR",
        "outputId": "4a2ddacf-458f-42c5-db81-bee0911b7743",
        "pycharm": {
          "name": "#%%\n"
        },
        "colab": {
          "base_uri": "https://localhost:8080/",
          "height": 34
        }
      },
      "source": [
        "image, label = mnist_train[0]\n",
        "image.shape"
      ],
      "execution_count": 13,
      "outputs": [
        {
          "output_type": "execute_result",
          "data": {
            "text/plain": [
              "torch.Size([1, 28, 28])"
            ]
          },
          "metadata": {
            "tags": []
          },
          "execution_count": 13
        }
      ]
    },
    {
      "cell_type": "markdown",
      "metadata": {
        "colab_type": "text",
        "id": "HCP_Zd2rDqlW"
      },
      "source": [
        "## Training"
      ]
    },
    {
      "cell_type": "markdown",
      "metadata": {
        "colab_type": "text",
        "id": "wEm9Aahock8U",
        "pycharm": {
          "name": "#%% md\n"
        }
      },
      "source": [
        "We will first train an autoencoder with a bottleneck of size 50, **2 blocks of 2 convolutional layers** on each block (each in the encoder and decoder), using **max-pooling** for downsampling and **nearest-neighbour** for upsampling."
      ]
    },
    {
      "cell_type": "code",
      "metadata": {
        "colab_type": "code",
        "id": "sIYstBcDJUaV",
        "pycharm": {
          "name": "#%%\n"
        },
        "colab": {}
      },
      "source": [
        "autoencoder = ConvolutionalAutoencoderReducedLatentDim(\n",
        "    input_shape=(28, 28),\n",
        "    n_blocks=2,\n",
        "    downsampling_method='max-pooling',\n",
        "    upsampling_method='nearest',\n",
        "    layers_per_block=2,\n",
        "    latent_dimensionality=50\n",
        ").to(device)"
      ],
      "execution_count": 0,
      "outputs": []
    },
    {
      "cell_type": "markdown",
      "metadata": {
        "colab_type": "text",
        "id": "xt3wsOghdxHh",
        "pycharm": {
          "name": "#%% md\n"
        }
      },
      "source": [
        "We use the mean square error as our loss function and Adam as our optimization algorithm with a learning rate of 0.001.  \n",
        "We use 'sum' as reduction to compute the image reconstruction error instead of the pixel reconstruction error."
      ]
    },
    {
      "cell_type": "code",
      "metadata": {
        "colab_type": "code",
        "id": "fNNQ25Z-fISe",
        "pycharm": {
          "name": "#%%\n"
        },
        "colab": {}
      },
      "source": [
        "mse = torch.nn.MSELoss(reduction='sum')\n",
        "adam = torch.optim.Adam(autoencoder.parameters(), lr=0.001)"
      ],
      "execution_count": 0,
      "outputs": []
    },
    {
      "cell_type": "markdown",
      "metadata": {
        "colab_type": "text",
        "id": "RX893gG4eEf2",
        "pycharm": {
          "name": "#%% md\n"
        }
      },
      "source": [
        "Define our `train` function that will be called at each epoch."
      ]
    },
    {
      "cell_type": "code",
      "metadata": {
        "colab_type": "code",
        "id": "AEwsot_KfISi",
        "pycharm": {
          "name": "#%%\n"
        },
        "colab": {}
      },
      "source": [
        "def train(model, dataloader, criterion, optimizer, epoch, loss_history, log_interval=100):\n",
        "    for i, batch in enumerate(dataloader):\n",
        "        images = batch[0].to(device)\n",
        "        optimizer.zero_grad()\n",
        "        reconstructed = model(images)\n",
        "        # Divide by batch size to compute mean image reconstruction error.\n",
        "        loss = criterion(reconstructed, images) / images.shape[0]\n",
        "        loss.backward()   # Backprop.\n",
        "        optimizer.step()  # Parameter updates.\n",
        "\n",
        "        loss_history.append(loss.item())\n",
        "        if i % log_interval == 0:\n",
        "            print('[%d, %d] loss: %.3f' % (epoch + 1, i, loss.item()))"
      ],
      "execution_count": 0,
      "outputs": []
    },
    {
      "cell_type": "markdown",
      "metadata": {
        "colab_type": "text",
        "id": "zo8uYtLgeC6o",
        "pycharm": {
          "name": "#%% md\n"
        }
      },
      "source": [
        "Very similar to the `train` function, we define our `test` function to validate. In this case we don't backpropagate and update our parameters."
      ]
    },
    {
      "cell_type": "code",
      "metadata": {
        "colab_type": "code",
        "id": "GoV4rvPyJUac",
        "pycharm": {
          "name": "#%%\n"
        },
        "colab": {}
      },
      "source": [
        "def test(model, dataloader, criterion, epoch, loss_history):\n",
        "    loss = 0\n",
        "    total = 0\n",
        "    for batch in dataloader:\n",
        "        images = batch[0].to(device)\n",
        "        reconstructed = model(images)\n",
        "        loss += criterion(reconstructed, images).item()\n",
        "        total += images.shape[0]\n",
        "\n",
        "    mean_loss = loss / total\n",
        "    loss_history.append(mean_loss)  \n",
        "    print('[%d, test] loss: %.3f' % (epoch + 1, mean_loss))\n",
        "    return mean_loss"
      ],
      "execution_count": 0,
      "outputs": []
    },
    {
      "cell_type": "markdown",
      "metadata": {
        "colab_type": "text",
        "id": "8vfBCQHqepWO",
        "pycharm": {
          "name": "#%% md\n"
        }
      },
      "source": [
        "This is our training loop. Firstly, we call the `test` function so our validation loss curve includes the initial/untrained \"behaviour\"."
      ]
    },
    {
      "cell_type": "code",
      "metadata": {
        "colab_type": "code",
        "id": "CXQlTiq2fISm",
        "outputId": "67d2d731-c516-43a4-cb68-d31539474e50",
        "scrolled": true,
        "colab": {
          "base_uri": "https://localhost:8080/",
          "height": 1000
        }
      },
      "source": [
        "training_loss = []    #\n",
        "validation_loss = []  # Here we save the training process.\n",
        "\n",
        "for epoch in range(EPOCHS_AUTOENCODER):\n",
        "    autoencoder.eval()\n",
        "    with torch.no_grad():\n",
        "        _ = test(autoencoder, val_dataloader, mse, epoch, validation_loss)\n",
        "    autoencoder.train()\n",
        "    train(autoencoder, train_dataloader, mse, adam, epoch, training_loss)\n",
        "    # if early_stopping(validation_loss):\n",
        "    #     break\n",
        "\n",
        "autoencoder.eval()\n",
        "with torch.no_grad():\n",
        "    test(autoencoder, val_dataloader, mse, epoch, validation_loss)"
      ],
      "execution_count": 18,
      "outputs": [
        {
          "output_type": "stream",
          "text": [
            "[1, test] loss: 796.878\n",
            "[1, 0] loss: 758.104\n",
            "[1, 100] loss: 549.868\n",
            "[1, 200] loss: 475.533\n",
            "[1, 300] loss: 388.958\n",
            "[1, 400] loss: 348.533\n",
            "[2, test] loss: 337.644\n",
            "[2, 0] loss: 315.081\n",
            "[2, 100] loss: 321.690\n",
            "[2, 200] loss: 300.754\n",
            "[2, 300] loss: 308.555\n",
            "[2, 400] loss: 287.367\n",
            "[3, test] loss: 304.376\n",
            "[3, 0] loss: 303.161\n",
            "[3, 100] loss: 284.149\n",
            "[3, 200] loss: 298.843\n",
            "[3, 300] loss: 293.873\n",
            "[3, 400] loss: 288.292\n",
            "[4, test] loss: 298.220\n",
            "[4, 0] loss: 270.957\n",
            "[4, 100] loss: 286.857\n",
            "[4, 200] loss: 286.826\n",
            "[4, 300] loss: 293.875\n",
            "[4, 400] loss: 294.413\n",
            "[5, test] loss: 292.914\n",
            "[5, 0] loss: 285.556\n",
            "[5, 100] loss: 276.173\n",
            "[5, 200] loss: 290.535\n",
            "[5, 300] loss: 285.745\n",
            "[5, 400] loss: 292.952\n",
            "[6, test] loss: 290.858\n",
            "[6, 0] loss: 294.831\n",
            "[6, 100] loss: 288.973\n",
            "[6, 200] loss: 281.159\n",
            "[6, 300] loss: 277.549\n",
            "[6, 400] loss: 292.455\n",
            "[7, test] loss: 288.230\n",
            "[7, 0] loss: 280.003\n",
            "[7, 100] loss: 274.603\n",
            "[7, 200] loss: 285.313\n",
            "[7, 300] loss: 286.547\n",
            "[7, 400] loss: 288.153\n",
            "[8, test] loss: 285.764\n",
            "[8, 0] loss: 282.711\n",
            "[8, 100] loss: 281.702\n",
            "[8, 200] loss: 285.778\n",
            "[8, 300] loss: 269.015\n",
            "[8, 400] loss: 289.489\n",
            "[9, test] loss: 285.513\n",
            "[9, 0] loss: 264.747\n",
            "[9, 100] loss: 283.361\n",
            "[9, 200] loss: 295.912\n",
            "[9, 300] loss: 287.227\n",
            "[9, 400] loss: 269.847\n",
            "[10, test] loss: 283.264\n",
            "[10, 0] loss: 286.533\n",
            "[10, 100] loss: 278.711\n",
            "[10, 200] loss: 280.428\n",
            "[10, 300] loss: 279.003\n",
            "[10, 400] loss: 271.378\n",
            "[10, test] loss: 282.000\n"
          ],
          "name": "stdout"
        }
      ]
    },
    {
      "cell_type": "code",
      "metadata": {
        "colab_type": "code",
        "id": "4I6vt-OjST-I",
        "outputId": "6ffaf010-1446-42e7-f8c5-d6528a9628b0",
        "pycharm": {
          "name": "#%%\n"
        },
        "colab": {
          "base_uri": "https://localhost:8080/",
          "height": 295
        }
      },
      "source": [
        "plt.title('Autoencoder reconstruction loss curves')\n",
        "plt.plot(training_loss, label='training loss')\n",
        "plt.plot(np.linspace(0, len(training_loss), len(validation_loss)), validation_loss, '-x', label='validation loss')\n",
        "plt.xlabel('Iteration')\n",
        "plt.ylabel('MSE')\n",
        "plt.legend();"
      ],
      "execution_count": 19,
      "outputs": [
        {
          "output_type": "display_data",
          "data": {
            "image/png": "[encoded data removed]",
            "text/plain": [
              "<Figure size 432x288 with 1 Axes>"
            ]
          },
          "metadata": {
            "tags": []
          }
        }
      ]
    },
    {
      "cell_type": "markdown",
      "metadata": {
        "colab_type": "text",
        "id": "NXnbmjhLfaTR",
        "pycharm": {
          "name": "#%% md\n"
        }
      },
      "source": [
        "We can see that the loss quickly reduces and then it doesn't improve much. The validation curve is similar to the training one, so we can say it doesn't overfit the training data.\n",
        "\n",
        "In log-scale:"
      ]
    },
    {
      "cell_type": "code",
      "metadata": {
        "colab_type": "code",
        "id": "BxrbIH0Qgcpn",
        "outputId": "260c3b56-6e33-49e2-a071-c608e61e1492",
        "pycharm": {
          "name": "#%%\n"
        },
        "colab": {
          "base_uri": "https://localhost:8080/",
          "height": 295
        }
      },
      "source": [
        "plt.title('Autoencoder reconstruction loss curves in log-scale')\n",
        "plt.yscale('log')\n",
        "plt.plot(training_loss, label='training loss')\n",
        "plt.plot(np.linspace(0, len(training_loss), len(validation_loss)), validation_loss, '-x', label='validation loss')\n",
        "plt.xlabel('Iteration')\n",
        "plt.ylabel('MSE')\n",
        "plt.legend();"
      ],
      "execution_count": 20,
      "outputs": [
        {
          "output_type": "display_data",
          "data": {
            "image/png": "[encoded data removed]",
            "text/plain": [
              "<Figure size 432x288 with 1 Axes>"
            ]
          },
          "metadata": {
            "tags": []
          }
        }
      ]
    },
    {
      "cell_type": "markdown",
      "metadata": {
        "colab_type": "text",
        "id": "3FTDWqo4NcF0",
        "pycharm": {
          "name": "#%% md\n"
        }
      },
      "source": [
        "Now we'll try to reconstruct a image from the test dataset."
      ]
    },
    {
      "cell_type": "code",
      "metadata": {
        "colab_type": "code",
        "id": "3OKrrQKRfISs",
        "colab": {}
      },
      "source": [
        "mnist_test = torchvision.datasets.MNIST('mnist_dataset', train=False, transform=transform)\n",
        "test_dataloader = torch.utils.data.DataLoader(mnist_test, batch_size=BATCH_SIZE)"
      ],
      "execution_count": 0,
      "outputs": []
    },
    {
      "cell_type": "code",
      "metadata": {
        "colab_type": "code",
        "id": "NfXE9nSUQBV1",
        "colab": {}
      },
      "source": [
        "def show_image(image, autoencoder, title=None):\n",
        "    reconstructed = autoencoder(image.to(device).unsqueeze(0))\n",
        "    if title:\n",
        "        plt.suptitle(title)\n",
        "    plt.subplot(121).set_title('Original image')\n",
        "    plt.imshow(image.reshape((28, 28)), cmap='gray')\n",
        "    plt.subplot(122).set_title('Reconstructed image')\n",
        "    plt.imshow(reconstructed.reshape((28, 28)).detach().cpu().numpy(), cmap='gray');"
      ],
      "execution_count": 0,
      "outputs": []
    },
    {
      "cell_type": "code",
      "metadata": {
        "colab_type": "code",
        "id": "7YUCupgTgYt3",
        "outputId": "2f8e4211-c084-4813-a064-75e701a9612e",
        "pycharm": {
          "name": "#%%\n"
        },
        "colab": {
          "base_uri": "https://localhost:8080/",
          "height": 216
        }
      },
      "source": [
        "show_image(mnist_test[6][0], autoencoder)"
      ],
      "execution_count": 23,
      "outputs": [
        {
          "output_type": "display_data",
          "data": {
            "image/png": "[encoded data removed]",
            "text/plain": [
              "<Figure size 432x288 with 2 Axes>"
            ]
          },
          "metadata": {
            "tags": []
          }
        }
      ]
    },
    {
      "cell_type": "markdown",
      "metadata": {
        "colab_type": "text",
        "id": "Lxb8rpY3goVF"
      },
      "source": [
        "We can see some information is loss, but the reconstruction is pretty accurate."
      ]
    },
    {
      "cell_type": "markdown",
      "metadata": {
        "colab_type": "text",
        "id": "qQfkKa71EQ9s",
        "pycharm": {
          "name": "#%% md\n"
        }
      },
      "source": [
        "## Varying bottleneck size\n"
      ]
    },
    {
      "cell_type": "code",
      "metadata": {
        "colab_type": "code",
        "id": "34WQ01WqLcmz",
        "colab": {}
      },
      "source": [
        "mse = torch.nn.MSELoss(reduction='sum')"
      ],
      "execution_count": 0,
      "outputs": []
    },
    {
      "cell_type": "code",
      "metadata": {
        "colab_type": "code",
        "id": "3ctr05S_Edn6",
        "outputId": "4c24b193-103b-4503-9fb2-d19459375e9c",
        "colab": {
          "base_uri": "https://localhost:8080/",
          "height": 1000
        }
      },
      "source": [
        "bottleneck_sizes = [2, 5, 10, 50]\n",
        "autoencoders = {}\n",
        "min_loss = float(\"inf\")\n",
        "for bottleneck_size in bottleneck_sizes:\n",
        "    training_loss = []    # Here we save the training process.\n",
        "    validation_loss = []  # And here the validation loss after each epoch\n",
        "\n",
        "    print(\"*\"*15 + f\"Autoencoder bottleneck size {bottleneck_size}\" + \"*\"*15)\n",
        "  \n",
        "    autoencoder = ConvolutionalAutoencoderReducedLatentDim(\n",
        "        input_shape=(28, 28),\n",
        "        n_blocks=2,\n",
        "        downsampling_method='max-pooling',\n",
        "        upsampling_method='nearest',\n",
        "        layers_per_block=2,\n",
        "        latent_dimensionality=bottleneck_size\n",
        "    ).to(device)\n",
        "    adam = torch.optim.Adam(autoencoder.parameters(), lr=0.001)\n",
        "\n",
        "    for epoch in range(EPOCHS_AUTOENCODER):\n",
        "        autoencoder.eval()\n",
        "        with torch.no_grad():\n",
        "            loss = test(autoencoder, val_dataloader, mse, epoch, validation_loss)\n",
        "        if loss < min_loss:\n",
        "            torch.save({'encoder': autoencoder.encoder.state_dict(),\n",
        "                        'bottleneck_size': bottleneck_size}, 'encoder.pt')\n",
        "        autoencoder.train()\n",
        "        train(autoencoder, train_dataloader, mse, adam, epoch, training_loss, 500)\n",
        "        \n",
        "        # if early_stopping(validation_loss):\n",
        "        #     break\n",
        "\n",
        "    autoencoder.eval()\n",
        "    with torch.no_grad():\n",
        "        test(autoencoder, val_dataloader, mse, epoch, validation_loss)\n",
        "    autoencoders[f\"bottleneck_{bottleneck_size}\"] = {\"val_loss\": validation_loss, \"model\": autoencoder}"
      ],
      "execution_count": 25,
      "outputs": [
        {
          "output_type": "stream",
          "text": [
            "***************Autoencoder bottleneck size 2***************\n",
            "[1, test] loss: 792.791\n",
            "[1, 0] loss: 805.487\n",
            "[2, test] loss: 565.696\n",
            "[2, 0] loss: 560.298\n",
            "[3, test] loss: 565.254\n",
            "[3, 0] loss: 552.801\n",
            "[4, test] loss: 564.984\n",
            "[4, 0] loss: 566.081\n",
            "[5, test] loss: 564.930\n",
            "[5, 0] loss: 565.858\n",
            "[6, test] loss: 564.639\n",
            "[6, 0] loss: 568.591\n",
            "[7, test] loss: 564.684\n",
            "[7, 0] loss: 569.074\n",
            "[8, test] loss: 564.763\n",
            "[8, 0] loss: 554.020\n",
            "[9, test] loss: 565.532\n",
            "[9, 0] loss: 542.851\n",
            "[10, test] loss: 564.761\n",
            "[10, 0] loss: 552.214\n",
            "[10, test] loss: 564.558\n",
            "***************Autoencoder bottleneck size 5***************\n",
            "[1, test] loss: 792.000\n",
            "[1, 0] loss: 808.815\n",
            "[2, test] loss: 565.538\n",
            "[2, 0] loss: 541.175\n",
            "[3, test] loss: 565.243\n",
            "[3, 0] loss: 576.991\n",
            "[4, test] loss: 565.073\n",
            "[4, 0] loss: 531.558\n",
            "[5, test] loss: 565.002\n",
            "[5, 0] loss: 558.884\n",
            "[6, test] loss: 564.797\n",
            "[6, 0] loss: 561.960\n",
            "[7, test] loss: 564.796\n",
            "[7, 0] loss: 566.300\n",
            "[8, test] loss: 564.816\n",
            "[8, 0] loss: 580.443\n",
            "[9, test] loss: 564.731\n",
            "[9, 0] loss: 543.355\n",
            "[10, test] loss: 565.435\n",
            "[10, 0] loss: 548.152\n",
            "[10, test] loss: 565.004\n",
            "***************Autoencoder bottleneck size 10***************\n",
            "[1, test] loss: 792.882\n",
            "[1, 0] loss: 794.975\n",
            "[2, test] loss: 405.657\n",
            "[2, 0] loss: 380.770\n",
            "[3, test] loss: 378.607\n",
            "[3, 0] loss: 387.395\n",
            "[4, test] loss: 368.730\n",
            "[4, 0] loss: 378.446\n",
            "[5, test] loss: 365.058\n",
            "[5, 0] loss: 353.260\n",
            "[6, test] loss: 363.306\n",
            "[6, 0] loss: 364.803\n",
            "[7, test] loss: 360.276\n",
            "[7, 0] loss: 339.683\n",
            "[8, test] loss: 356.772\n",
            "[8, 0] loss: 348.676\n",
            "[9, test] loss: 356.116\n",
            "[9, 0] loss: 359.602\n",
            "[10, test] loss: 354.742\n",
            "[10, 0] loss: 347.354\n",
            "[10, test] loss: 351.866\n",
            "***************Autoencoder bottleneck size 50***************\n",
            "[1, test] loss: 797.638\n",
            "[1, 0] loss: 806.721\n",
            "[2, test] loss: 316.187\n",
            "[2, 0] loss: 323.141\n",
            "[3, test] loss: 297.616\n",
            "[3, 0] loss: 288.952\n",
            "[4, test] loss: 292.378\n",
            "[4, 0] loss: 296.379\n",
            "[5, test] loss: 288.191\n",
            "[5, 0] loss: 273.382\n",
            "[6, test] loss: 286.508\n",
            "[6, 0] loss: 278.858\n",
            "[7, test] loss: 282.738\n",
            "[7, 0] loss: 267.473\n",
            "[8, test] loss: 281.633\n",
            "[8, 0] loss: 273.365\n",
            "[9, test] loss: 281.750\n",
            "[9, 0] loss: 273.336\n",
            "[10, test] loss: 280.699\n",
            "[10, 0] loss: 275.567\n",
            "[10, test] loss: 278.049\n"
          ],
          "name": "stdout"
        }
      ]
    },
    {
      "cell_type": "code",
      "metadata": {
        "colab_type": "code",
        "id": "ySmvQV1_PQML",
        "outputId": "abe2c607-d57b-4a8a-9523-be8ef3316e9f",
        "colab": {
          "base_uri": "https://localhost:8080/",
          "height": 279
        }
      },
      "source": [
        "plt.figure()\n",
        "for bottleneck_size in autoencoders:\n",
        "    plt.plot(autoencoders[bottleneck_size][\"val_loss\"], label=bottleneck_size.replace(\"_\", \"=\"))\n",
        "plt.xlabel('epoch')\n",
        "plt.ylabel('MSE')\n",
        "plt.legend();"
      ],
      "execution_count": 26,
      "outputs": [
        {
          "output_type": "display_data",
          "data": {
            "image/png": "[encoded data removed]",
            "text/plain": [
              "<Figure size 432x288 with 1 Axes>"
            ]
          },
          "metadata": {
            "tags": []
          }
        }
      ]
    },
    {
      "cell_type": "markdown",
      "metadata": {
        "id": "GSPRZKKX6twa",
        "colab_type": "text"
      },
      "source": [
        "We can see a fast convergence speed in all cases, but (as we could predict) the larger the bottleneck size the lower loss."
      ]
    },
    {
      "cell_type": "markdown",
      "metadata": {
        "colab_type": "text",
        "id": "YUdfmbcuEoh-"
      },
      "source": [
        "### Average image reconstruction loss"
      ]
    },
    {
      "cell_type": "markdown",
      "metadata": {
        "colab_type": "text",
        "id": "CRodHIYQEoh_"
      },
      "source": [
        "This section presents the average image reconstruction loss for the different autoencoders from previous section."
      ]
    },
    {
      "cell_type": "code",
      "metadata": {
        "colab_type": "code",
        "id": "AWw5Pz6hEoiA",
        "colab": {}
      },
      "source": [
        "def get_num_parameters(model):\n",
        "    return sum([p.numel() for p in model.parameters() if p.requires_grad])\n",
        "\n",
        "def get_avg_image_reconstruction_loss(model, dataloader, criterion):\n",
        "    loss = 0\n",
        "    total = 0\n",
        "    for batch in dataloader:\n",
        "        images = batch[0].to(device)\n",
        "        reconstructed = model(images)\n",
        "        loss += criterion(reconstructed, images).item()\n",
        "        total += images.shape[0]\n",
        "\n",
        "    mean_loss = loss / total\n",
        "    return mean_loss"
      ],
      "execution_count": 0,
      "outputs": []
    },
    {
      "cell_type": "code",
      "metadata": {
        "colab_type": "code",
        "id": "7m-KrRnwEoiC",
        "outputId": "bbfe374a-9545-4ca7-93c1-5a3912f23796",
        "colab": {
          "base_uri": "https://localhost:8080/",
          "height": 153
        }
      },
      "source": [
        "tbl = PrettyTable()\n",
        "tbl.field_names = [\"Model\", \"Number of parameters\", \"Validation loss\", \"Test loss\"]\n",
        "for model_name, model_info in autoencoders.items():\n",
        "    autoencoder = model_info[\"model\"]\n",
        "    num_params = get_num_parameters(autoencoder)\n",
        "    val_loss = get_avg_image_reconstruction_loss(autoencoder, val_dataloader, mse)\n",
        "    test_loss = get_avg_image_reconstruction_loss(autoencoder, test_dataloader, mse)\n",
        "    tbl.add_row([model_name, num_params, val_loss, test_loss])\n",
        "\n",
        "print(tbl)"
      ],
      "execution_count": 28,
      "outputs": [
        {
          "output_type": "stream",
          "text": [
            "+---------------+----------------------+--------------------+--------------------+\n",
            "|     Model     | Number of parameters |  Validation loss   |     Test loss      |\n",
            "+---------------+----------------------+--------------------+--------------------+\n",
            "|  bottleneck_2 |        130451        | 564.5578385416667  | 559.4573369140625  |\n",
            "|  bottleneck_5 |        139862        |   565.0036484375   | 559.9860087890625  |\n",
            "| bottleneck_10 |        155547        |  351.865623046875  | 351.00136474609377 |\n",
            "| bottleneck_50 |        281027        | 278.04903255208336 | 278.3268048828125  |\n",
            "+---------------+----------------------+--------------------+--------------------+\n"
          ],
          "name": "stdout"
        }
      ]
    },
    {
      "cell_type": "markdown",
      "metadata": {
        "id": "vFZjcZMn7YfK",
        "colab_type": "text"
      },
      "source": [
        "Again, the larger the bottleneck size the lower the error. But we can see the number of parameters quickly raises."
      ]
    },
    {
      "cell_type": "markdown",
      "metadata": {
        "colab_type": "text",
        "id": "yA_kBSDuEoiF"
      },
      "source": [
        "### Generating random images taking 5 elements from the test set."
      ]
    },
    {
      "cell_type": "code",
      "metadata": {
        "colab_type": "code",
        "id": "cJEtvBU5EoiF",
        "outputId": "4f916948-b232-4f86-c095-7cdf3bb432ca",
        "colab": {
          "base_uri": "https://localhost:8080/",
          "height": 1000
        }
      },
      "source": [
        "autoencoder = autoencoders[\"bottleneck_50\"][\"model\"]\n",
        "random_indexes = [randint(0,len(test_dataloader)) for _ in range(5)]\n",
        "for index in random_indexes:\n",
        "    plt.figure()\n",
        "    show_image(mnist_test[index][0], autoencoder)"
      ],
      "execution_count": 29,
      "outputs": [
        {
          "output_type": "display_data",
          "data": {
            "image/png": "[encoded data removed]",
            "text/plain": [
              "<Figure size 432x288 with 2 Axes>"
            ]
          },
          "metadata": {
            "tags": []
          }
        },
        {
          "output_type": "display_data",
          "data": {
            "image/png": "[encoded data removed]",
            "text/plain": [
              "<Figure size 432x288 with 2 Axes>"
            ]
          },
          "metadata": {
            "tags": []
          }
        },
        {
          "output_type": "display_data",
          "data": {
            "image/png": "[encoded data removed]",
            "text/plain": [
              "<Figure size 432x288 with 2 Axes>"
            ]
          },
          "metadata": {
            "tags": []
          }
        },
        {
          "output_type": "display_data",
          "data": {
            "image/png": "[encoded data removed]",
            "text/plain": [
              "<Figure size 432x288 with 2 Axes>"
            ]
          },
          "metadata": {
            "tags": []
          }
        },
        {
          "output_type": "display_data",
          "data": {
            "image/png": "[encoded data removed]",
            "text/plain": [
              "<Figure size 432x288 with 2 Axes>"
            ]
          },
          "metadata": {
            "tags": []
          }
        }
      ]
    },
    {
      "cell_type": "markdown",
      "metadata": {
        "id": "kPw16oWK7vNl",
        "colab_type": "text"
      },
      "source": [
        "The reconstructed images look very similar to the original ones."
      ]
    },
    {
      "cell_type": "markdown",
      "metadata": {
        "colab_type": "text",
        "id": "9LXq7cHWEoiI"
      },
      "source": [
        "### Presenting 5 random generated images to the autoencoder."
      ]
    },
    {
      "cell_type": "code",
      "metadata": {
        "colab_type": "code",
        "id": "yNrIKhXZHSb7",
        "colab": {}
      },
      "source": [
        "def generate_image(model):\n",
        "    noise = torch.randn((1, 50)).to(device)\n",
        "    generated = model.convolutional_decoder(model.linear_decoder(noise).view((1,) + model.encoder_output_shape))\n",
        "    plt.imshow(generated.squeeze().detach().cpu().numpy(), cmap='gray')\n"
      ],
      "execution_count": 0,
      "outputs": []
    },
    {
      "cell_type": "code",
      "metadata": {
        "colab_type": "code",
        "id": "6N-oELrGEoiI",
        "outputId": "ba055851-e8a2-4c44-ce29-9b1343e652e1",
        "pycharm": {
          "name": "#%%\n"
        },
        "colab": {
          "base_uri": "https://localhost:8080/",
          "height": 1000
        }
      },
      "source": [
        "for _ in range(5):\n",
        "    plt.figure()\n",
        "    generate_image(autoencoder)"
      ],
      "execution_count": 32,
      "outputs": [
        {
          "output_type": "display_data",
          "data": {
            "image/png": "[encoded data removed]",
            "text/plain": [
              "<Figure size 432x288 with 1 Axes>"
            ]
          },
          "metadata": {
            "tags": []
          }
        },
        {
          "output_type": "display_data",
          "data": {
            "image/png": "[encoded data removed]",
            "text/plain": [
              "<Figure size 432x288 with 1 Axes>"
            ]
          },
          "metadata": {
            "tags": []
          }
        },
        {
          "output_type": "display_data",
          "data": {
            "image/png": "[encoded data removed]",
            "text/plain": [
              "<Figure size 432x288 with 1 Axes>"
            ]
          },
          "metadata": {
            "tags": []
          }
        },
        {
          "output_type": "display_data",
          "data": {
            "image/png": "[encoded data removed]",
            "text/plain": [
              "<Figure size 432x288 with 1 Axes>"
            ]
          },
          "metadata": {
            "tags": []
          }
        },
        {
          "output_type": "display_data",
          "data": {
            "image/png": "[encoded data removed]",
            "text/plain": [
              "<Figure size 432x288 with 1 Axes>"
            ]
          },
          "metadata": {
            "tags": []
          }
        }
      ]
    },
    {
      "cell_type": "markdown",
      "metadata": {
        "id": "4OC4WWC071_s",
        "colab_type": "text"
      },
      "source": [
        "The generated images don't look like the training data at all."
      ]
    },
    {
      "cell_type": "markdown",
      "metadata": {
        "colab_type": "text",
        "id": "04ODN1xHIHEL"
      },
      "source": [
        "# Exercise 2: Transfer Learning\n",
        "\n",
        "## Steps:\n",
        "\n",
        "1. Select a subset of 100 images and their associated labels from the MNIST training data.\n",
        "2. Select one of the previously trained autoencoders.\n",
        "3. Create a digit (0-9) classification model reusing the encoder of the autoencoder and adding the needed fully connected (projection) layer.\n",
        "3. Pretraining: use the weights of the autoencoder as initial values for the network weights and train a classification model on the subset of 100 samples.\n",
        "4. Fine-tuning: do the same, but train the new projection layer with a normal learning rate and the reused part with a very low learning rate.\n",
        "5. From scratch: train the model on the 100 samples without reusing the decoder weights at all.\n",
        "6. Show the accuracy of the four models on the MNIST test set in a table.\n"
      ]
    },
    {
      "cell_type": "markdown",
      "metadata": {
        "colab_type": "text",
        "id": "__skvBbtjABn",
        "pycharm": {
          "name": "#%% md\n"
        }
      },
      "source": [
        "## Pretraining"
      ]
    },
    {
      "cell_type": "markdown",
      "metadata": {
        "colab_type": "text",
        "id": "v0jvg9aSh70E"
      },
      "source": [
        "We don't need to define a softmax layer, as the `CrossEntropyLoss` class internally applies it."
      ]
    },
    {
      "cell_type": "code",
      "metadata": {
        "colab_type": "code",
        "id": "A6AdTRqxEoiP",
        "colab": {}
      },
      "source": [
        "# Load saved autoencoder training checkpoint.\n",
        "autoencoder_checkpoint = torch.load('encoder.pt')\n",
        "bottleneck_size = autoencoder_checkpoint['bottleneck_size']\n",
        "encoder = ConvolutionalAutoencoderReducedLatentDim(\n",
        "    input_shape=(28, 28),\n",
        "    n_blocks=2,\n",
        "    downsampling_method='max-pooling',\n",
        "    upsampling_method='nearest',\n",
        "    layers_per_block=2,\n",
        "    latent_dimensionality=bottleneck_size\n",
        ").encoder.to(device)\n",
        "encoder.load_state_dict(autoencoder_checkpoint['encoder'])\n",
        "\n",
        "# Define classification layer.\n",
        "classifier = torch.nn.Linear(bottleneck_size, 10).to(device)"
      ],
      "execution_count": 0,
      "outputs": []
    },
    {
      "cell_type": "markdown",
      "metadata": {
        "colab_type": "text",
        "id": "qqvqjkE5h2jR"
      },
      "source": [
        "We use the cross-entropy as our loss function and Adam as our optimization algorithm with a learning rate of 0.01."
      ]
    },
    {
      "cell_type": "code",
      "metadata": {
        "colab_type": "code",
        "id": "adq2d7EnJaW5",
        "colab": {}
      },
      "source": [
        "cross_entropy = torch.nn.CrossEntropyLoss()\n",
        "optimizer_adam = torch.optim.Adam(classifier.parameters(), lr=0.01)"
      ],
      "execution_count": 0,
      "outputs": []
    },
    {
      "cell_type": "markdown",
      "metadata": {
        "colab_type": "text",
        "id": "GyA7pTDyiZH8"
      },
      "source": [
        "We create a subset dataset using the pytorch's `Subset` class with the first 100 samples from the training split."
      ]
    },
    {
      "cell_type": "code",
      "metadata": {
        "colab_type": "code",
        "id": "M8UWsjOhJqKN",
        "colab": {}
      },
      "source": [
        "training_subset = torch.utils.data.Subset(mnist_train, range(100))\n",
        "subset_dataloader = torch.utils.data.DataLoader(training_subset,\n",
        "                                                batch_size=BATCH_SIZE,\n",
        "                                                shuffle=True,\n",
        "                                                num_workers=4)"
      ],
      "execution_count": 0,
      "outputs": []
    },
    {
      "cell_type": "markdown",
      "metadata": {
        "colab_type": "text",
        "id": "xrkIqayBiubF"
      },
      "source": [
        "Define our `classification_train` function that will be called at each epoch. The function takes the classifier network as well as the encoder network. It first projects the input image to the latent space and then applies the classification layer.\n",
        "\n",
        "The output of the encoder is detached so the gradients are not computed (because we dont need them)."
      ]
    },
    {
      "cell_type": "code",
      "metadata": {
        "colab_type": "code",
        "id": "UWTRqkZ6MEgf",
        "colab": {}
      },
      "source": [
        "def classification_train(classifier, encoder, dataloader, criterion, optimizer, epoch, loss_history):\n",
        "    for i, (images, labels) in enumerate(dataloader):\n",
        "        images, labels = images.to(device), labels.to(device, torch.long)\n",
        "        optimizer.zero_grad()\n",
        "        # To latent space.\n",
        "        codes = encoder(images).detach()\n",
        "        # Classify from latent space.\n",
        "        outputs = classifier(codes)\n",
        "        loss = criterion(outputs, labels)\n",
        "        loss.backward()   # Backprop.\n",
        "        optimizer.step()  # Parameter updates.\n",
        "\n",
        "        loss_history.append(loss.item())\n",
        "        print('[%d, %d] loss: %.3f' % (epoch + 1, i, loss.item()))"
      ],
      "execution_count": 0,
      "outputs": []
    },
    {
      "cell_type": "markdown",
      "metadata": {
        "colab_type": "text",
        "id": "BL_Pz6KhizE8"
      },
      "source": [
        "Very similar to the `classification_train` function, we define our `classification_test` function to validate. In this case we don't backpropagate and update our parameters. We also compute the accuracy by summing all the correct predictions and dividing by the total number of images."
      ]
    },
    {
      "cell_type": "code",
      "metadata": {
        "colab_type": "code",
        "id": "nv5E5Xc6QiKV",
        "colab": {}
      },
      "source": [
        "def classification_test(classifier, encoder, dataloader, criterion, epoch, loss_history):\n",
        "    loss = 0\n",
        "    total = 0\n",
        "    correct = 0\n",
        "    for i, (images, labels) in enumerate(dataloader):\n",
        "        images, labels = images.to(device), labels.to(device, torch.long)\n",
        "        codes = encoder(images)\n",
        "        outputs = classifier(codes)\n",
        "        loss += criterion(outputs, labels).item()\n",
        "        # Compute average accuracy.\n",
        "        _, predicted = torch.max(outputs.data, 1)\n",
        "        total += labels.size(0)\n",
        "        correct += (predicted == labels).sum().item()\n",
        "\n",
        "    mean_loss = loss / (i + 1)\n",
        "    acc = 100 * correct / total\n",
        "    loss_history.append(mean_loss)  \n",
        "    print('[%d, test] loss: %.3f accuracy: %.3f' % (epoch + 1, mean_loss, acc))\n",
        "    return mean_loss, acc"
      ],
      "execution_count": 0,
      "outputs": []
    },
    {
      "cell_type": "markdown",
      "metadata": {
        "colab_type": "text",
        "id": "fub5vuTJkmGN"
      },
      "source": [
        "We pass the `encoder` submodule of the `autoencoder` object as the `encoder` parameter of the above-defined functions."
      ]
    },
    {
      "cell_type": "code",
      "metadata": {
        "colab_type": "code",
        "id": "Tx50jNQdNaoX",
        "outputId": "761af922-aeda-47f3-c34a-86aec351a370",
        "colab": {
          "base_uri": "https://localhost:8080/",
          "height": 714
        }
      },
      "source": [
        "pretraining_training_loss = []\n",
        "pretraining_validation_loss = []  # Here we save the training process.\n",
        "min_loss = float('inf')\n",
        "\n",
        "for epoch in range(EPOCHS_PRETRAINING):\n",
        "    classifier.eval()\n",
        "    with torch.no_grad():\n",
        "        loss, _ = classification_test(classifier, encoder, val_dataloader, cross_entropy, epoch, pretraining_validation_loss)\n",
        "        if loss < min_loss:\n",
        "            min_loss = loss\n",
        "            torch.save({'classifier': classifier.state_dict(),\n",
        "                        'encoder': encoder.state_dict()},\n",
        "                       'best_pretrain.pt')\n",
        "    classifier.train()\n",
        "    classification_train(classifier, encoder, subset_dataloader, cross_entropy, optimizer_adam, epoch, pretraining_training_loss)\n",
        "\n",
        "classifier.eval()\n",
        "with torch.no_grad():\n",
        "    loss, _ = classification_test(classifier, encoder, val_dataloader, cross_entropy, epoch, pretraining_validation_loss)\n",
        "    if loss < min_loss:\n",
        "            min_loss = loss\n",
        "            torch.save({'classifier': classifier.state_dict(),\n",
        "                        'encoder': encoder.state_dict()},\n",
        "                       'best_pretrain.pt')"
      ],
      "execution_count": 38,
      "outputs": [
        {
          "output_type": "stream",
          "text": [
            "[1, test] loss: 5.721 accuracy: 10.600\n",
            "[1, 0] loss: 5.565\n",
            "[2, test] loss: 3.851 accuracy: 11.000\n",
            "[2, 0] loss: 3.794\n",
            "[3, test] loss: 3.189 accuracy: 21.200\n",
            "[3, 0] loss: 3.114\n",
            "[4, test] loss: 3.095 accuracy: 23.700\n",
            "[4, 0] loss: 3.018\n",
            "[5, test] loss: 3.086 accuracy: 25.767\n",
            "[5, 0] loss: 2.970\n",
            "[6, test] loss: 3.078 accuracy: 26.567\n",
            "[6, 0] loss: 2.960\n",
            "[7, test] loss: 2.855 accuracy: 26.300\n",
            "[7, 0] loss: 2.746\n",
            "[8, test] loss: 2.544 accuracy: 29.067\n",
            "[8, 0] loss: 2.454\n",
            "[9, test] loss: 2.283 accuracy: 35.733\n",
            "[9, 0] loss: 2.182\n",
            "[10, test] loss: 2.130 accuracy: 41.567\n",
            "[10, 0] loss: 2.003\n",
            "[11, test] loss: 2.021 accuracy: 44.867\n",
            "[11, 0] loss: 1.876\n",
            "[12, test] loss: 1.885 accuracy: 47.300\n",
            "[12, 0] loss: 1.715\n",
            "[13, test] loss: 1.734 accuracy: 50.633\n",
            "[13, 0] loss: 1.523\n",
            "[14, test] loss: 1.640 accuracy: 52.800\n",
            "[14, 0] loss: 1.366\n",
            "[15, test] loss: 1.633 accuracy: 51.533\n",
            "[15, 0] loss: 1.297\n",
            "[16, test] loss: 1.654 accuracy: 49.300\n",
            "[16, 0] loss: 1.271\n",
            "[17, test] loss: 1.640 accuracy: 49.133\n",
            "[17, 0] loss: 1.235\n",
            "[18, test] loss: 1.572 accuracy: 50.900\n",
            "[18, 0] loss: 1.165\n",
            "[19, test] loss: 1.460 accuracy: 53.567\n",
            "[19, 0] loss: 1.063\n",
            "[20, test] loss: 1.324 accuracy: 57.967\n",
            "[20, 0] loss: 0.941\n",
            "[20, test] loss: 1.195 accuracy: 61.933\n"
          ],
          "name": "stdout"
        }
      ]
    },
    {
      "cell_type": "code",
      "metadata": {
        "colab_type": "code",
        "id": "3g7sNGZChB9G",
        "outputId": "adcbc99a-a5ab-48ff-9839-4bbc4362926b",
        "colab": {
          "base_uri": "https://localhost:8080/",
          "height": 295
        }
      },
      "source": [
        "plt.title('Pretraining classification loss curves')\n",
        "plt.plot(pretraining_training_loss, label='training loss')\n",
        "plt.plot(np.linspace(0, len(pretraining_training_loss), len(pretraining_validation_loss)), pretraining_validation_loss, '-x', label='validation loss')\n",
        "plt.xlabel('iteration')\n",
        "plt.ylabel('cross entropy')\n",
        "plt.legend();"
      ],
      "execution_count": 39,
      "outputs": [
        {
          "output_type": "display_data",
          "data": {
            "image/png": "[encoded data removed]",
            "text/plain": [
              "<Figure size 432x288 with 1 Axes>"
            ]
          },
          "metadata": {
            "tags": []
          }
        }
      ]
    },
    {
      "cell_type": "code",
      "metadata": {
        "colab_type": "code",
        "id": "f8HSHSVvRmjS",
        "colab": {}
      },
      "source": [
        "test_dataloader = torch.utils.data.DataLoader(mnist_test, batch_size=BATCH_SIZE)"
      ],
      "execution_count": 0,
      "outputs": []
    },
    {
      "cell_type": "code",
      "metadata": {
        "colab_type": "code",
        "id": "B2dNc7aeap_8",
        "outputId": "63502219-bd30-4dec-fdf8-2b3ac5a6ad99",
        "colab": {
          "base_uri": "https://localhost:8080/",
          "height": 34
        }
      },
      "source": [
        "classification_test(classifier, encoder, test_dataloader, cross_entropy, epoch, []);"
      ],
      "execution_count": 41,
      "outputs": [
        {
          "output_type": "stream",
          "text": [
            "[20, test] loss: 1.126 accuracy: 63.740\n"
          ],
          "name": "stdout"
        }
      ]
    },
    {
      "cell_type": "markdown",
      "metadata": {
        "id": "W9uv_fV2z3BX",
        "colab_type": "text"
      },
      "source": [
        "We can see a steady decrease in the training and validation losses."
      ]
    },
    {
      "cell_type": "markdown",
      "metadata": {
        "colab_type": "text",
        "id": "27T_v5UkjACE"
      },
      "source": [
        "## Pretrain + Fine-tuning"
      ]
    },
    {
      "cell_type": "markdown",
      "metadata": {
        "id": "83OE5e2l0D0p",
        "colab_type": "text"
      },
      "source": [
        "In this section we will continue training the model, but we will update the encoder too with a small learning rate. "
      ]
    },
    {
      "cell_type": "markdown",
      "metadata": {
        "colab_type": "text",
        "id": "BZgsgSfHmYWH"
      },
      "source": [
        "We modify the optimizer in order to have different learning rates for the encoder and the classifier.\n",
        "\n",
        "The `classification_test` function doesn't need to be modified."
      ]
    },
    {
      "cell_type": "markdown",
      "metadata": {
        "colab_type": "text",
        "id": "JZUYo_X3m9D3"
      },
      "source": [
        "We define a new Adam optimizer for the encoder network with a small learning rate of 0.0001. The classification network optimizer is reused."
      ]
    },
    {
      "cell_type": "code",
      "metadata": {
        "colab_type": "code",
        "id": "-PPua7XNEoiy",
        "colab": {}
      },
      "source": [
        "optimizer_adam = torch.optim.Adam([\n",
        "    {\"params\": classifier.parameters()},\n",
        "    {\"params\": encoder.parameters(), \"lr\":0.0001}\n",
        "])"
      ],
      "execution_count": 0,
      "outputs": []
    },
    {
      "cell_type": "markdown",
      "metadata": {
        "colab_type": "text",
        "id": "lxBX3gRtnOV9"
      },
      "source": [
        "Note that we don't redefine the `training_loss` and `validation_loss` list, so they will have the values of the pretraining stage too."
      ]
    },
    {
      "cell_type": "code",
      "metadata": {
        "colab_type": "code",
        "id": "RdqDkdgwjACN",
        "outputId": "97428b70-b334-4d79-9f73-4628b5a83f25",
        "colab": {
          "base_uri": "https://localhost:8080/",
          "height": 714
        }
      },
      "source": [
        "min_loss = float('inf')\n",
        "\n",
        "for epoch in range(EPOCHS_FINETUNING):\n",
        "    classifier.eval()\n",
        "    encoder.eval()\n",
        "    with torch.no_grad():\n",
        "        loss, _ = classification_test(classifier, encoder, val_dataloader, cross_entropy, epoch, pretraining_validation_loss)\n",
        "        if loss < min_loss:\n",
        "            min_loss = loss\n",
        "            torch.save({'classifier': classifier.state_dict(),\n",
        "                        'encoder': encoder.state_dict()},\n",
        "                       'best_pretraining+fine-tuning.pt')\n",
        "    classifier.train()\n",
        "    encoder.train()\n",
        "    classification_train(classifier, encoder, subset_dataloader,\n",
        "                         cross_entropy, optimizer_adam, epoch, pretraining_training_loss)\n",
        "\n",
        "classifier.eval()\n",
        "encoder.eval()\n",
        "with torch.no_grad():\n",
        "    loss, _ = classification_test(classifier, encoder, val_dataloader, cross_entropy, epoch, pretraining_validation_loss)\n",
        "    if loss < min_loss:\n",
        "            min_loss = loss\n",
        "            torch.save({'classifier': classifier.state_dict(),\n",
        "                        'encoder': encoder.state_dict()},\n",
        "                       'best_pretraining+fine-tuning.pt')"
      ],
      "execution_count": 43,
      "outputs": [
        {
          "output_type": "stream",
          "text": [
            "[1, test] loss: 1.195 accuracy: 61.933\n",
            "[1, 0] loss: 0.830\n",
            "[2, test] loss: 1.152 accuracy: 63.667\n",
            "[2, 0] loss: 0.802\n",
            "[3, test] loss: 1.123 accuracy: 65.033\n",
            "[3, 0] loss: 0.787\n",
            "[4, test] loss: 1.104 accuracy: 65.800\n",
            "[4, 0] loss: 0.777\n",
            "[5, test] loss: 1.088 accuracy: 66.033\n",
            "[5, 0] loss: 0.766\n",
            "[6, test] loss: 1.075 accuracy: 66.533\n",
            "[6, 0] loss: 0.755\n",
            "[7, test] loss: 1.064 accuracy: 66.867\n",
            "[7, 0] loss: 0.742\n",
            "[8, test] loss: 1.054 accuracy: 67.167\n",
            "[8, 0] loss: 0.728\n",
            "[9, test] loss: 1.045 accuracy: 67.333\n",
            "[9, 0] loss: 0.715\n",
            "[10, test] loss: 1.038 accuracy: 67.767\n",
            "[10, 0] loss: 0.702\n",
            "[11, test] loss: 1.032 accuracy: 67.967\n",
            "[11, 0] loss: 0.690\n",
            "[12, test] loss: 1.026 accuracy: 68.133\n",
            "[12, 0] loss: 0.678\n",
            "[13, test] loss: 1.021 accuracy: 68.167\n",
            "[13, 0] loss: 0.667\n",
            "[14, test] loss: 1.014 accuracy: 68.367\n",
            "[14, 0] loss: 0.656\n",
            "[15, test] loss: 1.007 accuracy: 68.467\n",
            "[15, 0] loss: 0.645\n",
            "[16, test] loss: 0.998 accuracy: 68.667\n",
            "[16, 0] loss: 0.633\n",
            "[17, test] loss: 0.988 accuracy: 68.933\n",
            "[17, 0] loss: 0.622\n",
            "[18, test] loss: 0.977 accuracy: 69.200\n",
            "[18, 0] loss: 0.611\n",
            "[19, test] loss: 0.966 accuracy: 69.567\n",
            "[19, 0] loss: 0.601\n",
            "[20, test] loss: 0.955 accuracy: 70.033\n",
            "[20, 0] loss: 0.590\n",
            "[20, test] loss: 0.944 accuracy: 70.433\n"
          ],
          "name": "stdout"
        }
      ]
    },
    {
      "cell_type": "code",
      "metadata": {
        "colab_type": "code",
        "id": "ge4JD9dpaYXZ",
        "outputId": "87e9915b-ab66-4953-ff48-8ac9001570f7",
        "colab": {
          "base_uri": "https://localhost:8080/",
          "height": 295
        }
      },
      "source": [
        "plt.title('Fine-tunning classification loss curves')\n",
        "plt.plot(pretraining_training_loss, label='training loss')\n",
        "plt.plot(np.linspace(0, len(pretraining_training_loss), len(pretraining_validation_loss)), pretraining_validation_loss, '-x', label='validation loss')\n",
        "plt.xlabel('iteration')\n",
        "plt.ylabel('cross entropy')\n",
        "plt.legend();"
      ],
      "execution_count": 44,
      "outputs": [
        {
          "output_type": "display_data",
          "data": {
            "image/png": "[encoded data removed]",
            "text/plain": [
              "<Figure size 432x288 with 1 Axes>"
            ]
          },
          "metadata": {
            "tags": []
          }
        }
      ]
    },
    {
      "cell_type": "code",
      "metadata": {
        "colab_type": "code",
        "id": "zMB42WyHPNmA",
        "outputId": "2f6aeef2-85b8-436b-e9a4-11722fff1aaf",
        "colab": {
          "base_uri": "https://localhost:8080/",
          "height": 34
        }
      },
      "source": [
        "classification_test(classifier, encoder, test_dataloader, cross_entropy, epoch, []);"
      ],
      "execution_count": 45,
      "outputs": [
        {
          "output_type": "stream",
          "text": [
            "[20, test] loss: 0.875 accuracy: 72.540\n"
          ],
          "name": "stdout"
        }
      ]
    },
    {
      "cell_type": "markdown",
      "metadata": {
        "id": "dXaav9_60TKZ",
        "colab_type": "text"
      },
      "source": [
        "The losses continue decreasing, although at a slower peace."
      ]
    },
    {
      "cell_type": "markdown",
      "metadata": {
        "colab_type": "text",
        "id": "6bOuf5XxEoi6"
      },
      "source": [
        "## Fine-tuning"
      ]
    },
    {
      "cell_type": "markdown",
      "metadata": {
        "id": "JF0Eiwpt0fA3",
        "colab_type": "text"
      },
      "source": [
        "In this section we will train attach a classifier to the encoder from the autoencoder and train both from the start, with a smaller learning rate for the encoder."
      ]
    },
    {
      "cell_type": "code",
      "metadata": {
        "colab_type": "code",
        "id": "thwBf-MrEoi7",
        "colab": {}
      },
      "source": [
        "encoder = ConvolutionalAutoencoderReducedLatentDim(\n",
        "    input_shape=(28, 28),\n",
        "    n_blocks=2,\n",
        "    downsampling_method='max-pooling',\n",
        "    upsampling_method='nearest',\n",
        "    layers_per_block=2,\n",
        "    latent_dimensionality=bottleneck_size\n",
        ").encoder.to(device)\n",
        "encoder.load_state_dict(autoencoder_checkpoint[\"encoder\"])\n",
        "# Define classification layer.\n",
        "classifier = torch.nn.Linear(bottleneck_size, 10).to(device)"
      ],
      "execution_count": 0,
      "outputs": []
    },
    {
      "cell_type": "code",
      "metadata": {
        "colab_type": "code",
        "id": "R7dpDhjUMbx0",
        "colab": {}
      },
      "source": [
        "optimizer_adam = torch.optim.Adam([\n",
        "    {'params': classifier.parameters(), 'lr': 1e-2},\n",
        "    {'params': encoder.parameters(), 'lr': 1e-5}\n",
        "], lr=1e-3)"
      ],
      "execution_count": 0,
      "outputs": []
    },
    {
      "cell_type": "code",
      "metadata": {
        "colab_type": "code",
        "id": "77x5A8L9Eoi8",
        "outputId": "dcca2ab7-defa-45d1-cd2a-3050bd681a9d",
        "scrolled": true,
        "colab": {
          "base_uri": "https://localhost:8080/",
          "height": 1000
        }
      },
      "source": [
        "finetuning_training_loss = []\n",
        "finetuning_validation_loss = []\n",
        "min_loss = float('inf')\n",
        "\n",
        "for epoch in range(EPOCHS_PRETRAINING + EPOCHS_FINETUNING):\n",
        "    classifier.eval()\n",
        "    encoder.eval()\n",
        "    with torch.no_grad():\n",
        "        loss, _ = classification_test(classifier, encoder, val_dataloader, cross_entropy, epoch, finetuning_validation_loss)\n",
        "        if loss < min_loss:\n",
        "            min_loss = loss\n",
        "            torch.save({'classifier': classifier.state_dict(),\n",
        "                        'encoder': encoder.state_dict()},\n",
        "                       'best_fine-tuning.pt')\n",
        "    classifier.train()\n",
        "    encoder.train()\n",
        "    classification_train(classifier, encoder, subset_dataloader,\n",
        "                         cross_entropy, optimizer_adam, epoch, finetuning_training_loss)\n",
        "\n",
        "classifier.eval()\n",
        "encoder.eval()\n",
        "with torch.no_grad():\n",
        "    loss, _ = classification_test(classifier, encoder, val_dataloader, cross_entropy, epoch, finetuning_validation_loss)\n",
        "    if loss < min_loss:\n",
        "            min_loss = loss\n",
        "            torch.save({'classifier': classifier.state_dict(),\n",
        "                        'encoder': encoder.state_dict()},\n",
        "                       'best_fine-tuning.pt')"
      ],
      "execution_count": 48,
      "outputs": [
        {
          "output_type": "stream",
          "text": [
            "[1, test] loss: 6.546 accuracy: 8.100\n",
            "[1, 0] loss: 7.378\n",
            "[2, test] loss: 5.078 accuracy: 2.200\n",
            "[2, 0] loss: 5.459\n",
            "[3, test] loss: 4.151 accuracy: 2.933\n",
            "[3, 0] loss: 4.364\n",
            "[4, test] loss: 4.150 accuracy: 5.467\n",
            "[4, 0] loss: 4.293\n",
            "[5, test] loss: 4.407 accuracy: 7.400\n",
            "[5, 0] loss: 4.527\n",
            "[6, test] loss: 4.339 accuracy: 8.733\n",
            "[6, 0] loss: 4.385\n",
            "[7, test] loss: 3.961 accuracy: 9.800\n",
            "[7, 0] loss: 3.897\n",
            "[8, test] loss: 3.521 accuracy: 10.433\n",
            "[8, 0] loss: 3.325\n",
            "[9, test] loss: 3.283 accuracy: 9.600\n",
            "[9, 0] loss: 2.988\n",
            "[10, test] loss: 3.257 accuracy: 11.100\n",
            "[10, 0] loss: 2.925\n",
            "[11, test] loss: 3.181 accuracy: 14.667\n",
            "[11, 0] loss: 2.835\n",
            "[12, test] loss: 2.927 accuracy: 20.033\n",
            "[12, 0] loss: 2.570\n",
            "[13, test] loss: 2.582 accuracy: 26.200\n",
            "[13, 0] loss: 2.217\n",
            "[14, test] loss: 2.322 accuracy: 33.533\n",
            "[14, 0] loss: 1.972\n",
            "[15, test] loss: 2.179 accuracy: 39.900\n",
            "[15, 0] loss: 1.858\n",
            "[16, test] loss: 2.047 accuracy: 43.667\n",
            "[16, 0] loss: 1.733\n",
            "[17, test] loss: 1.887 accuracy: 47.533\n",
            "[17, 0] loss: 1.567\n",
            "[18, test] loss: 1.720 accuracy: 50.700\n",
            "[18, 0] loss: 1.408\n",
            "[19, test] loss: 1.568 accuracy: 54.933\n",
            "[19, 0] loss: 1.283\n",
            "[20, test] loss: 1.434 accuracy: 56.233\n",
            "[20, 0] loss: 1.183\n",
            "[21, test] loss: 1.325 accuracy: 57.500\n",
            "[21, 0] loss: 1.101\n",
            "[22, test] loss: 1.248 accuracy: 59.000\n",
            "[22, 0] loss: 1.036\n",
            "[23, test] loss: 1.195 accuracy: 61.400\n",
            "[23, 0] loss: 0.978\n",
            "[24, test] loss: 1.151 accuracy: 63.267\n",
            "[24, 0] loss: 0.916\n",
            "[25, test] loss: 1.110 accuracy: 65.533\n",
            "[25, 0] loss: 0.849\n",
            "[26, test] loss: 1.079 accuracy: 67.367\n",
            "[26, 0] loss: 0.790\n",
            "[27, test] loss: 1.058 accuracy: 68.767\n",
            "[27, 0] loss: 0.740\n",
            "[28, test] loss: 1.040 accuracy: 69.767\n",
            "[28, 0] loss: 0.694\n",
            "[29, test] loss: 1.021 accuracy: 70.467\n",
            "[29, 0] loss: 0.652\n",
            "[30, test] loss: 1.005 accuracy: 71.133\n",
            "[30, 0] loss: 0.620\n",
            "[31, test] loss: 0.992 accuracy: 71.233\n",
            "[31, 0] loss: 0.596\n",
            "[32, test] loss: 0.975 accuracy: 71.133\n",
            "[32, 0] loss: 0.576\n",
            "[33, test] loss: 0.951 accuracy: 71.733\n",
            "[33, 0] loss: 0.554\n",
            "[34, test] loss: 0.919 accuracy: 72.367\n",
            "[34, 0] loss: 0.529\n",
            "[35, test] loss: 0.881 accuracy: 73.367\n",
            "[35, 0] loss: 0.502\n",
            "[36, test] loss: 0.842 accuracy: 74.567\n",
            "[36, 0] loss: 0.478\n",
            "[37, test] loss: 0.804 accuracy: 75.500\n",
            "[37, 0] loss: 0.458\n",
            "[38, test] loss: 0.768 accuracy: 76.500\n",
            "[38, 0] loss: 0.440\n",
            "[39, test] loss: 0.737 accuracy: 77.300\n",
            "[39, 0] loss: 0.425\n",
            "[40, test] loss: 0.710 accuracy: 79.000\n",
            "[40, 0] loss: 0.411\n",
            "[40, test] loss: 0.689 accuracy: 79.967\n"
          ],
          "name": "stdout"
        }
      ]
    },
    {
      "cell_type": "code",
      "metadata": {
        "colab_type": "code",
        "id": "ALjFferxPcR4",
        "outputId": "65897fe6-57f3-4e84-84ef-bc3f8adc73eb",
        "colab": {
          "base_uri": "https://localhost:8080/",
          "height": 295
        }
      },
      "source": [
        "plt.title('Fine-tunning classification loss curves')\n",
        "plt.plot(finetuning_training_loss, label='training loss')\n",
        "plt.plot(np.linspace(0, len(finetuning_training_loss), len(finetuning_validation_loss)), finetuning_validation_loss, '-x', label='validation loss')\n",
        "plt.xlabel('iteration')\n",
        "plt.ylabel('cross entropy')\n",
        "plt.legend();"
      ],
      "execution_count": 49,
      "outputs": [
        {
          "output_type": "display_data",
          "data": {
            "image/png": "[encoded data removed]",
            "text/plain": [
              "<Figure size 432x288 with 1 Axes>"
            ]
          },
          "metadata": {
            "tags": []
          }
        }
      ]
    },
    {
      "cell_type": "markdown",
      "metadata": {
        "id": "aPERMyax0-iC",
        "colab_type": "text"
      },
      "source": [
        "We obtain better accuracy than with the previous method. It looks like the loss is starting to settle."
      ]
    },
    {
      "cell_type": "markdown",
      "metadata": {
        "colab_type": "text",
        "id": "3mVz45k1PWee"
      },
      "source": [
        "## From scratch"
      ]
    },
    {
      "cell_type": "markdown",
      "metadata": {
        "id": "CDVxTlcV1RB8",
        "colab_type": "text"
      },
      "source": [
        "In this section we will train a classifier with the same convolutional-encoder + fully-connected architecture as the previous model, but without pretraining the encoder part with and autoencoder."
      ]
    },
    {
      "cell_type": "code",
      "metadata": {
        "colab_type": "code",
        "id": "n8s58B_XoSis",
        "colab": {}
      },
      "source": [
        "new_autoencoder = ConvolutionalAutoencoderReducedLatentDim(\n",
        "    input_shape=(28, 28),\n",
        "    n_blocks=2,\n",
        "    downsampling_method='max-pooling',\n",
        "    upsampling_method='nearest',\n",
        "    layers_per_block=2,\n",
        "    latent_dimensionality=50\n",
        ").to(device)\n",
        "\n",
        "new_classifier = torch.nn.Sequential(\n",
        "    new_autoencoder.encoder,\n",
        "    torch.nn.Linear(50, 10)\n",
        ").to(device)"
      ],
      "execution_count": 0,
      "outputs": []
    },
    {
      "cell_type": "code",
      "metadata": {
        "colab_type": "code",
        "id": "4DjdCLKOPqBJ",
        "colab": {}
      },
      "source": [
        "def new_classification_train(classifier, dataloader, criterion, classifier_optimizer, epoch, loss_history):\n",
        "    for i, (images, labels) in enumerate(dataloader):\n",
        "        images, labels = images.to(device), labels.to(device, torch.long)\n",
        "        classifier_optimizer.zero_grad()\n",
        "        # To latent space + Classify from latent space.\n",
        "        outputs = classifier(images)\n",
        "        loss = criterion(outputs, labels)\n",
        "        loss.backward()              # Backprop.\n",
        "        classifier_optimizer.step()  # Update parameters.\n",
        "\n",
        "        loss_history.append(loss.item())\n",
        "        print('[%d, %d] loss: %.3f' % (epoch + 1, i, loss.item()))"
      ],
      "execution_count": 0,
      "outputs": []
    },
    {
      "cell_type": "code",
      "metadata": {
        "colab_type": "code",
        "id": "gJnplDxAQCJQ",
        "colab": {}
      },
      "source": [
        "def new_classification_test(classifier, dataloader, criterion, epoch, loss_history):\n",
        "    loss = 0\n",
        "    total = 0\n",
        "    correct = 0\n",
        "    for i, (images, labels) in enumerate(dataloader):\n",
        "        images, labels = images.to(device), labels.to(device, torch.long)\n",
        "        outputs = classifier(images)\n",
        "        loss += criterion(outputs, labels).item()\n",
        "        # Compute average accuracy.\n",
        "        _, predicted = torch.max(outputs.data, 1)\n",
        "        total += labels.size(0)\n",
        "        correct += (predicted == labels).sum().item()\n",
        "\n",
        "    mean_loss = loss / (i + 1)\n",
        "    acc = 100 * correct / total\n",
        "    loss_history.append(mean_loss)  \n",
        "    print('[%d, validation] loss: %.3f accuracy: %.3f' % (epoch + 1, mean_loss, acc))\n",
        "    return mean_loss, acc"
      ],
      "execution_count": 0,
      "outputs": []
    },
    {
      "cell_type": "code",
      "metadata": {
        "colab_type": "code",
        "id": "iHljTyDkQINO",
        "colab": {}
      },
      "source": [
        "cross_entropy = torch.nn.CrossEntropyLoss()\n",
        "new_classifier_adam = torch.optim.Adam(new_classifier.parameters(), lr=0.001)"
      ],
      "execution_count": 0,
      "outputs": []
    },
    {
      "cell_type": "code",
      "metadata": {
        "colab_type": "code",
        "id": "Po-AZQH0QSsc",
        "outputId": "1e40d033-f556-4031-fbec-47aa86d21b00",
        "colab": {
          "base_uri": "https://localhost:8080/",
          "height": 1000
        }
      },
      "source": [
        "new_training_loss = []\n",
        "new_validation_loss = []\n",
        "min_loss = float('inf')\n",
        "\n",
        "for epoch in range(EPOCHS_AUTOENCODER + EPOCHS_PRETRAINING + EPOCHS_FINETUNING):\n",
        "    new_classifier.eval()\n",
        "    with torch.no_grad():\n",
        "        loss, _ = new_classification_test(new_classifier, val_dataloader, cross_entropy, epoch, new_validation_loss)\n",
        "        if loss < min_loss:\n",
        "            min_loss = loss\n",
        "            torch.save(new_classifier.state_dict(), 'best_from-scratch.pt')\n",
        "    new_classifier.train()\n",
        "    new_classification_train(new_classifier, subset_dataloader,\n",
        "                         cross_entropy, new_classifier_adam, epoch, new_training_loss)\n",
        "\n",
        "new_classifier.eval()\n",
        "with torch.no_grad():\n",
        "    loss, _ = new_classification_test(new_classifier, val_dataloader, cross_entropy, epoch, new_validation_loss)\n",
        "    if loss < min_loss:\n",
        "        min_loss = loss\n",
        "        torch.save(new_classifier.state_dict(), 'best_from-scratch.pt')"
      ],
      "execution_count": 54,
      "outputs": [
        {
          "output_type": "stream",
          "text": [
            "[1, validation] loss: 2.307 accuracy: 10.033\n",
            "[1, 0] loss: 2.304\n",
            "[2, validation] loss: 2.306 accuracy: 9.333\n",
            "[2, 0] loss: 2.300\n",
            "[3, validation] loss: 2.302 accuracy: 11.200\n",
            "[3, 0] loss: 2.291\n",
            "[4, validation] loss: 2.293 accuracy: 15.433\n",
            "[4, 0] loss: 2.272\n",
            "[5, validation] loss: 2.282 accuracy: 11.633\n",
            "[5, 0] loss: 2.237\n",
            "[6, validation] loss: 2.296 accuracy: 9.867\n",
            "[6, 0] loss: 2.198\n",
            "[7, validation] loss: 2.266 accuracy: 9.900\n",
            "[7, 0] loss: 2.133\n",
            "[8, validation] loss: 2.170 accuracy: 20.033\n",
            "[8, 0] loss: 2.027\n",
            "[9, validation] loss: 2.047 accuracy: 46.767\n",
            "[9, 0] loss: 1.876\n",
            "[10, validation] loss: 1.875 accuracy: 53.300\n",
            "[10, 0] loss: 1.650\n",
            "[11, validation] loss: 1.668 accuracy: 58.067\n",
            "[11, 0] loss: 1.381\n",
            "[12, validation] loss: 1.467 accuracy: 60.533\n",
            "[12, 0] loss: 1.128\n",
            "[13, validation] loss: 1.400 accuracy: 58.133\n",
            "[13, 0] loss: 0.944\n",
            "[14, validation] loss: 1.239 accuracy: 62.933\n",
            "[14, 0] loss: 0.788\n",
            "[15, validation] loss: 1.332 accuracy: 60.133\n",
            "[15, 0] loss: 0.713\n",
            "[16, validation] loss: 1.373 accuracy: 61.567\n",
            "[16, 0] loss: 0.835\n",
            "[17, validation] loss: 1.260 accuracy: 65.933\n",
            "[17, 0] loss: 0.635\n",
            "[18, validation] loss: 1.372 accuracy: 63.933\n",
            "[18, 0] loss: 0.613\n",
            "[19, validation] loss: 1.176 accuracy: 67.067\n",
            "[19, 0] loss: 0.442\n",
            "[20, validation] loss: 1.074 accuracy: 70.067\n",
            "[20, 0] loss: 0.426\n",
            "[21, validation] loss: 0.984 accuracy: 72.900\n",
            "[21, 0] loss: 0.343\n",
            "[22, validation] loss: 1.014 accuracy: 71.933\n",
            "[22, 0] loss: 0.334\n",
            "[23, validation] loss: 0.984 accuracy: 72.667\n",
            "[23, 0] loss: 0.265\n",
            "[24, validation] loss: 0.930 accuracy: 74.800\n",
            "[24, 0] loss: 0.211\n",
            "[25, validation] loss: 0.918 accuracy: 75.767\n",
            "[25, 0] loss: 0.202\n",
            "[26, validation] loss: 0.939 accuracy: 75.167\n",
            "[26, 0] loss: 0.151\n",
            "[27, validation] loss: 1.028 accuracy: 73.467\n",
            "[27, 0] loss: 0.134\n",
            "[28, validation] loss: 1.019 accuracy: 74.933\n",
            "[28, 0] loss: 0.089\n",
            "[29, validation] loss: 1.018 accuracy: 77.033\n",
            "[29, 0] loss: 0.066\n",
            "[30, validation] loss: 1.085 accuracy: 76.900\n",
            "[30, 0] loss: 0.065\n",
            "[31, validation] loss: 1.145 accuracy: 76.733\n",
            "[31, 0] loss: 0.049\n",
            "[32, validation] loss: 1.209 accuracy: 75.867\n",
            "[32, 0] loss: 0.031\n",
            "[33, validation] loss: 1.255 accuracy: 76.067\n",
            "[33, 0] loss: 0.024\n",
            "[34, validation] loss: 1.272 accuracy: 76.733\n",
            "[34, 0] loss: 0.015\n",
            "[35, validation] loss: 1.299 accuracy: 77.967\n",
            "[35, 0] loss: 0.012\n",
            "[36, validation] loss: 1.353 accuracy: 78.267\n",
            "[36, 0] loss: 0.013\n",
            "[37, validation] loss: 1.417 accuracy: 78.433\n",
            "[37, 0] loss: 0.011\n",
            "[38, validation] loss: 1.489 accuracy: 78.133\n",
            "[38, 0] loss: 0.007\n",
            "[39, validation] loss: 1.576 accuracy: 77.500\n",
            "[39, 0] loss: 0.005\n",
            "[40, validation] loss: 1.658 accuracy: 77.367\n",
            "[40, 0] loss: 0.005\n",
            "[41, validation] loss: 1.717 accuracy: 77.600\n",
            "[41, 0] loss: 0.003\n",
            "[42, validation] loss: 1.767 accuracy: 78.000\n",
            "[42, 0] loss: 0.002\n",
            "[43, validation] loss: 1.826 accuracy: 77.967\n",
            "[43, 0] loss: 0.001\n",
            "[44, validation] loss: 1.896 accuracy: 77.567\n",
            "[44, 0] loss: 0.001\n",
            "[45, validation] loss: 1.975 accuracy: 77.600\n",
            "[45, 0] loss: 0.001\n",
            "[46, validation] loss: 2.055 accuracy: 77.300\n",
            "[46, 0] loss: 0.001\n",
            "[47, validation] loss: 2.131 accuracy: 77.100\n",
            "[47, 0] loss: 0.001\n",
            "[48, validation] loss: 2.200 accuracy: 76.967\n",
            "[48, 0] loss: 0.001\n",
            "[49, validation] loss: 2.255 accuracy: 76.867\n",
            "[49, 0] loss: 0.001\n",
            "[50, validation] loss: 2.296 accuracy: 76.833\n",
            "[50, 0] loss: 0.000\n",
            "[50, validation] loss: 2.328 accuracy: 76.833\n"
          ],
          "name": "stdout"
        }
      ]
    },
    {
      "cell_type": "code",
      "metadata": {
        "colab_type": "code",
        "id": "q1sJt-axRznj",
        "outputId": "4bc90e6a-ebac-49ff-bd0b-bbf01fb80073",
        "scrolled": true,
        "colab": {
          "base_uri": "https://localhost:8080/",
          "height": 295
        }
      },
      "source": [
        "plt.title('From scratch classification loss curves')\n",
        "plt.plot(new_training_loss, label='training loss')\n",
        "plt.plot(np.linspace(0, len(new_training_loss), len(new_validation_loss)), new_validation_loss, '-x', label='validation loss')\n",
        "plt.xlabel('iteration')\n",
        "plt.ylabel('cross entropy')\n",
        "plt.legend();"
      ],
      "execution_count": 55,
      "outputs": [
        {
          "output_type": "display_data",
          "data": {
            "image/png": "[encoded data removed]",
            "text/plain": [
              "<Figure size 432x288 with 1 Axes>"
            ]
          },
          "metadata": {
            "tags": []
          }
        }
      ]
    },
    {
      "cell_type": "markdown",
      "metadata": {
        "colab_type": "text",
        "id": "lWd8_HtUSguK"
      },
      "source": [
        "This learning curves show clear symptoms of overfitting. As the training set is so small, it perfectly fits it, but the validation error goes up."
      ]
    },
    {
      "cell_type": "code",
      "metadata": {
        "colab_type": "code",
        "id": "f9GyHMWoRDjZ",
        "outputId": "c1418e53-9adb-468a-a2bc-f1f5cfcd5f5b",
        "colab": {
          "base_uri": "https://localhost:8080/",
          "height": 34
        }
      },
      "source": [
        "new_classification_test(new_classifier, test_dataloader, cross_entropy, epoch, []);"
      ],
      "execution_count": 56,
      "outputs": [
        {
          "output_type": "stream",
          "text": [
            "[50, validation] loss: 2.306 accuracy: 79.040\n"
          ],
          "name": "stdout"
        }
      ]
    },
    {
      "cell_type": "markdown",
      "metadata": {
        "colab_type": "text",
        "id": "IAs0TTL4VXcM"
      },
      "source": [
        "## Comparison"
      ]
    },
    {
      "cell_type": "markdown",
      "metadata": {
        "colab_type": "text",
        "id": "NSHVbYMIcWKi"
      },
      "source": [
        "Load best models (early-stopping)."
      ]
    },
    {
      "cell_type": "code",
      "metadata": {
        "colab_type": "code",
        "id": "_-Mvz-UgVZ0j",
        "pycharm": {
          "name": "#%%\n"
        },
        "colab": {}
      },
      "source": [
        "autoencoder_pretrain = ConvolutionalAutoencoderReducedLatentDim(\n",
        "    input_shape=(28, 28),\n",
        "    n_blocks=2,\n",
        "    downsampling_method='max-pooling',\n",
        "    upsampling_method='nearest',\n",
        "    layers_per_block=2,\n",
        "    latent_dimensionality=bottleneck_size\n",
        ").to(device)\n",
        "classifier_pretrain = torch.nn.Linear(bottleneck_size, 10).to(device)\n",
        "\n",
        "pretrain_checkpoint = torch.load('best_pretrain.pt')\n",
        "autoencoder_pretrain.encoder.load_state_dict(pretrain_checkpoint['encoder'])\n",
        "classifier_pretrain.load_state_dict(pretrain_checkpoint['classifier'])\n",
        "\n",
        "autoencoder_finetuning = ConvolutionalAutoencoderReducedLatentDim(\n",
        "    input_shape=(28, 28),\n",
        "    n_blocks=2,\n",
        "    downsampling_method='max-pooling',\n",
        "    upsampling_method='nearest',\n",
        "    layers_per_block=2,\n",
        "    latent_dimensionality=bottleneck_size\n",
        ").to(device)\n",
        "classifier_finetuning = torch.nn.Linear(bottleneck_size, 10).to(device)\n",
        "\n",
        "finetuning_checkpoint = torch.load('best_fine-tuning.pt')\n",
        "autoencoder_finetuning.encoder.load_state_dict(finetuning_checkpoint['encoder'])\n",
        "classifier_finetuning.load_state_dict(finetuning_checkpoint['classifier'])\n",
        "\n",
        "autoencoder_pretrain_finetuning = ConvolutionalAutoencoderReducedLatentDim(\n",
        "    input_shape=(28, 28),\n",
        "    n_blocks=2,\n",
        "    downsampling_method='max-pooling',\n",
        "    upsampling_method='nearest',\n",
        "    layers_per_block=2,\n",
        "    latent_dimensionality=bottleneck_size\n",
        ").to(device)\n",
        "classifier_pretrain_finetuning= torch.nn.Linear(bottleneck_size, 10).to(device)\n",
        "\n",
        "pretrain_finetuning_checkpoint = torch.load('best_pretraining+fine-tuning.pt')\n",
        "autoencoder_pretrain_finetuning.encoder.load_state_dict(pretrain_finetuning_checkpoint['encoder'])\n",
        "classifier_pretrain_finetuning.load_state_dict(pretrain_finetuning_checkpoint['classifier'])\n",
        "\n",
        "autoencoder_fromscratch = ConvolutionalAutoencoderReducedLatentDim(\n",
        "    input_shape=(28, 28),\n",
        "    n_blocks=2,\n",
        "    downsampling_method='max-pooling',\n",
        "    upsampling_method='nearest',\n",
        "    layers_per_block=2,\n",
        "    latent_dimensionality=bottleneck_size\n",
        ").to(device)\n",
        "\n",
        "classifier_fromscratch = torch.nn.Sequential(\n",
        "    autoencoder_fromscratch.encoder,\n",
        "    torch.nn.Linear(bottleneck_size, 10)\n",
        ").to(device)\n",
        "\n",
        "classifier_fromscratch.load_state_dict(torch.load('best_from-scratch.pt'));"
      ],
      "execution_count": 0,
      "outputs": []
    },
    {
      "cell_type": "markdown",
      "metadata": {
        "colab_type": "text",
        "id": "_llxE7lmcqDZ",
        "pycharm": {
          "name": "#%% md\n"
        }
      },
      "source": [
        "Compare cross entropy loss and accuracy on validation and test sets."
      ]
    },
    {
      "cell_type": "code",
      "metadata": {
        "colab_type": "code",
        "id": "SIz4O90lcsdK",
        "outputId": "6f011f79-59b6-4e22-b874-daaf6c0330f3",
        "pycharm": {
          "name": "#%%\n"
        },
        "colab": {
          "base_uri": "https://localhost:8080/",
          "height": 425
        }
      },
      "source": [
        "tbl = PrettyTable()\n",
        "tbl.field_names = [\"model\",\"validation loss\", \"validation acc.\", \"test loss\", \"test acc.\"]\n",
        "pair_models = {\"pretrained\": (classifier_pretrain, autoencoder_pretrain.encoder), \n",
        "               \"pretrain+finetuning\": (classifier_pretrain_finetuning, autoencoder_pretrain_finetuning.encoder),\n",
        "               \"finetuned\": (classifier_finetuning, autoencoder_finetuning.encoder)\n",
        "              }\n",
        "losses = {\"pretrained\": None, \"pretrain+finetuning\": None, \"finetuned\": None, \"scratch\": None}\n",
        "for name, models in pair_models.items():\n",
        "    print(name + \" train:\")\n",
        "    val_loss, val_acc = classification_test(models[0], models[1], val_dataloader, cross_entropy, epoch, [])\n",
        "    print(name + \" test:\")\n",
        "    test_loss, test_acc = classification_test(models[0], models[1], test_dataloader, cross_entropy, epoch, [])\n",
        "    losses[name] = test_loss\n",
        "    tbl.add_row([name,val_loss,val_acc,test_loss,test_acc])\n",
        "\n",
        "print(\"scratch train\")\n",
        "val_loss, val_acc = new_classification_test(classifier_fromscratch, val_dataloader, cross_entropy, epoch, [])\n",
        "print(\"scratch test\")\n",
        "test_loss, test_acc = new_classification_test(classifier_fromscratch, test_dataloader, cross_entropy, epoch, [])\n",
        "losses[\"scratch\"] = test_loss\n",
        "tbl.add_row(\n",
        "    [\"scratch\", val_loss, val_acc, test_loss, test_acc])\n",
        "print(tbl)\n",
        "\n"
      ],
      "execution_count": 58,
      "outputs": [
        {
          "output_type": "stream",
          "text": [
            "pretrained train:\n",
            "[50, test] loss: 1.195 accuracy: 61.933\n",
            "pretrained test:\n",
            "[50, test] loss: 1.126 accuracy: 63.740\n",
            "pretrain+finetuning train:\n",
            "[50, test] loss: 0.944 accuracy: 70.433\n",
            "pretrain+finetuning test:\n",
            "[50, test] loss: 0.875 accuracy: 72.540\n",
            "finetuned train:\n",
            "[50, test] loss: 0.689 accuracy: 79.967\n",
            "finetuned test:\n",
            "[50, test] loss: 0.642 accuracy: 80.680\n",
            "scratch train\n",
            "[50, validation] loss: 0.918 accuracy: 75.767\n",
            "scratch test\n",
            "[50, validation] loss: 0.896 accuracy: 77.440\n",
            "+---------------------+--------------------+-------------------+--------------------+-----------+\n",
            "|        model        |  validation loss   |  validation acc.  |     test loss      | test acc. |\n",
            "+---------------------+--------------------+-------------------+--------------------+-----------+\n",
            "|      pretrained     | 1.195295164982478  | 61.93333333333333 |  1.12577568277528  |   63.74   |\n",
            "| pretrain+finetuning | 0.9442889740069708 | 70.43333333333334 | 0.8747085166882865 |   72.54   |\n",
            "|      finetuned      | 0.6893573626875877 | 79.96666666666667 | 0.642038263097594  |   80.68   |\n",
            "|       scratch       | 0.9182031278808912 | 75.76666666666667 | 0.8959325069113623 |   77.44   |\n",
            "+---------------------+--------------------+-------------------+--------------------+-----------+\n"
          ],
          "name": "stdout"
        }
      ]
    },
    {
      "cell_type": "code",
      "metadata": {
        "colab_type": "code",
        "id": "bT6u4qk0EojV",
        "outputId": "f115cd0b-e6ef-45a9-db19-f27967bab45c",
        "scrolled": true,
        "colab": {
          "base_uri": "https://localhost:8080/",
          "height": 295
        }
      },
      "source": [
        "models_names = tuple(losses.keys())\n",
        "loss = tuple(losses.values())\n",
        "y_pos = np.arange(len(loss))\n",
        "\n",
        "plt.bar(y_pos, loss, color=(\"r\", \"g\", \"b\", \"y\"))\n",
        "plt.xticks(y_pos, models_names)\n",
        "plt.xlabel(\"Model names\")\n",
        "plt.ylabel(\"Loss\")\n",
        "plt.title(\"Models loss, the lower the better\")\n",
        "plt.show();"
      ],
      "execution_count": 59,
      "outputs": [
        {
          "output_type": "display_data",
          "data": {
            "image/png": "[encoded data removed]",
            "text/plain": [
              "<Figure size 432x288 with 1 Axes>"
            ]
          },
          "metadata": {
            "tags": []
          }
        }
      ]
    },
    {
      "cell_type": "markdown",
      "metadata": {
        "id": "oGGK8hrX2CJ2",
        "colab_type": "text"
      },
      "source": [
        "As we can see, the best model is the \"finetune\" one. The autoencoder training process help the encoder learn general representations that then are finetuned along with the classifier network; this proceidure works best than first training the classifier without updating the encoder and then finetuning and also than training the whole network from scratch as this one quickly overfits."
      ]
    },
    {
      "cell_type": "code",
      "metadata": {
        "colab_type": "code",
        "id": "v-KZMZkkP6tw",
        "outputId": "1b7144b5-7254-4e74-9534-d559b8cd33f0",
        "colab": {
          "base_uri": "https://localhost:8080/",
          "height": 295
        }
      },
      "source": [
        "plt.title('classification loss curves')\n",
        "plt.plot(pretraining_validation_loss, '-x', label='pretraining loss')\n",
        "plt.plot(finetuning_validation_loss, '-o', label='finetuning loss')\n",
        "plt.plot(new_validation_loss, '-+', label='from-scratch loss')\n",
        "plt.xlabel('epoch')\n",
        "plt.ylabel('cross entropy')\n",
        "plt.legend();"
      ],
      "execution_count": 60,
      "outputs": [
        {
          "output_type": "display_data",
          "data": {
            "image/png": "[encoded data removed]",
            "text/plain": [
              "<Figure size 432x288 with 1 Axes>"
            ]
          },
          "metadata": {
            "tags": []
          }
        }
      ]
    },
    {
      "cell_type": "markdown",
      "metadata": {
        "id": "equAFaug4CBa",
        "colab_type": "text"
      },
      "source": [
        "The pratraining and finetuning loss curves look very similar, as they are in fact similar processes. The from-scratch loss curves follows the aforementioned \"overfitting shape\"."
      ]
    },
    {
      "cell_type": "markdown",
      "metadata": {
        "colab_type": "text",
        "id": "Ns7oGWd2EZVY"
      },
      "source": [
        "## Optional Exercise A: Variational Autoencoder\n",
        "\n",
        "Steps:\n",
        "\n",
        "1. Implement an autoencoder like that from Exercise 1, but turning the deterministic bottleneck into a stochastic bottleneck, with an isotropic Gaussian as distribution for the latent variables.\n",
        "2. Train the model optimizing the Evidence Lower Bound (ELBO).\n",
        "3. Generate samples with the decoder and show them.\n"
      ]
    },
    {
      "cell_type": "markdown",
      "metadata": {
        "colab_type": "text",
        "id": "xFiIlaOnOCzC"
      },
      "source": [
        "New class for variational autoencoder based on the previous autoencoder.\n",
        "\n",
        "In the bottleneck instead of one fully-connected layer, we define two: one will predict the mean and the otherone the variance (actually the log of the variance for performance matters). Instead of feeding the output of the encoder to the decooder, the distribution defined by the encoder is sampled via the reparametrization trick.\n",
        "\n",
        "In this case we use a sigmoid activation function for the last decoder layer as the reconstruction loss \"demands it\"."
      ]
    },
    {
      "cell_type": "code",
      "metadata": {
        "colab_type": "code",
        "id": "2LJFzsBeSC6k",
        "colab": {}
      },
      "source": [
        "class ConvolutionalVAE(torch.nn.Module):\n",
        "\n",
        "    def __init__(self, input_shape, n_blocks, downsampling_method, upsampling_method,\n",
        "                 layers_per_block=2, latent_dimensionality=50):\n",
        "        super().__init__()\n",
        "        self.n_blocks = n_blocks\n",
        "        self.downsampling_method = downsampling_method\n",
        "        self.upsampling_method = upsampling_method\n",
        "        self.latent_dimensionality = latent_dimensionality\n",
        "\n",
        "        # Encoder: Convolutional blocks + Linear\n",
        "        self.convolutional_encoder = ConvolutionalEncoder(\n",
        "            n_blocks, downsampling_method, layers_per_block=layers_per_block)\n",
        "        self.encoder_output_shape = (self.convolutional_encoder.init_filters * 2 ** (n_blocks - 1),\n",
        "                                     input_shape[0] // 2 ** n_blocks,\n",
        "                                     input_shape[1] // 2 ** n_blocks)\n",
        "        self.mu = torch.nn.Sequential(\n",
        "            torch.nn.Flatten(),\n",
        "            torch.nn.Linear(self.encoder_output_shape[0] * self.encoder_output_shape[1] * self.encoder_output_shape[2],\n",
        "                            latent_dimensionality),\n",
        "        )\n",
        "        self.log_var = torch.nn.Sequential(\n",
        "            torch.nn.Flatten(),\n",
        "            torch.nn.Linear(self.encoder_output_shape[0] * self.encoder_output_shape[1] * self.encoder_output_shape[2],\n",
        "                            latent_dimensionality),\n",
        "        )\n",
        "\n",
        "        # Decoder: Linear + Convolutional blocks\n",
        "        self.linear_decoder = torch.nn.Sequential(\n",
        "            torch.nn.Linear(latent_dimensionality,\n",
        "                            self.encoder_output_shape[0] * self.encoder_output_shape[1] * self.encoder_output_shape[2]),\n",
        "            torch.nn.ReLU()\n",
        "        )\n",
        "        self.convolutional_decoder = ConvolutionalDecoder(\n",
        "            n_blocks, upsampling_method,\n",
        "            self.convolutional_encoder.output_channels, layers_per_block,\n",
        "            activation=\"sigmoid\")\n",
        "\n",
        "    def reparameterize(self, mu, log_var):\n",
        "        std = torch.exp(0.5 * log_var)\n",
        "        return torch.randn_like(std).mul(std).add_(mu)\n",
        "\n",
        "    def forward(self, x):\n",
        "        encoder_output = self.convolutional_encoder(x)\n",
        "        # Get mean and variance.\n",
        "        mu = self.mu(encoder_output)\n",
        "        log_var = self.log_var(encoder_output)\n",
        "        # Sample from a normal distribution of mean mu and variance var.\n",
        "        code = self.reparameterize(mu, log_var)\n",
        "\n",
        "        reconstruction = self.convolutional_decoder(\n",
        "            self.linear_decoder(code).view((-1,) + self.encoder_output_shape))\n",
        "        \n",
        "        # Return reconstruction and mean and variance for the loss computation.  \n",
        "        return reconstruction, mu, log_var"
      ],
      "execution_count": 0,
      "outputs": []
    },
    {
      "cell_type": "markdown",
      "metadata": {
        "colab_type": "text",
        "id": "_86btVGNP-e4"
      },
      "source": [
        "Reconstruction + KL divergence losses summed over all elements and batch\n"
      ]
    },
    {
      "cell_type": "code",
      "metadata": {
        "colab_type": "code",
        "id": "ubi766EfQJu0",
        "colab": {}
      },
      "source": [
        "from torch.nn.functional import binary_cross_entropy"
      ],
      "execution_count": 0,
      "outputs": []
    },
    {
      "cell_type": "code",
      "metadata": {
        "colab_type": "code",
        "id": "hJa6GgbZOB4a",
        "colab": {}
      },
      "source": [
        "def loss_function(recon_x, x, mu, logvar):\n",
        "    BCE = binary_cross_entropy(recon_x.view(-1, 28 * 28), x.view(-1, 28 * 28), reduction='sum')\n",
        "    # see Appendix B from VAE paper:\n",
        "    # Kingma and Welling. Auto-Encoding Variational Bayes. ICLR, 2014\n",
        "    # https://arxiv.org/abs/1312.6114\n",
        "    # 0.5 * sum(1 + log(sigma^2) - mu^2 - sigma^2)\n",
        "    KLD = -0.5 * torch.sum(1 + logvar - mu.pow(2) - logvar.exp())\n",
        "    return BCE + KLD"
      ],
      "execution_count": 0,
      "outputs": []
    },
    {
      "cell_type": "code",
      "metadata": {
        "pycharm": {
          "name": "#%%\n"
        },
        "id": "BZrqt6rXexRg",
        "colab_type": "code",
        "colab": {}
      },
      "source": [
        "def train(vae, dataloader, optimizer, epoch, loss_history, log_interval=100):\n",
        "    for i, batch in enumerate(dataloader):\n",
        "        images = batch[0].to(device)\n",
        "        optimizer.zero_grad()\n",
        "        reconstructed, mu, log_var = vae(images)\n",
        "        # Divide by batch size to compute mean image reconstruction error.\n",
        "        loss = loss_function(reconstructed, images, mu, log_var)\n",
        "        loss.backward()   # Backprop.\n",
        "        optimizer.step()  # Parameter updates.\n",
        "\n",
        "        loss_history.append(loss.item())\n",
        "        if i % log_interval == 0:\n",
        "            print('[%d, %d] loss: %.3f' % (epoch + 1, i, loss.item()))\n"
      ],
      "execution_count": 0,
      "outputs": []
    },
    {
      "cell_type": "code",
      "metadata": {
        "pycharm": {
          "name": "#%%\n"
        },
        "id": "PEr601IIexRi",
        "colab_type": "code",
        "colab": {}
      },
      "source": [
        "vae = ConvolutionalVAE(\n",
        "    input_shape=(28, 28),\n",
        "    n_blocks=2,\n",
        "    downsampling_method='max-pooling',\n",
        "    upsampling_method='nearest',\n",
        "    layers_per_block=2,\n",
        "    latent_dimensionality=50\n",
        ").to(device)\n",
        "\n",
        "adam = torch.optim.Adam(vae.parameters(), lr=0.0001)"
      ],
      "execution_count": 0,
      "outputs": []
    },
    {
      "cell_type": "markdown",
      "metadata": {
        "id": "5FqOoInp6HFG",
        "colab_type": "text"
      },
      "source": [
        "In this case we don't normalize the data because we use a sigmoid as the last activation function."
      ]
    },
    {
      "cell_type": "code",
      "metadata": {
        "id": "D2qGuSt-5ttE",
        "colab_type": "code",
        "colab": {}
      },
      "source": [
        "mnist = torchvision.datasets.MNIST('mnist_dataset', train=True, transform=torchvision.transforms.ToTensor(), download=True)\n",
        "train_dataloader = torch.utils.data.DataLoader(mnist,\n",
        "                                               batch_size=BATCH_SIZE,\n",
        "                                               shuffle=True,\n",
        "                                               num_workers=4)"
      ],
      "execution_count": 0,
      "outputs": []
    },
    {
      "cell_type": "code",
      "metadata": {
        "pycharm": {
          "name": "#%%\n"
        },
        "id": "YKggfkmjexRo",
        "colab_type": "code",
        "colab": {
          "base_uri": "https://localhost:8080/",
          "height": 1000
        },
        "outputId": "c6a086ae-9dd3-494d-947f-9649dbe98b9e"
      },
      "source": [
        "training_loss = []    #\n",
        "validation_loss = []  # Here we save the training process.\n",
        "\n",
        "vae.train()\n",
        "for epoch in range(EPOCHS_VAE):\n",
        "    train(vae, train_dataloader, adam, epoch, training_loss)\n",
        "\n",
        "vae.eval();"
      ],
      "execution_count": 70,
      "outputs": [
        {
          "output_type": "stream",
          "text": [
            "[1, 0] loss: 68370.188\n",
            "[1, 100] loss: 29575.402\n",
            "[1, 200] loss: 27427.656\n",
            "[1, 300] loss: 25421.096\n",
            "[1, 400] loss: 25411.174\n",
            "[2, 0] loss: 23681.994\n",
            "[2, 100] loss: 24482.270\n",
            "[2, 200] loss: 23669.783\n",
            "[2, 300] loss: 21638.762\n",
            "[2, 400] loss: 22024.057\n",
            "[3, 0] loss: 20623.914\n",
            "[3, 100] loss: 20091.514\n",
            "[3, 200] loss: 19591.807\n",
            "[3, 300] loss: 19427.857\n",
            "[3, 400] loss: 18717.400\n",
            "[4, 0] loss: 17924.871\n",
            "[4, 100] loss: 18158.688\n",
            "[4, 200] loss: 16909.822\n",
            "[4, 300] loss: 17566.412\n",
            "[4, 400] loss: 17491.938\n",
            "[5, 0] loss: 16820.479\n",
            "[5, 100] loss: 16534.318\n",
            "[5, 200] loss: 16648.293\n",
            "[5, 300] loss: 16986.096\n",
            "[5, 400] loss: 15790.154\n",
            "[6, 0] loss: 16247.808\n",
            "[6, 100] loss: 16501.914\n",
            "[6, 200] loss: 16000.347\n",
            "[6, 300] loss: 16319.369\n",
            "[6, 400] loss: 15830.389\n",
            "[7, 0] loss: 15580.254\n",
            "[7, 100] loss: 16399.617\n",
            "[7, 200] loss: 15593.954\n",
            "[7, 300] loss: 15507.785\n",
            "[7, 400] loss: 15654.609\n",
            "[8, 0] loss: 15333.086\n",
            "[8, 100] loss: 14815.798\n",
            "[8, 200] loss: 15866.573\n",
            "[8, 300] loss: 15483.954\n",
            "[8, 400] loss: 15269.951\n",
            "[9, 0] loss: 15640.500\n",
            "[9, 100] loss: 14788.043\n",
            "[9, 200] loss: 14902.044\n",
            "[9, 300] loss: 14228.260\n",
            "[9, 400] loss: 14718.269\n",
            "[10, 0] loss: 14985.758\n",
            "[10, 100] loss: 14918.430\n",
            "[10, 200] loss: 14378.764\n",
            "[10, 300] loss: 15587.111\n",
            "[10, 400] loss: 14522.450\n",
            "[11, 0] loss: 14897.597\n",
            "[11, 100] loss: 14928.341\n",
            "[11, 200] loss: 14489.510\n",
            "[11, 300] loss: 14723.464\n",
            "[11, 400] loss: 15031.944\n",
            "[12, 0] loss: 14683.584\n",
            "[12, 100] loss: 14682.373\n",
            "[12, 200] loss: 14320.018\n",
            "[12, 300] loss: 14743.084\n",
            "[12, 400] loss: 14710.600\n",
            "[13, 0] loss: 13770.734\n",
            "[13, 100] loss: 14647.129\n",
            "[13, 200] loss: 14545.704\n",
            "[13, 300] loss: 14444.043\n",
            "[13, 400] loss: 14360.328\n",
            "[14, 0] loss: 14704.439\n",
            "[14, 100] loss: 14412.996\n",
            "[14, 200] loss: 13877.482\n",
            "[14, 300] loss: 14500.002\n",
            "[14, 400] loss: 14138.292\n",
            "[15, 0] loss: 14231.771\n",
            "[15, 100] loss: 14559.418\n",
            "[15, 200] loss: 14518.048\n",
            "[15, 300] loss: 13502.195\n",
            "[15, 400] loss: 14587.126\n",
            "[16, 0] loss: 14605.905\n",
            "[16, 100] loss: 13282.854\n",
            "[16, 200] loss: 13874.884\n",
            "[16, 300] loss: 13683.843\n",
            "[16, 400] loss: 14812.019\n",
            "[17, 0] loss: 13673.086\n",
            "[17, 100] loss: 13921.923\n",
            "[17, 200] loss: 13653.215\n",
            "[17, 300] loss: 13951.709\n",
            "[17, 400] loss: 13896.059\n",
            "[18, 0] loss: 13688.112\n",
            "[18, 100] loss: 14162.398\n",
            "[18, 200] loss: 14094.505\n",
            "[18, 300] loss: 14318.073\n",
            "[18, 400] loss: 14026.041\n",
            "[19, 0] loss: 13994.236\n",
            "[19, 100] loss: 14373.580\n",
            "[19, 200] loss: 13601.404\n",
            "[19, 300] loss: 13806.395\n",
            "[19, 400] loss: 13715.584\n",
            "[20, 0] loss: 14050.928\n",
            "[20, 100] loss: 13770.098\n",
            "[20, 200] loss: 14100.094\n",
            "[20, 300] loss: 13568.719\n",
            "[20, 400] loss: 13516.924\n",
            "[21, 0] loss: 13475.248\n",
            "[21, 100] loss: 13398.495\n",
            "[21, 200] loss: 13571.512\n",
            "[21, 300] loss: 13338.455\n",
            "[21, 400] loss: 13669.545\n",
            "[22, 0] loss: 14128.908\n",
            "[22, 100] loss: 13723.965\n",
            "[22, 200] loss: 13642.156\n",
            "[22, 300] loss: 13469.486\n",
            "[22, 400] loss: 13393.656\n",
            "[23, 0] loss: 13770.104\n",
            "[23, 100] loss: 13579.020\n",
            "[23, 200] loss: 13615.153\n",
            "[23, 300] loss: 12917.210\n",
            "[23, 400] loss: 13681.166\n",
            "[24, 0] loss: 13102.625\n",
            "[24, 100] loss: 13522.816\n",
            "[24, 200] loss: 13054.957\n",
            "[24, 300] loss: 13248.710\n",
            "[24, 400] loss: 13452.766\n",
            "[25, 0] loss: 13745.818\n",
            "[25, 100] loss: 13036.395\n",
            "[25, 200] loss: 13558.037\n",
            "[25, 300] loss: 13516.434\n",
            "[25, 400] loss: 13568.752\n",
            "[26, 0] loss: 13500.176\n",
            "[26, 100] loss: 12827.478\n",
            "[26, 200] loss: 13203.229\n",
            "[26, 300] loss: 13403.259\n",
            "[26, 400] loss: 13717.504\n",
            "[27, 0] loss: 13488.951\n",
            "[27, 100] loss: 13601.285\n",
            "[27, 200] loss: 13321.233\n",
            "[27, 300] loss: 13812.196\n",
            "[27, 400] loss: 13276.577\n",
            "[28, 0] loss: 13112.183\n",
            "[28, 100] loss: 13085.962\n",
            "[28, 200] loss: 12863.614\n",
            "[28, 300] loss: 13170.617\n",
            "[28, 400] loss: 13370.545\n",
            "[29, 0] loss: 12839.358\n",
            "[29, 100] loss: 13092.662\n",
            "[29, 200] loss: 13505.328\n",
            "[29, 300] loss: 13075.523\n",
            "[29, 400] loss: 14102.500\n",
            "[30, 0] loss: 13383.852\n",
            "[30, 100] loss: 13452.500\n",
            "[30, 200] loss: 13741.339\n",
            "[30, 300] loss: 13566.227\n",
            "[30, 400] loss: 12964.863\n",
            "[31, 0] loss: 13144.716\n",
            "[31, 100] loss: 13095.313\n",
            "[31, 200] loss: 13532.064\n",
            "[31, 300] loss: 13313.023\n",
            "[31, 400] loss: 13131.760\n",
            "[32, 0] loss: 13303.380\n",
            "[32, 100] loss: 13113.197\n",
            "[32, 200] loss: 13925.530\n",
            "[32, 300] loss: 13229.047\n",
            "[32, 400] loss: 12956.190\n",
            "[33, 0] loss: 13258.660\n",
            "[33, 100] loss: 13025.302\n",
            "[33, 200] loss: 13416.264\n",
            "[33, 300] loss: 13073.107\n",
            "[33, 400] loss: 14033.767\n",
            "[34, 0] loss: 12880.602\n",
            "[34, 100] loss: 13035.459\n",
            "[34, 200] loss: 13205.271\n",
            "[34, 300] loss: 13509.311\n",
            "[34, 400] loss: 12830.527\n",
            "[35, 0] loss: 12936.835\n",
            "[35, 100] loss: 13404.140\n",
            "[35, 200] loss: 13170.766\n",
            "[35, 300] loss: 13388.871\n",
            "[35, 400] loss: 12560.090\n",
            "[36, 0] loss: 13008.112\n",
            "[36, 100] loss: 13017.426\n",
            "[36, 200] loss: 12984.078\n",
            "[36, 300] loss: 13145.684\n",
            "[36, 400] loss: 12909.676\n",
            "[37, 0] loss: 13396.894\n",
            "[37, 100] loss: 12851.674\n",
            "[37, 200] loss: 13273.242\n",
            "[37, 300] loss: 12817.968\n",
            "[37, 400] loss: 12748.650\n",
            "[38, 0] loss: 13129.275\n",
            "[38, 100] loss: 12962.135\n",
            "[38, 200] loss: 12921.438\n",
            "[38, 300] loss: 12686.656\n",
            "[38, 400] loss: 13454.233\n",
            "[39, 0] loss: 13441.939\n",
            "[39, 100] loss: 13148.128\n",
            "[39, 200] loss: 12759.855\n",
            "[39, 300] loss: 13044.397\n",
            "[39, 400] loss: 13142.913\n",
            "[40, 0] loss: 13245.285\n",
            "[40, 100] loss: 12607.015\n",
            "[40, 200] loss: 12836.427\n",
            "[40, 300] loss: 13126.623\n",
            "[40, 400] loss: 12901.604\n",
            "[41, 0] loss: 12948.518\n",
            "[41, 100] loss: 12725.025\n",
            "[41, 200] loss: 12920.694\n",
            "[41, 300] loss: 13285.375\n",
            "[41, 400] loss: 13318.503\n",
            "[42, 0] loss: 13201.383\n",
            "[42, 100] loss: 12653.143\n",
            "[42, 200] loss: 13147.219\n",
            "[42, 300] loss: 13154.675\n",
            "[42, 400] loss: 12967.689\n",
            "[43, 0] loss: 12821.938\n",
            "[43, 100] loss: 13049.877\n",
            "[43, 200] loss: 13002.316\n",
            "[43, 300] loss: 12377.549\n",
            "[43, 400] loss: 13176.354\n",
            "[44, 0] loss: 12620.042\n",
            "[44, 100] loss: 12815.823\n",
            "[44, 200] loss: 13386.244\n",
            "[44, 300] loss: 13051.600\n",
            "[44, 400] loss: 12855.959\n",
            "[45, 0] loss: 12803.629\n",
            "[45, 100] loss: 13392.325\n",
            "[45, 200] loss: 13107.155\n",
            "[45, 300] loss: 13296.494\n",
            "[45, 400] loss: 12953.231\n",
            "[46, 0] loss: 13355.313\n",
            "[46, 100] loss: 13021.388\n",
            "[46, 200] loss: 12621.271\n",
            "[46, 300] loss: 12766.775\n",
            "[46, 400] loss: 12990.121\n",
            "[47, 0] loss: 12734.271\n",
            "[47, 100] loss: 12941.705\n",
            "[47, 200] loss: 12857.616\n",
            "[47, 300] loss: 12762.827\n",
            "[47, 400] loss: 12604.488\n",
            "[48, 0] loss: 12838.572\n",
            "[48, 100] loss: 12380.355\n",
            "[48, 200] loss: 12741.616\n",
            "[48, 300] loss: 13374.573\n",
            "[48, 400] loss: 12882.156\n",
            "[49, 0] loss: 12791.846\n",
            "[49, 100] loss: 13207.818\n",
            "[49, 200] loss: 13015.764\n",
            "[49, 300] loss: 13255.642\n",
            "[49, 400] loss: 12520.756\n",
            "[50, 0] loss: 12818.920\n",
            "[50, 100] loss: 12927.320\n",
            "[50, 200] loss: 12955.179\n",
            "[50, 300] loss: 12921.484\n",
            "[50, 400] loss: 12759.839\n"
          ],
          "name": "stdout"
        }
      ]
    },
    {
      "cell_type": "code",
      "metadata": {
        "pycharm": {
          "name": "#%%\n"
        },
        "id": "nlNL4Qg0exRs",
        "colab_type": "code",
        "colab": {
          "base_uri": "https://localhost:8080/",
          "height": 1000
        },
        "outputId": "beec3aa8-6e23-4fc6-d331-e675f4713d4f"
      },
      "source": [
        "for _ in range(5):\n",
        "    plt.figure()\n",
        "    generate_image(vae)\n"
      ],
      "execution_count": 74,
      "outputs": [
        {
          "output_type": "display_data",
          "data": {
            "image/png": "[encoded data removed]",
            "text/plain": [
              "<Figure size 432x288 with 1 Axes>"
            ]
          },
          "metadata": {
            "tags": []
          }
        },
        {
          "output_type": "display_data",
          "data": {
            "image/png": "[encoded data removed]",
            "text/plain": [
              "<Figure size 432x288 with 1 Axes>"
            ]
          },
          "metadata": {
            "tags": []
          }
        },
        {
          "output_type": "display_data",
          "data": {
            "image/png": "[encoded data removed]",
            "text/plain": [
              "<Figure size 432x288 with 1 Axes>"
            ]
          },
          "metadata": {
            "tags": []
          }
        },
        {
          "output_type": "display_data",
          "data": {
            "image/png": "[encoded data removed]",
            "text/plain": [
              "<Figure size 432x288 with 1 Axes>"
            ]
          },
          "metadata": {
            "tags": []
          }
        },
        {
          "output_type": "display_data",
          "data": {
            "image/png": "[encoded data removed]",
            "text/plain": [
              "<Figure size 432x288 with 1 Axes>"
            ]
          },
          "metadata": {
            "tags": []
          }
        }
      ]
    },
    {
      "cell_type": "markdown",
      "metadata": {
        "id": "0csa_Kba8D1P",
        "colab_type": "text"
      },
      "source": [
        "The generated images by the variational autoencoder look similar to the training data, at least a lot more similar than the \"deterministic\" autoencoder."
      ]
    }
  ]
}
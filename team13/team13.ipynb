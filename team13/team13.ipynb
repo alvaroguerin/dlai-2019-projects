{
  "nbformat": 4,
  "nbformat_minor": 0,
  "metadata": {
    "colab": {
      "name": "team13.ipynb",
      "provenance": [],
      "collapsed_sections": []
    },
    "kernelspec": {
      "name": "python3",
      "display_name": "Python 3"
    },
    "accelerator": "GPU"
  },
  "cells": [
    {
      "cell_type": "markdown",
      "metadata": {
        "id": "ZAN97QD3ME9S",
        "colab_type": "text"
      },
      "source": [
        "# **DLAI PROJECT**\n",
        "\n",
        "Project created by Carles Garcia Cabrera (Group 13), student of DLAI during autumm 2019, under the supervison of Noé Casas and Xavier Giró.\n",
        "\n",
        "The project is broken down in 4 different parts:\n",
        "  - Exercise 1: Convolutional Autoencoder\n",
        "  - Exercise 2: Transfer Learning\n",
        "  - Optional exercise A: Variational Autoencoder\n",
        "  - Optional exercise B: Conditional GAN\n",
        "\n",
        "During the whole notebook I will try to explain what I want to do before coding it and along the code I will add very few comments.\n",
        "\n",
        "**Disclaimer:** While I have been doing the project I have learned some new things that will help me in the future to organise my code better. I have done my best to correct some of the reusage of code but I lacked time to enhance the following code at its best."
      ]
    },
    {
      "cell_type": "markdown",
      "metadata": {
        "id": "tRzUbdcrNsSP",
        "colab_type": "text"
      },
      "source": [
        "# **Let's start!**\n",
        "First of all the imports for the packages I am going to use:"
      ]
    },
    {
      "cell_type": "code",
      "metadata": {
        "id": "jdpYc_nvL_2w",
        "colab_type": "code",
        "colab": {}
      },
      "source": [
        "#Core libraries\n",
        "import numpy as np\n",
        "np.random.seed(1)\n",
        "\n",
        "import torch\n",
        "import torch.optim as optim\n",
        "torch.manual_seed(1)\n",
        "if torch.cuda.is_available():\n",
        "  torch.cuda.manual_seed_all(1)\n",
        "import torch.nn as nn\n",
        "import torch.nn.functional as F\n",
        "from torchvision import datasets, transforms, utils\n",
        "from torch.autograd import Variable\n",
        "\n",
        "import matplotlib\n",
        "%matplotlib inline\n",
        "import matplotlib.pyplot as plt\n",
        "\n",
        "from tabulate import tabulate\n",
        "from statistics import mean\n",
        "\n",
        "from random import sample, randint\n",
        "\n",
        "import copy\n",
        "\n",
        "#GPU Enabling\n",
        "if not torch.cuda.is_available():\n",
        "    raise Exception(\"You should enable GPU in the runtime menu.\")\n",
        "device = torch.device(\"cuda:0\")"
      ],
      "execution_count": 0,
      "outputs": []
    },
    {
      "cell_type": "markdown",
      "metadata": {
        "id": "6OX01DPIPcP7",
        "colab_type": "text"
      },
      "source": [
        "# **Exercise 1: Convolutional Autoencoder**\n",
        "First I will load the **MNIST dataset** and then I will split the trainig data into 95% train and 5% validation."
      ]
    },
    {
      "cell_type": "code",
      "metadata": {
        "id": "oHhquCBmPr4_",
        "colab_type": "code",
        "outputId": "367524cc-ca3b-400d-e389-81d88693734a",
        "colab": {
          "base_uri": "https://localhost:8080/",
          "height": 255
        }
      },
      "source": [
        "#Train import\n",
        "mnist_trainset = datasets.MNIST('data', train=True, download=True,\n",
        "                                transform=transforms.Compose([\n",
        "                                    transforms.ToTensor(),\n",
        "                                    transforms.Normalize((0.5,), (0.5,))\n",
        "                                    ]))\n",
        "##Split train into train and val\n",
        "mnist_trainset, mnist_valset = torch.utils.data.random_split(mnist_trainset, [int(len(mnist_trainset)*0.95),int(len(mnist_trainset)*0.05)])\n",
        "\n",
        "#Test\n",
        "mnist_testset = datasets.MNIST('data', train=False, \n",
        "                               transform=transforms.Compose([\n",
        "                                   transforms.ToTensor(),\n",
        "                                   transforms.Normalize((0.5,), (0.5,))\n",
        "                               ]))\n"
      ],
      "execution_count": 2,
      "outputs": [
        {
          "output_type": "stream",
          "text": [
            "\r0it [00:00, ?it/s]"
          ],
          "name": "stderr"
        },
        {
          "output_type": "stream",
          "text": [
            "Downloading http://yann.lecun.com/exdb/mnist/train-images-idx3-ubyte.gz to data/MNIST/raw/train-images-idx3-ubyte.gz\n"
          ],
          "name": "stdout"
        },
        {
          "output_type": "stream",
          "text": [
            "9920512it [00:02, 3861168.52it/s]                            \n"
          ],
          "name": "stderr"
        },
        {
          "output_type": "stream",
          "text": [
            "Extracting data/MNIST/raw/train-images-idx3-ubyte.gz to data/MNIST/raw\n"
          ],
          "name": "stdout"
        },
        {
          "output_type": "stream",
          "text": [
            "\r0it [00:00, ?it/s]"
          ],
          "name": "stderr"
        },
        {
          "output_type": "stream",
          "text": [
            "Downloading http://yann.lecun.com/exdb/mnist/train-labels-idx1-ubyte.gz to data/MNIST/raw/train-labels-idx1-ubyte.gz\n"
          ],
          "name": "stdout"
        },
        {
          "output_type": "stream",
          "text": [
            "32768it [00:00, 57930.96it/s]                           \n",
            "0it [00:00, ?it/s]"
          ],
          "name": "stderr"
        },
        {
          "output_type": "stream",
          "text": [
            "Extracting data/MNIST/raw/train-labels-idx1-ubyte.gz to data/MNIST/raw\n",
            "Downloading http://yann.lecun.com/exdb/mnist/t10k-images-idx3-ubyte.gz to data/MNIST/raw/t10k-images-idx3-ubyte.gz\n"
          ],
          "name": "stdout"
        },
        {
          "output_type": "stream",
          "text": [
            "1654784it [00:01, 954069.04it/s]                             \n",
            "0it [00:00, ?it/s]"
          ],
          "name": "stderr"
        },
        {
          "output_type": "stream",
          "text": [
            "Extracting data/MNIST/raw/t10k-images-idx3-ubyte.gz to data/MNIST/raw\n",
            "Downloading http://yann.lecun.com/exdb/mnist/t10k-labels-idx1-ubyte.gz to data/MNIST/raw/t10k-labels-idx1-ubyte.gz\n"
          ],
          "name": "stdout"
        },
        {
          "output_type": "stream",
          "text": [
            "8192it [00:00, 21567.90it/s]            "
          ],
          "name": "stderr"
        },
        {
          "output_type": "stream",
          "text": [
            "Extracting data/MNIST/raw/t10k-labels-idx1-ubyte.gz to data/MNIST/raw\n",
            "Processing...\n",
            "Done!\n"
          ],
          "name": "stdout"
        },
        {
          "output_type": "stream",
          "text": [
            "\n"
          ],
          "name": "stderr"
        }
      ]
    },
    {
      "cell_type": "markdown",
      "metadata": {
        "id": "CFI3u8Jka0ne",
        "colab_type": "text"
      },
      "source": [
        "And now the **hyperparametes** that I will use during the exercise:"
      ]
    },
    {
      "cell_type": "code",
      "metadata": {
        "id": "jm2IQ0Xea7TA",
        "colab_type": "code",
        "colab": {}
      },
      "source": [
        "hparams = {\n",
        "    'batch_size':128,\n",
        "    'num_epochs':30,\n",
        "    'num_epochs2':1000,\n",
        "    'num_epochs3':500,\n",
        "    'num_epochs4':2000,\n",
        "    'test_batch_size':64,\n",
        "    'hidden1':64,\n",
        "    'hidden2':128,\n",
        "    'bottleneck1':20,\n",
        "    'bottleneck2':50,\n",
        "    'bottleneck3':100,\n",
        "    'learning_rate':1e-3,\n",
        "    'log_interval': 100,\n",
        "    'num_classes': 10\n",
        "}\n",
        "hparams['device'] = 'cuda' if torch.cuda.is_available() else 'cpu'"
      ],
      "execution_count": 0,
      "outputs": []
    },
    {
      "cell_type": "markdown",
      "metadata": {
        "id": "GpgkGO5gaXUM",
        "colab_type": "text"
      },
      "source": [
        "And now the **dataloaders**:"
      ]
    },
    {
      "cell_type": "code",
      "metadata": {
        "id": "dPKaE1jzYyh1",
        "colab_type": "code",
        "colab": {}
      },
      "source": [
        "train_loader = torch.utils.data.DataLoader(\n",
        "    mnist_trainset,\n",
        "    batch_size=hparams['batch_size'], \n",
        "    shuffle=True)\n",
        "\n",
        "val_loader = torch.utils.data.DataLoader(\n",
        "    mnist_valset,\n",
        "    batch_size=hparams['batch_size'], \n",
        "    shuffle=True)\n",
        "\n",
        "test_loader = torch.utils.data.DataLoader(\n",
        "    mnist_testset,\n",
        "    batch_size=hparams['test_batch_size'], \n",
        "    shuffle=False)"
      ],
      "execution_count": 0,
      "outputs": []
    },
    {
      "cell_type": "markdown",
      "metadata": {
        "id": "26KQmiPzbH7X",
        "colab_type": "text"
      },
      "source": [
        "Now I will implement the **autoencoder**:"
      ]
    },
    {
      "cell_type": "code",
      "metadata": {
        "id": "cr-_lmHpSZ-7",
        "colab_type": "code",
        "colab": {}
      },
      "source": [
        "class autoencoder(nn.Module):\n",
        "  def __init__(self, hparams, bottleneck):\n",
        "    super(autoencoder,self).__init__()\n",
        "    self.encoder = nn.Sequential(\n",
        "        nn.Conv2d(1, hparams['hidden1'], 3, stride = 1, padding = 1), \n",
        "        nn.ReLU(True),\n",
        "        nn.MaxPool2d(2),\n",
        "        nn.Conv2d(hparams['hidden1'], hparams['hidden2'], 3, stride = 1, padding = 1),\n",
        "        nn.ReLU(True),\n",
        "        nn.MaxPool2d(2),\n",
        "    )\n",
        "\n",
        "    self.linear1 = nn.Linear(hparams['hidden2']*7*7, bottleneck)\n",
        "    self.linear2 = nn.Linear(bottleneck, hparams['hidden2']*7*7)\n",
        "    self.linearF = nn.Linear(bottleneck, hparams['num_classes'])\n",
        "    self.relu = nn.ReLU()\n",
        "    self.softmax = nn.Softmax()\n",
        "\n",
        "    self.decoder = nn.Sequential(\n",
        "        nn.ConvTranspose2d(hparams['hidden2'], hparams['hidden1'], 4, stride = 2, padding = 1),\n",
        "        nn.ReLU(True),\n",
        "        nn.ConvTranspose2d(hparams['hidden1'], 1, 4, stride = 2, padding = 1),\n",
        "        nn.Tanh()\n",
        "    )\n",
        "  \n",
        "  def forward(self, x):\n",
        "    x = self.encoder(x)\n",
        "    #bottleneck\n",
        "    x = x.view(x.size(0), -1)\n",
        "    x = self.linear1(x)\n",
        "    x = self.linear2(x)\n",
        "    x = x.view(x.size(0), hparams['hidden2'], 7, 7)\n",
        "    ##\n",
        "    y = self.decoder(x)\n",
        "    return y"
      ],
      "execution_count": 0,
      "outputs": []
    },
    {
      "cell_type": "markdown",
      "metadata": {
        "id": "q2k1texjtf68",
        "colab_type": "text"
      },
      "source": [
        "Now, let's define the **training**:"
      ]
    },
    {
      "cell_type": "code",
      "metadata": {
        "id": "05ErO6I9edmz",
        "colab_type": "code",
        "colab": {}
      },
      "source": [
        "def train_epoch(train_loader, network, optimizer, criterion, hparams, epoch):\n",
        "  network.train()\n",
        "  device = hparams['device']\n",
        "  losses = []\n",
        "  for batch_idx, (data, target) in enumerate(train_loader, 1):\n",
        "      data = data.to(device)\n",
        "      optimizer.zero_grad()\n",
        "      output = network(data)\n",
        "      loss = criterion(output, data)\n",
        "      loss.backward()\n",
        "      losses.append(loss.item())\n",
        "      optimizer.step()\n",
        "\n",
        "      if batch_idx % hparams['log_interval'] == 0 or batch_idx >= len(train_loader):\n",
        "        dataset_length = len(train_loader) * hparams['batch_size']\n",
        "        processed = batch_idx * hparams['batch_size']\n",
        "        processed_str = format(processed, '0'+str(len(str(dataset_length))))\n",
        "        ratio = round((100. * batch_idx / len(train_loader)),0)\n",
        "        loss_str = str(round(loss.item(),6))\n",
        "        #print(f\"Train Epoch: {epoch} [{processed_str}/{dataset_length} \"+\\\n",
        "                  #f\"({ratio}%)]\\tLoss: {loss_str}\")\n",
        "  return losses\n",
        "\n",
        "def eval_epoch(val_loader, network, criterion, hparams):\n",
        "  network.eval()\n",
        "  device = hparams['device']\n",
        "  eval_loss = []\n",
        "  with torch.no_grad():\n",
        "      for data, target in val_loader:\n",
        "          data = data.to(device)\n",
        "          output = network(data)\n",
        "          e_loss = criterion(output, data).item()\n",
        "          eval_loss.append(e_loss)\n",
        "  \n",
        "  avg_loss = sum(eval_loss) / len(eval_loss)\n",
        "  val_loss_str = str(round(avg_loss,6))\n",
        "  #print(f\"\\nValidation:\\t\\t\\t\\tLoss: {val_loss_str} \\n\\n\")\n",
        "  return avg_loss\n",
        "\n",
        "def train_net(network, train_loader, eval_loader, optimizer, num_epochs, plot=False):\n",
        "  tr_losses = []\n",
        "  te_losses = []\n",
        "  valid_x = []\n",
        "\n",
        "  network.to(hparams['device'])\n",
        "  criterion = nn.MSELoss()\n",
        "\n",
        "  for epoch in range(1, num_epochs + 1):\n",
        "    tr_loss = train_epoch(train_loader, network, optimizer, criterion, hparams, epoch)\n",
        "    te_loss = eval_epoch(eval_loader, network, criterion, hparams)\n",
        "    tr_losses.extend(tr_loss)\n",
        "    te_losses.append(te_loss)\n",
        "    valid_x.append(len(tr_losses)-1)\n",
        "  \n",
        "  train_x = range(len(tr_losses))\n",
        "\n",
        "  rets = {'tr_losses':tr_losses, 'te_losses':te_losses, 'valid_x': valid_x, 'train_x':train_x}\n",
        "  if plot:\n",
        "    plt.figure(figsize=(10, 8))\n",
        "    plt.subplot(2,1,1)\n",
        "    plt.xlabel('Epoch')\n",
        "    plt.ylabel('NLLLoss')\n",
        "    plt.plot(tr_losses, label='Train')\n",
        "    plt.plot(te_losses, label='Eval')\n",
        "    plt.legend()\n",
        "  return rets"
      ],
      "execution_count": 0,
      "outputs": []
    },
    {
      "cell_type": "markdown",
      "metadata": {
        "id": "HBZOiAATsa3a",
        "colab_type": "text"
      },
      "source": [
        "**Model**, **criterion** and **optimizer**:"
      ]
    },
    {
      "cell_type": "code",
      "metadata": {
        "id": "RoVpTNKMSvgu",
        "colab_type": "code",
        "colab": {}
      },
      "source": [
        "#Criterion\n",
        "criterion = nn.MSELoss()\n",
        "\n",
        "#Models, optimizers, and model sizes\n",
        "model1 = autoencoder(hparams, hparams['bottleneck1']).cuda()\n",
        "optimizer1 = torch.optim.Adam(model1.parameters(), lr = hparams['learning_rate'],\n",
        "                             weight_decay = 1e-5)\n",
        "num_params1 = sum(p.numel() for p in model1.parameters() if p.requires_grad)\n",
        "\n",
        "model2 = autoencoder(hparams, hparams['bottleneck2']).cuda()\n",
        "optimizer2 = torch.optim.Adam(model2.parameters(), lr = hparams['learning_rate'],\n",
        "                             weight_decay = 1e-5)\n",
        "num_params2 = sum(p.numel() for p in model2.parameters() if p.requires_grad)\n",
        "\n",
        "model3 = autoencoder(hparams, hparams['bottleneck3']).cuda()\n",
        "optimizer3 = torch.optim.Adam(model3.parameters(), lr = hparams['learning_rate'],\n",
        "                             weight_decay = 1e-5)\n",
        "num_params3 = sum(p.numel() for p in model3.parameters() if p.requires_grad)"
      ],
      "execution_count": 0,
      "outputs": []
    },
    {
      "cell_type": "markdown",
      "metadata": {
        "id": "_5Wg9wTZ_AWv",
        "colab_type": "text"
      },
      "source": [
        "Let's **TRAIN**"
      ]
    },
    {
      "cell_type": "code",
      "metadata": {
        "id": "uzzN7wiPXOML",
        "colab_type": "code",
        "colab": {}
      },
      "source": [
        "autoen1 = train_net(model1, train_loader, val_loader, optimizer1, hparams['num_epochs'])"
      ],
      "execution_count": 0,
      "outputs": []
    },
    {
      "cell_type": "code",
      "metadata": {
        "id": "npU2bqbknNqZ",
        "colab_type": "code",
        "colab": {}
      },
      "source": [
        "autoen2 = train_net(model2, train_loader, val_loader, optimizer2, hparams['num_epochs'])"
      ],
      "execution_count": 0,
      "outputs": []
    },
    {
      "cell_type": "code",
      "metadata": {
        "id": "Nl_iO9i-idNf",
        "colab_type": "code",
        "colab": {}
      },
      "source": [
        "autoen3 = train_net(model3, train_loader, val_loader, optimizer3, hparams['num_epochs'])"
      ],
      "execution_count": 0,
      "outputs": []
    },
    {
      "cell_type": "markdown",
      "metadata": {
        "id": "p4hD1vzHhkEv",
        "colab_type": "text"
      },
      "source": [
        "Here can be seen how, the bigger the bottleneck and hence the smaller the compression, the smaller the loss.\n",
        "\n",
        "Let's **plot** all the curves in the same **chart** to see training performance:"
      ]
    },
    {
      "cell_type": "code",
      "metadata": {
        "id": "Ke_46veTh83x",
        "colab_type": "code",
        "outputId": "e1c2d7c8-4683-4fdf-ab7d-6cc1efee9314",
        "colab": {
          "base_uri": "https://localhost:8080/",
          "height": 497
        }
      },
      "source": [
        "train_x1 = autoen1['train_x']\n",
        "train_loss1 = autoen1[\"tr_losses\"]\n",
        "val_x1 = autoen1[\"valid_x\"]\n",
        "val_loss1 = autoen1[\"te_losses\"]\n",
        "\n",
        "train_x2 = autoen2['train_x']\n",
        "train_loss2 = autoen2[\"tr_losses\"]\n",
        "val_x2 = autoen2[\"valid_x\"]\n",
        "val_loss2 = autoen2[\"te_losses\"]\n",
        "\n",
        "train_x3 = autoen3['train_x']\n",
        "train_loss3 = autoen3[\"tr_losses\"]\n",
        "val_x3 = autoen3[\"valid_x\"]\n",
        "val_loss3 = autoen3[\"te_losses\"]\n",
        "\n",
        "a1 = plt.figure(figsize=(14, 8))\n",
        "plt.xlabel('Epochs')\n",
        "plt.ylabel('MSE')\n",
        "\n",
        "plt.plot(train_x1, train_loss1, '-', label='Autoencoder1_Train (Bottleneck size = 20)')\n",
        "plt.plot(val_x1, val_loss1, 'o', label='Autoencoder1_Eval (Bottleneck size = 20)')\n",
        "plt.plot(train_x2, train_loss2, '-', label='Autoencoder2_Train (Bottleneck size = 50)')\n",
        "plt.plot(val_x2, val_loss2, 'o', label='Autoencoder2_Eval (Bottleneck size = 50)')\n",
        "plt.plot(train_x3, train_loss3, '-', label='Autoencoder3_Train3 (Bottleneck size = 100)')\n",
        "plt.plot(val_x3, val_loss3, 'o', label='Autoencoder3_Eval3 (Bottleneck size = 100)')\n",
        "\n",
        "plt.yscale(\"log\")\n",
        "plt.xticks(np.arange(0, max(train_x1),\n",
        "                     step=max(train_x1)/hparams['num_epochs']), \n",
        "                     [i + 1 for i in range(hparams['num_epochs'])])\n",
        "\n",
        "plt.grid(True)\n",
        "plt.legend()\n",
        "plt.show()"
      ],
      "execution_count": 11,
      "outputs": [
        {
          "output_type": "display_data",
          "data": {
            "image/png": "[encoded data removed]",
            "text/plain": [
              "<Figure size 1008x576 with 1 Axes>"
            ]
          },
          "metadata": {
            "tags": []
          }
        }
      ]
    },
    {
      "cell_type": "markdown",
      "metadata": {
        "id": "-wwqnxRRvTp_",
        "colab_type": "text"
      },
      "source": [
        "Now I need to define the **testing**, I will compute de **MSE for each image**."
      ]
    },
    {
      "cell_type": "code",
      "metadata": {
        "id": "mCIfFkqovUP8",
        "colab_type": "code",
        "colab": {}
      },
      "source": [
        "def mse_image(outputs, inputs):\n",
        "    avg_mse = []\n",
        "    outputs = outputs.detach().cpu().numpy()\n",
        "    #Computed for each image and averaged between images\n",
        "    for input_, output in zip(inputs, outputs):\n",
        "        mse = (np.square(input_.detach().cpu().numpy() - output)).mean(axis=None)\n",
        "        avg_mse.append(mse)\n",
        "    avg_mse = sum(avg_mse) / len(avg_mse)\n",
        "    return avg_mse\n",
        "\n",
        "def test_model(network, test_loader):\n",
        "  network.eval()\n",
        "  test_loss_avg = 0\n",
        "  num_batches = 0\n",
        "  for data, _ in test_loader:\n",
        "      with torch.no_grad():\n",
        "          data = data.to(device)\n",
        "          data_recon = network(data)\n",
        "          loss = mse_image(data_recon, data)\n",
        "          #sum for each batch\n",
        "          test_loss_avg += loss.item()\n",
        "          num_batches += 1  \n",
        "  #Mean between batches\n",
        "  test_loss_avg /= num_batches\n",
        "  #print('Average Reconstruction Error: %f' % (test_loss_avg))\n",
        "  return test_loss_avg"
      ],
      "execution_count": 0,
      "outputs": []
    },
    {
      "cell_type": "markdown",
      "metadata": {
        "id": "gbhL3e6J2zDQ",
        "colab_type": "text"
      },
      "source": [
        "And compute the testing over the test set:"
      ]
    },
    {
      "cell_type": "code",
      "metadata": {
        "id": "yjIwi0Vu22o-",
        "colab_type": "code",
        "colab": {}
      },
      "source": [
        "test_autoen1 = test_model(model1, test_loader)\n",
        "test_autoen2 = test_model(model2, test_loader)\n",
        "test_autoen3 = test_model(model3, test_loader)"
      ],
      "execution_count": 0,
      "outputs": []
    },
    {
      "cell_type": "markdown",
      "metadata": {
        "id": "Z3uZSjWY23z2",
        "colab_type": "text"
      },
      "source": [
        "**Plotting the results:**"
      ]
    },
    {
      "cell_type": "code",
      "metadata": {
        "id": "xovN4jvB296U",
        "colab_type": "code",
        "outputId": "0d0f6962-2dd5-4ec4-d30e-9085f54dc7d4",
        "colab": {
          "base_uri": "https://localhost:8080/",
          "height": 102
        }
      },
      "source": [
        "print(tabulate([\n",
        "                ['Autoencoder1(20)', mean(val_loss1), test_autoen1, num_params1], \n",
        "                ['Autoencoder2(50)', mean(val_loss2), test_autoen2, num_params2], \n",
        "                ['Autoencoder3(100)', mean(val_loss3), test_autoen3, num_params3]\n",
        "                ], \n",
        "               headers=['Model(Bottleneck size)', 'MSE_val', 'MSE_test', 'Num_params']\n",
        "               )\n",
        ")"
      ],
      "execution_count": 14,
      "outputs": [
        {
          "output_type": "stream",
          "text": [
            "Model(Bottleneck size)      MSE_val    MSE_test    Num_params\n",
            "------------------------  ---------  ----------  ------------\n",
            "Autoencoder1(20)          0.0270238  0.0243728         464039\n",
            "Autoencoder2(50)          0.0111544  0.00893421        840689\n",
            "Autoencoder3(100)         0.008198   0.00599393       1468439\n"
          ],
          "name": "stdout"
        }
      ]
    },
    {
      "cell_type": "markdown",
      "metadata": {
        "id": "7kfi_tCY3Doe",
        "colab_type": "text"
      },
      "source": [
        "Now I will **check how they look like** and compare with our input data."
      ]
    },
    {
      "cell_type": "code",
      "metadata": {
        "id": "TCcZEAs9lfnm",
        "colab_type": "code",
        "colab": {}
      },
      "source": [
        "def to_img(x):\n",
        "    x = 0.5 * (x + 1)\n",
        "    x = x.clamp(0, 1)\n",
        "    return x\n",
        "\n",
        "def show_image(img):\n",
        "    img = to_img(img)\n",
        "    npimg = img.numpy()\n",
        "    plt.imshow(np.transpose(npimg, (1, 2, 0)))\n",
        "\n",
        "def visualise_output(images, model):\n",
        "    with torch.no_grad():\n",
        "        images = images.to(device)\n",
        "        images = model(images)\n",
        "        images = images.cpu()\n",
        "        images = to_img(images)\n",
        "        np_imagegrid = utils.make_grid(images[0:5],5, 5).numpy()\n",
        "        plt.imshow(np.transpose(np_imagegrid, (1, 2, 0)))\n",
        "        plt.show()"
      ],
      "execution_count": 0,
      "outputs": []
    },
    {
      "cell_type": "code",
      "metadata": {
        "id": "TuCOe-LO3Lsy",
        "colab_type": "code",
        "outputId": "623db1dc-a167-44cf-d6cd-2415fbc386c3",
        "colab": {
          "base_uri": "https://localhost:8080/",
          "height": 303
        }
      },
      "source": [
        "images, _ = iter(test_loader).next()\n",
        "model1.eval()\n",
        "print('Using model1(Bottleneck = 20)')\n",
        "print('---------------------------------')\n",
        "# First visualise the original images\n",
        "print('Original images')\n",
        "show_image(utils.make_grid(images[0:5],5,5))\n",
        "plt.show()\n",
        "# Reconstruct and visualise the images using the autoencoder\n",
        "print('Autoencoder reconstruction:')\n",
        "visualise_output(images, model1)"
      ],
      "execution_count": 16,
      "outputs": [
        {
          "output_type": "stream",
          "text": [
            "Using model1(Bottleneck = 20)\n",
            "---------------------------------\n",
            "Original images\n"
          ],
          "name": "stdout"
        },
        {
          "output_type": "display_data",
          "data": {
            "image/png": "[encoded data removed]",
            "text/plain": [
              "<Figure size 432x288 with 1 Axes>"
            ]
          },
          "metadata": {
            "tags": []
          }
        },
        {
          "output_type": "stream",
          "text": [
            "Autoencoder reconstruction:\n"
          ],
          "name": "stdout"
        },
        {
          "output_type": "display_data",
          "data": {
            "image/png": "[encoded data removed]",
            "text/plain": [
              "<Figure size 432x288 with 1 Axes>"
            ]
          },
          "metadata": {
            "tags": []
          }
        }
      ]
    },
    {
      "cell_type": "markdown",
      "metadata": {
        "id": "GIMpLy5f3NJa",
        "colab_type": "text"
      },
      "source": [
        "What if I **inject noise** in the decoder's input?"
      ]
    },
    {
      "cell_type": "code",
      "metadata": {
        "id": "XiGkb4txdjC9",
        "colab_type": "code",
        "outputId": "429ecd82-22a3-4cac-94b8-6259d2df34f5",
        "colab": {
          "base_uri": "https://localhost:8080/",
          "height": 126
        }
      },
      "source": [
        "model1.eval()\n",
        "\n",
        "with torch.no_grad():\n",
        "  images, labels = iter(test_loader).next()\n",
        "  images = images.to(device)\n",
        "  latent = model1.encoder(images)\n",
        "  latent = latent.view(latent.size(0), -1)\n",
        "  latent = model1.linear1(latent)\n",
        "  latent = latent.cpu()\n",
        "\n",
        "  mean = latent.mean(dim=0)\n",
        "  std = (latent - mean).pow(2).mean(dim=0).sqrt()\n",
        "\n",
        "  latent = torch.randn(128, 20)*std + mean\n",
        "\n",
        "  # reconstruct images from the latent vectors\n",
        "  latent = latent.to(device)\n",
        "  img_recon = model1.linear2(latent)\n",
        "  img_recon = img_recon.view(img_recon.size(0), hparams['hidden2'], 7, 7)\n",
        "  img_recon = model1.relu(img_recon)\n",
        "  img_recon = model1.decoder(img_recon)\n",
        "  img_recon = img_recon.cpu()\n",
        "\n",
        "  show_image(utils.make_grid(img_recon[:5],5,5))\n",
        "  plt.show()"
      ],
      "execution_count": 17,
      "outputs": [
        {
          "output_type": "display_data",
          "data": {
            "image/png": "[encoded data removed]",
            "text/plain": [
              "<Figure size 432x288 with 1 Axes>"
            ]
          },
          "metadata": {
            "tags": []
          }
        }
      ]
    },
    {
      "cell_type": "markdown",
      "metadata": {
        "id": "6MwNZVp3hM41",
        "colab_type": "text"
      },
      "source": [
        "# **Exercise 2: Transfer Learning**\n"
      ]
    },
    {
      "cell_type": "markdown",
      "metadata": {
        "id": "E4-dErfzhUQR",
        "colab_type": "text"
      },
      "source": [
        "In this exercise I will reuse the encoding part of Model1 (Bottleneck = 20) of the exercise 1 to **classify the images into their corresponding number**. To achieve that I will build several approaches and afterwards I will compare them.\n",
        "\n"
      ]
    },
    {
      "cell_type": "markdown",
      "metadata": {
        "id": "NXZj-hkI2FBe",
        "colab_type": "text"
      },
      "source": [
        "First of all I will get a **subset of 100 images** from our training set."
      ]
    },
    {
      "cell_type": "code",
      "metadata": {
        "id": "YpmPhboy2KIX",
        "colab_type": "code",
        "colab": {}
      },
      "source": [
        "mnist_trainset2, _ = torch.utils.data.random_split(mnist_trainset, [int(len(mnist_trainset)/570),int(len(mnist_trainset)*569/570)])"
      ],
      "execution_count": 0,
      "outputs": []
    },
    {
      "cell_type": "code",
      "metadata": {
        "id": "Qy3GeVqq28QM",
        "colab_type": "code",
        "colab": {}
      },
      "source": [
        "train_loader2 = torch.utils.data.DataLoader(\n",
        "    mnist_trainset2,\n",
        "    batch_size=hparams['batch_size'], \n",
        "    shuffle=True)"
      ],
      "execution_count": 0,
      "outputs": []
    },
    {
      "cell_type": "markdown",
      "metadata": {
        "id": "ziTsOOSi3GM5",
        "colab_type": "text"
      },
      "source": [
        "And I will use, as said, the **model1**(Bottleneck = 20)."
      ]
    },
    {
      "cell_type": "code",
      "metadata": {
        "id": "E3buRnA73MRK",
        "colab_type": "code",
        "colab": {}
      },
      "source": [
        "ex2model1 = copy.deepcopy(model1)\n",
        "ex2model2 = copy.deepcopy(model1)\n",
        "ex2model3 = autoencoder(hparams, hparams['bottleneck1']).cuda()"
      ],
      "execution_count": 0,
      "outputs": []
    },
    {
      "cell_type": "markdown",
      "metadata": {
        "id": "_1n0sEPW3bZL",
        "colab_type": "text"
      },
      "source": [
        "And now we will create a digit (0-9) classification model **reusing the encoder of the autoencoder** and adding what is needed."
      ]
    },
    {
      "cell_type": "markdown",
      "metadata": {
        "id": "rUxO0GwX76gJ",
        "colab_type": "text"
      },
      "source": [
        "First I **define the training** for this particular problem"
      ]
    },
    {
      "cell_type": "code",
      "metadata": {
        "id": "0Pwi_T5W6DKh",
        "colab_type": "code",
        "colab": {}
      },
      "source": [
        "def train_epoch2(train_loader, network, optimizer, criterion, hparams, epoch):\n",
        "  network.train()\n",
        "  device = hparams['device']\n",
        "  losses = []\n",
        "  for batch_idx, (data, target) in enumerate(train_loader, 1):\n",
        "      data = data.to(device)\n",
        "      target = target.to(device)\n",
        "      optimizer.zero_grad()\n",
        "\n",
        "      #Using the encoder + linear + linear + softmax\n",
        "      output = network.encoder(data)\n",
        "      output = output.view(output.size(0), -1)\n",
        "      output = network.linear1(output)\n",
        "      output = network.relu(output)\n",
        "      output = network.linearF(output)\n",
        "      output = network.softmax(output)\n",
        "\n",
        "      loss = criterion(output, target)\n",
        "      loss.backward()\n",
        "      losses.append(loss.item())\n",
        "      optimizer.step()\n",
        "      #if batch_idx % hparams['log_interval'] == 0 or batch_idx >= len(train_loader):\n",
        "       #   print('Train Epoch: {} [{}/{} ({:.0f}%)]\\tLoss: {:.6f}'.format(\n",
        "        #      epoch, batch_idx * len(data), len(train_loader.dataset),\n",
        "         #     100. * batch_idx / len(train_loader), loss.item()\n",
        "          #    ))\n",
        "  return np.mean(losses)\n",
        "\n",
        "def train_net2(network, train_loader, optimizer, num_epochs, criterion):\n",
        "  tr_losses = []\n",
        "\n",
        "  network.to(hparams['device'])\n",
        "\n",
        "  for epoch in range(1, num_epochs + 1):\n",
        "    tr_loss = train_epoch2(train_loader, network, optimizer, criterion, hparams, epoch)\n",
        "    tr_losses.append(tr_loss)\n",
        "  rets = {'tr_losses':tr_losses}\n",
        "  return rets"
      ],
      "execution_count": 0,
      "outputs": []
    },
    {
      "cell_type": "markdown",
      "metadata": {
        "id": "UEXpBjZM5nTP",
        "colab_type": "text"
      },
      "source": [
        "The first approach will be to use **pre-training**, which is using the weights of the autoencoder as initial values for the network weights and train a classification model on the subset of 100 samples."
      ]
    },
    {
      "cell_type": "markdown",
      "metadata": {
        "id": "my-JmNuB8kFR",
        "colab_type": "text"
      },
      "source": [
        "Criterion and optimizer:"
      ]
    },
    {
      "cell_type": "code",
      "metadata": {
        "id": "609dGGTr3kDs",
        "colab_type": "code",
        "colab": {}
      },
      "source": [
        "ex2criterion = nn.CrossEntropyLoss()\n",
        "ex2optimizer1 = torch.optim.Adam(ex2model1.parameters(), lr = hparams['learning_rate'],\n",
        "                             weight_decay = 1e-5)"
      ],
      "execution_count": 0,
      "outputs": []
    },
    {
      "cell_type": "markdown",
      "metadata": {
        "id": "aVbD3JhV8qgA",
        "colab_type": "text"
      },
      "source": [
        "Training:"
      ]
    },
    {
      "cell_type": "code",
      "metadata": {
        "id": "2H55GCX68rcx",
        "colab_type": "code",
        "outputId": "714c34a8-374a-4f84-dbc1-6885b2e3af48",
        "colab": {
          "base_uri": "https://localhost:8080/",
          "height": 71
        }
      },
      "source": [
        "classifier1 = train_net2(ex2model1, train_loader2, ex2optimizer1, hparams['num_epochs2'], ex2criterion)"
      ],
      "execution_count": 23,
      "outputs": [
        {
          "output_type": "stream",
          "text": [
            "/usr/local/lib/python3.6/dist-packages/ipykernel_launcher.py:16: UserWarning: Implicit dimension choice for softmax has been deprecated. Change the call to include dim=X as an argument.\n",
            "  app.launch_new_instance()\n"
          ],
          "name": "stderr"
        }
      ]
    },
    {
      "cell_type": "markdown",
      "metadata": {
        "id": "viCWrlEQBYj5",
        "colab_type": "text"
      },
      "source": [
        "Now I will use **fine-tuning**, which is doing the same, but training the new projection layer with a normal learning rate and the reused part with a very low learning rate.\n"
      ]
    },
    {
      "cell_type": "code",
      "metadata": {
        "id": "7YBOid2RBoOz",
        "colab_type": "code",
        "colab": {}
      },
      "source": [
        "ex2optimizer2 = torch.optim.Adam([\n",
        "    {\"params\": ex2model2.encoder.parameters(), \"lr\": 1e-5},\n",
        "    {\"params\": ex2model2.linear1.parameters(), \"lr\": 1e-3},\n",
        "    {\"params\": ex2model2.linearF.parameters(), \"lr\": 1e-3}],\n",
        "    weight_decay = 1e-5\n",
        "    )"
      ],
      "execution_count": 0,
      "outputs": []
    },
    {
      "cell_type": "markdown",
      "metadata": {
        "id": "feWG-2SuEFFC",
        "colab_type": "text"
      },
      "source": [
        "Training:"
      ]
    },
    {
      "cell_type": "code",
      "metadata": {
        "id": "3dWCdbmJEJPe",
        "colab_type": "code",
        "outputId": "a2f09011-d6cd-417b-ed89-cacfc35214df",
        "colab": {
          "base_uri": "https://localhost:8080/",
          "height": 71
        }
      },
      "source": [
        "classifier2 = train_net2(ex2model2, train_loader2, ex2optimizer2, hparams['num_epochs2'], ex2criterion)"
      ],
      "execution_count": 25,
      "outputs": [
        {
          "output_type": "stream",
          "text": [
            "/usr/local/lib/python3.6/dist-packages/ipykernel_launcher.py:16: UserWarning: Implicit dimension choice for softmax has been deprecated. Change the call to include dim=X as an argument.\n",
            "  app.launch_new_instance()\n"
          ],
          "name": "stderr"
        }
      ]
    },
    {
      "cell_type": "markdown",
      "metadata": {
        "id": "u4j6B5Z-ERbb",
        "colab_type": "text"
      },
      "source": [
        "Now I will start **from scratch**, which mean that I will train the model on the 100 samples without reusing the decoder weights at all."
      ]
    },
    {
      "cell_type": "code",
      "metadata": {
        "id": "wy1SBBdUFo6l",
        "colab_type": "code",
        "colab": {}
      },
      "source": [
        "ex2optimizer3 = torch.optim.Adam(ex2model3.parameters(), lr = hparams['learning_rate'],\n",
        "                             weight_decay = 1e-5)"
      ],
      "execution_count": 0,
      "outputs": []
    },
    {
      "cell_type": "markdown",
      "metadata": {
        "id": "TedX9cGIGCnC",
        "colab_type": "text"
      },
      "source": [
        "Training:"
      ]
    },
    {
      "cell_type": "code",
      "metadata": {
        "id": "qW7x11XRGDzV",
        "colab_type": "code",
        "outputId": "4ca140dc-7bb3-4018-f08d-d088e22b3d30",
        "colab": {
          "base_uri": "https://localhost:8080/",
          "height": 71
        }
      },
      "source": [
        "classifier3 = train_net2(ex2model3, train_loader2, ex2optimizer3, hparams['num_epochs2'], ex2criterion)"
      ],
      "execution_count": 27,
      "outputs": [
        {
          "output_type": "stream",
          "text": [
            "/usr/local/lib/python3.6/dist-packages/ipykernel_launcher.py:16: UserWarning: Implicit dimension choice for softmax has been deprecated. Change the call to include dim=X as an argument.\n",
            "  app.launch_new_instance()\n"
          ],
          "name": "stderr"
        }
      ]
    },
    {
      "cell_type": "markdown",
      "metadata": {
        "id": "GcAB3asNGX63",
        "colab_type": "text"
      },
      "source": [
        "Now let's **test** it:"
      ]
    },
    {
      "cell_type": "code",
      "metadata": {
        "id": "qJ7qr1PmGbdf",
        "colab_type": "code",
        "colab": {}
      },
      "source": [
        "def correct_predictions(predicted_batch, label_batch):\n",
        "  pred = predicted_batch.argmax(dim=1, keepdim=True) # get the index of the max log-probability\n",
        "  acum = pred.eq(label_batch.view_as(pred)).sum().item()\n",
        "  return acum\n",
        "\n",
        "def test_model2(network, test_loader, criterion):\n",
        "  network.eval()\n",
        "  test_loss_avg = 0\n",
        "  num_batches = 0\n",
        "  acc = 0\n",
        "  for data, target in test_loader:\n",
        "      with torch.no_grad():\n",
        "          data = data.to(device)\n",
        "          target = target.to(device)\n",
        "\n",
        "          output = network.encoder(data)\n",
        "          output = output.view(output.size(0), -1)\n",
        "          output = network.linear1(output)\n",
        "          output = network.relu(output)\n",
        "          output = network.linearF(output)\n",
        "          output = network.softmax(output)\n",
        "\n",
        "          acc += correct_predictions(output, target)\n",
        "\n",
        "          num_batches += 1  \n",
        "  test_acc = 100. * acc / len(test_loader.dataset)\n",
        "  #print('Test Acc: %f' % (test_acc))\n",
        "  return test_acc"
      ],
      "execution_count": 0,
      "outputs": []
    },
    {
      "cell_type": "markdown",
      "metadata": {
        "id": "VjgFXAFNJR3g",
        "colab_type": "text"
      },
      "source": [
        "Test the 3 different models."
      ]
    },
    {
      "cell_type": "code",
      "metadata": {
        "id": "TlhajaDIIkSy",
        "colab_type": "code",
        "outputId": "9585fb4a-fecc-4b4a-c9cd-68c04f59a9d6",
        "colab": {
          "base_uri": "https://localhost:8080/",
          "height": 54
        }
      },
      "source": [
        "test_classifier1 = test_model2(ex2model1, test_loader, ex2criterion)\n",
        "test_classifier2 = test_model2(ex2model2, test_loader, ex2criterion)\n",
        "test_classifier3 = test_model2(ex2model3, test_loader, ex2criterion)"
      ],
      "execution_count": 29,
      "outputs": [
        {
          "output_type": "stream",
          "text": [
            "/usr/local/lib/python3.6/dist-packages/ipykernel_launcher.py:21: UserWarning: Implicit dimension choice for softmax has been deprecated. Change the call to include dim=X as an argument.\n"
          ],
          "name": "stderr"
        }
      ]
    },
    {
      "cell_type": "markdown",
      "metadata": {
        "id": "rJ6shf9KJUJ8",
        "colab_type": "text"
      },
      "source": [
        "Let's sumarize the results:"
      ]
    },
    {
      "cell_type": "code",
      "metadata": {
        "id": "T6BR261QJXNE",
        "colab_type": "code",
        "outputId": "a9dd06bf-c9ae-4df6-a847-8da1f03f12cb",
        "colab": {
          "base_uri": "https://localhost:8080/",
          "height": 102
        }
      },
      "source": [
        "print(tabulate([\n",
        "                ['Pre-training', test_classifier1], \n",
        "                ['Fine-tunning', test_classifier2], \n",
        "                ['From scratch', test_classifier3]\n",
        "                ], \n",
        "               headers=['Classifier', 'Acc']\n",
        "               )\n",
        ")"
      ],
      "execution_count": 30,
      "outputs": [
        {
          "output_type": "stream",
          "text": [
            "Classifier      Acc\n",
            "------------  -----\n",
            "Pre-training  83.46\n",
            "Fine-tunning  85.87\n",
            "From scratch  61.15\n"
          ],
          "name": "stdout"
        }
      ]
    },
    {
      "cell_type": "markdown",
      "metadata": {
        "id": "hiuUKEx7x9Gg",
        "colab_type": "text"
      },
      "source": [
        "# **Optional Exercise A: Variational Autoencoder**"
      ]
    },
    {
      "cell_type": "markdown",
      "metadata": {
        "id": "uuD5ZOZU1y4b",
        "colab_type": "text"
      },
      "source": [
        "Here I will turn the autoencoder from exercise 1 into a variational autoencoder. Note that I have added Batch Normalisation, I had to try different things because the results were not good enough."
      ]
    },
    {
      "cell_type": "markdown",
      "metadata": {
        "id": "x30qR8pQCXH9",
        "colab_type": "text"
      },
      "source": [
        "First de **Encoder**"
      ]
    },
    {
      "cell_type": "code",
      "metadata": {
        "id": "WHMh3BBeJcVP",
        "colab_type": "code",
        "colab": {}
      },
      "source": [
        "class VARencoder(nn.Module):\n",
        "  def __init__(self, hparams, bottleneck):\n",
        "    super(VARencoder, self).__init__()\n",
        "\n",
        "    self.bottleneck = bottleneck\n",
        "\n",
        "    self.convs = nn.Sequential(\n",
        "        nn.Conv2d(1, hparams['hidden1'], 3, stride = 1, padding = 1),\n",
        "        nn.BatchNorm2d(hparams['hidden1']), \n",
        "        nn.ReLU(True),\n",
        "        nn.MaxPool2d(2),\n",
        "        nn.Conv2d(hparams['hidden1'], hparams['hidden2'], 3, stride = 1, padding = 1),\n",
        "        nn.BatchNorm2d(hparams['hidden2']),\n",
        "        nn.ReLU(True),\n",
        "        nn.MaxPool2d(2),\n",
        "    )\n",
        "\n",
        "    self.linear1 = nn.Linear(hparams['hidden2']*7*7, bottleneck)\n",
        "    self.linear2 = nn.Linear(hparams['hidden2']*7*7, bottleneck)\n",
        "    self.relu = nn.ReLU()\n",
        "\n",
        "  def forward(self, x):\n",
        "    x = self.convs(x)\n",
        "\n",
        "    x = x.view(x.size(0), -1)\n",
        "\n",
        "    mu = self.linear1(x)\n",
        "    mu = self.relu(mu)\n",
        "\n",
        "    logvar = self.linear2(x)\n",
        "    logvar = self.relu(logvar)\n",
        "\n",
        "    return mu, logvar"
      ],
      "execution_count": 0,
      "outputs": []
    },
    {
      "cell_type": "markdown",
      "metadata": {
        "id": "WPQeYlIdCZ5f",
        "colab_type": "text"
      },
      "source": [
        "Next the **decoder**"
      ]
    },
    {
      "cell_type": "code",
      "metadata": {
        "id": "sOvOYFlDKNJz",
        "colab_type": "code",
        "colab": {}
      },
      "source": [
        "class VARdecoder(nn.Module):\n",
        "  def __init__(self, hparams, bottleneck):\n",
        "    super(VARdecoder, self).__init__()\n",
        "\n",
        "    self.bottleneck = bottleneck\n",
        "\n",
        "    self.convs = nn.Sequential(\n",
        "        nn.ConvTranspose2d(hparams['hidden2'], hparams['hidden1'], 4, stride = 2, padding = 1),\n",
        "        nn.BatchNorm2d(hparams['hidden1']),\n",
        "        nn.ReLU(True),\n",
        "        nn.ConvTranspose2d(hparams['hidden1'], 1, 4, stride = 2, padding = 1),\n",
        "        nn.BatchNorm2d(1),\n",
        "        nn.Tanh()\n",
        "    )\n",
        "\n",
        "    self.linear = nn.Linear(bottleneck, hparams['hidden2']*7*7)\n",
        "    self.relu = nn.ReLU()\n",
        "\n",
        "  def forward(self, x):\n",
        "    x = self.linear(x)\n",
        "    x = self.relu(x)\n",
        "    x = x.view(x.size(0), hparams['hidden2'], 7, 7)\n",
        "    x = self.convs(x)\n",
        "    return x"
      ],
      "execution_count": 0,
      "outputs": []
    },
    {
      "cell_type": "markdown",
      "metadata": {
        "id": "D1Evd6cyCc4C",
        "colab_type": "text"
      },
      "source": [
        "And now the whole **autoencoder**"
      ]
    },
    {
      "cell_type": "code",
      "metadata": {
        "id": "XKhDeakcKpxB",
        "colab_type": "code",
        "colab": {}
      },
      "source": [
        "class VARautoencoder(nn.Module):\n",
        "  def __init__(self, hparams, bottleneck, num_z):\n",
        "    super(VARautoencoder,self).__init__()\n",
        "    self.encoder = VARencoder(hparams, bottleneck)\n",
        "    self.decoder = VARdecoder(hparams, bottleneck)\n",
        "    self.num_z = num_z\n",
        "\n",
        "  def reparametrize(self, mu, logvar):\n",
        "      if self.training:\n",
        "        z = []\n",
        "        for i in range(self.num_z):\n",
        "          std = logvar.mul(0.5).exp_()\n",
        "          eps = torch.cuda.FloatTensor(std.size()).normal_()\n",
        "          eps = Variable(eps)\n",
        "          z.append(eps.mul(std).add_(mu)) \n",
        "        return z\n",
        "      else: \n",
        "        return mu\n",
        "\n",
        "  def loss_function(self, recon_x, x, mu, logvar):\n",
        "    reconstruction_error = nn.MSELoss()\n",
        "    reconstruction_error.size_average = False\n",
        "    BCE = 0\n",
        "    if self.training:\n",
        "      for y in recon_x:\n",
        "        BCE += reconstruction_error(y,x)\n",
        "      BCE /= len(recon_x)\n",
        "    else:\n",
        "      BCE += reconstruction_error(recon_x,x)\n",
        "\n",
        "    KLD = -0.5*torch.sum(1 + logvar - mu.pow(2) - logvar.exp())\n",
        "    #KLD_element = mu.pow(2).add_(logvar.exp()).mul_(-1).add_(1).add_(logvar)\n",
        "    #KLD = torch.sum(KLD_element).mul_(-0.5)\n",
        "    KLD /= int(x.view(-1).shape[0])\n",
        "    return BCE + KLD\n",
        "\n",
        "  def forward(self,x):\n",
        "    mu, logvar = self.encoder(x)\n",
        "    z = self.reparametrize(mu, logvar)\n",
        "    if self.training:\n",
        "      return [self.decoder(z) for z in z], mu, logvar\n",
        "    else:\n",
        "      return self.decoder(z), mu, logvar"
      ],
      "execution_count": 0,
      "outputs": []
    },
    {
      "cell_type": "markdown",
      "metadata": {
        "id": "DcV8h4sjCh-L",
        "colab_type": "text"
      },
      "source": [
        "Now I define the **training** again, because there some minor changes. Not the best practices but I did not have time to wrap it all up in just one proper and unique training definition."
      ]
    },
    {
      "cell_type": "code",
      "metadata": {
        "id": "GSVFjqU2BOYT",
        "colab_type": "code",
        "colab": {}
      },
      "source": [
        "def train_epochVar(train_loader, network, optimizer, hparams, epoch):\n",
        "  network.train()\n",
        "  device = hparams['device']\n",
        "  losses = []\n",
        "  for batch_idx, (data, target) in enumerate(train_loader, 1):\n",
        "      data = data.to(device)\n",
        "      optimizer.zero_grad()\n",
        "\n",
        "      output, mu, logvar = network(data)\n",
        "\n",
        "      loss = network.loss_function(output, data, mu, logvar)\n",
        "      loss.backward()\n",
        "      losses.append(loss.item())\n",
        "      optimizer.step()\n",
        "\n",
        "      if batch_idx % hparams['log_interval'] == 0 or batch_idx >= len(train_loader):\n",
        "        dataset_length = len(train_loader) * hparams['batch_size']\n",
        "        processed = batch_idx * hparams['batch_size']\n",
        "        processed_str = format(processed, '0'+str(len(str(dataset_length))))\n",
        "        ratio = round((100. * batch_idx / len(train_loader)),0)\n",
        "        loss_str = str(round(loss.item(),6))\n",
        "        #print(f\"Train Epoch: {epoch} [{processed_str}/{dataset_length} \"+\\\n",
        "                  #f\"({ratio}%)]\\tLoss: {loss_str}\")\n",
        "  return losses\n",
        "\n",
        "def eval_epochVar(val_loader, network, hparams):\n",
        "  network.eval()\n",
        "  device = hparams['device']\n",
        "  eval_loss = []\n",
        "  with torch.no_grad():\n",
        "      for data, target in val_loader:\n",
        "          data = data.to(device)\n",
        "          output, mu, logvar = network(data)\n",
        "          e_loss = network.loss_function(output, data, mu, logvar).item()\n",
        "          eval_loss.append(e_loss)\n",
        "  \n",
        "  avg_loss = sum(eval_loss) / len(eval_loss)\n",
        "  val_loss_str = str(round(avg_loss,6))\n",
        "  #print(f\"\\nValidation:\\t\\t\\t\\tLoss: {val_loss_str} \\n\\n\")\n",
        "  return avg_loss\n",
        "\n",
        "def train_netVar(network, train_loader, eval_loader, optimizer, num_epochs, plot=False):\n",
        "  tr_losses = []\n",
        "  te_losses = []\n",
        "  valid_x = []\n",
        "\n",
        "  network.to(hparams['device'])\n",
        "  criterion = nn.MSELoss()\n",
        "\n",
        "  for epoch in range(1, num_epochs + 1):\n",
        "    tr_loss = train_epochVar(train_loader, network, optimizer, hparams, epoch)\n",
        "    te_loss = eval_epochVar(eval_loader, network, hparams)\n",
        "    tr_losses.extend(tr_loss)\n",
        "    te_losses.append(te_loss)\n",
        "    valid_x.append(len(tr_losses)-1)\n",
        "  \n",
        "  train_x = range(len(tr_losses))\n",
        "\n",
        "  rets = {'tr_losses':tr_losses, 'te_losses':te_losses, 'valid_x': valid_x, 'train_x':train_x}\n",
        "  if plot:\n",
        "    plt.figure(figsize=(10, 8))\n",
        "    plt.subplot(2,1,1)\n",
        "    plt.xlabel('Epoch')\n",
        "    plt.ylabel('NLLLoss')\n",
        "    plt.plot(tr_losses, label='Train')\n",
        "    plt.plot(te_losses, label='Eval')\n",
        "    plt.legend()\n",
        "  return rets"
      ],
      "execution_count": 0,
      "outputs": []
    },
    {
      "cell_type": "markdown",
      "metadata": {
        "id": "DImRBfYQDCJ8",
        "colab_type": "text"
      },
      "source": [
        "**Model** and **optimizer**"
      ]
    },
    {
      "cell_type": "code",
      "metadata": {
        "id": "tHQn0rgoBfjb",
        "colab_type": "code",
        "colab": {}
      },
      "source": [
        "modelVar = VARautoencoder(hparams, hparams['bottleneck1'], num_z = 15).cuda()\n",
        "optimizerVar = torch.optim.Adam(modelVar.parameters(), lr = hparams['learning_rate'],\n",
        "                             weight_decay = 1e-5)"
      ],
      "execution_count": 0,
      "outputs": []
    },
    {
      "cell_type": "markdown",
      "metadata": {
        "id": "TWM9BDnzDGXR",
        "colab_type": "text"
      },
      "source": [
        "**Training**"
      ]
    },
    {
      "cell_type": "code",
      "metadata": {
        "id": "3sxOcjm7BkCP",
        "colab_type": "code",
        "colab": {}
      },
      "source": [
        "VARautoen = train_netVar(modelVar, train_loader, val_loader, optimizerVar, hparams['num_epochs'])"
      ],
      "execution_count": 0,
      "outputs": []
    },
    {
      "cell_type": "markdown",
      "metadata": {
        "id": "9AqbD5GQDPra",
        "colab_type": "text"
      },
      "source": [
        "I define a function for being able to visualize the outputs:"
      ]
    },
    {
      "cell_type": "code",
      "metadata": {
        "id": "Gsy5jNzil0ZB",
        "colab_type": "code",
        "colab": {}
      },
      "source": [
        "def visualise_output2(images, model):\n",
        "    with torch.no_grad():\n",
        "        images = images.to(device)\n",
        "        images, _, _ = model(images)\n",
        "        images = images.cpu()\n",
        "        images = to_img(images)\n",
        "        np_imagegrid = utils.make_grid(images[5:10],5, 5).numpy()\n",
        "        plt.imshow(np.transpose(np_imagegrid, (1, 2, 0)))\n",
        "        plt.show()"
      ],
      "execution_count": 0,
      "outputs": []
    },
    {
      "cell_type": "markdown",
      "metadata": {
        "id": "pxzVA72yDVRC",
        "colab_type": "text"
      },
      "source": [
        "And now I use it to **see the reconstruction**"
      ]
    },
    {
      "cell_type": "code",
      "metadata": {
        "id": "WzNJdGLBfMQ6",
        "colab_type": "code",
        "outputId": "45ad8a1c-7c30-4986-ba5c-5d2719fa2ddb",
        "colab": {
          "base_uri": "https://localhost:8080/",
          "height": 303
        }
      },
      "source": [
        "images, _ = iter(test_loader).next()\n",
        "modelVar.eval()\n",
        "print('Using (Bottleneck = 20)')\n",
        "print('---------------------------------')\n",
        "# First visualise the original images\n",
        "print('Original images')\n",
        "show_image(utils.make_grid(images[5:10],5,5))\n",
        "plt.show()\n",
        "# Reconstruct and visualise the images using the autoencoder\n",
        "print('Autoencoder reconstruction:')\n",
        "visualise_output2(images, modelVar)"
      ],
      "execution_count": 38,
      "outputs": [
        {
          "output_type": "stream",
          "text": [
            "Using (Bottleneck = 20)\n",
            "---------------------------------\n",
            "Original images\n"
          ],
          "name": "stdout"
        },
        {
          "output_type": "display_data",
          "data": {
            "image/png": "[encoded data removed]",
            "text/plain": [
              "<Figure size 432x288 with 1 Axes>"
            ]
          },
          "metadata": {
            "tags": []
          }
        },
        {
          "output_type": "stream",
          "text": [
            "Autoencoder reconstruction:\n"
          ],
          "name": "stdout"
        },
        {
          "output_type": "display_data",
          "data": {
            "image/png": "[encoded data removed]",
            "text/plain": [
              "<Figure size 432x288 with 1 Axes>"
            ]
          },
          "metadata": {
            "tags": []
          }
        }
      ]
    },
    {
      "cell_type": "markdown",
      "metadata": {
        "id": "qhX4Lh-ODcJG",
        "colab_type": "text"
      },
      "source": [
        "Finally, I check what is the output when **injecting a random input** to the decoder."
      ]
    },
    {
      "cell_type": "code",
      "metadata": {
        "id": "CKAsa-f1kgpG",
        "colab_type": "code",
        "outputId": "644edefe-6881-4a51-a537-8875ad12ed94",
        "colab": {
          "base_uri": "https://localhost:8080/",
          "height": 126
        }
      },
      "source": [
        "modelVar.eval()\n",
        "\n",
        "latent = torch.randn(5, hparams['bottleneck1'])\n",
        "output = modelVar.decoder(latent.to(device))\n",
        "output = output.detach().cpu()\n",
        "\n",
        "show_image(utils.make_grid(output[:5],5,5))\n",
        "plt.show()\n"
      ],
      "execution_count": 39,
      "outputs": [
        {
          "output_type": "display_data",
          "data": {
            "image/png": "[encoded data removed]",
            "text/plain": [
              "<Figure size 432x288 with 1 Axes>"
            ]
          },
          "metadata": {
            "tags": []
          }
        }
      ]
    }
  ]
}
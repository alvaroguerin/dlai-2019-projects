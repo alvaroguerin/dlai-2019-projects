{
  "nbformat": 4,
  "nbformat_minor": 0,
  "metadata": {
    "colab": {
      "name": "team13.ipynb",
      "provenance": [],
      "collapsed_sections": []
    },
    "kernelspec": {
      "name": "python3",
      "display_name": "Python 3"
    },
    "accelerator": "GPU"
  },
  "cells": [
    {
      "cell_type": "markdown",
      "metadata": {
        "id": "ZAN97QD3ME9S",
        "colab_type": "text"
      },
      "source": [
        "# **DLAI PROJECT**\n",
        "\n",
        "Project created by Carles Garcia Cabrera (Group 13), student of DLAI during autumm 2019, under the supervison of Noé Casas and Xavier Giró.\n",
        "\n",
        "The project is broken down in 4 different parts:\n",
        "  - Exercise 1: Convolutional Autoencoder\n",
        "  - Exercise 2: Transfer Learning\n",
        "  - Optional exercise A: Variational Autoencoder\n",
        "  - Optional exercise B: Conditional GAN\n",
        "\n",
        "During the whole notebook I will try to explain what I want to do before coding it and along the code I will comment the commands that I feel are most important."
      ]
    },
    {
      "cell_type": "markdown",
      "metadata": {
        "id": "tRzUbdcrNsSP",
        "colab_type": "text"
      },
      "source": [
        "# **Let's start!**\n",
        "First of all the imports for the packages I am going to use:"
      ]
    },
    {
      "cell_type": "code",
      "metadata": {
        "id": "jdpYc_nvL_2w",
        "colab_type": "code",
        "colab": {}
      },
      "source": [
        "#Core libraries\n",
        "import numpy as np\n",
        "np.random.seed(1)\n",
        "\n",
        "import torch\n",
        "import torch.optim as optim\n",
        "torch.manual_seed(1)\n",
        "if torch.cuda.is_available():\n",
        "  torch.cuda.manual_seed_all(1)\n",
        "import torch.nn as nn\n",
        "import torch.nn.functional as F\n",
        "from torchvision import datasets, transforms, utils\n",
        "from torch.autograd import Variable\n",
        "\n",
        "import matplotlib\n",
        "%matplotlib inline\n",
        "import matplotlib.pyplot as plt\n",
        "\n",
        "from tabulate import tabulate\n",
        "from statistics import mean\n",
        "\n",
        "import copy\n",
        "\n",
        "#GPU Enabling\n",
        "if not torch.cuda.is_available():\n",
        "    raise Exception(\"You should enable GPU in the runtime menu.\")\n",
        "device = torch.device(\"cuda:0\")"
      ],
      "execution_count": 0,
      "outputs": []
    },
    {
      "cell_type": "markdown",
      "metadata": {
        "id": "6OX01DPIPcP7",
        "colab_type": "text"
      },
      "source": [
        "# **Exercise 1: Convolutional Autoencoder**\n",
        "First we will load the **MNIST dataset** and then we will split the trainig data into 95% train and 5% validation."
      ]
    },
    {
      "cell_type": "code",
      "metadata": {
        "id": "oHhquCBmPr4_",
        "colab_type": "code",
        "colab": {}
      },
      "source": [
        "#Train import\n",
        "mnist_trainset = datasets.MNIST('data', train=True, download=True,\n",
        "                                transform=transforms.Compose([\n",
        "                                    transforms.ToTensor(),\n",
        "                                    transforms.Normalize((0.5,), (0.5,))\n",
        "                                    ]))\n",
        "##Split train into train and val\n",
        "mnist_trainset, mnist_valset = torch.utils.data.random_split(mnist_trainset, [int(len(mnist_trainset)*0.95),int(len(mnist_trainset)*0.05)])\n",
        "\n",
        "#Test\n",
        "mnist_testset = datasets.MNIST('data', train=False, \n",
        "                               transform=transforms.Compose([\n",
        "                                   transforms.ToTensor(),\n",
        "                                   transforms.Normalize((0.5,), (0.5,))\n",
        "                               ]))\n"
      ],
      "execution_count": 0,
      "outputs": []
    },
    {
      "cell_type": "markdown",
      "metadata": {
        "id": "CFI3u8Jka0ne",
        "colab_type": "text"
      },
      "source": [
        "And now some hyperparametes that we will use during the exercise:"
      ]
    },
    {
      "cell_type": "code",
      "metadata": {
        "id": "jm2IQ0Xea7TA",
        "colab_type": "code",
        "colab": {}
      },
      "source": [
        "hparams = {\n",
        "    'batch_size':128,\n",
        "    'num_epochs':30,\n",
        "    'num_epochs2':1000,\n",
        "    'num_epochs3':500,\n",
        "    'num_epochs4':2000,\n",
        "    'test_batch_size':64,\n",
        "    'hidden1':64,\n",
        "    'hidden2':128,\n",
        "    'bottleneck1':20,\n",
        "    'bottleneck2':50,\n",
        "    'bottleneck3':100,\n",
        "    'learning_rate':1e-3,\n",
        "    'log_interval': 100,\n",
        "    'num_classes': 10\n",
        "}\n",
        "hparams['device'] = 'cuda' if torch.cuda.is_available() else 'cpu'"
      ],
      "execution_count": 0,
      "outputs": []
    },
    {
      "cell_type": "markdown",
      "metadata": {
        "id": "GpgkGO5gaXUM",
        "colab_type": "text"
      },
      "source": [
        "And now the dataloaders:"
      ]
    },
    {
      "cell_type": "code",
      "metadata": {
        "id": "dPKaE1jzYyh1",
        "colab_type": "code",
        "colab": {}
      },
      "source": [
        "train_loader = torch.utils.data.DataLoader(\n",
        "    mnist_trainset,\n",
        "    batch_size=hparams['batch_size'], \n",
        "    shuffle=True)\n",
        "\n",
        "val_loader = torch.utils.data.DataLoader(\n",
        "    mnist_valset,\n",
        "    batch_size=hparams['batch_size'], \n",
        "    shuffle=True)\n",
        "\n",
        "test_loader = torch.utils.data.DataLoader(\n",
        "    mnist_testset,\n",
        "    batch_size=hparams['test_batch_size'], \n",
        "    shuffle=False)"
      ],
      "execution_count": 0,
      "outputs": []
    },
    {
      "cell_type": "markdown",
      "metadata": {
        "id": "26KQmiPzbH7X",
        "colab_type": "text"
      },
      "source": [
        "Now we will implement three different **autoencoders**, the difference is the bottleneck size."
      ]
    },
    {
      "cell_type": "code",
      "metadata": {
        "id": "cr-_lmHpSZ-7",
        "colab_type": "code",
        "colab": {}
      },
      "source": [
        "class autoencoder(nn.Module):\n",
        "  def __init__(self, hparams, bottleneck):\n",
        "    super(autoencoder,self).__init__()\n",
        "    self.encoder = nn.Sequential(\n",
        "        nn.Conv2d(1, hparams['hidden1'], 3, stride = 1, padding = 1), \n",
        "        nn.ReLU(True),\n",
        "        nn.MaxPool2d(2),\n",
        "        nn.Conv2d(hparams['hidden1'], hparams['hidden2'], 3, stride = 1, padding = 1),\n",
        "        nn.ReLU(True),\n",
        "        nn.MaxPool2d(2),\n",
        "    )\n",
        "\n",
        "    self.linear1 = nn.Linear(hparams['hidden2']*7*7, bottleneck)\n",
        "    self.linear2 = nn.Linear(bottleneck, hparams['hidden2']*7*7)\n",
        "    self.linearF = nn.Linear(bottleneck, hparams['num_classes'])\n",
        "    self.relu = nn.ReLU()\n",
        "    self.softmax = nn.Softmax()\n",
        "\n",
        "    self.decoder = nn.Sequential(\n",
        "        nn.ConvTranspose2d(hparams['hidden2'], hparams['hidden1'], 4, stride = 2, padding = 1),\n",
        "        nn.ReLU(True),\n",
        "        nn.ConvTranspose2d(hparams['hidden1'], 1, 4, stride = 2, padding = 1),\n",
        "        nn.Tanh()\n",
        "    )\n",
        "  \n",
        "  def forward(self, x):\n",
        "    x = self.encoder(x)\n",
        "    #bottleneck\n",
        "    x = x.view(x.size(0), -1)\n",
        "    x = self.linear1(x)\n",
        "    x = self.linear2(x)\n",
        "    x = x.view(x.size(0), hparams['hidden2'], 7, 7)\n",
        "    ##\n",
        "    y = self.decoder(x)\n",
        "    return y"
      ],
      "execution_count": 0,
      "outputs": []
    },
    {
      "cell_type": "markdown",
      "metadata": {
        "id": "q2k1texjtf68",
        "colab_type": "text"
      },
      "source": [
        "Now, let's define the **training**:"
      ]
    },
    {
      "cell_type": "code",
      "metadata": {
        "id": "05ErO6I9edmz",
        "colab_type": "code",
        "colab": {}
      },
      "source": [
        "def train_epoch(train_loader, network, optimizer, criterion, hparams, epoch):\n",
        "  network.train()\n",
        "  device = hparams['device']\n",
        "  losses = []\n",
        "  for batch_idx, (data, target) in enumerate(train_loader, 1):\n",
        "      data = data.to(device)\n",
        "      optimizer.zero_grad()\n",
        "      output = network(data)\n",
        "      loss = criterion(output, data)\n",
        "      loss.backward()\n",
        "      losses.append(loss.item())\n",
        "      optimizer.step()\n",
        "\n",
        "      if batch_idx % hparams['log_interval'] == 0 or batch_idx >= len(train_loader):\n",
        "        dataset_length = len(train_loader) * hparams['batch_size']\n",
        "        processed = batch_idx * hparams['batch_size']\n",
        "        processed_str = format(processed, '0'+str(len(str(dataset_length))))\n",
        "        ratio = round((100. * batch_idx / len(train_loader)),0)\n",
        "        loss_str = str(round(loss.item(),6))\n",
        "        #print(f\"Train Epoch: {epoch} [{processed_str}/{dataset_length} \"+\\\n",
        "                  #f\"({ratio}%)]\\tLoss: {loss_str}\")\n",
        "  return losses\n",
        "\n",
        "def eval_epoch(val_loader, network, criterion, hparams):\n",
        "  network.eval()\n",
        "  device = hparams['device']\n",
        "  eval_loss = []\n",
        "  with torch.no_grad():\n",
        "      for data, target in val_loader:\n",
        "          data = data.to(device)\n",
        "          output = network(data)\n",
        "          e_loss = criterion(output, data).item()\n",
        "          eval_loss.append(e_loss)\n",
        "  \n",
        "  avg_loss = sum(eval_loss) / len(eval_loss)\n",
        "  val_loss_str = str(round(avg_loss,6))\n",
        "  #print(f\"\\nValidation:\\t\\t\\t\\tLoss: {val_loss_str} \\n\\n\")\n",
        "  return avg_loss\n",
        "\n",
        "def train_net(network, train_loader, eval_loader, optimizer, num_epochs, plot=False):\n",
        "  tr_losses = []\n",
        "  te_losses = []\n",
        "  valid_x = []\n",
        "\n",
        "  network.to(hparams['device'])\n",
        "  criterion = nn.MSELoss()\n",
        "\n",
        "  for epoch in range(1, num_epochs + 1):\n",
        "    tr_loss = train_epoch(train_loader, network, optimizer, criterion, hparams, epoch)\n",
        "    te_loss = eval_epoch(eval_loader, network, criterion, hparams)\n",
        "    tr_losses.extend(tr_loss)\n",
        "    te_losses.append(te_loss)\n",
        "    valid_x.append(len(tr_losses)-1)\n",
        "  \n",
        "  train_x = range(len(tr_losses))\n",
        "\n",
        "  rets = {'tr_losses':tr_losses, 'te_losses':te_losses, 'valid_x': valid_x, 'train_x':train_x}\n",
        "  if plot:\n",
        "    plt.figure(figsize=(10, 8))\n",
        "    plt.subplot(2,1,1)\n",
        "    plt.xlabel('Epoch')\n",
        "    plt.ylabel('NLLLoss')\n",
        "    plt.plot(tr_losses, label='Train')\n",
        "    plt.plot(te_losses, label='Eval')\n",
        "    plt.legend()\n",
        "  return rets"
      ],
      "execution_count": 0,
      "outputs": []
    },
    {
      "cell_type": "markdown",
      "metadata": {
        "id": "HBZOiAATsa3a",
        "colab_type": "text"
      },
      "source": [
        "Model, criterion and optimizer:"
      ]
    },
    {
      "cell_type": "code",
      "metadata": {
        "id": "RoVpTNKMSvgu",
        "colab_type": "code",
        "colab": {}
      },
      "source": [
        "#Criterion\n",
        "criterion = nn.MSELoss()\n",
        "\n",
        "#Models, optimizers, and model sizes\n",
        "model1 = autoencoder(hparams, hparams['bottleneck1']).cuda()\n",
        "optimizer1 = torch.optim.Adam(model1.parameters(), lr = hparams['learning_rate'],\n",
        "                             weight_decay = 1e-5)\n",
        "num_params1 = sum(p.numel() for p in model1.parameters() if p.requires_grad)\n",
        "\n",
        "model2 = autoencoder(hparams, hparams['bottleneck2']).cuda()\n",
        "optimizer2 = torch.optim.Adam(model2.parameters(), lr = hparams['learning_rate'],\n",
        "                             weight_decay = 1e-5)\n",
        "num_params2 = sum(p.numel() for p in model2.parameters() if p.requires_grad)\n",
        "\n",
        "model3 = autoencoder(hparams, hparams['bottleneck3']).cuda()\n",
        "optimizer3 = torch.optim.Adam(model3.parameters(), lr = hparams['learning_rate'],\n",
        "                             weight_decay = 1e-5)\n",
        "num_params3 = sum(p.numel() for p in model3.parameters() if p.requires_grad)"
      ],
      "execution_count": 0,
      "outputs": []
    },
    {
      "cell_type": "markdown",
      "metadata": {
        "id": "_5Wg9wTZ_AWv",
        "colab_type": "text"
      },
      "source": [
        "Let's **TRAIN**"
      ]
    },
    {
      "cell_type": "code",
      "metadata": {
        "id": "uzzN7wiPXOML",
        "colab_type": "code",
        "colab": {}
      },
      "source": [
        "autoen1 = train_net(model1, train_loader, val_loader, optimizer1, hparams['num_epochs'])"
      ],
      "execution_count": 0,
      "outputs": []
    },
    {
      "cell_type": "code",
      "metadata": {
        "id": "npU2bqbknNqZ",
        "colab_type": "code",
        "colab": {}
      },
      "source": [
        "autoen2 = train_net(model2, train_loader, val_loader, optimizer2, hparams['num_epochs'])"
      ],
      "execution_count": 0,
      "outputs": []
    },
    {
      "cell_type": "code",
      "metadata": {
        "id": "Nl_iO9i-idNf",
        "colab_type": "code",
        "colab": {}
      },
      "source": [
        "autoen3 = train_net(model3, train_loader, val_loader, optimizer3, hparams['num_epochs'])"
      ],
      "execution_count": 0,
      "outputs": []
    },
    {
      "cell_type": "markdown",
      "metadata": {
        "id": "p4hD1vzHhkEv",
        "colab_type": "text"
      },
      "source": [
        "We can see how, the bigger the bottleneck and hence the smaller the compression, the smaller the loss.\n",
        "\n",
        "Let's plot all the curves in the same chart:"
      ]
    },
    {
      "cell_type": "code",
      "metadata": {
        "id": "Ke_46veTh83x",
        "colab_type": "code",
        "outputId": "85c8bf17-8b68-482f-de53-94c1935ac612",
        "colab": {
          "base_uri": "https://localhost:8080/",
          "height": 497
        }
      },
      "source": [
        "train_x1 = autoen1['train_x']\n",
        "train_loss1 = autoen1[\"tr_losses\"]\n",
        "val_x1 = autoen1[\"valid_x\"]\n",
        "val_loss1 = autoen1[\"te_losses\"]\n",
        "\n",
        "train_x2 = autoen2['train_x']\n",
        "train_loss2 = autoen2[\"tr_losses\"]\n",
        "val_x2 = autoen2[\"valid_x\"]\n",
        "val_loss2 = autoen2[\"te_losses\"]\n",
        "\n",
        "train_x3 = autoen3['train_x']\n",
        "train_loss3 = autoen3[\"tr_losses\"]\n",
        "val_x3 = autoen3[\"valid_x\"]\n",
        "val_loss3 = autoen3[\"te_losses\"]\n",
        "\n",
        "plt.figure(figsize=(14, 8))\n",
        "plt.xlabel('Epochs')\n",
        "plt.ylabel('MSE')\n",
        "\n",
        "plt.plot(train_x1, train_loss1, '-', label='Autoencoder1_Train (Bottleneck size = 20)')\n",
        "plt.plot(val_x1, val_loss1, 'o', label='Autoencoder1_Eval (Bottleneck size = 20)')\n",
        "plt.plot(train_x2, train_loss2, '-', label='Autoencoder2_Train (Bottleneck size = 50)')\n",
        "plt.plot(val_x2, val_loss2, 'o', label='Autoencoder2_Eval (Bottleneck size = 50)')\n",
        "plt.plot(train_x3, train_loss3, '-', label='Autoencoder3_Train3 (Bottleneck size = 100)')\n",
        "plt.plot(val_x3, val_loss3, 'o', label='Autoencoder3_Eval3 (Bottleneck size = 100)')\n",
        "\n",
        "plt.xticks(np.arange(0, max(train_x1),\n",
        "                     step=max(train_x1)/hparams['num_epochs']), \n",
        "                     [i + 1 for i in range(hparams['num_epochs'])])\n",
        "\n",
        "plt.grid(True)\n",
        "plt.legend()\n",
        "plt.show()"
      ],
      "execution_count": 11,
      "outputs": [
        {
          "output_type": "display_data",
          "data": {
            "image/png": "[encoded data removed]",
            "text/plain": [
              "<Figure size 1008x576 with 1 Axes>"
            ]
          },
          "metadata": {
            "tags": []
          }
        }
      ]
    },
    {
      "cell_type": "markdown",
      "metadata": {
        "id": "-wwqnxRRvTp_",
        "colab_type": "text"
      },
      "source": [
        "Now we need to define the **testing**:"
      ]
    },
    {
      "cell_type": "code",
      "metadata": {
        "id": "mCIfFkqovUP8",
        "colab_type": "code",
        "colab": {}
      },
      "source": [
        "def test_model(network, test_loader):\n",
        "  network.eval()\n",
        "  test_loss_avg = 0\n",
        "  num_batches = 0\n",
        "  for data, _ in test_loader:\n",
        "      with torch.no_grad():\n",
        "          data = data.to(device)\n",
        "          data_recon = network(data)\n",
        "          loss = F.mse_loss(data_recon, data)\n",
        "          test_loss_avg += loss.item()\n",
        "          num_batches += 1  \n",
        "  test_loss_avg /= num_batches\n",
        "  #print('Average Reconstruction Error: %f' % (test_loss_avg))\n",
        "  return test_loss_avg"
      ],
      "execution_count": 0,
      "outputs": []
    },
    {
      "cell_type": "markdown",
      "metadata": {
        "id": "gbhL3e6J2zDQ",
        "colab_type": "text"
      },
      "source": [
        "And compute the testing set:"
      ]
    },
    {
      "cell_type": "code",
      "metadata": {
        "id": "yjIwi0Vu22o-",
        "colab_type": "code",
        "colab": {}
      },
      "source": [
        "test_autoen1 = test_model(model1, test_loader)\n",
        "test_autoen2 = test_model(model2, test_loader)\n",
        "test_autoen3 = test_model(model3, test_loader)"
      ],
      "execution_count": 0,
      "outputs": []
    },
    {
      "cell_type": "markdown",
      "metadata": {
        "id": "Z3uZSjWY23z2",
        "colab_type": "text"
      },
      "source": [
        "Let's wrapp up our results so far (MSE per image):"
      ]
    },
    {
      "cell_type": "code",
      "metadata": {
        "id": "xovN4jvB296U",
        "colab_type": "code",
        "outputId": "d4ade767-cbb4-4de3-df1f-65fe4baabf5c",
        "colab": {
          "base_uri": "https://localhost:8080/",
          "height": 102
        }
      },
      "source": [
        "print(tabulate([\n",
        "                ['Autoencoder1(20)', mean(val_loss1), test_autoen1, num_params1], \n",
        "                ['Autoencoder2(50)', mean(val_loss2), test_autoen2, num_params2], \n",
        "                ['Autoencoder3(100)', mean(val_loss3), test_autoen3, num_params3]\n",
        "                ], \n",
        "               headers=['Model(Bottleneck size)', 'MSE_val', 'MSE_test', 'Num_params']\n",
        "               )\n",
        ")"
      ],
      "execution_count": 14,
      "outputs": [
        {
          "output_type": "stream",
          "text": [
            "Model(Bottleneck size)       MSE_val    MSE_test    Num_params\n",
            "------------------------  ----------  ----------  ------------\n",
            "Autoencoder1(20)          0.026986    0.0242358         464039\n",
            "Autoencoder2(50)          0.0110763   0.00893179        840689\n",
            "Autoencoder3(100)         0.00818461  0.00606574       1468439\n"
          ],
          "name": "stdout"
        }
      ]
    },
    {
      "cell_type": "markdown",
      "metadata": {
        "id": "7kfi_tCY3Doe",
        "colab_type": "text"
      },
      "source": [
        "Good, but we better check how they look like and compare with our input data."
      ]
    },
    {
      "cell_type": "code",
      "metadata": {
        "id": "TuCOe-LO3Lsy",
        "colab_type": "code",
        "outputId": "85f237df-95d9-48e4-bb1f-603471c596fc",
        "colab": {
          "base_uri": "https://localhost:8080/",
          "height": 303
        }
      },
      "source": [
        "def to_img(x):\n",
        "    x = 0.5 * (x + 1)\n",
        "    x = x.clamp(0, 1)\n",
        "    return x\n",
        "\n",
        "def show_image(img):\n",
        "    img = to_img(img)\n",
        "    npimg = img.numpy()\n",
        "    plt.imshow(np.transpose(npimg, (1, 2, 0)))\n",
        "\n",
        "def visualise_output(images, model):\n",
        "    with torch.no_grad():\n",
        "        images = images.to(device)\n",
        "        images = model(images)\n",
        "        images = images.cpu()\n",
        "        images = to_img(images)\n",
        "        np_imagegrid = utils.make_grid(images[0:5],5, 5).numpy()\n",
        "        plt.imshow(np.transpose(np_imagegrid, (1, 2, 0)))\n",
        "        plt.show()\n",
        "\n",
        "from random import sample, randint\n",
        "images, _ = iter(test_loader).next()\n",
        "model1.eval()\n",
        "print('Using model1(Bottleneck = 20)')\n",
        "print('---------------------------------')\n",
        "# First visualise the original images\n",
        "print('Original images')\n",
        "show_image(utils.make_grid(images[0:5],5,5))\n",
        "plt.show()\n",
        "# Reconstruct and visualise the images using the autoencoder\n",
        "print('Autoencoder reconstruction:')\n",
        "visualise_output(images, model1)"
      ],
      "execution_count": 15,
      "outputs": [
        {
          "output_type": "stream",
          "text": [
            "Using model1(Bottleneck = 20)\n",
            "---------------------------------\n",
            "Original images\n"
          ],
          "name": "stdout"
        },
        {
          "output_type": "display_data",
          "data": {
            "image/png": "[encoded data removed]",
            "text/plain": [
              "<Figure size 432x288 with 1 Axes>"
            ]
          },
          "metadata": {
            "tags": []
          }
        },
        {
          "output_type": "stream",
          "text": [
            "Autoencoder reconstruction:\n"
          ],
          "name": "stdout"
        },
        {
          "output_type": "display_data",
          "data": {
            "image/png": "[encoded data removed]",
            "text/plain": [
              "<Figure size 432x288 with 1 Axes>"
            ]
          },
          "metadata": {
            "tags": []
          }
        }
      ]
    },
    {
      "cell_type": "markdown",
      "metadata": {
        "id": "GIMpLy5f3NJa",
        "colab_type": "text"
      },
      "source": [
        "What if we **inject noise** in the decoder's input?"
      ]
    },
    {
      "cell_type": "code",
      "metadata": {
        "id": "XiGkb4txdjC9",
        "colab_type": "code",
        "outputId": "b74073f6-c5d4-4879-a530-2b04d05de13d",
        "colab": {
          "base_uri": "https://localhost:8080/",
          "height": 126
        }
      },
      "source": [
        "model1.eval()\n",
        "\n",
        "with torch.no_grad():\n",
        "  images, labels = iter(test_loader).next()\n",
        "  images = images.to(device)\n",
        "  latent = model1.encoder(images)\n",
        "  latent = latent.view(latent.size(0), -1)\n",
        "  latent = model1.linear1(latent)\n",
        "  latent = latent.cpu()\n",
        "\n",
        "  mean = latent.mean(dim=0)\n",
        "  std = (latent - mean).pow(2).mean(dim=0).sqrt()\n",
        "\n",
        "  latent = torch.randn(128, 20)*std + mean\n",
        "\n",
        "  # reconstruct images from the latent vectors\n",
        "  latent = latent.to(device)\n",
        "  img_recon = model1.linear2(latent)\n",
        "  img_recon = img_recon.view(img_recon.size(0), hparams['hidden2'], 7, 7)\n",
        "  img_recon = model1.relu(img_recon)\n",
        "  img_recon = model1.decoder(img_recon)\n",
        "  img_recon = img_recon.cpu()\n",
        "\n",
        "  show_image(utils.make_grid(img_recon[:5],5,5))\n",
        "  plt.show()"
      ],
      "execution_count": 16,
      "outputs": [
        {
          "output_type": "display_data",
          "data": {
            "image/png": "[encoded data removed]",
            "text/plain": [
              "<Figure size 432x288 with 1 Axes>"
            ]
          },
          "metadata": {
            "tags": []
          }
        }
      ]
    },
    {
      "cell_type": "markdown",
      "metadata": {
        "id": "6MwNZVp3hM41",
        "colab_type": "text"
      },
      "source": [
        "# **Exercise 2: Transfer Learning**\n"
      ]
    },
    {
      "cell_type": "markdown",
      "metadata": {
        "id": "E4-dErfzhUQR",
        "colab_type": "text"
      },
      "source": [
        "In this exercise we will reuse the encoding part of Model1 of the exercise 1 to classify the images into their corresponding number. To achieve that we will build several approaches and afterwards we will compare them.\n",
        "\n"
      ]
    },
    {
      "cell_type": "markdown",
      "metadata": {
        "id": "NXZj-hkI2FBe",
        "colab_type": "text"
      },
      "source": [
        "First of all we will get a subset of 100 images from our training set."
      ]
    },
    {
      "cell_type": "code",
      "metadata": {
        "id": "YpmPhboy2KIX",
        "colab_type": "code",
        "colab": {}
      },
      "source": [
        "mnist_trainset2, _ = torch.utils.data.random_split(mnist_trainset, [int(len(mnist_trainset)/570),int(len(mnist_trainset)*569/570)])"
      ],
      "execution_count": 0,
      "outputs": []
    },
    {
      "cell_type": "code",
      "metadata": {
        "id": "Qy3GeVqq28QM",
        "colab_type": "code",
        "colab": {}
      },
      "source": [
        "train_loader2 = torch.utils.data.DataLoader(\n",
        "    mnist_trainset2,\n",
        "    batch_size=hparams['batch_size'], \n",
        "    shuffle=True)"
      ],
      "execution_count": 0,
      "outputs": []
    },
    {
      "cell_type": "markdown",
      "metadata": {
        "id": "ziTsOOSi3GM5",
        "colab_type": "text"
      },
      "source": [
        "And we will use, as said, the model1"
      ]
    },
    {
      "cell_type": "code",
      "metadata": {
        "id": "E3buRnA73MRK",
        "colab_type": "code",
        "colab": {}
      },
      "source": [
        "ex2model1 = copy.deepcopy(model1)\n",
        "ex2model2 = copy.deepcopy(model1)\n",
        "ex2model3 = autoencoder(hparams, hparams['bottleneck1']).cuda()"
      ],
      "execution_count": 0,
      "outputs": []
    },
    {
      "cell_type": "markdown",
      "metadata": {
        "id": "_1n0sEPW3bZL",
        "colab_type": "text"
      },
      "source": [
        "And now we will create a digit (0-9) classification model **reusing the encoder of the autoencoder** and adding what is needed."
      ]
    },
    {
      "cell_type": "markdown",
      "metadata": {
        "id": "rUxO0GwX76gJ",
        "colab_type": "text"
      },
      "source": [
        "First we define the training for this particular problem"
      ]
    },
    {
      "cell_type": "code",
      "metadata": {
        "id": "0Pwi_T5W6DKh",
        "colab_type": "code",
        "colab": {}
      },
      "source": [
        "def train_epoch2(train_loader, network, optimizer, criterion, hparams, epoch):\n",
        "  network.train()\n",
        "  device = hparams['device']\n",
        "  losses = []\n",
        "  for batch_idx, (data, target) in enumerate(train_loader, 1):\n",
        "      data = data.to(device)\n",
        "      target = target.to(device)\n",
        "      optimizer.zero_grad()\n",
        "\n",
        "      #Using the encoder + linear + linear + softmax\n",
        "      output = network.encoder(data)\n",
        "      output = output.view(output.size(0), -1)\n",
        "      output = network.linear1(output)\n",
        "      output = network.relu(output)\n",
        "      output = network.linearF(output)\n",
        "      output = network.softmax(output)\n",
        "\n",
        "      loss = criterion(output, target)\n",
        "      loss.backward()\n",
        "      losses.append(loss.item())\n",
        "      optimizer.step()\n",
        "      #if batch_idx % hparams['log_interval'] == 0 or batch_idx >= len(train_loader):\n",
        "       #   print('Train Epoch: {} [{}/{} ({:.0f}%)]\\tLoss: {:.6f}'.format(\n",
        "        #      epoch, batch_idx * len(data), len(train_loader.dataset),\n",
        "         #     100. * batch_idx / len(train_loader), loss.item()\n",
        "          #    ))\n",
        "  return np.mean(losses)\n",
        "\n",
        "def train_net2(network, train_loader, optimizer, num_epochs, criterion):\n",
        "  tr_losses = []\n",
        "\n",
        "  network.to(hparams['device'])\n",
        "\n",
        "  for epoch in range(1, num_epochs + 1):\n",
        "    tr_loss = train_epoch2(train_loader, network, optimizer, criterion, hparams, epoch)\n",
        "    tr_losses.append(tr_loss)\n",
        "  rets = {'tr_losses':tr_losses}\n",
        "  return rets"
      ],
      "execution_count": 0,
      "outputs": []
    },
    {
      "cell_type": "markdown",
      "metadata": {
        "id": "UEXpBjZM5nTP",
        "colab_type": "text"
      },
      "source": [
        "The first approach will be to use **pre-training**, which is using the weights of the autoencoder as initial values for the network weights and train a classification model on the subset of 100 samples."
      ]
    },
    {
      "cell_type": "markdown",
      "metadata": {
        "id": "my-JmNuB8kFR",
        "colab_type": "text"
      },
      "source": [
        "Criterion and optimizer"
      ]
    },
    {
      "cell_type": "code",
      "metadata": {
        "id": "609dGGTr3kDs",
        "colab_type": "code",
        "colab": {}
      },
      "source": [
        "ex2criterion = nn.CrossEntropyLoss()\n",
        "ex2optimizer1 = torch.optim.Adam(ex2model1.parameters(), lr = hparams['learning_rate'],\n",
        "                             weight_decay = 1e-5)"
      ],
      "execution_count": 0,
      "outputs": []
    },
    {
      "cell_type": "markdown",
      "metadata": {
        "id": "aVbD3JhV8qgA",
        "colab_type": "text"
      },
      "source": [
        "Training"
      ]
    },
    {
      "cell_type": "code",
      "metadata": {
        "id": "2H55GCX68rcx",
        "colab_type": "code",
        "outputId": "bcf8d405-337e-4ca9-a6e2-ae30b187d856",
        "colab": {
          "base_uri": "https://localhost:8080/",
          "height": 71
        }
      },
      "source": [
        "classifier1 = train_net2(ex2model1, train_loader2, ex2optimizer1, hparams['num_epochs2'], ex2criterion)"
      ],
      "execution_count": 67,
      "outputs": [
        {
          "output_type": "stream",
          "text": [
            "/usr/local/lib/python3.6/dist-packages/ipykernel_launcher.py:16: UserWarning: Implicit dimension choice for softmax has been deprecated. Change the call to include dim=X as an argument.\n",
            "  app.launch_new_instance()\n"
          ],
          "name": "stderr"
        }
      ]
    },
    {
      "cell_type": "markdown",
      "metadata": {
        "id": "viCWrlEQBYj5",
        "colab_type": "text"
      },
      "source": [
        "Now we will use **fine-tuning**, which is doing the same, but training the new projection layer with a normal learning rate and the reused part with a very low learning rate.\n"
      ]
    },
    {
      "cell_type": "code",
      "metadata": {
        "id": "7YBOid2RBoOz",
        "colab_type": "code",
        "colab": {}
      },
      "source": [
        "ex2optimizer2 = torch.optim.Adam([\n",
        "    {\"params\": ex2model2.encoder.parameters(), \"lr\": 1e-5},\n",
        "    {\"params\": ex2model2.linear1.parameters(), \"lr\": 1e-3},\n",
        "    {\"params\": ex2model2.linearF.parameters(), \"lr\": 1e-3}],\n",
        "    weight_decay = 1e-5\n",
        "    )"
      ],
      "execution_count": 0,
      "outputs": []
    },
    {
      "cell_type": "markdown",
      "metadata": {
        "id": "feWG-2SuEFFC",
        "colab_type": "text"
      },
      "source": [
        "Training"
      ]
    },
    {
      "cell_type": "code",
      "metadata": {
        "id": "3dWCdbmJEJPe",
        "colab_type": "code",
        "outputId": "74579f32-6ae4-4f22-8773-4305229af2de",
        "colab": {
          "base_uri": "https://localhost:8080/",
          "height": 71
        }
      },
      "source": [
        "classifier2 = train_net2(ex2model2, train_loader2, ex2optimizer2, hparams['num_epochs2'], ex2criterion)"
      ],
      "execution_count": 69,
      "outputs": [
        {
          "output_type": "stream",
          "text": [
            "/usr/local/lib/python3.6/dist-packages/ipykernel_launcher.py:16: UserWarning: Implicit dimension choice for softmax has been deprecated. Change the call to include dim=X as an argument.\n",
            "  app.launch_new_instance()\n"
          ],
          "name": "stderr"
        }
      ]
    },
    {
      "cell_type": "markdown",
      "metadata": {
        "id": "u4j6B5Z-ERbb",
        "colab_type": "text"
      },
      "source": [
        "Now we will start **from scratch**, which mean that we will train the model on the 100 samples without reusing the decoder weights at all."
      ]
    },
    {
      "cell_type": "code",
      "metadata": {
        "id": "wy1SBBdUFo6l",
        "colab_type": "code",
        "colab": {}
      },
      "source": [
        "ex2optimizer3 = torch.optim.Adam(ex2model3.parameters(), lr = hparams['learning_rate'],\n",
        "                             weight_decay = 1e-5)"
      ],
      "execution_count": 0,
      "outputs": []
    },
    {
      "cell_type": "markdown",
      "metadata": {
        "id": "TedX9cGIGCnC",
        "colab_type": "text"
      },
      "source": [
        "Let's train"
      ]
    },
    {
      "cell_type": "code",
      "metadata": {
        "id": "qW7x11XRGDzV",
        "colab_type": "code",
        "outputId": "ae08e819-eca2-4326-bad7-8d262d3a3529",
        "colab": {
          "base_uri": "https://localhost:8080/",
          "height": 71
        }
      },
      "source": [
        "classifier3 = train_net2(ex2model3, train_loader2, ex2optimizer3, hparams['num_epochs2'], ex2criterion)"
      ],
      "execution_count": 71,
      "outputs": [
        {
          "output_type": "stream",
          "text": [
            "/usr/local/lib/python3.6/dist-packages/ipykernel_launcher.py:16: UserWarning: Implicit dimension choice for softmax has been deprecated. Change the call to include dim=X as an argument.\n",
            "  app.launch_new_instance()\n"
          ],
          "name": "stderr"
        }
      ]
    },
    {
      "cell_type": "markdown",
      "metadata": {
        "id": "GcAB3asNGX63",
        "colab_type": "text"
      },
      "source": [
        "Now let's **test** it"
      ]
    },
    {
      "cell_type": "code",
      "metadata": {
        "id": "qJ7qr1PmGbdf",
        "colab_type": "code",
        "colab": {}
      },
      "source": [
        "def correct_predictions(predicted_batch, label_batch):\n",
        "  pred = predicted_batch.argmax(dim=1, keepdim=True) # get the index of the max log-probability\n",
        "  acum = pred.eq(label_batch.view_as(pred)).sum().item()\n",
        "  return acum\n",
        "\n",
        "def test_model2(network, test_loader, criterion):\n",
        "  network.eval()\n",
        "  test_loss_avg = 0\n",
        "  num_batches = 0\n",
        "  acc = 0\n",
        "  for data, target in test_loader:\n",
        "      with torch.no_grad():\n",
        "          data = data.to(device)\n",
        "          target = target.to(device)\n",
        "\n",
        "          output = network.encoder(data)\n",
        "          output = output.view(output.size(0), -1)\n",
        "          output = network.linear1(output)\n",
        "          output = network.relu(output)\n",
        "          output = network.linearF(output)\n",
        "          output = network.softmax(output)\n",
        "\n",
        "          acc += correct_predictions(output, target)\n",
        "\n",
        "          num_batches += 1  \n",
        "  test_acc = 100. * acc / len(test_loader.dataset)\n",
        "  #print('Test Acc: %f' % (test_acc))\n",
        "  return test_acc"
      ],
      "execution_count": 0,
      "outputs": []
    },
    {
      "cell_type": "markdown",
      "metadata": {
        "id": "VjgFXAFNJR3g",
        "colab_type": "text"
      },
      "source": [
        "Test the 3 different models"
      ]
    },
    {
      "cell_type": "code",
      "metadata": {
        "id": "TlhajaDIIkSy",
        "colab_type": "code",
        "outputId": "b06f9f20-f545-4a98-e1e7-ebdaa58079f0",
        "colab": {
          "base_uri": "https://localhost:8080/",
          "height": 54
        }
      },
      "source": [
        "test_classifier1 = test_model2(ex2model1, test_loader, ex2criterion)\n",
        "test_classifier2 = test_model2(ex2model2, test_loader, ex2criterion)\n",
        "test_classifier3 = test_model2(ex2model3, test_loader, ex2criterion)"
      ],
      "execution_count": 73,
      "outputs": [
        {
          "output_type": "stream",
          "text": [
            "/usr/local/lib/python3.6/dist-packages/ipykernel_launcher.py:21: UserWarning: Implicit dimension choice for softmax has been deprecated. Change the call to include dim=X as an argument.\n"
          ],
          "name": "stderr"
        }
      ]
    },
    {
      "cell_type": "markdown",
      "metadata": {
        "id": "rJ6shf9KJUJ8",
        "colab_type": "text"
      },
      "source": [
        "Let's sumarize the results"
      ]
    },
    {
      "cell_type": "code",
      "metadata": {
        "id": "T6BR261QJXNE",
        "colab_type": "code",
        "outputId": "0c3ab615-6ec0-4bb6-81c4-834db550a7d6",
        "colab": {
          "base_uri": "https://localhost:8080/",
          "height": 102
        }
      },
      "source": [
        "print(tabulate([\n",
        "                ['Pre-training', test_classifier1], \n",
        "                ['Fine-tunning', test_classifier2], \n",
        "                ['From scratch', test_classifier3]\n",
        "                ], \n",
        "               headers=['Classifier', 'Acc']\n",
        "               )\n",
        ")"
      ],
      "execution_count": 74,
      "outputs": [
        {
          "output_type": "stream",
          "text": [
            "Classifier      Acc\n",
            "------------  -----\n",
            "Pre-training  82.49\n",
            "Fine-tunning  86.31\n",
            "From scratch  53.01\n"
          ],
          "name": "stdout"
        }
      ]
    }
  ]
}
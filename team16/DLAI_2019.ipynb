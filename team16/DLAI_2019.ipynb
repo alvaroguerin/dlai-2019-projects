{
  "nbformat": 4,
  "nbformat_minor": 0,
  "metadata": {
    "colab": {
      "name": "DLAI_2019.ipynb",
      "provenance": [],
      "collapsed_sections": []
    },
    "kernelspec": {
      "name": "python3",
      "display_name": "Python 3"
    }
  },
  "cells": [
    {
      "cell_type": "markdown",
      "metadata": {
        "id": "VstHE7eoD5Ag",
        "colab_type": "text"
      },
      "source": [
        "<b> Exercise 1:</b> Convolutional AutoEncoder"
      ]
    },
    {
      "cell_type": "markdown",
      "metadata": {
        "id": "sSZPFei5DuOZ",
        "colab_type": "text"
      },
      "source": [
        "<ol>\n",
        "<li>Load MNIST train and test sets. Split the original training data into 95% training and 5% validation data.</li>\n",
        "<li>Implement a convolutional autoencoder (with separate Encoder and Decoder modules).</li>\n",
        "<li>Train the convolutional autoencoder, with different bottleneck sizes. Plot the train and validation loss curves of all autoencoders in the same figure.</li>\n",
        "<li>Compute the avg. image reconstruction error (MSE) of the trained models on the MNIST validation and test sets. Show the results in a table, including #params of each model.</li>\n",
        "<li>Select one of the autoencoders and feed it 5 random MNIST images from the test set. Show them along with their reconstructions.</li>\n",
        "<li>Generate 5 new images by injecting random values as input to the decoder. Show them.</li>\n",
        "\n",
        "</ol>\n"
      ]
    },
    {
      "cell_type": "markdown",
      "metadata": {
        "id": "WRZ6XdLhlxw1",
        "colab_type": "text"
      },
      "source": [
        "<h3><b> Import Libraries</b>\n",
        "</h3>"
      ]
    },
    {
      "cell_type": "code",
      "metadata": {
        "id": "lSsjlTgyD-R_",
        "colab_type": "code",
        "colab": {}
      },
      "source": [
        "import numpy as np\n",
        "import torch\n",
        "import random\n",
        "import matplotlib.pyplot as plt\n",
        "\n",
        "from torch import optim, nn\n",
        "from torchvision import datasets, transforms\n",
        "from torch.utils.data import DataLoader\n",
        "from torch.functional import F\n",
        "from collections import defaultdict"
      ],
      "execution_count": 0,
      "outputs": []
    },
    {
      "cell_type": "markdown",
      "metadata": {
        "id": "wwD2pFAWmE0G",
        "colab_type": "text"
      },
      "source": [
        "<h3><b>Setting the seed for the pseudo-random number generators </b></h3>"
      ]
    },
    {
      "cell_type": "code",
      "metadata": {
        "id": "1rot4T0tmKta",
        "colab_type": "code",
        "colab": {}
      },
      "source": [
        "# Set seed for reproducibility\n",
        "seed = 7\n",
        "torch.manual_seed(seed)\n",
        "np.random.seed(seed)"
      ],
      "execution_count": 0,
      "outputs": []
    },
    {
      "cell_type": "code",
      "metadata": {
        "id": "RUKrJGEyEQub",
        "colab_type": "code",
        "colab": {}
      },
      "source": [
        "hparams = {\n",
        "    'batch_size':256, \n",
        "    'num_epochs':5,\n",
        "    'test_batch_size': 256,\n",
        "    'hidden_size':128,\n",
        "    'num_classes':10,\n",
        "    'num_inputs':784,\n",
        "    'learning_rate':1e-3,\n",
        "    'log_batch_freq': 10,\n",
        "    'train_ratio': 0.8\n",
        "}\n",
        "\n",
        "hparams['device'] = 'cuda' if torch.cuda.is_available() else 'cpu'"
      ],
      "execution_count": 0,
      "outputs": []
    },
    {
      "cell_type": "markdown",
      "metadata": {
        "id": "v019bOJ9lh_a",
        "colab_type": "text"
      },
      "source": [
        "<h3><b> Loading the Dataset</b></h3>\n",
        "The transformations passed with the kwarg <b>transform=</b> are used to have zero-mean and unit-variance data. The first value is the dataset mean, whether the second is its variance."
      ]
    },
    {
      "cell_type": "code",
      "metadata": {
        "id": "29Lp30MWGijS",
        "colab_type": "code",
        "colab": {}
      },
      "source": [
        "mnist_trainset = datasets.MNIST('data', train=True, download=True,\n",
        "                                transform=transforms.Compose([\n",
        "                                    transforms.ToTensor(),\n",
        "                                    transforms.Normalize((0.1307,), (0.3081,))\n",
        "                                ]))\n",
        "mnist_testset = datasets.MNIST('data', train=False, \n",
        "                               transform=transforms.Compose([\n",
        "                                   transforms.ToTensor(),\n",
        "                                   transforms.Normalize((0.1307,), (0.3081,))\n",
        "                               ]))"
      ],
      "execution_count": 0,
      "outputs": []
    },
    {
      "cell_type": "markdown",
      "metadata": {
        "id": "dqulcMMspyEO",
        "colab_type": "text"
      },
      "source": [
        "<b><h3> Get 5% of train samples as validation samples</b> </h3>\n"
      ]
    },
    {
      "cell_type": "code",
      "metadata": {
        "id": "2gF2JN2RI2uL",
        "colab_type": "code",
        "outputId": "3681e535-2922-4ee6-d8c7-e8276849e52d",
        "colab": {
          "base_uri": "https://localhost:8080/",
          "height": 51
        }
      },
      "source": [
        "train_size = len(mnist_trainset)\n",
        "print('train_size {}'.format(train_size))\n",
        "validation_size = int(np.floor(0.05*train_size))\n",
        "print('validation_size {}'.format(validation_size))\n",
        "train_samples, validation_samples = torch.utils.data.random_split(mnist_trainset, (int(train_size - validation_size), int(validation_size)))"
      ],
      "execution_count": 141,
      "outputs": [
        {
          "output_type": "stream",
          "text": [
            "train_size 60000\n",
            "validation_size 3000\n"
          ],
          "name": "stdout"
        }
      ]
    },
    {
      "cell_type": "code",
      "metadata": {
        "id": "k9W3cipLuLkn",
        "colab_type": "code",
        "colab": {}
      },
      "source": [
        "# Create iterables with sequences of length batch_size elements\n",
        "train_loader = torch.utils.data.DataLoader(train_samples, batch_size=hparams['batch_size'],\n",
        "                                          shuffle=True, num_workers=2)\n",
        "test_loader = torch.utils.data.DataLoader(mnist_testset, batch_size=hparams['batch_size'],\n",
        "                                          shuffle=True, num_workers=2)\n",
        "validation_loader = torch.utils.data.DataLoader(validation_samples, batch_size=len(validation_samples),\n",
        "                                          shuffle=False)"
      ],
      "execution_count": 0,
      "outputs": []
    },
    {
      "cell_type": "markdown",
      "metadata": {
        "id": "Fi3KDyqjqRfS",
        "colab_type": "text"
      },
      "source": [
        "<b><h3> Convolutional Encoder </b></h3>"
      ]
    },
    {
      "cell_type": "code",
      "metadata": {
        "id": "q1-HdtMRFH3i",
        "colab_type": "code",
        "colab": {}
      },
      "source": [
        "class ConvEncoder(nn.Module):\n",
        "  \"\"\"\n",
        "  :param bottleneck: Number of dimensions of the reduced representation.\n",
        "  :param pooling_size: Pooling filter size.\n",
        "  :param filter_size: Size of the convolutional filter\n",
        "  :param N_filters: Number of convolutionals filters\n",
        "  \"\"\"\n",
        "\n",
        "  def __init__(self, bottleneck, pooling_size=2, filter_size=3, N_filters=32):\n",
        "    super().__init__()\n",
        "    self.bottleneck = bottleneck\n",
        "    self.N_filters = N_filters\n",
        "\n",
        "    self.conv1 = nn.Conv2d(1,N_filters,filter_size,padding=1,stride=1) # 1 to N_filters channels, 3x3 filter, same spatial dimension\n",
        "    self.pool  = nn.MaxPool2d(pooling_size, pooling_size)\n",
        "    self.conv2 = nn.Conv2d(N_filters,N_filters*2,filter_size,padding=1,stride=1) # N_filters to N_filters*2 channels, 3x3 filter, same spatial dimension\n",
        "    self.fc = nn.Sequential(\n",
        "        nn.Linear(7*7*N_filters*2, self.bottleneck),\n",
        "        nn.ReLU()\n",
        "      )\n",
        "\n",
        "  def forward(self, x):\n",
        "    \"\"\"\n",
        "    Encodes 28x28-dimensional images into self.bottleneck-dimensional images.\n",
        "    \"\"\"\n",
        "    # Input: batch_size x 28 x 28 x 1\n",
        "    x = F.relu(self.conv1(x))\n",
        "    # Output: batch_size x 28 x 28 x N_filters\n",
        "    x = self.pool(x)\n",
        "    # Output: batch_size x 14 x 14 x N_filters\n",
        "    x = F.relu(self.conv2(x))\n",
        "    # Output: batch_size x 14 x 14 x N_filters*2\n",
        "    x = self.pool(x)  \n",
        "    # Output: batch_size x 7 x 7 x N_filters*2\n",
        "    x = x.view(-1, 7*7*self.N_filters*2)\n",
        "  \n",
        "    # Projection Layer that compresses original representation into sub-space \n",
        "    # of *bottleneck* dimensions\n",
        "    x = self.fc(x)\n",
        "    \n",
        "    # Return compressed representation\n",
        "    return x"
      ],
      "execution_count": 0,
      "outputs": []
    },
    {
      "cell_type": "markdown",
      "metadata": {
        "id": "W1Stpa30qhTM",
        "colab_type": "text"
      },
      "source": [
        "<b><h3> Convolutional Decoder </b></h3>"
      ]
    },
    {
      "cell_type": "code",
      "metadata": {
        "id": "v6iOdvoMFUdw",
        "colab_type": "code",
        "colab": {}
      },
      "source": [
        "class ConvDecoder(nn.Module):\n",
        "  def __init__(self, bottleneck, filter_size=2, N_filters=32):\n",
        "    \"\"\"\n",
        "    :param bottleneck: Number of dimensions of the reduced representation.\n",
        "    :param pooling_size: Pooling filter size.\n",
        "    :param filter_size: Size of the convolutional filter\n",
        "    :param N_filters: Number of convolutionals filters\n",
        "    \"\"\"\n",
        "    super().__init__()\n",
        "    self.bottleneck = bottleneck\n",
        "    self.N_filters = N_filters\n",
        "\n",
        "    self.trans_conv1 = nn.ConvTranspose2d(self.N_filters*2, self.N_filters, filter_size, stride=2) # 64 to 32 channels, with 2x spatial dimension upsampling (stride == filter_size == 2)\n",
        "    self.trans_conv2 = nn.ConvTranspose2d(self.N_filters, 1, filter_size, stride=2) # 64 to 32 channels, with 2x spatial dimension upsampling (stride == filter_size == 2)\n",
        "    self.fc = nn.Sequential(\n",
        "        nn.Linear(self.bottleneck, 7*7*self.N_filters*2),\n",
        "        nn.Tanh()\n",
        "    )\n",
        "    \n",
        "  def forward(self, x):\n",
        "    \"\"\"\n",
        "    Decodes (reconstructs) self.bottleneck-dimensional images into 784-dimensional images.\n",
        "    \"\"\"\n",
        "    x = self.fc(x)\n",
        "    x = x.view(-1, self.N_filters*2, 7, 7)\n",
        "    x = F.relu(self.trans_conv1(x))\n",
        "    x = F.relu(self.trans_conv2(x))\n",
        "\n",
        "    return x"
      ],
      "execution_count": 0,
      "outputs": []
    },
    {
      "cell_type": "code",
      "metadata": {
        "id": "VEwya_-cFUwN",
        "colab_type": "code",
        "colab": {}
      },
      "source": [
        "class ConvAutoEncoder(nn.Module):\n",
        "  def __init__(self, bottleneck):\n",
        "    super().__init__()\n",
        "    self.encoder = ConvEncoder(bottleneck)\n",
        "    self.decoder = ConvDecoder(bottleneck)\n",
        "  \n",
        "  def forward(self, x):\n",
        "    x = self.encoder(x)\n",
        "    x = self.decoder(x)\n",
        "    return x\n"
      ],
      "execution_count": 0,
      "outputs": []
    },
    {
      "cell_type": "markdown",
      "metadata": {
        "id": "08A1voIYueHa",
        "colab_type": "text"
      },
      "source": [
        "<h3><b>Define Train and Test/Validation methods</b></h3>"
      ]
    },
    {
      "cell_type": "code",
      "metadata": {
        "id": "S_KLCs2BkZ2q",
        "colab_type": "code",
        "colab": {}
      },
      "source": [
        "def train_epoch(train_loader, network, optimizer, criterion, hparams):\n",
        "  # Activate the train=True flag inside the model\n",
        "  network.train()\n",
        "  device = hparams['device']\n",
        "  train_loss = []\n",
        "  for batch_idx, (data, target) in enumerate(train_loader):\n",
        "      target = F.one_hot(target, 10)\n",
        "      data, target = data.to(device), target.to(device, dtype= torch.float)\n",
        "      optimizer.zero_grad()\n",
        "      output = network(data)\n",
        "      # we pass data as the \"target\" because we want to measure the MSE between \n",
        "      # output and input.\n",
        "      loss = criterion(output, data)\n",
        "      loss.backward()\n",
        "      optimizer.step()\n",
        "      train_loss.append(loss.item())\n",
        "      network.state_dict()\n",
        "      if batch_idx % hparams['log_batch_freq'] == 0:\n",
        "          print('Train Epoch: {} [{}/{} ({:.0f}%)]\\tLoss: {:.6f}'.format(\n",
        "              epoch, batch_idx * len(data), len(train_loader.dataset),\n",
        "              100. * batch_idx / len(train_loader), loss.item()))\n",
        "  return train_loss"
      ],
      "execution_count": 0,
      "outputs": []
    },
    {
      "cell_type": "code",
      "metadata": {
        "id": "ShcnBQQsvQZ3",
        "colab_type": "code",
        "colab": {}
      },
      "source": [
        "def test_epoch(test_loader, network, criterion, hparams, validation=False):\n",
        "    network.eval()\n",
        "    device = hparams['device']\n",
        "    test_loss = 0\n",
        "    acc = 0\n",
        "    with torch.no_grad():\n",
        "        for data, target in test_loader:\n",
        "            target = F.one_hot(target, 10)\n",
        "            data, target = data.to(device), target.to(device, dtype= torch.float)\n",
        "            output = network(data)\n",
        "            test_loss += criterion(output, data).item() # sum up batch loss\n",
        "    test_acc = 0\n",
        "    print('\\n{} set: Average loss: {:.4f}, Accuracy: {}/{} ({:.0f}%)\\n'.format(\n",
        "        'Test' if validation is False else 'Validation', test_loss, acc, \n",
        "        len(test_loader.dataset), test_acc,\n",
        "        ))\n",
        "    return test_loss"
      ],
      "execution_count": 0,
      "outputs": []
    },
    {
      "cell_type": "markdown",
      "metadata": {
        "id": "d_gKUdfdvF4s",
        "colab_type": "text"
      },
      "source": [
        "<h3><b> Define the optimizer with MSE Loss</h3></b>"
      ]
    },
    {
      "cell_type": "code",
      "metadata": {
        "id": "JVgZRuv6GX9E",
        "colab_type": "code",
        "colab": {}
      },
      "source": [
        "criterion = nn.MSELoss()"
      ],
      "execution_count": 0,
      "outputs": []
    },
    {
      "cell_type": "markdown",
      "metadata": {
        "id": "P0yuYViBruNE",
        "colab_type": "text"
      },
      "source": [
        "# <h3><b>Training Loop</h3></b>"
      ]
    },
    {
      "cell_type": "code",
      "metadata": {
        "id": "jUeo1IdOkrcQ",
        "colab_type": "code",
        "colab": {}
      },
      "source": [
        "# [8, 16, 32, 64, 128] We want an ordered set, so we use list() instead of set()\n",
        "bottleneck_set = [2**(i+3) for i in range(5)] \n",
        "\n",
        "# Define a losses dictionary with keys the bottleneck size and values the \n",
        "# train, validation losses. We will use this to monitor the model performance \n",
        "# later.  \n",
        "losses = dict()\n",
        "for bottleneck in bottleneck_set:\n",
        "    print(\"Training ConvAutoEncoder with bottleneck: {}\".format(bottleneck))\n",
        "    net = ConvAutoEncoder(bottleneck)\n",
        "    optimizer = optim.Adam(net.parameters(), lr=hparams['learning_rate'])\n",
        "\n",
        "    train_losses = []\n",
        "    validation_losses = []\n",
        "    for epoch in range(1, hparams['num_epochs'] + 1):\n",
        "      train_losses.extend(train_epoch(train_loader, net, optimizer, criterion, hparams))\n",
        "      validation_losses.append(test_epoch(validation_loader, net, criterion, hparams, validation=True))\n",
        "      #validation_accs.append(validation_acc)\n",
        "    losses.update({bottleneck: {\"train_loss\": train_losses, \"val_loss\": validation_losses}})"
      ],
      "execution_count": 0,
      "outputs": []
    },
    {
      "cell_type": "code",
      "metadata": {
        "id": "llTq9I06cOTI",
        "colab_type": "code",
        "outputId": "bbd76425-42dc-4e80-c32e-94797fdfa5a0",
        "colab": {
          "base_uri": "https://localhost:8080/",
          "height": 260
        }
      },
      "source": [
        "plt.figure(figsize=(10, 8))\n",
        "plt.subplot(2,1,1)\n",
        "plt.xlabel('Epoch')\n",
        "plt.ylabel('MSE')\n",
        "for bn, loss in losses.items():\n",
        "  plt.plot(loss['val_loss'], 'o', label='bn-{}-validation'.format(bn))\n",
        "  plt.plot(list(np.linspace(0, 5, 1115)), \n",
        "           loss['train_loss'], \n",
        "           label='bn-{}-train'.format(bn))\n",
        "  \n",
        "plt.legend()\n",
        "plt.show()"
      ],
      "execution_count": 150,
      "outputs": [
        {
          "output_type": "display_data",
          "data": {
            "image/png": "[encoded data removed]",
            "text/plain": [
              "<Figure size 720x576 with 1 Axes>"
            ]
          },
          "metadata": {
            "tags": []
          }
        }
      ]
    },
    {
      "cell_type": "markdown",
      "metadata": {
        "id": "M_QHQWEzHILt",
        "colab_type": "text"
      },
      "source": [
        "# <h3><b>Test and display 5 images</h3></b>"
      ]
    },
    {
      "cell_type": "code",
      "metadata": {
        "id": "_Vg-HJwzHVhS",
        "colab_type": "code",
        "outputId": "0df738e9-5528-43e8-ba80-475e7be6df34",
        "colab": {
          "base_uri": "https://localhost:8080/",
          "height": 207
        }
      },
      "source": [
        "# select N images\n",
        "N = 5\n",
        "test_images = random.sample(list(mnist_testset),N)\n",
        "image_loader = torch.utils.data.DataLoader(\n",
        "    test_images,\n",
        "    shuffle=False)\n",
        "device = hparams['device']\n",
        "\n",
        "# create plot\n",
        "f, axarr = plt.subplots(2,N)\n",
        "for i, (image, label) in enumerate(image_loader):\n",
        "  with torch.no_grad():\n",
        "    image = image.to(device)\n",
        "    output = net(image)\n",
        "    original_image = image.squeeze().data.numpy()\n",
        "    output_image = output.squeeze().data.numpy()\n",
        "    axarr[0,i].imshow(original_image,cmap='gray')\n",
        "    axarr[0,i].axis('off')\n",
        "    axarr[1,i].imshow(output_image,cmap='gray')\n",
        "    axarr[1,i].axis('off')\n",
        "plt.show()\n"
      ],
      "execution_count": 152,
      "outputs": [
        {
          "output_type": "display_data",
          "data": {
            "image/png": "[encoded data removed]",
            "text/plain": [
              "<Figure size 432x288 with 10 Axes>"
            ]
          },
          "metadata": {
            "tags": []
          }
        }
      ]
    },
    {
      "cell_type": "markdown",
      "metadata": {
        "id": "-mZSQUNA4OEQ",
        "colab_type": "text"
      },
      "source": [
        "# <h3><b>Creation of new images with the encoder</h3></b>"
      ]
    },
    {
      "cell_type": "code",
      "metadata": {
        "id": "5TH2C6HKCjVs",
        "colab_type": "code",
        "outputId": "addb9da4-37bb-4098-8871-25cc2f383eb3",
        "colab": {
          "base_uri": "https://localhost:8080/",
          "height": 89
        }
      },
      "source": [
        "# extract decoder from autoencoder\n",
        "decoder = net.decoder\n",
        "# create random input\n",
        "rand_inputs = torch.randn(5,128)\n",
        "# plot images from random inputs\n",
        "f, axarr = plt.subplots(1,N)\n",
        "for i, rand_input in enumerate(rand_inputs):\n",
        "  with torch.no_grad():\n",
        "    rand_input = rand_input.to(device)\n",
        "    output = decoder(rand_input)\n",
        "    output_image = output.squeeze().data.numpy()\n",
        "    axarr[i].imshow(output_image,cmap='gray')\n",
        "    axarr[i].axis('off')\n",
        "plt.show()\n"
      ],
      "execution_count": 153,
      "outputs": [
        {
          "output_type": "display_data",
          "data": {
            "image/png": "[encoded data removed]",
            "text/plain": [
              "<Figure size 432x288 with 5 Axes>"
            ]
          },
          "metadata": {
            "tags": []
          }
        }
      ]
    },
    {
      "cell_type": "markdown",
      "metadata": {
        "id": "Y3fu7jkgNiHi",
        "colab_type": "text"
      },
      "source": [
        "**Exercice 2:** Transfer learning\n"
      ]
    },
    {
      "cell_type": "markdown",
      "metadata": {
        "id": "qzutoZ6MQ8Mv",
        "colab_type": "text"
      },
      "source": [
        "\n",
        "\n",
        "1.   Select a subset of 100 images and their associated labels from the MNIST training data.\n",
        "2.   Select one of the previously trained autoencoders.\n",
        "3.   Create a digit (0-9) classification model reusing the encoder of the autoencoder and adding the needed fully connected (projection) layer.\n",
        "4.   Pre-training: use the weights of the autoencoder as initial values for the network weights and train a classification model on the subset of 100 samples.\n",
        "5.   Fine-tuning: do the same, but train the new projection layer with a normal learning rate and the reused part with a very low learning rate.\n",
        "6.   From scratch: train the model on the 100 samples without reusing the decoder weights at all.\n",
        "7.   Show the accuracy of the four models on the MNIST test set in a table.\n",
        "\n",
        "\n"
      ]
    },
    {
      "cell_type": "markdown",
      "metadata": {
        "id": "kHIC9v4H9fME",
        "colab_type": "text"
      },
      "source": [
        "<h3><b>Create subset of 100 images</h3></b>"
      ]
    },
    {
      "cell_type": "code",
      "metadata": {
        "id": "yXewJXmm9eDH",
        "colab_type": "code",
        "colab": {}
      },
      "source": [
        "train_size = 100\n",
        "train_images = random.sample(list(mnist_trainset),train_size)\n",
        "train_loader = torch.utils.data.DataLoader(\n",
        "    train_images,\n",
        "    batch_size= train_size,\n",
        "    shuffle=True)\n",
        "device = hparams['device']"
      ],
      "execution_count": 0,
      "outputs": []
    },
    {
      "cell_type": "markdown",
      "metadata": {
        "id": "55Vb3MUJOg2x",
        "colab_type": "text"
      },
      "source": [
        "<h3><b> Select the encoder from the previous exercice </h3></b>"
      ]
    },
    {
      "cell_type": "code",
      "metadata": {
        "id": "OTCEZEM1OsAd",
        "colab_type": "code",
        "colab": {}
      },
      "source": [
        "encoder = net.encoder"
      ],
      "execution_count": 0,
      "outputs": []
    },
    {
      "cell_type": "markdown",
      "metadata": {
        "id": "m3_n5zQRS5mc",
        "colab_type": "text"
      },
      "source": [
        "<h3><b> Create a classificator from the previous encoder and FCL </h3></b>"
      ]
    },
    {
      "cell_type": "code",
      "metadata": {
        "id": "-xJAkIurSq_w",
        "colab_type": "code",
        "colab": {}
      },
      "source": [
        "class Classificator(nn.Module):\n",
        "  def __init__(self, encoder):\n",
        "    super().__init__()\n",
        "    self.encoder = encoder\n",
        "    self.fc = nn.Sequential(\n",
        "      nn.Linear(128, hparams['num_classes']),\n",
        "      nn.LogSoftmax()\n",
        "    )\n",
        "  \n",
        "  def forward(self, x):\n",
        "    x = self.encoder(x)\n",
        "    x = self.fc(x)\n",
        "    return x"
      ],
      "execution_count": 0,
      "outputs": []
    },
    {
      "cell_type": "markdown",
      "metadata": {
        "colab_type": "text",
        "id": "vAnLE7FnXfRq"
      },
      "source": [
        "<h3><b>Define Train and Test/Validation methods</b></h3>"
      ]
    },
    {
      "cell_type": "code",
      "metadata": {
        "id": "KVizZ3syrNl9",
        "colab_type": "code",
        "colab": {}
      },
      "source": [
        "def correct_predictions(predicted_batch, label_batch):\n",
        "  pred = predicted_batch.argmax(dim=1, keepdim=True) # get the index of the max log-probability\n",
        "  acum = pred.eq(label_batch.view_as(pred)).sum().item()\n",
        "  return acum\n",
        "\n",
        "def train_class_epoch(train_loader, network, optimizer, criterion, hparams):\n",
        "  # Activate the train=True flag inside the model\n",
        "  network.train()\n",
        "  device = hparams['device']\n",
        "  avg_loss = None\n",
        "  avg_weight = 0.1\n",
        "  for batch_idx, (data, target) in enumerate(train_loader):\n",
        "      data, target = data.to(device), target.to(device)\n",
        "      optimizer.zero_grad()\n",
        "      output = network(data)\n",
        "      loss = criterion(output, target)\n",
        "      loss.backward()\n",
        "      if avg_loss:\n",
        "        avg_loss = avg_weight * loss.item() + (1 - avg_weight) * avg_loss\n",
        "      else:\n",
        "        avg_loss = loss.item()\n",
        "      optimizer.step()\n",
        "      print('Train Epoch: {} [{}/{} ({:.0f}%)]\\tLoss: {:.6f}'.format(\n",
        "          epoch, batch_idx * len(data), len(train_loader.dataset),\n",
        "          100. * batch_idx / len(train_loader), loss.item()))\n",
        "  return avg_loss\n",
        "\n",
        "def test_class_epoch(test_loader, network, hparams):\n",
        "    network.eval()\n",
        "    device = hparams['device']\n",
        "    test_loss = 0\n",
        "    acc = 0\n",
        "    with torch.no_grad():\n",
        "        for data, target in test_loader:\n",
        "            data, target = data.to(device), target.to(device)\n",
        "            output = network(data)\n",
        "            test_loss += criterion(output, target, reduction='sum').item() # sum up batch loss\n",
        "            # compute number of correct predictions in the batch\n",
        "            acc += correct_predictions(output, target)\n",
        "    # Average acc across all correct predictions batches now\n",
        "    test_loss /= len(test_loader.dataset)\n",
        "    test_acc = 100. * acc / len(test_loader.dataset)\n",
        "    print('\\nTest set: Average loss: {:.4f}, Accuracy: {}/{} ({:.0f}%)\\n'.format(\n",
        "        test_loss, acc, len(test_loader.dataset), test_acc,\n",
        "        ))\n",
        "    return test_loss, test_acc"
      ],
      "execution_count": 0,
      "outputs": []
    },
    {
      "cell_type": "markdown",
      "metadata": {
        "id": "mT0_GheEUFhf",
        "colab_type": "text"
      },
      "source": [
        "<h3><b> Train the classificator only training the FCL </h3></b>"
      ]
    },
    {
      "cell_type": "code",
      "metadata": {
        "id": "gbW6g7bHjHjW",
        "colab_type": "code",
        "colab": {}
      },
      "source": [
        "print(\"Training only the FCL\")\n",
        "train_losses1 = []\n",
        "validation_losses1 = []\n",
        "validation_accs1 = []\n",
        "class1 = Classificator(encoder.requires_grad_(requires_grad=False))\n",
        "class1.to(hparams['device'])\n",
        "optimizer = optim.RMSprop(class1.parameters(), lr=hparams['learning_rate'])\n",
        "criterion = F.nll_loss\n",
        "\n",
        "for epoch in range(40):\n",
        "  train_losses1.append(train_class_epoch(train_loader, class1, optimizer, criterion, hparams))\n",
        "  te_loss, te_acc = test_class_epoch(test_loader, class1, hparams)\n",
        "  validation_losses1.append(te_loss)\n",
        "  validation_accs1.append(te_acc)"
      ],
      "execution_count": 0,
      "outputs": []
    },
    {
      "cell_type": "markdown",
      "metadata": {
        "colab_type": "text",
        "id": "8KUceRlIxcCP"
      },
      "source": [
        "<h3><b> Train the classificator using the pretrained weights as initial values </h3></b>"
      ]
    },
    {
      "cell_type": "code",
      "metadata": {
        "id": "utnWaa9DxrQ5",
        "colab_type": "code",
        "colab": {}
      },
      "source": [
        "print(\"Training with the pretarained weights\")\n",
        "train_losses2 = []\n",
        "validation_losses2 = []\n",
        "validation_accs2 = []\n",
        "class2 = Classificator(encoder.requires_grad_(requires_grad=True))\n",
        "class2.to(hparams['device'])\n",
        "optimizer = optim.RMSprop(class2.parameters(), lr=hparams['learning_rate'])\n",
        "criterion = F.nll_loss\n",
        "\n",
        "for epoch in range(40):\n",
        "  train_losses2.append(train_class_epoch(train_loader, class2, optimizer, criterion, hparams))\n",
        "  te_loss, te_acc = test_class_epoch(test_loader, class2, hparams)\n",
        "  validation_losses2.append(te_loss)\n",
        "  validation_accs2.append(te_acc)"
      ],
      "execution_count": 0,
      "outputs": []
    },
    {
      "cell_type": "markdown",
      "metadata": {
        "colab_type": "text",
        "id": "MlZYmFCY0w8X"
      },
      "source": [
        "<h3><b> Train the classificator with different learning rates </h3></b>"
      ]
    },
    {
      "cell_type": "code",
      "metadata": {
        "id": "V7QJSB7o1Ecx",
        "colab_type": "code",
        "colab": {}
      },
      "source": [
        "print(\"Training with different learning rates\")\n",
        "train_losses3 = []\n",
        "validation_losses3 = []\n",
        "validation_accs3 = []\n",
        "class3 = Classificator(encoder.requires_grad_(requires_grad=True))\n",
        "class3.to(hparams['device'])\n",
        "optimizer = optim.RMSprop([{'params': class3.encoder.parameters(), \"lr\": hparams['learning_rate']/10},\n",
        "                           {'params': class3.fc.parameters(), \"lr\" :hparams['learning_rate']}])\n",
        "criterion = F.nll_loss\n",
        "\n",
        "for epoch in range(40):\n",
        "  train_losses3.append(train_class_epoch(train_loader, class3, optimizer, criterion, hparams))\n",
        "  te_loss, te_acc = test_class_epoch(test_loader, class3, hparams)\n",
        "  validation_losses3.append(te_loss)\n",
        "  validation_accs3.append(te_acc)"
      ],
      "execution_count": 0,
      "outputs": []
    },
    {
      "cell_type": "markdown",
      "metadata": {
        "colab_type": "text",
        "id": "Go0AjkDH1zze"
      },
      "source": [
        "<h3><b> Train the classificator from scratch </h3></b>"
      ]
    },
    {
      "cell_type": "code",
      "metadata": {
        "id": "XJGRgh-018z4",
        "colab_type": "code",
        "colab": {}
      },
      "source": [
        "print(\"Training from scratch\")\n",
        "train_losses4 = []\n",
        "validation_losses4 = []\n",
        "validation_accs4 = []\n",
        "class4 = Classificator(ConvEncoder(128))\n",
        "class4.to(hparams['device'])\n",
        "optimizer = optim.RMSprop(class4.parameters(), lr=hparams['learning_rate'])\n",
        "criterion = F.nll_loss\n",
        "\n",
        "for epoch in range(40):\n",
        "  train_losses4.append(train_class_epoch(train_loader, class4, optimizer, criterion, hparams))\n",
        "  te_loss, te_acc = test_class_epoch(test_loader, class4, hparams)\n",
        "  validation_losses4.append(te_loss)\n",
        "  validation_accs4.append(te_acc)"
      ],
      "execution_count": 0,
      "outputs": []
    },
    {
      "cell_type": "code",
      "metadata": {
        "id": "RdL0OHYP6msx",
        "colab_type": "code",
        "outputId": "aca1b0f6-4d39-45b7-e271-1801cf0f2c0e",
        "colab": {
          "base_uri": "https://localhost:8080/",
          "height": 497
        }
      },
      "source": [
        "plt.figure(figsize=(10, 8))\n",
        "plt.subplot(3,1,1)\n",
        "plt.xlabel('Epoch')\n",
        "plt.ylabel('NLL')\n",
        "plt.plot(train_losses1, label='class-{}-validation losses'.format(1))\n",
        "plt.plot(train_losses2, label='class-{}-validation losses'.format(2))\n",
        "plt.plot(train_losses3, label='class-{}-validation losses'.format(3))\n",
        "plt.plot(train_losses4, label='class-{}-validation losses'.format(4))\n",
        "plt.subplot(3,1,2)\n",
        "plt.xlabel('Epoch')\n",
        "plt.ylabel('NLL')\n",
        "plt.plot(validation_losses1,'o', label='class-{}-validation losses'.format(1))\n",
        "plt.plot(validation_losses2,'o', label='class-{}-validation losses'.format(2))\n",
        "plt.plot(validation_losses3,'o', label='class-{}-validation losses'.format(3))\n",
        "plt.plot(validation_losses4,'o', label='class-{}-validation losses'.format(4))\n",
        "plt.subplot(3,1,3)\n",
        "plt.xlabel('Epoch')\n",
        "plt.ylabel('Acuracy')\n",
        "plt.plot(validation_accs1,'o', label='class-{}-validation accuracy'.format(1))\n",
        "plt.plot(validation_accs2,'o', label='class-{}-validation accuracy'.format(2))\n",
        "plt.plot(validation_accs3,'o', label='class-{}-validation accuracy'.format(3))\n",
        "plt.plot(validation_accs4,'o', label='class-{}-validation accuracy'.format(4))\n",
        "plt.legend()\n",
        "plt.show()"
      ],
      "execution_count": 162,
      "outputs": [
        {
          "output_type": "display_data",
          "data": {
            "image/png": "[encoded data removed]",
            "text/plain": [
              "<Figure size 720x576 with 3 Axes>"
            ]
          },
          "metadata": {
            "tags": []
          }
        }
      ]
    }
  ]
}
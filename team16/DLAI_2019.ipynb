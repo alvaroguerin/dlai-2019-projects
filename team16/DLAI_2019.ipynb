{
  "nbformat": 4,
  "nbformat_minor": 0,
  "metadata": {
    "colab": {
      "name": "DLAI_2019.ipynb",
      "provenance": [],
      "collapsed_sections": []
    },
    "kernelspec": {
      "name": "python3",
      "display_name": "Python 3"
    }
  },
  "cells": [
    {
      "cell_type": "markdown",
      "metadata": {
        "id": "VstHE7eoD5Ag",
        "colab_type": "text"
      },
      "source": [
        "<b> Exercise 1:</b> Convolutional AutoEncoder"
      ]
    },
    {
      "cell_type": "markdown",
      "metadata": {
        "id": "sSZPFei5DuOZ",
        "colab_type": "text"
      },
      "source": [
        "<ol>\n",
        "<li>Load MNIST train and test sets. Split the original training data into 95% training and 5% validation data.</li>\n",
        "<li>Implement a convolutional autoencoder (with separate Encoder and Decoder modules).</li>\n",
        "<li>Train the convolutional autoencoder, with different bottleneck sizes. Plot the train and validation loss curves of all autoencoders in the same figure.</li>\n",
        "<li>Compute the avg. image reconstruction error (MSE) of the trained models on the MNIST validation and test sets. Show the results in a table, including #params of each model.</li>\n",
        "<li>Select one of the autoencoders and feed it 5 random MNIST images from the test set. Show them along with their reconstructions.</li>\n",
        "<li>Generate 5 new images by injecting random values as input to the decoder. Show them.</li>\n",
        "\n",
        "</ol>\n"
      ]
    },
    {
      "cell_type": "markdown",
      "metadata": {
        "id": "WRZ6XdLhlxw1",
        "colab_type": "text"
      },
      "source": [
        "<h3><b> Import Libraries</b>\n",
        "</h3>"
      ]
    },
    {
      "cell_type": "code",
      "metadata": {
        "id": "lSsjlTgyD-R_",
        "colab_type": "code",
        "colab": {}
      },
      "source": [
        "import numpy as np\n",
        "import torch\n",
        "import random\n",
        "import matplotlib.pyplot as plt\n",
        "\n",
        "from torch import optim, nn\n",
        "from torchvision import datasets, transforms\n",
        "from torch.utils.data import DataLoader\n",
        "from torch.functional import F\n",
        "from collections import defaultdict"
      ],
      "execution_count": 0,
      "outputs": []
    },
    {
      "cell_type": "markdown",
      "metadata": {
        "id": "wwD2pFAWmE0G",
        "colab_type": "text"
      },
      "source": [
        "<h3><b>Setting the seed for the pseudo-random number generators </b></h3>"
      ]
    },
    {
      "cell_type": "code",
      "metadata": {
        "id": "1rot4T0tmKta",
        "colab_type": "code",
        "colab": {}
      },
      "source": [
        "# Set seed for reproducibility\n",
        "seed = 50 \n",
        "torch.manual_seed(seed)\n",
        "np.random.seed(seed)"
      ],
      "execution_count": 0,
      "outputs": []
    },
    {
      "cell_type": "code",
      "metadata": {
        "id": "RUKrJGEyEQub",
        "colab_type": "code",
        "colab": {}
      },
      "source": [
        "hparams = {\n",
        "    'batch_size':256, \n",
        "    'num_epochs':10,\n",
        "    'test_batch_size': 256,\n",
        "    'hidden_size':128,\n",
        "    'num_classes':10,\n",
        "    'num_inputs':784,\n",
        "    'learning_rate':1e-3,\n",
        "    'log_batch_freq': 10,\n",
        "    'train_ratio': 0.8\n",
        "}\n",
        "\n",
        "hparams['device'] = 'cuda' if torch.cuda.is_available() else 'cpu'"
      ],
      "execution_count": 0,
      "outputs": []
    },
    {
      "cell_type": "markdown",
      "metadata": {
        "id": "v019bOJ9lh_a",
        "colab_type": "text"
      },
      "source": [
        "<h3><b> Loading the Dataset</b></h3>\n",
        "The transformations passed with the kwarg <b>transform=</b> are used to have zero-mean and unit-variance data. The first value is the dataset mean, whether the second is its variance."
      ]
    },
    {
      "cell_type": "code",
      "metadata": {
        "id": "29Lp30MWGijS",
        "colab_type": "code",
        "outputId": "a7e15aff-b08e-4ffe-8936-027698164a47",
        "colab": {
          "base_uri": "https://localhost:8080/",
          "height": 280
        }
      },
      "source": [
        "mnist_trainset = datasets.MNIST('data', train=True, download=True,\n",
        "                                transform=transforms.Compose([\n",
        "                                    transforms.ToTensor(),\n",
        "                                    transforms.Normalize((0.1307,), (0.3081,))\n",
        "                                ]))\n",
        "mnist_testset = datasets.MNIST('data', train=False, \n",
        "                               transform=transforms.Compose([\n",
        "                                   transforms.ToTensor(),\n",
        "                                   transforms.Normalize((0.1307,), (0.3081,))\n",
        "                               ]))"
      ],
      "execution_count": 8,
      "outputs": [
        {
          "output_type": "stream",
          "text": [
            "\r0it [00:00, ?it/s]"
          ],
          "name": "stderr"
        },
        {
          "output_type": "stream",
          "text": [
            "Downloading http://yann.lecun.com/exdb/mnist/train-images-idx3-ubyte.gz to data/MNIST/raw/train-images-idx3-ubyte.gz\n"
          ],
          "name": "stdout"
        },
        {
          "output_type": "stream",
          "text": [
            "9920512it [00:01, 8464413.49it/s]                            \n"
          ],
          "name": "stderr"
        },
        {
          "output_type": "stream",
          "text": [
            "Extracting data/MNIST/raw/train-images-idx3-ubyte.gz to data/MNIST/raw\n"
          ],
          "name": "stdout"
        },
        {
          "output_type": "stream",
          "text": [
            "  0%|          | 0/28881 [00:00<?, ?it/s]"
          ],
          "name": "stderr"
        },
        {
          "output_type": "stream",
          "text": [
            "Downloading http://yann.lecun.com/exdb/mnist/train-labels-idx1-ubyte.gz to data/MNIST/raw/train-labels-idx1-ubyte.gz\n"
          ],
          "name": "stdout"
        },
        {
          "output_type": "stream",
          "text": [
            "32768it [00:00, 129369.89it/s]           \n",
            "  0%|          | 0/1648877 [00:00<?, ?it/s]"
          ],
          "name": "stderr"
        },
        {
          "output_type": "stream",
          "text": [
            "Extracting data/MNIST/raw/train-labels-idx1-ubyte.gz to data/MNIST/raw\n",
            "Downloading http://yann.lecun.com/exdb/mnist/t10k-images-idx3-ubyte.gz to data/MNIST/raw/t10k-images-idx3-ubyte.gz\n"
          ],
          "name": "stdout"
        },
        {
          "output_type": "stream",
          "text": [
            "1654784it [00:00, 2124991.09it/s]                            \n",
            "0it [00:00, ?it/s]"
          ],
          "name": "stderr"
        },
        {
          "output_type": "stream",
          "text": [
            "Extracting data/MNIST/raw/t10k-images-idx3-ubyte.gz to data/MNIST/raw\n",
            "Downloading http://yann.lecun.com/exdb/mnist/t10k-labels-idx1-ubyte.gz to data/MNIST/raw/t10k-labels-idx1-ubyte.gz\n"
          ],
          "name": "stdout"
        },
        {
          "output_type": "stream",
          "text": [
            "8192it [00:00, 49522.63it/s]            \n"
          ],
          "name": "stderr"
        },
        {
          "output_type": "stream",
          "text": [
            "Extracting data/MNIST/raw/t10k-labels-idx1-ubyte.gz to data/MNIST/raw\n",
            "Processing...\n",
            "Done!\n"
          ],
          "name": "stdout"
        }
      ]
    },
    {
      "cell_type": "markdown",
      "metadata": {
        "id": "dqulcMMspyEO",
        "colab_type": "text"
      },
      "source": [
        "<b><h3> Get 5% of train samples as validation samples</b> </h3>\n"
      ]
    },
    {
      "cell_type": "code",
      "metadata": {
        "id": "2gF2JN2RI2uL",
        "colab_type": "code",
        "colab": {
          "base_uri": "https://localhost:8080/",
          "height": 52
        },
        "outputId": "03ae1797-1c00-4aa8-93ee-722994602189"
      },
      "source": [
        "train_size = len(mnist_trainset)\n",
        "print('train_size {}'.format(train_size))\n",
        "validation_size = np.floor(0.05*train_size)\n",
        "print('validation_size {}'.format(validation_size))\n",
        "train_samples, validation_samples = torch.utils.data.random_split(mnist_trainset, (int(train_size - validation_size), int(validation_size)))"
      ],
      "execution_count": 9,
      "outputs": [
        {
          "output_type": "stream",
          "text": [
            "train_size 60000\n",
            "validation_size 3000.0\n"
          ],
          "name": "stdout"
        }
      ]
    },
    {
      "cell_type": "code",
      "metadata": {
        "id": "k9W3cipLuLkn",
        "colab_type": "code",
        "colab": {}
      },
      "source": [
        "# Create iterables with sequences of length batch_size elements\n",
        "train_loader = torch.utils.data.DataLoader(train_samples, batch_size=hparams['batch_size'],\n",
        "                                          shuffle=True, num_workers=2)\n",
        "test_loader = torch.utils.data.DataLoader(mnist_testset, batch_size=hparams['batch_size'],\n",
        "                                          shuffle=True, num_workers=2)\n",
        "validation_loader = torch.utils.data.DataLoader(validation_samples, batch_size=len(validation_samples),\n",
        "                                          shuffle=False)"
      ],
      "execution_count": 0,
      "outputs": []
    },
    {
      "cell_type": "markdown",
      "metadata": {
        "id": "Fi3KDyqjqRfS",
        "colab_type": "text"
      },
      "source": [
        "<b><h3> Convolutional Encoder </b></h3>"
      ]
    },
    {
      "cell_type": "code",
      "metadata": {
        "id": "q1-HdtMRFH3i",
        "colab_type": "code",
        "colab": {}
      },
      "source": [
        "class ConvEncoder(nn.Module):\n",
        "  \"\"\"\n",
        "  :param bottleneck: Number of dimensions of the reduced representation.\n",
        "  :param pooling_size: Pooling filter size.\n",
        "  :param filter_size: Size of the convolutional filter\n",
        "  :param N_filters: Number of convolutionals filters\n",
        "  \"\"\"\n",
        "\n",
        "  def __init__(self, bottleneck, pooling_size=2, filter_size=3, N_filters=32):\n",
        "    super().__init__()\n",
        "    self.bottleneck = bottleneck\n",
        "    self.N_filters = N_filters\n",
        "\n",
        "    self.conv1 = nn.Conv2d(1,N_filters,filter_size,padding=1,stride=1) # 1 to N_filters channels, 3x3 filter, same spatial dimension\n",
        "    self.pool  = nn.MaxPool2d(pooling_size, pooling_size)\n",
        "    self.conv2 = nn.Conv2d(N_filters,N_filters*2,filter_size,padding=1,stride=1) # N_filters to N_filters*2 channels, 3x3 filter, same spatial dimension\n",
        "    self.fc = nn.Sequential(\n",
        "        nn.Linear(7*7*N_filters*2, self.bottleneck),\n",
        "        nn.ReLU()\n",
        "      )\n",
        "\n",
        "    #self.fc_classif = nn.Sequential(\n",
        "    #    nn.Linear(7*7*16, 10),\n",
        "    #    nn.Softmax()\n",
        "    #  )\n",
        "\n",
        "  def forward(self, x):\n",
        "    \"\"\"\n",
        "    Encodes 28x28-dimensional images into self.bottleneck-dimensional images.\n",
        "    \"\"\"\n",
        "    # Input: batch_size x 28 x 28 x 1\n",
        "    x = F.relu(self.conv1(x))\n",
        "    # Output: batch_size x 28 x 28 x N_filters\n",
        "    x = self.pool(x)\n",
        "    # Output: batch_size x 14 x 14 x N_filters\n",
        "    x = F.relu(self.conv2(x))\n",
        "    # Output: batch_size x 14 x 14 x N_filters*2\n",
        "    x = self.pool(x)  \n",
        "    # Output: batch_size x 7 x 7 x N_filters*2\n",
        "    x = x.view(-1, 7*7*self.N_filters*2)\n",
        "  \n",
        "    # Projection Layer that compresses original representation into sub-space \n",
        "    # of *bottleneck* dimensions\n",
        "    #x = self.fc_classif(x)\n",
        "    x = self.fc(x)\n",
        "    \n",
        "    # Return compressed representation\n",
        "    return x"
      ],
      "execution_count": 0,
      "outputs": []
    },
    {
      "cell_type": "markdown",
      "metadata": {
        "id": "W1Stpa30qhTM",
        "colab_type": "text"
      },
      "source": [
        "<b><h3> Convolutional Decoder </b></h3>"
      ]
    },
    {
      "cell_type": "code",
      "metadata": {
        "id": "v6iOdvoMFUdw",
        "colab_type": "code",
        "colab": {}
      },
      "source": [
        "class ConvDecoder(nn.Module):\n",
        "  def __init__(self, bottleneck, filter_size=2, N_filters=32):\n",
        "    \"\"\"\n",
        "    :param bottleneck: Number of dimensions of the reduced representation.\n",
        "    :param pooling_size: Pooling filter size.\n",
        "    :param filter_size: Size of the convolutional filter\n",
        "    :param N_filters: Number of convolutionals filters\n",
        "    \"\"\"\n",
        "    super().__init__()\n",
        "    self.bottleneck = bottleneck\n",
        "    self.N_filters = N_filters\n",
        "\n",
        "    self.trans_conv1 = nn.ConvTranspose2d(self.N_filters*2, self.N_filters, filter_size, stride=2) # 64 to 32 channels, with 2x spatial dimension upsampling (stride == filter_size == 2)\n",
        "    self.trans_conv2 = nn.ConvTranspose2d(self.N_filters, 1, filter_size, stride=2) # 64 to 32 channels, with 2x spatial dimension upsampling (stride == filter_size == 2)\n",
        "    self.fc = nn.Sequential(\n",
        "        nn.Linear(self.bottleneck, 7*7*self.N_filters*2),\n",
        "        nn.ReLU()\n",
        "    )\n",
        "    \n",
        "  def forward(self, x):\n",
        "    \"\"\"\n",
        "    Decodes (reconstructs) self.bottleneck-dimensional images into 784-dimensional images.\n",
        "    \"\"\"\n",
        "    x = self.fc(x)\n",
        "    x = x.view(-1, self.N_filters*2, 7, 7)\n",
        "    x = F.relu(self.trans_conv1(x))\n",
        "    x = F.relu(self.trans_conv2(x))\n",
        "\n",
        "    return x"
      ],
      "execution_count": 0,
      "outputs": []
    },
    {
      "cell_type": "code",
      "metadata": {
        "id": "VEwya_-cFUwN",
        "colab_type": "code",
        "colab": {}
      },
      "source": [
        "class ConvAutoEncoder(nn.Module):\n",
        "  def __init__(self, bottleneck):\n",
        "    super().__init__()\n",
        "    self.encoder = ConvEncoder(bottleneck)\n",
        "    self.decoder = ConvDecoder(bottleneck)\n",
        "  \n",
        "  def forward(self, x):\n",
        "    x = self.encoder(x)\n",
        "    x = self.decoder(x)\n",
        "    return x\n"
      ],
      "execution_count": 0,
      "outputs": []
    },
    {
      "cell_type": "markdown",
      "metadata": {
        "id": "08A1voIYueHa",
        "colab_type": "text"
      },
      "source": [
        "<h3><b>Define Train and Test/Validation methods</b></h3>"
      ]
    },
    {
      "cell_type": "code",
      "metadata": {
        "id": "S_KLCs2BkZ2q",
        "colab_type": "code",
        "colab": {}
      },
      "source": [
        "def train_epoch(train_loader, network, optimizer, criterion, hparams):\n",
        "  # Activate the train=True flag inside the model\n",
        "  network.train()\n",
        "  device = hparams['device']\n",
        "  avg_loss = None\n",
        "  avg_weight = 0.1\n",
        "  for batch_idx, (data, target) in enumerate(train_loader):\n",
        "      target = F.one_hot(target, 10)\n",
        "      data, target = data.to(device), target.to(device, dtype= torch.float)\n",
        "      optimizer.zero_grad()\n",
        "      output = network(data)\n",
        "      # we pass data as the \"target\" because we want to measure the MSE between \n",
        "      # output and input.\n",
        "      loss = criterion(output, data)\n",
        "      loss.backward()\n",
        "      optimizer.step()\n",
        "      avg_loss = loss.item()\n",
        "      network.state_dict()\n",
        "      if batch_idx % hparams['log_batch_freq'] == 0:\n",
        "          print('Train Epoch: {} [{}/{} ({:.0f}%)]\\tLoss: {:.6f}'.format(\n",
        "              epoch, batch_idx * len(data), len(train_loader.dataset),\n",
        "              100. * batch_idx / len(train_loader), loss.item()))\n",
        "  return avg_loss"
      ],
      "execution_count": 0,
      "outputs": []
    },
    {
      "cell_type": "code",
      "metadata": {
        "id": "ShcnBQQsvQZ3",
        "colab_type": "code",
        "colab": {}
      },
      "source": [
        "def test_epoch(test_loader, network, criterion, hparams, validation=False):\n",
        "    network.eval()\n",
        "    device = hparams['device']\n",
        "    test_loss = 0\n",
        "    acc = 0\n",
        "    with torch.no_grad():\n",
        "        for data, target in test_loader:\n",
        "            target = F.one_hot(target, 10)\n",
        "            data, target = data.to(device), target.to(device, dtype= torch.float)\n",
        "            output = network(data)\n",
        "            test_loss += criterion(output, data).item() # sum up batch loss\n",
        "    test_acc = 0\n",
        "    print('\\n{} set: Average loss: {:.4f}, Accuracy: {}/{} ({:.0f}%)\\n'.format(\n",
        "        'Test' if validation is False else 'Validation', test_loss, acc, \n",
        "        len(test_loader.dataset), test_acc,\n",
        "        ))\n",
        "    return test_loss"
      ],
      "execution_count": 0,
      "outputs": []
    },
    {
      "cell_type": "markdown",
      "metadata": {
        "id": "d_gKUdfdvF4s",
        "colab_type": "text"
      },
      "source": [
        "<h3><b> Define the optimizer with MSE Loss</h3></b>"
      ]
    },
    {
      "cell_type": "code",
      "metadata": {
        "id": "JVgZRuv6GX9E",
        "colab_type": "code",
        "colab": {}
      },
      "source": [
        "criterion = nn.MSELoss()"
      ],
      "execution_count": 0,
      "outputs": []
    },
    {
      "cell_type": "markdown",
      "metadata": {
        "id": "P0yuYViBruNE",
        "colab_type": "text"
      },
      "source": [
        "# <h3><b>Training Loop</h3></b>"
      ]
    },
    {
      "cell_type": "code",
      "metadata": {
        "id": "jUeo1IdOkrcQ",
        "colab_type": "code",
        "outputId": "8096f1b6-f8df-433b-f8d1-6369a3164116",
        "colab": {
          "base_uri": "https://localhost:8080/",
          "height": 1000
        }
      },
      "source": [
        "# [8, 16, 32, 64, 128] We want an ordered set, so we use list() instead of set()\n",
        "bottleneck_set = [2**(i+3) for i in range(5)] \n",
        "bottleneck = 128\n",
        "# Define a losses dictionary with keys the bottleneck size and values the \n",
        "# train, validation losses. We will use this to monitor the model performance \n",
        "# later.  \n",
        "losses = dict()\n",
        "#for bottleneck in bottleneck_set:\n",
        "print(\"Training ConvAutoEncoder with bottleneck: {}\".format(bottleneck))\n",
        "net = ConvAutoEncoder(bottleneck)\n",
        "optimizer = optim.Adam(net.parameters(), lr=hparams['learning_rate'])\n",
        "\n",
        "train_losses = []\n",
        "validation_losses = []\n",
        "for epoch in range(1, hparams['num_epochs'] + 1):\n",
        "  train_losses.append(train_epoch(train_loader, net, optimizer, criterion, hparams))\n",
        "  validation_losses.append(test_epoch(validation_loader, net, criterion, hparams, validation=True))\n",
        "  #validation_accs.append(validation_acc)\n",
        "losses.update({bottleneck: {\"train_loss\": train_losses, \"val_loss\": validation_losses}})"
      ],
      "execution_count": 21,
      "outputs": [
        {
          "output_type": "stream",
          "text": [
            "Training ConvAutoEncoder with bottleneck: 128\n",
            "Train Epoch: 1 [0/57000 (0%)]\tLoss: 1.030546\n",
            "Train Epoch: 1 [2560/57000 (4%)]\tLoss: 0.825290\n",
            "Train Epoch: 1 [5120/57000 (9%)]\tLoss: 0.750873\n",
            "Train Epoch: 1 [7680/57000 (13%)]\tLoss: 0.669495\n",
            "Train Epoch: 1 [10240/57000 (18%)]\tLoss: 0.567982\n",
            "Train Epoch: 1 [12800/57000 (22%)]\tLoss: 0.510855\n",
            "Train Epoch: 1 [15360/57000 (27%)]\tLoss: 0.453002\n",
            "Train Epoch: 1 [17920/57000 (31%)]\tLoss: 0.429594\n",
            "Train Epoch: 1 [20480/57000 (36%)]\tLoss: 0.396130\n",
            "Train Epoch: 1 [23040/57000 (40%)]\tLoss: 0.372183\n",
            "Train Epoch: 1 [25600/57000 (45%)]\tLoss: 0.366381\n",
            "Train Epoch: 1 [28160/57000 (49%)]\tLoss: 0.343445\n",
            "Train Epoch: 1 [30720/57000 (54%)]\tLoss: 0.336432\n",
            "Train Epoch: 1 [33280/57000 (58%)]\tLoss: 0.321827\n",
            "Train Epoch: 1 [35840/57000 (63%)]\tLoss: 0.319242\n",
            "Train Epoch: 1 [38400/57000 (67%)]\tLoss: 0.316814\n",
            "Train Epoch: 1 [40960/57000 (72%)]\tLoss: 0.307152\n",
            "Train Epoch: 1 [43520/57000 (76%)]\tLoss: 0.312460\n",
            "Train Epoch: 1 [46080/57000 (81%)]\tLoss: 0.299181\n",
            "Train Epoch: 1 [48640/57000 (85%)]\tLoss: 0.294838\n",
            "Train Epoch: 1 [51200/57000 (90%)]\tLoss: 0.290837\n",
            "Train Epoch: 1 [53760/57000 (94%)]\tLoss: 0.292007\n",
            "Train Epoch: 1 [56320/57000 (99%)]\tLoss: 0.282313\n",
            "\n",
            "Validation set: Average loss: 0.2883, Accuracy: 0/3000 (0%)\n",
            "\n",
            "Train Epoch: 2 [0/57000 (0%)]\tLoss: 0.283747\n",
            "Train Epoch: 2 [2560/57000 (4%)]\tLoss: 0.288087\n",
            "Train Epoch: 2 [5120/57000 (9%)]\tLoss: 0.281792\n",
            "Train Epoch: 2 [7680/57000 (13%)]\tLoss: 0.280497\n",
            "Train Epoch: 2 [10240/57000 (18%)]\tLoss: 0.278964\n",
            "Train Epoch: 2 [12800/57000 (22%)]\tLoss: 0.281200\n",
            "Train Epoch: 2 [15360/57000 (27%)]\tLoss: 0.278263\n",
            "Train Epoch: 2 [17920/57000 (31%)]\tLoss: 0.272907\n",
            "Train Epoch: 2 [20480/57000 (36%)]\tLoss: 0.275216\n",
            "Train Epoch: 2 [23040/57000 (40%)]\tLoss: 0.263544\n",
            "Train Epoch: 2 [25600/57000 (45%)]\tLoss: 0.270691\n",
            "Train Epoch: 2 [28160/57000 (49%)]\tLoss: 0.260398\n",
            "Train Epoch: 2 [30720/57000 (54%)]\tLoss: 0.263932\n",
            "Train Epoch: 2 [33280/57000 (58%)]\tLoss: 0.257090\n",
            "Train Epoch: 2 [35840/57000 (63%)]\tLoss: 0.258058\n",
            "Train Epoch: 2 [38400/57000 (67%)]\tLoss: 0.262295\n",
            "Train Epoch: 2 [40960/57000 (72%)]\tLoss: 0.257798\n",
            "Train Epoch: 2 [43520/57000 (76%)]\tLoss: 0.255181\n",
            "Train Epoch: 2 [46080/57000 (81%)]\tLoss: 0.262017\n",
            "Train Epoch: 2 [48640/57000 (85%)]\tLoss: 0.259074\n",
            "Train Epoch: 2 [51200/57000 (90%)]\tLoss: 0.260546\n",
            "Train Epoch: 2 [53760/57000 (94%)]\tLoss: 0.258860\n",
            "Train Epoch: 2 [56320/57000 (99%)]\tLoss: 0.257191\n",
            "\n",
            "Validation set: Average loss: 0.2527, Accuracy: 0/3000 (0%)\n",
            "\n",
            "Train Epoch: 3 [0/57000 (0%)]\tLoss: 0.254441\n",
            "Train Epoch: 3 [2560/57000 (4%)]\tLoss: 0.251954\n",
            "Train Epoch: 3 [5120/57000 (9%)]\tLoss: 0.246522\n",
            "Train Epoch: 3 [7680/57000 (13%)]\tLoss: 0.250440\n",
            "Train Epoch: 3 [10240/57000 (18%)]\tLoss: 0.248211\n",
            "Train Epoch: 3 [12800/57000 (22%)]\tLoss: 0.249749\n",
            "Train Epoch: 3 [15360/57000 (27%)]\tLoss: 0.243361\n",
            "Train Epoch: 3 [17920/57000 (31%)]\tLoss: 0.245835\n",
            "Train Epoch: 3 [20480/57000 (36%)]\tLoss: 0.240500\n",
            "Train Epoch: 3 [23040/57000 (40%)]\tLoss: 0.243017\n",
            "Train Epoch: 3 [25600/57000 (45%)]\tLoss: 0.237679\n",
            "Train Epoch: 3 [28160/57000 (49%)]\tLoss: 0.240990\n",
            "Train Epoch: 3 [30720/57000 (54%)]\tLoss: 0.240414\n",
            "Train Epoch: 3 [33280/57000 (58%)]\tLoss: 0.241885\n",
            "Train Epoch: 3 [35840/57000 (63%)]\tLoss: 0.240720\n",
            "Train Epoch: 3 [38400/57000 (67%)]\tLoss: 0.239906\n",
            "Train Epoch: 3 [40960/57000 (72%)]\tLoss: 0.238169\n",
            "Train Epoch: 3 [43520/57000 (76%)]\tLoss: 0.241059\n",
            "Train Epoch: 3 [46080/57000 (81%)]\tLoss: 0.235792\n",
            "Train Epoch: 3 [48640/57000 (85%)]\tLoss: 0.240514\n",
            "Train Epoch: 3 [51200/57000 (90%)]\tLoss: 0.237440\n",
            "Train Epoch: 3 [53760/57000 (94%)]\tLoss: 0.230833\n",
            "Train Epoch: 3 [56320/57000 (99%)]\tLoss: 0.236619\n",
            "\n",
            "Validation set: Average loss: 0.2364, Accuracy: 0/3000 (0%)\n",
            "\n",
            "Train Epoch: 4 [0/57000 (0%)]\tLoss: 0.234457\n",
            "Train Epoch: 4 [2560/57000 (4%)]\tLoss: 0.233751\n",
            "Train Epoch: 4 [5120/57000 (9%)]\tLoss: 0.233566\n",
            "Train Epoch: 4 [7680/57000 (13%)]\tLoss: 0.234553\n",
            "Train Epoch: 4 [10240/57000 (18%)]\tLoss: 0.230175\n",
            "Train Epoch: 4 [12800/57000 (22%)]\tLoss: 0.232967\n",
            "Train Epoch: 4 [15360/57000 (27%)]\tLoss: 0.232670\n",
            "Train Epoch: 4 [17920/57000 (31%)]\tLoss: 0.233367\n",
            "Train Epoch: 4 [20480/57000 (36%)]\tLoss: 0.234857\n",
            "Train Epoch: 4 [23040/57000 (40%)]\tLoss: 0.232020\n",
            "Train Epoch: 4 [25600/57000 (45%)]\tLoss: 0.234924\n",
            "Train Epoch: 4 [28160/57000 (49%)]\tLoss: 0.228679\n",
            "Train Epoch: 4 [30720/57000 (54%)]\tLoss: 0.228549\n",
            "Train Epoch: 4 [33280/57000 (58%)]\tLoss: 0.228666\n",
            "Train Epoch: 4 [35840/57000 (63%)]\tLoss: 0.226763\n",
            "Train Epoch: 4 [38400/57000 (67%)]\tLoss: 0.228202\n",
            "Train Epoch: 4 [40960/57000 (72%)]\tLoss: 0.231698\n",
            "Train Epoch: 4 [43520/57000 (76%)]\tLoss: 0.232568\n",
            "Train Epoch: 4 [46080/57000 (81%)]\tLoss: 0.230095\n",
            "Train Epoch: 4 [48640/57000 (85%)]\tLoss: 0.230091\n",
            "Train Epoch: 4 [51200/57000 (90%)]\tLoss: 0.222498\n",
            "Train Epoch: 4 [53760/57000 (94%)]\tLoss: 0.226696\n",
            "Train Epoch: 4 [56320/57000 (99%)]\tLoss: 0.226360\n",
            "\n",
            "Validation set: Average loss: 0.2275, Accuracy: 0/3000 (0%)\n",
            "\n",
            "Train Epoch: 5 [0/57000 (0%)]\tLoss: 0.228279\n",
            "Train Epoch: 5 [2560/57000 (4%)]\tLoss: 0.225062\n",
            "Train Epoch: 5 [5120/57000 (9%)]\tLoss: 0.223446\n",
            "Train Epoch: 5 [7680/57000 (13%)]\tLoss: 0.227487\n",
            "Train Epoch: 5 [10240/57000 (18%)]\tLoss: 0.219129\n",
            "Train Epoch: 5 [12800/57000 (22%)]\tLoss: 0.222519\n",
            "Train Epoch: 5 [15360/57000 (27%)]\tLoss: 0.219337\n",
            "Train Epoch: 5 [17920/57000 (31%)]\tLoss: 0.226763\n",
            "Train Epoch: 5 [20480/57000 (36%)]\tLoss: 0.225654\n",
            "Train Epoch: 5 [23040/57000 (40%)]\tLoss: 0.221118\n",
            "Train Epoch: 5 [25600/57000 (45%)]\tLoss: 0.224394\n",
            "Train Epoch: 5 [28160/57000 (49%)]\tLoss: 0.229513\n",
            "Train Epoch: 5 [30720/57000 (54%)]\tLoss: 0.227566\n",
            "Train Epoch: 5 [33280/57000 (58%)]\tLoss: 0.224954\n",
            "Train Epoch: 5 [35840/57000 (63%)]\tLoss: 0.217836\n",
            "Train Epoch: 5 [38400/57000 (67%)]\tLoss: 0.219687\n",
            "Train Epoch: 5 [40960/57000 (72%)]\tLoss: 0.220876\n",
            "Train Epoch: 5 [43520/57000 (76%)]\tLoss: 0.219651\n",
            "Train Epoch: 5 [46080/57000 (81%)]\tLoss: 0.225589\n",
            "Train Epoch: 5 [48640/57000 (85%)]\tLoss: 0.220960\n",
            "Train Epoch: 5 [51200/57000 (90%)]\tLoss: 0.217948\n",
            "Train Epoch: 5 [53760/57000 (94%)]\tLoss: 0.222294\n",
            "Train Epoch: 5 [56320/57000 (99%)]\tLoss: 0.218190\n",
            "\n",
            "Validation set: Average loss: 0.2216, Accuracy: 0/3000 (0%)\n",
            "\n",
            "Train Epoch: 6 [0/57000 (0%)]\tLoss: 0.219851\n",
            "Train Epoch: 6 [2560/57000 (4%)]\tLoss: 0.217237\n",
            "Train Epoch: 6 [5120/57000 (9%)]\tLoss: 0.222111\n",
            "Train Epoch: 6 [7680/57000 (13%)]\tLoss: 0.221811\n",
            "Train Epoch: 6 [10240/57000 (18%)]\tLoss: 0.220017\n",
            "Train Epoch: 6 [12800/57000 (22%)]\tLoss: 0.218559\n",
            "Train Epoch: 6 [15360/57000 (27%)]\tLoss: 0.221186\n",
            "Train Epoch: 6 [17920/57000 (31%)]\tLoss: 0.219405\n",
            "Train Epoch: 6 [20480/57000 (36%)]\tLoss: 0.218405\n",
            "Train Epoch: 6 [23040/57000 (40%)]\tLoss: 0.218562\n",
            "Train Epoch: 6 [25600/57000 (45%)]\tLoss: 0.217995\n",
            "Train Epoch: 6 [28160/57000 (49%)]\tLoss: 0.217279\n",
            "Train Epoch: 6 [30720/57000 (54%)]\tLoss: 0.220086\n",
            "Train Epoch: 6 [33280/57000 (58%)]\tLoss: 0.217089\n",
            "Train Epoch: 6 [35840/57000 (63%)]\tLoss: 0.217002\n",
            "Train Epoch: 6 [38400/57000 (67%)]\tLoss: 0.218894\n",
            "Train Epoch: 6 [40960/57000 (72%)]\tLoss: 0.213451\n",
            "Train Epoch: 6 [43520/57000 (76%)]\tLoss: 0.220060\n",
            "Train Epoch: 6 [46080/57000 (81%)]\tLoss: 0.216773\n",
            "Train Epoch: 6 [48640/57000 (85%)]\tLoss: 0.215286\n",
            "Train Epoch: 6 [51200/57000 (90%)]\tLoss: 0.216711\n",
            "Train Epoch: 6 [53760/57000 (94%)]\tLoss: 0.214657\n",
            "Train Epoch: 6 [56320/57000 (99%)]\tLoss: 0.213183\n",
            "\n",
            "Validation set: Average loss: 0.2154, Accuracy: 0/3000 (0%)\n",
            "\n",
            "Train Epoch: 7 [0/57000 (0%)]\tLoss: 0.212567\n",
            "Train Epoch: 7 [2560/57000 (4%)]\tLoss: 0.215051\n",
            "Train Epoch: 7 [5120/57000 (9%)]\tLoss: 0.213488\n",
            "Train Epoch: 7 [7680/57000 (13%)]\tLoss: 0.216716\n",
            "Train Epoch: 7 [10240/57000 (18%)]\tLoss: 0.216273\n",
            "Train Epoch: 7 [12800/57000 (22%)]\tLoss: 0.212861\n",
            "Train Epoch: 7 [15360/57000 (27%)]\tLoss: 0.213107\n",
            "Train Epoch: 7 [17920/57000 (31%)]\tLoss: 0.213919\n",
            "Train Epoch: 7 [20480/57000 (36%)]\tLoss: 0.215202\n",
            "Train Epoch: 7 [23040/57000 (40%)]\tLoss: 0.216500\n",
            "Train Epoch: 7 [25600/57000 (45%)]\tLoss: 0.212466\n",
            "Train Epoch: 7 [28160/57000 (49%)]\tLoss: 0.216244\n",
            "Train Epoch: 7 [30720/57000 (54%)]\tLoss: 0.216404\n",
            "Train Epoch: 7 [33280/57000 (58%)]\tLoss: 0.213639\n",
            "Train Epoch: 7 [35840/57000 (63%)]\tLoss: 0.214802\n",
            "Train Epoch: 7 [38400/57000 (67%)]\tLoss: 0.212250\n",
            "Train Epoch: 7 [40960/57000 (72%)]\tLoss: 0.216950\n",
            "Train Epoch: 7 [43520/57000 (76%)]\tLoss: 0.215377\n",
            "Train Epoch: 7 [46080/57000 (81%)]\tLoss: 0.211777\n",
            "Train Epoch: 7 [48640/57000 (85%)]\tLoss: 0.209478\n",
            "Train Epoch: 7 [51200/57000 (90%)]\tLoss: 0.209675\n",
            "Train Epoch: 7 [53760/57000 (94%)]\tLoss: 0.215908\n",
            "Train Epoch: 7 [56320/57000 (99%)]\tLoss: 0.214648\n",
            "\n",
            "Validation set: Average loss: 0.2142, Accuracy: 0/3000 (0%)\n",
            "\n",
            "Train Epoch: 8 [0/57000 (0%)]\tLoss: 0.210438\n",
            "Train Epoch: 8 [2560/57000 (4%)]\tLoss: 0.211359\n",
            "Train Epoch: 8 [5120/57000 (9%)]\tLoss: 0.211052\n",
            "Train Epoch: 8 [7680/57000 (13%)]\tLoss: 0.213942\n",
            "Train Epoch: 8 [10240/57000 (18%)]\tLoss: 0.213999\n",
            "Train Epoch: 8 [12800/57000 (22%)]\tLoss: 0.212111\n",
            "Train Epoch: 8 [15360/57000 (27%)]\tLoss: 0.209070\n",
            "Train Epoch: 8 [17920/57000 (31%)]\tLoss: 0.209190\n",
            "Train Epoch: 8 [20480/57000 (36%)]\tLoss: 0.210128\n",
            "Train Epoch: 8 [23040/57000 (40%)]\tLoss: 0.209566\n",
            "Train Epoch: 8 [25600/57000 (45%)]\tLoss: 0.208430\n",
            "Train Epoch: 8 [28160/57000 (49%)]\tLoss: 0.207651\n",
            "Train Epoch: 8 [30720/57000 (54%)]\tLoss: 0.210588\n",
            "Train Epoch: 8 [33280/57000 (58%)]\tLoss: 0.211855\n",
            "Train Epoch: 8 [35840/57000 (63%)]\tLoss: 0.207905\n",
            "Train Epoch: 8 [38400/57000 (67%)]\tLoss: 0.207627\n",
            "Train Epoch: 8 [40960/57000 (72%)]\tLoss: 0.207779\n",
            "Train Epoch: 8 [43520/57000 (76%)]\tLoss: 0.205707\n",
            "Train Epoch: 8 [46080/57000 (81%)]\tLoss: 0.205930\n",
            "Train Epoch: 8 [48640/57000 (85%)]\tLoss: 0.213080\n",
            "Train Epoch: 8 [51200/57000 (90%)]\tLoss: 0.210863\n",
            "Train Epoch: 8 [53760/57000 (94%)]\tLoss: 0.209711\n",
            "Train Epoch: 8 [56320/57000 (99%)]\tLoss: 0.209635\n",
            "\n",
            "Validation set: Average loss: 0.2095, Accuracy: 0/3000 (0%)\n",
            "\n",
            "Train Epoch: 9 [0/57000 (0%)]\tLoss: 0.209082\n",
            "Train Epoch: 9 [2560/57000 (4%)]\tLoss: 0.209003\n",
            "Train Epoch: 9 [5120/57000 (9%)]\tLoss: 0.207832\n",
            "Train Epoch: 9 [7680/57000 (13%)]\tLoss: 0.206894\n",
            "Train Epoch: 9 [10240/57000 (18%)]\tLoss: 0.204904\n",
            "Train Epoch: 9 [12800/57000 (22%)]\tLoss: 0.203514\n",
            "Train Epoch: 9 [15360/57000 (27%)]\tLoss: 0.204948\n",
            "Train Epoch: 9 [17920/57000 (31%)]\tLoss: 0.207404\n",
            "Train Epoch: 9 [20480/57000 (36%)]\tLoss: 0.207721\n",
            "Train Epoch: 9 [23040/57000 (40%)]\tLoss: 0.208789\n",
            "Train Epoch: 9 [25600/57000 (45%)]\tLoss: 0.206143\n",
            "Train Epoch: 9 [28160/57000 (49%)]\tLoss: 0.202283\n",
            "Train Epoch: 9 [30720/57000 (54%)]\tLoss: 0.205592\n",
            "Train Epoch: 9 [33280/57000 (58%)]\tLoss: 0.203737\n",
            "Train Epoch: 9 [35840/57000 (63%)]\tLoss: 0.204881\n",
            "Train Epoch: 9 [38400/57000 (67%)]\tLoss: 0.204203\n",
            "Train Epoch: 9 [40960/57000 (72%)]\tLoss: 0.204064\n",
            "Train Epoch: 9 [43520/57000 (76%)]\tLoss: 0.204308\n",
            "Train Epoch: 9 [46080/57000 (81%)]\tLoss: 0.203998\n",
            "Train Epoch: 9 [48640/57000 (85%)]\tLoss: 0.204671\n",
            "Train Epoch: 9 [51200/57000 (90%)]\tLoss: 0.204249\n",
            "Train Epoch: 9 [53760/57000 (94%)]\tLoss: 0.207386\n",
            "Train Epoch: 9 [56320/57000 (99%)]\tLoss: 0.206191\n",
            "\n",
            "Validation set: Average loss: 0.2052, Accuracy: 0/3000 (0%)\n",
            "\n",
            "Train Epoch: 10 [0/57000 (0%)]\tLoss: 0.206482\n",
            "Train Epoch: 10 [2560/57000 (4%)]\tLoss: 0.202842\n",
            "Train Epoch: 10 [5120/57000 (9%)]\tLoss: 0.202925\n",
            "Train Epoch: 10 [7680/57000 (13%)]\tLoss: 0.201966\n",
            "Train Epoch: 10 [10240/57000 (18%)]\tLoss: 0.205182\n",
            "Train Epoch: 10 [12800/57000 (22%)]\tLoss: 0.201444\n",
            "Train Epoch: 10 [15360/57000 (27%)]\tLoss: 0.205004\n",
            "Train Epoch: 10 [17920/57000 (31%)]\tLoss: 0.202299\n",
            "Train Epoch: 10 [20480/57000 (36%)]\tLoss: 0.203390\n",
            "Train Epoch: 10 [23040/57000 (40%)]\tLoss: 0.208090\n",
            "Train Epoch: 10 [25600/57000 (45%)]\tLoss: 0.204725\n",
            "Train Epoch: 10 [28160/57000 (49%)]\tLoss: 0.201938\n",
            "Train Epoch: 10 [30720/57000 (54%)]\tLoss: 0.204292\n",
            "Train Epoch: 10 [33280/57000 (58%)]\tLoss: 0.201771\n",
            "Train Epoch: 10 [35840/57000 (63%)]\tLoss: 0.204436\n",
            "Train Epoch: 10 [38400/57000 (67%)]\tLoss: 0.203634\n",
            "Train Epoch: 10 [40960/57000 (72%)]\tLoss: 0.201565\n",
            "Train Epoch: 10 [43520/57000 (76%)]\tLoss: 0.201601\n",
            "Train Epoch: 10 [46080/57000 (81%)]\tLoss: 0.201346\n",
            "Train Epoch: 10 [48640/57000 (85%)]\tLoss: 0.204356\n",
            "Train Epoch: 10 [51200/57000 (90%)]\tLoss: 0.201033\n",
            "Train Epoch: 10 [53760/57000 (94%)]\tLoss: 0.202009\n",
            "Train Epoch: 10 [56320/57000 (99%)]\tLoss: 0.203993\n",
            "\n",
            "Validation set: Average loss: 0.2030, Accuracy: 0/3000 (0%)\n",
            "\n"
          ],
          "name": "stdout"
        }
      ]
    },
    {
      "cell_type": "code",
      "metadata": {
        "id": "llTq9I06cOTI",
        "colab_type": "code",
        "outputId": "65ac4011-e535-453f-c6fe-ccbd8da3990a",
        "colab": {
          "base_uri": "https://localhost:8080/",
          "height": 260
        }
      },
      "source": [
        "plt.figure(figsize=(10, 8))\n",
        "plt.subplot(2,1,1)\n",
        "plt.xlabel('Epoch')\n",
        "plt.ylabel('MSE')\n",
        "for bn, loss in losses.items():\n",
        "  plt.plot(loss['train_loss'], label='bn-{}-train'.format(bn))\n",
        "  plt.plot(loss['val_loss'], 'o', label='bn-{}-validation'.format(bn))\n",
        "plt.legend()\n",
        "plt.show()"
      ],
      "execution_count": 0,
      "outputs": [
        {
          "output_type": "display_data",
          "data": {
            "image/png": "[encoded data removed]",
            "text/plain": [
              "<Figure size 720x576 with 1 Axes>"
            ]
          },
          "metadata": {
            "tags": []
          }
        }
      ]
    },
    {
      "cell_type": "markdown",
      "metadata": {
        "id": "M_QHQWEzHILt",
        "colab_type": "text"
      },
      "source": [
        "# <h3><b>Test and display 5 images</h3></b>"
      ]
    },
    {
      "cell_type": "code",
      "metadata": {
        "id": "_Vg-HJwzHVhS",
        "colab_type": "code",
        "colab": {
          "base_uri": "https://localhost:8080/",
          "height": 207
        },
        "outputId": "6f52a53c-23e7-42b8-cc6b-316cdddbbbde"
      },
      "source": [
        "# select N images\n",
        "N = 5\n",
        "test_images = random.sample(list(mnist_testset),N)\n",
        "image_loader = torch.utils.data.DataLoader(\n",
        "    test_images,\n",
        "    shuffle=False)\n",
        "device = hparams['device']\n",
        "\n",
        "# create plot\n",
        "f, axarr = plt.subplots(2,N)\n",
        "for i, (image, label) in enumerate(image_loader):\n",
        "  with torch.no_grad():\n",
        "    image = image.to(device)\n",
        "    output = net(image)\n",
        "    original_image = image.squeeze().data.numpy()\n",
        "    output_image = output.squeeze().data.numpy()\n",
        "    axarr[0,i].imshow(original_image,cmap='gray')\n",
        "    axarr[0,i].axis('off')\n",
        "    axarr[1,i].imshow(output_image,cmap='gray')\n",
        "    axarr[1,i].axis('off')\n",
        "plt.show()\n"
      ],
      "execution_count": 70,
      "outputs": [
        {
          "output_type": "display_data",
          "data": {
            "image/png": "[encoded data removed]",
            "text/plain": [
              "<Figure size 432x288 with 10 Axes>"
            ]
          },
          "metadata": {
            "tags": []
          }
        }
      ]
    },
    {
      "cell_type": "markdown",
      "metadata": {
        "id": "-mZSQUNA4OEQ",
        "colab_type": "text"
      },
      "source": [
        "# <h3><b>Creation of new images with the encoder</h3></b>"
      ]
    },
    {
      "cell_type": "code",
      "metadata": {
        "id": "5TH2C6HKCjVs",
        "colab_type": "code",
        "colab": {
          "base_uri": "https://localhost:8080/",
          "height": 89
        },
        "outputId": "28609f97-caea-4beb-d9c6-7627fedbb0ee"
      },
      "source": [
        "# extract decoder from autoencoder\n",
        "decoder = net.decoder\n",
        "# create random input\n",
        "rand_inputs = torch.randn(5,128)\n",
        "# plot images from random inputs\n",
        "f, axarr = plt.subplots(1,N)\n",
        "for i, rand_input in enumerate(rand_inputs):\n",
        "  with torch.no_grad():\n",
        "    rand_input = rand_input.to(device)\n",
        "    output = decoder(rand_input)\n",
        "    output_image = output.squeeze().data.numpy()\n",
        "    axarr[i].imshow(output_image,cmap='gray')\n",
        "    axarr[i].axis('off')\n",
        "plt.show()\n"
      ],
      "execution_count": 101,
      "outputs": [
        {
          "output_type": "display_data",
          "data": {
            "image/png": "[encoded data removed]",
            "text/plain": [
              "<Figure size 432x288 with 5 Axes>"
            ]
          },
          "metadata": {
            "tags": []
          }
        }
      ]
    },
    {
      "cell_type": "markdown",
      "metadata": {
        "id": "Y3fu7jkgNiHi",
        "colab_type": "text"
      },
      "source": [
        "**Exercice 2:** Transfer learning\n"
      ]
    },
    {
      "cell_type": "markdown",
      "metadata": {
        "id": "qzutoZ6MQ8Mv",
        "colab_type": "text"
      },
      "source": [
        "\n",
        "\n",
        "1.   Select a subset of 100 images and their associated labels from the MNIST training data.\n",
        "2.   Select one of the previously trained autoencoders.\n",
        "3.   Create a digit (0-9) classification model reusing the encoder of the autoencoder and adding the needed fully connected (projection) layer.\n",
        "4.   Pre-training: use the weights of the autoencoder as initial values for the network weights and train a classification model on the subset of 100 samples.\n",
        "5.   Fine-tuning: do the same, but train the new projection layer with a normal learning rate and the reused part with a very low learning rate.\n",
        "6.   From scratch: train the model on the 100 samples without reusing the decoder weights at all.\n",
        "7.   Show the accuracy of the four models on the MNIST test set in a table.\n",
        "\n",
        "\n"
      ]
    },
    {
      "cell_type": "markdown",
      "metadata": {
        "id": "kHIC9v4H9fME",
        "colab_type": "text"
      },
      "source": [
        "<h3><b>Create subset of 100 images</h3></b>"
      ]
    },
    {
      "cell_type": "code",
      "metadata": {
        "id": "yXewJXmm9eDH",
        "colab_type": "code",
        "colab": {}
      },
      "source": [
        "train_size = 100\n",
        "train_images = random.sample(list(mnist_trainset),train_size)\n",
        "train_loader = torch.utils.data.DataLoader(\n",
        "    train_images,\n",
        "    batch_size= train_size,\n",
        "    shuffle=True)\n",
        "device = hparams['device']"
      ],
      "execution_count": 0,
      "outputs": []
    },
    {
      "cell_type": "markdown",
      "metadata": {
        "id": "55Vb3MUJOg2x",
        "colab_type": "text"
      },
      "source": [
        "<h3><b> Select the encoder from the previous exercice </h3></b>"
      ]
    },
    {
      "cell_type": "code",
      "metadata": {
        "id": "OTCEZEM1OsAd",
        "colab_type": "code",
        "colab": {}
      },
      "source": [
        "encoder = net.encoder"
      ],
      "execution_count": 0,
      "outputs": []
    },
    {
      "cell_type": "markdown",
      "metadata": {
        "id": "m3_n5zQRS5mc",
        "colab_type": "text"
      },
      "source": [
        "<h3><b> Create a classificator from the previous encoder and FCL </h3></b>"
      ]
    },
    {
      "cell_type": "code",
      "metadata": {
        "id": "-xJAkIurSq_w",
        "colab_type": "code",
        "colab": {}
      },
      "source": [
        "class Classificator(nn.Module):\n",
        "  def __init__(self, encoder):\n",
        "    super().__init__()\n",
        "    self.encoder = encoder\n",
        "    self.fc = nn.Sequential(\n",
        "      nn.Linear(128, hparams['num_classes']),\n",
        "      nn.LogSoftmax()\n",
        "    )\n",
        "  \n",
        "  def forward(self, x):\n",
        "    x = self.encoder(x)\n",
        "    x = self.fc(x)\n",
        "    return x"
      ],
      "execution_count": 0,
      "outputs": []
    },
    {
      "cell_type": "markdown",
      "metadata": {
        "colab_type": "text",
        "id": "vAnLE7FnXfRq"
      },
      "source": [
        "<h3><b>Define Train and Test/Validation methods</b></h3>"
      ]
    },
    {
      "cell_type": "code",
      "metadata": {
        "id": "KVizZ3syrNl9",
        "colab_type": "code",
        "colab": {}
      },
      "source": [
        "def correct_predictions(predicted_batch, label_batch):\n",
        "  pred = predicted_batch.argmax(dim=1, keepdim=True) # get the index of the max log-probability\n",
        "  acum = pred.eq(label_batch.view_as(pred)).sum().item()\n",
        "  return acum\n",
        "\n",
        "def train_class_epoch(train_loader, network, optimizer, criterion, hparams):\n",
        "  # Activate the train=True flag inside the model\n",
        "  network.train()\n",
        "  device = hparams['device']\n",
        "  avg_loss = None\n",
        "  avg_weight = 0.1\n",
        "  for batch_idx, (data, target) in enumerate(train_loader):\n",
        "      data, target = data.to(device), target.to(device)\n",
        "      optimizer.zero_grad()\n",
        "      output = network(data)\n",
        "      loss = criterion(output, target)\n",
        "      loss.backward()\n",
        "      if avg_loss:\n",
        "        avg_loss = avg_weight * loss.item() + (1 - avg_weight) * avg_loss\n",
        "      else:\n",
        "        avg_loss = loss.item()\n",
        "      optimizer.step()\n",
        "      print('Train Epoch: {} [{}/{} ({:.0f}%)]\\tLoss: {:.6f}'.format(\n",
        "          epoch, batch_idx * len(data), len(train_loader.dataset),\n",
        "          100. * batch_idx / len(train_loader), loss.item()))\n",
        "  return avg_loss\n",
        "\n",
        "def test_class_epoch(test_loader, network, hparams):\n",
        "    network.eval()\n",
        "    device = hparams['device']\n",
        "    test_loss = 0\n",
        "    acc = 0\n",
        "    with torch.no_grad():\n",
        "        for data, target in test_loader:\n",
        "            data, target = data.to(device), target.to(device)\n",
        "            output = network(data)\n",
        "            test_loss += criterion(output, target, reduction='sum').item() # sum up batch loss\n",
        "            # compute number of correct predictions in the batch\n",
        "            acc += correct_predictions(output, target)\n",
        "    # Average acc across all correct predictions batches now\n",
        "    test_loss /= len(test_loader.dataset)\n",
        "    test_acc = 100. * acc / len(test_loader.dataset)\n",
        "    print('\\nTest set: Average loss: {:.4f}, Accuracy: {}/{} ({:.0f}%)\\n'.format(\n",
        "        test_loss, acc, len(test_loader.dataset), test_acc,\n",
        "        ))\n",
        "    return test_loss, test_acc"
      ],
      "execution_count": 0,
      "outputs": []
    },
    {
      "cell_type": "markdown",
      "metadata": {
        "id": "mT0_GheEUFhf",
        "colab_type": "text"
      },
      "source": [
        "<h3><b> Train the classificator only training the FCL </h3></b>"
      ]
    },
    {
      "cell_type": "code",
      "metadata": {
        "id": "gbW6g7bHjHjW",
        "colab_type": "code",
        "colab": {
          "base_uri": "https://localhost:8080/",
          "height": 1000
        },
        "outputId": "229da4f0-15e6-42e7-cbe8-4bc6f67b9b12"
      },
      "source": [
        "print(\"Training only the FCL\")\n",
        "train_losses1 = []\n",
        "validation_losses1 = []\n",
        "validation_accs1 = []\n",
        "class1 = Classificator(encoder.requires_grad_(requires_grad=False))\n",
        "class1.to(hparams['device'])\n",
        "optimizer = optim.RMSprop(class1.parameters(), lr=hparams['learning_rate'])\n",
        "criterion = F.nll_loss\n",
        "\n",
        "for epoch in range(40):\n",
        "  train_losses1.append(train_class_epoch(train_loader, class1, optimizer, criterion, hparams))\n",
        "  te_loss, te_acc = test_class_epoch(test_loader, class1, hparams)\n",
        "  validation_losses1.append(te_loss)\n",
        "  validation_accs1.append(te_acc)"
      ],
      "execution_count": 26,
      "outputs": [
        {
          "output_type": "stream",
          "text": [
            "Training only the FCL\n",
            "Train Epoch: 0 [0/100 (0%)]\tLoss: 10.750607\n"
          ],
          "name": "stdout"
        },
        {
          "output_type": "stream",
          "text": [
            "/usr/local/lib/python3.6/dist-packages/torch/nn/modules/container.py:92: UserWarning: Implicit dimension choice for log_softmax has been deprecated. Change the call to include dim=X as an argument.\n",
            "  input = module(input)\n"
          ],
          "name": "stderr"
        },
        {
          "output_type": "stream",
          "text": [
            "\n",
            "Test set: Average loss: 7.6085, Accuracy: 939/10000 (9%)\n",
            "\n",
            "Train Epoch: 1 [0/100 (0%)]\tLoss: 7.829157\n",
            "\n",
            "Test set: Average loss: 4.1738, Accuracy: 1121/10000 (11%)\n",
            "\n",
            "Train Epoch: 2 [0/100 (0%)]\tLoss: 4.421165\n",
            "\n",
            "Test set: Average loss: 3.1062, Accuracy: 842/10000 (8%)\n",
            "\n",
            "Train Epoch: 3 [0/100 (0%)]\tLoss: 3.001906\n",
            "\n",
            "Test set: Average loss: 2.8802, Accuracy: 1432/10000 (14%)\n",
            "\n",
            "Train Epoch: 4 [0/100 (0%)]\tLoss: 2.727426\n",
            "\n",
            "Test set: Average loss: 2.7530, Accuracy: 1310/10000 (13%)\n",
            "\n",
            "Train Epoch: 5 [0/100 (0%)]\tLoss: 2.585125\n",
            "\n",
            "Test set: Average loss: 2.6400, Accuracy: 1765/10000 (18%)\n",
            "\n",
            "Train Epoch: 6 [0/100 (0%)]\tLoss: 2.469846\n",
            "\n",
            "Test set: Average loss: 2.4629, Accuracy: 1792/10000 (18%)\n",
            "\n",
            "Train Epoch: 7 [0/100 (0%)]\tLoss: 2.272913\n",
            "\n",
            "Test set: Average loss: 2.3736, Accuracy: 2292/10000 (23%)\n",
            "\n",
            "Train Epoch: 8 [0/100 (0%)]\tLoss: 2.169797\n",
            "\n",
            "Test set: Average loss: 2.2989, Accuracy: 2103/10000 (21%)\n",
            "\n",
            "Train Epoch: 9 [0/100 (0%)]\tLoss: 2.063768\n",
            "\n",
            "Test set: Average loss: 2.2208, Accuracy: 2789/10000 (28%)\n",
            "\n",
            "Train Epoch: 10 [0/100 (0%)]\tLoss: 1.979637\n",
            "\n",
            "Test set: Average loss: 2.1626, Accuracy: 2480/10000 (25%)\n",
            "\n",
            "Train Epoch: 11 [0/100 (0%)]\tLoss: 1.891264\n",
            "\n",
            "Test set: Average loss: 2.0937, Accuracy: 3202/10000 (32%)\n",
            "\n",
            "Train Epoch: 12 [0/100 (0%)]\tLoss: 1.818662\n",
            "\n",
            "Test set: Average loss: 2.0452, Accuracy: 3019/10000 (30%)\n",
            "\n",
            "Train Epoch: 13 [0/100 (0%)]\tLoss: 1.744397\n",
            "\n",
            "Test set: Average loss: 1.9843, Accuracy: 3567/10000 (36%)\n",
            "\n",
            "Train Epoch: 14 [0/100 (0%)]\tLoss: 1.679243\n",
            "\n",
            "Test set: Average loss: 1.9428, Accuracy: 3481/10000 (35%)\n",
            "\n",
            "Train Epoch: 15 [0/100 (0%)]\tLoss: 1.617287\n",
            "\n",
            "Test set: Average loss: 1.8900, Accuracy: 3858/10000 (39%)\n",
            "\n",
            "Train Epoch: 16 [0/100 (0%)]\tLoss: 1.558804\n",
            "\n",
            "Test set: Average loss: 1.8534, Accuracy: 3834/10000 (38%)\n",
            "\n",
            "Train Epoch: 17 [0/100 (0%)]\tLoss: 1.506528\n",
            "\n",
            "Test set: Average loss: 1.8092, Accuracy: 4108/10000 (41%)\n",
            "\n",
            "Train Epoch: 18 [0/100 (0%)]\tLoss: 1.455361\n",
            "\n",
            "Test set: Average loss: 1.7755, Accuracy: 4073/10000 (41%)\n",
            "\n",
            "Train Epoch: 19 [0/100 (0%)]\tLoss: 1.409959\n",
            "\n",
            "Test set: Average loss: 1.7396, Accuracy: 4319/10000 (43%)\n",
            "\n",
            "Train Epoch: 20 [0/100 (0%)]\tLoss: 1.365986\n",
            "\n",
            "Test set: Average loss: 1.7074, Accuracy: 4333/10000 (43%)\n",
            "\n",
            "Train Epoch: 21 [0/100 (0%)]\tLoss: 1.325150\n",
            "\n",
            "Test set: Average loss: 1.6779, Accuracy: 4472/10000 (45%)\n",
            "\n",
            "Train Epoch: 22 [0/100 (0%)]\tLoss: 1.287114\n",
            "\n",
            "Test set: Average loss: 1.6468, Accuracy: 4560/10000 (46%)\n",
            "\n",
            "Train Epoch: 23 [0/100 (0%)]\tLoss: 1.249708\n",
            "\n",
            "Test set: Average loss: 1.6220, Accuracy: 4674/10000 (47%)\n",
            "\n",
            "Train Epoch: 24 [0/100 (0%)]\tLoss: 1.216076\n",
            "\n",
            "Test set: Average loss: 1.5927, Accuracy: 4776/10000 (48%)\n",
            "\n",
            "Train Epoch: 25 [0/100 (0%)]\tLoss: 1.182046\n",
            "\n",
            "Test set: Average loss: 1.5710, Accuracy: 4820/10000 (48%)\n",
            "\n",
            "Train Epoch: 26 [0/100 (0%)]\tLoss: 1.151738\n",
            "\n",
            "Test set: Average loss: 1.5441, Accuracy: 4939/10000 (49%)\n",
            "\n",
            "Train Epoch: 27 [0/100 (0%)]\tLoss: 1.121138\n",
            "\n",
            "Test set: Average loss: 1.5248, Accuracy: 4995/10000 (50%)\n",
            "\n",
            "Train Epoch: 28 [0/100 (0%)]\tLoss: 1.093555\n",
            "\n",
            "Test set: Average loss: 1.5004, Accuracy: 5108/10000 (51%)\n",
            "\n",
            "Train Epoch: 29 [0/100 (0%)]\tLoss: 1.066120\n",
            "\n",
            "Test set: Average loss: 1.4830, Accuracy: 5148/10000 (51%)\n",
            "\n",
            "Train Epoch: 30 [0/100 (0%)]\tLoss: 1.040907\n",
            "\n",
            "Test set: Average loss: 1.4610, Accuracy: 5250/10000 (52%)\n",
            "\n",
            "Train Epoch: 31 [0/100 (0%)]\tLoss: 1.016201\n",
            "\n",
            "Test set: Average loss: 1.4451, Accuracy: 5287/10000 (53%)\n",
            "\n",
            "Train Epoch: 32 [0/100 (0%)]\tLoss: 0.993099\n",
            "\n",
            "Test set: Average loss: 1.4253, Accuracy: 5381/10000 (54%)\n",
            "\n",
            "Train Epoch: 33 [0/100 (0%)]\tLoss: 0.970689\n",
            "\n",
            "Test set: Average loss: 1.4106, Accuracy: 5413/10000 (54%)\n",
            "\n",
            "Train Epoch: 34 [0/100 (0%)]\tLoss: 0.949477\n",
            "\n",
            "Test set: Average loss: 1.3927, Accuracy: 5494/10000 (55%)\n",
            "\n",
            "Train Epoch: 35 [0/100 (0%)]\tLoss: 0.929007\n",
            "\n",
            "Test set: Average loss: 1.3791, Accuracy: 5527/10000 (55%)\n",
            "\n",
            "Train Epoch: 36 [0/100 (0%)]\tLoss: 0.909477\n",
            "\n",
            "Test set: Average loss: 1.3629, Accuracy: 5612/10000 (56%)\n",
            "\n",
            "Train Epoch: 37 [0/100 (0%)]\tLoss: 0.890667\n",
            "\n",
            "Test set: Average loss: 1.3501, Accuracy: 5647/10000 (56%)\n",
            "\n",
            "Train Epoch: 38 [0/100 (0%)]\tLoss: 0.872630\n",
            "\n",
            "Test set: Average loss: 1.3354, Accuracy: 5689/10000 (57%)\n",
            "\n",
            "Train Epoch: 39 [0/100 (0%)]\tLoss: 0.855257\n",
            "\n",
            "Test set: Average loss: 1.3234, Accuracy: 5726/10000 (57%)\n",
            "\n"
          ],
          "name": "stdout"
        }
      ]
    },
    {
      "cell_type": "markdown",
      "metadata": {
        "colab_type": "text",
        "id": "8KUceRlIxcCP"
      },
      "source": [
        "<h3><b> Train the classificator using the pretrained weights as initial values </h3></b>"
      ]
    },
    {
      "cell_type": "code",
      "metadata": {
        "id": "utnWaa9DxrQ5",
        "colab_type": "code",
        "colab": {
          "base_uri": "https://localhost:8080/",
          "height": 1000
        },
        "outputId": "59eb25d1-c83c-4569-908a-3cc36d1a5fd7"
      },
      "source": [
        "print(\"Training with the pretarained weights\")\n",
        "train_losses2 = []\n",
        "validation_losses2 = []\n",
        "validation_accs2 = []\n",
        "class2 = Classificator(encoder.requires_grad_(requires_grad=True))\n",
        "class2.to(hparams['device'])\n",
        "optimizer = optim.RMSprop(class2.parameters(), lr=hparams['learning_rate'])\n",
        "criterion = F.nll_loss\n",
        "\n",
        "for epoch in range(40):\n",
        "  train_losses2.append(train_class_epoch(train_loader, class2, optimizer, criterion, hparams))\n",
        "  te_loss, te_acc = test_class_epoch(test_loader, class2, hparams)\n",
        "  validation_losses2.append(te_loss)\n",
        "  validation_accs2.append(te_acc)"
      ],
      "execution_count": 27,
      "outputs": [
        {
          "output_type": "stream",
          "text": [
            "Training with the pretarained weights\n",
            "Train Epoch: 0 [0/100 (0%)]\tLoss: 5.972706\n"
          ],
          "name": "stdout"
        },
        {
          "output_type": "stream",
          "text": [
            "/usr/local/lib/python3.6/dist-packages/torch/nn/modules/container.py:92: UserWarning: Implicit dimension choice for log_softmax has been deprecated. Change the call to include dim=X as an argument.\n",
            "  input = module(input)\n"
          ],
          "name": "stderr"
        },
        {
          "output_type": "stream",
          "text": [
            "\n",
            "Test set: Average loss: 6.7413, Accuracy: 1057/10000 (11%)\n",
            "\n",
            "Train Epoch: 1 [0/100 (0%)]\tLoss: 6.086668\n",
            "\n",
            "Test set: Average loss: 2.4556, Accuracy: 2375/10000 (24%)\n",
            "\n",
            "Train Epoch: 2 [0/100 (0%)]\tLoss: 2.362423\n",
            "\n",
            "Test set: Average loss: 2.2671, Accuracy: 2719/10000 (27%)\n",
            "\n",
            "Train Epoch: 3 [0/100 (0%)]\tLoss: 2.163588\n",
            "\n",
            "Test set: Average loss: 2.2019, Accuracy: 3018/10000 (30%)\n",
            "\n",
            "Train Epoch: 4 [0/100 (0%)]\tLoss: 2.071115\n",
            "\n",
            "Test set: Average loss: 2.1355, Accuracy: 3708/10000 (37%)\n",
            "\n",
            "Train Epoch: 5 [0/100 (0%)]\tLoss: 1.965279\n",
            "\n",
            "Test set: Average loss: 2.0431, Accuracy: 4504/10000 (45%)\n",
            "\n",
            "Train Epoch: 6 [0/100 (0%)]\tLoss: 1.822814\n",
            "\n",
            "Test set: Average loss: 1.9267, Accuracy: 4930/10000 (49%)\n",
            "\n",
            "Train Epoch: 7 [0/100 (0%)]\tLoss: 1.640316\n",
            "\n",
            "Test set: Average loss: 1.7823, Accuracy: 5319/10000 (53%)\n",
            "\n",
            "Train Epoch: 8 [0/100 (0%)]\tLoss: 1.417456\n",
            "\n",
            "Test set: Average loss: 1.6208, Accuracy: 5690/10000 (57%)\n",
            "\n",
            "Train Epoch: 9 [0/100 (0%)]\tLoss: 1.174179\n",
            "\n",
            "Test set: Average loss: 1.4576, Accuracy: 6316/10000 (63%)\n",
            "\n",
            "Train Epoch: 10 [0/100 (0%)]\tLoss: 0.946230\n",
            "\n",
            "Test set: Average loss: 1.3074, Accuracy: 6698/10000 (67%)\n",
            "\n",
            "Train Epoch: 11 [0/100 (0%)]\tLoss: 0.755795\n",
            "\n",
            "Test set: Average loss: 1.1782, Accuracy: 7005/10000 (70%)\n",
            "\n",
            "Train Epoch: 12 [0/100 (0%)]\tLoss: 0.605170\n",
            "\n",
            "Test set: Average loss: 1.0806, Accuracy: 7135/10000 (71%)\n",
            "\n",
            "Train Epoch: 13 [0/100 (0%)]\tLoss: 0.483677\n",
            "\n",
            "Test set: Average loss: 0.9712, Accuracy: 7296/10000 (73%)\n",
            "\n",
            "Train Epoch: 14 [0/100 (0%)]\tLoss: 0.385247\n",
            "\n",
            "Test set: Average loss: 0.9502, Accuracy: 7187/10000 (72%)\n",
            "\n",
            "Train Epoch: 15 [0/100 (0%)]\tLoss: 0.313633\n",
            "\n",
            "Test set: Average loss: 0.8320, Accuracy: 7447/10000 (74%)\n",
            "\n",
            "Train Epoch: 16 [0/100 (0%)]\tLoss: 0.268354\n",
            "\n",
            "Test set: Average loss: 0.9504, Accuracy: 7063/10000 (71%)\n",
            "\n",
            "Train Epoch: 17 [0/100 (0%)]\tLoss: 0.258472\n",
            "\n",
            "Test set: Average loss: 0.8417, Accuracy: 7339/10000 (73%)\n",
            "\n",
            "Train Epoch: 18 [0/100 (0%)]\tLoss: 0.232311\n",
            "\n",
            "Test set: Average loss: 0.9118, Accuracy: 7184/10000 (72%)\n",
            "\n",
            "Train Epoch: 19 [0/100 (0%)]\tLoss: 0.231740\n",
            "\n",
            "Test set: Average loss: 0.7580, Accuracy: 7686/10000 (77%)\n",
            "\n",
            "Train Epoch: 20 [0/100 (0%)]\tLoss: 0.137103\n",
            "\n",
            "Test set: Average loss: 0.6955, Accuracy: 7897/10000 (79%)\n",
            "\n",
            "Train Epoch: 21 [0/100 (0%)]\tLoss: 0.097254\n",
            "\n",
            "Test set: Average loss: 0.6898, Accuracy: 7928/10000 (79%)\n",
            "\n",
            "Train Epoch: 22 [0/100 (0%)]\tLoss: 0.080218\n",
            "\n",
            "Test set: Average loss: 0.6822, Accuracy: 7961/10000 (80%)\n",
            "\n",
            "Train Epoch: 23 [0/100 (0%)]\tLoss: 0.068963\n",
            "\n",
            "Test set: Average loss: 0.6789, Accuracy: 7959/10000 (80%)\n",
            "\n",
            "Train Epoch: 24 [0/100 (0%)]\tLoss: 0.060318\n",
            "\n",
            "Test set: Average loss: 0.6766, Accuracy: 7965/10000 (80%)\n",
            "\n",
            "Train Epoch: 25 [0/100 (0%)]\tLoss: 0.053437\n",
            "\n",
            "Test set: Average loss: 0.6755, Accuracy: 7969/10000 (80%)\n",
            "\n",
            "Train Epoch: 26 [0/100 (0%)]\tLoss: 0.047835\n",
            "\n",
            "Test set: Average loss: 0.6751, Accuracy: 7973/10000 (80%)\n",
            "\n",
            "Train Epoch: 27 [0/100 (0%)]\tLoss: 0.043148\n",
            "\n",
            "Test set: Average loss: 0.6749, Accuracy: 7974/10000 (80%)\n",
            "\n",
            "Train Epoch: 28 [0/100 (0%)]\tLoss: 0.039177\n",
            "\n",
            "Test set: Average loss: 0.6742, Accuracy: 7969/10000 (80%)\n",
            "\n",
            "Train Epoch: 29 [0/100 (0%)]\tLoss: 0.035764\n",
            "\n",
            "Test set: Average loss: 0.6750, Accuracy: 7973/10000 (80%)\n",
            "\n",
            "Train Epoch: 30 [0/100 (0%)]\tLoss: 0.032824\n",
            "\n",
            "Test set: Average loss: 0.6753, Accuracy: 7969/10000 (80%)\n",
            "\n",
            "Train Epoch: 31 [0/100 (0%)]\tLoss: 0.030244\n",
            "\n",
            "Test set: Average loss: 0.6759, Accuracy: 7976/10000 (80%)\n",
            "\n",
            "Train Epoch: 32 [0/100 (0%)]\tLoss: 0.028018\n",
            "\n",
            "Test set: Average loss: 0.6764, Accuracy: 7974/10000 (80%)\n",
            "\n",
            "Train Epoch: 33 [0/100 (0%)]\tLoss: 0.026044\n",
            "\n",
            "Test set: Average loss: 0.6770, Accuracy: 7978/10000 (80%)\n",
            "\n",
            "Train Epoch: 34 [0/100 (0%)]\tLoss: 0.024286\n",
            "\n",
            "Test set: Average loss: 0.6776, Accuracy: 7972/10000 (80%)\n",
            "\n",
            "Train Epoch: 35 [0/100 (0%)]\tLoss: 0.022722\n",
            "\n",
            "Test set: Average loss: 0.6787, Accuracy: 7971/10000 (80%)\n",
            "\n",
            "Train Epoch: 36 [0/100 (0%)]\tLoss: 0.021299\n",
            "\n",
            "Test set: Average loss: 0.6795, Accuracy: 7975/10000 (80%)\n",
            "\n",
            "Train Epoch: 37 [0/100 (0%)]\tLoss: 0.020033\n",
            "\n",
            "Test set: Average loss: 0.6803, Accuracy: 7969/10000 (80%)\n",
            "\n",
            "Train Epoch: 38 [0/100 (0%)]\tLoss: 0.018883\n",
            "\n",
            "Test set: Average loss: 0.6813, Accuracy: 7972/10000 (80%)\n",
            "\n",
            "Train Epoch: 39 [0/100 (0%)]\tLoss: 0.017846\n",
            "\n",
            "Test set: Average loss: 0.6825, Accuracy: 7974/10000 (80%)\n",
            "\n"
          ],
          "name": "stdout"
        }
      ]
    },
    {
      "cell_type": "markdown",
      "metadata": {
        "colab_type": "text",
        "id": "MlZYmFCY0w8X"
      },
      "source": [
        "<h3><b> Train the classificator with different learning rates </h3></b>"
      ]
    },
    {
      "cell_type": "code",
      "metadata": {
        "id": "V7QJSB7o1Ecx",
        "colab_type": "code",
        "colab": {
          "base_uri": "https://localhost:8080/",
          "height": 1000
        },
        "outputId": "1603a454-d268-4c3d-c8d1-e0673e1dc51e"
      },
      "source": [
        "print(\"Training with different learning rates\")\n",
        "train_losses3 = []\n",
        "validation_losses3 = []\n",
        "validation_accs3 = []\n",
        "class3 = Classificator(encoder.requires_grad_(requires_grad=True))\n",
        "class3.to(hparams['device'])\n",
        "optimizer = optim.RMSprop([{'params': class3.encoder.parameters(), \"lr\": hparams['learning_rate']/10},\n",
        "                           {'params': class3.fc.parameters(), \"lr\" :hparams['learning_rate']}])\n",
        "criterion = F.nll_loss\n",
        "\n",
        "for epoch in range(40):\n",
        "  train_losses3.append(train_class_epoch(train_loader, class3, optimizer, criterion, hparams))\n",
        "  te_loss, te_acc = test_class_epoch(test_loader, class3, hparams)\n",
        "  validation_losses3.append(te_loss)\n",
        "  validation_accs3.append(te_acc)"
      ],
      "execution_count": 33,
      "outputs": [
        {
          "output_type": "stream",
          "text": [
            "Training with different learning rates\n",
            "Train Epoch: 0 [0/100 (0%)]\tLoss: 4.778375\n"
          ],
          "name": "stdout"
        },
        {
          "output_type": "stream",
          "text": [
            "/usr/local/lib/python3.6/dist-packages/torch/nn/modules/container.py:92: UserWarning: Implicit dimension choice for log_softmax has been deprecated. Change the call to include dim=X as an argument.\n",
            "  input = module(input)\n"
          ],
          "name": "stderr"
        },
        {
          "output_type": "stream",
          "text": [
            "\n",
            "Test set: Average loss: 3.1670, Accuracy: 1847/10000 (18%)\n",
            "\n",
            "Train Epoch: 1 [0/100 (0%)]\tLoss: 2.806641\n",
            "\n",
            "Test set: Average loss: 2.0547, Accuracy: 3442/10000 (34%)\n",
            "\n",
            "Train Epoch: 2 [0/100 (0%)]\tLoss: 1.859348\n",
            "\n",
            "Test set: Average loss: 1.7208, Accuracy: 4085/10000 (41%)\n",
            "\n",
            "Train Epoch: 3 [0/100 (0%)]\tLoss: 1.307697\n",
            "\n",
            "Test set: Average loss: 1.4579, Accuracy: 5239/10000 (52%)\n",
            "\n",
            "Train Epoch: 4 [0/100 (0%)]\tLoss: 1.019089\n",
            "\n",
            "Test set: Average loss: 1.3289, Accuracy: 5591/10000 (56%)\n",
            "\n",
            "Train Epoch: 5 [0/100 (0%)]\tLoss: 0.817894\n",
            "\n",
            "Test set: Average loss: 1.2020, Accuracy: 6085/10000 (61%)\n",
            "\n",
            "Train Epoch: 6 [0/100 (0%)]\tLoss: 0.671295\n",
            "\n",
            "Test set: Average loss: 1.1299, Accuracy: 6221/10000 (62%)\n",
            "\n",
            "Train Epoch: 7 [0/100 (0%)]\tLoss: 0.562330\n",
            "\n",
            "Test set: Average loss: 1.0525, Accuracy: 6561/10000 (66%)\n",
            "\n",
            "Train Epoch: 8 [0/100 (0%)]\tLoss: 0.475992\n",
            "\n",
            "Test set: Average loss: 1.0054, Accuracy: 6717/10000 (67%)\n",
            "\n",
            "Train Epoch: 9 [0/100 (0%)]\tLoss: 0.409900\n",
            "\n",
            "Test set: Average loss: 0.9584, Accuracy: 6879/10000 (69%)\n",
            "\n",
            "Train Epoch: 10 [0/100 (0%)]\tLoss: 0.357090\n",
            "\n",
            "Test set: Average loss: 0.9256, Accuracy: 6990/10000 (70%)\n",
            "\n",
            "Train Epoch: 11 [0/100 (0%)]\tLoss: 0.314631\n",
            "\n",
            "Test set: Average loss: 0.8952, Accuracy: 7099/10000 (71%)\n",
            "\n",
            "Train Epoch: 12 [0/100 (0%)]\tLoss: 0.279449\n",
            "\n",
            "Test set: Average loss: 0.8724, Accuracy: 7179/10000 (72%)\n",
            "\n",
            "Train Epoch: 13 [0/100 (0%)]\tLoss: 0.250045\n",
            "\n",
            "Test set: Average loss: 0.8521, Accuracy: 7253/10000 (73%)\n",
            "\n",
            "Train Epoch: 14 [0/100 (0%)]\tLoss: 0.225497\n",
            "\n",
            "Test set: Average loss: 0.8343, Accuracy: 7316/10000 (73%)\n",
            "\n",
            "Train Epoch: 15 [0/100 (0%)]\tLoss: 0.204527\n",
            "\n",
            "Test set: Average loss: 0.8202, Accuracy: 7367/10000 (74%)\n",
            "\n",
            "Train Epoch: 16 [0/100 (0%)]\tLoss: 0.186343\n",
            "\n",
            "Test set: Average loss: 0.8063, Accuracy: 7418/10000 (74%)\n",
            "\n",
            "Train Epoch: 17 [0/100 (0%)]\tLoss: 0.170554\n",
            "\n",
            "Test set: Average loss: 0.7955, Accuracy: 7465/10000 (75%)\n",
            "\n",
            "Train Epoch: 18 [0/100 (0%)]\tLoss: 0.156772\n",
            "\n",
            "Test set: Average loss: 0.7850, Accuracy: 7505/10000 (75%)\n",
            "\n",
            "Train Epoch: 19 [0/100 (0%)]\tLoss: 0.144477\n",
            "\n",
            "Test set: Average loss: 0.7770, Accuracy: 7532/10000 (75%)\n",
            "\n",
            "Train Epoch: 20 [0/100 (0%)]\tLoss: 0.133573\n",
            "\n",
            "Test set: Average loss: 0.7689, Accuracy: 7559/10000 (76%)\n",
            "\n",
            "Train Epoch: 21 [0/100 (0%)]\tLoss: 0.123762\n",
            "\n",
            "Test set: Average loss: 0.7623, Accuracy: 7591/10000 (76%)\n",
            "\n",
            "Train Epoch: 22 [0/100 (0%)]\tLoss: 0.115019\n",
            "\n",
            "Test set: Average loss: 0.7561, Accuracy: 7615/10000 (76%)\n",
            "\n",
            "Train Epoch: 23 [0/100 (0%)]\tLoss: 0.107225\n",
            "\n",
            "Test set: Average loss: 0.7513, Accuracy: 7636/10000 (76%)\n",
            "\n",
            "Train Epoch: 24 [0/100 (0%)]\tLoss: 0.100209\n",
            "\n",
            "Test set: Average loss: 0.7462, Accuracy: 7659/10000 (77%)\n",
            "\n",
            "Train Epoch: 25 [0/100 (0%)]\tLoss: 0.093894\n",
            "\n",
            "Test set: Average loss: 0.7423, Accuracy: 7667/10000 (77%)\n",
            "\n",
            "Train Epoch: 26 [0/100 (0%)]\tLoss: 0.088216\n",
            "\n",
            "Test set: Average loss: 0.7383, Accuracy: 7686/10000 (77%)\n",
            "\n",
            "Train Epoch: 27 [0/100 (0%)]\tLoss: 0.082983\n",
            "\n",
            "Test set: Average loss: 0.7361, Accuracy: 7696/10000 (77%)\n",
            "\n",
            "Train Epoch: 28 [0/100 (0%)]\tLoss: 0.078148\n",
            "\n",
            "Test set: Average loss: 0.7321, Accuracy: 7718/10000 (77%)\n",
            "\n",
            "Train Epoch: 29 [0/100 (0%)]\tLoss: 0.073705\n",
            "\n",
            "Test set: Average loss: 0.7306, Accuracy: 7728/10000 (77%)\n",
            "\n",
            "Train Epoch: 30 [0/100 (0%)]\tLoss: 0.069683\n",
            "\n",
            "Test set: Average loss: 0.7272, Accuracy: 7741/10000 (77%)\n",
            "\n",
            "Train Epoch: 31 [0/100 (0%)]\tLoss: 0.065901\n",
            "\n",
            "Test set: Average loss: 0.7251, Accuracy: 7752/10000 (78%)\n",
            "\n",
            "Train Epoch: 32 [0/100 (0%)]\tLoss: 0.062510\n",
            "\n",
            "Test set: Average loss: 0.7250, Accuracy: 7749/10000 (77%)\n",
            "\n",
            "Train Epoch: 33 [0/100 (0%)]\tLoss: 0.059340\n",
            "\n",
            "Test set: Average loss: 0.7221, Accuracy: 7762/10000 (78%)\n",
            "\n",
            "Train Epoch: 34 [0/100 (0%)]\tLoss: 0.056411\n",
            "\n",
            "Test set: Average loss: 0.7220, Accuracy: 7764/10000 (78%)\n",
            "\n",
            "Train Epoch: 35 [0/100 (0%)]\tLoss: 0.053731\n",
            "\n",
            "Test set: Average loss: 0.7197, Accuracy: 7776/10000 (78%)\n",
            "\n",
            "Train Epoch: 36 [0/100 (0%)]\tLoss: 0.051197\n",
            "\n",
            "Test set: Average loss: 0.7199, Accuracy: 7776/10000 (78%)\n",
            "\n",
            "Train Epoch: 37 [0/100 (0%)]\tLoss: 0.048875\n",
            "\n",
            "Test set: Average loss: 0.7186, Accuracy: 7777/10000 (78%)\n",
            "\n",
            "Train Epoch: 38 [0/100 (0%)]\tLoss: 0.046649\n",
            "\n",
            "Test set: Average loss: 0.7176, Accuracy: 7776/10000 (78%)\n",
            "\n",
            "Train Epoch: 39 [0/100 (0%)]\tLoss: 0.044625\n",
            "\n",
            "Test set: Average loss: 0.7182, Accuracy: 7773/10000 (78%)\n",
            "\n"
          ],
          "name": "stdout"
        }
      ]
    },
    {
      "cell_type": "markdown",
      "metadata": {
        "colab_type": "text",
        "id": "Go0AjkDH1zze"
      },
      "source": [
        "<h3><b> Train the classificator from scratch </h3></b>"
      ]
    },
    {
      "cell_type": "code",
      "metadata": {
        "id": "XJGRgh-018z4",
        "colab_type": "code",
        "colab": {
          "base_uri": "https://localhost:8080/",
          "height": 1000
        },
        "outputId": "723efafe-74cf-4c10-c806-a3d88f03fec9"
      },
      "source": [
        "print(\"Training from scratch\")\n",
        "train_losses4 = []\n",
        "validation_losses4 = []\n",
        "validation_accs4 = []\n",
        "class4 = Classificator(ConvEncoder(128))\n",
        "class4.to(hparams['device'])\n",
        "optimizer = optim.RMSprop(class4.parameters(), lr=hparams['learning_rate'])\n",
        "criterion = F.nll_loss\n",
        "\n",
        "for epoch in range(40):\n",
        "  train_losses4.append(train_class_epoch(train_loader, class4, optimizer, criterion, hparams))\n",
        "  te_loss, te_acc = test_class_epoch(test_loader, class4, hparams)\n",
        "  validation_losses4.append(te_loss)\n",
        "  validation_accs4.append(te_acc)"
      ],
      "execution_count": 34,
      "outputs": [
        {
          "output_type": "stream",
          "text": [
            "Training from scratch\n",
            "Train Epoch: 0 [0/100 (0%)]\tLoss: 2.311878\n"
          ],
          "name": "stdout"
        },
        {
          "output_type": "stream",
          "text": [
            "/usr/local/lib/python3.6/dist-packages/torch/nn/modules/container.py:92: UserWarning: Implicit dimension choice for log_softmax has been deprecated. Change the call to include dim=X as an argument.\n",
            "  input = module(input)\n"
          ],
          "name": "stderr"
        },
        {
          "output_type": "stream",
          "text": [
            "\n",
            "Test set: Average loss: 9.5088, Accuracy: 1032/10000 (10%)\n",
            "\n",
            "Train Epoch: 1 [0/100 (0%)]\tLoss: 8.413711\n",
            "\n",
            "Test set: Average loss: 2.4934, Accuracy: 1962/10000 (20%)\n",
            "\n",
            "Train Epoch: 2 [0/100 (0%)]\tLoss: 2.452377\n",
            "\n",
            "Test set: Average loss: 2.2457, Accuracy: 2201/10000 (22%)\n",
            "\n",
            "Train Epoch: 3 [0/100 (0%)]\tLoss: 2.206530\n",
            "\n",
            "Test set: Average loss: 2.1014, Accuracy: 3493/10000 (35%)\n",
            "\n",
            "Train Epoch: 4 [0/100 (0%)]\tLoss: 2.003795\n",
            "\n",
            "Test set: Average loss: 1.8520, Accuracy: 3890/10000 (39%)\n",
            "\n",
            "Train Epoch: 5 [0/100 (0%)]\tLoss: 1.663602\n",
            "\n",
            "Test set: Average loss: 1.5305, Accuracy: 5243/10000 (52%)\n",
            "\n",
            "Train Epoch: 6 [0/100 (0%)]\tLoss: 1.265345\n",
            "\n",
            "Test set: Average loss: 1.6754, Accuracy: 4466/10000 (45%)\n",
            "\n",
            "Train Epoch: 7 [0/100 (0%)]\tLoss: 1.315313\n",
            "\n",
            "Test set: Average loss: 1.7222, Accuracy: 4756/10000 (48%)\n",
            "\n",
            "Train Epoch: 8 [0/100 (0%)]\tLoss: 1.350930\n",
            "\n",
            "Test set: Average loss: 1.2639, Accuracy: 5722/10000 (57%)\n",
            "\n",
            "Train Epoch: 9 [0/100 (0%)]\tLoss: 0.911769\n",
            "\n",
            "Test set: Average loss: 0.9856, Accuracy: 7206/10000 (72%)\n",
            "\n",
            "Train Epoch: 10 [0/100 (0%)]\tLoss: 0.599669\n",
            "\n",
            "Test set: Average loss: 0.8237, Accuracy: 7728/10000 (77%)\n",
            "\n",
            "Train Epoch: 11 [0/100 (0%)]\tLoss: 0.430703\n",
            "\n",
            "Test set: Average loss: 0.8304, Accuracy: 7276/10000 (73%)\n",
            "\n",
            "Train Epoch: 12 [0/100 (0%)]\tLoss: 0.354053\n",
            "\n",
            "Test set: Average loss: 0.7678, Accuracy: 7549/10000 (75%)\n",
            "\n",
            "Train Epoch: 13 [0/100 (0%)]\tLoss: 0.329516\n",
            "\n",
            "Test set: Average loss: 1.0741, Accuracy: 6669/10000 (67%)\n",
            "\n",
            "Train Epoch: 14 [0/100 (0%)]\tLoss: 0.444687\n",
            "\n",
            "Test set: Average loss: 1.1546, Accuracy: 5982/10000 (60%)\n",
            "\n",
            "Train Epoch: 15 [0/100 (0%)]\tLoss: 0.543611\n",
            "\n",
            "Test set: Average loss: 1.0331, Accuracy: 6340/10000 (63%)\n",
            "\n",
            "Train Epoch: 16 [0/100 (0%)]\tLoss: 0.459936\n",
            "\n",
            "Test set: Average loss: 0.8461, Accuracy: 7021/10000 (70%)\n",
            "\n",
            "Train Epoch: 17 [0/100 (0%)]\tLoss: 0.319988\n",
            "\n",
            "Test set: Average loss: 0.6970, Accuracy: 7671/10000 (77%)\n",
            "\n",
            "Train Epoch: 18 [0/100 (0%)]\tLoss: 0.172252\n",
            "\n",
            "Test set: Average loss: 0.6129, Accuracy: 8038/10000 (80%)\n",
            "\n",
            "Train Epoch: 19 [0/100 (0%)]\tLoss: 0.123637\n",
            "\n",
            "Test set: Average loss: 0.5998, Accuracy: 8059/10000 (81%)\n",
            "\n",
            "Train Epoch: 20 [0/100 (0%)]\tLoss: 0.103276\n",
            "\n",
            "Test set: Average loss: 0.5915, Accuracy: 8081/10000 (81%)\n",
            "\n",
            "Train Epoch: 21 [0/100 (0%)]\tLoss: 0.088919\n",
            "\n",
            "Test set: Average loss: 0.5880, Accuracy: 8092/10000 (81%)\n",
            "\n",
            "Train Epoch: 22 [0/100 (0%)]\tLoss: 0.077736\n",
            "\n",
            "Test set: Average loss: 0.5845, Accuracy: 8105/10000 (81%)\n",
            "\n",
            "Train Epoch: 23 [0/100 (0%)]\tLoss: 0.068585\n",
            "\n",
            "Test set: Average loss: 0.5835, Accuracy: 8105/10000 (81%)\n",
            "\n",
            "Train Epoch: 24 [0/100 (0%)]\tLoss: 0.061167\n",
            "\n",
            "Test set: Average loss: 0.5821, Accuracy: 8109/10000 (81%)\n",
            "\n",
            "Train Epoch: 25 [0/100 (0%)]\tLoss: 0.054945\n",
            "\n",
            "Test set: Average loss: 0.5815, Accuracy: 8111/10000 (81%)\n",
            "\n",
            "Train Epoch: 26 [0/100 (0%)]\tLoss: 0.049657\n",
            "\n",
            "Test set: Average loss: 0.5815, Accuracy: 8126/10000 (81%)\n",
            "\n",
            "Train Epoch: 27 [0/100 (0%)]\tLoss: 0.045096\n",
            "\n",
            "Test set: Average loss: 0.5817, Accuracy: 8127/10000 (81%)\n",
            "\n",
            "Train Epoch: 28 [0/100 (0%)]\tLoss: 0.041173\n",
            "\n",
            "Test set: Average loss: 0.5821, Accuracy: 8128/10000 (81%)\n",
            "\n",
            "Train Epoch: 29 [0/100 (0%)]\tLoss: 0.037758\n",
            "\n",
            "Test set: Average loss: 0.5828, Accuracy: 8127/10000 (81%)\n",
            "\n",
            "Train Epoch: 30 [0/100 (0%)]\tLoss: 0.034757\n",
            "\n",
            "Test set: Average loss: 0.5835, Accuracy: 8130/10000 (81%)\n",
            "\n",
            "Train Epoch: 31 [0/100 (0%)]\tLoss: 0.032111\n",
            "\n",
            "Test set: Average loss: 0.5845, Accuracy: 8123/10000 (81%)\n",
            "\n",
            "Train Epoch: 32 [0/100 (0%)]\tLoss: 0.029763\n",
            "\n",
            "Test set: Average loss: 0.5857, Accuracy: 8125/10000 (81%)\n",
            "\n",
            "Train Epoch: 33 [0/100 (0%)]\tLoss: 0.027668\n",
            "\n",
            "Test set: Average loss: 0.5869, Accuracy: 8125/10000 (81%)\n",
            "\n",
            "Train Epoch: 34 [0/100 (0%)]\tLoss: 0.025807\n",
            "\n",
            "Test set: Average loss: 0.5879, Accuracy: 8125/10000 (81%)\n",
            "\n",
            "Train Epoch: 35 [0/100 (0%)]\tLoss: 0.024140\n",
            "\n",
            "Test set: Average loss: 0.5890, Accuracy: 8127/10000 (81%)\n",
            "\n",
            "Train Epoch: 36 [0/100 (0%)]\tLoss: 0.022637\n",
            "\n",
            "Test set: Average loss: 0.5902, Accuracy: 8130/10000 (81%)\n",
            "\n",
            "Train Epoch: 37 [0/100 (0%)]\tLoss: 0.021278\n",
            "\n",
            "Test set: Average loss: 0.5915, Accuracy: 8130/10000 (81%)\n",
            "\n",
            "Train Epoch: 38 [0/100 (0%)]\tLoss: 0.020036\n",
            "\n",
            "Test set: Average loss: 0.5928, Accuracy: 8126/10000 (81%)\n",
            "\n",
            "Train Epoch: 39 [0/100 (0%)]\tLoss: 0.018911\n",
            "\n",
            "Test set: Average loss: 0.5937, Accuracy: 8121/10000 (81%)\n",
            "\n"
          ],
          "name": "stdout"
        }
      ]
    },
    {
      "cell_type": "code",
      "metadata": {
        "id": "RdL0OHYP6msx",
        "colab_type": "code",
        "colab": {
          "base_uri": "https://localhost:8080/",
          "height": 497
        },
        "outputId": "1d9867d5-d11c-498d-b263-80ae489a9dda"
      },
      "source": [
        "plt.figure(figsize=(10, 8))\n",
        "plt.subplot(3,1,1)\n",
        "plt.xlabel('Epoch')\n",
        "plt.ylabel('NLL')\n",
        "plt.plot(train_losses1, label='class-{}-validation losses'.format(1))\n",
        "plt.plot(train_losses2, label='class-{}-validation losses'.format(2))\n",
        "plt.plot(train_losses3, label='class-{}-validation losses'.format(3))\n",
        "plt.plot(train_losses4, label='class-{}-validation losses'.format(4))\n",
        "plt.subplot(3,1,2)\n",
        "plt.xlabel('Epoch')\n",
        "plt.ylabel('NLL')\n",
        "plt.plot(validation_losses1,'o', label='class-{}-validation losses'.format(1))\n",
        "plt.plot(validation_losses1,'o', label='class-{}-validation losses'.format(2))\n",
        "plt.plot(validation_losses1,'o', label='class-{}-validation losses'.format(3))\n",
        "plt.plot(validation_losses1,'o', label='class-{}-validation losses'.format(4))\n",
        "plt.subplot(3,1,3)\n",
        "plt.xlabel('Epoch')\n",
        "plt.ylabel('Acuracy')\n",
        "plt.plot(validation_accs1,'o', label='class-{}-validation accuracy'.format(1))\n",
        "plt.plot(validation_accs2,'o', label='class-{}-validation accuracy'.format(2))\n",
        "plt.plot(validation_accs3,'o', label='class-{}-validation accuracy'.format(3))\n",
        "plt.plot(validation_accs4,'o', label='class-{}-validation accuracy'.format(4))\n",
        "plt.legend()\n",
        "plt.show()"
      ],
      "execution_count": 35,
      "outputs": [
        {
          "output_type": "display_data",
          "data": {
            "image/png": "[encoded data removed]",
            "text/plain": [
              "<Figure size 720x576 with 3 Axes>"
            ]
          },
          "metadata": {
            "tags": []
          }
        }
      ]
    }
  ]
}
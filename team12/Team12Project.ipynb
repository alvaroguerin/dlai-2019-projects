{
  "nbformat": 4,
  "nbformat_minor": 0,
  "metadata": {
    "colab": {
      "name": "Copy 091219 of Team12Project.ipynb",
      "provenance": [],
      "collapsed_sections": []
    },
    "kernelspec": {
      "name": "python3",
      "display_name": "Python 3"
    },
    "accelerator": "GPU"
  },
  "cells": [
    {
      "cell_type": "markdown",
      "metadata": {
        "id": "9tdo7-TRvj2C",
        "colab_type": "text"
      },
      "source": [
        "# Ex 1: Convolutional Autoencoder\n",
        "\n",
        "Idea: train a convolutional autoencoder on MNIST, study the influence of\n",
        "the bottleneck size and generate some images\n",
        "\n",
        "Steps:\n",
        "1. Load MNIST train and test sets. Split the original training data into 95% training and 5%\n",
        "validation data.\n",
        "2. Implement a convolutional autoencoder (with separate Encoder and Decoder modules).\n",
        "3. Train the convolutional autoencoder, with different bottleneck sizes. Plot the train and\n",
        "validation loss curves of all autoencoders in the same figure.\n",
        "4.\n",
        "Compute the avg. image reconstruction error (MSE) of the trained models on the MNIST\n",
        "validation and test sets. Show the results in a table, including #params of each model.\n",
        "5.\n",
        "Select one of the autoencoders and feed it 5 random MNIST images from the test set.\n",
        "Show them along with their reconstructions.\n",
        "6.\n",
        "Generate 5 new images by injecting random values as input to the decoder. Show them."
      ]
    },
    {
      "cell_type": "code",
      "metadata": {
        "id": "ZxvPg_ArpMXR",
        "colab_type": "code",
        "colab": {}
      },
      "source": [
        "import numpy as np\n",
        "np.random.seed(123)\n",
        "import torch\n",
        "import torch.nn as nn\n",
        "import torch.nn.functional as F\n",
        "from torchvision import datasets, transforms\n",
        "import matplotlib\n",
        "%matplotlib inline\n",
        "import matplotlib.pyplot as plt"
      ],
      "execution_count": 0,
      "outputs": []
    },
    {
      "cell_type": "markdown",
      "metadata": {
        "id": "BY6E3sb1qVPQ",
        "colab_type": "text"
      },
      "source": [
        "**1. Loading MNIST train and test sets**"
      ]
    },
    {
      "cell_type": "code",
      "metadata": {
        "id": "4pHQFe2SqTxJ",
        "colab_type": "code",
        "outputId": "44a7f742-4454-4abf-ce4e-cdea99075dc1",
        "colab": {
          "base_uri": "https://localhost:8080/",
          "height": 255
        }
      },
      "source": [
        "# Let's define some hyper-parameters\n",
        "hparams = {\n",
        "    'batch_size':60,\n",
        "    'num_epochs':10,\n",
        "    'test_batch_size':64,\n",
        "    'hidden_size':128,\n",
        "    'num_classes':10,\n",
        "    'num_inputs':784,\n",
        "    'learning_rate':1e-3,\n",
        "    'log_interval':100,\n",
        "    'bottleneck_size': [12]\n",
        "}\n",
        "\n",
        "# we select to work on GPU if it is available in the machine, otherwise\n",
        "# will run on CPU\n",
        "hparams['device'] = 'cuda' if torch.cuda.is_available() else 'cpu'\n",
        "\n",
        "\n",
        "mnist_trainset = datasets.MNIST('data', train=True, download=True,\n",
        "                                transform=transforms.Compose([\n",
        "                                    transforms.ToTensor(),\n",
        "                                    transforms.Normalize((0.1307,), (0.3081,))\n",
        "                                ]))\n",
        "mnist_testset = datasets.MNIST('data', train=False, \n",
        "                               transform=transforms.Compose([\n",
        "                                   transforms.ToTensor(),\n",
        "                                   transforms.Normalize((0.1307,), (0.3081,))\n",
        "                               ]))\n",
        "\n",
        "train_dataset, validation_dataset, jazz = torch.utils.data.random_split(mnist_trainset, [int(len(mnist_trainset) * 0.01), int(len(mnist_trainset) * 0.01), int(len(mnist_trainset) * 0.98)])\n",
        "\n",
        "\n",
        "train_loader = torch.utils.data.DataLoader(train_dataset,\n",
        "                                           batch_size=hparams['batch_size'], \n",
        "                                           shuffle = True)\n",
        "validation_loader = torch.utils.data.DataLoader(validation_dataset,\n",
        "                                                batch_size=hparams['batch_size'],\n",
        "                                                shuffle = True)\n",
        "test_loader = torch.utils.data.DataLoader(mnist_testset,\n",
        "                                          batch_size=hparams['batch_size'],\n",
        "                                          shuffle=False)"
      ],
      "execution_count": 0,
      "outputs": [
        {
          "output_type": "stream",
          "text": [
            "\r0it [00:00, ?it/s]"
          ],
          "name": "stderr"
        },
        {
          "output_type": "stream",
          "text": [
            "Downloading http://yann.lecun.com/exdb/mnist/train-images-idx3-ubyte.gz to data/MNIST/raw/train-images-idx3-ubyte.gz\n"
          ],
          "name": "stdout"
        },
        {
          "output_type": "stream",
          "text": [
            "9920512it [00:01, 8570348.76it/s]                            \n"
          ],
          "name": "stderr"
        },
        {
          "output_type": "stream",
          "text": [
            "Extracting data/MNIST/raw/train-images-idx3-ubyte.gz to data/MNIST/raw\n"
          ],
          "name": "stdout"
        },
        {
          "output_type": "stream",
          "text": [
            "  0%|          | 0/28881 [00:00<?, ?it/s]"
          ],
          "name": "stderr"
        },
        {
          "output_type": "stream",
          "text": [
            "Downloading http://yann.lecun.com/exdb/mnist/train-labels-idx1-ubyte.gz to data/MNIST/raw/train-labels-idx1-ubyte.gz\n"
          ],
          "name": "stdout"
        },
        {
          "output_type": "stream",
          "text": [
            "32768it [00:00, 129730.01it/s]           \n",
            "  0%|          | 0/1648877 [00:00<?, ?it/s]"
          ],
          "name": "stderr"
        },
        {
          "output_type": "stream",
          "text": [
            "Extracting data/MNIST/raw/train-labels-idx1-ubyte.gz to data/MNIST/raw\n",
            "Downloading http://yann.lecun.com/exdb/mnist/t10k-images-idx3-ubyte.gz to data/MNIST/raw/t10k-images-idx3-ubyte.gz\n"
          ],
          "name": "stdout"
        },
        {
          "output_type": "stream",
          "text": [
            "1654784it [00:00, 2143502.38it/s]                            \n",
            "0it [00:00, ?it/s]"
          ],
          "name": "stderr"
        },
        {
          "output_type": "stream",
          "text": [
            "Extracting data/MNIST/raw/t10k-images-idx3-ubyte.gz to data/MNIST/raw\n",
            "Downloading http://yann.lecun.com/exdb/mnist/t10k-labels-idx1-ubyte.gz to data/MNIST/raw/t10k-labels-idx1-ubyte.gz\n"
          ],
          "name": "stdout"
        },
        {
          "output_type": "stream",
          "text": [
            "8192it [00:00, 48862.87it/s]            \n"
          ],
          "name": "stderr"
        },
        {
          "output_type": "stream",
          "text": [
            "Extracting data/MNIST/raw/t10k-labels-idx1-ubyte.gz to data/MNIST/raw\n",
            "Processing...\n",
            "Done!\n"
          ],
          "name": "stdout"
        }
      ]
    },
    {
      "cell_type": "markdown",
      "metadata": {
        "id": "fBML9aBQ4Kmr",
        "colab_type": "text"
      },
      "source": [
        "**2. Implement a convolutional autoencoder**"
      ]
    },
    {
      "cell_type": "markdown",
      "metadata": {
        "id": "UJY3kbCR0uAx",
        "colab_type": "text"
      },
      "source": [
        "**Encoder**"
      ]
    },
    {
      "cell_type": "code",
      "metadata": {
        "id": "eQPnLWSDs7c5",
        "colab_type": "code",
        "colab": {}
      },
      "source": [
        "class Encoder(nn.Module):\n",
        "    def __init__(self, bottleneck_size):\n",
        "        super().__init__()\n",
        "        ## encoder layers ##\n",
        "        # conv layer (depth from 1 --> 16), 3x3 kernels\n",
        "        self.encoder = nn.Sequential(\n",
        "                                     nn.Conv2d(1, 64, 3, padding=1),\n",
        "                                     nn.ReLU(inplace = True),\n",
        "                                     nn.MaxPool2d(2, 2),\n",
        "                                     nn.Conv2d(64, 16, 3, padding=1),\n",
        "                                     nn.ReLU(inplace = True),\n",
        "                                     nn.MaxPool2d(2, 2),\n",
        "                                     nn.Flatten(),\n",
        "                                     nn.Linear(7*7*16, bottleneck_size),\n",
        "                                     nn.ReLU(inplace=True)\n",
        "        )\n",
        "\n",
        "    def forward(self, x):\n",
        "\n",
        "        x = self.encoder(x)\n",
        "        \n",
        "        return x\n",
        "\n",
        "\n",
        "        "
      ],
      "execution_count": 0,
      "outputs": []
    },
    {
      "cell_type": "markdown",
      "metadata": {
        "id": "R2NSWzcX0rAp",
        "colab_type": "text"
      },
      "source": [
        "**Decoder**"
      ]
    },
    {
      "cell_type": "code",
      "metadata": {
        "id": "ELxnCHCWwH7h",
        "colab_type": "code",
        "colab": {}
      },
      "source": [
        "class Decoder(nn.Module):\n",
        "    def __init__(self, bottleneck_size):\n",
        "        super().__init__()\n",
        "        ## decoder layers ##\n",
        "        ## a kernel of 2 and a stride of 2 will increase the spatial dims by 2\n",
        "        self.fase_1 = nn.Sequential(\n",
        "                                     nn.Linear(bottleneck_size, 7*7*16),\n",
        "                                     nn.ReLU(inplace = True)\n",
        "        )\n",
        "        self.decoder = nn.Sequential(\n",
        "                                     nn.UpsamplingBilinear2d(scale_factor = 2),\n",
        "                                     nn.ConvTranspose2d(16, 64, 1),\n",
        "                                     nn.ReLU(inplace = True),\n",
        "                                     nn.UpsamplingBilinear2d(scale_factor = 2),\n",
        "                                     nn.ConvTranspose2d(64, 1, 1),\n",
        "                                     nn.ReLU(inplace = True)\n",
        "        )\n",
        "\n",
        "    def forward(self, x):\n",
        "\n",
        "        x = self.fase_1(x)\n",
        "        x = x.view(x.shape[0], 16, 7, 7)\n",
        "        x = self.decoder(x)        \n",
        "        return x"
      ],
      "execution_count": 0,
      "outputs": []
    },
    {
      "cell_type": "markdown",
      "metadata": {
        "id": "bshRfWEU1kqO",
        "colab_type": "text"
      },
      "source": [
        "**AutoEncoder**"
      ]
    },
    {
      "cell_type": "code",
      "metadata": {
        "id": "6i_18QZz0qZH",
        "colab_type": "code",
        "colab": {}
      },
      "source": [
        "class ConvAutoencoder(nn.Module):\n",
        "   def __init__(self, bottleneck_size):\n",
        "     super().__init__()\n",
        "     self.encoder = Encoder(bottleneck_size)\n",
        "     self.decoder = Decoder(bottleneck_size)\n",
        "  \n",
        "   def forward(self, x):\n",
        "     x = self.encoder(x)\n",
        "     x = self.decoder(x)\n",
        "\n",
        "     return x\n",
        "\n",
        "  "
      ],
      "execution_count": 0,
      "outputs": []
    },
    {
      "cell_type": "markdown",
      "metadata": {
        "id": "d1ZF64sp1qsu",
        "colab_type": "text"
      },
      "source": [
        "**3. Train the convolutional autoencoder, with different bottleneck sizes.**"
      ]
    },
    {
      "cell_type": "code",
      "metadata": {
        "id": "XgBoggv8mEi8",
        "colab_type": "code",
        "colab": {}
      },
      "source": [
        "def train_epoch(train_loader, model, optimizer, criterion, hparams, epoch, autoenc=True):\n",
        "  losses = []\n",
        "  batch_idx = 0\n",
        "  for data in train_loader:\n",
        "        # _ stands in for labels, here\n",
        "        # no need to flatten images\n",
        "        images, labels = data\n",
        "        # clear the gradients of all optimized variables\n",
        "        optimizer.zero_grad()\n",
        "        # forward pass: compute predicted outputs by passing inputs to the model\n",
        "        output = model(images)\n",
        "        # calculate the loss\n",
        "        if autoenc:\n",
        "          loss = criterion(output, images)\n",
        "        else:\n",
        "          loss = criterion(output, labels)\n",
        "        # backward pass: compute gradient of the loss with respect to model parameters\n",
        "        loss.backward()\n",
        "        # perform a single optimization step (parameter update)\n",
        "        optimizer.step()\n",
        "        # update running training loss\n",
        "        losses.append(loss.item())\n",
        "        batch_idx = batch_idx + 1\n",
        "        if batch_idx % hparams['log_interval'] == 0 or batch_idx >= len(train_loader):\n",
        "          print('Train Epoch: {} [{}/{} ({:.0f}%)]\\tLoss: {:.6f}\\t'.format(\n",
        "            epoch, batch_idx * len(data[0]), len(train_loader.dataset),\n",
        "              100. * batch_idx / len(train_loader), loss.item()))\n",
        "        \n",
        "  return losses\n",
        "\n",
        "\n",
        "def eval_epoch(validation_loader, model, criterion, hparams, autoenc=True):\n",
        "    model.eval()\n",
        "    eval_loss = []\n",
        "    with torch.no_grad():\n",
        "        for data in validation_loader:\n",
        "            images, labels = data\n",
        "            output = model(images)\n",
        "            if autoenc:\n",
        "              e1_loss = criterion(output, images)\n",
        "            else:\n",
        "              e1_loss = criterion(output, labels)\n",
        "            eval_loss.append(e1_loss.item())\n",
        "            \n",
        "            \n",
        "    # Average acc across all correct predictions batches now\n",
        "    e_loss = np.mean(eval_loss)\n",
        "    print('Eval set: Average loss: {:.4f}'.format(\n",
        "        e_loss, len(validation_loader.dataset)\n",
        "        ))\n",
        "    return e_loss\n",
        "\n",
        "\n",
        "def test_model(test_loader, model, criterion, hparams, autoenc=True):\n",
        "    model.eval()\n",
        "    test_loss = []\n",
        "    with torch.no_grad():\n",
        "        for data in test_loader:\n",
        "            images, labels = data\n",
        "            output = model(images)\n",
        "            if autoenc:\n",
        "              t1_loss = criterion(output, images)\n",
        "            else:\n",
        "              t1_loss = criterion(output, labels)\n",
        "            test_loss.append(t1_loss.item())\n",
        "            \n",
        "            \n",
        "    # Average acc across all correct predictions batches now\n",
        "    t_loss = np.mean(test_loss)\n",
        "    return t_loss"
      ],
      "execution_count": 0,
      "outputs": []
    },
    {
      "cell_type": "code",
      "metadata": {
        "id": "qNubIibzojz7",
        "colab_type": "code",
        "colab": {}
      },
      "source": [
        "def train_net(model, train_loader, optimizer, num_epochs, criterion, validation_loader, autoenc=True):\n",
        "    tr_losses = []\n",
        "    te_losses = []\n",
        "\n",
        "    #model.to(hparams['device'])\n",
        "    for epoch in range(1, num_epochs + 1):\n",
        "      tr_loss = []\n",
        "      te_loss = []\n",
        "      tr_loss = train_epoch(train_loader, model, optimizer, criterion, hparams, epoch, autoenc)\n",
        "      te_loss = eval_epoch(validation_loader, model, criterion, hparams, autoenc)\n",
        "      tr_losses.append(tr_loss)\n",
        "      te_losses.append(te_loss)\n",
        "    \n",
        "    return tr_losses, te_losses"
      ],
      "execution_count": 0,
      "outputs": []
    },
    {
      "cell_type": "code",
      "metadata": {
        "id": "ztagbZpcXcue",
        "colab_type": "code",
        "outputId": "83c0eb6f-c817-4014-94c2-9ec0b7ed0b31",
        "colab": {
          "base_uri": "https://localhost:8080/",
          "height": 1000
        }
      },
      "source": [
        "import itertools\n",
        "\n",
        "tr_losses = []\n",
        "te_losses = []\n",
        "model = []\n",
        "for i in range(len(hparams['bottleneck_size'])):\n",
        "\n",
        "  model.append(ConvAutoencoder((hparams['bottleneck_size'])[i]))\n",
        "  tr_loss_i = []\n",
        "  te_loss_i = []\n",
        "  # specify loss function\n",
        "  criterion = nn.MSELoss()\n",
        "\n",
        "  # specify loss function\n",
        "  optimizer = torch.optim.Adam(model[i].parameters(), lr=0.001)\n",
        " \n",
        "  tr_loss_i, te_loss_i = train_net(model[i], train_loader, optimizer, hparams['num_epochs'], criterion, validation_loader,(hparams['bottleneck_size'])[i])\n",
        "  tr_losses.append(np.asarray(list(itertools.chain.from_iterable(tr_loss_i))))\n",
        "  te_losses.append(te_loss_i)\n",
        "  \n",
        "plt.figure(figsize=(10, 8))\n",
        "plt.xlabel('Epoch')\n",
        "plt.ylabel('MSELoss')\n",
        "\n",
        "te_indexes = [ (len(train_dataset) / hparams['batch_size']) * (i+1) for i in range(hparams['num_epochs']) ]\n",
        "\n",
        "for i in range(len(tr_losses)):\n",
        "  plt.plot(tr_losses[i], '.-', label='train w bn = {}'.format((hparams['bottleneck_size'])[i]))\n",
        "  plt.plot(te_indexes, te_losses[i], label='eval w bn = {}'.format((hparams['bottleneck_size'])[i]))\n",
        "  plt.legend()\n"
      ],
      "execution_count": 0,
      "outputs": [
        {
          "output_type": "stream",
          "text": [
            "Train Epoch: 1 [600/600 (100%)]\tLoss: 0.916679\t\n",
            "Eval set: Average loss: 0.9253\n",
            "Train Epoch: 2 [600/600 (100%)]\tLoss: 0.858587\t\n",
            "Eval set: Average loss: 0.8606\n",
            "Train Epoch: 3 [600/600 (100%)]\tLoss: 0.786524\t\n",
            "Eval set: Average loss: 0.8275\n",
            "Train Epoch: 4 [600/600 (100%)]\tLoss: 0.819093\t\n",
            "Eval set: Average loss: 0.8037\n",
            "Train Epoch: 5 [600/600 (100%)]\tLoss: 0.788895\t\n",
            "Eval set: Average loss: 0.7901\n",
            "Train Epoch: 6 [600/600 (100%)]\tLoss: 0.751212\t\n",
            "Eval set: Average loss: 0.7825\n",
            "Train Epoch: 7 [600/600 (100%)]\tLoss: 0.783153\t\n",
            "Eval set: Average loss: 0.7791\n",
            "Train Epoch: 8 [600/600 (100%)]\tLoss: 0.780793\t\n",
            "Eval set: Average loss: 0.7767\n",
            "Train Epoch: 9 [600/600 (100%)]\tLoss: 0.750060\t\n",
            "Eval set: Average loss: 0.7748\n",
            "Train Epoch: 10 [600/600 (100%)]\tLoss: 0.727420\t\n",
            "Eval set: Average loss: 0.7729\n",
            "Train Epoch: 1 [600/600 (100%)]\tLoss: 0.909339\t\n",
            "Eval set: Average loss: 0.9146\n",
            "Train Epoch: 2 [600/600 (100%)]\tLoss: 0.806570\t\n",
            "Eval set: Average loss: 0.8406\n",
            "Train Epoch: 3 [600/600 (100%)]\tLoss: 0.773375\t\n",
            "Eval set: Average loss: 0.8039\n",
            "Train Epoch: 4 [600/600 (100%)]\tLoss: 0.748912\t\n",
            "Eval set: Average loss: 0.7769\n",
            "Train Epoch: 5 [600/600 (100%)]\tLoss: 0.781481\t\n",
            "Eval set: Average loss: 0.7588\n",
            "Train Epoch: 6 [600/600 (100%)]\tLoss: 0.731641\t\n",
            "Eval set: Average loss: 0.7455\n",
            "Train Epoch: 7 [600/600 (100%)]\tLoss: 0.750603\t\n",
            "Eval set: Average loss: 0.7332\n",
            "Train Epoch: 8 [600/600 (100%)]\tLoss: 0.719646\t\n",
            "Eval set: Average loss: 0.7226\n",
            "Train Epoch: 9 [600/600 (100%)]\tLoss: 0.702306\t\n",
            "Eval set: Average loss: 0.7133\n",
            "Train Epoch: 10 [600/600 (100%)]\tLoss: 0.703413\t\n",
            "Eval set: Average loss: 0.7042\n",
            "Train Epoch: 1 [600/600 (100%)]\tLoss: 0.987515\t\n",
            "Eval set: Average loss: 0.9642\n",
            "Train Epoch: 2 [600/600 (100%)]\tLoss: 0.893957\t\n",
            "Eval set: Average loss: 0.8835\n",
            "Train Epoch: 3 [600/600 (100%)]\tLoss: 0.820692\t\n",
            "Eval set: Average loss: 0.8124\n",
            "Train Epoch: 4 [600/600 (100%)]\tLoss: 0.765749\t\n",
            "Eval set: Average loss: 0.7778\n",
            "Train Epoch: 5 [600/600 (100%)]\tLoss: 0.767733\t\n",
            "Eval set: Average loss: 0.7541\n",
            "Train Epoch: 6 [600/600 (100%)]\tLoss: 0.737341\t\n",
            "Eval set: Average loss: 0.7364\n",
            "Train Epoch: 7 [600/600 (100%)]\tLoss: 0.735511\t\n",
            "Eval set: Average loss: 0.7216\n",
            "Train Epoch: 8 [600/600 (100%)]\tLoss: 0.684248\t\n",
            "Eval set: Average loss: 0.7087\n",
            "Train Epoch: 9 [600/600 (100%)]\tLoss: 0.688413\t\n",
            "Eval set: Average loss: 0.7019\n",
            "Train Epoch: 10 [600/600 (100%)]\tLoss: 0.690799\t\n",
            "Eval set: Average loss: 0.6954\n"
          ],
          "name": "stdout"
        },
        {
          "output_type": "display_data",
          "data": {
            "image/png": "[encoded data removed]",
            "text/plain": [
              "<Figure size 720x576 with 1 Axes>"
            ]
          },
          "metadata": {
            "tags": []
          }
        }
      ]
    },
    {
      "cell_type": "markdown",
      "metadata": {
        "colab_type": "text",
        "id": "PipMD0nP4PTu"
      },
      "source": [
        "**4. Compute the avg. image reconstruction error (MSE) of the trained models on the MNIST validation and test sets.** "
      ]
    },
    {
      "cell_type": "code",
      "metadata": {
        "id": "FlEMgE5QPQ03",
        "colab_type": "code",
        "outputId": "a3a02332-0e30-4ea1-a0df-b1d1231eaa60",
        "colab": {
          "base_uri": "https://localhost:8080/",
          "height": 119
        }
      },
      "source": [
        "test_err = []\n",
        "val_err = []\n",
        "\n",
        "print (\"Bottleneck Size\\t\\tTest error(avg)\\t\\tValidation error(avg)\")\n",
        "print (\"---------------------------------------------------------------------------\")\n",
        "for i in range(len(hparams['bottleneck_size'])):\n",
        "  t_err = test_model(test_loader, model[i], criterion, hparams)\n",
        "  test_err.append(t_err)\n",
        "  v_err = test_model(validation_loader, model[i], criterion, hparams)\n",
        "  val_err.append(v_err)\n",
        "  print (\"\\t%d\\t\\t\\t%f\\t\\t%f\" % ((hparams['bottleneck_size'])[i], test_err[i], val_err[i]))\n",
        "\n",
        "print (\"---------------------------------------------------------------------------\")"
      ],
      "execution_count": 0,
      "outputs": [
        {
          "output_type": "stream",
          "text": [
            "Bottleneck Size\t\tTest error(avg)\t\tValidation error(avg)\n",
            "---------------------------------------------------------------------------\n",
            "\t6\t\t\t0.767722\t\t0.772942\n",
            "\t8\t\t\t0.695536\t\t0.704230\n",
            "\t10\t\t\t0.683905\t\t0.695364\n",
            "---------------------------------------------------------------------------\n"
          ],
          "name": "stdout"
        }
      ]
    },
    {
      "cell_type": "markdown",
      "metadata": {
        "id": "s5nyS-KkfQZZ",
        "colab_type": "text"
      },
      "source": [
        "**5. Select one of the autoencoders and feed it 5 random MNIST images from the test set.** Show them along with their reconstructions."
      ]
    },
    {
      "cell_type": "code",
      "metadata": {
        "id": "2o8m0hRpdsxZ",
        "colab_type": "code",
        "outputId": "e40f5f61-0d26-44e2-b65b-b373d480b16b",
        "colab": {
          "base_uri": "https://localhost:8080/",
          "height": 774
        }
      },
      "source": [
        "import random\n",
        "\n",
        "test_subset_indexes = random.sample(range(1, 1000), 5)\n",
        "test_subset = torch.utils.data.Subset(mnist_testset, test_subset_indexes)\n",
        "\n",
        "loader = torch.utils.data.DataLoader(test_subset,\n",
        "                                           batch_size=5, \n",
        "                                           shuffle = False)\n",
        "\n",
        "# TODO: find best model\n",
        "best_model = 0\n",
        "for data in loader:\n",
        "  img, _ = data\n",
        "  #print(img[0][0][:][:])\n",
        "  recon = model[best_model](img)\n",
        "\n",
        "iterator = iter(loader)\n",
        "img_orig, _ = iterator.next()\n",
        "# We have to transform the image from tensor to numpy\n",
        "img_orig = img_orig.numpy()\n",
        "\n",
        "for i in range(5):\n",
        "  digit_orig = np.squeeze(img_orig[i])\n",
        "  fig = plt.figure(figsize = (5,5))\n",
        "  ax = fig.add_subplot(3,2,i+1)\n",
        "\n",
        "  ax.imshow(digit_orig, cmap = 'gray')\n",
        "\n",
        "  ax = fig.add_subplot(3,2,i+2)\n",
        "  ax.imshow(recon[i].detach().numpy()[0][:][:], cmap = 'gray')"
      ],
      "execution_count": 0,
      "outputs": [
        {
          "output_type": "display_data",
          "data": {
            "image/png": "[encoded data removed]",
            "text/plain": [
              "<Figure size 360x360 with 2 Axes>"
            ]
          },
          "metadata": {
            "tags": []
          }
        },
        {
          "output_type": "display_data",
          "data": {
            "image/png": "[encoded data removed]",
            "text/plain": [
              "<Figure size 360x360 with 2 Axes>"
            ]
          },
          "metadata": {
            "tags": []
          }
        },
        {
          "output_type": "display_data",
          "data": {
            "image/png": "[encoded data removed]",
            "text/plain": [
              "<Figure size 360x360 with 2 Axes>"
            ]
          },
          "metadata": {
            "tags": []
          }
        },
        {
          "output_type": "display_data",
          "data": {
            "image/png": "[encoded data removed]",
            "text/plain": [
              "<Figure size 360x360 with 2 Axes>"
            ]
          },
          "metadata": {
            "tags": []
          }
        },
        {
          "output_type": "display_data",
          "data": {
            "image/png": "[encoded data removed]",
            "text/plain": [
              "<Figure size 360x360 with 2 Axes>"
            ]
          },
          "metadata": {
            "tags": []
          }
        }
      ]
    },
    {
      "cell_type": "markdown",
      "metadata": {
        "id": "EWMPcLXqfbJJ",
        "colab_type": "text"
      },
      "source": [
        "**6. Generate 5 new images by injecting random values as input to the decoder. Show them.**"
      ]
    },
    {
      "cell_type": "code",
      "metadata": {
        "id": "IM4nSNOUfg8B",
        "colab_type": "code",
        "outputId": "4db2d3f3-9ed3-4e1e-e758-7b7bdf26f3fe",
        "colab": {
          "base_uri": "https://localhost:8080/",
          "height": 582
        }
      },
      "source": [
        "import torchvision\n",
        "\n",
        "#rand_img = torch.rand(5, 1, 28, 28)\n",
        "rand_img = torch.empty(5, 1, 28, 28).uniform_(-0.4242,2.8088)\n",
        "\n",
        "# QUESTION: Normalize those data in the same way of MNIST?\n",
        "\n",
        "#norm = torchvision.transforms.Normalize(mean= 0.1207, std= 0.3081)\n",
        "#norm = transforms.Compose([transforms.ToTensor(),transforms.Normalize((0.1307,), (0.3081,))])\n",
        "\n",
        "#for img in rand_img:\n",
        "#for i in range(5):\n",
        "#  rand_img[i][0][:][:] = norm(torch.Tensor(rand_img[i][0][:][:]))\n",
        "\n",
        "loader = torch.utils.data.DataLoader(rand_img, batch_size=5, shuffle = False)\n",
        "\n",
        "for data in loader:\n",
        "  rand_recon = model[best_model](data)\n",
        "\n",
        "for i in range(5):\n",
        "  fig = plt.figure(figsize = (5,5))\n",
        "  ax = fig.add_subplot(3,2,i+1)\n",
        "\n",
        "  ax.imshow(digit_orig, cmap = 'gray')\n",
        "\n",
        "  ax.imshow(rand_recon[i].detach().numpy()[0][:][:], cmap = 'gray')"
      ],
      "execution_count": 0,
      "outputs": [
        {
          "output_type": "display_data",
          "data": {
            "image/png": "[encoded data removed]",
            "text/plain": [
              "<Figure size 360x360 with 1 Axes>"
            ]
          },
          "metadata": {
            "tags": []
          }
        },
        {
          "output_type": "display_data",
          "data": {
            "image/png": "[encoded data removed]",
            "text/plain": [
              "<Figure size 360x360 with 1 Axes>"
            ]
          },
          "metadata": {
            "tags": []
          }
        },
        {
          "output_type": "display_data",
          "data": {
            "image/png": "[encoded data removed]",
            "text/plain": [
              "<Figure size 360x360 with 1 Axes>"
            ]
          },
          "metadata": {
            "tags": []
          }
        },
        {
          "output_type": "display_data",
          "data": {
            "image/png": "[encoded data removed]",
            "text/plain": [
              "<Figure size 360x360 with 1 Axes>"
            ]
          },
          "metadata": {
            "tags": []
          }
        },
        {
          "output_type": "display_data",
          "data": {
            "image/png": "[encoded data removed]",
            "text/plain": [
              "<Figure size 360x360 with 1 Axes>"
            ]
          },
          "metadata": {
            "tags": []
          }
        }
      ]
    },
    {
      "cell_type": "markdown",
      "metadata": {
        "id": "4I2MPdAAvs3c",
        "colab_type": "text"
      },
      "source": [
        "# Ex 2: Transfer Learning\n",
        "Idea: reuse autoencoder weights for pre-training and fine-tuning of a\n",
        "classifier trained on a small labeled subset of MNIST.\n",
        "\n",
        "Steps:\n",
        "1. Select a subset of 100 images and their associated labels from the MNIST training data.\n",
        "2. Select one of the previously trained autoencoders.\n",
        "3. Create a digit (0-9) classification model reusing the encoder of the autoencoder and adding\n",
        "the needed fully connected (projection) layer.\n",
        "4. Pre-training: use the weights of the autoencoder as initial values for the network weights and\n",
        "train a classification model on the subset of 100 samples.\n",
        "5. Fine-tuning: do the same, but train the new projection layer with a normal learning rate and\n",
        "the reused part with a very low learning rate.\n",
        "6. From scratch: train the model on the 100 samples without reusing the decoder weights at all.\n",
        "7. Show the accuracy of the four models on the MNIST test set in a table."
      ]
    },
    {
      "cell_type": "markdown",
      "metadata": {
        "id": "xAMp8sYb7GVW",
        "colab_type": "text"
      },
      "source": [
        "**1. Select a subset of 100 images and their associated labels from the MNIST training data**"
      ]
    },
    {
      "cell_type": "code",
      "metadata": {
        "id": "AoV5kf4Pvta2",
        "colab_type": "code",
        "colab": {}
      },
      "source": [
        "train_subset_indexes = random.sample(range(1, len(mnist_testset)), 95)\n",
        "train_subset = torch.utils.data.Subset(mnist_trainset, train_subset_indexes)\n",
        "\n",
        "train_loader_100 = torch.utils.data.DataLoader(train_subset,batch_size=1,shuffle = False)\n",
        "\n",
        "val_subset_indexes = random.sample(range(1, len(mnist_testset)), 5)\n",
        "val_subset = torch.utils.data.Subset(mnist_trainset, val_subset_indexes)\n",
        "\n",
        "val_loader_100 = torch.utils.data.DataLoader(val_subset,batch_size=1,shuffle = False)"
      ],
      "execution_count": 0,
      "outputs": []
    },
    {
      "cell_type": "markdown",
      "metadata": {
        "id": "P-I-a1M88T2e",
        "colab_type": "text"
      },
      "source": [
        "**2. Select one of the previously trained autoencoders**"
      ]
    },
    {
      "cell_type": "code",
      "metadata": {
        "id": "RU323kBxBXkK",
        "colab_type": "code",
        "colab": {}
      },
      "source": [
        "pretrained_model = model[0]\n"
      ],
      "execution_count": 0,
      "outputs": []
    },
    {
      "cell_type": "markdown",
      "metadata": {
        "id": "J0LVJiz2CzB_",
        "colab_type": "text"
      },
      "source": [
        "**3. Create a digit (0-9) classification model reusing the encoder of the autoencoder and adding\n",
        "the needed fully connected (projection) layer.**"
      ]
    },
    {
      "cell_type": "code",
      "metadata": {
        "id": "mCG7o9hjIRoq",
        "colab_type": "code",
        "colab": {}
      },
      "source": [
        "classifier_pret = nn.Sequential(\n",
        "    pretrained_model.encoder,\n",
        "    nn.Linear( (hparams['bottleneck_size'])[0], 10 ),\n",
        "    nn.LogSoftmax()\n",
        ")\n"
      ],
      "execution_count": 0,
      "outputs": []
    },
    {
      "cell_type": "markdown",
      "metadata": {
        "id": "ttGheZv6IdVK",
        "colab_type": "text"
      },
      "source": [
        "**4. Pre-Training**"
      ]
    },
    {
      "cell_type": "code",
      "metadata": {
        "id": "yK_uKjc8IY0Z",
        "colab_type": "code",
        "outputId": "7606e1af-785e-42a3-c838-1c3674e9cc77",
        "colab": {
          "base_uri": "https://localhost:8080/",
          "height": 391
        }
      },
      "source": [
        "# Let's define some hyper-parameters\n",
        "hparams = {\n",
        "    'batch_size':10,\n",
        "    'num_epochs':10,\n",
        "    'test_batch_size':64,\n",
        "    'hidden_size':128,\n",
        "    'num_classes':10,\n",
        "    'num_inputs':784,\n",
        "    'learning_rate':1e-3,\n",
        "    'log_interval':100,\n",
        "    'bottleneck_size': [6, 8, 10]\n",
        "}\n",
        "\n",
        "for layer in classifier_pret[:-2]:\n",
        "  for param in layer.parameters():\n",
        "      param.requires_grad = False\n",
        "\n",
        "# specify loss function\n",
        "criterion = nn.NLLLoss()\n",
        "\n",
        "# specify loss function\n",
        "optimizer = torch.optim.Adam(classifier_pret.parameters(), lr=0.001)\n",
        "\n",
        "loss = train_net(classifier_pret, train_loader_100, optimizer, hparams['num_epochs'], criterion, val_loader_100, autoenc=False)"
      ],
      "execution_count": 0,
      "outputs": [
        {
          "output_type": "stream",
          "text": [
            "/usr/local/lib/python3.6/dist-packages/torch/nn/modules/container.py:92: UserWarning: Implicit dimension choice for log_softmax has been deprecated. Change the call to include dim=X as an argument.\n",
            "  input = module(input)\n"
          ],
          "name": "stderr"
        },
        {
          "output_type": "stream",
          "text": [
            "Train Epoch: 1 [95/95 (100%)]\tLoss: 6.375085\t\n",
            "Eval set: Average loss: 2.3424\n",
            "Train Epoch: 2 [95/95 (100%)]\tLoss: 5.707025\t\n",
            "Eval set: Average loss: 2.2459\n",
            "Train Epoch: 3 [95/95 (100%)]\tLoss: 5.117338\t\n",
            "Eval set: Average loss: 2.1922\n",
            "Train Epoch: 4 [95/95 (100%)]\tLoss: 4.591182\t\n",
            "Eval set: Average loss: 2.1664\n",
            "Train Epoch: 5 [95/95 (100%)]\tLoss: 4.120226\t\n",
            "Eval set: Average loss: 2.1582\n",
            "Train Epoch: 6 [95/95 (100%)]\tLoss: 3.701759\t\n",
            "Eval set: Average loss: 2.1611\n",
            "Train Epoch: 7 [95/95 (100%)]\tLoss: 3.335526\t\n",
            "Eval set: Average loss: 2.1707\n",
            "Train Epoch: 8 [95/95 (100%)]\tLoss: 3.021430\t\n",
            "Eval set: Average loss: 2.1839\n",
            "Train Epoch: 9 [95/95 (100%)]\tLoss: 2.758351\t\n",
            "Eval set: Average loss: 2.1985\n",
            "Train Epoch: 10 [95/95 (100%)]\tLoss: 2.543508\t\n",
            "Eval set: Average loss: 2.2131\n"
          ],
          "name": "stdout"
        }
      ]
    },
    {
      "cell_type": "markdown",
      "metadata": {
        "id": "cu_3Zn7KSUso",
        "colab_type": "text"
      },
      "source": [
        "**5. Fine-tuning**"
      ]
    },
    {
      "cell_type": "code",
      "metadata": {
        "id": "MNlqvYdQTUgi",
        "colab_type": "code",
        "colab": {}
      },
      "source": [
        "classifier_fine = nn.Sequential(\n",
        "    pretrained_model.encoder,\n",
        "    nn.Linear( (hparams['bottleneck_size'])[0], 10 ),\n",
        "    nn.LogSoftmax()\n",
        ")\n"
      ],
      "execution_count": 0,
      "outputs": []
    },
    {
      "cell_type": "code",
      "metadata": {
        "id": "X_MoJ3ioSXu3",
        "colab_type": "code",
        "outputId": "dcd83799-2ebb-4301-c24e-bcda407d7ec2",
        "colab": {
          "base_uri": "https://localhost:8080/",
          "height": 391
        }
      },
      "source": [
        "# specify loss function\n",
        "criterion = nn.NLLLoss()\n",
        "\n",
        "# specify loss function\n",
        "\n",
        "# QUESTION: specify different lr? (not clear in https://pytorch.org/docs/stable/optim.html)\n",
        "optimizer = torch.optim.Adam(\n",
        "   [ { 'params': classifier_fine[0].parameters(), 'lr':1e-5 } ],\n",
        "   lr=1e-3\n",
        "   )\n",
        "\n",
        "\n",
        "loss = train_net(classifier_fine, train_loader, optimizer, hparams['num_epochs'], criterion, val_loader_100, autoenc=False)\n"
      ],
      "execution_count": 0,
      "outputs": [
        {
          "output_type": "stream",
          "text": [
            "/usr/local/lib/python3.6/dist-packages/torch/nn/modules/container.py:92: UserWarning: Implicit dimension choice for log_softmax has been deprecated. Change the call to include dim=X as an argument.\n",
            "  input = module(input)\n"
          ],
          "name": "stderr"
        },
        {
          "output_type": "stream",
          "text": [
            "Train Epoch: 1 [600/600 (100%)]\tLoss: 3.588070\t\n",
            "Eval set: Average loss: 3.1457\n",
            "Train Epoch: 2 [600/600 (100%)]\tLoss: 3.664886\t\n",
            "Eval set: Average loss: 3.1457\n",
            "Train Epoch: 3 [600/600 (100%)]\tLoss: 3.814653\t\n",
            "Eval set: Average loss: 3.1457\n",
            "Train Epoch: 4 [600/600 (100%)]\tLoss: 4.169481\t\n",
            "Eval set: Average loss: 3.1457\n",
            "Train Epoch: 5 [600/600 (100%)]\tLoss: 3.484479\t\n",
            "Eval set: Average loss: 3.1457\n",
            "Train Epoch: 6 [600/600 (100%)]\tLoss: 3.559724\t\n",
            "Eval set: Average loss: 3.1457\n",
            "Train Epoch: 7 [600/600 (100%)]\tLoss: 3.894898\t\n",
            "Eval set: Average loss: 3.1457\n",
            "Train Epoch: 8 [600/600 (100%)]\tLoss: 3.963819\t\n",
            "Eval set: Average loss: 3.1457\n",
            "Train Epoch: 9 [600/600 (100%)]\tLoss: 3.752506\t\n",
            "Eval set: Average loss: 3.1457\n",
            "Train Epoch: 10 [600/600 (100%)]\tLoss: 3.282983\t\n",
            "Eval set: Average loss: 3.1457\n"
          ],
          "name": "stdout"
        }
      ]
    },
    {
      "cell_type": "markdown",
      "metadata": {
        "id": "mo7RXj1DXh5v",
        "colab_type": "text"
      },
      "source": [
        "**6. From Scratch**"
      ]
    },
    {
      "cell_type": "code",
      "metadata": {
        "id": "0B2vLBVqXmGM",
        "colab_type": "code",
        "outputId": "c110a39c-6c51-44d8-fcff-d87301d23e72",
        "colab": {
          "base_uri": "https://localhost:8080/",
          "height": 391
        }
      },
      "source": [
        "untrained_model=ConvAutoencoder(6)\n",
        "\n",
        "classifier_scratch = nn.Sequential(\n",
        "    untrained_model.encoder,\n",
        "    nn.Linear( (hparams['bottleneck_size'])[0], 10 ),\n",
        "    nn.LogSoftmax()\n",
        ")\n",
        "\n",
        "# specify loss function\n",
        "criterion = nn.NLLLoss()\n",
        "\n",
        "# specify loss function\n",
        "optimizer = torch.optim.Adam(classifier_scratch.parameters(), lr=0.001)\n",
        "\n",
        "loss = train_net(classifier_scratch, train_loader_100, optimizer, hparams['num_epochs'], criterion, val_loader_100, autoenc=False)"
      ],
      "execution_count": 0,
      "outputs": [
        {
          "output_type": "stream",
          "text": [
            "/usr/local/lib/python3.6/dist-packages/torch/nn/modules/container.py:92: UserWarning: Implicit dimension choice for log_softmax has been deprecated. Change the call to include dim=X as an argument.\n",
            "  input = module(input)\n"
          ],
          "name": "stderr"
        },
        {
          "output_type": "stream",
          "text": [
            "Train Epoch: 1 [95/95 (100%)]\tLoss: 2.228382\t\n",
            "Eval set: Average loss: 2.3339\n",
            "Train Epoch: 2 [95/95 (100%)]\tLoss: 0.758102\t\n",
            "Eval set: Average loss: 2.1596\n",
            "Train Epoch: 3 [95/95 (100%)]\tLoss: 0.651927\t\n",
            "Eval set: Average loss: 1.8700\n",
            "Train Epoch: 4 [95/95 (100%)]\tLoss: 0.474205\t\n",
            "Eval set: Average loss: 1.7757\n",
            "Train Epoch: 5 [95/95 (100%)]\tLoss: 0.354990\t\n",
            "Eval set: Average loss: 1.7962\n",
            "Train Epoch: 6 [95/95 (100%)]\tLoss: 1.168533\t\n",
            "Eval set: Average loss: 2.0843\n",
            "Train Epoch: 7 [95/95 (100%)]\tLoss: 0.238947\t\n",
            "Eval set: Average loss: 1.7072\n",
            "Train Epoch: 8 [95/95 (100%)]\tLoss: 1.919726\t\n",
            "Eval set: Average loss: 2.1491\n",
            "Train Epoch: 9 [95/95 (100%)]\tLoss: 0.214706\t\n",
            "Eval set: Average loss: 2.1096\n",
            "Train Epoch: 10 [95/95 (100%)]\tLoss: 0.056245\t\n",
            "Eval set: Average loss: 1.4984\n"
          ],
          "name": "stdout"
        }
      ]
    },
    {
      "cell_type": "markdown",
      "metadata": {
        "id": "XHZBlmV7vtrf",
        "colab_type": "text"
      },
      "source": [
        "# Ex 3 - Optional Exercise A: Variational Autoencoder\n",
        "\n",
        "Idea: turn the autoencoder from Exercise 1 into a variational autoencoder.\n",
        "\n",
        "Steps:\n",
        "1. Implement an autoencoder like that from Exercise 1, but turning the deterministic\n",
        "bottleneck into a stochastic bottleneck, with an isotropic Gaussian as distribution for the\n",
        "latent variables.\n",
        "2. Train the model optimizing the Evidence Lower Bound (ELBO).\n",
        "3. Generate samples with the decoder and show them."
      ]
    },
    {
      "cell_type": "code",
      "metadata": {
        "id": "GY8byT7cvuIw",
        "colab_type": "code",
        "colab": {}
      },
      "source": [
        ""
      ],
      "execution_count": 0,
      "outputs": []
    },
    {
      "cell_type": "markdown",
      "metadata": {
        "id": "IYZLCEjvvvUC",
        "colab_type": "text"
      },
      "source": [
        "# Ex 4 - Optional Exercise B: Conditional GAN\n",
        "\n",
        "Idea: train a condition la Generative Adversarial Network (GAN) to generate digit images based on the given number.\n",
        "Note: you can use as starting point the lab about GANs.\n",
        "\n",
        "Steps:\n",
        "1. Implement a generator and discriminator based con deconvolutions and convolutions\n",
        "respectively.\n",
        "2. Train the GAN on MNIST.\n",
        "3. Generate samples with the generator and show them."
      ]
    },
    {
      "cell_type": "code",
      "metadata": {
        "id": "NcZGU22N9IX2",
        "colab_type": "code",
        "colab": {}
      },
      "source": [
        "%load_ext autoreload\n",
        "%matplotlib inline\n",
        "%autoreload 2\n",
        "\n",
        "import torch\n",
        "from torch import nn, optim\n",
        "from torch.autograd.variable import Variable\n",
        "from torchvision import transforms, datasets, utils\n",
        "from IPython.display import display\n",
        "from PIL import Image\n",
        "import numpy as np\n",
        "import math"
      ],
      "execution_count": 0,
      "outputs": []
    },
    {
      "cell_type": "markdown",
      "metadata": {
        "id": "1QxHcC_iDR9i",
        "colab_type": "text"
      },
      "source": [
        "## Utils\n",
        "Some utils with minor importance"
      ]
    },
    {
      "cell_type": "code",
      "metadata": {
        "id": "iiTaSkPaDV8r",
        "colab_type": "code",
        "colab": {}
      },
      "source": [
        "def norm_noise(size):\n",
        "    return torch.cuda.FloatTensor(size, 100).normal_()\n",
        "  \n",
        "def init_weights(m):\n",
        "    classname = m.__class__.__name__\n",
        "    if classname.find('Conv') != -1 or classname.find('BatchNorm') != -1:\n",
        "        m.weight.data.normal_(0.00, 0.02)\n",
        "  \n",
        "def display_batch_images(img, imtype=np.uint8, unnormalize=True, nrows=None, mean=0.5, std=0.5):\n",
        "    # select a sample or create grid if img is a batch\n",
        "    if len(img.shape) == 4:\n",
        "        nrows = nrows if nrows is not None else int(math.sqrt(img.size(0)))\n",
        "        img = utils.make_grid(img, nrow=nrows)\n",
        "\n",
        "    # unnormalize\n",
        "    img = img.cpu().float()\n",
        "    img = (img*std+mean)*255\n",
        "\n",
        "    # to numpy\n",
        "    image_numpy = img.numpy()\n",
        "    image_numpy = np.transpose(image_numpy, (1, 2, 0))\n",
        "    display(Image.fromarray(image_numpy.astype(imtype))) "
      ],
      "execution_count": 0,
      "outputs": []
    },
    {
      "cell_type": "markdown",
      "metadata": {
        "id": "P1AaRIWR9L5m",
        "colab_type": "text"
      },
      "source": [
        "## Dataset\n",
        "Download and prepare dataset\n"
      ]
    },
    {
      "cell_type": "code",
      "metadata": {
        "id": "UPMYeOfU9SyD",
        "colab_type": "code",
        "colab": {}
      },
      "source": [
        "def mnist():\n",
        "    tf = transforms.Compose(\n",
        "        [\n",
        "            transforms.Resize(32, interpolation=0),\n",
        "            transforms.ToTensor(),\n",
        "            transforms.Normalize((0.5,), (.5,))\n",
        "        ])\n",
        "    return datasets.MNIST(root='./data/', train=True, transform=tf, download=True)"
      ],
      "execution_count": 0,
      "outputs": []
    },
    {
      "cell_type": "markdown",
      "metadata": {
        "id": "QDFqjh4T9a7W",
        "colab_type": "text"
      },
      "source": [
        "## Data Loader\n",
        "Create a data loader for the MNIST dataset"
      ]
    },
    {
      "cell_type": "code",
      "metadata": {
        "id": "TKNGNOBQ9U4w",
        "colab_type": "code",
        "outputId": "11cf7ca7-7b1d-47b7-f83c-8c9c9ceb15eb",
        "colab": {
          "base_uri": "https://localhost:8080/",
          "height": 245
        }
      },
      "source": [
        "batch_size = 100\n",
        "data_loader = torch.utils.data.DataLoader(mnist(), batch_size=batch_size, shuffle=True)"
      ],
      "execution_count": 0,
      "outputs": [
        {
          "output_type": "stream",
          "text": [
            "\r0it [00:00, ?it/s]"
          ],
          "name": "stderr"
        },
        {
          "output_type": "stream",
          "text": [
            "Downloading http://yann.lecun.com/exdb/mnist/train-images-idx3-ubyte.gz to ./data/MNIST/raw/train-images-idx3-ubyte.gz\n"
          ],
          "name": "stdout"
        },
        {
          "output_type": "stream",
          "text": [
            "9920512it [00:02, 3696048.37it/s]                             \n"
          ],
          "name": "stderr"
        },
        {
          "output_type": "stream",
          "text": [
            "Extracting ./data/MNIST/raw/train-images-idx3-ubyte.gz to ./data/MNIST/raw\n"
          ],
          "name": "stdout"
        },
        {
          "output_type": "stream",
          "text": [
            "\r0it [00:00, ?it/s]"
          ],
          "name": "stderr"
        },
        {
          "output_type": "stream",
          "text": [
            "Downloading http://yann.lecun.com/exdb/mnist/train-labels-idx1-ubyte.gz to ./data/MNIST/raw/train-labels-idx1-ubyte.gz\n"
          ],
          "name": "stdout"
        },
        {
          "output_type": "stream",
          "text": [
            "32768it [00:00, 57415.49it/s]                           \n",
            "0it [00:00, ?it/s]"
          ],
          "name": "stderr"
        },
        {
          "output_type": "stream",
          "text": [
            "Extracting ./data/MNIST/raw/train-labels-idx1-ubyte.gz to ./data/MNIST/raw\n",
            "Downloading http://yann.lecun.com/exdb/mnist/t10k-images-idx3-ubyte.gz to ./data/MNIST/raw/t10k-images-idx3-ubyte.gz\n"
          ],
          "name": "stdout"
        },
        {
          "output_type": "stream",
          "text": [
            "1654784it [00:01, 876750.70it/s]                             \n",
            "0it [00:00, ?it/s]"
          ],
          "name": "stderr"
        },
        {
          "output_type": "stream",
          "text": [
            "Extracting ./data/MNIST/raw/t10k-images-idx3-ubyte.gz to ./data/MNIST/raw\n",
            "Downloading http://yann.lecun.com/exdb/mnist/t10k-labels-idx1-ubyte.gz to ./data/MNIST/raw/t10k-labels-idx1-ubyte.gz\n"
          ],
          "name": "stdout"
        },
        {
          "output_type": "stream",
          "text": [
            "8192it [00:00, 21349.63it/s]            "
          ],
          "name": "stderr"
        },
        {
          "output_type": "stream",
          "text": [
            "Extracting ./data/MNIST/raw/t10k-labels-idx1-ubyte.gz to ./data/MNIST/raw\n",
            "Processing...\n",
            "Done!\n"
          ],
          "name": "stdout"
        },
        {
          "output_type": "stream",
          "text": [
            "\n"
          ],
          "name": "stderr"
        }
      ]
    },
    {
      "cell_type": "markdown",
      "metadata": {
        "id": "MFEBhsZb96T7",
        "colab_type": "text"
      },
      "source": [
        "## Networks\n",
        "First, lets define our simple generator"
      ]
    },
    {
      "cell_type": "code",
      "metadata": {
        "id": "yA2vnc-G9-Nl",
        "colab_type": "code",
        "colab": {}
      },
      "source": [
        "class Generator(torch.nn.Module):\n",
        "    \n",
        "    def __init__(self):\n",
        "        super(Generator, self).__init__()\n",
        "\n",
        "        self.emb = nn.Embedding(10, 10)\n",
        "      \n",
        "        self._fc = torch.nn.Linear(110, 1024*4*4)\n",
        "\n",
        "        self._conv1 = nn.Sequential(\n",
        "            nn.ConvTranspose2d(in_channels=1024, out_channels=512, kernel_size=4, stride=2, padding=1, bias=False),\n",
        "            nn.BatchNorm2d(512),\n",
        "            nn.ReLU(inplace=True)\n",
        "        )\n",
        "        self._conv2 = nn.Sequential(\n",
        "            nn.ConvTranspose2d(in_channels=512, out_channels=256, kernel_size=4, stride=2, padding=1, bias=False),\n",
        "            nn.BatchNorm2d(256),\n",
        "            nn.ReLU(inplace=True)\n",
        "        )\n",
        "        self._conv3 = nn.Sequential(\n",
        "            nn.ConvTranspose2d(in_channels=256, out_channels=1, kernel_size=4, stride=2, padding=1, bias=False),\n",
        "            torch.nn.Tanh()\n",
        "        )\n",
        "\n",
        "    def forward(self, x, labels):\n",
        "        \n",
        "        # Composition of noise and label embedding\n",
        "        # x = x.view(x.size(0), 100)\n",
        "        c = self.emb(labels)\n",
        "        x = torch.cat([x, torch.FloatTensor(c)], 0)\n",
        "        \n",
        "        # Noise to image\n",
        "        x = self._fc(x)\n",
        "        x = self._conv1(x.view(x.shape[0], 1024, 4, 4))\n",
        "        x = self._conv2(x)\n",
        "        return self._conv3(x)"
      ],
      "execution_count": 0,
      "outputs": []
    },
    {
      "cell_type": "markdown",
      "metadata": {
        "id": "LnSOu07Q-FLh",
        "colab_type": "text"
      },
      "source": [
        "Similarly lets define a simple discriminator"
      ]
    },
    {
      "cell_type": "code",
      "metadata": {
        "id": "fI6fdck8-Q2N",
        "colab_type": "code",
        "colab": {}
      },
      "source": [
        "class Discriminator(torch.nn.Module):\n",
        "    \n",
        "    def __init__(self):\n",
        "        super(Discriminator, self).__init__()\n",
        "\n",
        "        self.emb = nn.Embedding(10, 10)\n",
        "        \n",
        "        self._conv1 = nn.Sequential(\n",
        "            nn.Conv2d(in_channels=1, out_channels=128, kernel_size=4, stride=2, padding=1, bias=False),\n",
        "            nn.LeakyReLU(0.2, inplace=True)\n",
        "        )\n",
        "        self._conv2 = nn.Sequential(\n",
        "            nn.Conv2d(in_channels=128, out_channels=256, kernel_size=4, stride=2, padding=1, bias=False),\n",
        "            nn.BatchNorm2d(256),\n",
        "            nn.LeakyReLU(0.2, inplace=True)\n",
        "        )\n",
        "        self._conv3 = nn.Sequential(\n",
        "            nn.Conv2d(in_channels=256, out_channels=512, kernel_size=4, stride=2, padding=1, bias=False),\n",
        "            nn.BatchNorm2d(512),\n",
        "            nn.LeakyReLU(0.2, inplace=True)\n",
        "        )\n",
        "        \n",
        "        self._fc = nn.Sequential(\n",
        "            nn.Linear(512*4*4, 1),\n",
        "            nn.Sigmoid()\n",
        "        )\n",
        "\n",
        "    def forward(self, x, labels):\n",
        "        \n",
        "        # Composition of noise and label embedding\n",
        "        # x = x.view(x.size(0), -1)\n",
        "        c = self.emb(labels)\n",
        "        x = torch.cat([x, torch.FloatTensor(c)], 0)\n",
        "        \n",
        "        # Classify image as fake or real\n",
        "        x = self._conv1(x)\n",
        "        x = self._conv2(x)\n",
        "        x = self._conv3(x)\n",
        "        return self._fc(x.view(-1, 512*4*4))"
      ],
      "execution_count": 0,
      "outputs": []
    },
    {
      "cell_type": "markdown",
      "metadata": {
        "id": "_ZVzk2jo-X9E",
        "colab_type": "text"
      },
      "source": [
        "## Model\n",
        "Now lets create the core of our task, the model.  Remember GANs loss:\n",
        "\n",
        "$\\underset{G}{\\text{min}} \\underset{D}{\\text{max}}V(D,G) = \\mathbb{E}_{x\\sim p_{data}(x)}\\big[logD(x)\\big] + \\mathbb{E}_{z\\sim p_{z}(z)}\\big[log(1-D(G(z)))\\big]$"
      ]
    },
    {
      "cell_type": "code",
      "metadata": {
        "id": "tL2y10N0-Y4U",
        "colab_type": "code",
        "colab": {}
      },
      "source": [
        "class Model:\n",
        "    # --------------------------\n",
        "    # -- PREPARE MODEL\n",
        "    # --------------------------\n",
        "    \n",
        "    def __init__(self, batch_size):\n",
        "        self._create_networks()\n",
        "        self._create_optimizer()\n",
        "        self._init_criterion(batch_size)\n",
        "        \n",
        "    def _create_networks(self):\n",
        "        # create networks\n",
        "        self._generator = Generator()\n",
        "        self._discriminator = Discriminator()\n",
        "        \n",
        "        # init weights\n",
        "        self._generator.apply(init_weights)\n",
        "        self._discriminator.apply(init_weights)\n",
        "        \n",
        "        # move to cuda\n",
        "        self._generator.cuda()\n",
        "        self._discriminator.cuda()\n",
        "        \n",
        "    def _create_optimizer(self):\n",
        "        # generator optimizer\n",
        "        self._opt_g = torch.optim.Adam(self._generator.parameters(), lr=0.0002, betas=(0.5, 0.999))\n",
        "        \n",
        "        # discriminator optimizer\n",
        "        self._opt_d = torch.optim.Adam(self._discriminator.parameters(), lr=0.0002, betas=(0.5, 0.999))\n",
        "        \n",
        "    def _init_criterion(self, batch_size):\n",
        "        self._criterion = nn.BCELoss()\n",
        "        self._label_real = Variable(torch.ones(batch_size, 1)).cuda()\n",
        "        self._label_fake = Variable(torch.zeros(batch_size, 1)).cuda()\n",
        "        \n",
        "    # --------------------------\n",
        "    # -- Generate Fake Samples\n",
        "    # --------------------------\n",
        "    \n",
        "    # TODO: probable problem here, putting random noise with random labels!\n",
        "    def generate_samples(self, batch_size, z=None, labels=None):\n",
        "        # sample random noise\n",
        "        if z is None:\n",
        "            z = norm_noise(batch_size)\n",
        "        if labels is None:\n",
        "            labels = Variable(torch.LongTensor(np.random.randint(0, 10, batch_size))).cuda()\n",
        "            \n",
        "        # TODO: generate fake samples out of the random noise z\n",
        "        fake_samples = self._generator(z, labels)\n",
        "        return fake_samples\n",
        "    \n",
        "    # --------------------------\n",
        "    # -- Optimize Model\n",
        "    # --------------------------\n",
        "        \n",
        "    def step_optimization(self, real_samples, real_labels):\n",
        "        # generate fake labels\n",
        "        fake_labels = Variable(torch.LongTensor(np.random.randint(0, 10, real_samples.size(0)))).cuda()\n",
        "        # generate fake samples\n",
        "        fake_samples = self.generate_samples(real_samples.size(0), fake_labels)\n",
        "        \n",
        "        # optimize generator\n",
        "        loss_g = self._step_opt_g(fake_samples, fake_labels)\n",
        "        \n",
        "        # optimize discriminator\n",
        "        loss_d = self._step_opt_d(real_samples, real_labels, fake_samples.detach(), fake_labels)\n",
        "        \n",
        "        return loss_g, loss_d\n",
        "      \n",
        "    def _step_opt_g(self, fake_samples, fake_labels):\n",
        "        # Reset gradients\n",
        "        self._opt_g.zero_grad()\n",
        "        \n",
        "        # Calculate generator loss\n",
        "        estim_fake = self._discriminator(fake_samples, fake_labels)\n",
        "        loss = self._criterion(estim_fake, self._label_real)\n",
        "        loss.backward()\n",
        "        \n",
        "        # Update weights\n",
        "        self._opt_g.step()\n",
        "        \n",
        "        return loss.item()\n",
        "        \n",
        "    def _step_opt_d(self, real_samples, real_labels, fake_samples, fake_labels):\n",
        "        # Reset gradients\n",
        "        self._opt_d.zero_grad()\n",
        "\n",
        "        # Calculate discriminator loss for real samples\n",
        "        estim_real = self._discriminator(real_samples, real_labels)\n",
        "        loss_real = self._criterion(estim_real, self._label_real)\n",
        "\n",
        "        # Calculate discriminator loss for fake samples\n",
        "        estim_fake = self._discriminator(fake_samples, fake_labels)\n",
        "        loss_fake = self._criterion(estim_fake, self._label_fake)\n",
        "        \n",
        "        # Total discriminator loss\n",
        "        loss = (loss_real + loss_fake) / 2\n",
        "        loss.backward()\n",
        "\n",
        "        # Update weights\n",
        "        self._opt_d.step()\n",
        "\n",
        "        return loss_real.item(), loss_fake.item()\n",
        "        \n",
        "  "
      ],
      "execution_count": 0,
      "outputs": []
    },
    {
      "cell_type": "markdown",
      "metadata": {
        "id": "iWS0uvRJEHGd",
        "colab_type": "text"
      },
      "source": [
        "## Train"
      ]
    },
    {
      "cell_type": "code",
      "metadata": {
        "id": "knwG43nIEJM8",
        "colab_type": "code",
        "colab": {}
      },
      "source": [
        "num_epochs = 3\n",
        "num_val_samples = 10\n",
        "z_val = norm_noise(num_val_samples)\n",
        "model = Model(batch_size)"
      ],
      "execution_count": 0,
      "outputs": []
    },
    {
      "cell_type": "code",
      "metadata": {
        "id": "pd3efLyTEQSE",
        "colab_type": "code",
        "colab": {}
      },
      "source": [
        "# THIS BLOCK KEEPS CRASHING (NO ERROR REPORT)\n",
        "\n",
        "for epoch in range(num_epochs):\n",
        "  \n",
        "    # Train epoch\n",
        "    for n_batch, (real_samples, real_labels) in enumerate(data_loader):\n",
        "        \n",
        "        # Prepare batch data\n",
        "        real_samples = Variable(real_samples).cuda()\n",
        "        real_labels = Variable(real_labels).cuda()\n",
        "          \n",
        "        # Update model weights\n",
        "        loss_g, loss_d = model.step_optimization(real_samples, real_labels)\n",
        "        \n",
        "        # Show current loss\n",
        "        if (n_batch) % 10 == 0:\n",
        "            print(f\"epoch: {epoch}/{num_epochs}, batch: {n_batch}/{len(data_loader)}, G_loss: {loss_g}, D_loss: {loss_d}\")    \n",
        "          \n",
        "        # Show fake samples\n",
        "        if (n_batch) % 100 == 0:\n",
        "            val_fake_samples = model.generate_samples(num_val_samples, z=z_val, labels=torch.FloatTensor(np.arange(9)).cuda()).data.cpu()\n",
        "            display_batch_images(val_fake_samples)"
      ],
      "execution_count": 0,
      "outputs": []
    }
  ]
}
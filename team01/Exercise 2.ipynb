{
  "nbformat": 4,
  "nbformat_minor": 0,
  "metadata": {
    "colab": {
      "name": "Copia de Transfer_Learning_BeNet.ipyn",
      "provenance": [],
      "collapsed_sections": []
    },
    "kernelspec": {
      "name": "python3",
      "display_name": "Python 3"
    },
    "accelerator": "GPU"
  },
  "cells": [
    {
      "cell_type": "markdown",
      "metadata": {
        "id": "5KEk5hu7BrSr",
        "colab_type": "text"
      },
      "source": [
        "\n",
        "Ejercicio 1:\n",
        "\n",
        "Load MNIST train and test sets. Split the original training data into 95% training and 5% validation data.\n",
        "Implement a convolutional autoencoder (with separate Encoder and Decoder modules). DONE\n",
        "\n",
        "Train the convolutional autoencoder, with different bottleneck sizes. Plot the train and validation loss curves of all autoencoders in the same figure. TODO\n",
        "\n",
        "Compute the avg. image reconstruction error (MSE) of the trained models on the MNIST validation and test sets. Show the results in a table, including #params of each model. TODO\n",
        "\n",
        "Select one of the autoencoders and feed it 5 random MNIST images from the test set. Show them along with their reconstructions. ALMOST DONE\n",
        "\n",
        "Generate 5 new images by injecting random values as input to the decoder. Show them. GOTTA DO THINGS BEFORE\n",
        "\n"
      ]
    },
    {
      "cell_type": "code",
      "metadata": {
        "id": "XTT8RASHysZv",
        "colab_type": "code",
        "colab": {}
      },
      "source": [
        "# Necessary imports, if we don't use them we'll kick them out\n",
        "\n",
        "import numpy as np\n",
        "#We'll make it reproducible by using this seed\n",
        "np.random.seed(1)\n",
        "import torch\n",
        "import torch.optim as optim\n",
        "torch.manual_seed(1)\n",
        "import torch.nn as nn\n",
        "import torch.nn.functional as F\n",
        "if torch.cuda.is_available():\n",
        "  torch.cuda.manual_seed_all(1)\n",
        "from torchvision import datasets, transforms\n",
        "import matplotlib\n",
        "%matplotlib inline\n",
        "import matplotlib.pyplot as plt"
      ],
      "execution_count": 0,
      "outputs": []
    },
    {
      "cell_type": "code",
      "metadata": {
        "id": "BamL_wBRzAgn",
        "colab_type": "code",
        "outputId": "dbb1fc04-b53d-4143-accb-2fbbe7d854af",
        "colab": {
          "base_uri": "https://localhost:8080/",
          "height": 34
        }
      },
      "source": [
        "# Let's define some hyper-parameters that will be changed\n",
        "hparams = {\n",
        "    'batch_size':64,\n",
        "    'num_epochs':10,\n",
        "    'val_batch_size':64,\n",
        "    'test_batch_size':64,\n",
        "    'hidden_size':128,\n",
        "    'num_classes':10,\n",
        "    'num_inputs':784,\n",
        "    'learning_rate':1e-3,\n",
        "    'log_interval':100,\n",
        "    'bottleneck_size':50\n",
        "}\n",
        "\n",
        "mnist_trainset = datasets.MNIST('data', train=True, download=True,\n",
        "                                transform=transforms.Compose([\n",
        "                                    transforms.ToTensor(),\n",
        "                                    transforms.Normalize((0.1307,), (0.3081,))\n",
        "                                ]))\n",
        "mnist_testset = datasets.MNIST('data', train=False, \n",
        "                               transform=transforms.Compose([\n",
        "                                   transforms.ToTensor(),\n",
        "                                   transforms.Normalize((0.1307,), (0.3081,))\n",
        "                               ]))\n",
        "\n",
        "length_train = len(mnist_trainset)\n",
        "\n",
        "#Split the training into validation and training\n",
        "train_dataset, validation_dataset = torch.utils.data.random_split(mnist_trainset, [int(0.95*length_train), int(0.05*length_train)])\n",
        "\n",
        "\n",
        "# The argument \"drop_last=True\" is given in order to ensure that there won't be a last batch that is not full\n",
        "train_loader = torch.utils.data.DataLoader(\n",
        "    train_dataset,\n",
        "    batch_size=hparams['batch_size'], \n",
        "    shuffle=True,drop_last=True) #Probar si peta sin el drop_last pero no es prioritario\n",
        "\n",
        "val_loader = torch.utils.data.DataLoader(validation_dataset,\n",
        "                                         batch_size=hparams['val_batch_size'], \n",
        "                                         shuffle=True,drop_last=True)\n",
        "\n",
        "test_loader = torch.utils.data.DataLoader(\n",
        "    mnist_testset,\n",
        "    batch_size=hparams['test_batch_size'], \n",
        "    shuffle=False,drop_last=True)\n",
        "print(\"Thus we have {} full batches of train and {} full batches of validation\".format(len(train_loader),len(val_loader)))"
      ],
      "execution_count": 0,
      "outputs": [
        {
          "output_type": "stream",
          "text": [
            "Thus we have 890 full batches of train and 46 full batches of validation\n"
          ],
          "name": "stdout"
        }
      ]
    },
    {
      "cell_type": "markdown",
      "metadata": {
        "id": "geOzlhtIDWzE",
        "colab_type": "text"
      },
      "source": [
        "Visualization of the data"
      ]
    },
    {
      "cell_type": "code",
      "metadata": {
        "id": "7IuBeKciDV-n",
        "colab_type": "code",
        "colab": {}
      },
      "source": [
        "# Obtain a batch\n",
        "for i in range(6):\n",
        "  iterator = iter(train_loader)\n",
        "  images, labels = iterator.next()\n",
        "  # We have to transform the image from tensor to numpy\n",
        "  images = images.numpy()\n",
        "\n",
        "  # Get first image of the batch\n",
        "  digit = np.squeeze(images[i])\n",
        "\n",
        "  fig = plt.figure(figsize = (5,5))\n",
        "  ax = fig.add_subplot(3,2,i+1)\n",
        "  ax.imshow(digit, cmap = 'gray')\n"
      ],
      "execution_count": 0,
      "outputs": []
    },
    {
      "cell_type": "code",
      "metadata": {
        "id": "cz5vJtcyRVCr",
        "colab_type": "code",
        "colab": {}
      },
      "source": [
        "class Encoder(nn.Module):\n",
        "   ''' \n",
        "   This the encoder part of CAE\n",
        "   '''\n",
        "\n",
        "   def __init__(self, bottleneck_size = 30):\n",
        "     super().__init__()\n",
        "\n",
        "     self.conv1 = nn.Conv2d(1,16,3,padding=1)\n",
        "     self.pool  = nn.MaxPool2d(2,2)\n",
        "     self.conv2 = nn.Conv2d(16,4,3,padding=1)\n",
        "     self.bottleneck_layer = nn.Linear(4 * 7 * 7, bottleneck_size)\n",
        "   def forward(self,x):\n",
        "      ## encode ##\n",
        "      # add hidden layers with relu activation function\n",
        "      # and maxpooling after\n",
        "      x = F.relu(self.conv1(x))\n",
        "      x = self.pool(x)\n",
        "      # add second hidden layer\n",
        "      x = F.relu(self.conv2(x))\n",
        "      x = self.pool(x)  # compressed representation\n",
        "      x = x.view(-1, 4 * 7 * 7)\n",
        "      x = self.bottleneck_layer(x)\n",
        "\n",
        "      return x\n",
        "\n",
        "class Decoder(nn.Module):\n",
        "   ''' \n",
        "   This the decoder part of CAE\n",
        "   '''\n",
        "\n",
        "   def __init__(self, bottleneck_size=30, bottleneck_layer = None):\n",
        "     super().__init__()\n",
        "\n",
        "     ## decoder layers ##\n",
        "     ## a kernel of 2 and a stride of 2 will increase the spatial dims by 2\n",
        "     self.t_conv1 = nn.ConvTranspose2d(4, 16, 2, stride=2)\n",
        "     self.t_conv2 = nn.ConvTranspose2d(16, 1, 2, stride=2)\n",
        "     self.bottleneck_reconstruct = nn.Linear(bottleneck_size, 4*7*7)\n",
        "\n",
        "   def forward(self,x):\n",
        "     ## decode ##\n",
        "     # add transpose conv layers, with relu activation function\n",
        "     x = self.bottleneck_reconstruct(x)\n",
        "     x = x.view(-1, 4, 7, 7)\n",
        "\n",
        "     x = F.relu(self.t_conv1(x))\n",
        "     # output layer (with sigmoid for scaling from 0 to 1)\n",
        "     x = F.sigmoid(self.t_conv2(x))\n",
        "            \n",
        "     return x\n",
        "\n",
        "class CAE(nn.Module):\n",
        "  '''\n",
        "  This takes both encoder and decoder into the same network\n",
        "  '''\n",
        "\n",
        "  def __init__(self, enc, dec):\n",
        "    super().__init__()\n",
        "\n",
        "    self.encoder = enc\n",
        "    self.decoder = dec\n",
        "\n",
        "  def forward(self,x):\n",
        "    #encode\n",
        "    x = self.encoder(x)\n",
        "    #Decode\n",
        "    predicted = self.decoder(x)\n",
        "\n",
        "    return predicted\n",
        "      "
      ],
      "execution_count": 0,
      "outputs": []
    },
    {
      "cell_type": "markdown",
      "metadata": {
        "id": "LO9z0o9BWFyy",
        "colab_type": "text"
      },
      "source": [
        ""
      ]
    },
    {
      "cell_type": "markdown",
      "metadata": {
        "id": "NfR6Jm2VQN0L",
        "colab_type": "text"
      },
      "source": [
        "# Now we have to train the network for a number of epochs\n",
        "In order to make this in a propper manner we define a train() function"
      ]
    },
    {
      "cell_type": "code",
      "metadata": {
        "id": "R-ayutM1QYyZ",
        "colab_type": "code",
        "colab": {}
      },
      "source": [
        "def train(model, num_epochs):\n",
        "  # Prepare the GPU and the model to start training\n",
        "  device = torch.device(\"cuda:0\" if torch.cuda.is_available() else \"cpu\")\n",
        "  model.train()\n",
        "  model.to(device)\n",
        "  # First thing is first, specify loss function and optimizer criterion\n",
        "  # The professor said we should used Mean Square Error\n",
        "  # From the slides, ADAM was the best optimizer thus:\n",
        "  costFunc = nn.MSELoss()\n",
        "  optimizer = optim.Adam(model.parameters(), lr = hparams['learning_rate']) # learning rate chosen at random\n",
        "  \n",
        "  for epoch in range(num_epochs):\n",
        "    # We should track the loss of the model\n",
        "    closs = 0\n",
        "    # total = 0\n",
        "    for batch_idx, (data,_) in enumerate(train_loader):\n",
        "      # Put data and label into GPU\n",
        "      data = data.to(device)\n",
        "      # What does the model say? Pix pix pix pix pix pix pix pix\n",
        "      prediction = model(data)\n",
        "      # Compute loss\n",
        "      loss = costFunc(prediction,data)\n",
        "      # Save loss to plot it later\n",
        "      closs += loss.item()*data.size(0) #this data.size(0) is the train_batch_size\n",
        "      # Careful with the drop_last\n",
        "\n",
        "      # Name a more iconic trio\n",
        "      optimizer.zero_grad()\n",
        "      loss.backward()\n",
        "      optimizer.step()\n",
        "\n",
        "\n",
        "    print('Epoch: {} \\tTraining Loss: {:.6f}'.format(epoch,closs/len(train_loader)))  \n",
        "    # Let's check accuracy with our validation set\n",
        "  #  correctHits = 0\n",
        "\n",
        "  # for index,(data,_)  in enumerate(val_loader):\n",
        "  #   data = data.to(device)\n",
        "  #   prediction = model(data)\n",
        "  #   _,prediction = torch.max(prediction.data,1) #returns max as well as its index\n",
        "  #   total += label.size(0)\n",
        "  #   print('comparison number {} with prediction is {} and validation label is {}'.format(jj,prediction,label))\n",
        "  #   correctHits += (prediction==label).sum().item()\n",
        "  # print('Accuracy on epoch ',epoch+1,'= ',str((correctHits/total)*100))\n"
      ],
      "execution_count": 0,
      "outputs": []
    },
    {
      "cell_type": "code",
      "metadata": {
        "id": "sCOV0afqSzJx",
        "colab_type": "code",
        "colab": {}
      },
      "source": [
        "encoder = Encoder(hparams[\"bottleneck_size\"])\n",
        "decoder = Decoder(hparams[\"bottleneck_size\"])\n",
        "encoder_decoder = CAE(encoder,decoder)\n",
        "\n",
        "train(encoder_decoder,30)"
      ],
      "execution_count": 0,
      "outputs": []
    },
    {
      "cell_type": "code",
      "metadata": {
        "id": "91FPlSgW8fFw",
        "colab_type": "code",
        "colab": {}
      },
      "source": [
        "# def save_checkpoint(state, filename=PATH + '/checkpoint.pth.tar'):\n",
        "#     \"\"\"Save checkpoint if a new best is achieved\"\"\"\n",
        "#     if is_best:\n",
        "#         print (\"=> Saving a new best\")\n",
        "#         torch.save(state, filename)  # save checkpoint\n",
        "\n",
        "# torch.save()"
      ],
      "execution_count": 0,
      "outputs": []
    },
    {
      "cell_type": "code",
      "metadata": {
        "id": "UWAMYbdDYGSo",
        "colab_type": "code",
        "outputId": "5e3fa686-e6ed-4c1e-d5a9-b83672045995",
        "colab": {
          "base_uri": "https://localhost:8080/",
          "height": 307
        }
      },
      "source": [
        "# obtain one batch of test images\n",
        "dataiter = iter(test_loader)\n",
        "images, _ = dataiter.next()\n",
        "\n",
        "encoder_decoder.eval()\n",
        "encoder_decoder.to(\"cpu\")\n",
        "\n",
        "# What does the model output?\n",
        "prediction = encoder_decoder(images)\n",
        "\n",
        "# prep images for display\n",
        "images = images.numpy()\n",
        "\n",
        "# output is resized into a batch of images\n",
        "#prediction = prediction.view(hparams['test_batch_size'], 1, 28, 28)\n",
        "# use detach when it's an output that requires_grad and transform to numpy\n",
        "prediction = prediction.detach().numpy()\n",
        "\n",
        "# plot the first ten input images and then reconstructed images\n",
        "fig, axes = plt.subplots(nrows=2, ncols=10, sharex=True, sharey=True, figsize=(25,4))\n",
        "\n",
        "# input images on top row, reconstructions on bottom\n",
        "for images, row in zip([images, prediction], axes):\n",
        "    for img, ax in zip(images, row):\n",
        "        ax.imshow(np.squeeze(img), cmap='gray')\n",
        "        ax.get_xaxis().set_visible(False)\n",
        "        ax.get_yaxis().set_visible(False)"
      ],
      "execution_count": 0,
      "outputs": [
        {
          "output_type": "stream",
          "text": [
            "/usr/local/lib/python3.6/dist-packages/torch/nn/functional.py:1351: UserWarning: nn.functional.sigmoid is deprecated. Use torch.sigmoid instead.\n",
            "  warnings.warn(\"nn.functional.sigmoid is deprecated. Use torch.sigmoid instead.\")\n"
          ],
          "name": "stderr"
        },
        {
          "output_type": "display_data",
          "data": {
            "image/png": "[encoded data removed]",
            "text/plain": [
              "<Figure size 1800x288 with 20 Axes>"
            ]
          },
          "metadata": {
            "tags": []
          }
        }
      ]
    },
    {
      "cell_type": "markdown",
      "metadata": {
        "id": "uieB4GacUthO",
        "colab_type": "text"
      },
      "source": [
        "I will leave this here as a reference but won't be used in the future as I have already detached the encoder from the decoder.\n",
        "\n",
        "> Indented block\n",
        "\n"
      ]
    },
    {
      "cell_type": "markdown",
      "metadata": {
        "id": "WR2xuI7oILm0",
        "colab_type": "text"
      },
      "source": [
        "### Exercice 2"
      ]
    },
    {
      "cell_type": "code",
      "metadata": {
        "id": "g4rc7Aq9IIE_",
        "colab_type": "code",
        "colab": {}
      },
      "source": [
        "hparams_class = {\n",
        "    'batch_size':50,\n",
        "    'num_epochs':30,\n",
        "    'val_batch_size':50,\n",
        "    'test_batch_size':50,\n",
        "    'hidden_size':50,\n",
        "    'num_classes':10,\n",
        "    'num_inputs':784,\n",
        "    'learning_rate':1e-3,\n",
        "    'log_interval':100,\n",
        "    'bottleneck_size':50\n",
        "}"
      ],
      "execution_count": 0,
      "outputs": []
    },
    {
      "cell_type": "code",
      "metadata": {
        "id": "ami6FS92Ekje",
        "colab_type": "code",
        "colab": {}
      },
      "source": [
        "class FeatureClassifier(nn.Module):\n",
        "  \n",
        "  def __init__(self, feature_extractor, feature_size, hidden_size, nclasses):\n",
        "    super().__init__()\n",
        "    self.feature_extractor = feature_extractor\n",
        "    \n",
        "    self.classifier = nn.Sequential(\n",
        "        torch.nn.Linear(feature_size, hidden_size),\n",
        "        torch.nn.ReLU(),\n",
        "        torch.nn.Linear(hidden_size, hidden_size),\n",
        "        torch.nn.ReLU(),\n",
        "        torch.nn.Linear(hidden_size, nclasses),\n",
        "        #torch.nn.Softmax(dim=-1)\n",
        "    )\n",
        "    \n",
        "\n",
        "  def forward(self, x):\n",
        "    out = self.feature_extractor(x)\n",
        "    out = self.classifier(out)\n",
        "    return out\n"
      ],
      "execution_count": 0,
      "outputs": []
    },
    {
      "cell_type": "code",
      "metadata": {
        "id": "i1SZ6mwtiLqh",
        "colab_type": "code",
        "outputId": "0ca2f3e2-950a-402c-afba-2cfa985acd44",
        "colab": {
          "base_uri": "https://localhost:8080/",
          "height": 34
        }
      },
      "source": [
        "m = FeatureClassifier(Encoder(), 50, 100, 10)\n",
        "def count_parameters(model):\n",
        "    return sum(p.numel() for p in model.parameters() if p.requires_grad)\n",
        "count_parameters(m)"
      ],
      "execution_count": 0,
      "outputs": [
        {
          "output_type": "execute_result",
          "data": {
            "text/plain": [
              "22860"
            ]
          },
          "metadata": {
            "tags": []
          },
          "execution_count": 11
        }
      ]
    },
    {
      "cell_type": "code",
      "metadata": {
        "id": "vaPIcbWUu3bU",
        "colab_type": "code",
        "colab": {}
      },
      "source": [
        "# From \n",
        "def accuracy(output, target):\n",
        "  \"\"\"Computes the accuracy for multiple binary predictions\"\"\"\n",
        "  _, index = torch.max(output, dim=1)\n",
        "  well_predictions = torch.eq(index, target)\n",
        "  acc = torch.sum(well_predictions, 0)\n",
        "  \n",
        "  return acc.float()\n"
      ],
      "execution_count": 0,
      "outputs": []
    },
    {
      "cell_type": "code",
      "metadata": {
        "id": "57HHcf2nuuPJ",
        "colab_type": "code",
        "colab": {}
      },
      "source": [
        "def validate(hparams_class, classifier, crit, valid_dataloader, device):\n",
        "  classifier.eval()\n",
        "\n",
        "  n = 0\n",
        "  with torch.no_grad():\n",
        "    loss = 0\n",
        "    acc = 0\n",
        "\n",
        "    for x, label in valid_dataloader:\n",
        "      x, label = x.to(device), label.to(device)\n",
        "      \n",
        "      pred = classifier(x)\n",
        "\n",
        "      acc += accuracy(pred, label)\n",
        "      loss += crit(pred, label)\n",
        "      \n",
        "      n += label.numel()\n",
        "  loss = loss / n\n",
        "  acc = acc / n\n",
        "\n",
        "  return loss, acc\n",
        "    "
      ],
      "execution_count": 0,
      "outputs": []
    },
    {
      "cell_type": "code",
      "metadata": {
        "id": "rkMDWRsmXir3",
        "colab_type": "code",
        "colab": {}
      },
      "source": [
        "def watch_img(num=2,loader=None ):\n",
        "  digits = []\n",
        "  for i in range(num):\n",
        "    iterator = iter(loader)\n",
        "    images, _ = iterator.next()\n",
        "\n",
        "    # Get first image of the batch\n",
        "    digits.append(images.numpy()[0])\n",
        "\n",
        "  fig, axes = plt.subplots(nrows=1, ncols=num, sharex=True, sharey=True, figsize=(25,4))\n",
        "\n",
        "  for images, ax in zip(digits, axes):\n",
        "      for img in images:\n",
        "          ax.imshow(np.squeeze(img), cmap='gray')\n",
        "          ax.get_xaxis().set_visible(False)\n",
        "          ax.get_yaxis().set_visible(False)"
      ],
      "execution_count": 0,
      "outputs": []
    },
    {
      "cell_type": "code",
      "metadata": {
        "id": "07umsteCHnyU",
        "colab_type": "code",
        "colab": {}
      },
      "source": [
        "def train_classifier(hparams_class, classifier, optim, crit, train_dataloader, valid_dataloader, device, name):\n",
        "  \n",
        "  classifier.to(device)\n",
        "  classifier.train()\n",
        "\n",
        "  N_epoch = hparams_class[\"num_epochs\"]\n",
        "\n",
        "  metrics =  {\"batch_num\": [],\n",
        "              \"batch_train_loss\": [],\n",
        "              \"epoch_num\": [],\n",
        "              \"epoch_val_loss\": [],\n",
        "              \"epoch_val_acc\": [],\n",
        "              \"epoch_train_loss\": [],\n",
        "              \"epoch_train_acc\": []\n",
        "              }\n",
        "\n",
        "\n",
        "  for n in range(N_epoch):\n",
        "    for i, (input_batch, target_batch) in enumerate(train_dataloader):\n",
        "      input_batch, target_batch = input_batch.to(device), target_batch.to(device)\n",
        "    \n",
        "      optim.zero_grad()\n",
        "      prediction = classifier(input_batch)\n",
        "\n",
        "      loss = crit(prediction, target_batch) / prediction.numel()\n",
        "\n",
        "      loss.backward()\n",
        "      optim.step()\n",
        "\n",
        "      metrics[\"batch_num\"].append(i+1)\n",
        "      metrics[\"batch_train_loss\"].append(loss.detach().cpu().numpy())\n",
        "\n",
        "      \n",
        "    val_loss, val_acc = validate(hparams_class, classifier, crit, valid_dataloader, device)\n",
        "    \n",
        "    metrics[\"epoch_num\"].append(n+1)\n",
        "    metrics[\"epoch_val_loss\"].append(val_loss.detach().cpu().numpy())\n",
        "    metrics[\"epoch_val_acc\"].append(val_acc.detach().cpu().numpy())\n",
        "    metrics[\"epoch_train_loss\"].append(np.mean(metrics[\"batch_train_loss\"]))\n",
        "\n",
        "    print(\"Epoch {}, Loss: {:.6f}, Acc_val: {:.1f}%,  {}\".format(metrics[\"epoch_num\"][n], metrics[\"epoch_val_loss\"][n], metrics[\"epoch_val_acc\"][n]*100, name))\n",
        "    \n",
        "    \n",
        "  metrics = {k: np.array(metrics[k]) for k in metrics.keys()}\n",
        "  print(\"-\"*55)\n",
        "\n",
        "  return metrics"
      ],
      "execution_count": 0,
      "outputs": []
    },
    {
      "cell_type": "code",
      "metadata": {
        "id": "2HT0GEYEB9c3",
        "colab_type": "code",
        "outputId": "2dad127e-9139-4c4c-dea8-3d7db78c264d",
        "colab": {
          "base_uri": "https://localhost:8080/",
          "height": 190
        }
      },
      "source": [
        "\n",
        "\n",
        "\n",
        "# From scatch\n",
        "model_scratch = FeatureClassifier(Encoder(hparams_class[\"bottleneck_size\"]), hparams_class[\"bottleneck_size\"], \n",
        "                                  hparams_class[\"hidden_size\"], hparams_class[\"num_classes\"])\n",
        "\n",
        "\n",
        "\n",
        "#Initialize with pretrained ecoder\n",
        "model_pretrained1 = FeatureClassifier(Encoder(hparams_class[\"bottleneck_size\"]), hparams_class[\"bottleneck_size\"], \n",
        "                                      hparams_class[\"hidden_size\"], hparams_class[\"num_classes\"])\n",
        "model_pretrained1.feature_extractor.load_state_dict(encoder_decoder.encoder.state_dict())\n",
        "\n",
        "#Initialize with pretrained ecoder\n",
        "model_pretrained2 = FeatureClassifier(Encoder(hparams_class[\"bottleneck_size\"]), hparams_class[\"bottleneck_size\"], \n",
        "                                      hparams_class[\"hidden_size\"], hparams_class[\"num_classes\"])\n",
        "model_pretrained2.feature_extractor.load_state_dict(encoder_decoder.encoder.state_dict())\n",
        "\n",
        "\n",
        "\n",
        "\n",
        "small_train_dataset , _ = torch.utils.data.random_split(train_dataset, [100, len(train_dataset) - 100])\n",
        "\n",
        "small_train_dataloader = torch.utils.data.DataLoader(small_train_dataset, batch_size = hparams_class[\"batch_size\"], shuffle=True)\n",
        "\n",
        "small_validation_dataloader = torch.utils.data.DataLoader(validation_dataset, batch_size = hparams_class['val_batch_size'], shuffle=True,drop_last=True)\n",
        "\n",
        "\n",
        "\n",
        "\n",
        "crit = nn.CrossEntropyLoss(reduction=\"sum\")  #nn.BCELoss()\n",
        "\n",
        "\n",
        "optim1 = optim.Adam(model_scratch.parameters(), lr = hparams['learning_rate']) #From scratch same lr\n",
        "optim2 = optim.Adam(model_pretrained1.parameters(), lr = hparams['learning_rate']) #From encoder weights same lr\n",
        "optim3 = optim.Adam([{\"params\": model_pretrained2.feature_extractor.parameters(), \"lr\": hparams['learning_rate']/100}, \n",
        "                     {\"params\": model_pretrained2.classifier.parameters(), \"lr\": hparams['learning_rate']}],)  #From encoder weights diferent lr\n",
        "\n",
        "\n",
        "\n",
        "watch_img(10, small_train_dataloader)\n",
        "print(\"Thus we have {} full batches of train and {} full batches of validation\".format(len(small_train_dataloader),len(small_validation_dataloader )))"
      ],
      "execution_count": 0,
      "outputs": [
        {
          "output_type": "stream",
          "text": [
            "Thus we have 2 full batches of train and 60 full batches of validation\n"
          ],
          "name": "stdout"
        },
        {
          "output_type": "display_data",
          "data": {
            "image/png": "[encoded data removed]",
            "text/plain": [
              "<Figure size 1800x288 with 10 Axes>"
            ]
          },
          "metadata": {
            "tags": []
          }
        }
      ]
    },
    {
      "cell_type": "code",
      "metadata": {
        "id": "iziCr9N3HCL_",
        "colab_type": "code",
        "outputId": "554e048f-8048-47f8-a471-6e9d5245d480",
        "colab": {
          "base_uri": "https://localhost:8080/",
          "height": 1000
        }
      },
      "source": [
        "device = torch.device( \"cuda\" if torch.cuda.is_available() else \"cpu\" )\n",
        "print(device)\n",
        "\n",
        "model1 = train_classifier(hparams_class, model_scratch, optim1, crit, small_train_dataloader, small_validation_dataloader, device, name=\"Scratch\")\n",
        "model2 = train_classifier(hparams_class, model_pretrained1, optim2, crit, small_train_dataloader, small_validation_dataloader, device, name=\"Same lr\")\n",
        "model3 = train_classifier(hparams_class, model_pretrained2, optim3, crit, small_train_dataloader, small_validation_dataloader, device, name=\"Diff lr\")\n",
        "\n"
      ],
      "execution_count": 0,
      "outputs": [
        {
          "output_type": "stream",
          "text": [
            "cuda\n",
            "Epoch 1, Loss: 2.297370, Acc_val: 18.5%,  Scratch\n",
            "Epoch 2, Loss: 2.291127, Acc_val: 18.4%,  Scratch\n",
            "Epoch 3, Loss: 2.285445, Acc_val: 17.4%,  Scratch\n",
            "Epoch 4, Loss: 2.280436, Acc_val: 13.0%,  Scratch\n",
            "Epoch 5, Loss: 2.275028, Acc_val: 12.6%,  Scratch\n",
            "Epoch 6, Loss: 2.272541, Acc_val: 14.2%,  Scratch\n",
            "Epoch 7, Loss: 2.271049, Acc_val: 18.8%,  Scratch\n",
            "Epoch 8, Loss: 2.264789, Acc_val: 21.8%,  Scratch\n",
            "Epoch 9, Loss: 2.252430, Acc_val: 24.4%,  Scratch\n",
            "Epoch 10, Loss: 2.210282, Acc_val: 26.8%,  Scratch\n",
            "Epoch 11, Loss: 2.162772, Acc_val: 28.8%,  Scratch\n",
            "Epoch 12, Loss: 2.109566, Acc_val: 30.8%,  Scratch\n",
            "Epoch 13, Loss: 2.034227, Acc_val: 34.4%,  Scratch\n",
            "Epoch 14, Loss: 1.951550, Acc_val: 38.1%,  Scratch\n",
            "Epoch 15, Loss: 1.851979, Acc_val: 41.3%,  Scratch\n",
            "Epoch 16, Loss: 1.751010, Acc_val: 43.9%,  Scratch\n",
            "Epoch 17, Loss: 1.650160, Acc_val: 45.9%,  Scratch\n",
            "Epoch 18, Loss: 1.543174, Acc_val: 47.7%,  Scratch\n",
            "Epoch 19, Loss: 1.419317, Acc_val: 51.2%,  Scratch\n",
            "Epoch 20, Loss: 1.323886, Acc_val: 54.7%,  Scratch\n",
            "Epoch 21, Loss: 1.232268, Acc_val: 60.1%,  Scratch\n",
            "Epoch 22, Loss: 1.166764, Acc_val: 64.1%,  Scratch\n",
            "Epoch 23, Loss: 1.101512, Acc_val: 65.6%,  Scratch\n",
            "Epoch 24, Loss: 1.091403, Acc_val: 65.4%,  Scratch\n",
            "Epoch 25, Loss: 1.119580, Acc_val: 66.1%,  Scratch\n",
            "Epoch 26, Loss: 1.054483, Acc_val: 67.1%,  Scratch\n",
            "Epoch 27, Loss: 0.997375, Acc_val: 68.9%,  Scratch\n",
            "Epoch 28, Loss: 0.996706, Acc_val: 69.7%,  Scratch\n",
            "Epoch 29, Loss: 1.059162, Acc_val: 68.5%,  Scratch\n",
            "Epoch 30, Loss: 1.086270, Acc_val: 68.1%,  Scratch\n",
            "-------------------------------------------------------\n",
            "Epoch 1, Loss: 2.809319, Acc_val: 21.8%,  Same lr\n",
            "Epoch 2, Loss: 2.271691, Acc_val: 28.7%,  Same lr\n",
            "Epoch 3, Loss: 2.059425, Acc_val: 32.9%,  Same lr\n",
            "Epoch 4, Loss: 1.943955, Acc_val: 35.7%,  Same lr\n",
            "Epoch 5, Loss: 1.837456, Acc_val: 40.8%,  Same lr\n",
            "Epoch 6, Loss: 1.735477, Acc_val: 47.1%,  Same lr\n",
            "Epoch 7, Loss: 1.666797, Acc_val: 51.6%,  Same lr\n",
            "Epoch 8, Loss: 1.599958, Acc_val: 54.8%,  Same lr\n",
            "Epoch 9, Loss: 1.517579, Acc_val: 56.9%,  Same lr\n",
            "Epoch 10, Loss: 1.418588, Acc_val: 59.5%,  Same lr\n",
            "Epoch 11, Loss: 1.342840, Acc_val: 61.6%,  Same lr\n",
            "Epoch 12, Loss: 1.276690, Acc_val: 63.3%,  Same lr\n",
            "Epoch 13, Loss: 1.230315, Acc_val: 64.9%,  Same lr\n",
            "Epoch 14, Loss: 1.204576, Acc_val: 65.7%,  Same lr\n",
            "Epoch 15, Loss: 1.187926, Acc_val: 66.7%,  Same lr\n",
            "Epoch 16, Loss: 1.184947, Acc_val: 66.8%,  Same lr\n",
            "Epoch 17, Loss: 1.185304, Acc_val: 67.3%,  Same lr\n",
            "Epoch 18, Loss: 1.190792, Acc_val: 68.0%,  Same lr\n",
            "Epoch 19, Loss: 1.191286, Acc_val: 68.4%,  Same lr\n",
            "Epoch 20, Loss: 1.185254, Acc_val: 68.7%,  Same lr\n",
            "Epoch 21, Loss: 1.183581, Acc_val: 69.5%,  Same lr\n",
            "Epoch 22, Loss: 1.185086, Acc_val: 69.7%,  Same lr\n",
            "Epoch 23, Loss: 1.190151, Acc_val: 70.0%,  Same lr\n",
            "Epoch 24, Loss: 1.198338, Acc_val: 70.3%,  Same lr\n",
            "Epoch 25, Loss: 1.206050, Acc_val: 70.7%,  Same lr\n",
            "Epoch 26, Loss: 1.213366, Acc_val: 70.9%,  Same lr\n",
            "Epoch 27, Loss: 1.220147, Acc_val: 71.0%,  Same lr\n",
            "Epoch 28, Loss: 1.225601, Acc_val: 71.2%,  Same lr\n",
            "Epoch 29, Loss: 1.230799, Acc_val: 71.3%,  Same lr\n",
            "Epoch 30, Loss: 1.237292, Acc_val: 71.2%,  Same lr\n",
            "-------------------------------------------------------\n",
            "Epoch 1, Loss: 2.846939, Acc_val: 13.2%,  Diff lr\n",
            "Epoch 2, Loss: 2.514268, Acc_val: 19.3%,  Diff lr\n",
            "Epoch 3, Loss: 2.260883, Acc_val: 27.1%,  Diff lr\n",
            "Epoch 4, Loss: 2.058249, Acc_val: 34.2%,  Diff lr\n",
            "Epoch 5, Loss: 1.895354, Acc_val: 40.6%,  Diff lr\n",
            "Epoch 6, Loss: 1.755656, Acc_val: 46.2%,  Diff lr\n",
            "Epoch 7, Loss: 1.636288, Acc_val: 50.7%,  Diff lr\n",
            "Epoch 8, Loss: 1.535566, Acc_val: 54.3%,  Diff lr\n",
            "Epoch 9, Loss: 1.453996, Acc_val: 56.9%,  Diff lr\n",
            "Epoch 10, Loss: 1.384456, Acc_val: 58.7%,  Diff lr\n",
            "Epoch 11, Loss: 1.326634, Acc_val: 60.5%,  Diff lr\n",
            "Epoch 12, Loss: 1.279574, Acc_val: 61.8%,  Diff lr\n",
            "Epoch 13, Loss: 1.239673, Acc_val: 62.9%,  Diff lr\n",
            "Epoch 14, Loss: 1.208840, Acc_val: 63.9%,  Diff lr\n",
            "Epoch 15, Loss: 1.184018, Acc_val: 65.0%,  Diff lr\n",
            "Epoch 16, Loss: 1.166984, Acc_val: 65.7%,  Diff lr\n",
            "Epoch 17, Loss: 1.154669, Acc_val: 66.3%,  Diff lr\n",
            "Epoch 18, Loss: 1.146150, Acc_val: 66.9%,  Diff lr\n",
            "Epoch 19, Loss: 1.140148, Acc_val: 67.3%,  Diff lr\n",
            "Epoch 20, Loss: 1.135965, Acc_val: 67.7%,  Diff lr\n",
            "Epoch 21, Loss: 1.132518, Acc_val: 68.2%,  Diff lr\n",
            "Epoch 22, Loss: 1.130343, Acc_val: 68.8%,  Diff lr\n",
            "Epoch 23, Loss: 1.131477, Acc_val: 69.0%,  Diff lr\n",
            "Epoch 24, Loss: 1.131565, Acc_val: 69.3%,  Diff lr\n",
            "Epoch 25, Loss: 1.131663, Acc_val: 69.6%,  Diff lr\n",
            "Epoch 26, Loss: 1.132526, Acc_val: 69.7%,  Diff lr\n",
            "Epoch 27, Loss: 1.133912, Acc_val: 69.8%,  Diff lr\n",
            "Epoch 28, Loss: 1.134533, Acc_val: 70.0%,  Diff lr\n",
            "Epoch 29, Loss: 1.134548, Acc_val: 70.1%,  Diff lr\n",
            "Epoch 30, Loss: 1.135635, Acc_val: 70.3%,  Diff lr\n",
            "-------------------------------------------------------\n"
          ],
          "name": "stdout"
        }
      ]
    },
    {
      "cell_type": "code",
      "metadata": {
        "id": "o5DQ5DRYPrrD",
        "colab_type": "code",
        "outputId": "c64d68b2-56a6-45a9-95af-935d70426739",
        "colab": {
          "base_uri": "https://localhost:8080/",
          "height": 826
        }
      },
      "source": [
        "\n",
        "#Loss train Plot\n",
        "plt.figure()\n",
        "plt.title(\"Loss Train\")\n",
        "plt.plot(model1[\"epoch_num\"], model1[\"epoch_train_loss\"], label=\"Scratch\")\n",
        "plt.plot(model2[\"epoch_num\"], model2[\"epoch_train_loss\"], label=\"Same lr\")\n",
        "plt.plot(model3[\"epoch_num\"], model3[\"epoch_train_loss\"], label=\"Diff lr\")\n",
        "plt.legend()\n",
        "\n",
        "#Loss Validation Plot\n",
        "plt.figure()\n",
        "plt.title(\"Loss Validation\")\n",
        "plt.plot(model1[\"epoch_num\"], model1[\"epoch_val_loss\"], label=\"Scratch\")\n",
        "plt.plot(model2[\"epoch_num\"], model2[\"epoch_val_loss\"], label=\"Same lr\")\n",
        "plt.plot(model3[\"epoch_num\"], model3[\"epoch_val_loss\"], label=\"Diff lr\")\n",
        "plt.legend()\n",
        "\n",
        "#Accuracy Validation Plot\n",
        "plt.figure()\n",
        "plt.title(\"Accuracy Validation\")\n",
        "plt.plot(model1[\"epoch_num\"], model1[\"epoch_val_acc\"]*100, label=\"Scratch\")\n",
        "plt.plot(model2[\"epoch_num\"], model2[\"epoch_val_acc\"]*100, label=\"Same lr\")\n",
        "plt.plot(model3[\"epoch_num\"], model3[\"epoch_val_acc\"]*100, label=\"Diff lr\")\n",
        "plt.legend()\n",
        "\n",
        "\n"
      ],
      "execution_count": 0,
      "outputs": [
        {
          "output_type": "execute_result",
          "data": {
            "text/plain": [
              "<matplotlib.legend.Legend at 0x7f4b5a39e5f8>"
            ]
          },
          "metadata": {
            "tags": []
          },
          "execution_count": 25
        },
        {
          "output_type": "display_data",
          "data": {
            "image/png": "[encoded data removed]",
            "text/plain": [
              "<Figure size 432x288 with 1 Axes>"
            ]
          },
          "metadata": {
            "tags": []
          }
        },
        {
          "output_type": "display_data",
          "data": {
            "image/png": "[encoded data removed]",
            "text/plain": [
              "<Figure size 432x288 with 1 Axes>"
            ]
          },
          "metadata": {
            "tags": []
          }
        },
        {
          "output_type": "display_data",
          "data": {
            "image/png": "[encoded data removed]",
            "text/plain": [
              "<Figure size 432x288 with 1 Axes>"
            ]
          },
          "metadata": {
            "tags": []
          }
        }
      ]
    },
    {
      "cell_type": "code",
      "metadata": {
        "id": "yTMM6VCguZrW",
        "colab_type": "code",
        "colab": {}
      },
      "source": [
        ""
      ],
      "execution_count": 0,
      "outputs": []
    }
  ]
}
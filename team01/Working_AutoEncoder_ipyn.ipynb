{
  "nbformat": 4,
  "nbformat_minor": 0,
  "metadata": {
    "colab": {
      "name": "Copia de Working AutoEncoder.ipyn",
      "provenance": [],
      "collapsed_sections": []
    },
    "kernelspec": {
      "name": "python3",
      "display_name": "Python 3"
    },
    "accelerator": "GPU"
  },
  "cells": [
    {
      "cell_type": "markdown",
      "metadata": {
        "id": "5KEk5hu7BrSr",
        "colab_type": "text"
      },
      "source": [
        "\n",
        "Ejercicio 1:\n",
        "\n",
        "Load MNIST train and test sets. Split the original training data into 95% training and 5% validation data.\n",
        "Implement a convolutional autoencoder (with separate Encoder and Decoder modules). DONE\n",
        "\n",
        "Train the convolutional autoencoder, with different bottleneck sizes. Plot the train and validation loss curves of all autoencoders in the same figure. TODO\n",
        "\n",
        "Compute the avg. image reconstruction error (MSE) of the trained models on the MNIST validation and test sets. Show the results in a table, including #params of each model. TODO\n",
        "\n",
        "Select one of the autoencoders and feed it 5 random MNIST images from the test set. Show them along with their reconstructions. ALMOST DONE\n",
        "\n",
        "Generate 5 new images by injecting random values as input to the decoder. Show them. GOTTA DO THINGS BEFORE\n",
        "\n"
      ]
    },
    {
      "cell_type": "code",
      "metadata": {
        "id": "XTT8RASHysZv",
        "colab_type": "code",
        "colab": {}
      },
      "source": [
        "# Necessary imports, if we don't use them we'll kick them out\n",
        "\n",
        "import numpy as np\n",
        "#We'll make it reproducible by using this seed\n",
        "np.random.seed(1)\n",
        "import torch\n",
        "import torch.optim as optim\n",
        "torch.manual_seed(1)\n",
        "import torch.nn as nn\n",
        "import torch.nn.functional as F\n",
        "if torch.cuda.is_available():\n",
        "  torch.cuda.manual_seed_all(1)\n",
        "from torchvision import datasets, transforms\n",
        "import matplotlib\n",
        "%matplotlib inline\n",
        "import matplotlib.pyplot as plt"
      ],
      "execution_count": 0,
      "outputs": []
    },
    {
      "cell_type": "code",
      "metadata": {
        "id": "BamL_wBRzAgn",
        "colab_type": "code",
        "outputId": "40e49393-cdd8-4631-d0dc-a80fc36c3e3e",
        "colab": {
          "base_uri": "https://localhost:8080/",
          "height": 35
        }
      },
      "source": [
        "# Let's define some hyper-parameters that will be changed\n",
        "hparams = {\n",
        "    'batch_size':64,\n",
        "    'num_epochs':10,\n",
        "    'val_batch_size':64,\n",
        "    'test_batch_size':64,\n",
        "    'hidden_size':128,\n",
        "    'num_classes':10,\n",
        "    'num_inputs':784,\n",
        "    'learning_rate':1e-3,\n",
        "    'log_interval':100,\n",
        "}\n",
        "\n",
        "mnist_trainset = datasets.MNIST('data', train=True, download=True,\n",
        "                                transform=transforms.Compose([\n",
        "                                    transforms.ToTensor(),\n",
        "                                    transforms.Normalize((0.1307,), (0.3081,))\n",
        "                                ]))\n",
        "mnist_testset = datasets.MNIST('data', train=False, \n",
        "                               transform=transforms.Compose([\n",
        "                                   transforms.ToTensor(),\n",
        "                                   transforms.Normalize((0.1307,), (0.3081,))\n",
        "                               ]))\n",
        "\n",
        "length_train = len(mnist_trainset)\n",
        "\n",
        "#Split the training into validation and training\n",
        "train_dataset, validation_dataset = torch.utils.data.random_split(mnist_trainset, [int(0.95*length_train), int(0.05*length_train)])\n",
        "\n",
        "\n",
        "# The argument \"drop_last=True\" is given in order to ensure that there won't be a last batch that is not full\n",
        "train_loader = torch.utils.data.DataLoader(\n",
        "    train_dataset,\n",
        "    batch_size=hparams['batch_size'], \n",
        "    shuffle=True,drop_last=True) #Probar si peta sin el drop_last pero no es prioritario\n",
        "\n",
        "val_loader = torch.utils.data.DataLoader(validation_dataset,\n",
        "                                         batch_size=hparams['val_batch_size'], \n",
        "                                         shuffle=True,drop_last=True)\n",
        "\n",
        "test_loader = torch.utils.data.DataLoader(\n",
        "    mnist_testset,\n",
        "    batch_size=hparams['test_batch_size'], \n",
        "    shuffle=False,drop_last=True)\n",
        "print(\"Thus we have {} full batches of train and {} full batches of validation\".format(len(train_loader),len(val_loader)))"
      ],
      "execution_count": 0,
      "outputs": [
        {
          "output_type": "stream",
          "text": [
            "Thus we have 890 full batches of train and 46 full batches of validation\n"
          ],
          "name": "stdout"
        }
      ]
    },
    {
      "cell_type": "markdown",
      "metadata": {
        "id": "geOzlhtIDWzE",
        "colab_type": "text"
      },
      "source": [
        "Visualization of the data"
      ]
    },
    {
      "cell_type": "code",
      "metadata": {
        "id": "7IuBeKciDV-n",
        "colab_type": "code",
        "outputId": "cde5bd4c-dbc8-46b5-ccaa-f7e105dba069",
        "colab": {
          "base_uri": "https://localhost:8080/",
          "height": 695
        }
      },
      "source": [
        "# Obtain a batch\n",
        "for i in range(6):\n",
        "  iterator = iter(train_loader)\n",
        "  images, labels = iterator.next()\n",
        "  # We have to transform the image from tensor to numpy\n",
        "  images = images.numpy()\n",
        "\n",
        "  # Get first image of the batch\n",
        "  digit = np.squeeze(images[i])\n",
        "\n",
        "  fig = plt.figure(figsize = (5,5))\n",
        "  ax = fig.add_subplot(3,2,i+1)\n",
        "  ax.imshow(digit, cmap = 'gray')\n"
      ],
      "execution_count": 0,
      "outputs": [
        {
          "output_type": "display_data",
          "data": {
            "image/png": "[encoded data removed]",
            "text/plain": [
              "<Figure size 360x360 with 1 Axes>"
            ]
          },
          "metadata": {
            "tags": []
          }
        },
        {
          "output_type": "display_data",
          "data": {
            "image/png": "[encoded data removed]",
            "text/plain": [
              "<Figure size 360x360 with 1 Axes>"
            ]
          },
          "metadata": {
            "tags": []
          }
        },
        {
          "output_type": "display_data",
          "data": {
            "image/png": "[encoded data removed]",
            "text/plain": [
              "<Figure size 360x360 with 1 Axes>"
            ]
          },
          "metadata": {
            "tags": []
          }
        },
        {
          "output_type": "display_data",
          "data": {
            "image/png": "[encoded data removed]",
            "text/plain": [
              "<Figure size 360x360 with 1 Axes>"
            ]
          },
          "metadata": {
            "tags": []
          }
        },
        {
          "output_type": "display_data",
          "data": {
            "image/png": "[encoded data removed]",
            "text/plain": [
              "<Figure size 360x360 with 1 Axes>"
            ]
          },
          "metadata": {
            "tags": []
          }
        },
        {
          "output_type": "display_data",
          "data": {
            "image/png": "[encoded data removed]",
            "text/plain": [
              "<Figure size 360x360 with 1 Axes>"
            ]
          },
          "metadata": {
            "tags": []
          }
        }
      ]
    },
    {
      "cell_type": "code",
      "metadata": {
        "id": "cz5vJtcyRVCr",
        "colab_type": "code",
        "colab": {}
      },
      "source": [
        "class Encoder(nn.Module):\n",
        "   ''' \n",
        "   This the encoder part of CAE\n",
        "   '''\n",
        "\n",
        "   def __init__(self):\n",
        "     super().__init__()\n",
        "\n",
        "     self.conv1 = nn.Conv2d(1,16,3,padding=1)\n",
        "     self.pool  = nn.MaxPool2d(2,2)\n",
        "     self.conv2 = nn.Conv2d(16,4,3,padding=1)\n",
        "\n",
        "   def forward(self,x):\n",
        "      ## encode ##\n",
        "      # add hidden layers with relu activation function\n",
        "      # and maxpooling after\n",
        "      x = F.relu(self.conv1(x))\n",
        "      x = self.pool(x)\n",
        "      # add second hidden layer\n",
        "      x = F.relu(self.conv2(x))\n",
        "      x = self.pool(x)  # compressed representation\n",
        "\n",
        "      return x\n",
        "\n",
        "class Decoder(nn.Module):\n",
        "   ''' \n",
        "   This the decoder part of CAE\n",
        "   '''\n",
        "\n",
        "   def __init__(self):\n",
        "     super().__init__()\n",
        "\n",
        "     ## decoder layers ##\n",
        "     ## a kernel of 2 and a stride of 2 will increase the spatial dims by 2\n",
        "     self.t_conv1 = nn.ConvTranspose2d(4, 16, 2, stride=2)\n",
        "     self.t_conv2 = nn.ConvTranspose2d(16, 1, 2, stride=2)\n",
        "\n",
        "   def forward(self,x):\n",
        "     ## decode ##\n",
        "     # add transpose conv layers, with relu activation function\n",
        "     x = F.relu(self.t_conv1(x))\n",
        "     # output layer (with sigmoid for scaling from 0 to 1)\n",
        "     x = F.sigmoid(self.t_conv2(x))\n",
        "            \n",
        "     return x\n",
        "\n",
        "class CAE(nn.Module):\n",
        "  '''\n",
        "  This takes both encoder and decoder into the same network\n",
        "  '''\n",
        "\n",
        "  def __init__(self, enc, dec):\n",
        "    super().__init__()\n",
        "\n",
        "    self.encoder = enc\n",
        "    self.decoder = dec\n",
        "\n",
        "  def forward(self,x):\n",
        "    #encode\n",
        "    x = self.encoder(x)\n",
        "    predicted = self.decoder(x)\n",
        "\n",
        "    return predicted\n",
        "      "
      ],
      "execution_count": 0,
      "outputs": []
    },
    {
      "cell_type": "markdown",
      "metadata": {
        "id": "LO9z0o9BWFyy",
        "colab_type": "text"
      },
      "source": [
        ""
      ]
    },
    {
      "cell_type": "code",
      "metadata": {
        "id": "72aVem2pWGrL",
        "colab_type": "code",
        "colab": {}
      },
      "source": [
        "encoder = Encoder()\n",
        "decoder = Decoder()\n",
        "model = CAE(encoder,decoder)\n",
        "\n"
      ],
      "execution_count": 0,
      "outputs": []
    },
    {
      "cell_type": "markdown",
      "metadata": {
        "id": "NfR6Jm2VQN0L",
        "colab_type": "text"
      },
      "source": [
        "# Now we have to train the network for a number of epochs\n",
        "In order to make this in a propper manner we define a train() function"
      ]
    },
    {
      "cell_type": "code",
      "metadata": {
        "id": "R-ayutM1QYyZ",
        "colab_type": "code",
        "colab": {}
      },
      "source": [
        "def train(model, num_epochs):\n",
        "  # Prepare the GPU and the model to start training\n",
        "  device = torch.device(\"cuda:0\" if torch.cuda.is_available() else \"cpu\")\n",
        "  model.train()\n",
        "  model.to(device)\n",
        "  # First thing is first, specify loss function and optimizer criterion\n",
        "  # The professor said we should used Mean Square Error\n",
        "  # From the slides, ADAM was the best optimizer thus:\n",
        "  costFunc = nn.MSELoss()\n",
        "  optimizer = optim.Adam(model.parameters(), lr = hparams['learning_rate']) # learning rate chosen at random\n",
        "  \n",
        "  for epoch in range(num_epochs):\n",
        "    # We should track the loss of the model\n",
        "    closs = 0\n",
        "  #  total = 0\n",
        "    for batch_idx, (data,_) in enumerate(train_loader):\n",
        "      # Put data and label into GPU\n",
        "      data = data.to(device)\n",
        "      # What does the model say? Pix pix pix pix pix pix pix pix\n",
        "      prediction = model(data)\n",
        "      # Compute loss\n",
        "      loss = costFunc(prediction,data)\n",
        "      # Save loss to plot it later\n",
        "      closs += loss.item()*data.size(0) #this data.size(0) is the train_batch_size\n",
        "      # Careful with the drop_last\n",
        "\n",
        "      # Name a more iconic trio\n",
        "      optimizer.zero_grad()\n",
        "      loss.backward()\n",
        "      optimizer.step()\n",
        "\n",
        "\n",
        "    print('Epoch: {} \\tTraining Loss: {:.6f}'.format(epoch,closs/len(train_loader)))  \n",
        "    # Let's check accuracy with our validation set\n",
        "  #  correctHits = 0\n",
        "\n",
        "  # for index,(data,_)  in enumerate(val_loader):\n",
        "  #   data = data.to(device)\n",
        "  #   prediction = model(data)\n",
        "  #   _,prediction = torch.max(prediction.data,1) #returns max as well as its index\n",
        "  #   total += label.size(0)\n",
        "  #   print('comparison number {} with prediction is {} and validation label is {}'.format(jj,prediction,label))\n",
        "  #   correctHits += (prediction==label).sum().item()\n",
        "  # print('Accuracy on epoch ',epoch+1,'= ',str((correctHits/total)*100))\n"
      ],
      "execution_count": 0,
      "outputs": []
    },
    {
      "cell_type": "code",
      "metadata": {
        "id": "sCOV0afqSzJx",
        "colab_type": "code",
        "outputId": "d1966d7d-0ae3-469e-c8a5-316062b8030b",
        "colab": {
          "base_uri": "https://localhost:8080/",
          "height": 329
        }
      },
      "source": [
        "encoder = Encoder()\n",
        "decoder = Decoder()\n",
        "model = CAE(encoder,decoder)\n",
        "\n",
        "train(model,15)"
      ],
      "execution_count": 0,
      "outputs": [
        {
          "output_type": "stream",
          "text": [
            "/usr/local/lib/python3.6/dist-packages/torch/nn/functional.py:1351: UserWarning: nn.functional.sigmoid is deprecated. Use torch.sigmoid instead.\n",
            "  warnings.warn(\"nn.functional.sigmoid is deprecated. Use torch.sigmoid instead.\")\n"
          ],
          "name": "stderr"
        },
        {
          "output_type": "stream",
          "text": [
            "Epoch: 0 \tTraining Loss: 37.367527\n",
            "Epoch: 1 \tTraining Loss: 32.826552\n",
            "Epoch: 2 \tTraining Loss: 32.535388\n",
            "Epoch: 3 \tTraining Loss: 32.348144\n",
            "Epoch: 4 \tTraining Loss: 32.226797\n",
            "Epoch: 5 \tTraining Loss: 32.139323\n",
            "Epoch: 6 \tTraining Loss: 32.080557\n",
            "Epoch: 7 \tTraining Loss: 32.030658\n",
            "Epoch: 8 \tTraining Loss: 31.989684\n",
            "Epoch: 9 \tTraining Loss: 31.960007\n",
            "Epoch: 10 \tTraining Loss: 31.936821\n",
            "Epoch: 11 \tTraining Loss: 31.918170\n",
            "Epoch: 12 \tTraining Loss: 31.897250\n",
            "Epoch: 13 \tTraining Loss: 31.880843\n",
            "Epoch: 14 \tTraining Loss: 31.867035\n"
          ],
          "name": "stdout"
        }
      ]
    },
    {
      "cell_type": "code",
      "metadata": {
        "id": "91FPlSgW8fFw",
        "colab_type": "code",
        "colab": {}
      },
      "source": [
        "# def save_checkpoint(state, filename=PATH + '/checkpoint.pth.tar'):\n",
        "#     \"\"\"Save checkpoint if a new best is achieved\"\"\"\n",
        "#     if is_best:\n",
        "#         print (\"=> Saving a new best\")\n",
        "#         torch.save(state, filename)  # save checkpoint\n",
        "\n",
        "# torch.save()"
      ],
      "execution_count": 0,
      "outputs": []
    },
    {
      "cell_type": "code",
      "metadata": {
        "id": "UWAMYbdDYGSo",
        "colab_type": "code",
        "outputId": "3b6a3c6a-3b65-4f68-a924-3667b5fa61d2",
        "colab": {
          "base_uri": "https://localhost:8080/",
          "height": 309
        }
      },
      "source": [
        "# obtain one batch of test images\n",
        "dataiter = iter(test_loader)\n",
        "images, _ = dataiter.next()\n",
        "\n",
        "model.eval()\n",
        "model.to(\"cpu\")\n",
        "\n",
        "# What does the model output?\n",
        "prediction = model(images)\n",
        "\n",
        "# prep images for display\n",
        "images = images.numpy()\n",
        "\n",
        "# output is resized into a batch of images\n",
        "prediction = prediction.view(hparams['test_batch_size'], 1, 28, 28)\n",
        "# use detach when it's an output that requires_grad and transform to numpy\n",
        "prediction = prediction.detach().numpy()\n",
        "\n",
        "# plot the first ten input images and then reconstructed images\n",
        "fig, axes = plt.subplots(nrows=2, ncols=10, sharex=True, sharey=True, figsize=(25,4))\n",
        "\n",
        "# input images on top row, reconstructions on bottom\n",
        "for images, row in zip([images, prediction], axes):\n",
        "    for img, ax in zip(images, row):\n",
        "        ax.imshow(np.squeeze(img), cmap='gray')\n",
        "        ax.get_xaxis().set_visible(False)\n",
        "        ax.get_yaxis().set_visible(False)"
      ],
      "execution_count": 0,
      "outputs": [
        {
          "output_type": "stream",
          "text": [
            "/usr/local/lib/python3.6/dist-packages/torch/nn/functional.py:1351: UserWarning: nn.functional.sigmoid is deprecated. Use torch.sigmoid instead.\n",
            "  warnings.warn(\"nn.functional.sigmoid is deprecated. Use torch.sigmoid instead.\")\n"
          ],
          "name": "stderr"
        },
        {
          "output_type": "display_data",
          "data": {
            "image/png": "[encoded data removed]",
            "text/plain": [
              "<Figure size 1800x288 with 20 Axes>"
            ]
          },
          "metadata": {
            "tags": []
          }
        }
      ]
    },
    {
      "cell_type": "markdown",
      "metadata": {
        "id": "uieB4GacUthO",
        "colab_type": "text"
      },
      "source": [
        "I will leave this here as a reference but won't be used in the future as I have already detached the encoder from the decoder."
      ]
    },
    {
      "cell_type": "code",
      "metadata": {
        "id": "ami6FS92Ekje",
        "colab_type": "code",
        "outputId": "35a17c9b-397b-4e4b-8125-d140629bd880",
        "colab": {
          "base_uri": "https://localhost:8080/",
          "height": 348
        }
      },
      "source": [
        "# define the NN architecture\n",
        "class ConvAutoEncoder(nn.Module):\n",
        "    def __init__(self):\n",
        "        super(ConvAutoEncoder, self).__init__()\n",
        "        \n",
        "        # We will have to separate this into encoder/decoder but so far this is\n",
        "        # good to go in order to have an idea of what it will look like.\n",
        "        self.encoder = nn.Sequential(\n",
        "            # We go from 1 channel (gray images) to 16 \n",
        "            nn.Conv2d(1, 16, 3, padding=1),\n",
        "            nn.ReLU(True),\n",
        "            nn.MaxPool2d(2, 2),\n",
        "            # We start to shrink down again from 16 to 4\n",
        "            nn.Conv2d(16, 4, 3, padding=1),\n",
        "            nn.ReLU(True),\n",
        "            # This is the bottleneck\n",
        "            nn.MaxPool2d(2, 2)\n",
        "        )\n",
        "        \n",
        "        self.decoder = nn.Sequential(\n",
        "            # Here we will do the inverse function to try and get the same image\n",
        "            # thus encoding and decoding -> Auto encoding\n",
        "            nn.ConvTranspose2d(4, 16, 2, stride=2),\n",
        "            nn.ReLU(True),\n",
        "            nn.ConvTranspose2d(16, 1, 2, stride=2),\n",
        "            nn.Sigmoid()\n",
        "        )\n",
        "\n",
        "    def forward(self, x):\n",
        "        \n",
        "        x = self.encoder(x)\n",
        "        x = self.decoder(x)\n",
        "        return x\n",
        "\n",
        "\n",
        "\n",
        "# initialize the NN\n",
        "model = ConvAutoEncoder()\n",
        "print(\"This is the simplest our model will get: \\n {}\".format(model))"
      ],
      "execution_count": 0,
      "outputs": [
        {
          "output_type": "stream",
          "text": [
            "This is the simplest our model will get: \n",
            " ConvAutoEncoder(\n",
            "  (encoder): Sequential(\n",
            "    (0): Conv2d(1, 16, kernel_size=(3, 3), stride=(1, 1), padding=(1, 1))\n",
            "    (1): ReLU(inplace=True)\n",
            "    (2): MaxPool2d(kernel_size=2, stride=2, padding=0, dilation=1, ceil_mode=False)\n",
            "    (3): Conv2d(16, 4, kernel_size=(3, 3), stride=(1, 1), padding=(1, 1))\n",
            "    (4): ReLU(inplace=True)\n",
            "    (5): MaxPool2d(kernel_size=2, stride=2, padding=0, dilation=1, ceil_mode=False)\n",
            "  )\n",
            "  (decoder): Sequential(\n",
            "    (0): ConvTranspose2d(4, 16, kernel_size=(2, 2), stride=(2, 2))\n",
            "    (1): ReLU(inplace=True)\n",
            "    (2): ConvTranspose2d(16, 1, kernel_size=(2, 2), stride=(2, 2))\n",
            "    (3): Sigmoid()\n",
            "  )\n",
            "  (conv1): Conv2d(1, 16, kernel_size=(3, 3), stride=(1, 1), padding=(1, 1))\n",
            ")\n"
          ],
          "name": "stdout"
        }
      ]
    }
  ]
}
{
  "nbformat": 4,
  "nbformat_minor": 0,
  "metadata": {
    "colab": {
      "name": "Team06.ipynb",
      "provenance": [],
      "collapsed_sections": []
    },
    "kernelspec": {
      "name": "python3",
      "display_name": "Python 3"
    },
    "accelerator": "GPU"
  },
  "cells": [
    {
      "cell_type": "markdown",
      "metadata": {
        "id": "ZegSyyHIKY5y",
        "colab_type": "text"
      },
      "source": [
        "#Project Deep learning Team06:##\n",
        "  BEAURAIN Vincent \\\n",
        "  LISUMBU Joël \\\n",
        "  PRADELS Léo Muriel \\\n",
        "  RANNOU Nicolas Jean"
      ]
    },
    {
      "cell_type": "markdown",
      "metadata": {
        "id": "UXEMd6fjMDxv",
        "colab_type": "text"
      },
      "source": [
        "#Exercise 1: Convolutional Autoencoder#\n"
      ]
    },
    {
      "cell_type": "markdown",
      "metadata": {
        "id": "xgXfCgYhMbYG",
        "colab_type": "text"
      },
      "source": [
        "Here we import all the libraries we will need."
      ]
    },
    {
      "cell_type": "code",
      "metadata": {
        "id": "yI2YUDCIMl60",
        "colab_type": "code",
        "colab": {}
      },
      "source": [
        "import numpy as np\n",
        "np.random.seed(1)\n",
        "import torch\n",
        "import torch.nn as nn\n",
        "import torch.optim as optim\n",
        "import torch.nn.functional as F\n",
        "import math\n",
        "import copy\n",
        "from torch.autograd import Variable\n",
        "from torchvision import datasets, transforms, utils\n",
        "from IPython.display import display\n",
        "from PIL import Image\n",
        "torch.manual_seed(1)\n",
        "if torch.cuda.is_available():\n",
        "  torch.cuda.manual_seed_all(1)\n",
        "import matplotlib.pyplot as plt\n",
        "import pandas as pd"
      ],
      "execution_count": 0,
      "outputs": []
    },
    {
      "cell_type": "markdown",
      "metadata": {
        "id": "cty0SenlM-mB",
        "colab_type": "text"
      },
      "source": [
        "Let's define some hyper-parameters for the train and the model. We select to work on GPU if it is available in the machine, otherwise we will run on the CPU.\n"
      ]
    },
    {
      "cell_type": "code",
      "metadata": {
        "id": "8UY29exSOCzl",
        "colab_type": "code",
        "colab": {}
      },
      "source": [
        "hparams = {\n",
        "    'batch_size':64,\n",
        "    'num_epochs':5,\n",
        "    'test_batch_size':256,\n",
        "    'hidden_size':128,\n",
        "    'learning_rate':1e-3,\n",
        "    'log_interval':100,\n",
        "}\n",
        "\n",
        "hparams['device'] = 'cuda' if torch.cuda.is_available() else 'cpu'"
      ],
      "execution_count": 0,
      "outputs": []
    },
    {
      "cell_type": "markdown",
      "metadata": {
        "id": "toHzJwqpOn4_",
        "colab_type": "text"
      },
      "source": [
        "##Exercice 1.1: Load Dataset\n",
        "We load the dataset from the MNIST dataset and we normalize it. "
      ]
    },
    {
      "cell_type": "code",
      "metadata": {
        "id": "vZ-ESSIPOu6b",
        "colab_type": "code",
        "colab": {
          "base_uri": "https://localhost:8080/",
          "height": 266
        },
        "outputId": "5b5d8f64-828c-4d44-a597-7af8c8d051e1"
      },
      "source": [
        "mnist_trainset = datasets.MNIST('data', train=True, download=True,\n",
        "                                transform=transforms.Compose([\n",
        "                                    transforms.ToTensor(),\n",
        "                                    transforms.Normalize((0.1307,), (0.3081,))                        \n",
        "                                ]))\n",
        "mnist_testset = datasets.MNIST('data', train=False, \n",
        "                               transform=transforms.Compose([\n",
        "                                   transforms.ToTensor(),\n",
        "                                   transforms.Normalize((0.1307,), (0.3081,))\n",
        "                               ]))"
      ],
      "execution_count": 3,
      "outputs": [
        {
          "output_type": "stream",
          "text": [
            "\r0it [00:00, ?it/s]"
          ],
          "name": "stderr"
        },
        {
          "output_type": "stream",
          "text": [
            "Downloading http://yann.lecun.com/exdb/mnist/train-images-idx3-ubyte.gz to data/MNIST/raw/train-images-idx3-ubyte.gz\n"
          ],
          "name": "stdout"
        },
        {
          "output_type": "stream",
          "text": [
            "9920512it [00:06, 1611770.70it/s]                            \n"
          ],
          "name": "stderr"
        },
        {
          "output_type": "stream",
          "text": [
            "Extracting data/MNIST/raw/train-images-idx3-ubyte.gz to data/MNIST/raw\n"
          ],
          "name": "stdout"
        },
        {
          "output_type": "stream",
          "text": [
            "  0%|          | 0/28881 [00:00<?, ?it/s]"
          ],
          "name": "stderr"
        },
        {
          "output_type": "stream",
          "text": [
            "Downloading http://yann.lecun.com/exdb/mnist/train-labels-idx1-ubyte.gz to data/MNIST/raw/train-labels-idx1-ubyte.gz\n"
          ],
          "name": "stdout"
        },
        {
          "output_type": "stream",
          "text": [
            "32768it [00:00, 128167.93it/s]           \n",
            "  0%|          | 0/1648877 [00:00<?, ?it/s]"
          ],
          "name": "stderr"
        },
        {
          "output_type": "stream",
          "text": [
            "Extracting data/MNIST/raw/train-labels-idx1-ubyte.gz to data/MNIST/raw\n",
            "Downloading http://yann.lecun.com/exdb/mnist/t10k-images-idx3-ubyte.gz to data/MNIST/raw/t10k-images-idx3-ubyte.gz\n"
          ],
          "name": "stdout"
        },
        {
          "output_type": "stream",
          "text": [
            "1654784it [00:00, 2128708.60it/s]                            \n",
            "0it [00:00, ?it/s]"
          ],
          "name": "stderr"
        },
        {
          "output_type": "stream",
          "text": [
            "Extracting data/MNIST/raw/t10k-images-idx3-ubyte.gz to data/MNIST/raw\n",
            "Downloading http://yann.lecun.com/exdb/mnist/t10k-labels-idx1-ubyte.gz to data/MNIST/raw/t10k-labels-idx1-ubyte.gz\n"
          ],
          "name": "stdout"
        },
        {
          "output_type": "stream",
          "text": [
            "8192it [00:00, 49439.68it/s]            \n"
          ],
          "name": "stderr"
        },
        {
          "output_type": "stream",
          "text": [
            "Extracting data/MNIST/raw/t10k-labels-idx1-ubyte.gz to data/MNIST/raw\n",
            "Processing...\n",
            "Done!\n"
          ],
          "name": "stdout"
        }
      ]
    },
    {
      "cell_type": "markdown",
      "metadata": {
        "id": "_ficutcOO9OD",
        "colab_type": "text"
      },
      "source": [
        "**Split data**: \\\n",
        "We split the dataset in 95% for training and 5% for validation. \\\n",
        "To do that we take the size of the trainset and after that we take 5% of dataset. We split the dataset\n",
        "\n"
      ]
    },
    {
      "cell_type": "code",
      "metadata": {
        "id": "lVjEIXDAPKPG",
        "colab_type": "code",
        "outputId": "3f74ec7f-7df5-47eb-a93b-04fc350bd1ea",
        "colab": {
          "base_uri": "https://localhost:8080/",
          "height": 52
        }
      },
      "source": [
        "tvdataset_length = len(mnist_trainset)\n",
        "validationset_length = int(0.05*tvdataset_length)\n",
        "[trainset,validationset]=torch.utils.data.random_split(mnist_trainset,[tvdataset_length-validationset_length,validationset_length])\n",
        "print('Validation dataset is {}% of the total length of the dataset.'.format(100*len(validationset)/len(mnist_trainset)))\n",
        "print('Training dataset is {}% of the total length of the dataset.'.format(100*len(trainset)/len(mnist_trainset)))"
      ],
      "execution_count": 4,
      "outputs": [
        {
          "output_type": "stream",
          "text": [
            "Validation dataset is 5.0% of the total length of the dataset.\n",
            "Training dataset is 95.0% of the total length of the dataset.\n"
          ],
          "name": "stdout"
        }
      ]
    },
    {
      "cell_type": "markdown",
      "metadata": {
        "id": "oCw_FrqyPbEf",
        "colab_type": "text"
      },
      "source": [
        "**Loader data**\n",
        "We load the dataset with batch size "
      ]
    },
    {
      "cell_type": "code",
      "metadata": {
        "id": "E9SY3Wd2P2as",
        "colab_type": "code",
        "colab": {}
      },
      "source": [
        "train_loader = torch.utils.data.DataLoader(\n",
        "    trainset,\n",
        "    batch_size=hparams['batch_size'], \n",
        "    shuffle=True)\n",
        "\n",
        "validation_loader = torch.utils.data.DataLoader(\n",
        "    validationset,\n",
        "    batch_size=hparams['batch_size'], \n",
        "    shuffle=True)\n",
        "\n",
        "test_loader = torch.utils.data.DataLoader(\n",
        "     mnist_testset,\n",
        "    batch_size=hparams['test_batch_size'], \n",
        "    shuffle=False)"
      ],
      "execution_count": 0,
      "outputs": []
    },
    {
      "cell_type": "markdown",
      "metadata": {
        "id": "ujmQBiU-P_24",
        "colab_type": "text"
      },
      "source": [
        "## Exercice 1.2: Implement a convolutional autoencoder (with separate Encoder and Decoder modules). ##"
      ]
    },
    {
      "cell_type": "markdown",
      "metadata": {
        "id": "TFrAUZ3I0rXu",
        "colab_type": "text"
      },
      "source": [
        "**Definition of the Class Encoder** \\\n",
        "This class have 4 layers: 2 convolutional layers and 2 linears layers. \\\n",
        "The constructor of the class take as input the size of the bottleneck. \\\n",
        "The input size is (1x28x28) \\\n",
        "The first convolutional layer has a output of size (8x14x14). \\\n",
        "The second convolutional layer has a output of size (16x5x5). \\\n",
        "The two linear layers have respectly outputs of sizes (1x180) and (1x bottleneck size)."
      ]
    },
    {
      "cell_type": "code",
      "metadata": {
        "colab_type": "code",
        "id": "5XaxxVPCYzF5",
        "colab": {}
      },
      "source": [
        "class Encoder(nn.Module):\n",
        "  def __init__(self,bottleneck):\n",
        "    super().__init__()\n",
        "    self.bottleneck = bottleneck\n",
        "    self.conv1 = nn.Sequential( \n",
        "              nn.Conv2d(1,8,3,padding=1),\n",
        "              nn.BatchNorm2d(8),\n",
        "              nn.ReLU(inplace = True),\n",
        "              nn.MaxPool2d(2),\n",
        "              nn.Dropout(0.2))\n",
        "    self.conv2 = nn.Sequential(\n",
        "              nn.Conv2d(8,16,5),\n",
        "              nn.BatchNorm2d(16),\n",
        "              nn.ReLU(inplace = True),\n",
        "              nn.MaxPool2d(2),\n",
        "              nn.Dropout(0.2)\n",
        "              )\n",
        "    self.fc = nn.Sequential(\n",
        "              nn.Linear(5*5*16,180),\n",
        "              nn.BatchNorm1d(180),\n",
        "              nn.ReLU(),\n",
        "              nn.Linear(180,self.bottleneck),\n",
        "              nn.BatchNorm1d(self.bottleneck),\n",
        "              nn.ReLU())\n",
        "  def forward(self,x):\n",
        "    x= self.conv1(x)\n",
        "    x= self.conv2(x)\n",
        "    x= self.fc(x.view(-1,5*5*16))\n",
        "    return x  "
      ],
      "execution_count": 0,
      "outputs": []
    },
    {
      "cell_type": "markdown",
      "metadata": {
        "id": "wKpWhH-p0y7X",
        "colab_type": "text"
      },
      "source": [
        "**Definition of the Class Decoder** \\\n",
        "This class have 4 layers: 2 convolutional layers and 2 linears layers. \\\n",
        "The constructor of the class take as input the size of the bottleneck. \\\n",
        "The input size is (1x bottleneck size) \\\n",
        "The two linear layers have respectly outputs of size (1x180) and (1x400).\\\n",
        "The first convolutional layer has a output of size (8x14x14). \\\n",
        "The second convolutional layer has a output of size (1x28x28). \\"
      ]
    },
    {
      "cell_type": "code",
      "metadata": {
        "colab_type": "code",
        "id": "d5HLqDbbZyv7",
        "colab": {}
      },
      "source": [
        "class Decoder(nn.Module):\n",
        "  def __init__(self,bottleneck):\n",
        "    super().__init__()\n",
        "    self.bottleneck = bottleneck\n",
        "    self.conv1 = nn.Sequential( \n",
        "          nn.UpsamplingBilinear2d(scale_factor = 2),\n",
        "          nn.ConvTranspose2d(16,8,5),\n",
        "          nn.BatchNorm2d(8),\n",
        "          nn.ReLU(),\n",
        "          nn.Dropout(0.2)\n",
        "          )\n",
        "    self.conv2 = nn.Sequential(\n",
        "          nn.UpsamplingBilinear2d(scale_factor = 2),\n",
        "          nn.ConvTranspose2d(8,1,3,padding=1),\n",
        "          nn.BatchNorm2d(1),\n",
        "          nn.Tanh(),\n",
        "          nn.Dropout(0.2)\n",
        "          )\n",
        "    self.fc = nn.Sequential(\n",
        "          nn.Linear(self.bottleneck,180),\n",
        "          nn.BatchNorm1d(180),\n",
        "          nn.ReLU(),\n",
        "          nn.Linear(180,5*5*16),\n",
        "          nn.BatchNorm1d(5*5*16),\n",
        "          nn.ReLU()\n",
        "          )\n",
        "  def forward(self,x):\n",
        "    x= self.fc(x)\n",
        "    x= self.conv1(x.view(-1, 16, 5,5))\n",
        "    x= self.conv2(x)\n",
        "    return x"
      ],
      "execution_count": 0,
      "outputs": []
    },
    {
      "cell_type": "markdown",
      "metadata": {
        "id": "RjXKNbo-2K6L",
        "colab_type": "text"
      },
      "source": [
        "**Definition of the class Autoencoder** \\\n",
        "We define the AutoEncoder class that has 2 sets of layers: the first one is the Encoder and the second one is the Decoder."
      ]
    },
    {
      "cell_type": "code",
      "metadata": {
        "id": "gQlv3B8z2RsZ",
        "colab_type": "code",
        "colab": {}
      },
      "source": [
        "class Autoencoder(nn.Module):\n",
        "    def __init__(self,bottleneck):\n",
        "      super().__init__()\n",
        "      self.bottleneck = bottleneck\n",
        "      self.encoder = Encoder(self.bottleneck)\n",
        "      self.decoder = Decoder(self.bottleneck)\n",
        "    def forward(self,x):\n",
        "      x= self.encoder(x)\n",
        "      x= self.decoder(x)\n",
        "      return x"
      ],
      "execution_count": 0,
      "outputs": []
    },
    {
      "cell_type": "markdown",
      "metadata": {
        "id": "H8EQA1d1QjR_",
        "colab_type": "text"
      },
      "source": [
        "## Exercice 1.3 & 1.4: Train the convolutional Autoencoder & Compute the avg. image reconstruction error (MSE) of the trained models on the MNIST validation and test sets"
      ]
    },
    {
      "cell_type": "markdown",
      "metadata": {
        "id": "-aeZYUpvYLr3",
        "colab_type": "text"
      },
      "source": [
        "Definition of the function *train epoch*. \\\n",
        "First we set the model on *training mode*.\\\n",
        "It train the weights of the model. It computes the loss of the train and it performs the backpropagation. \\\n",
        "It returns a list which contains all the losses from the batch of the train."
      ]
    },
    {
      "cell_type": "code",
      "metadata": {
        "id": "SwXY1cVk_Df5",
        "colab_type": "code",
        "colab": {}
      },
      "source": [
        "def train_epoch(train_loader,model,optimizer,criterion):\n",
        "  model.train()\n",
        "  losses = []\n",
        "  for batch_idx, data in enumerate(train_loader):\n",
        "          optimizer.zero_grad()\n",
        "          img, _ = data\n",
        "          img = img.cuda()\n",
        "          output = model(img)\n",
        "          loss = criterion(output,img)\n",
        "          loss.backward()\n",
        "          optimizer.step()\n",
        "          losses.append(loss.item())\n",
        "  return losses"
      ],
      "execution_count": 0,
      "outputs": []
    },
    {
      "cell_type": "markdown",
      "metadata": {
        "id": "r6UAzZfgczS7",
        "colab_type": "text"
      },
      "source": [
        "It is a generic fonction to evaluate the model. \\\n",
        "Now we set the model on *evaluation mode*.\\\n",
        "It returns the average MSE. \\"
      ]
    },
    {
      "cell_type": "code",
      "metadata": {
        "id": "9kH7nzyIIcnB",
        "colab_type": "code",
        "colab": {}
      },
      "source": [
        "def test_epoch(set_loader,model):\n",
        "  model.eval()\n",
        "  MSE = 0\n",
        "  with torch.no_grad():\n",
        "    for data in set_loader:\n",
        "      img,_ = data\n",
        "      img = img.cuda()\n",
        "      output = model(img)\n",
        "      MSE += criterion(output,img)\n",
        "  MSE /= len(set_loader) \n",
        "  return MSE"
      ],
      "execution_count": 0,
      "outputs": []
    },
    {
      "cell_type": "markdown",
      "metadata": {
        "id": "TmmBESGtAEnu",
        "colab_type": "text"
      },
      "source": [
        "Function to compute the number of parameters"
      ]
    },
    {
      "cell_type": "code",
      "metadata": {
        "id": "XeFfbnFWASDm",
        "colab_type": "code",
        "colab": {}
      },
      "source": [
        "def number_param(model):\n",
        "  return sum(p.numel() for p in model.parameters())"
      ],
      "execution_count": 0,
      "outputs": []
    },
    {
      "cell_type": "markdown",
      "metadata": {
        "id": "mTxKC70ndCj7",
        "colab_type": "text"
      },
      "source": [
        "###Train of the model and evalutation of it with different bottleneck \n",
        "For each size of bottleneck [5,9,13,17,21], we store the model in a dictionnary with as a key the size of the bottleneck and for value the correspondant model.\\\n",
        "We initialize the different lists that will contain the loss and we initialize the loss function and the optimizer we will use.\\\n",
        "We compute the backpropagation for each epoch.\\\n",
        "Finally we compute the average MSE for the test loader.\\\n",
        "We store all the loss and MSE in order to plot it later."
      ]
    },
    {
      "cell_type": "code",
      "metadata": {
        "id": "4hLCJnupgoCz",
        "colab_type": "code",
        "colab": {}
      },
      "source": [
        "dic_MSE = dict()\n",
        "validation_loss_bottleneck = dict()\n",
        "train_loss_bottleneck = dict()\n",
        "models = dict()\n",
        "\n",
        "for bottleneck in range(5,25,4):\n",
        "\n",
        "    model = Autoencoder(bottleneck).cuda()\n",
        "    model.to(hparams['device'])\n",
        "    models[bottleneck] = model\n",
        "    number_param_bottleneck = number_param(model)\n",
        "    \n",
        "    list_MSE_validation = []\n",
        "    train_loss = []\n",
        "    criterion = nn.MSELoss()\n",
        "    optimizer =  optim.Adam(model.parameters(), lr=hparams['learning_rate'])\n",
        "\n",
        "    for epoch in range(hparams['num_epochs']):\n",
        "      \n",
        "      train_loss.extend(train_epoch(train_loader,model,optimizer,criterion))\n",
        "      list_MSE_validation.append(test_epoch(validation_loader,model))\n",
        "\n",
        "    test_MSE = test_epoch(test_loader,model)\n",
        "    train_loss_bottleneck[bottleneck]= train_loss\n",
        "    validation_loss_bottleneck[bottleneck] = list_MSE_validation\n",
        "    dic_MSE[bottleneck]= [test_MSE.item(),list_MSE_validation[-1].item(),number_param_bottleneck]"
      ],
      "execution_count": 0,
      "outputs": []
    },
    {
      "cell_type": "markdown",
      "metadata": {
        "id": "jA9U4c-MGWtg",
        "colab_type": "text"
      },
      "source": [
        "Plot the Loss \n",
        "We rescale both lists in order to plot it on the same graph.\\\n",
        "We display the 5 different bottleneck size with 5 different colors.\\\n",
        "The trainset are represented wit '-' and the validation with 'o'."
      ]
    },
    {
      "cell_type": "code",
      "metadata": {
        "id": "XebhqDmNgGZb",
        "colab_type": "code",
        "colab": {
          "base_uri": "https://localhost:8080/",
          "height": 498
        },
        "outputId": "fffba512-7282-4cf6-fd9f-dcdebb0684a3"
      },
      "source": [
        "fig = plt.subplots(figsize=(10,8))\n",
        "plt.xlabel('Epoch')\n",
        "plt.ylabel('MSEloss')\n",
        "form = ['-','o']\n",
        "color = ['r','b','g','k','y']\n",
        "i=0\n",
        "for bottleneck in train_loss_bottleneck.keys():\n",
        "   plt.plot(np.arange(0,\n",
        "            len(train_loss_bottleneck.get(bottleneck)),\n",
        "            step=1),\n",
        "            train_loss_bottleneck.get(bottleneck),\n",
        "            color[i]+form[0], \n",
        "            label='train loss bottleneck {}'.format(bottleneck))\n",
        "   plt.plot(np.arange(len(train_loss_bottleneck.get(bottleneck))/(hparams['num_epochs']),\n",
        "            len(train_loss_bottleneck.get(bottleneck))+len(train_loss_bottleneck.get(bottleneck))/(hparams['num_epochs']),\n",
        "            step=len(train_loss_bottleneck.get(bottleneck))/(hparams['num_epochs'])),\n",
        "            validation_loss_bottleneck.get(bottleneck),\n",
        "            color[i]+form[1],\n",
        "            label='validation loss bottleneck {}'.format(bottleneck))\n",
        "   plt.xticks(np.arange(0,\n",
        "            len(train_loss_bottleneck.get(bottleneck))+len(train_loss_bottleneck.get(bottleneck))/(hparams['num_epochs']),\n",
        "            step=len(train_loss_bottleneck.get(bottleneck))/(hparams['num_epochs'])),\n",
        "            [i for i in range(hparams['num_epochs']+1)])\n",
        "   i+=1\n",
        "plt.legend()\n",
        "plt.show()"
      ],
      "execution_count": 15,
      "outputs": [
        {
          "output_type": "display_data",
          "data": {
            "image/png": "[encoded data removed]",
            "text/plain": [
              "<Figure size 720x576 with 1 Axes>"
            ]
          },
          "metadata": {
            "tags": []
          }
        }
      ]
    },
    {
      "cell_type": "markdown",
      "metadata": {
        "id": "EW95HDZbou3P",
        "colab_type": "text"
      },
      "source": [
        "**Table of the differents MSE** \\\n",
        "We display with Pandas the table of the MSE and the number of parameters of the model for the different size of bottleneck."
      ]
    },
    {
      "cell_type": "code",
      "metadata": {
        "id": "N0eJOldzpFx3",
        "colab_type": "code",
        "outputId": "41a32df1-1a4e-43d2-a6d9-2ea9067c5d15",
        "colab": {
          "base_uri": "https://localhost:8080/",
          "height": 164
        }
      },
      "source": [
        "data = {\"Bottleneck\":[\"Test MSE\",\"Validation MSE\",\"number of parameters\"]}\n",
        "data.update(dic_MSE)\n",
        "df = pd.DataFrame(data)\n",
        "df = df.groupby('Bottleneck')\n",
        "df.first()"
      ],
      "execution_count": 45,
      "outputs": [
        {
          "output_type": "execute_result",
          "data": {
            "text/html": [
              "<div>\n",
              "<style scoped>\n",
              "    .dataframe tbody tr th:only-of-type {\n",
              "        vertical-align: middle;\n",
              "    }\n",
              "\n",
              "    .dataframe tbody tr th {\n",
              "        vertical-align: top;\n",
              "    }\n",
              "\n",
              "    .dataframe thead th {\n",
              "        text-align: right;\n",
              "    }\n",
              "</style>\n",
              "<table border=\"1\" class=\"dataframe\">\n",
              "  <thead>\n",
              "    <tr style=\"text-align: right;\">\n",
              "      <th></th>\n",
              "      <th>5</th>\n",
              "      <th>9</th>\n",
              "      <th>13</th>\n",
              "      <th>17</th>\n",
              "      <th>21</th>\n",
              "    </tr>\n",
              "    <tr>\n",
              "      <th>Bottleneck</th>\n",
              "      <th></th>\n",
              "      <th></th>\n",
              "      <th></th>\n",
              "      <th></th>\n",
              "      <th></th>\n",
              "    </tr>\n",
              "  </thead>\n",
              "  <tbody>\n",
              "    <tr>\n",
              "      <th>Test MSE</th>\n",
              "      <td>0.460018</td>\n",
              "      <td>0.421387</td>\n",
              "      <td>0.408430</td>\n",
              "      <td>0.399923</td>\n",
              "      <td>0.400153</td>\n",
              "    </tr>\n",
              "    <tr>\n",
              "      <th>Validation MSE</th>\n",
              "      <td>0.448010</td>\n",
              "      <td>0.411489</td>\n",
              "      <td>0.398984</td>\n",
              "      <td>0.390428</td>\n",
              "      <td>0.390298</td>\n",
              "    </tr>\n",
              "    <tr>\n",
              "      <th>number of parameters</th>\n",
              "      <td>154738.000000</td>\n",
              "      <td>156190.000000</td>\n",
              "      <td>157642.000000</td>\n",
              "      <td>159094.000000</td>\n",
              "      <td>160546.000000</td>\n",
              "    </tr>\n",
              "  </tbody>\n",
              "</table>\n",
              "</div>"
            ],
            "text/plain": [
              "                                 5   ...             21\n",
              "Bottleneck                           ...               \n",
              "Test MSE                   0.460018  ...       0.400153\n",
              "Validation MSE             0.448010  ...       0.390298\n",
              "number of parameters  154738.000000  ...  160546.000000\n",
              "\n",
              "[3 rows x 5 columns]"
            ]
          },
          "metadata": {
            "tags": []
          },
          "execution_count": 45
        }
      ]
    },
    {
      "cell_type": "markdown",
      "metadata": {
        "id": "i9o75XhPaVOz",
        "colab_type": "text"
      },
      "source": [
        "## Exercice 1.5: Select one of the autoencoders and feed it 5 random MNIST images from the test set. \n",
        "We take the model for a bottleneck of size 17"
      ]
    },
    {
      "cell_type": "code",
      "metadata": {
        "id": "BS9ij9V9ag9-",
        "colab_type": "code",
        "colab": {}
      },
      "source": [
        "bottleneck = 17\n",
        "model = models[bottleneck]"
      ],
      "execution_count": 0,
      "outputs": []
    },
    {
      "cell_type": "markdown",
      "metadata": {
        "id": "IXDCWQFSqV1-",
        "colab_type": "text"
      },
      "source": [
        "\n",
        "We display 5 random images and the ouput of the model"
      ]
    },
    {
      "cell_type": "code",
      "metadata": {
        "id": "JaiwCPcbqsPl",
        "colab_type": "code",
        "outputId": "9b706dcc-87f0-45ef-b2d4-f5ea8e49273f",
        "colab": {
          "base_uri": "https://localhost:8080/",
          "height": 252
        }
      },
      "source": [
        "random_set_loader = torch.utils.data.DataLoader(\n",
        "     mnist_testset,\n",
        "    batch_size=5, \n",
        "    shuffle=True)\n",
        "dataiter = iter(random_set_loader)\n",
        "images,_ =dataiter.next()\n",
        "images = images.cuda()\n",
        "model.eval()\n",
        "output = model(images)\n",
        "images = images.cpu().detach().numpy()\n",
        "output = output.cpu().detach().numpy()\n",
        "fig, axes = plt.subplots(nrows=2,ncols=5,sharex=True,sharey=True,figsize=(25,4\n",
        "))  \n",
        "for images, row in zip([images, output],axes):\n",
        "  for img,ax in zip(images,row):\n",
        "    ax.imshow(np.squeeze(img), cmap='gray')\n",
        "    ax.get_xaxis().set_visible(False)\n",
        "    ax.get_yaxis().set_visible(False)"
      ],
      "execution_count": 18,
      "outputs": [
        {
          "output_type": "display_data",
          "data": {
            "image/png": "[encoded data removed]",
            "text/plain": [
              "<Figure size 1800x288 with 10 Axes>"
            ]
          },
          "metadata": {
            "tags": []
          }
        }
      ]
    },
    {
      "cell_type": "markdown",
      "metadata": {
        "id": "7srcwHlp_MNl",
        "colab_type": "text"
      },
      "source": [
        "## Exercice 1.6: Generate 5 new images by injecting random values as input to the decoder.\n",
        "We generate 5 new images with some random values."
      ]
    },
    {
      "cell_type": "code",
      "metadata": {
        "id": "VsUkKTwPBBwk",
        "colab_type": "code",
        "outputId": "4afd2786-67a6-4bd3-e055-1b10ae0abd25",
        "colab": {
          "base_uri": "https://localhost:8080/",
          "height": 252
        }
      },
      "source": [
        "nb_images = 5\n",
        "rand_features = torch.randn(nb_images, bottleneck).to(hparams['device']) \n",
        "output = model.decoder(rand_features)\n",
        "output = output.cpu().detach().numpy()\n",
        "images_width = 28\n",
        "fig, axes = plt.subplots(nrows=1,ncols=5,sharex=True,sharey=True,figsize=(25,4))\n",
        "decoded_images = output[:nb_images]  \n",
        "for ax, img in zip(axes, decoded_images):\n",
        "    ax.imshow(np.squeeze(img), cmap='gray')\n",
        "    ax.get_xaxis().set_visible(False)\n",
        "    ax.get_yaxis().set_visible(False)"
      ],
      "execution_count": 19,
      "outputs": [
        {
          "output_type": "display_data",
          "data": {
            "image/png": "[encoded data removed]",
            "text/plain": [
              "<Figure size 1800x288 with 5 Axes>"
            ]
          },
          "metadata": {
            "tags": []
          }
        }
      ]
    },
    {
      "cell_type": "markdown",
      "metadata": {
        "id": "swhbaAJcdVh2",
        "colab_type": "text"
      },
      "source": [
        "#Exercice 2: Transfer Learning\n"
      ]
    },
    {
      "cell_type": "markdown",
      "metadata": {
        "id": "l3ImVXmujF46",
        "colab_type": "text"
      },
      "source": [
        "#Exercice 2.1: Select a subset of 100 images and their associated labels from the MNIST training data.\n",
        "We take a subset of 100 images and their associates label from the MNIST training data."
      ]
    },
    {
      "cell_type": "code",
      "metadata": {
        "id": "thhTDz6pjFG9",
        "colab_type": "code",
        "colab": {}
      },
      "source": [
        "nb_images_subnet = 100\n",
        "batch_size_20 = 20\n",
        "[trainset,_]=torch.utils.data.random_split(mnist_trainset,[nb_images_subnet,tvdataset_length-nb_images_subnet])\n",
        "train_loader = torch.utils.data.DataLoader(\n",
        "    trainset,\n",
        "    batch_size=batch_size_20, \n",
        "    shuffle=True)"
      ],
      "execution_count": 0,
      "outputs": []
    },
    {
      "cell_type": "markdown",
      "metadata": {
        "id": "khqkApdIfVqv",
        "colab_type": "text"
      },
      "source": [
        "#Exercice 2.2: Select one of the previously trained autoencoders.\n",
        "We first take the layers of the encoder part of the  model autoencoder. We take the one with a bottleneck of length 17."
      ]
    },
    {
      "cell_type": "code",
      "metadata": {
        "id": "b2vkIG0PdYJ_",
        "colab_type": "code",
        "outputId": "ce4fc1e4-cde0-4bea-e5e1-18a13cb7c130",
        "colab": {
          "base_uri": "https://localhost:8080/",
          "height": 444
        }
      },
      "source": [
        "encoder_pretrain = copy.deepcopy(model.encoder)\n",
        "encoder_pretrain.eval()\n",
        "encoder_pretrain.to(hparams['device'])"
      ],
      "execution_count": 21,
      "outputs": [
        {
          "output_type": "execute_result",
          "data": {
            "text/plain": [
              "Encoder(\n",
              "  (conv1): Sequential(\n",
              "    (0): Conv2d(1, 8, kernel_size=(3, 3), stride=(1, 1), padding=(1, 1))\n",
              "    (1): BatchNorm2d(8, eps=1e-05, momentum=0.1, affine=True, track_running_stats=True)\n",
              "    (2): ReLU(inplace=True)\n",
              "    (3): MaxPool2d(kernel_size=2, stride=2, padding=0, dilation=1, ceil_mode=False)\n",
              "    (4): Dropout(p=0.2, inplace=False)\n",
              "  )\n",
              "  (conv2): Sequential(\n",
              "    (0): Conv2d(8, 16, kernel_size=(5, 5), stride=(1, 1))\n",
              "    (1): BatchNorm2d(16, eps=1e-05, momentum=0.1, affine=True, track_running_stats=True)\n",
              "    (2): ReLU(inplace=True)\n",
              "    (3): MaxPool2d(kernel_size=2, stride=2, padding=0, dilation=1, ceil_mode=False)\n",
              "    (4): Dropout(p=0.2, inplace=False)\n",
              "  )\n",
              "  (fc): Sequential(\n",
              "    (0): Linear(in_features=400, out_features=180, bias=True)\n",
              "    (1): BatchNorm1d(180, eps=1e-05, momentum=0.1, affine=True, track_running_stats=True)\n",
              "    (2): ReLU()\n",
              "    (3): Linear(in_features=180, out_features=17, bias=True)\n",
              "    (4): BatchNorm1d(17, eps=1e-05, momentum=0.1, affine=True, track_running_stats=True)\n",
              "    (5): ReLU()\n",
              "  )\n",
              ")"
            ]
          },
          "metadata": {
            "tags": []
          },
          "execution_count": 21
        }
      ]
    },
    {
      "cell_type": "markdown",
      "metadata": {
        "id": "IzxwhWz3li9x",
        "colab_type": "text"
      },
      "source": [
        "#Exercice 2.3: Create a digit (0-9) classification model reusing the encoder of the autoencoder and adding the needed fully connected (projection) layer.\n",
        "We create the classification model. We just add to the encoder layer a fully connected projetction layer that will do the classification of the numbers."
      ]
    },
    {
      "cell_type": "code",
      "metadata": {
        "id": "myOiDVjwmvtN",
        "colab_type": "code",
        "colab": {}
      },
      "source": [
        "bottleneck = 17\n",
        "class Classification(nn.Module):\n",
        "  def __init__(self,endoder):\n",
        "    super().__init__()\n",
        "    self.layers = endoder\n",
        "    self.fc = nn.Sequential(\n",
        "        nn.Linear(bottleneck,150),\n",
        "        nn.ReLU(),\n",
        "        nn.Linear(150,10),\n",
        "        nn.LogSoftmax(dim=1)\n",
        "    )\n",
        "  def forward(self,x):\n",
        "    x = self.layers(x)\n",
        "    x= self.fc(x)\n",
        "    return x"
      ],
      "execution_count": 0,
      "outputs": []
    },
    {
      "cell_type": "markdown",
      "metadata": {
        "id": "AuogcDR2oMIU",
        "colab_type": "text"
      },
      "source": [
        "#Exercice 2.4: Pre-training\n",
        "Definition of the training and testing epoch, using the previous weights."
      ]
    },
    {
      "cell_type": "code",
      "metadata": {
        "id": "SbQVpxWy_yeX",
        "colab_type": "code",
        "colab": {}
      },
      "source": [
        "def correct_predictions(predicted_batch, label_batch):\n",
        "  pred = predicted_batch.argmax(dim=1, keepdim=True) \n",
        "  acum = pred.eq(label_batch.view_as(pred)).sum().item()\n",
        "  return acum\n",
        "\n",
        "def train_epoch(train_loader, network, optimizer, criterion, hparams):\n",
        "  network.train()\n",
        "  device = hparams['device']\n",
        "  avg_loss = None\n",
        "  avg_weight = 0.1\n",
        "  for batch_idx, (data, target) in enumerate(train_loader):\n",
        "      data, target = data.to(device), target.to(device)\n",
        "      optimizer.zero_grad()\n",
        "      output = network(data)\n",
        "      loss = criterion(output, target)\n",
        "      loss.backward()\n",
        "      if avg_loss:\n",
        "        avg_loss = avg_weight * loss.item() + (1 - avg_weight) * avg_loss\n",
        "      else:\n",
        "        avg_loss = loss.item()\n",
        "      optimizer.step()\n",
        "  return avg_loss\n",
        "\n",
        "def test_epoch(test_loader, network, hparams):\n",
        "    network.eval()\n",
        "    device = hparams['device']\n",
        "    acc = 0\n",
        "    with torch.no_grad():\n",
        "        for data, target in test_loader:\n",
        "            data, target = data.to(device), target.to(device)\n",
        "            output = network(data)\n",
        "            acc += correct_predictions(output, target)\n",
        "    test_acc = 100. * acc / len(test_loader.dataset)\n",
        "    return test_acc"
      ],
      "execution_count": 0,
      "outputs": []
    },
    {
      "cell_type": "markdown",
      "metadata": {
        "id": "FKE-6DkXmgFt",
        "colab_type": "text"
      },
      "source": [
        "Definition of the epoch function"
      ]
    },
    {
      "cell_type": "code",
      "metadata": {
        "id": "RL5CyLd1Ir7I",
        "colab_type": "code",
        "colab": {}
      },
      "source": [
        "hparams['num_epochs'] = 80\n",
        "\n",
        "def epoch(model_,optimizer_):  \n",
        "    te_accs = []\n",
        "    model_.to(hparams['device'])\n",
        "    optimizer = optimizer_ \n",
        "    criterion = F.nll_loss\n",
        "\n",
        "    for epoch in range(1, hparams['num_epochs']):\n",
        "      train_epoch(train_loader, model_, optimizer, criterion, hparams)\n",
        "      te_accs.append(test_epoch(test_loader, model_, hparams))   \n",
        "    return te_accs"
      ],
      "execution_count": 0,
      "outputs": []
    },
    {
      "cell_type": "markdown",
      "metadata": {
        "id": "wRqaldzVoRb5",
        "colab_type": "text"
      },
      "source": [
        "We define the network and we train it."
      ]
    },
    {
      "cell_type": "code",
      "metadata": {
        "id": "gkuUBNytbuWc",
        "colab_type": "code",
        "colab": {}
      },
      "source": [
        "model_classifier = Classification(encoder_pretrain)\n",
        "optimzer_pretrain = optim.RMSprop(model_classifier.parameters(), lr=hparams['learning_rate'])\n",
        "accs_pretrain=epoch(model_classifier,optimzer_pretrain)"
      ],
      "execution_count": 0,
      "outputs": []
    },
    {
      "cell_type": "markdown",
      "metadata": {
        "id": "dKtHrHXKXjZy",
        "colab_type": "text"
      },
      "source": [
        "#Exercice 2.5: Fine-tunning\n",
        "We use *optim.SGD* in order to have 2 learning rates: a low one for the training and a normal one"
      ]
    },
    {
      "cell_type": "code",
      "metadata": {
        "id": "cCvMNgBqhnlb",
        "colab_type": "code",
        "colab": {}
      },
      "source": [
        "fine_tuning_features = copy.deepcopy(model.encoder)\n",
        "fine_tuning_model= Classification(fine_tuning_features)\n",
        "optimzer_fine_tuning = optim.SGD([\n",
        "                {'params': fine_tuning_model.layers.parameters()},\n",
        "                {'params': fine_tuning_model.fc.parameters(), 'lr':hparams['learning_rate'] }\n",
        "            ], lr=1e-6, momentum=0.9)"
      ],
      "execution_count": 0,
      "outputs": []
    },
    {
      "cell_type": "markdown",
      "metadata": {
        "id": "nY0VinWRe1fL",
        "colab_type": "text"
      },
      "source": [
        "Train the model with the fine-tuning lerning rate"
      ]
    },
    {
      "cell_type": "code",
      "metadata": {
        "id": "5PgFL9GofBxf",
        "colab_type": "code",
        "colab": {}
      },
      "source": [
        "acc_fine_tuning =epoch(fine_tuning_model,optimzer_fine_tuning)"
      ],
      "execution_count": 0,
      "outputs": []
    },
    {
      "cell_type": "markdown",
      "metadata": {
        "id": "m9XO-xl_ZM8l",
        "colab_type": "text"
      },
      "source": [
        "#Exercice 2.6: Train the model from scratch"
      ]
    },
    {
      "cell_type": "markdown",
      "metadata": {
        "id": "clvxyd1dW6ck",
        "colab_type": "text"
      },
      "source": [
        "Model Train from scratch"
      ]
    },
    {
      "cell_type": "code",
      "metadata": {
        "id": "gZS0J0_d0LuY",
        "colab_type": "code",
        "colab": {}
      },
      "source": [
        "bottleneck = 17\n",
        "network_scratch = Classification(Encoder(17))\n",
        "optimzer_scratch = optim.RMSprop(model_classifier.parameters(), lr=hparams['learning_rate'])\n",
        "accs_scratch = epoch(network_scratch,optimzer_scratch)"
      ],
      "execution_count": 0,
      "outputs": []
    },
    {
      "cell_type": "markdown",
      "metadata": {
        "id": "66fb84XHd1UG",
        "colab_type": "text"
      },
      "source": [
        "#Exercice 2.7: Show the accuracy of the three models on the MNIST test set in a table."
      ]
    },
    {
      "cell_type": "code",
      "metadata": {
        "id": "0ZPHQsD9e5O7",
        "colab_type": "code",
        "outputId": "2c149c86-7fca-44cf-8de3-4093d91d22d7",
        "colab": {
          "base_uri": "https://localhost:8080/",
          "height": 1000
        }
      },
      "source": [
        "data = {'Accuracy Train model %':accs_pretrain,'Accuracy model Fine-tuning %':acc_fine_tuning,'Accuracy Model from scratch %':accs_scratch}\n",
        "df = pd.DataFrame(data)\n",
        "print(df.to_string(index=False))"
      ],
      "execution_count": 52,
      "outputs": [
        {
          "output_type": "stream",
          "text": [
            " Accuracy Train model %  Accuracy model Fine-tuning %  Accuracy Model from scratch %\n",
            "                  54.26                          5.54                          10.28\n",
            "                  61.23                          6.63                          10.28\n",
            "                  71.15                          8.13                          10.25\n",
            "                  74.39                          9.81                           9.97\n",
            "                  75.91                         11.77                           9.86\n",
            "                  80.57                         12.62                           9.62\n",
            "                  80.70                         13.35                           9.31\n",
            "                  81.39                         16.70                           9.21\n",
            "                  82.51                         21.23                           9.02\n",
            "                  82.74                         23.70                           8.58\n",
            "                  83.30                         25.67                           8.86\n",
            "                  84.83                         27.33                           9.06\n",
            "                  84.14                         27.51                           8.79\n",
            "                  84.84                         29.08                           8.68\n",
            "                  84.56                         30.72                           8.72\n",
            "                  84.82                         32.98                           8.20\n",
            "                  85.16                         35.61                           8.68\n",
            "                  85.45                         38.57                           8.39\n",
            "                  85.98                         40.29                           8.56\n",
            "                  86.33                         41.37                           8.59\n",
            "                  85.75                         42.33                           8.43\n",
            "                  85.17                         43.33                           8.69\n",
            "                  85.65                         43.72                           8.90\n",
            "                  85.94                         44.57                           8.86\n",
            "                  85.30                         45.31                           8.68\n",
            "                  85.01                         45.85                           8.50\n",
            "                  85.30                         46.85                           8.47\n",
            "                  86.11                         47.44                           8.60\n",
            "                  85.85                         47.79                           8.56\n",
            "                  85.30                         48.78                           8.93\n",
            "                  84.77                         49.53                           8.99\n",
            "                  85.37                         50.04                           8.92\n",
            "                  85.23                         50.61                           8.65\n",
            "                  85.82                         50.86                           8.31\n",
            "                  85.56                         51.10                           8.77\n",
            "                  86.53                         51.33                           8.75\n",
            "                  86.52                         51.95                           8.66\n",
            "                  85.80                         52.18                           8.43\n",
            "                  85.74                         52.20                           7.80\n",
            "                  85.19                         52.97                           8.33\n",
            "                  85.66                         53.92                           8.72\n",
            "                  85.42                         54.63                           8.48\n",
            "                  85.50                         55.49                           8.66\n",
            "                  84.94                         56.01                           8.45\n",
            "                  85.48                         56.05                           8.54\n",
            "                  85.03                         56.32                           8.61\n",
            "                  85.15                         56.38                           8.75\n",
            "                  84.38                         57.27                           9.00\n",
            "                  85.26                         57.39                           9.19\n",
            "                  85.57                         57.61                           9.06\n",
            "                  85.50                         57.47                           9.15\n",
            "                  86.05                         57.57                           9.10\n",
            "                  85.89                         58.11                           9.00\n",
            "                  85.49                         58.55                           9.04\n",
            "                  85.19                         58.96                           8.98\n",
            "                  84.84                         59.10                           8.89\n",
            "                  85.13                         59.71                           8.99\n",
            "                  85.44                         59.66                           9.06\n",
            "                  84.62                         60.22                           8.68\n",
            "                  84.98                         60.74                           8.61\n",
            "                  85.29                         60.63                           8.88\n",
            "                  85.08                         60.73                           8.85\n",
            "                  85.96                         61.08                           8.46\n",
            "                  85.67                         60.93                           8.65\n",
            "                  86.07                         61.36                           8.85\n",
            "                  85.94                         61.59                           9.01\n",
            "                  86.21                         61.93                           8.88\n",
            "                  86.21                         62.29                           8.75\n",
            "                  85.98                         62.50                           9.00\n",
            "                  85.43                         63.11                           8.79\n",
            "                  85.43                         63.28                           9.18\n",
            "                  85.23                         63.40                           9.19\n",
            "                  85.37                         64.06                           9.17\n",
            "                  85.34                         63.98                           9.02\n",
            "                  85.19                         63.99                           8.70\n",
            "                  84.87                         64.02                           9.08\n",
            "                  85.04                         64.43                           8.49\n",
            "                  85.39                         65.00                           8.33\n",
            "                  85.21                         65.10                           8.73\n"
          ],
          "name": "stdout"
        }
      ]
    },
    {
      "cell_type": "markdown",
      "metadata": {
        "id": "0S4FT8Pb-PiX",
        "colab_type": "text"
      },
      "source": [
        "#Exercice A: Variational Autoencoder"
      ]
    },
    {
      "cell_type": "markdown",
      "metadata": {
        "id": "wq-33NbmtYRT",
        "colab_type": "text"
      },
      "source": [
        "#Exercice A.1: Implement an autoencoder\n",
        "We take the size of the trainset and after we split the dataset."
      ]
    },
    {
      "cell_type": "code",
      "metadata": {
        "colab_type": "code",
        "outputId": "87d6d319-969e-49bc-a63e-0d8f7d2900fc",
        "id": "Hc0uv2Iin27I",
        "colab": {
          "base_uri": "https://localhost:8080/",
          "height": 52
        }
      },
      "source": [
        "tvdataset_length = len(mnist_trainset)\n",
        "validationset_length = int(0.05*tvdataset_length)\n",
        "[trainset,validationset]=torch.utils.data.random_split(mnist_trainset,[tvdataset_length-validationset_length,validationset_length])\n",
        "print('Validation dataset is :{}%'.format(100*len(validationset)/len(mnist_trainset)))\n",
        "print('Training dataset is :{}%'.format(100*len(trainset)/len(mnist_trainset)))"
      ],
      "execution_count": 30,
      "outputs": [
        {
          "output_type": "stream",
          "text": [
            "Validation dataset is :5.0%\n",
            "Training dataset is :95.0%\n"
          ],
          "name": "stdout"
        }
      ]
    },
    {
      "cell_type": "code",
      "metadata": {
        "colab_type": "code",
        "id": "dRzECidNnsKW",
        "colab": {}
      },
      "source": [
        "train_loader = torch.utils.data.DataLoader(\n",
        "    trainset,\n",
        "    batch_size=hparams['batch_size'], \n",
        "    shuffle=True)\n",
        "\n",
        "validation_loader = torch.utils.data.DataLoader(\n",
        "    validationset,\n",
        "    batch_size=hparams['batch_size'], \n",
        "    shuffle=True)\n",
        "\n",
        "test_loader = torch.utils.data.DataLoader(\n",
        "     mnist_testset,\n",
        "    batch_size=hparams['test_batch_size'], \n",
        "    shuffle=False)"
      ],
      "execution_count": 0,
      "outputs": []
    },
    {
      "cell_type": "markdown",
      "metadata": {
        "id": "F-4FxggfqMS8",
        "colab_type": "text"
      },
      "source": [
        "Definition of the class VariationalAutoencoder: \\\n",
        "We create the normal distribution N(0,1) with the same size of sigma and as a Float tensor. \\\n",
        "We take the 20th first parameters for the mean. \\\n",
        "From 20 to the end we take the the ln (log) of the variance. \\"
      ]
    },
    {
      "cell_type": "code",
      "metadata": {
        "id": "OUbKQnYJTTZW",
        "colab_type": "code",
        "colab": {}
      },
      "source": [
        "class VariationalAutoencoder(nn.Module):\n",
        "  def __init__(self):\n",
        "    super().__init__()\n",
        "    self.bottleneck = 40\n",
        "    self.encoder = Encoder(self.bottleneck)\n",
        "    self.decoder = Decoder(20)\n",
        "  def reparametrize(self,mu,logvar):\n",
        "    var = logvar.exp()\n",
        "    sigma = var.sqrt()\n",
        "\n",
        "    normal = Variable(torch.cuda.FloatTensor(sigma.size()).normal_())\n",
        "    return normal.mul(sigma).add(mu)\n",
        "  def forward(self,x):\n",
        "    x=self.encoder(x)\n",
        "\n",
        "    mu = x[:,:20]\n",
        "\n",
        "    logvar = x[:,20:]\n",
        "    x= self.reparametrize(mu,logvar)\n",
        "    x = self.decoder(x)\n",
        "    return x,mu,logvar"
      ],
      "execution_count": 0,
      "outputs": []
    },
    {
      "cell_type": "markdown",
      "metadata": {
        "id": "mQH4765YXyJ1",
        "colab_type": "text"
      },
      "source": [
        "#Exercice A.2:Train the model optimizing the Evidence Lower Bound (ELBO)\n",
        "For the forward, we add the KullBack Leigler divergence wich compute the differences between 2 distributions of probability. \\"
      ]
    },
    {
      "cell_type": "code",
      "metadata": {
        "id": "Zm3YXpN0X3Hk",
        "colab_type": "code",
        "colab": {}
      },
      "source": [
        "model = VariationalAutoencoder().cuda()\n",
        "criterion = nn.MSELoss()\n",
        "optimizer =  optim.Adam(model.parameters(), lr=hparams['learning_rate'])\n",
        "for epoch in range(hparams['num_epochs']):\n",
        "    for data in train_loader:\n",
        "        model.train()     \n",
        "        img, _ = data\n",
        "        img,_ = data\n",
        "        img = img.cuda()\n",
        "\n",
        "        x_hat, mu, logvar = model(img)\n",
        "        NKLD = mu.pow(2).add(logvar.exp()).mul(-1).add(logvar.add(1))\n",
        "        KLD = torch.sum(NKLD).mul(-0.5)\n",
        "        KLD /= 128 * 784\n",
        "        loss = criterion(x_hat, img) + KLD\n",
        "\n",
        "        optimizer.zero_grad()\n",
        "        loss.backward()\n",
        "        optimizer.step()"
      ],
      "execution_count": 0,
      "outputs": []
    },
    {
      "cell_type": "markdown",
      "metadata": {
        "id": "4bE9JOYswB7g",
        "colab_type": "text"
      },
      "source": [
        "We take 5 random images"
      ]
    },
    {
      "cell_type": "code",
      "metadata": {
        "colab_type": "code",
        "id": "jfQg8uBviqtJ",
        "colab": {
          "base_uri": "https://localhost:8080/",
          "height": 252
        },
        "outputId": "8e1fcc19-28da-4db7-8f5c-da795569582b"
      },
      "source": [
        "random_set_loader = torch.utils.data.DataLoader(\n",
        "     mnist_testset,\n",
        "    batch_size=5, \n",
        "    shuffle=True)\n",
        "dataiter = iter(random_set_loader)\n",
        "images,_ =dataiter.next()\n",
        "images = images.cuda()\n",
        "output,_,_ = model(images)\n",
        "images = images.cpu().detach().numpy()\n",
        "output = output.cpu().detach().numpy()\n",
        "fig, axes = plt.subplots(nrows=2,ncols=5,sharex=True,sharey=True,figsize=(25,4\n",
        "))  \n",
        "for images, row in zip([images, output],axes):\n",
        "  for img,ax in zip(images,row):\n",
        "    ax.imshow(np.squeeze(img), cmap='gray')\n",
        "    ax.get_xaxis().set_visible(False)\n",
        "    ax.get_yaxis().set_visible(False)"
      ],
      "execution_count": 34,
      "outputs": [
        {
          "output_type": "display_data",
          "data": {
            "image/png": "[encoded data removed]",
            "text/plain": [
              "<Figure size 1800x288 with 10 Axes>"
            ]
          },
          "metadata": {
            "tags": []
          }
        }
      ]
    },
    {
      "cell_type": "markdown",
      "metadata": {
        "id": "VD7I4xEBwjqQ",
        "colab_type": "text"
      },
      "source": [
        "#Exercice A.3: Generate samples with the decoder and show them"
      ]
    },
    {
      "cell_type": "code",
      "metadata": {
        "colab_type": "code",
        "id": "b7vSdK64iyfA",
        "colab": {
          "base_uri": "https://localhost:8080/",
          "height": 252
        },
        "outputId": "2027b29f-a128-489b-f184-36a6377d5592"
      },
      "source": [
        "nb_images = 5\n",
        "bottleneck = 20\n",
        "rand_features = torch.randn(nb_images, bottleneck).to(hparams['device']) \n",
        "output = model.decoder(rand_features)\n",
        "output = output.cpu().detach().numpy()\n",
        "images_width = 28\n",
        "fig, axes = plt.subplots(nrows=1,ncols=5,sharex=True,sharey=True,figsize=(25,4))\n",
        "decoded_images = output[:nb_images]  \n",
        "for ax, img in zip(axes, decoded_images):\n",
        "    ax.imshow(np.squeeze(img), cmap='gray')\n",
        "    ax.get_xaxis().set_visible(False)\n",
        "    ax.get_yaxis().set_visible(False)"
      ],
      "execution_count": 35,
      "outputs": [
        {
          "output_type": "display_data",
          "data": {
            "image/png": "[encoded data removed]",
            "text/plain": [
              "<Figure size 1800x288 with 5 Axes>"
            ]
          },
          "metadata": {
            "tags": []
          }
        }
      ]
    },
    {
      "cell_type": "markdown",
      "metadata": {
        "id": "NWy4upUgmPWL",
        "colab_type": "text"
      },
      "source": [
        "#Exercice B: Conditional GAN\n",
        "#Exercice B.1: Implement a generator and discriminator based con deconvolutions and convolutions respectively"
      ]
    },
    {
      "cell_type": "markdown",
      "metadata": {
        "id": "rMjuUJEenquZ",
        "colab_type": "text"
      },
      "source": [
        "Here is two funtions the first one returns some normal noize and the second one is here to init the weight of the model"
      ]
    },
    {
      "cell_type": "code",
      "metadata": {
        "id": "A9EEG_j7ygor",
        "colab_type": "code",
        "colab": {}
      },
      "source": [
        "hparams['batch_size'] = 100\n",
        "train_loader = torch.utils.data.DataLoader(\n",
        "    trainset,\n",
        "    batch_size=hparams['batch_size'], \n",
        "    shuffle=True)\n",
        "\n",
        "validation_loader = torch.utils.data.DataLoader(\n",
        "    validationset,\n",
        "    batch_size=hparams['batch_size'], \n",
        "    shuffle=True)\n",
        "\n",
        "test_loader = torch.utils.data.DataLoader(\n",
        "     mnist_testset,\n",
        "    batch_size=hparams['test_batch_size'], \n",
        "    shuffle=False)"
      ],
      "execution_count": 0,
      "outputs": []
    },
    {
      "cell_type": "markdown",
      "metadata": {
        "id": "CQ4YNiCExji5",
        "colab_type": "text"
      },
      "source": [
        "We define *norm_noise* which creates a number of *size* gaussian noises of length 100 which, *init_weights* which initializes the weights of the model, *display_batch_images* print the images."
      ]
    },
    {
      "cell_type": "code",
      "metadata": {
        "id": "ySsOJyajmTg3",
        "colab_type": "code",
        "colab": {}
      },
      "source": [
        "def norm_noise(size):\n",
        "    return torch.cuda.FloatTensor(size,100).normal_()\n",
        "  \n",
        "def init_weights(m):\n",
        "    classname = m.__class__.__name__\n",
        "    if classname.find('layers') != -1 or classname.find('BatchNorm') != -1:\n",
        "        m.weight.data.normal_(0.00, 0.02)\n",
        "\n",
        "def display_batch_images(img, imtype=np.uint8, unnormalize=True, nrows=None, mean=0.5, std=0.5):\n",
        "\n",
        "    if len(img.shape) == 4:\n",
        "        nrows = nrows if nrows is not None else int(math.sqrt(img.size(0)))\n",
        "        img = utils.make_grid(img, nrow=nrows)\n",
        "\n",
        "    img = img.cpu().float()\n",
        "    img = (img*std+mean)*255\n",
        "\n",
        "    image_numpy = img.numpy()\n",
        "    image_numpy = np.transpose(image_numpy, (1, 2, 0))\n",
        "    display(Image.fromarray(image_numpy.astype(imtype))) "
      ],
      "execution_count": 0,
      "outputs": []
    },
    {
      "cell_type": "markdown",
      "metadata": {
        "id": "YVQnRzGsoOnX",
        "colab_type": "text"
      },
      "source": [
        "Class Generator based on the decoder"
      ]
    },
    {
      "cell_type": "code",
      "metadata": {
        "id": "yA2vnc-G9-Nl",
        "colab_type": "code",
        "colab": {}
      },
      "source": [
        "class Generator(torch.nn.Module):\n",
        "  def __init__(self,bottleneck=100):\n",
        "    super().__init__()\n",
        "    self.bottleneck = bottleneck\n",
        "    self.conv1 = nn.Sequential( \n",
        "          nn.ConvTranspose2d(1024,512,5,stride=1,padding=1),\n",
        "          nn.BatchNorm2d(512),\n",
        "          nn.ReLU(),\n",
        "          nn.Dropout(0.2)\n",
        "          )\n",
        "    self.conv2 = nn.Sequential(\n",
        "            nn.UpsamplingBilinear2d(scale_factor = 2),\n",
        "            nn.ConvTranspose2d(in_channels=512, out_channels=256, kernel_size=5, stride=1, padding=2, bias=False),\n",
        "            nn.BatchNorm2d(256),\n",
        "            nn.ReLU(inplace=True)\n",
        "        )\n",
        "    self.conv3 = nn.Sequential(\n",
        "          nn.UpsamplingBilinear2d(scale_factor = 2),\n",
        "          nn.ConvTranspose2d(256,1, kernel_size=5, stride=1, padding=2),\n",
        "          nn.Tanh()\n",
        "          )\n",
        "    self.fc = nn.Linear(self.bottleneck,1024*5*5)\n",
        "  def forward(self,x):\n",
        "    x= self.fc(x)\n",
        "    x= self.conv1(x.view(-1, 1024, 5,5))\n",
        "    x= self.conv2(x)\n",
        "    x= self.conv3(x)\n",
        "    return x"
      ],
      "execution_count": 0,
      "outputs": []
    },
    {
      "cell_type": "markdown",
      "metadata": {
        "id": "FB6mVk1-tzjF",
        "colab_type": "text"
      },
      "source": [
        "Definition class Discriminator"
      ]
    },
    {
      "cell_type": "code",
      "metadata": {
        "id": "fI6fdck8-Q2N",
        "colab_type": "code",
        "colab": {}
      },
      "source": [
        "class Discriminator(torch.nn.Module):\n",
        "    \n",
        "    def __init__(self):\n",
        "        super(Discriminator, self).__init__()\n",
        "        #32x32\n",
        "        self._conv1 = nn.Sequential(\n",
        "            nn.Conv2d(in_channels=1, out_channels=128, kernel_size=4, stride=2, padding=1, bias=False),\n",
        "            nn.LeakyReLU(0.2, inplace=True)\n",
        "        )\n",
        "        self._conv2 = nn.Sequential(\n",
        "            nn.Conv2d(in_channels=128, out_channels=256, kernel_size=4, stride=2, padding=1, bias=False),\n",
        "            nn.BatchNorm2d(256),\n",
        "            nn.LeakyReLU(0.2, inplace=True)\n",
        "        )\n",
        "        self._conv3 = nn.Sequential(\n",
        "            nn.Conv2d(in_channels=256, out_channels=512, kernel_size=3, stride=2, padding=1, bias=False),\n",
        "            nn.BatchNorm2d(512),\n",
        "            nn.LeakyReLU(0.2, inplace=True)\n",
        "        )\n",
        "        \n",
        "        self._fc = nn.Sequential(\n",
        "            nn.Linear(512*4*4, 1),\n",
        "            nn.Sigmoid()\n",
        "        )\n",
        "\n",
        "    def forward(self, x):\n",
        "        # Classify image as fake or real\n",
        "        x = self._conv1(x)\n",
        "        x = self._conv2(x)\n",
        "        x = self._conv3(x)\n",
        "        return self._fc(x.view(-1, 512*4*4))"
      ],
      "execution_count": 0,
      "outputs": []
    },
    {
      "cell_type": "markdown",
      "metadata": {
        "id": "9yfyuXxm0AwP",
        "colab_type": "text"
      },
      "source": [
        "The first step of the initialization is to prepare the model. \\\n",
        "In *create_network* we create a network with a discriminator and a generator, then we initialize the weights and then we move to cuda().\\\n",
        "In *create_optimizer* we set the generator and discriminator optimizer.\\\n",
        "In *_init_criterion* we create variables we will use as target for the training of the model. One will be for fake images and the other for true images. \\\n",
        "Then we use the generator which will create the fake samples.\\\n",
        "In *step_optimization* we compute the losses of the generator and discriminator. \\\n",
        "In *_step_opt_g* we compute the loss of the generator. \\\n",
        "In *_step_opt_d* we compute the loss of the discriminator. \\"
      ]
    },
    {
      "cell_type": "code",
      "metadata": {
        "id": "tL2y10N0-Y4U",
        "colab_type": "code",
        "colab": {}
      },
      "source": [
        "class Model:\n",
        "    \n",
        "    def __init__(self, batch_size):\n",
        "        self._create_networks()\n",
        "        self._create_optimizer()\n",
        "        self._init_criterion(batch_size)\n",
        "        \n",
        "    def _create_networks(self):\n",
        "\n",
        "        self._generator = Generator()\n",
        "        self._discriminator = Discriminator()\n",
        "        \n",
        "        self._generator.apply(init_weights)\n",
        "        self._discriminator.apply(init_weights)\n",
        "        \n",
        "        self._generator.cuda()\n",
        "        self._discriminator.cuda()\n",
        "        \n",
        "    def _create_optimizer(self):\n",
        "        self._opt_g = torch.optim.Adam(self._generator.parameters(), lr=0.0002, betas=(0.5, 0.999))\n",
        "        self._opt_d = torch.optim.Adam(self._discriminator.parameters(), lr=0.0002, betas=(0.5, 0.999))\n",
        "        \n",
        "    def _init_criterion(self, batch_size):\n",
        "        self._criterion = nn.BCELoss()\n",
        "        self._label_real = Variable(torch.ones(batch_size, 1)).cuda()\n",
        "        self._label_fake = Variable(torch.zeros(batch_size, 1)).cuda()      \n",
        "    \n",
        "    def generate_samples(self, batch_size, z=None):\n",
        "        if z is None:\n",
        "            z = norm_noise(batch_size)\n",
        "        fake_samples = self._generator(z)\n",
        "        return fake_samples\n",
        "        \n",
        "    def step_optimization(self, real_samples):\n",
        "        fake_samples = self.generate_samples(real_samples.size(0))\n",
        "        loss_g = self._step_opt_g(fake_samples)\n",
        "        loss_d = self._step_opt_d(real_samples, fake_samples.detach())\n",
        "        return loss_g, loss_d\n",
        "      \n",
        "    def _step_opt_g(self, fake_samples):\n",
        "        self._opt_g.zero_grad()\n",
        "        estim_fake =  self._discriminator(fake_samples)\n",
        "        loss = self._criterion(estim_fake,self._label_real)\n",
        "        loss.backward()\n",
        "        self._opt_g.step()\n",
        "        return loss.item()\n",
        "        \n",
        "    def _step_opt_d(self, real_samples, fake_samples):\n",
        "        self._opt_d.zero_grad()\n",
        "        estim_real =self._discriminator(real_samples)\n",
        "        loss_real = self._criterion(estim_real,self._label_real)\n",
        "        estim_fake =  self._discriminator(fake_samples)\n",
        "        loss_fake = self._criterion(estim_fake, self._label_fake)\n",
        "        loss = (loss_real + loss_fake) / 2\n",
        "        loss.backward()\n",
        "        self._opt_d.step()\n",
        "        return loss_real.item(), loss_fake.item()"
      ],
      "execution_count": 0,
      "outputs": []
    },
    {
      "cell_type": "markdown",
      "metadata": {
        "id": "h64l-zBzv_Pi",
        "colab_type": "text"
      },
      "source": [
        "#Exercice B.2: train the GAN on MNIST"
      ]
    },
    {
      "cell_type": "code",
      "metadata": {
        "id": "knwG43nIEJM8",
        "colab_type": "code",
        "colab": {}
      },
      "source": [
        "num_epochs = 10\n",
        "num_val_samples = 25\n",
        "z_val = norm_noise(num_val_samples)\n",
        "model = Model(hparams['batch_size'])"
      ],
      "execution_count": 0,
      "outputs": []
    },
    {
      "cell_type": "markdown",
      "metadata": {
        "id": "bzDAPFpH3fxa",
        "colab_type": "text"
      },
      "source": [
        "We train the model"
      ]
    },
    {
      "cell_type": "code",
      "metadata": {
        "id": "pd3efLyTEQSE",
        "colab_type": "code",
        "colab": {}
      },
      "source": [
        "for epoch in range(num_epochs):\n",
        "    for n_batch, (real_samples,_) in enumerate(train_loader):\n",
        "        real_samples = Variable(real_samples).cuda()\n",
        "        loss_g, loss_d = model.step_optimization(real_samples)"
      ],
      "execution_count": 0,
      "outputs": []
    },
    {
      "cell_type": "markdown",
      "metadata": {
        "id": "dKWu8nf93809",
        "colab_type": "text"
      },
      "source": [
        "#Exercice B.3: Generate samples with the generator and show them"
      ]
    },
    {
      "cell_type": "code",
      "metadata": {
        "id": "_gOX2MDL33Qs",
        "colab_type": "code",
        "colab": {
          "base_uri": "https://localhost:8080/",
          "height": 169
        },
        "outputId": "eca90d4e-c07f-478c-8fff-62300f001c30"
      },
      "source": [
        "val_fake_samples = model.generate_samples(num_val_samples, z=z_val).data.cpu()\n",
        "display_batch_images(val_fake_samples)"
      ],
      "execution_count": 111,
      "outputs": [
        {
          "output_type": "display_data",
          "data": {
            "image/png": "[encoded data removed]",
            "text/plain": [
              "<PIL.Image.Image image mode=RGB size=152x152 at 0x7FE270D7B550>"
            ]
          },
          "metadata": {
            "tags": []
          }
        }
      ]
    }
  ]
}
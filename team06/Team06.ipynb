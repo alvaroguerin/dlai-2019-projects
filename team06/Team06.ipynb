{
  "nbformat": 4,
  "nbformat_minor": 0,
  "metadata": {
    "colab": {
      "name": "Team06.ipynb",
      "provenance": [],
      "collapsed_sections": []
    },
    "kernelspec": {
      "name": "python3",
      "display_name": "Python 3"
    },
    "accelerator": "GPU"
  },
  "cells": [
    {
      "cell_type": "markdown",
      "metadata": {
        "id": "UXEMd6fjMDxv",
        "colab_type": "text"
      },
      "source": [
        "#Exercise 1: Convolutional Autoencoder#\n",
        "\n",
        "Train a convolutional autoencoder on MNIST, study the influence of the bottleneck size and generate some images"
      ]
    },
    {
      "cell_type": "code",
      "metadata": {
        "id": "yI2YUDCIMl60",
        "colab_type": "code",
        "colab": {}
      },
      "source": [
        "import numpy as np\n",
        "np.random.seed(1)\n",
        "import torch\n",
        "import torch.nn as nn\n",
        "import torch.optim as optim\n",
        "import torch.nn.functional as F\n",
        "from torchvision import datasets, transforms\n",
        "torch.manual_seed(1)\n",
        "if torch.cuda.is_available():\n",
        "  torch.cuda.manual_seed_all(1)\n",
        "import matplotlib.pyplot as plt"
      ],
      "execution_count": 0,
      "outputs": []
    },
    {
      "cell_type": "code",
      "metadata": {
        "id": "8UY29exSOCzl",
        "colab_type": "code",
        "colab": {}
      },
      "source": [
        "# Let's define some hyper-parameters\n",
        "hparams = {\n",
        "    'batch_size':64,\n",
        "    'num_epochs':10,\n",
        "    'test_batch_size':64,\n",
        "    'hidden_size':128,\n",
        "    'learning_rate':1e-3,\n",
        "    'log_interval':100,\n",
        "}\n",
        "\n",
        "# we select to work on GPU if it is available in the machine, otherwise\n",
        "# will run on CPU\n",
        "hparams['device'] = 'cuda' if torch.cuda.is_available() else 'cpu'"
      ],
      "execution_count": 0,
      "outputs": []
    },
    {
      "cell_type": "markdown",
      "metadata": {
        "id": "toHzJwqpOn4_",
        "colab_type": "text"
      },
      "source": [
        "**Load Dataset**"
      ]
    },
    {
      "cell_type": "code",
      "metadata": {
        "id": "vZ-ESSIPOu6b",
        "colab_type": "code",
        "outputId": "d11b3496-b36f-4aba-f827-2d87a1e28c9c",
        "colab": {
          "base_uri": "https://localhost:8080/",
          "height": 252
        }
      },
      "source": [
        "mnist_trainset = datasets.MNIST('data', train=True, download=True,\n",
        "                                transform=transforms.Compose([\n",
        "                                    transforms.ToTensor(),\n",
        "                                    transforms.Normalize((0.1307,), (0.3081,))                        \n",
        "                                ]))\n",
        "mnist_testset = datasets.MNIST('data', train=False, \n",
        "                               transform=transforms.Compose([\n",
        "                                   transforms.ToTensor(),\n",
        "                                   transforms.Normalize((0.1307,), (0.3081,))\n",
        "                               ]))"
      ],
      "execution_count": 4,
      "outputs": [
        {
          "output_type": "stream",
          "text": [
            "\r0it [00:00, ?it/s]"
          ],
          "name": "stderr"
        },
        {
          "output_type": "stream",
          "text": [
            "Downloading http://yann.lecun.com/exdb/mnist/train-images-idx3-ubyte.gz to data/MNIST/raw/train-images-idx3-ubyte.gz\n"
          ],
          "name": "stdout"
        },
        {
          "output_type": "stream",
          "text": [
            "9920512it [00:01, 5113853.74it/s]                             \n"
          ],
          "name": "stderr"
        },
        {
          "output_type": "stream",
          "text": [
            "Extracting data/MNIST/raw/train-images-idx3-ubyte.gz to data/MNIST/raw\n"
          ],
          "name": "stdout"
        },
        {
          "output_type": "stream",
          "text": [
            "  0%|          | 0/28881 [00:00<?, ?it/s]"
          ],
          "name": "stderr"
        },
        {
          "output_type": "stream",
          "text": [
            "Downloading http://yann.lecun.com/exdb/mnist/train-labels-idx1-ubyte.gz to data/MNIST/raw/train-labels-idx1-ubyte.gz\n"
          ],
          "name": "stdout"
        },
        {
          "output_type": "stream",
          "text": [
            "32768it [00:00, 129690.47it/s]           \n",
            "  0%|          | 0/1648877 [00:00<?, ?it/s]"
          ],
          "name": "stderr"
        },
        {
          "output_type": "stream",
          "text": [
            "Extracting data/MNIST/raw/train-labels-idx1-ubyte.gz to data/MNIST/raw\n",
            "Downloading http://yann.lecun.com/exdb/mnist/t10k-images-idx3-ubyte.gz to data/MNIST/raw/t10k-images-idx3-ubyte.gz\n"
          ],
          "name": "stdout"
        },
        {
          "output_type": "stream",
          "text": [
            "1654784it [00:00, 2138910.14it/s]                            \n",
            "0it [00:00, ?it/s]"
          ],
          "name": "stderr"
        },
        {
          "output_type": "stream",
          "text": [
            "Extracting data/MNIST/raw/t10k-images-idx3-ubyte.gz to data/MNIST/raw\n",
            "Downloading http://yann.lecun.com/exdb/mnist/t10k-labels-idx1-ubyte.gz to data/MNIST/raw/t10k-labels-idx1-ubyte.gz\n"
          ],
          "name": "stdout"
        },
        {
          "output_type": "stream",
          "text": [
            "8192it [00:00, 47210.74it/s]            \n"
          ],
          "name": "stderr"
        },
        {
          "output_type": "stream",
          "text": [
            "Extracting data/MNIST/raw/t10k-labels-idx1-ubyte.gz to data/MNIST/raw\n",
            "Processing...\n",
            "Done!\n"
          ],
          "name": "stdout"
        }
      ]
    },
    {
      "cell_type": "markdown",
      "metadata": {
        "id": "_ficutcOO9OD",
        "colab_type": "text"
      },
      "source": [
        "**Split data**:\n",
        "We split the data in 95% for training and 5% for validation"
      ]
    },
    {
      "cell_type": "code",
      "metadata": {
        "id": "lVjEIXDAPKPG",
        "colab_type": "code",
        "outputId": "042ffac3-7a8b-4aa0-bcc2-ae90bed9c444",
        "colab": {
          "base_uri": "https://localhost:8080/",
          "height": 50
        }
      },
      "source": [
        "#we take the size of the trainset and after that we take 5% of dataset\n",
        "tvdataset_length = len(mnist_trainset)\n",
        "validationset_length = int(0.05*tvdataset_length)\n",
        "#we split the dataset\n",
        "[trainset,validationset]=torch.utils.data.random_split(mnist_trainset,[tvdataset_length-validationset_length,validationset_length])\n",
        "print('Validation dataset is :{}%'.format(100*len(validationset)/len(mnist_trainset)))\n",
        "print('Training dataset is :{}%'.format(100*len(trainset)/len(mnist_trainset)))"
      ],
      "execution_count": 5,
      "outputs": [
        {
          "output_type": "stream",
          "text": [
            "Validation dataset is :5.0%\n",
            "Training dataset is :95.0%\n"
          ],
          "name": "stdout"
        }
      ]
    },
    {
      "cell_type": "markdown",
      "metadata": {
        "id": "oCw_FrqyPbEf",
        "colab_type": "text"
      },
      "source": [
        "**Loader data**\n",
        "We load the dataset with batch size "
      ]
    },
    {
      "cell_type": "code",
      "metadata": {
        "id": "E9SY3Wd2P2as",
        "colab_type": "code",
        "colab": {}
      },
      "source": [
        "train_loader = torch.utils.data.DataLoader(\n",
        "    trainset,\n",
        "    batch_size=hparams['batch_size'], \n",
        "    shuffle=True)\n",
        "\n",
        "validation_loader = torch.utils.data.DataLoader(\n",
        "    validationset,\n",
        "    batch_size=hparams['batch_size'], \n",
        "    shuffle=True)\n",
        "\n",
        "test_loader = torch.utils.data.DataLoader(\n",
        "     mnist_testset,\n",
        "    batch_size=hparams['test_batch_size'], \n",
        "    shuffle=False)"
      ],
      "execution_count": 0,
      "outputs": []
    },
    {
      "cell_type": "markdown",
      "metadata": {
        "id": "ujmQBiU-P_24",
        "colab_type": "text"
      },
      "source": [
        "## 2. Implement a convolutional autoencoder (with separate Encoder and Decoder modules). ##"
      ]
    },
    {
      "cell_type": "markdown",
      "metadata": {
        "id": "7e1z86RQQLIP",
        "colab_type": "text"
      },
      "source": [
        "**Creation of the Class Autoencoder**"
      ]
    },
    {
      "cell_type": "markdown",
      "metadata": {
        "id": "TFrAUZ3I0rXu",
        "colab_type": "text"
      },
      "source": [
        "**Define of the Class encoder**"
      ]
    },
    {
      "cell_type": "code",
      "metadata": {
        "id": "dy3qem8CxhF4",
        "colab_type": "code",
        "colab": {}
      },
      "source": [
        "class Encoder(nn.Module):\n",
        "  def __init__(self,bottleneck):\n",
        "    super().__init__()\n",
        "    self.bottleneck = bottleneck\n",
        "    self.conv1 = nn.Sequential( \n",
        "              nn.Conv2d(1,32,5,padding=2),\n",
        "              nn.BatchNorm2d(32),\n",
        "              nn.MaxPool2d(2,2),\n",
        "              nn.ReLU(),\n",
        "              nn.Dropout(0.5))\n",
        "    self.conv2 = nn.Sequential(\n",
        "              nn.Conv2d(32,16,5,padding=2),\n",
        "              nn.BatchNorm2d(16),\n",
        "              nn.MaxPool2d(2,2),\n",
        "              nn.ReLU(),\n",
        "              nn.Dropout(0.5),\n",
        "              nn.Flatten())\n",
        "    self.fc = nn.Sequential(\n",
        "              nn.Linear(16*7*7,self.bottleneck),\n",
        "              nn.ReLU())\n",
        "  def forward(self,x):\n",
        "    x= self.conv1(x)\n",
        "    x= self.conv2(x)\n",
        "    x= self.fc(x)\n",
        "    return x  "
      ],
      "execution_count": 0,
      "outputs": []
    },
    {
      "cell_type": "markdown",
      "metadata": {
        "id": "wKpWhH-p0y7X",
        "colab_type": "text"
      },
      "source": [
        "**Define of the class Decoder**"
      ]
    },
    {
      "cell_type": "code",
      "metadata": {
        "id": "G003wB2C03Ox",
        "colab_type": "code",
        "colab": {}
      },
      "source": [
        "class Decoder(nn.Module):\n",
        "  def __init__(self,bottleneck):\n",
        "    super().__init__()\n",
        "    self.bottleneck = bottleneck\n",
        "    self.conv1 = nn.Sequential( \n",
        "          nn.ConvTranspose2d(64,32,14,stride=2),\n",
        "          nn.BatchNorm2d(32),\n",
        "          nn.ReLU(),\n",
        "          nn.Dropout(0.5))\n",
        "    self.conv2 = nn.Sequential(\n",
        "          nn.ConvTranspose2d(32,1,2,stride=2),\n",
        "          nn.BatchNorm2d(1),\n",
        "          nn.Sigmoid())\n",
        "    self.fc = nn.Sequential(\n",
        "          nn.Linear(self.bottleneck,64),\n",
        "          nn.ReLU())\n",
        "  def forward(self,x):\n",
        "    x= self.fc(x)\n",
        "    x= self.conv1(x.view(x.shape[0], 64, 1,1))\n",
        "    x= self.conv2(x)\n",
        "    return x"
      ],
      "execution_count": 0,
      "outputs": []
    },
    {
      "cell_type": "markdown",
      "metadata": {
        "id": "RjXKNbo-2K6L",
        "colab_type": "text"
      },
      "source": [
        "**Define of the class Autoencoder**"
      ]
    },
    {
      "cell_type": "code",
      "metadata": {
        "id": "gQlv3B8z2RsZ",
        "colab_type": "code",
        "colab": {}
      },
      "source": [
        "class Autoencoder(nn.Module):\n",
        "    def __init__(self,bottleneck):\n",
        "      super().__init__()\n",
        "      self.bottleneck = bottleneck\n",
        "      self.encoder = Encoder(self.bottleneck)\n",
        "      self.decoder = Decoder(self.bottleneck)\n",
        "    def forward(self,x):\n",
        "      x= self.encoder(x)\n",
        "      x= self.decoder(x)\n",
        "      return x"
      ],
      "execution_count": 0,
      "outputs": []
    },
    {
      "cell_type": "markdown",
      "metadata": {
        "id": "H8EQA1d1QjR_",
        "colab_type": "text"
      },
      "source": [
        "**Train the Model**"
      ]
    },
    {
      "cell_type": "markdown",
      "metadata": {
        "id": "-aeZYUpvYLr3",
        "colab_type": "text"
      },
      "source": [
        "Definition of the function *train epoch*. It train the weights of the model. It computes the loss of the train and it performs the backpropagation. "
      ]
    },
    {
      "cell_type": "code",
      "metadata": {
        "id": "SwXY1cVk_Df5",
        "colab_type": "code",
        "colab": {}
      },
      "source": [
        "def train_epoch(train_loader,model,optimizer,criterion,hparams):\n",
        "  model.train()\n",
        "  avg_loss_train = None\n",
        "  avg_weight = 0.1\n",
        "  for data in train_loader:\n",
        "          optimizer.zero_grad()\n",
        "          img, _ = data\n",
        "          img = img.cuda()\n",
        "          output = model(img)\n",
        "          loss = criterion(output,img)\n",
        "          loss.backward()\n",
        "          optimizer.step()\n",
        "          if avg_loss_train:\n",
        "            avg_loss_train = avg_weight * loss.item() + (1 - avg_weight) * avg_loss_train\n",
        "          else:\n",
        "            avg_loss_train = loss.item() \n",
        "  return avg_loss_train"
      ],
      "execution_count": 0,
      "outputs": []
    },
    {
      "cell_type": "markdown",
      "metadata": {
        "id": "r6UAzZfgczS7",
        "colab_type": "text"
      },
      "source": [
        "It is a generic fonction to evaluate the model it return the loss average and the MSE. "
      ]
    },
    {
      "cell_type": "code",
      "metadata": {
        "id": "9kH7nzyIIcnB",
        "colab_type": "code",
        "colab": {}
      },
      "source": [
        "def test_epoch(set_loader,model,hparams):\n",
        "  model.eval()\n",
        "  avg_loss_validation =0\n",
        "  MSE = 0\n",
        "  with torch.no_grad():\n",
        "    for data in set_loader:\n",
        "      img,_ = data\n",
        "      img = img.cuda()\n",
        "      output = model(img)\n",
        "      val_loss = criterion(output,img)\n",
        "      MSE += criterion_MSE(output,img)\n",
        "      avg_loss_validation+= val_loss\n",
        "  avg_loss_validation /= len(set_loader)\n",
        "  MSE /= len(set_loader) \n",
        "  return avg_loss_validation,MSE"
      ],
      "execution_count": 0,
      "outputs": []
    },
    {
      "cell_type": "markdown",
      "metadata": {
        "id": "mTxKC70ndCj7",
        "colab_type": "text"
      },
      "source": [
        "###Train of the model and evalutation of it with different bottleneck###"
      ]
    },
    {
      "cell_type": "code",
      "metadata": {
        "id": "cFBr5C6VhhKP",
        "colab_type": "code",
        "colab": {}
      },
      "source": [
        "class my_dictionary(dict): \n",
        "  \n",
        "    # __init__ function \n",
        "    def __init__(self): \n",
        "        self = dict() \n",
        "          \n",
        "    # Function to add key:value \n",
        "    def add(self, key, value): \n",
        "        self[key] = value "
      ],
      "execution_count": 0,
      "outputs": []
    },
    {
      "cell_type": "code",
      "metadata": {
        "id": "4hLCJnupgoCz",
        "colab_type": "code",
        "outputId": "febc76c7-57bb-4782-dead-2fb3a3017dd6",
        "colab": {
          "base_uri": "https://localhost:8080/",
          "height": 1000
        }
      },
      "source": [
        "validation_bottleneck_MSE= my_dictionary()\n",
        "test_bottleneck_MSE = my_dictionary()\n",
        "validation_loss_bottleneck = my_dictionary()\n",
        "train_loss_bottleneck = my_dictionary()\n",
        "for bottleneck in range(1,20,4):\n",
        "  model = Autoencoder(bottleneck).cuda()\n",
        "  model.to(hparams['device'])\n",
        "  list_MSE_validation = []\n",
        "  train_loss = []\n",
        "  validation_loss = []\n",
        "  criterion_MSE = nn.MSELoss()\n",
        "  criterion = nn.BCELoss()\n",
        "  optimizer =  optim.Adam(model.parameters(), lr=hparams['learning_rate'])\n",
        "  print('Bottleneck :{}'.format(bottleneck))\n",
        "  \n",
        "  for epoch in range(hparams['num_epochs']):\n",
        "    loss_train = train_epoch(train_loader,model,optimizer,criterion,hparams)\n",
        "    val_loss,MSE_validation = test_epoch(validation_loader,model,hparams)\n",
        "    train_loss.append(loss_train)\n",
        "    validation_loss.append(val_loss)\n",
        "    list_MSE_validation.append(MSE_validation)\n",
        "    print('Train epoch [{}/{}], loss:{:.4f}, validation loss = {:.4f}, MSE:{:.2f}'.format(epoch+1, hparams['num_epochs'], loss_train,val_loss,MSE_validation))\n",
        "  _,test_MSE = test_epoch(test_loader,model,hparams)\n",
        "  validation_loss_bottleneck.add(bottleneck,train_loss)\n",
        "  validation_loss_bottleneck.add(bottleneck,validation_loss)\n",
        "  validation_bottleneck_MSE.add(bottleneck,list_MSE_validation[-1].item())   \n",
        "  test_bottleneck_MSE.add(bottleneck,test_MSE.item())\n",
        "  print(validation_bottleneck_MSE)\n",
        "  print(test_bottleneck_MSE)"
      ],
      "execution_count": 0,
      "outputs": [
        {
          "output_type": "stream",
          "text": [
            "Bottleneck :1\n",
            "Train epoch [1/10], loss:-0.4187, validation loss = -0.4333, MSE:0.83\n",
            "Train epoch [2/10], loss:-0.8741, validation loss = -0.9078, MSE:0.76\n",
            "Train epoch [3/10], loss:-1.3087, validation loss = -1.3379, MSE:0.74\n",
            "Train epoch [4/10], loss:-1.7178, validation loss = -1.7619, MSE:0.73\n",
            "Train epoch [5/10], loss:-2.1517, validation loss = -2.1811, MSE:0.73\n",
            "Train epoch [6/10], loss:-2.5726, validation loss = -2.5791, MSE:0.73\n",
            "Train epoch [7/10], loss:-3.0274, validation loss = -2.9649, MSE:0.72\n",
            "Train epoch [8/10], loss:-3.4456, validation loss = -3.4110, MSE:0.72\n",
            "Train epoch [9/10], loss:-3.9397, validation loss = -3.8314, MSE:0.72\n",
            "Train epoch [10/10], loss:-4.3060, validation loss = -4.2625, MSE:0.72\n",
            "{1: 0.7189732789993286}\n",
            "{1: 0.7251156568527222}\n",
            "Bottleneck :5\n",
            "Train epoch [1/10], loss:-0.7030, validation loss = -0.7056, MSE:0.74\n",
            "Train epoch [2/10], loss:-1.3586, validation loss = -1.3689, MSE:0.64\n",
            "Train epoch [3/10], loss:-1.9172, validation loss = -1.9093, MSE:0.61\n",
            "Train epoch [4/10], loss:-2.4865, validation loss = -2.4776, MSE:0.60\n",
            "Train epoch [5/10], loss:-3.0504, validation loss = -2.9592, MSE:0.59\n",
            "Train epoch [6/10], loss:-3.5842, validation loss = -3.5249, MSE:0.59\n",
            "Train epoch [7/10], loss:-4.1179, validation loss = -4.0814, MSE:0.59\n",
            "Train epoch [8/10], loss:-4.6662, validation loss = -4.6464, MSE:0.59\n",
            "Train epoch [9/10], loss:-5.1787, validation loss = -5.2219, MSE:0.58\n",
            "Train epoch [10/10], loss:-5.7056, validation loss = -5.7202, MSE:0.58\n",
            "{1: 0.7189732789993286, 5: 0.5834451913833618}\n",
            "{1: 0.7251156568527222, 5: 0.5929722785949707}\n",
            "Bottleneck :9\n",
            "Train epoch [1/10], loss:-0.7835, validation loss = -0.7915, MSE:0.72\n",
            "Train epoch [2/10], loss:-1.4352, validation loss = -1.4335, MSE:0.63\n",
            "Train epoch [3/10], loss:-1.9928, validation loss = -1.9964, MSE:0.60\n",
            "Train epoch [4/10], loss:-2.5649, validation loss = -2.5276, MSE:0.58\n",
            "Train epoch [5/10], loss:-3.1205, validation loss = -3.1079, MSE:0.58\n",
            "Train epoch [6/10], loss:-3.7235, validation loss = -3.6009, MSE:0.58\n",
            "Train epoch [7/10], loss:-4.2548, validation loss = -4.1986, MSE:0.57\n",
            "Train epoch [8/10], loss:-4.7711, validation loss = -4.7676, MSE:0.57\n",
            "Train epoch [9/10], loss:-5.3178, validation loss = -5.4050, MSE:0.57\n",
            "Train epoch [10/10], loss:-5.8898, validation loss = -5.9493, MSE:0.57\n",
            "{1: 0.7189732789993286, 5: 0.5834451913833618, 9: 0.5710442066192627}\n",
            "{1: 0.7251156568527222, 5: 0.5929722785949707, 9: 0.5798278450965881}\n",
            "Bottleneck :13\n",
            "Train epoch [1/10], loss:-0.8590, validation loss = -0.8489, MSE:0.70\n",
            "Train epoch [2/10], loss:-1.5145, validation loss = -1.4935, MSE:0.60\n",
            "Train epoch [3/10], loss:-2.1172, validation loss = -2.0926, MSE:0.57\n",
            "Train epoch [4/10], loss:-2.7291, validation loss = -2.6843, MSE:0.55\n",
            "Train epoch [5/10], loss:-3.3022, validation loss = -3.2831, MSE:0.55\n",
            "Train epoch [6/10], loss:-3.9186, validation loss = -3.7910, MSE:0.55\n",
            "Train epoch [7/10], loss:-4.4752, validation loss = -4.4888, MSE:0.54\n",
            "Train epoch [8/10], loss:-5.0424, validation loss = -5.0281, MSE:0.54\n",
            "Train epoch [9/10], loss:-5.6785, validation loss = -5.6586, MSE:0.54\n",
            "Train epoch [10/10], loss:-6.1756, validation loss = -6.3122, MSE:0.54\n",
            "{1: 0.7189732789993286, 5: 0.5834451913833618, 9: 0.5710442066192627, 13: 0.5405207276344299}\n",
            "{1: 0.7251156568527222, 5: 0.5929722785949707, 9: 0.5798278450965881, 13: 0.5489012598991394}\n",
            "Bottleneck :17\n",
            "Train epoch [1/10], loss:-0.8357, validation loss = -0.8666, MSE:0.70\n",
            "Train epoch [2/10], loss:-1.5083, validation loss = -1.5447, MSE:0.60\n",
            "Train epoch [3/10], loss:-2.1544, validation loss = -2.1759, MSE:0.56\n",
            "Train epoch [4/10], loss:-2.7672, validation loss = -2.7393, MSE:0.55\n",
            "Train epoch [5/10], loss:-3.3511, validation loss = -3.2924, MSE:0.54\n",
            "Train epoch [6/10], loss:-3.9661, validation loss = -3.9098, MSE:0.54\n",
            "Train epoch [7/10], loss:-4.6088, validation loss = -4.4900, MSE:0.53\n",
            "Train epoch [8/10], loss:-5.1967, validation loss = -5.1421, MSE:0.53\n",
            "Train epoch [9/10], loss:-5.7794, validation loss = -5.8206, MSE:0.53\n",
            "Train epoch [10/10], loss:-6.3562, validation loss = -6.5583, MSE:0.53\n",
            "{1: 0.7189732789993286, 5: 0.5834451913833618, 9: 0.5710442066192627, 13: 0.5405207276344299, 17: 0.5293729305267334}\n",
            "{1: 0.7251156568527222, 5: 0.5929722785949707, 9: 0.5798278450965881, 13: 0.5489012598991394, 17: 0.5369264483451843}\n"
          ],
          "name": "stdout"
        }
      ]
    },
    {
      "cell_type": "markdown",
      "metadata": {
        "id": "jA9U4c-MGWtg",
        "colab_type": "text"
      },
      "source": [
        "Plot the Loss and the MSE"
      ]
    },
    {
      "cell_type": "code",
      "metadata": {
        "id": "33XfpNMJr7Wt",
        "colab_type": "code",
        "colab": {}
      },
      "source": [
        ""
      ],
      "execution_count": 0,
      "outputs": []
    },
    {
      "cell_type": "code",
      "metadata": {
        "id": "negpfwPv6J7U",
        "colab_type": "code",
        "outputId": "fe689ef7-b19e-4616-d808-2beb3ad7726e",
        "colab": {
          "base_uri": "https://localhost:8080/",
          "height": 185
        }
      },
      "source": [
        "bottleneck = 15\n",
        "model = Autoencoder(bottleneck).cuda()\n",
        "model.to(hparams['device'])\n",
        "list_MSE_validation = []\n",
        "list_MSE_test = []\n",
        "train_loss = []\n",
        "validation_loss = []\n",
        "list_test_loss = []\n",
        "criterion_MSE = nn.MSELoss()\n",
        "criterion = nn.BCELoss()\n",
        "optimizer =  optim.Adam(model.parameters(), lr=hparams['learning_rate'])\n",
        "for epoch in range(hparams['num_epochs']):\n",
        "  loss_train = train_epoch(train_loader,model,optimizer,criterion,hparams)\n",
        "  val_loss,MSE_validation = test_epoch(validation_loader,model,hparams)\n",
        "  test_loss,MSE_test = test_epoch(test_loader,model,hparams)\n",
        "  train_loss.append(loss_train)\n",
        "  validation_loss.append(val_loss)\n",
        "  list_test_loss.append(test_loss)\n",
        "  list_MSE_validation.append(MSE_validation)\n",
        "  list_MSE_test.append(MSE_test)\n",
        "  print('Train epoch [{}/{}], loss:{:.4f}, validation loss = {:.4f}, MSE:{:.2f}'\n",
        "  .format(epoch+1, hparams['num_epochs'], loss_train,val_loss,MSE_validation))\n"
      ],
      "execution_count": 0,
      "outputs": [
        {
          "output_type": "stream",
          "text": [
            "Train epoch [1/10], loss:-0.8541, validation loss = -0.8561, MSE:0.70\n",
            "Train epoch [2/10], loss:-1.5248, validation loss = -1.5130, MSE:0.60\n",
            "Train epoch [3/10], loss:-2.1280, validation loss = -2.1432, MSE:0.56\n",
            "Train epoch [4/10], loss:-2.7421, validation loss = -2.7241, MSE:0.55\n",
            "Train epoch [5/10], loss:-3.3477, validation loss = -3.3362, MSE:0.54\n",
            "Train epoch [6/10], loss:-3.9677, validation loss = -3.8805, MSE:0.54\n",
            "Train epoch [7/10], loss:-4.5866, validation loss = -4.5201, MSE:0.54\n",
            "Train epoch [8/10], loss:-5.1686, validation loss = -5.0974, MSE:0.54\n",
            "Train epoch [9/10], loss:-5.7250, validation loss = -5.7878, MSE:0.53\n",
            "Train epoch [10/10], loss:-6.3062, validation loss = -6.3988, MSE:0.53\n"
          ],
          "name": "stdout"
        }
      ]
    },
    {
      "cell_type": "code",
      "metadata": {
        "id": "7Z2eM85OkyRz",
        "colab_type": "code",
        "outputId": "83a94699-6607-47c9-8335-61c8f5675eda",
        "colab": {
          "base_uri": "https://localhost:8080/",
          "height": 514
        }
      },
      "source": [
        "plt.figure(figsize=(10,8))\n",
        "plt.xlabel('Epoch')\n",
        "plt.ylabel('BCEloss')\n",
        "plt.plot(train_loss,'r', label='train loss' )\n",
        "plt.plot(validation_loss,'b',label='validation loss')\n",
        "plt.legend()"
      ],
      "execution_count": 0,
      "outputs": [
        {
          "output_type": "execute_result",
          "data": {
            "text/plain": [
              "<matplotlib.legend.Legend at 0x7fd6932c5588>"
            ]
          },
          "metadata": {
            "tags": []
          },
          "execution_count": 15
        },
        {
          "output_type": "display_data",
          "data": {
            "image/png": "[encoded data removed]",
            "text/plain": [
              "<Figure size 720x576 with 1 Axes>"
            ]
          },
          "metadata": {
            "tags": []
          }
        }
      ]
    },
    {
      "cell_type": "markdown",
      "metadata": {
        "id": "EW95HDZbou3P",
        "colab_type": "text"
      },
      "source": [
        "##Compute of the MSE##"
      ]
    },
    {
      "cell_type": "code",
      "metadata": {
        "id": "N0eJOldzpFx3",
        "colab_type": "code",
        "colab": {}
      },
      "source": [
        "\n"
      ],
      "execution_count": 0,
      "outputs": []
    },
    {
      "cell_type": "markdown",
      "metadata": {
        "id": "IXDCWQFSqV1-",
        "colab_type": "text"
      },
      "source": [
        "Display of 5 random images and the ouput of the model"
      ]
    },
    {
      "cell_type": "code",
      "metadata": {
        "id": "JaiwCPcbqsPl",
        "colab_type": "code",
        "outputId": "98c2e00f-01fc-49b3-8cdd-e28b0e88c2ef",
        "colab": {
          "base_uri": "https://localhost:8080/",
          "height": 272
        }
      },
      "source": [
        "#take 5 random images\n",
        "random_set_loader = torch.utils.data.DataLoader(\n",
        "     mnist_testset,\n",
        "    batch_size=5, \n",
        "    shuffle=True)\n",
        "dataiter = iter(random_set_loader)\n",
        "images,_ =dataiter.next()\n",
        "images = images.cuda()\n",
        "output = model(images)\n",
        "images = images.cpu().detach().numpy()\n",
        "output = output.cpu().detach().numpy()\n",
        "fig, axes = plt.subplots(nrows=2,ncols=5,sharex=True,sharey=True,figsize=(25,4\n",
        "))  \n",
        "for images, row in zip([images, output],axes):\n",
        "  for img,ax in zip(images,row):\n",
        "    ax.imshow(np.squeeze(img), cmap='gray')\n",
        "    ax.get_xaxis().set_visible(False)\n",
        "    ax.get_yaxis().set_visible(False)"
      ],
      "execution_count": 0,
      "outputs": [
        {
          "output_type": "display_data",
          "data": {
            "image/png": "[encoded data removed]",
            "text/plain": [
              "<Figure size 1800x288 with 10 Axes>"
            ]
          },
          "metadata": {
            "tags": []
          }
        }
      ]
    },
    {
      "cell_type": "markdown",
      "metadata": {
        "id": "7srcwHlp_MNl",
        "colab_type": "text"
      },
      "source": [
        "**Generate 5 new images**"
      ]
    },
    {
      "cell_type": "code",
      "metadata": {
        "id": "VsUkKTwPBBwk",
        "colab_type": "code",
        "outputId": "e932035b-2014-445e-b407-e6ead30738c7",
        "colab": {
          "base_uri": "https://localhost:8080/",
          "height": 272
        }
      },
      "source": [
        "#for i in range(5):\n",
        "nb_images = 5\n",
        "rand_features = torch.randn(nb_images, bottleneck).to(hparams['device']) \n",
        "output = model.decoder(rand_features)\n",
        "#Visualisation\n",
        "output = output.cpu().detach().numpy()\n",
        "images_width = 28\n",
        "fig, axes = plt.subplots(nrows=1,ncols=5,sharex=True,sharey=True,figsize=(25,4))\n",
        "decoded_images = output[:nb_images]  \n",
        "for ax, img in zip(axes, decoded_images):\n",
        "    ax.imshow(np.squeeze(img), cmap='gray')\n",
        "    ax.get_xaxis().set_visible(False)\n",
        "    ax.get_yaxis().set_visible(False)"
      ],
      "execution_count": 0,
      "outputs": [
        {
          "output_type": "display_data",
          "data": {
            "image/png": "[encoded data removed]",
            "text/plain": [
              "<Figure size 1800x288 with 5 Axes>"
            ]
          },
          "metadata": {
            "tags": []
          }
        }
      ]
    },
    {
      "cell_type": "markdown",
      "metadata": {
        "id": "swhbaAJcdVh2",
        "colab_type": "text"
      },
      "source": [
        "#Exercice 2#"
      ]
    },
    {
      "cell_type": "markdown",
      "metadata": {
        "id": "l3ImVXmujF46",
        "colab_type": "text"
      },
      "source": [
        "We take a subset of 100 images and their associates label from the MNIST training data."
      ]
    },
    {
      "cell_type": "code",
      "metadata": {
        "id": "thhTDz6pjFG9",
        "colab_type": "code",
        "colab": {}
      },
      "source": [
        "nb_images_subnet = 100\n",
        "[trainset,_]=torch.utils.data.random_split(mnist_trainset,[nb_images_subnet,tvdataset_length-nb_images_subnet])\n",
        "train_loader = torch.utils.data.DataLoader(\n",
        "    trainset,\n",
        "    batch_size=hparams['batch_size'], \n",
        "    shuffle=True)"
      ],
      "execution_count": 0,
      "outputs": []
    },
    {
      "cell_type": "markdown",
      "metadata": {
        "id": "khqkApdIfVqv",
        "colab_type": "text"
      },
      "source": [
        "We first take the layers of the encoder part of the  model autoencoder. We take the one with a bottleneck of length 15."
      ]
    },
    {
      "cell_type": "code",
      "metadata": {
        "id": "b2vkIG0PdYJ_",
        "colab_type": "code",
        "outputId": "1a6ec10f-b701-42a8-8fd2-9e380b399059",
        "colab": {
          "base_uri": "https://localhost:8080/",
          "height": 390
        }
      },
      "source": [
        "encoder_pretrain = model.encoder \n",
        "encoder_pretrain.eval()\n",
        "encoder_pretrain.to(hparams['device'])"
      ],
      "execution_count": 0,
      "outputs": [
        {
          "output_type": "execute_result",
          "data": {
            "text/plain": [
              "Encoder(\n",
              "  (conv1): Sequential(\n",
              "    (0): Conv2d(1, 32, kernel_size=(5, 5), stride=(1, 1), padding=(2, 2))\n",
              "    (1): BatchNorm2d(32, eps=1e-05, momentum=0.1, affine=True, track_running_stats=True)\n",
              "    (2): MaxPool2d(kernel_size=2, stride=2, padding=0, dilation=1, ceil_mode=False)\n",
              "    (3): ReLU()\n",
              "    (4): Dropout(p=0.5, inplace=False)\n",
              "  )\n",
              "  (conv2): Sequential(\n",
              "    (0): Conv2d(32, 16, kernel_size=(5, 5), stride=(1, 1), padding=(2, 2))\n",
              "    (1): BatchNorm2d(16, eps=1e-05, momentum=0.1, affine=True, track_running_stats=True)\n",
              "    (2): MaxPool2d(kernel_size=2, stride=2, padding=0, dilation=1, ceil_mode=False)\n",
              "    (3): ReLU()\n",
              "    (4): Dropout(p=0.5, inplace=False)\n",
              "    (5): Flatten()\n",
              "  )\n",
              "  (fc): Sequential(\n",
              "    (0): Linear(in_features=784, out_features=15, bias=True)\n",
              "    (1): ReLU()\n",
              "  )\n",
              ")"
            ]
          },
          "metadata": {
            "tags": []
          },
          "execution_count": 19
        }
      ]
    },
    {
      "cell_type": "markdown",
      "metadata": {
        "id": "IzxwhWz3li9x",
        "colab_type": "text"
      },
      "source": [
        "We create the classification model"
      ]
    },
    {
      "cell_type": "code",
      "metadata": {
        "id": "myOiDVjwmvtN",
        "colab_type": "code",
        "colab": {}
      },
      "source": [
        "bottleneck = 15\n",
        "class Classification(nn.Module):\n",
        "  def __init__(self,endoder):\n",
        "    super().__init__()\n",
        "    self.layers = endoder\n",
        "    #fully connected layers\n",
        "    self.fc = nn.Sequential(\n",
        "        nn.Linear(bottleneck,10),\n",
        "        nn.Softmax(dim=1)\n",
        "    )\n",
        "  def forward(self,x):\n",
        "    x = self.layers(x)\n",
        "    x= self.fc(x)\n",
        "    return x"
      ],
      "execution_count": 0,
      "outputs": []
    },
    {
      "cell_type": "markdown",
      "metadata": {
        "id": "AuogcDR2oMIU",
        "colab_type": "text"
      },
      "source": [
        "Training with the previous weights. "
      ]
    },
    {
      "cell_type": "code",
      "metadata": {
        "id": "PhFbZABsoslF",
        "colab_type": "code",
        "colab": {
          "base_uri": "https://localhost:8080/",
          "height": 212
        },
        "outputId": "89044dcb-b809-4b79-b445-11019c6df7a7"
      },
      "source": [
        "model_classifier = Classification(encoder_pretrain)\n",
        "for layer in list(model_classifier.layers):\n",
        "  for param in layer.parameters():\n",
        "    param.require_grad = False    #Freeze layers of the encoder"
      ],
      "execution_count": 1,
      "outputs": [
        {
          "output_type": "error",
          "ename": "NameError",
          "evalue": "ignored",
          "traceback": [
            "\u001b[0;31m---------------------------------------------------------------------------\u001b[0m",
            "\u001b[0;31mNameError\u001b[0m                                 Traceback (most recent call last)",
            "\u001b[0;32m<ipython-input-1-6b96fd7099c4>\u001b[0m in \u001b[0;36m<module>\u001b[0;34m()\u001b[0m\n\u001b[0;32m----> 1\u001b[0;31m \u001b[0mmodel_classifier\u001b[0m \u001b[0;34m=\u001b[0m \u001b[0mClassification\u001b[0m\u001b[0;34m(\u001b[0m\u001b[0mencoder_pretrain\u001b[0m\u001b[0;34m)\u001b[0m\u001b[0;34m\u001b[0m\u001b[0;34m\u001b[0m\u001b[0m\n\u001b[0m\u001b[1;32m      2\u001b[0m \u001b[0;32mfor\u001b[0m \u001b[0mlayer\u001b[0m \u001b[0;32min\u001b[0m \u001b[0mlist\u001b[0m\u001b[0;34m(\u001b[0m\u001b[0mmodel_classifier\u001b[0m\u001b[0;34m.\u001b[0m\u001b[0mlayers\u001b[0m\u001b[0;34m)\u001b[0m\u001b[0;34m:\u001b[0m\u001b[0;34m\u001b[0m\u001b[0;34m\u001b[0m\u001b[0m\n\u001b[1;32m      3\u001b[0m   \u001b[0;32mfor\u001b[0m \u001b[0mparam\u001b[0m \u001b[0;32min\u001b[0m \u001b[0mlayer\u001b[0m\u001b[0;34m.\u001b[0m\u001b[0mparameters\u001b[0m\u001b[0;34m(\u001b[0m\u001b[0;34m)\u001b[0m\u001b[0;34m:\u001b[0m\u001b[0;34m\u001b[0m\u001b[0;34m\u001b[0m\u001b[0m\n\u001b[1;32m      4\u001b[0m     \u001b[0mparam\u001b[0m\u001b[0;34m.\u001b[0m\u001b[0mrequire_grad\u001b[0m \u001b[0;34m=\u001b[0m \u001b[0;32mFalse\u001b[0m    \u001b[0;31m#Freeze layers of the encoder\u001b[0m\u001b[0;34m\u001b[0m\u001b[0;34m\u001b[0m\u001b[0m\n",
            "\u001b[0;31mNameError\u001b[0m: name 'Classification' is not defined"
          ]
        }
      ]
    },
    {
      "cell_type": "code",
      "metadata": {
        "id": "SbQVpxWy_yeX",
        "colab_type": "code",
        "colab": {}
      },
      "source": [
        "def correct_predictions(predicted_batch, label_batch):\n",
        "  pred = predicted_batch.argmax(dim=1, keepdim=True) # get the index of the max log-probability\n",
        "  acum = pred.eq(label_batch.view_as(pred)).sum().item()\n",
        "  return acum\n",
        "\n",
        "def train_epoch(train_loader, network, optimizer, criterion, hparams):\n",
        "  # Activate the train=True flag inside the model\n",
        "  network.train()\n",
        "  device = hparams['device']\n",
        "  avg_loss = None\n",
        "  avg_weight = 0.1\n",
        "  for batch_idx, (data, target) in enumerate(train_loader):\n",
        "      data, target = data.to(device), target.to(device)\n",
        "      optimizer.zero_grad()\n",
        "      output = model_classifier(data)\n",
        "      loss = criterion(output, target)\n",
        "      loss.backward()\n",
        "      if avg_loss:\n",
        "        avg_loss = avg_weight * loss.item() + (1 - avg_weight) * avg_loss\n",
        "      else:\n",
        "        avg_loss = loss.item()\n",
        "      optimizer.step()\n",
        "      if batch_idx % hparams['log_interval'] == 0:\n",
        "          print('Train Epoch: {} [{}/{} ({:.0f}%)]\\tLoss: {:.6f}'.format(\n",
        "              epoch, batch_idx * len(data), len(train_loader.dataset),\n",
        "              100. * batch_idx / len(train_loader), loss.item()))\n",
        "  return avg_loss\n",
        "def test_epoch(test_loader, network, hparams):\n",
        "    network.eval()\n",
        "    device = hparams['device']\n",
        "    test_loss = 0\n",
        "    acc = 0\n",
        "    with torch.no_grad():\n",
        "        for data, target in test_loader:\n",
        "            data, target = data.to(device), target.to(device)\n",
        "            output = model_classifier(data)\n",
        "            test_loss += criterion(output, target, reduction='sum').item() # sum up batch loss\n",
        "            # compute number of correct predictions in the batch\n",
        "            acc += correct_predictions(output, target)\n",
        "    # Average acc across all correct predictions batches now\n",
        "    test_loss /= len(test_loader.dataset)\n",
        "    test_acc = 100. * acc / len(test_loader.dataset)\n",
        "    print('\\nTest set: Average loss: {:.4f}, Accuracy: {}/{} ({:.0f}%)\\n'.format(\n",
        "        test_loss, acc, len(test_loader.dataset), test_acc,\n",
        "        ))\n",
        "    return test_loss, test_acc"
      ],
      "execution_count": 0,
      "outputs": []
    },
    {
      "cell_type": "code",
      "metadata": {
        "id": "RL5CyLd1Ir7I",
        "colab_type": "code",
        "outputId": "f5bc44da-871d-4e1c-90c3-3a214f4de1c6",
        "colab": {
          "base_uri": "https://localhost:8080/",
          "height": 1000
        }
      },
      "source": [
        "tr_losses = []\n",
        "te_losses = []\n",
        "te_accs = []\n",
        "model_classifier.to(hparams['device'])\n",
        "optimizer = optim.RMSprop(model_classifier.parameters(), lr=hparams['learning_rate'])\n",
        "criterion = F.nll_loss\n",
        "\n",
        "for epoch in range(1, hparams['num_epochs'] + 50):\n",
        "  tr_losses.append(train_epoch(train_loader, model_classifier, optimizer, criterion, hparams))\n",
        "  te_loss, te_acc = test_epoch(test_loader, model_classifier, hparams)\n",
        "  te_losses.append(te_loss)\n",
        "  te_accs.append(te_acc)"
      ],
      "execution_count": 0,
      "outputs": [
        {
          "output_type": "stream",
          "text": [
            "Train Epoch: 1 [0/100 (0%)]\tLoss: -0.082447\n",
            "\n",
            "Test set: Average loss: -0.1364, Accuracy: 1406/10000 (14%)\n",
            "\n",
            "Train Epoch: 2 [0/100 (0%)]\tLoss: -0.162588\n",
            "\n",
            "Test set: Average loss: -0.2054, Accuracy: 2643/10000 (26%)\n",
            "\n",
            "Train Epoch: 3 [0/100 (0%)]\tLoss: -0.305485\n",
            "\n",
            "Test set: Average loss: -0.2655, Accuracy: 3141/10000 (31%)\n",
            "\n",
            "Train Epoch: 4 [0/100 (0%)]\tLoss: -0.318949\n",
            "\n",
            "Test set: Average loss: -0.3018, Accuracy: 3385/10000 (34%)\n",
            "\n",
            "Train Epoch: 5 [0/100 (0%)]\tLoss: -0.443720\n",
            "\n",
            "Test set: Average loss: -0.3218, Accuracy: 3614/10000 (36%)\n",
            "\n",
            "Train Epoch: 6 [0/100 (0%)]\tLoss: -0.442210\n",
            "\n",
            "Test set: Average loss: -0.3453, Accuracy: 3846/10000 (38%)\n",
            "\n",
            "Train Epoch: 7 [0/100 (0%)]\tLoss: -0.528384\n",
            "\n",
            "Test set: Average loss: -0.3606, Accuracy: 3935/10000 (39%)\n",
            "\n",
            "Train Epoch: 8 [0/100 (0%)]\tLoss: -0.520575\n",
            "\n",
            "Test set: Average loss: -0.3625, Accuracy: 3909/10000 (39%)\n",
            "\n",
            "Train Epoch: 9 [0/100 (0%)]\tLoss: -0.528279\n",
            "\n",
            "Test set: Average loss: -0.3745, Accuracy: 4065/10000 (41%)\n",
            "\n",
            "Train Epoch: 10 [0/100 (0%)]\tLoss: -0.536959\n",
            "\n",
            "Test set: Average loss: -0.3797, Accuracy: 4114/10000 (41%)\n",
            "\n",
            "Train Epoch: 11 [0/100 (0%)]\tLoss: -0.562102\n",
            "\n",
            "Test set: Average loss: -0.3896, Accuracy: 4192/10000 (42%)\n",
            "\n",
            "Train Epoch: 12 [0/100 (0%)]\tLoss: -0.517508\n",
            "\n",
            "Test set: Average loss: -0.3969, Accuracy: 4237/10000 (42%)\n",
            "\n",
            "Train Epoch: 13 [0/100 (0%)]\tLoss: -0.605890\n",
            "\n",
            "Test set: Average loss: -0.4028, Accuracy: 4259/10000 (43%)\n",
            "\n",
            "Train Epoch: 14 [0/100 (0%)]\tLoss: -0.548234\n",
            "\n",
            "Test set: Average loss: -0.4199, Accuracy: 4481/10000 (45%)\n",
            "\n",
            "Train Epoch: 15 [0/100 (0%)]\tLoss: -0.508988\n",
            "\n",
            "Test set: Average loss: -0.4342, Accuracy: 4658/10000 (47%)\n",
            "\n",
            "Train Epoch: 16 [0/100 (0%)]\tLoss: -0.645837\n",
            "\n",
            "Test set: Average loss: -0.4386, Accuracy: 4688/10000 (47%)\n",
            "\n",
            "Train Epoch: 17 [0/100 (0%)]\tLoss: -0.564661\n",
            "\n",
            "Test set: Average loss: -0.4438, Accuracy: 4720/10000 (47%)\n",
            "\n",
            "Train Epoch: 18 [0/100 (0%)]\tLoss: -0.581459\n",
            "\n",
            "Test set: Average loss: -0.4533, Accuracy: 4808/10000 (48%)\n",
            "\n",
            "Train Epoch: 19 [0/100 (0%)]\tLoss: -0.636578\n",
            "\n",
            "Test set: Average loss: -0.4623, Accuracy: 4899/10000 (49%)\n",
            "\n",
            "Train Epoch: 20 [0/100 (0%)]\tLoss: -0.622497\n",
            "\n",
            "Test set: Average loss: -0.4565, Accuracy: 4807/10000 (48%)\n",
            "\n",
            "Train Epoch: 21 [0/100 (0%)]\tLoss: -0.651623\n",
            "\n",
            "Test set: Average loss: -0.4669, Accuracy: 4918/10000 (49%)\n",
            "\n",
            "Train Epoch: 22 [0/100 (0%)]\tLoss: -0.601826\n",
            "\n",
            "Test set: Average loss: -0.4749, Accuracy: 5012/10000 (50%)\n",
            "\n",
            "Train Epoch: 23 [0/100 (0%)]\tLoss: -0.657083\n",
            "\n",
            "Test set: Average loss: -0.4775, Accuracy: 5039/10000 (50%)\n",
            "\n",
            "Train Epoch: 24 [0/100 (0%)]\tLoss: -0.664874\n",
            "\n",
            "Test set: Average loss: -0.4758, Accuracy: 5000/10000 (50%)\n",
            "\n",
            "Train Epoch: 25 [0/100 (0%)]\tLoss: -0.644414\n",
            "\n",
            "Test set: Average loss: -0.4714, Accuracy: 4928/10000 (49%)\n",
            "\n",
            "Train Epoch: 26 [0/100 (0%)]\tLoss: -0.642190\n",
            "\n",
            "Test set: Average loss: -0.4879, Accuracy: 5118/10000 (51%)\n",
            "\n",
            "Train Epoch: 27 [0/100 (0%)]\tLoss: -0.632886\n",
            "\n",
            "Test set: Average loss: -0.4854, Accuracy: 5082/10000 (51%)\n",
            "\n",
            "Train Epoch: 28 [0/100 (0%)]\tLoss: -0.657409\n",
            "\n",
            "Test set: Average loss: -0.4883, Accuracy: 5112/10000 (51%)\n",
            "\n",
            "Train Epoch: 29 [0/100 (0%)]\tLoss: -0.670332\n",
            "\n",
            "Test set: Average loss: -0.4915, Accuracy: 5137/10000 (51%)\n",
            "\n",
            "Train Epoch: 30 [0/100 (0%)]\tLoss: -0.665263\n",
            "\n",
            "Test set: Average loss: -0.4897, Accuracy: 5116/10000 (51%)\n",
            "\n",
            "Train Epoch: 31 [0/100 (0%)]\tLoss: -0.615061\n",
            "\n",
            "Test set: Average loss: -0.4884, Accuracy: 5088/10000 (51%)\n",
            "\n",
            "Train Epoch: 32 [0/100 (0%)]\tLoss: -0.631752\n",
            "\n",
            "Test set: Average loss: -0.4937, Accuracy: 5143/10000 (51%)\n",
            "\n",
            "Train Epoch: 33 [0/100 (0%)]\tLoss: -0.603906\n",
            "\n",
            "Test set: Average loss: -0.4945, Accuracy: 5155/10000 (52%)\n",
            "\n",
            "Train Epoch: 34 [0/100 (0%)]\tLoss: -0.708917\n",
            "\n",
            "Test set: Average loss: -0.4891, Accuracy: 5084/10000 (51%)\n",
            "\n",
            "Train Epoch: 35 [0/100 (0%)]\tLoss: -0.682772\n",
            "\n",
            "Test set: Average loss: -0.4934, Accuracy: 5144/10000 (51%)\n",
            "\n",
            "Train Epoch: 36 [0/100 (0%)]\tLoss: -0.708167\n",
            "\n",
            "Test set: Average loss: -0.5001, Accuracy: 5215/10000 (52%)\n",
            "\n",
            "Train Epoch: 37 [0/100 (0%)]\tLoss: -0.667293\n",
            "\n",
            "Test set: Average loss: -0.5008, Accuracy: 5213/10000 (52%)\n",
            "\n",
            "Train Epoch: 38 [0/100 (0%)]\tLoss: -0.612671\n",
            "\n",
            "Test set: Average loss: -0.5000, Accuracy: 5205/10000 (52%)\n",
            "\n",
            "Train Epoch: 39 [0/100 (0%)]\tLoss: -0.658545\n",
            "\n",
            "Test set: Average loss: -0.5015, Accuracy: 5222/10000 (52%)\n",
            "\n",
            "Train Epoch: 40 [0/100 (0%)]\tLoss: -0.662849\n",
            "\n",
            "Test set: Average loss: -0.5042, Accuracy: 5246/10000 (52%)\n",
            "\n",
            "Train Epoch: 41 [0/100 (0%)]\tLoss: -0.579009\n",
            "\n",
            "Test set: Average loss: -0.5033, Accuracy: 5228/10000 (52%)\n",
            "\n",
            "Train Epoch: 42 [0/100 (0%)]\tLoss: -0.677219\n",
            "\n",
            "Test set: Average loss: -0.5013, Accuracy: 5213/10000 (52%)\n",
            "\n",
            "Train Epoch: 43 [0/100 (0%)]\tLoss: -0.701321\n",
            "\n",
            "Test set: Average loss: -0.4991, Accuracy: 5177/10000 (52%)\n",
            "\n",
            "Train Epoch: 44 [0/100 (0%)]\tLoss: -0.670693\n",
            "\n",
            "Test set: Average loss: -0.4961, Accuracy: 5135/10000 (51%)\n",
            "\n",
            "Train Epoch: 45 [0/100 (0%)]\tLoss: -0.624329\n",
            "\n",
            "Test set: Average loss: -0.5059, Accuracy: 5237/10000 (52%)\n",
            "\n",
            "Train Epoch: 46 [0/100 (0%)]\tLoss: -0.669328\n",
            "\n",
            "Test set: Average loss: -0.5098, Accuracy: 5277/10000 (53%)\n",
            "\n",
            "Train Epoch: 47 [0/100 (0%)]\tLoss: -0.664250\n",
            "\n",
            "Test set: Average loss: -0.5117, Accuracy: 5302/10000 (53%)\n",
            "\n",
            "Train Epoch: 48 [0/100 (0%)]\tLoss: -0.692448\n",
            "\n",
            "Test set: Average loss: -0.5128, Accuracy: 5308/10000 (53%)\n",
            "\n",
            "Train Epoch: 49 [0/100 (0%)]\tLoss: -0.642353\n",
            "\n",
            "Test set: Average loss: -0.5136, Accuracy: 5307/10000 (53%)\n",
            "\n",
            "Train Epoch: 50 [0/100 (0%)]\tLoss: -0.667047\n",
            "\n",
            "Test set: Average loss: -0.5119, Accuracy: 5292/10000 (53%)\n",
            "\n",
            "Train Epoch: 51 [0/100 (0%)]\tLoss: -0.624809\n",
            "\n",
            "Test set: Average loss: -0.5119, Accuracy: 5282/10000 (53%)\n",
            "\n",
            "Train Epoch: 52 [0/100 (0%)]\tLoss: -0.708641\n",
            "\n",
            "Test set: Average loss: -0.5130, Accuracy: 5292/10000 (53%)\n",
            "\n",
            "Train Epoch: 53 [0/100 (0%)]\tLoss: -0.668702\n",
            "\n",
            "Test set: Average loss: -0.5159, Accuracy: 5325/10000 (53%)\n",
            "\n",
            "Train Epoch: 54 [0/100 (0%)]\tLoss: -0.665226\n",
            "\n",
            "Test set: Average loss: -0.5168, Accuracy: 5338/10000 (53%)\n",
            "\n",
            "Train Epoch: 55 [0/100 (0%)]\tLoss: -0.677333\n",
            "\n",
            "Test set: Average loss: -0.5176, Accuracy: 5342/10000 (53%)\n",
            "\n",
            "Train Epoch: 56 [0/100 (0%)]\tLoss: -0.604377\n",
            "\n",
            "Test set: Average loss: -0.5155, Accuracy: 5318/10000 (53%)\n",
            "\n",
            "Train Epoch: 57 [0/100 (0%)]\tLoss: -0.693760\n",
            "\n",
            "Test set: Average loss: -0.5158, Accuracy: 5314/10000 (53%)\n",
            "\n",
            "Train Epoch: 58 [0/100 (0%)]\tLoss: -0.647305\n",
            "\n",
            "Test set: Average loss: -0.5152, Accuracy: 5303/10000 (53%)\n",
            "\n",
            "Train Epoch: 59 [0/100 (0%)]\tLoss: -0.661839\n",
            "\n",
            "Test set: Average loss: -0.5157, Accuracy: 5304/10000 (53%)\n",
            "\n"
          ],
          "name": "stdout"
        }
      ]
    }
  ]
}
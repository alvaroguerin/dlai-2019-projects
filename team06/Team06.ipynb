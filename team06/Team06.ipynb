{
  "nbformat": 4,
  "nbformat_minor": 0,
  "metadata": {
    "colab": {
      "name": "Team06.ipynb",
      "provenance": [],
      "collapsed_sections": []
    },
    "kernelspec": {
      "name": "python3",
      "display_name": "Python 3"
    },
    "accelerator": "GPU"
  },
  "cells": [
    {
      "cell_type": "markdown",
      "metadata": {
        "id": "UXEMd6fjMDxv",
        "colab_type": "text"
      },
      "source": [
        "#Exercise 1: Convolutional Autoencoder#\n",
        "\n",
        "Train a convolutional autoencoder on MNIST, study the influence of the bottleneck size and generate some images"
      ]
    },
    {
      "cell_type": "code",
      "metadata": {
        "id": "yI2YUDCIMl60",
        "colab_type": "code",
        "colab": {}
      },
      "source": [
        "import numpy as np\n",
        "np.random.seed(1)\n",
        "import torch\n",
        "import torch.nn as nn\n",
        "import torch.optim as optim\n",
        "import torch.nn.functional as F\n",
        "from torchvision import datasets, transforms\n",
        "torch.manual_seed(1)\n",
        "if torch.cuda.is_available():\n",
        "  torch.cuda.manual_seed_all(1)\n",
        "import matplotlib.pyplot as plt\n",
        "import pandas as pd"
      ],
      "execution_count": 0,
      "outputs": []
    },
    {
      "cell_type": "code",
      "metadata": {
        "id": "8UY29exSOCzl",
        "colab_type": "code",
        "colab": {}
      },
      "source": [
        "# Let's define some hyper-parameters\n",
        "hparams = {\n",
        "    'batch_size':64,\n",
        "    'num_epochs':5,\n",
        "    'test_batch_size':64,\n",
        "    'hidden_size':128,\n",
        "    'learning_rate':1e-3,\n",
        "    'log_interval':100,\n",
        "}\n",
        "\n",
        "# we select to work on GPU if it is available in the machine, otherwise\n",
        "# will run on CPU\n",
        "hparams['device'] = 'cuda' if torch.cuda.is_available() else 'cpu'"
      ],
      "execution_count": 0,
      "outputs": []
    },
    {
      "cell_type": "markdown",
      "metadata": {
        "id": "toHzJwqpOn4_",
        "colab_type": "text"
      },
      "source": [
        "**Load Dataset**"
      ]
    },
    {
      "cell_type": "code",
      "metadata": {
        "id": "vZ-ESSIPOu6b",
        "colab_type": "code",
        "colab": {}
      },
      "source": [
        "mnist_trainset = datasets.MNIST('data', train=True, download=True,\n",
        "                                transform=transforms.Compose([\n",
        "                                    transforms.ToTensor(),\n",
        "                                    transforms.Normalize((0.1307,), (0.3081,))                        \n",
        "                                ]))\n",
        "mnist_testset = datasets.MNIST('data', train=False, \n",
        "                               transform=transforms.Compose([\n",
        "                                   transforms.ToTensor(),\n",
        "                                   transforms.Normalize((0.1307,), (0.3081,))\n",
        "                               ]))"
      ],
      "execution_count": 0,
      "outputs": []
    },
    {
      "cell_type": "markdown",
      "metadata": {
        "id": "_ficutcOO9OD",
        "colab_type": "text"
      },
      "source": [
        "**Split data**:\n",
        "We split the data in 95% for training and 5% for validation"
      ]
    },
    {
      "cell_type": "code",
      "metadata": {
        "id": "lVjEIXDAPKPG",
        "colab_type": "code",
        "outputId": "48771ebe-134f-49e0-d203-942441428d72",
        "colab": {
          "base_uri": "https://localhost:8080/",
          "height": 50
        }
      },
      "source": [
        "#we take the size of the trainset and after that we take 5% of dataset\n",
        "tvdataset_length = len(mnist_trainset)\n",
        "validationset_length = int(0.05*tvdataset_length)\n",
        "#we split the dataset\n",
        "[trainset,validationset]=torch.utils.data.random_split(mnist_trainset,[tvdataset_length-validationset_length,validationset_length])\n",
        "print('Validation dataset is :{}%'.format(100*len(validationset)/len(mnist_trainset)))\n",
        "print('Training dataset is :{}%'.format(100*len(trainset)/len(mnist_trainset)))"
      ],
      "execution_count": 149,
      "outputs": [
        {
          "output_type": "stream",
          "text": [
            "Validation dataset is :5.0%\n",
            "Training dataset is :95.0%\n"
          ],
          "name": "stdout"
        }
      ]
    },
    {
      "cell_type": "markdown",
      "metadata": {
        "id": "oCw_FrqyPbEf",
        "colab_type": "text"
      },
      "source": [
        "**Loader data**\n",
        "We load the dataset with batch size "
      ]
    },
    {
      "cell_type": "code",
      "metadata": {
        "id": "E9SY3Wd2P2as",
        "colab_type": "code",
        "colab": {}
      },
      "source": [
        "train_loader = torch.utils.data.DataLoader(\n",
        "    trainset,\n",
        "    batch_size=hparams['batch_size'], \n",
        "    shuffle=True)\n",
        "\n",
        "validation_loader = torch.utils.data.DataLoader(\n",
        "    validationset,\n",
        "    batch_size=hparams['batch_size'], \n",
        "    shuffle=True)\n",
        "\n",
        "test_loader = torch.utils.data.DataLoader(\n",
        "     mnist_testset,\n",
        "    batch_size=hparams['test_batch_size'], \n",
        "    shuffle=False)"
      ],
      "execution_count": 0,
      "outputs": []
    },
    {
      "cell_type": "markdown",
      "metadata": {
        "id": "ujmQBiU-P_24",
        "colab_type": "text"
      },
      "source": [
        "## 2. Implement a convolutional autoencoder (with separate Encoder and Decoder modules). ##"
      ]
    },
    {
      "cell_type": "markdown",
      "metadata": {
        "id": "7e1z86RQQLIP",
        "colab_type": "text"
      },
      "source": [
        "**Creation of the Class Autoencoder**"
      ]
    },
    {
      "cell_type": "markdown",
      "metadata": {
        "id": "TFrAUZ3I0rXu",
        "colab_type": "text"
      },
      "source": [
        "**Define of the Class encoder**"
      ]
    },
    {
      "cell_type": "code",
      "metadata": {
        "id": "dy3qem8CxhF4",
        "colab_type": "code",
        "colab": {}
      },
      "source": [
        "class Encoder(nn.Module):\n",
        "  def __init__(self,bottleneck):\n",
        "    super().__init__()\n",
        "    self.bottleneck = bottleneck\n",
        "    self.conv1 = nn.Sequential( \n",
        "              nn.Conv2d(1,32,5,padding=2),\n",
        "              nn.BatchNorm2d(32),\n",
        "              nn.MaxPool2d(2,2),\n",
        "              nn.ReLU(),\n",
        "              nn.Dropout(0.5))\n",
        "    self.conv2 = nn.Sequential(\n",
        "              nn.Conv2d(32,16,5,padding=2),\n",
        "              nn.BatchNorm2d(16),\n",
        "              nn.MaxPool2d(2,2),\n",
        "              nn.ReLU(),\n",
        "              nn.Dropout(0.5),\n",
        "              nn.Flatten())\n",
        "    self.fc = nn.Sequential(\n",
        "              nn.Linear(16*7*7,self.bottleneck),\n",
        "              nn.ReLU())\n",
        "  def forward(self,x):\n",
        "    x= self.conv1(x)\n",
        "    x= self.conv2(x)\n",
        "    x= self.fc(x)\n",
        "    return x  "
      ],
      "execution_count": 0,
      "outputs": []
    },
    {
      "cell_type": "markdown",
      "metadata": {
        "id": "wKpWhH-p0y7X",
        "colab_type": "text"
      },
      "source": [
        "**Define of the class Decoder**"
      ]
    },
    {
      "cell_type": "code",
      "metadata": {
        "id": "G003wB2C03Ox",
        "colab_type": "code",
        "colab": {}
      },
      "source": [
        "class Decoder(nn.Module):\n",
        "  def __init__(self,bottleneck):\n",
        "    super().__init__()\n",
        "    self.bottleneck = bottleneck\n",
        "    self.conv1 = nn.Sequential( \n",
        "          nn.ConvTranspose2d(64,32,14,stride=2),\n",
        "          nn.BatchNorm2d(32),\n",
        "          nn.ReLU(),\n",
        "          nn.Dropout(0.5))\n",
        "    self.conv2 = nn.Sequential(\n",
        "          nn.ConvTranspose2d(32,1,2,stride=2),\n",
        "          nn.BatchNorm2d(1),\n",
        "          nn.Sigmoid())\n",
        "    self.fc = nn.Sequential(\n",
        "          nn.Linear(self.bottleneck,64),\n",
        "          nn.ReLU())\n",
        "  def forward(self,x):\n",
        "    x= self.fc(x)\n",
        "    x= self.conv1(x.view(x.shape[0], 64, 1,1))\n",
        "    x= self.conv2(x)\n",
        "    return x"
      ],
      "execution_count": 0,
      "outputs": []
    },
    {
      "cell_type": "markdown",
      "metadata": {
        "id": "RjXKNbo-2K6L",
        "colab_type": "text"
      },
      "source": [
        "**Define of the class Autoencoder**"
      ]
    },
    {
      "cell_type": "code",
      "metadata": {
        "id": "gQlv3B8z2RsZ",
        "colab_type": "code",
        "colab": {}
      },
      "source": [
        "class Autoencoder(nn.Module):\n",
        "    def __init__(self,bottleneck):\n",
        "      super().__init__()\n",
        "      self.bottleneck = bottleneck\n",
        "      self.encoder = Encoder(self.bottleneck)\n",
        "      self.decoder = Decoder(self.bottleneck)\n",
        "    def forward(self,x):\n",
        "      x= self.encoder(x)\n",
        "      x= self.decoder(x)\n",
        "      return x"
      ],
      "execution_count": 0,
      "outputs": []
    },
    {
      "cell_type": "markdown",
      "metadata": {
        "id": "H8EQA1d1QjR_",
        "colab_type": "text"
      },
      "source": [
        "**Train the Model**"
      ]
    },
    {
      "cell_type": "markdown",
      "metadata": {
        "id": "-aeZYUpvYLr3",
        "colab_type": "text"
      },
      "source": [
        "Definition of the function *train epoch*. It train the weights of the model. It computes the loss of the train and it performs the backpropagation. "
      ]
    },
    {
      "cell_type": "code",
      "metadata": {
        "id": "SwXY1cVk_Df5",
        "colab_type": "code",
        "colab": {}
      },
      "source": [
        "def train_epoch(train_loader,model,optimizer,criterion,hparams):\n",
        "  model.train()\n",
        "  avg_loss_train = None\n",
        "  avg_weight = 0.1\n",
        "  for data in train_loader:\n",
        "          optimizer.zero_grad()\n",
        "          img, _ = data\n",
        "          img = img.cuda()\n",
        "          output = model(img)\n",
        "          loss = criterion(output,img)\n",
        "          loss.backward()\n",
        "          optimizer.step()\n",
        "          if avg_loss_train:\n",
        "            avg_loss_train = avg_weight * loss.item() + (1 - avg_weight) * avg_loss_train\n",
        "          else:\n",
        "            avg_loss_train = loss.item() \n",
        "  return avg_loss_train"
      ],
      "execution_count": 0,
      "outputs": []
    },
    {
      "cell_type": "markdown",
      "metadata": {
        "id": "r6UAzZfgczS7",
        "colab_type": "text"
      },
      "source": [
        "It is a generic fonction to evaluate the model it return the loss average and the MSE. "
      ]
    },
    {
      "cell_type": "code",
      "metadata": {
        "id": "9kH7nzyIIcnB",
        "colab_type": "code",
        "colab": {}
      },
      "source": [
        "def test_epoch(set_loader,model,hparams):\n",
        "  model.eval()\n",
        "  avg_loss_validation =0\n",
        "  MSE = 0\n",
        "  with torch.no_grad():\n",
        "    for data in set_loader:\n",
        "      img,_ = data\n",
        "      img = img.cuda()\n",
        "      output = model(img)\n",
        "      val_loss = criterion(output,img)\n",
        "      MSE += criterion_MSE(output,img)\n",
        "      avg_loss_validation+= val_loss\n",
        "  avg_loss_validation /= len(set_loader)\n",
        "  MSE /= len(set_loader) \n",
        "  return avg_loss_validation,MSE"
      ],
      "execution_count": 0,
      "outputs": []
    },
    {
      "cell_type": "markdown",
      "metadata": {
        "id": "mTxKC70ndCj7",
        "colab_type": "text"
      },
      "source": [
        "###Train of the model and evalutation of it with different bottleneck###"
      ]
    },
    {
      "cell_type": "code",
      "metadata": {
        "id": "4hLCJnupgoCz",
        "colab_type": "code",
        "outputId": "132c04a8-3c5f-4263-d792-a604e5a95037",
        "colab": {
          "base_uri": "https://localhost:8080/",
          "height": 536
        }
      },
      "source": [
        "dic_MSE = dict()\n",
        "validation_loss_bottleneck = dict()\n",
        "train_loss_bottleneck = dict()\n",
        "for bottleneck in range(1,20,4):\n",
        "  model = Autoencoder(bottleneck).cuda()\n",
        "  model.to(hparams['device'])\n",
        "  list_MSE_validation = []\n",
        "  train_loss = []\n",
        "  validation_loss = []\n",
        "  criterion_MSE = nn.MSELoss()\n",
        "  criterion = nn.BCELoss()\n",
        "  optimizer =  optim.Adam(model.parameters(), lr=hparams['learning_rate'])\n",
        "  print('Bottleneck :{}'.format(bottleneck))\n",
        "  \n",
        "  for epoch in range(hparams['num_epochs']):\n",
        "    loss_train = train_epoch(train_loader,model,optimizer,criterion,hparams)\n",
        "    val_loss,MSE_validation = test_epoch(validation_loader,model,hparams)\n",
        "    train_loss.append(loss_train)\n",
        "    validation_loss.append(val_loss)\n",
        "    list_MSE_validation.append(MSE_validation)\n",
        "    print('Train epoch [{}/{}], loss:{:.4f}, validation loss = {:.4f}, MSE:{:.2f}'.format(epoch+1, hparams['num_epochs'], loss_train,val_loss,MSE_validation))\n",
        "  _,test_MSE = test_epoch(test_loader,model,hparams)\n",
        "  train_loss_bottleneck[bottleneck]= train_loss\n",
        "  validation_loss_bottleneck[bottleneck] = validation_loss\n",
        "  dic_MSE[bottleneck]= [test_MSE.item(),list_MSE_validation[-1].item()]"
      ],
      "execution_count": 0,
      "outputs": [
        {
          "output_type": "stream",
          "text": [
            "Bottleneck :1\n",
            "Train epoch [1/5], loss:-0.2561, validation loss = -0.2676, MSE:0.87\n",
            "Train epoch [2/5], loss:-0.6322, validation loss = -0.6523, MSE:0.83\n",
            "Train epoch [3/5], loss:-0.9923, validation loss = -0.9990, MSE:0.81\n",
            "Train epoch [4/5], loss:-1.3459, validation loss = -1.3626, MSE:0.81\n",
            "Train epoch [5/5], loss:-1.6829, validation loss = -1.7247, MSE:0.80\n",
            "Bottleneck :5\n",
            "Train epoch [1/5], loss:-0.6684, validation loss = -0.7142, MSE:0.75\n",
            "Train epoch [2/5], loss:-1.3164, validation loss = -1.2627, MSE:0.67\n",
            "Train epoch [3/5], loss:-1.8332, validation loss = -1.8207, MSE:0.63\n",
            "Train epoch [4/5], loss:-2.3741, validation loss = -2.3268, MSE:0.62\n",
            "Train epoch [5/5], loss:-2.9185, validation loss = -2.8233, MSE:0.61\n",
            "Bottleneck :9\n",
            "Train epoch [1/5], loss:-0.7898, validation loss = -0.8315, MSE:0.71\n",
            "Train epoch [2/5], loss:-1.4728, validation loss = -1.4680, MSE:0.62\n",
            "Train epoch [3/5], loss:-2.0699, validation loss = -2.0420, MSE:0.58\n",
            "Train epoch [4/5], loss:-2.6719, validation loss = -2.6625, MSE:0.56\n",
            "Train epoch [5/5], loss:-3.2597, validation loss = -3.1739, MSE:0.56\n",
            "Bottleneck :13\n",
            "Train epoch [1/5], loss:-0.7940, validation loss = -0.8053, MSE:0.72\n",
            "Train epoch [2/5], loss:-1.4333, validation loss = -1.4201, MSE:0.62\n",
            "Train epoch [3/5], loss:-2.0183, validation loss = -2.0424, MSE:0.59\n",
            "Train epoch [4/5], loss:-2.6210, validation loss = -2.6157, MSE:0.57\n",
            "Train epoch [5/5], loss:-3.1780, validation loss = -3.1246, MSE:0.57\n",
            "Bottleneck :17\n",
            "Train epoch [1/5], loss:-0.8665, validation loss = -0.8857, MSE:0.69\n",
            "Train epoch [2/5], loss:-1.5296, validation loss = -1.5890, MSE:0.59\n",
            "Train epoch [3/5], loss:-2.1835, validation loss = -2.1496, MSE:0.56\n",
            "Train epoch [4/5], loss:-2.7757, validation loss = -2.7179, MSE:0.54\n",
            "Train epoch [5/5], loss:-3.3742, validation loss = -3.3480, MSE:0.54\n"
          ],
          "name": "stdout"
        }
      ]
    },
    {
      "cell_type": "markdown",
      "metadata": {
        "id": "jA9U4c-MGWtg",
        "colab_type": "text"
      },
      "source": [
        "Plot the Loss "
      ]
    },
    {
      "cell_type": "code",
      "metadata": {
        "id": "7Z2eM85OkyRz",
        "colab_type": "code",
        "outputId": "87249ef2-3557-4067-c2b9-bc3a5a2156b6",
        "colab": {
          "base_uri": "https://localhost:8080/",
          "height": 514
        }
      },
      "source": [
        "plt.figure(figsize=(10,8))\n",
        "plt.xlabel('Epoch')\n",
        "plt.ylabel('BCEloss')\n",
        "form = ['-','+']\n",
        "color = ['r','b','g','k','y']\n",
        "i=0\n",
        "for bottleneck in train_loss_bottleneck.keys():\n",
        "  plt.plot(train_loss_bottleneck.get(bottleneck),color[i]+form[0], label='train loss bottleneck {}'.format(bottleneck))\n",
        "  plt.plot(validation_loss_bottleneck.get(bottleneck),color[i]+form[1],label='validation loss bottleneck {}'.format(bottleneck))\n",
        "  i+=1\n",
        "plt.legend()"
      ],
      "execution_count": 0,
      "outputs": [
        {
          "output_type": "execute_result",
          "data": {
            "text/plain": [
              "<matplotlib.legend.Legend at 0x7f007f7ba400>"
            ]
          },
          "metadata": {
            "tags": []
          },
          "execution_count": 138
        },
        {
          "output_type": "display_data",
          "data": {
            "image/png": "[encoded data removed]",
            "text/plain": [
              "<Figure size 720x576 with 1 Axes>"
            ]
          },
          "metadata": {
            "tags": []
          }
        }
      ]
    },
    {
      "cell_type": "markdown",
      "metadata": {
        "id": "EW95HDZbou3P",
        "colab_type": "text"
      },
      "source": [
        "##Table of the differents MSE##"
      ]
    },
    {
      "cell_type": "code",
      "metadata": {
        "id": "N0eJOldzpFx3",
        "colab_type": "code",
        "outputId": "01cc28b6-2f52-49db-ffd4-3e6bfcdba09e",
        "colab": {
          "base_uri": "https://localhost:8080/",
          "height": 138
        }
      },
      "source": [
        "data = {\"Bottleneck\":[\"Test MSE\",\"Validation MSE\"]}\n",
        "data.update(dic_MSE)\n",
        "df = pd.DataFrame(data)\n",
        "df = df.groupby('Bottleneck')\n",
        "df.first()"
      ],
      "execution_count": 0,
      "outputs": [
        {
          "output_type": "execute_result",
          "data": {
            "text/html": [
              "<div>\n",
              "<style scoped>\n",
              "    .dataframe tbody tr th:only-of-type {\n",
              "        vertical-align: middle;\n",
              "    }\n",
              "\n",
              "    .dataframe tbody tr th {\n",
              "        vertical-align: top;\n",
              "    }\n",
              "\n",
              "    .dataframe thead th {\n",
              "        text-align: right;\n",
              "    }\n",
              "</style>\n",
              "<table border=\"1\" class=\"dataframe\">\n",
              "  <thead>\n",
              "    <tr style=\"text-align: right;\">\n",
              "      <th></th>\n",
              "      <th>1</th>\n",
              "      <th>5</th>\n",
              "      <th>9</th>\n",
              "      <th>13</th>\n",
              "      <th>17</th>\n",
              "    </tr>\n",
              "    <tr>\n",
              "      <th>Bottleneck</th>\n",
              "      <th></th>\n",
              "      <th></th>\n",
              "      <th></th>\n",
              "      <th></th>\n",
              "      <th></th>\n",
              "    </tr>\n",
              "  </thead>\n",
              "  <tbody>\n",
              "    <tr>\n",
              "      <th>Test MSE</th>\n",
              "      <td>0.881309</td>\n",
              "      <td>0.753182</td>\n",
              "      <td>0.716474</td>\n",
              "      <td>0.703849</td>\n",
              "      <td>0.704460</td>\n",
              "    </tr>\n",
              "    <tr>\n",
              "      <th>Validation MSE</th>\n",
              "      <td>0.874880</td>\n",
              "      <td>0.748279</td>\n",
              "      <td>0.710395</td>\n",
              "      <td>0.697882</td>\n",
              "      <td>0.699037</td>\n",
              "    </tr>\n",
              "  </tbody>\n",
              "</table>\n",
              "</div>"
            ],
            "text/plain": [
              "                      1         5         9         13        17\n",
              "Bottleneck                                                      \n",
              "Test MSE        0.881309  0.753182  0.716474  0.703849  0.704460\n",
              "Validation MSE  0.874880  0.748279  0.710395  0.697882  0.699037"
            ]
          },
          "metadata": {
            "tags": []
          },
          "execution_count": 114
        }
      ]
    },
    {
      "cell_type": "code",
      "metadata": {
        "id": "negpfwPv6J7U",
        "colab_type": "code",
        "outputId": "cc9b29be-0a09-4e61-e7c6-2e1f7b4124c5",
        "colab": {
          "base_uri": "https://localhost:8080/",
          "height": 101
        }
      },
      "source": [
        "bottleneck = 15\n",
        "model = Autoencoder(bottleneck).cuda()\n",
        "model.to(hparams['device'])\n",
        "list_MSE_validation = []\n",
        "list_MSE_test = []\n",
        "train_loss = []\n",
        "validation_loss = []\n",
        "list_test_loss = []\n",
        "criterion_MSE = nn.MSELoss()\n",
        "criterion = nn.BCELoss()\n",
        "optimizer =  optim.Adam(model.parameters(), lr=hparams['learning_rate'])\n",
        "for epoch in range(hparams['num_epochs']):\n",
        "  loss_train = train_epoch(train_loader,model,optimizer,criterion,hparams)\n",
        "  val_loss,MSE_validation = test_epoch(validation_loader,model,hparams)\n",
        "  test_loss,MSE_test = test_epoch(test_loader,model,hparams)\n",
        "  train_loss.append(loss_train)\n",
        "  validation_loss.append(val_loss)\n",
        "  list_test_loss.append(test_loss)\n",
        "  list_MSE_validation.append(MSE_validation)\n",
        "  list_MSE_test.append(MSE_test)\n",
        "  print('Train epoch [{}/{}], loss:{:.4f}, validation loss = {:.4f}, MSE:{:.2f}'\n",
        "  .format(epoch+1, hparams['num_epochs'], loss_train,val_loss,MSE_validation))\n"
      ],
      "execution_count": 153,
      "outputs": [
        {
          "output_type": "stream",
          "text": [
            "Train epoch [1/5], loss:0.7859, validation loss = 0.6108, MSE:1.21\n",
            "Train epoch [2/5], loss:0.4973, validation loss = 0.6230, MSE:1.21\n",
            "Train epoch [3/5], loss:0.4253, validation loss = 0.6245, MSE:1.21\n",
            "Train epoch [4/5], loss:0.3985, validation loss = 0.6179, MSE:1.21\n",
            "Train epoch [5/5], loss:0.3800, validation loss = 0.6044, MSE:1.20\n"
          ],
          "name": "stdout"
        }
      ]
    },
    {
      "cell_type": "markdown",
      "metadata": {
        "id": "IXDCWQFSqV1-",
        "colab_type": "text"
      },
      "source": [
        "Display of 5 random images and the ouput of the model"
      ]
    },
    {
      "cell_type": "code",
      "metadata": {
        "id": "JaiwCPcbqsPl",
        "colab_type": "code",
        "outputId": "e628cb74-d60d-42e5-c150-ec0faa26ba35",
        "colab": {
          "base_uri": "https://localhost:8080/",
          "height": 272
        }
      },
      "source": [
        "#take 5 random images\n",
        "random_set_loader = torch.utils.data.DataLoader(\n",
        "     mnist_testset,\n",
        "    batch_size=5, \n",
        "    shuffle=True)\n",
        "dataiter = iter(random_set_loader)\n",
        "images,_ =dataiter.next()\n",
        "images = images.cuda()\n",
        "output = model(images)\n",
        "images = images.cpu().detach().numpy()\n",
        "output = output.cpu().detach().numpy()\n",
        "fig, axes = plt.subplots(nrows=2,ncols=5,sharex=True,sharey=True,figsize=(25,4\n",
        "))  \n",
        "for images, row in zip([images, output],axes):\n",
        "  for img,ax in zip(images,row):\n",
        "    ax.imshow(np.squeeze(img), cmap='gray')\n",
        "    ax.get_xaxis().set_visible(False)\n",
        "    ax.get_yaxis().set_visible(False)"
      ],
      "execution_count": 0,
      "outputs": [
        {
          "output_type": "display_data",
          "data": {
            "image/png": "[encoded data removed]",
            "text/plain": [
              "<Figure size 1800x288 with 10 Axes>"
            ]
          },
          "metadata": {
            "tags": []
          }
        }
      ]
    },
    {
      "cell_type": "markdown",
      "metadata": {
        "id": "7srcwHlp_MNl",
        "colab_type": "text"
      },
      "source": [
        "**Generate 5 new images**"
      ]
    },
    {
      "cell_type": "code",
      "metadata": {
        "id": "VsUkKTwPBBwk",
        "colab_type": "code",
        "outputId": "7f2b6771-be2f-4968-f591-c4b7c5571f19",
        "colab": {
          "base_uri": "https://localhost:8080/",
          "height": 272
        }
      },
      "source": [
        "#for i in range(5):\n",
        "nb_images = 5\n",
        "rand_features = torch.randn(nb_images, bottleneck).to(hparams['device']) \n",
        "output = model.decoder(rand_features)\n",
        "#Visualisation\n",
        "output = output.cpu().detach().numpy()\n",
        "images_width = 28\n",
        "fig, axes = plt.subplots(nrows=1,ncols=5,sharex=True,sharey=True,figsize=(25,4))\n",
        "decoded_images = output[:nb_images]  \n",
        "for ax, img in zip(axes, decoded_images):\n",
        "    ax.imshow(np.squeeze(img), cmap='gray')\n",
        "    ax.get_xaxis().set_visible(False)\n",
        "    ax.get_yaxis().set_visible(False)"
      ],
      "execution_count": 0,
      "outputs": [
        {
          "output_type": "display_data",
          "data": {
            "image/png": "[encoded data removed]",
            "text/plain": [
              "<Figure size 1800x288 with 5 Axes>"
            ]
          },
          "metadata": {
            "tags": []
          }
        }
      ]
    },
    {
      "cell_type": "markdown",
      "metadata": {
        "id": "swhbaAJcdVh2",
        "colab_type": "text"
      },
      "source": [
        "#Exercice 2#"
      ]
    },
    {
      "cell_type": "markdown",
      "metadata": {
        "id": "l3ImVXmujF46",
        "colab_type": "text"
      },
      "source": [
        "We take a subset of 100 images and their associates label from the MNIST training data."
      ]
    },
    {
      "cell_type": "code",
      "metadata": {
        "id": "thhTDz6pjFG9",
        "colab_type": "code",
        "colab": {}
      },
      "source": [
        "nb_images_subnet = 100\n",
        "[trainset,_]=torch.utils.data.random_split(mnist_trainset,[nb_images_subnet,tvdataset_length-nb_images_subnet])\n",
        "train_loader = torch.utils.data.DataLoader(\n",
        "    trainset,\n",
        "    batch_size=hparams['batch_size'], \n",
        "    shuffle=True)"
      ],
      "execution_count": 0,
      "outputs": []
    },
    {
      "cell_type": "markdown",
      "metadata": {
        "id": "khqkApdIfVqv",
        "colab_type": "text"
      },
      "source": [
        "We first take the layers of the encoder part of the  model autoencoder. We take the one with a bottleneck of length 15."
      ]
    },
    {
      "cell_type": "code",
      "metadata": {
        "id": "b2vkIG0PdYJ_",
        "colab_type": "code",
        "colab": {
          "base_uri": "https://localhost:8080/",
          "height": 390
        },
        "outputId": "e6fada55-35c4-4e89-ccec-f4a1af5fd329"
      },
      "source": [
        "encoder_pretrain = model.encoder \n",
        "encoder_pretrain.eval()\n",
        "encoder_pretrain.to(hparams['device'])"
      ],
      "execution_count": 155,
      "outputs": [
        {
          "output_type": "execute_result",
          "data": {
            "text/plain": [
              "Encoder(\n",
              "  (conv1): Sequential(\n",
              "    (0): Conv2d(1, 32, kernel_size=(5, 5), stride=(1, 1), padding=(2, 2))\n",
              "    (1): BatchNorm2d(32, eps=1e-05, momentum=0.1, affine=True, track_running_stats=True)\n",
              "    (2): MaxPool2d(kernel_size=2, stride=2, padding=0, dilation=1, ceil_mode=False)\n",
              "    (3): ReLU()\n",
              "    (4): Dropout(p=0.5, inplace=False)\n",
              "  )\n",
              "  (conv2): Sequential(\n",
              "    (0): Conv2d(32, 16, kernel_size=(5, 5), stride=(1, 1), padding=(2, 2))\n",
              "    (1): BatchNorm2d(16, eps=1e-05, momentum=0.1, affine=True, track_running_stats=True)\n",
              "    (2): MaxPool2d(kernel_size=2, stride=2, padding=0, dilation=1, ceil_mode=False)\n",
              "    (3): ReLU()\n",
              "    (4): Dropout(p=0.5, inplace=False)\n",
              "    (5): Flatten()\n",
              "  )\n",
              "  (fc): Sequential(\n",
              "    (0): Linear(in_features=784, out_features=15, bias=True)\n",
              "    (1): ReLU()\n",
              "  )\n",
              ")"
            ]
          },
          "metadata": {
            "tags": []
          },
          "execution_count": 155
        }
      ]
    },
    {
      "cell_type": "markdown",
      "metadata": {
        "id": "IzxwhWz3li9x",
        "colab_type": "text"
      },
      "source": [
        "We create the classification model"
      ]
    },
    {
      "cell_type": "code",
      "metadata": {
        "id": "myOiDVjwmvtN",
        "colab_type": "code",
        "colab": {}
      },
      "source": [
        "bottleneck = 15\n",
        "class Classification(nn.Module):\n",
        "  def __init__(self,endoder):\n",
        "    super().__init__()\n",
        "    self.layers = endoder\n",
        "    #fully connected layers\n",
        "    self.fc = nn.Sequential(\n",
        "        nn.Linear(bottleneck,10),\n",
        "        nn.Softmax(dim=1)\n",
        "    )\n",
        "  def forward(self,x):\n",
        "    x = self.layers(x)\n",
        "    x= self.fc(x)\n",
        "    return x"
      ],
      "execution_count": 0,
      "outputs": []
    },
    {
      "cell_type": "markdown",
      "metadata": {
        "id": "AuogcDR2oMIU",
        "colab_type": "text"
      },
      "source": [
        "Training with the previous weights. "
      ]
    },
    {
      "cell_type": "code",
      "metadata": {
        "id": "SbQVpxWy_yeX",
        "colab_type": "code",
        "colab": {}
      },
      "source": [
        "def correct_predictions(predicted_batch, label_batch):\n",
        "  pred = predicted_batch.argmax(dim=1, keepdim=True) # get the index of the max log-probability\n",
        "  acum = pred.eq(label_batch.view_as(pred)).sum().item()\n",
        "  return acum\n",
        "\n",
        "def train_epoch(train_loader, network, optimizer, criterion, hparams):\n",
        "  # Activate the train=True flag inside the model\n",
        "  network.train()\n",
        "  device = hparams['device']\n",
        "  avg_loss = None\n",
        "  avg_weight = 0.1\n",
        "  for batch_idx, (data, target) in enumerate(train_loader):\n",
        "      data, target = data.to(device), target.to(device)\n",
        "      optimizer.zero_grad()\n",
        "      output = network(data)\n",
        "      loss = criterion(output, target)\n",
        "      loss.backward()\n",
        "      if avg_loss:\n",
        "        avg_loss = avg_weight * loss.item() + (1 - avg_weight) * avg_loss\n",
        "      else:\n",
        "        avg_loss = loss.item()\n",
        "      optimizer.step()\n",
        "      if batch_idx % hparams['log_interval'] == 0:\n",
        "          print('Train Epoch: {} [{}/{} ({:.0f}%)]\\tLoss: {:.6f}'.format(\n",
        "              epoch, batch_idx * len(data), len(train_loader.dataset),\n",
        "              100. * batch_idx / len(train_loader), loss.item()))\n",
        "  return avg_loss\n",
        "def test_epoch(test_loader, network, hparams):\n",
        "    network.eval()\n",
        "    device = hparams['device']\n",
        "    test_loss = 0\n",
        "    acc = 0\n",
        "    with torch.no_grad():\n",
        "        for data, target in test_loader:\n",
        "            data, target = data.to(device), target.to(device)\n",
        "            output = network(data)\n",
        "            #test_loss += criterion(output, target,reduction='sum').item() # sum up batch loss   eduction='sum'\n",
        "            # compute number of correct predictions in the batch\n",
        "            acc += correct_predictions(output, target)\n",
        "    # Average acc across all correct predictions batches now\n",
        "    #test_loss /= len(test_loader.dataset)\n",
        "    test_acc = 100. * acc / len(test_loader.dataset)\n",
        "    print('\\nTest set: Accuracy: {}/{} ({:.0f}%)\\n'.format(\n",
        "         acc, len(test_loader.dataset), test_acc,\n",
        "        ))\n",
        "    return test_loss, test_acc"
      ],
      "execution_count": 0,
      "outputs": []
    },
    {
      "cell_type": "code",
      "metadata": {
        "id": "RL5CyLd1Ir7I",
        "colab_type": "code",
        "colab": {}
      },
      "source": [
        "def epoch(model_):  \n",
        "    tr_losses = []\n",
        "    te_losses = []\n",
        "    te_accs = []\n",
        "    model_.to(hparams['device'])\n",
        "    optimizer = optim.RMSprop(model.parameters(), lr=hparams['learning_rate'])\n",
        "    criterion = F.nll_loss\n",
        "    for epoch in range(1, hparams['num_epochs'] + 50):\n",
        "      print('Epoch {}'.format(epoch))\n",
        "      tr_losses.append(train_epoch(train_loader, model_, optimizer, criterion, hparams))\n",
        "      te_loss, te_acc = test_epoch(test_loader, model_, hparams)\n",
        "      te_losses.append(te_loss)\n",
        "      te_accs.append(te_acc)   \n",
        "    return te_accs"
      ],
      "execution_count": 0,
      "outputs": []
    },
    {
      "cell_type": "code",
      "metadata": {
        "id": "gkuUBNytbuWc",
        "colab_type": "code",
        "colab": {
          "base_uri": "https://localhost:8080/",
          "height": 1000
        },
        "outputId": "fce4feaf-0f5e-42ea-e81e-1d5bab60027c"
      },
      "source": [
        "model_classifier = Classification(encoder_pretrain)\n",
        "te_accs=epoch(model_classifier)"
      ],
      "execution_count": 159,
      "outputs": [
        {
          "output_type": "stream",
          "text": [
            "Epoch 1\n",
            "Train Epoch: <function epoch at 0x7f007d6e99d8> [0/100 (0%)]\tLoss: -0.106966\n",
            "\n",
            "Test set: Accuracy: 958/10000 (10%)\n",
            "\n",
            "Epoch 2\n",
            "Train Epoch: <function epoch at 0x7f007d6e99d8> [0/100 (0%)]\tLoss: -0.129119\n",
            "\n",
            "Test set: Accuracy: 1746/10000 (17%)\n",
            "\n",
            "Epoch 3\n",
            "Train Epoch: <function epoch at 0x7f007d6e99d8> [0/100 (0%)]\tLoss: -0.177582\n",
            "\n",
            "Test set: Accuracy: 3213/10000 (32%)\n",
            "\n",
            "Epoch 4\n",
            "Train Epoch: <function epoch at 0x7f007d6e99d8> [0/100 (0%)]\tLoss: -0.293928\n",
            "\n",
            "Test set: Accuracy: 3729/10000 (37%)\n",
            "\n",
            "Epoch 5\n",
            "Train Epoch: <function epoch at 0x7f007d6e99d8> [0/100 (0%)]\tLoss: -0.389609\n",
            "\n",
            "Test set: Accuracy: 4179/10000 (42%)\n",
            "\n",
            "Epoch 6\n",
            "Train Epoch: <function epoch at 0x7f007d6e99d8> [0/100 (0%)]\tLoss: -0.379362\n",
            "\n",
            "Test set: Accuracy: 4210/10000 (42%)\n",
            "\n",
            "Epoch 7\n",
            "Train Epoch: <function epoch at 0x7f007d6e99d8> [0/100 (0%)]\tLoss: -0.429913\n",
            "\n",
            "Test set: Accuracy: 3812/10000 (38%)\n",
            "\n",
            "Epoch 8\n",
            "Train Epoch: <function epoch at 0x7f007d6e99d8> [0/100 (0%)]\tLoss: -0.370505\n",
            "\n",
            "Test set: Accuracy: 4363/10000 (44%)\n",
            "\n",
            "Epoch 9\n",
            "Train Epoch: <function epoch at 0x7f007d6e99d8> [0/100 (0%)]\tLoss: -0.475407\n",
            "\n",
            "Test set: Accuracy: 4698/10000 (47%)\n",
            "\n",
            "Epoch 10\n",
            "Train Epoch: <function epoch at 0x7f007d6e99d8> [0/100 (0%)]\tLoss: -0.496440\n",
            "\n",
            "Test set: Accuracy: 4843/10000 (48%)\n",
            "\n",
            "Epoch 11\n",
            "Train Epoch: <function epoch at 0x7f007d6e99d8> [0/100 (0%)]\tLoss: -0.494249\n",
            "\n",
            "Test set: Accuracy: 4501/10000 (45%)\n",
            "\n",
            "Epoch 12\n",
            "Train Epoch: <function epoch at 0x7f007d6e99d8> [0/100 (0%)]\tLoss: -0.417055\n",
            "\n",
            "Test set: Accuracy: 4891/10000 (49%)\n",
            "\n",
            "Epoch 13\n",
            "Train Epoch: <function epoch at 0x7f007d6e99d8> [0/100 (0%)]\tLoss: -0.534223\n",
            "\n",
            "Test set: Accuracy: 4889/10000 (49%)\n",
            "\n",
            "Epoch 14\n",
            "Train Epoch: <function epoch at 0x7f007d6e99d8> [0/100 (0%)]\tLoss: -0.533389\n",
            "\n",
            "Test set: Accuracy: 4966/10000 (50%)\n",
            "\n",
            "Epoch 15\n",
            "Train Epoch: <function epoch at 0x7f007d6e99d8> [0/100 (0%)]\tLoss: -0.484253\n",
            "\n",
            "Test set: Accuracy: 5015/10000 (50%)\n",
            "\n",
            "Epoch 16\n",
            "Train Epoch: <function epoch at 0x7f007d6e99d8> [0/100 (0%)]\tLoss: -0.530601\n",
            "\n",
            "Test set: Accuracy: 4965/10000 (50%)\n",
            "\n",
            "Epoch 17\n",
            "Train Epoch: <function epoch at 0x7f007d6e99d8> [0/100 (0%)]\tLoss: -0.580328\n",
            "\n",
            "Test set: Accuracy: 5050/10000 (50%)\n",
            "\n",
            "Epoch 18\n",
            "Train Epoch: <function epoch at 0x7f007d6e99d8> [0/100 (0%)]\tLoss: -0.530359\n",
            "\n",
            "Test set: Accuracy: 5018/10000 (50%)\n",
            "\n",
            "Epoch 19\n",
            "Train Epoch: <function epoch at 0x7f007d6e99d8> [0/100 (0%)]\tLoss: -0.574629\n",
            "\n",
            "Test set: Accuracy: 5311/10000 (53%)\n",
            "\n",
            "Epoch 20\n",
            "Train Epoch: <function epoch at 0x7f007d6e99d8> [0/100 (0%)]\tLoss: -0.533466\n",
            "\n",
            "Test set: Accuracy: 5189/10000 (52%)\n",
            "\n",
            "Epoch 21\n",
            "Train Epoch: <function epoch at 0x7f007d6e99d8> [0/100 (0%)]\tLoss: -0.578031\n",
            "\n",
            "Test set: Accuracy: 5369/10000 (54%)\n",
            "\n",
            "Epoch 22\n",
            "Train Epoch: <function epoch at 0x7f007d6e99d8> [0/100 (0%)]\tLoss: -0.649690\n",
            "\n",
            "Test set: Accuracy: 5454/10000 (55%)\n",
            "\n",
            "Epoch 23\n",
            "Train Epoch: <function epoch at 0x7f007d6e99d8> [0/100 (0%)]\tLoss: -0.645853\n",
            "\n",
            "Test set: Accuracy: 5594/10000 (56%)\n",
            "\n",
            "Epoch 24\n",
            "Train Epoch: <function epoch at 0x7f007d6e99d8> [0/100 (0%)]\tLoss: -0.576833\n",
            "\n",
            "Test set: Accuracy: 5496/10000 (55%)\n",
            "\n",
            "Epoch 25\n",
            "Train Epoch: <function epoch at 0x7f007d6e99d8> [0/100 (0%)]\tLoss: -0.608370\n",
            "\n",
            "Test set: Accuracy: 5560/10000 (56%)\n",
            "\n",
            "Epoch 26\n",
            "Train Epoch: <function epoch at 0x7f007d6e99d8> [0/100 (0%)]\tLoss: -0.657727\n",
            "\n",
            "Test set: Accuracy: 5619/10000 (56%)\n",
            "\n",
            "Epoch 27\n",
            "Train Epoch: <function epoch at 0x7f007d6e99d8> [0/100 (0%)]\tLoss: -0.603063\n",
            "\n",
            "Test set: Accuracy: 5637/10000 (56%)\n",
            "\n",
            "Epoch 28\n",
            "Train Epoch: <function epoch at 0x7f007d6e99d8> [0/100 (0%)]\tLoss: -0.595369\n",
            "\n",
            "Test set: Accuracy: 5678/10000 (57%)\n",
            "\n",
            "Epoch 29\n",
            "Train Epoch: <function epoch at 0x7f007d6e99d8> [0/100 (0%)]\tLoss: -0.637990\n",
            "\n",
            "Test set: Accuracy: 5710/10000 (57%)\n",
            "\n",
            "Epoch 30\n",
            "Train Epoch: <function epoch at 0x7f007d6e99d8> [0/100 (0%)]\tLoss: -0.628171\n",
            "\n",
            "Test set: Accuracy: 5744/10000 (57%)\n",
            "\n",
            "Epoch 31\n",
            "Train Epoch: <function epoch at 0x7f007d6e99d8> [0/100 (0%)]\tLoss: -0.634036\n",
            "\n",
            "Test set: Accuracy: 5696/10000 (57%)\n",
            "\n",
            "Epoch 32\n",
            "Train Epoch: <function epoch at 0x7f007d6e99d8> [0/100 (0%)]\tLoss: -0.631269\n",
            "\n",
            "Test set: Accuracy: 5773/10000 (58%)\n",
            "\n",
            "Epoch 33\n",
            "Train Epoch: <function epoch at 0x7f007d6e99d8> [0/100 (0%)]\tLoss: -0.602919\n",
            "\n",
            "Test set: Accuracy: 5777/10000 (58%)\n",
            "\n",
            "Epoch 34\n",
            "Train Epoch: <function epoch at 0x7f007d6e99d8> [0/100 (0%)]\tLoss: -0.693372\n",
            "\n",
            "Test set: Accuracy: 5721/10000 (57%)\n",
            "\n",
            "Epoch 35\n",
            "Train Epoch: <function epoch at 0x7f007d6e99d8> [0/100 (0%)]\tLoss: -0.692500\n",
            "\n",
            "Test set: Accuracy: 5781/10000 (58%)\n",
            "\n",
            "Epoch 36\n",
            "Train Epoch: <function epoch at 0x7f007d6e99d8> [0/100 (0%)]\tLoss: -0.644680\n",
            "\n",
            "Test set: Accuracy: 5810/10000 (58%)\n",
            "\n",
            "Epoch 37\n",
            "Train Epoch: <function epoch at 0x7f007d6e99d8> [0/100 (0%)]\tLoss: -0.699790\n",
            "\n",
            "Test set: Accuracy: 5760/10000 (58%)\n",
            "\n",
            "Epoch 38\n",
            "Train Epoch: <function epoch at 0x7f007d6e99d8> [0/100 (0%)]\tLoss: -0.693899\n",
            "\n",
            "Test set: Accuracy: 5796/10000 (58%)\n",
            "\n",
            "Epoch 39\n",
            "Train Epoch: <function epoch at 0x7f007d6e99d8> [0/100 (0%)]\tLoss: -0.610867\n",
            "\n",
            "Test set: Accuracy: 5834/10000 (58%)\n",
            "\n",
            "Epoch 40\n",
            "Train Epoch: <function epoch at 0x7f007d6e99d8> [0/100 (0%)]\tLoss: -0.691169\n",
            "\n",
            "Test set: Accuracy: 5854/10000 (59%)\n",
            "\n",
            "Epoch 41\n",
            "Train Epoch: <function epoch at 0x7f007d6e99d8> [0/100 (0%)]\tLoss: -0.691404\n",
            "\n",
            "Test set: Accuracy: 5827/10000 (58%)\n",
            "\n",
            "Epoch 42\n",
            "Train Epoch: <function epoch at 0x7f007d6e99d8> [0/100 (0%)]\tLoss: -0.644419\n",
            "\n",
            "Test set: Accuracy: 5840/10000 (58%)\n",
            "\n",
            "Epoch 43\n",
            "Train Epoch: <function epoch at 0x7f007d6e99d8> [0/100 (0%)]\tLoss: -0.664992\n",
            "\n",
            "Test set: Accuracy: 5919/10000 (59%)\n",
            "\n",
            "Epoch 44\n",
            "Train Epoch: <function epoch at 0x7f007d6e99d8> [0/100 (0%)]\tLoss: -0.638599\n",
            "\n",
            "Test set: Accuracy: 5916/10000 (59%)\n",
            "\n",
            "Epoch 45\n",
            "Train Epoch: <function epoch at 0x7f007d6e99d8> [0/100 (0%)]\tLoss: -0.715897\n",
            "\n",
            "Test set: Accuracy: 5919/10000 (59%)\n",
            "\n",
            "Epoch 46\n",
            "Train Epoch: <function epoch at 0x7f007d6e99d8> [0/100 (0%)]\tLoss: -0.631577\n",
            "\n",
            "Test set: Accuracy: 5880/10000 (59%)\n",
            "\n",
            "Epoch 47\n",
            "Train Epoch: <function epoch at 0x7f007d6e99d8> [0/100 (0%)]\tLoss: -0.664201\n",
            "\n",
            "Test set: Accuracy: 5979/10000 (60%)\n",
            "\n",
            "Epoch 48\n",
            "Train Epoch: <function epoch at 0x7f007d6e99d8> [0/100 (0%)]\tLoss: -0.676882\n",
            "\n",
            "Test set: Accuracy: 5940/10000 (59%)\n",
            "\n",
            "Epoch 49\n",
            "Train Epoch: <function epoch at 0x7f007d6e99d8> [0/100 (0%)]\tLoss: -0.647956\n",
            "\n",
            "Test set: Accuracy: 5901/10000 (59%)\n",
            "\n",
            "Epoch 50\n",
            "Train Epoch: <function epoch at 0x7f007d6e99d8> [0/100 (0%)]\tLoss: -0.702455\n",
            "\n",
            "Test set: Accuracy: 5889/10000 (59%)\n",
            "\n",
            "Epoch 51\n",
            "Train Epoch: <function epoch at 0x7f007d6e99d8> [0/100 (0%)]\tLoss: -0.714711\n",
            "\n",
            "Test set: Accuracy: 5972/10000 (60%)\n",
            "\n",
            "Epoch 52\n",
            "Train Epoch: <function epoch at 0x7f007d6e99d8> [0/100 (0%)]\tLoss: -0.698505\n",
            "\n",
            "Test set: Accuracy: 6011/10000 (60%)\n",
            "\n",
            "Epoch 53\n",
            "Train Epoch: <function epoch at 0x7f007d6e99d8> [0/100 (0%)]\tLoss: -0.710874\n",
            "\n",
            "Test set: Accuracy: 5978/10000 (60%)\n",
            "\n",
            "Epoch 54\n",
            "Train Epoch: <function epoch at 0x7f007d6e99d8> [0/100 (0%)]\tLoss: -0.663352\n",
            "\n",
            "Test set: Accuracy: 5938/10000 (59%)\n",
            "\n"
          ],
          "name": "stdout"
        }
      ]
    },
    {
      "cell_type": "markdown",
      "metadata": {
        "id": "dKtHrHXKXjZy",
        "colab_type": "text"
      },
      "source": [
        "Fine-tunning with the same learning rate "
      ]
    },
    {
      "cell_type": "code",
      "metadata": {
        "id": "PhFbZABsoslF",
        "colab_type": "code",
        "colab": {}
      },
      "source": [
        "\n",
        "fine_tuning_features = model.encoder\n",
        "fine_tuning_features\n",
        "\n",
        "for layer in fine_tuning_features.conv1:\n",
        "  for param in layer.parameters(): \n",
        "    param.require_grad = False    #Freeze layers of conv1 of the encoder\n",
        "for layer in fine_tuning_features.conv2:\n",
        "  for param in layer.parameters():\n",
        "    param.require_grad = False    #Freeze layers of conv2 of the encoder\n",
        "for layer in fine_tuning_features.fc:\n",
        "  for param in layer.parameters():\n",
        "   param.require_grad = False\n",
        "fine_tuning_model= Classification(fine_tuning_features)"
      ],
      "execution_count": 0,
      "outputs": []
    },
    {
      "cell_type": "markdown",
      "metadata": {
        "id": "nY0VinWRe1fL",
        "colab_type": "text"
      },
      "source": [
        "Train the model fine tuning with the normal learning rate"
      ]
    },
    {
      "cell_type": "code",
      "metadata": {
        "id": "5PgFL9GofBxf",
        "colab_type": "code",
        "colab": {
          "base_uri": "https://localhost:8080/",
          "height": 1000
        },
        "outputId": "ebb2e14d-87be-4578-f9e5-b3a291944c90"
      },
      "source": [
        "acc_fine_tuning=epoch(fine_tuning_model)"
      ],
      "execution_count": 176,
      "outputs": [
        {
          "output_type": "stream",
          "text": [
            "Epoch 1\n",
            "Train Epoch: <function epoch at 0x7f007d6e99d8> [0/100 (0%)]\tLoss: -0.109566\n",
            "\n",
            "Test set: Accuracy: 2075/10000 (21%)\n",
            "\n",
            "Epoch 2\n",
            "Train Epoch: <function epoch at 0x7f007d6e99d8> [0/100 (0%)]\tLoss: -0.188198\n",
            "\n",
            "Test set: Accuracy: 2232/10000 (22%)\n",
            "\n",
            "Epoch 3\n",
            "Train Epoch: <function epoch at 0x7f007d6e99d8> [0/100 (0%)]\tLoss: -0.252100\n",
            "\n",
            "Test set: Accuracy: 2282/10000 (23%)\n",
            "\n",
            "Epoch 4\n",
            "Train Epoch: <function epoch at 0x7f007d6e99d8> [0/100 (0%)]\tLoss: -0.306711\n",
            "\n",
            "Test set: Accuracy: 2344/10000 (23%)\n",
            "\n",
            "Epoch 5\n",
            "Train Epoch: <function epoch at 0x7f007d6e99d8> [0/100 (0%)]\tLoss: -0.280896\n",
            "\n",
            "Test set: Accuracy: 2399/10000 (24%)\n",
            "\n",
            "Epoch 6\n",
            "Train Epoch: <function epoch at 0x7f007d6e99d8> [0/100 (0%)]\tLoss: -0.231855\n",
            "\n",
            "Test set: Accuracy: 2429/10000 (24%)\n",
            "\n",
            "Epoch 7\n",
            "Train Epoch: <function epoch at 0x7f007d6e99d8> [0/100 (0%)]\tLoss: -0.282824\n",
            "\n",
            "Test set: Accuracy: 3336/10000 (33%)\n",
            "\n",
            "Epoch 8\n",
            "Train Epoch: <function epoch at 0x7f007d6e99d8> [0/100 (0%)]\tLoss: -0.273819\n",
            "\n",
            "Test set: Accuracy: 2587/10000 (26%)\n",
            "\n",
            "Epoch 9\n",
            "Train Epoch: <function epoch at 0x7f007d6e99d8> [0/100 (0%)]\tLoss: -0.214600\n",
            "\n",
            "Test set: Accuracy: 3499/10000 (35%)\n",
            "\n",
            "Epoch 10\n",
            "Train Epoch: <function epoch at 0x7f007d6e99d8> [0/100 (0%)]\tLoss: -0.350932\n",
            "\n",
            "Test set: Accuracy: 3573/10000 (36%)\n",
            "\n",
            "Epoch 11\n",
            "Train Epoch: <function epoch at 0x7f007d6e99d8> [0/100 (0%)]\tLoss: -0.371735\n",
            "\n",
            "Test set: Accuracy: 3499/10000 (35%)\n",
            "\n",
            "Epoch 12\n",
            "Train Epoch: <function epoch at 0x7f007d6e99d8> [0/100 (0%)]\tLoss: -0.301212\n",
            "\n",
            "Test set: Accuracy: 3818/10000 (38%)\n",
            "\n",
            "Epoch 13\n",
            "Train Epoch: <function epoch at 0x7f007d6e99d8> [0/100 (0%)]\tLoss: -0.352458\n",
            "\n",
            "Test set: Accuracy: 3744/10000 (37%)\n",
            "\n",
            "Epoch 14\n",
            "Train Epoch: <function epoch at 0x7f007d6e99d8> [0/100 (0%)]\tLoss: -0.405217\n",
            "\n",
            "Test set: Accuracy: 3815/10000 (38%)\n",
            "\n",
            "Epoch 15\n",
            "Train Epoch: <function epoch at 0x7f007d6e99d8> [0/100 (0%)]\tLoss: -0.414212\n",
            "\n",
            "Test set: Accuracy: 3883/10000 (39%)\n",
            "\n",
            "Epoch 16\n",
            "Train Epoch: <function epoch at 0x7f007d6e99d8> [0/100 (0%)]\tLoss: -0.492410\n",
            "\n",
            "Test set: Accuracy: 3937/10000 (39%)\n",
            "\n",
            "Epoch 17\n",
            "Train Epoch: <function epoch at 0x7f007d6e99d8> [0/100 (0%)]\tLoss: -0.467309\n",
            "\n",
            "Test set: Accuracy: 3947/10000 (39%)\n",
            "\n",
            "Epoch 18\n",
            "Train Epoch: <function epoch at 0x7f007d6e99d8> [0/100 (0%)]\tLoss: -0.432040\n",
            "\n",
            "Test set: Accuracy: 4066/10000 (41%)\n",
            "\n",
            "Epoch 19\n",
            "Train Epoch: <function epoch at 0x7f007d6e99d8> [0/100 (0%)]\tLoss: -0.485554\n",
            "\n",
            "Test set: Accuracy: 4208/10000 (42%)\n",
            "\n",
            "Epoch 20\n",
            "Train Epoch: <function epoch at 0x7f007d6e99d8> [0/100 (0%)]\tLoss: -0.460916\n",
            "\n",
            "Test set: Accuracy: 4168/10000 (42%)\n",
            "\n",
            "Epoch 21\n",
            "Train Epoch: <function epoch at 0x7f007d6e99d8> [0/100 (0%)]\tLoss: -0.410511\n",
            "\n",
            "Test set: Accuracy: 4174/10000 (42%)\n",
            "\n",
            "Epoch 22\n",
            "Train Epoch: <function epoch at 0x7f007d6e99d8> [0/100 (0%)]\tLoss: -0.390860\n",
            "\n",
            "Test set: Accuracy: 4204/10000 (42%)\n",
            "\n",
            "Epoch 23\n",
            "Train Epoch: <function epoch at 0x7f007d6e99d8> [0/100 (0%)]\tLoss: -0.317176\n",
            "\n",
            "Test set: Accuracy: 4178/10000 (42%)\n",
            "\n",
            "Epoch 24\n",
            "Train Epoch: <function epoch at 0x7f007d6e99d8> [0/100 (0%)]\tLoss: -0.428485\n",
            "\n",
            "Test set: Accuracy: 4235/10000 (42%)\n",
            "\n",
            "Epoch 25\n",
            "Train Epoch: <function epoch at 0x7f007d6e99d8> [0/100 (0%)]\tLoss: -0.413140\n",
            "\n",
            "Test set: Accuracy: 4202/10000 (42%)\n",
            "\n",
            "Epoch 26\n",
            "Train Epoch: <function epoch at 0x7f007d6e99d8> [0/100 (0%)]\tLoss: -0.432149\n",
            "\n",
            "Test set: Accuracy: 4211/10000 (42%)\n",
            "\n",
            "Epoch 27\n",
            "Train Epoch: <function epoch at 0x7f007d6e99d8> [0/100 (0%)]\tLoss: -0.396651\n",
            "\n",
            "Test set: Accuracy: 4271/10000 (43%)\n",
            "\n",
            "Epoch 28\n",
            "Train Epoch: <function epoch at 0x7f007d6e99d8> [0/100 (0%)]\tLoss: -0.422116\n",
            "\n",
            "Test set: Accuracy: 4183/10000 (42%)\n",
            "\n",
            "Epoch 29\n",
            "Train Epoch: <function epoch at 0x7f007d6e99d8> [0/100 (0%)]\tLoss: -0.444229\n",
            "\n",
            "Test set: Accuracy: 4210/10000 (42%)\n",
            "\n",
            "Epoch 30\n",
            "Train Epoch: <function epoch at 0x7f007d6e99d8> [0/100 (0%)]\tLoss: -0.453605\n",
            "\n",
            "Test set: Accuracy: 4207/10000 (42%)\n",
            "\n",
            "Epoch 31\n",
            "Train Epoch: <function epoch at 0x7f007d6e99d8> [0/100 (0%)]\tLoss: -0.485516\n",
            "\n",
            "Test set: Accuracy: 4265/10000 (43%)\n",
            "\n",
            "Epoch 32\n",
            "Train Epoch: <function epoch at 0x7f007d6e99d8> [0/100 (0%)]\tLoss: -0.399429\n",
            "\n",
            "Test set: Accuracy: 4286/10000 (43%)\n",
            "\n",
            "Epoch 33\n",
            "Train Epoch: <function epoch at 0x7f007d6e99d8> [0/100 (0%)]\tLoss: -0.397703\n",
            "\n",
            "Test set: Accuracy: 4315/10000 (43%)\n",
            "\n",
            "Epoch 34\n",
            "Train Epoch: <function epoch at 0x7f007d6e99d8> [0/100 (0%)]\tLoss: -0.425667\n",
            "\n",
            "Test set: Accuracy: 4193/10000 (42%)\n",
            "\n",
            "Epoch 35\n",
            "Train Epoch: <function epoch at 0x7f007d6e99d8> [0/100 (0%)]\tLoss: -0.456369\n",
            "\n",
            "Test set: Accuracy: 4304/10000 (43%)\n",
            "\n",
            "Epoch 36\n",
            "Train Epoch: <function epoch at 0x7f007d6e99d8> [0/100 (0%)]\tLoss: -0.417319\n",
            "\n",
            "Test set: Accuracy: 4237/10000 (42%)\n",
            "\n",
            "Epoch 37\n",
            "Train Epoch: <function epoch at 0x7f007d6e99d8> [0/100 (0%)]\tLoss: -0.443817\n",
            "\n",
            "Test set: Accuracy: 4254/10000 (43%)\n",
            "\n",
            "Epoch 38\n",
            "Train Epoch: <function epoch at 0x7f007d6e99d8> [0/100 (0%)]\tLoss: -0.399585\n",
            "\n",
            "Test set: Accuracy: 4293/10000 (43%)\n",
            "\n",
            "Epoch 39\n",
            "Train Epoch: <function epoch at 0x7f007d6e99d8> [0/100 (0%)]\tLoss: -0.418143\n",
            "\n",
            "Test set: Accuracy: 4289/10000 (43%)\n",
            "\n",
            "Epoch 40\n",
            "Train Epoch: <function epoch at 0x7f007d6e99d8> [0/100 (0%)]\tLoss: -0.505250\n",
            "\n",
            "Test set: Accuracy: 4304/10000 (43%)\n",
            "\n",
            "Epoch 41\n",
            "Train Epoch: <function epoch at 0x7f007d6e99d8> [0/100 (0%)]\tLoss: -0.453962\n",
            "\n",
            "Test set: Accuracy: 4278/10000 (43%)\n",
            "\n",
            "Epoch 42\n",
            "Train Epoch: <function epoch at 0x7f007d6e99d8> [0/100 (0%)]\tLoss: -0.387133\n",
            "\n",
            "Test set: Accuracy: 4307/10000 (43%)\n",
            "\n",
            "Epoch 43\n",
            "Train Epoch: <function epoch at 0x7f007d6e99d8> [0/100 (0%)]\tLoss: -0.558687\n",
            "\n",
            "Test set: Accuracy: 4304/10000 (43%)\n",
            "\n",
            "Epoch 44\n",
            "Train Epoch: <function epoch at 0x7f007d6e99d8> [0/100 (0%)]\tLoss: -0.386767\n",
            "\n",
            "Test set: Accuracy: 4280/10000 (43%)\n",
            "\n",
            "Epoch 45\n",
            "Train Epoch: <function epoch at 0x7f007d6e99d8> [0/100 (0%)]\tLoss: -0.396834\n",
            "\n",
            "Test set: Accuracy: 4305/10000 (43%)\n",
            "\n",
            "Epoch 46\n",
            "Train Epoch: <function epoch at 0x7f007d6e99d8> [0/100 (0%)]\tLoss: -0.411067\n",
            "\n",
            "Test set: Accuracy: 4264/10000 (43%)\n",
            "\n",
            "Epoch 47\n",
            "Train Epoch: <function epoch at 0x7f007d6e99d8> [0/100 (0%)]\tLoss: -0.464514\n",
            "\n",
            "Test set: Accuracy: 4268/10000 (43%)\n",
            "\n",
            "Epoch 48\n",
            "Train Epoch: <function epoch at 0x7f007d6e99d8> [0/100 (0%)]\tLoss: -0.478487\n",
            "\n",
            "Test set: Accuracy: 4330/10000 (43%)\n",
            "\n",
            "Epoch 49\n",
            "Train Epoch: <function epoch at 0x7f007d6e99d8> [0/100 (0%)]\tLoss: -0.414568\n",
            "\n",
            "Test set: Accuracy: 4336/10000 (43%)\n",
            "\n",
            "Epoch 50\n",
            "Train Epoch: <function epoch at 0x7f007d6e99d8> [0/100 (0%)]\tLoss: -0.458667\n",
            "\n",
            "Test set: Accuracy: 4338/10000 (43%)\n",
            "\n",
            "Epoch 51\n",
            "Train Epoch: <function epoch at 0x7f007d6e99d8> [0/100 (0%)]\tLoss: -0.400725\n",
            "\n",
            "Test set: Accuracy: 4347/10000 (43%)\n",
            "\n",
            "Epoch 52\n",
            "Train Epoch: <function epoch at 0x7f007d6e99d8> [0/100 (0%)]\tLoss: -0.491559\n",
            "\n",
            "Test set: Accuracy: 4302/10000 (43%)\n",
            "\n",
            "Epoch 53\n",
            "Train Epoch: <function epoch at 0x7f007d6e99d8> [0/100 (0%)]\tLoss: -0.450233\n",
            "\n",
            "Test set: Accuracy: 4299/10000 (43%)\n",
            "\n",
            "Epoch 54\n",
            "Train Epoch: <function epoch at 0x7f007d6e99d8> [0/100 (0%)]\tLoss: -0.412051\n",
            "\n",
            "Test set: Accuracy: 4339/10000 (43%)\n",
            "\n"
          ],
          "name": "stdout"
        }
      ]
    },
    {
      "cell_type": "markdown",
      "metadata": {
        "id": "clvxyd1dW6ck",
        "colab_type": "text"
      },
      "source": [
        "Model Train from scratch"
      ]
    },
    {
      "cell_type": "code",
      "metadata": {
        "id": "JAl4W7jzW-K3",
        "colab_type": "code",
        "colab": {}
      },
      "source": [
        "class Classifier_scratch(nn.Module):\n",
        "  def __init__(self):\n",
        "    super().__init__()\n",
        "    self.bottleneck = 15\n",
        "    self.layers = Encoder(self.bottleneck)\n",
        "    self.fc = nn.Sequential(\n",
        "        nn.Linear(self.bottleneck,10),\n",
        "        nn.Softmax(dim=1)\n",
        "    )\n",
        "  def forward(self,x):\n",
        "    x= self.layers(x)\n",
        "    x= self.fc(x)\n",
        "    return x"
      ],
      "execution_count": 0,
      "outputs": []
    },
    {
      "cell_type": "markdown",
      "metadata": {
        "id": "m9XO-xl_ZM8l",
        "colab_type": "text"
      },
      "source": [
        "Train the model from scratch"
      ]
    },
    {
      "cell_type": "code",
      "metadata": {
        "id": "tLJPz3qNZTqc",
        "colab_type": "code",
        "colab": {
          "base_uri": "https://localhost:8080/",
          "height": 1000
        },
        "outputId": "3a85f408-3f07-4aa2-be0a-1fe53e358d7c"
      },
      "source": [
        "network_scratch = Classifier_scratch()\n",
        "te_accs_scratch = epoch(network_scratch)"
      ],
      "execution_count": 161,
      "outputs": [
        {
          "output_type": "stream",
          "text": [
            "Epoch 1\n",
            "Train Epoch: <function epoch at 0x7f007d6e99d8> [0/100 (0%)]\tLoss: -0.094243\n",
            "\n",
            "Test set: Accuracy: 1048/10000 (10%)\n",
            "\n",
            "Epoch 2\n",
            "Train Epoch: <function epoch at 0x7f007d6e99d8> [0/100 (0%)]\tLoss: -0.098125\n",
            "\n",
            "Test set: Accuracy: 946/10000 (9%)\n",
            "\n",
            "Epoch 3\n",
            "Train Epoch: <function epoch at 0x7f007d6e99d8> [0/100 (0%)]\tLoss: -0.100727\n",
            "\n",
            "Test set: Accuracy: 920/10000 (9%)\n",
            "\n",
            "Epoch 4\n",
            "Train Epoch: <function epoch at 0x7f007d6e99d8> [0/100 (0%)]\tLoss: -0.099925\n",
            "\n",
            "Test set: Accuracy: 913/10000 (9%)\n",
            "\n",
            "Epoch 5\n",
            "Train Epoch: <function epoch at 0x7f007d6e99d8> [0/100 (0%)]\tLoss: -0.098187\n",
            "\n",
            "Test set: Accuracy: 903/10000 (9%)\n",
            "\n",
            "Epoch 6\n",
            "Train Epoch: <function epoch at 0x7f007d6e99d8> [0/100 (0%)]\tLoss: -0.097442\n",
            "\n",
            "Test set: Accuracy: 903/10000 (9%)\n",
            "\n",
            "Epoch 7\n",
            "Train Epoch: <function epoch at 0x7f007d6e99d8> [0/100 (0%)]\tLoss: -0.099146\n",
            "\n",
            "Test set: Accuracy: 905/10000 (9%)\n",
            "\n",
            "Epoch 8\n",
            "Train Epoch: <function epoch at 0x7f007d6e99d8> [0/100 (0%)]\tLoss: -0.097852\n",
            "\n",
            "Test set: Accuracy: 899/10000 (9%)\n",
            "\n",
            "Epoch 9\n",
            "Train Epoch: <function epoch at 0x7f007d6e99d8> [0/100 (0%)]\tLoss: -0.099477\n",
            "\n",
            "Test set: Accuracy: 898/10000 (9%)\n",
            "\n",
            "Epoch 10\n",
            "Train Epoch: <function epoch at 0x7f007d6e99d8> [0/100 (0%)]\tLoss: -0.099837\n",
            "\n",
            "Test set: Accuracy: 903/10000 (9%)\n",
            "\n",
            "Epoch 11\n",
            "Train Epoch: <function epoch at 0x7f007d6e99d8> [0/100 (0%)]\tLoss: -0.099024\n",
            "\n",
            "Test set: Accuracy: 902/10000 (9%)\n",
            "\n",
            "Epoch 12\n",
            "Train Epoch: <function epoch at 0x7f007d6e99d8> [0/100 (0%)]\tLoss: -0.097458\n",
            "\n",
            "Test set: Accuracy: 904/10000 (9%)\n",
            "\n",
            "Epoch 13\n",
            "Train Epoch: <function epoch at 0x7f007d6e99d8> [0/100 (0%)]\tLoss: -0.092621\n",
            "\n",
            "Test set: Accuracy: 907/10000 (9%)\n",
            "\n",
            "Epoch 14\n",
            "Train Epoch: <function epoch at 0x7f007d6e99d8> [0/100 (0%)]\tLoss: -0.097678\n",
            "\n",
            "Test set: Accuracy: 902/10000 (9%)\n",
            "\n",
            "Epoch 15\n",
            "Train Epoch: <function epoch at 0x7f007d6e99d8> [0/100 (0%)]\tLoss: -0.098931\n",
            "\n",
            "Test set: Accuracy: 898/10000 (9%)\n",
            "\n",
            "Epoch 16\n",
            "Train Epoch: <function epoch at 0x7f007d6e99d8> [0/100 (0%)]\tLoss: -0.096232\n",
            "\n",
            "Test set: Accuracy: 906/10000 (9%)\n",
            "\n",
            "Epoch 17\n",
            "Train Epoch: <function epoch at 0x7f007d6e99d8> [0/100 (0%)]\tLoss: -0.097353\n",
            "\n",
            "Test set: Accuracy: 910/10000 (9%)\n",
            "\n",
            "Epoch 18\n",
            "Train Epoch: <function epoch at 0x7f007d6e99d8> [0/100 (0%)]\tLoss: -0.093519\n",
            "\n",
            "Test set: Accuracy: 907/10000 (9%)\n",
            "\n",
            "Epoch 19\n",
            "Train Epoch: <function epoch at 0x7f007d6e99d8> [0/100 (0%)]\tLoss: -0.095811\n",
            "\n",
            "Test set: Accuracy: 912/10000 (9%)\n",
            "\n",
            "Epoch 20\n",
            "Train Epoch: <function epoch at 0x7f007d6e99d8> [0/100 (0%)]\tLoss: -0.103277\n",
            "\n",
            "Test set: Accuracy: 914/10000 (9%)\n",
            "\n",
            "Epoch 21\n",
            "Train Epoch: <function epoch at 0x7f007d6e99d8> [0/100 (0%)]\tLoss: -0.092936\n",
            "\n",
            "Test set: Accuracy: 915/10000 (9%)\n",
            "\n",
            "Epoch 22\n",
            "Train Epoch: <function epoch at 0x7f007d6e99d8> [0/100 (0%)]\tLoss: -0.100960\n",
            "\n",
            "Test set: Accuracy: 915/10000 (9%)\n",
            "\n",
            "Epoch 23\n",
            "Train Epoch: <function epoch at 0x7f007d6e99d8> [0/100 (0%)]\tLoss: -0.092562\n",
            "\n",
            "Test set: Accuracy: 915/10000 (9%)\n",
            "\n",
            "Epoch 24\n",
            "Train Epoch: <function epoch at 0x7f007d6e99d8> [0/100 (0%)]\tLoss: -0.096168\n",
            "\n",
            "Test set: Accuracy: 918/10000 (9%)\n",
            "\n",
            "Epoch 25\n",
            "Train Epoch: <function epoch at 0x7f007d6e99d8> [0/100 (0%)]\tLoss: -0.103222\n",
            "\n",
            "Test set: Accuracy: 919/10000 (9%)\n",
            "\n",
            "Epoch 26\n",
            "Train Epoch: <function epoch at 0x7f007d6e99d8> [0/100 (0%)]\tLoss: -0.105882\n",
            "\n",
            "Test set: Accuracy: 921/10000 (9%)\n",
            "\n",
            "Epoch 27\n",
            "Train Epoch: <function epoch at 0x7f007d6e99d8> [0/100 (0%)]\tLoss: -0.095804\n",
            "\n",
            "Test set: Accuracy: 918/10000 (9%)\n",
            "\n",
            "Epoch 28\n",
            "Train Epoch: <function epoch at 0x7f007d6e99d8> [0/100 (0%)]\tLoss: -0.106083\n",
            "\n",
            "Test set: Accuracy: 919/10000 (9%)\n",
            "\n",
            "Epoch 29\n",
            "Train Epoch: <function epoch at 0x7f007d6e99d8> [0/100 (0%)]\tLoss: -0.094760\n",
            "\n",
            "Test set: Accuracy: 920/10000 (9%)\n",
            "\n",
            "Epoch 30\n",
            "Train Epoch: <function epoch at 0x7f007d6e99d8> [0/100 (0%)]\tLoss: -0.105084\n",
            "\n",
            "Test set: Accuracy: 919/10000 (9%)\n",
            "\n",
            "Epoch 31\n",
            "Train Epoch: <function epoch at 0x7f007d6e99d8> [0/100 (0%)]\tLoss: -0.101193\n",
            "\n",
            "Test set: Accuracy: 920/10000 (9%)\n",
            "\n",
            "Epoch 32\n",
            "Train Epoch: <function epoch at 0x7f007d6e99d8> [0/100 (0%)]\tLoss: -0.099956\n",
            "\n",
            "Test set: Accuracy: 926/10000 (9%)\n",
            "\n",
            "Epoch 33\n",
            "Train Epoch: <function epoch at 0x7f007d6e99d8> [0/100 (0%)]\tLoss: -0.105310\n",
            "\n",
            "Test set: Accuracy: 929/10000 (9%)\n",
            "\n",
            "Epoch 34\n",
            "Train Epoch: <function epoch at 0x7f007d6e99d8> [0/100 (0%)]\tLoss: -0.094049\n",
            "\n",
            "Test set: Accuracy: 923/10000 (9%)\n",
            "\n",
            "Epoch 35\n",
            "Train Epoch: <function epoch at 0x7f007d6e99d8> [0/100 (0%)]\tLoss: -0.103176\n",
            "\n",
            "Test set: Accuracy: 922/10000 (9%)\n",
            "\n",
            "Epoch 36\n",
            "Train Epoch: <function epoch at 0x7f007d6e99d8> [0/100 (0%)]\tLoss: -0.101375\n",
            "\n",
            "Test set: Accuracy: 923/10000 (9%)\n",
            "\n",
            "Epoch 37\n",
            "Train Epoch: <function epoch at 0x7f007d6e99d8> [0/100 (0%)]\tLoss: -0.102281\n",
            "\n",
            "Test set: Accuracy: 922/10000 (9%)\n",
            "\n",
            "Epoch 38\n",
            "Train Epoch: <function epoch at 0x7f007d6e99d8> [0/100 (0%)]\tLoss: -0.100405\n",
            "\n",
            "Test set: Accuracy: 921/10000 (9%)\n",
            "\n",
            "Epoch 39\n",
            "Train Epoch: <function epoch at 0x7f007d6e99d8> [0/100 (0%)]\tLoss: -0.103061\n",
            "\n",
            "Test set: Accuracy: 922/10000 (9%)\n",
            "\n",
            "Epoch 40\n",
            "Train Epoch: <function epoch at 0x7f007d6e99d8> [0/100 (0%)]\tLoss: -0.101073\n",
            "\n",
            "Test set: Accuracy: 920/10000 (9%)\n",
            "\n",
            "Epoch 41\n",
            "Train Epoch: <function epoch at 0x7f007d6e99d8> [0/100 (0%)]\tLoss: -0.098761\n",
            "\n",
            "Test set: Accuracy: 919/10000 (9%)\n",
            "\n",
            "Epoch 42\n",
            "Train Epoch: <function epoch at 0x7f007d6e99d8> [0/100 (0%)]\tLoss: -0.099338\n",
            "\n",
            "Test set: Accuracy: 917/10000 (9%)\n",
            "\n",
            "Epoch 43\n",
            "Train Epoch: <function epoch at 0x7f007d6e99d8> [0/100 (0%)]\tLoss: -0.095416\n",
            "\n",
            "Test set: Accuracy: 920/10000 (9%)\n",
            "\n",
            "Epoch 44\n",
            "Train Epoch: <function epoch at 0x7f007d6e99d8> [0/100 (0%)]\tLoss: -0.089098\n",
            "\n",
            "Test set: Accuracy: 925/10000 (9%)\n",
            "\n",
            "Epoch 45\n",
            "Train Epoch: <function epoch at 0x7f007d6e99d8> [0/100 (0%)]\tLoss: -0.102709\n",
            "\n",
            "Test set: Accuracy: 926/10000 (9%)\n",
            "\n",
            "Epoch 46\n",
            "Train Epoch: <function epoch at 0x7f007d6e99d8> [0/100 (0%)]\tLoss: -0.097334\n",
            "\n",
            "Test set: Accuracy: 927/10000 (9%)\n",
            "\n",
            "Epoch 47\n",
            "Train Epoch: <function epoch at 0x7f007d6e99d8> [0/100 (0%)]\tLoss: -0.101023\n",
            "\n",
            "Test set: Accuracy: 929/10000 (9%)\n",
            "\n",
            "Epoch 48\n",
            "Train Epoch: <function epoch at 0x7f007d6e99d8> [0/100 (0%)]\tLoss: -0.097294\n",
            "\n",
            "Test set: Accuracy: 924/10000 (9%)\n",
            "\n",
            "Epoch 49\n",
            "Train Epoch: <function epoch at 0x7f007d6e99d8> [0/100 (0%)]\tLoss: -0.096334\n",
            "\n",
            "Test set: Accuracy: 925/10000 (9%)\n",
            "\n",
            "Epoch 50\n",
            "Train Epoch: <function epoch at 0x7f007d6e99d8> [0/100 (0%)]\tLoss: -0.103246\n",
            "\n",
            "Test set: Accuracy: 927/10000 (9%)\n",
            "\n",
            "Epoch 51\n",
            "Train Epoch: <function epoch at 0x7f007d6e99d8> [0/100 (0%)]\tLoss: -0.100366\n",
            "\n",
            "Test set: Accuracy: 927/10000 (9%)\n",
            "\n",
            "Epoch 52\n",
            "Train Epoch: <function epoch at 0x7f007d6e99d8> [0/100 (0%)]\tLoss: -0.098667\n",
            "\n",
            "Test set: Accuracy: 922/10000 (9%)\n",
            "\n",
            "Epoch 53\n",
            "Train Epoch: <function epoch at 0x7f007d6e99d8> [0/100 (0%)]\tLoss: -0.098899\n",
            "\n",
            "Test set: Accuracy: 923/10000 (9%)\n",
            "\n",
            "Epoch 54\n",
            "Train Epoch: <function epoch at 0x7f007d6e99d8> [0/100 (0%)]\tLoss: -0.100220\n",
            "\n",
            "Test set: Accuracy: 925/10000 (9%)\n",
            "\n"
          ],
          "name": "stdout"
        }
      ]
    },
    {
      "cell_type": "markdown",
      "metadata": {
        "id": "66fb84XHd1UG",
        "colab_type": "text"
      },
      "source": [
        "Plot all the accuracy"
      ]
    },
    {
      "cell_type": "code",
      "metadata": {
        "id": "0ZPHQsD9e5O7",
        "colab_type": "code",
        "colab": {
          "base_uri": "https://localhost:8080/",
          "height": 840
        },
        "outputId": "d83dc1d2-ca3c-4d37-8921-8f7971d2af5f"
      },
      "source": [
        "fig, ax = plt.subplots()\n",
        "#hide axes\n",
        "fig.patch.set_visible(False)\n",
        "ax.axis('off')\n",
        "ax.axis('tight')\n",
        "data = {'Accuracy Train model %':te_accs,'Accuracy model Fine-tuning %':acc_fine_tuning,'Accuracy Model from scratch %':te_accs_scratch}\n",
        "df = pd.DataFrame(data)\n",
        "ax.table(cellText=df.values, colLabels=df.columns, loc='center')\n",
        "fig.tight_layout()\n",
        "plt.show()"
      ],
      "execution_count": 179,
      "outputs": [
        {
          "output_type": "display_data",
          "data": {
            "image/png": "[encoded data removed]",
            "text/plain": [
              "<Figure size 432x288 with 1 Axes>"
            ]
          },
          "metadata": {
            "tags": []
          }
        }
      ]
    }
  ]
}
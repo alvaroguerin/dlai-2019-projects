{
  "nbformat": 4,
  "nbformat_minor": 0,
  "metadata": {
    "colab": {
      "name": "Team06.ipynb",
      "provenance": [],
      "collapsed_sections": []
    },
    "kernelspec": {
      "name": "python3",
      "display_name": "Python 3"
    },
    "accelerator": "GPU"
  },
  "cells": [
    {
      "cell_type": "markdown",
      "metadata": {
        "id": "UXEMd6fjMDxv",
        "colab_type": "text"
      },
      "source": [
        "#Exercise 1: Convolutional Autoencoder#\n",
        "\n",
        "Train a convolutional autoencoder on MNIST, study the influence of the bottleneck size and generate some images"
      ]
    },
    {
      "cell_type": "code",
      "metadata": {
        "id": "yI2YUDCIMl60",
        "colab_type": "code",
        "colab": {}
      },
      "source": [
        "import numpy as np\n",
        "np.random.seed(1)\n",
        "import torch\n",
        "import torch.nn as nn\n",
        "import torch.optim as optim\n",
        "import torch.nn.functional as F\n",
        "from torchvision import datasets, transforms\n",
        "torch.manual_seed(1)\n",
        "if torch.cuda.is_available():\n",
        "  torch.cuda.manual_seed_all(1)\n",
        "import matplotlib.pyplot as plt\n",
        "import pandas as pd"
      ],
      "execution_count": 0,
      "outputs": []
    },
    {
      "cell_type": "code",
      "metadata": {
        "id": "8UY29exSOCzl",
        "colab_type": "code",
        "colab": {}
      },
      "source": [
        "# Let's define some hyper-parameters\n",
        "hparams = {\n",
        "    'batch_size':64,\n",
        "    'num_epochs':1,\n",
        "    'test_batch_size':64,\n",
        "    'hidden_size':128,\n",
        "    'learning_rate':1e-3,\n",
        "    'log_interval':100,\n",
        "}\n",
        "\n",
        "# we select to work on GPU if it is available in the machine, otherwise\n",
        "# will run on CPU\n",
        "hparams['device'] = 'cuda' if torch.cuda.is_available() else 'cpu'"
      ],
      "execution_count": 0,
      "outputs": []
    },
    {
      "cell_type": "markdown",
      "metadata": {
        "id": "toHzJwqpOn4_",
        "colab_type": "text"
      },
      "source": [
        "**Load Dataset**"
      ]
    },
    {
      "cell_type": "code",
      "metadata": {
        "id": "vZ-ESSIPOu6b",
        "colab_type": "code",
        "colab": {}
      },
      "source": [
        "mnist_trainset = datasets.MNIST('data', train=True, download=True,\n",
        "                                transform=transforms.Compose([\n",
        "                                    transforms.ToTensor(),\n",
        "                                    transforms.Normalize((0.1307,), (0.3081,))                        \n",
        "                                ]))\n",
        "mnist_testset = datasets.MNIST('data', train=False, \n",
        "                               transform=transforms.Compose([\n",
        "                                   transforms.ToTensor(),\n",
        "                                   transforms.Normalize((0.1307,), (0.3081,))\n",
        "                               ]))"
      ],
      "execution_count": 0,
      "outputs": []
    },
    {
      "cell_type": "markdown",
      "metadata": {
        "id": "_ficutcOO9OD",
        "colab_type": "text"
      },
      "source": [
        "**Split data**:\n",
        "We split the data in 95% for training and 5% for validation"
      ]
    },
    {
      "cell_type": "code",
      "metadata": {
        "id": "lVjEIXDAPKPG",
        "colab_type": "code",
        "outputId": "5bf6add0-c00c-4eaf-a47a-808148c32df0",
        "colab": {
          "base_uri": "https://localhost:8080/",
          "height": 52
        }
      },
      "source": [
        "#we take the size of the trainset and after that we take 5% of dataset\n",
        "tvdataset_length = len(mnist_trainset)\n",
        "validationset_length = int(0.05*tvdataset_length)\n",
        "#we split the dataset\n",
        "[trainset,validationset]=torch.utils.data.random_split(mnist_trainset,[tvdataset_length-validationset_length,validationset_length])\n",
        "print('Validation dataset is :{}%'.format(100*len(validationset)/len(mnist_trainset)))\n",
        "print('Training dataset is :{}%'.format(100*len(trainset)/len(mnist_trainset)))"
      ],
      "execution_count": 92,
      "outputs": [
        {
          "output_type": "stream",
          "text": [
            "Validation dataset is :5.0%\n",
            "Training dataset is :95.0%\n"
          ],
          "name": "stdout"
        }
      ]
    },
    {
      "cell_type": "markdown",
      "metadata": {
        "id": "oCw_FrqyPbEf",
        "colab_type": "text"
      },
      "source": [
        "**Loader data**\n",
        "We load the dataset with batch size "
      ]
    },
    {
      "cell_type": "code",
      "metadata": {
        "id": "E9SY3Wd2P2as",
        "colab_type": "code",
        "colab": {}
      },
      "source": [
        "train_loader = torch.utils.data.DataLoader(\n",
        "    trainset,\n",
        "    batch_size=hparams['batch_size'], \n",
        "    shuffle=True)\n",
        "\n",
        "validation_loader = torch.utils.data.DataLoader(\n",
        "    validationset,\n",
        "    batch_size=hparams['batch_size'], \n",
        "    shuffle=True)\n",
        "\n",
        "test_loader = torch.utils.data.DataLoader(\n",
        "     mnist_testset,\n",
        "    batch_size=hparams['test_batch_size'], \n",
        "    shuffle=False)"
      ],
      "execution_count": 0,
      "outputs": []
    },
    {
      "cell_type": "markdown",
      "metadata": {
        "id": "ujmQBiU-P_24",
        "colab_type": "text"
      },
      "source": [
        "## 2. Implement a convolutional autoencoder (with separate Encoder and Decoder modules). ##"
      ]
    },
    {
      "cell_type": "markdown",
      "metadata": {
        "id": "7e1z86RQQLIP",
        "colab_type": "text"
      },
      "source": [
        "**Creation of the Class Autoencoder**"
      ]
    },
    {
      "cell_type": "markdown",
      "metadata": {
        "id": "TFrAUZ3I0rXu",
        "colab_type": "text"
      },
      "source": [
        "**Define of the Class encoder**"
      ]
    },
    {
      "cell_type": "code",
      "metadata": {
        "id": "dy3qem8CxhF4",
        "colab_type": "code",
        "colab": {}
      },
      "source": [
        "class Encoder(nn.Module):\n",
        "  def __init__(self,bottleneck):\n",
        "    super().__init__()\n",
        "    self.bottleneck = bottleneck\n",
        "    self.conv1 = nn.Sequential( \n",
        "              nn.Conv2d(1,32,5,padding=2),\n",
        "              nn.BatchNorm2d(32),\n",
        "              nn.MaxPool2d(2,2),\n",
        "              nn.ReLU(),\n",
        "              nn.Dropout(0.5))\n",
        "    self.conv2 = nn.Sequential(\n",
        "              nn.Conv2d(32,16,5,padding=2),\n",
        "              nn.BatchNorm2d(16),\n",
        "              nn.MaxPool2d(2,2),\n",
        "              nn.ReLU(),\n",
        "              nn.Dropout(0.5),\n",
        "              nn.Flatten())\n",
        "    self.fc = nn.Sequential(\n",
        "              nn.Linear(16*7*7,self.bottleneck),\n",
        "              nn.ReLU())\n",
        "  def forward(self,x):\n",
        "    x= self.conv1(x)\n",
        "    x= self.conv2(x)\n",
        "    x= self.fc(x)\n",
        "    return x  "
      ],
      "execution_count": 0,
      "outputs": []
    },
    {
      "cell_type": "markdown",
      "metadata": {
        "id": "wKpWhH-p0y7X",
        "colab_type": "text"
      },
      "source": [
        "**Define of the class Decoder**"
      ]
    },
    {
      "cell_type": "code",
      "metadata": {
        "id": "G003wB2C03Ox",
        "colab_type": "code",
        "colab": {}
      },
      "source": [
        "class Decoder(nn.Module):\n",
        "  def __init__(self,bottleneck):\n",
        "    super().__init__()\n",
        "    self.bottleneck = bottleneck\n",
        "    self.conv1 = nn.Sequential( \n",
        "          nn.ConvTranspose2d(64,32,14,stride=2),\n",
        "          nn.BatchNorm2d(32),\n",
        "          nn.ReLU(),\n",
        "          nn.Dropout(0.5))\n",
        "    self.conv2 = nn.Sequential(\n",
        "          nn.ConvTranspose2d(32,1,2,stride=2),\n",
        "          nn.BatchNorm2d(1),\n",
        "          nn.Sigmoid())\n",
        "    self.fc = nn.Sequential(\n",
        "          nn.Linear(self.bottleneck,64),\n",
        "          nn.ReLU())\n",
        "  def forward(self,x):\n",
        "    x= self.fc(x)\n",
        "    x= self.conv1(x.view(x.shape[0], 64, 1,1))\n",
        "    x= self.conv2(x)\n",
        "    return x"
      ],
      "execution_count": 0,
      "outputs": []
    },
    {
      "cell_type": "markdown",
      "metadata": {
        "id": "RjXKNbo-2K6L",
        "colab_type": "text"
      },
      "source": [
        "**Define of the class Autoencoder**"
      ]
    },
    {
      "cell_type": "code",
      "metadata": {
        "id": "gQlv3B8z2RsZ",
        "colab_type": "code",
        "colab": {}
      },
      "source": [
        "class Autoencoder(nn.Module):\n",
        "    def __init__(self,bottleneck):\n",
        "      super().__init__()\n",
        "      self.bottleneck = bottleneck\n",
        "      self.encoder = Encoder(self.bottleneck)\n",
        "      self.decoder = Decoder(self.bottleneck)\n",
        "    def forward(self,x):\n",
        "      x= self.encoder(x)\n",
        "      x= self.decoder(x)\n",
        "      return x"
      ],
      "execution_count": 0,
      "outputs": []
    },
    {
      "cell_type": "markdown",
      "metadata": {
        "id": "H8EQA1d1QjR_",
        "colab_type": "text"
      },
      "source": [
        "**Train the Model**"
      ]
    },
    {
      "cell_type": "markdown",
      "metadata": {
        "id": "-aeZYUpvYLr3",
        "colab_type": "text"
      },
      "source": [
        "Definition of the function *train epoch*. It train the weights of the model. It computes the loss of the train and it performs the backpropagation. "
      ]
    },
    {
      "cell_type": "code",
      "metadata": {
        "id": "SwXY1cVk_Df5",
        "colab_type": "code",
        "colab": {}
      },
      "source": [
        "def train_epoch(train_loader,model,optimizer,criterion,hparams):\n",
        "  model.train()\n",
        "  avg_loss_train = None\n",
        "  avg_weight = 0.1\n",
        "  for data in train_loader:\n",
        "          optimizer.zero_grad()\n",
        "          img, _ = data\n",
        "          img = img.cuda()\n",
        "          output = model(img)\n",
        "          loss = criterion(output,img)\n",
        "          loss.backward()\n",
        "          optimizer.step()\n",
        "          if avg_loss_train:\n",
        "            avg_loss_train = avg_weight * loss.item() + (1 - avg_weight) * avg_loss_train\n",
        "          else:\n",
        "            avg_loss_train = loss.item() \n",
        "  return avg_loss_train"
      ],
      "execution_count": 0,
      "outputs": []
    },
    {
      "cell_type": "markdown",
      "metadata": {
        "id": "r6UAzZfgczS7",
        "colab_type": "text"
      },
      "source": [
        "It is a generic fonction to evaluate the model it return the loss average and the MSE. "
      ]
    },
    {
      "cell_type": "code",
      "metadata": {
        "id": "9kH7nzyIIcnB",
        "colab_type": "code",
        "colab": {}
      },
      "source": [
        "def test_epoch(set_loader,model,hparams):\n",
        "  model.eval()\n",
        "  avg_loss_validation =0\n",
        "  MSE = 0\n",
        "  with torch.no_grad():\n",
        "    for data in set_loader:\n",
        "      img,_ = data\n",
        "      img = img.cuda()\n",
        "      output = model(img)\n",
        "      val_loss = criterion(output,img)\n",
        "      MSE += criterion_MSE(output,img)\n",
        "      avg_loss_validation+= val_loss\n",
        "  avg_loss_validation /= len(set_loader)\n",
        "  MSE /= len(set_loader) \n",
        "  return avg_loss_validation,MSE"
      ],
      "execution_count": 0,
      "outputs": []
    },
    {
      "cell_type": "markdown",
      "metadata": {
        "id": "mTxKC70ndCj7",
        "colab_type": "text"
      },
      "source": [
        "###Train of the model and evalutation of it with different bottleneck###"
      ]
    },
    {
      "cell_type": "code",
      "metadata": {
        "id": "cFBr5C6VhhKP",
        "colab_type": "code",
        "colab": {}
      },
      "source": [
        "class my_dictionary(dict): \n",
        "  \n",
        "    # __init__ function \n",
        "    def __init__(self): \n",
        "        self = dict() \n",
        "          \n",
        "    # Function to add key:value \n",
        "    def add(self, key, value): \n",
        "        self[key] = value "
      ],
      "execution_count": 0,
      "outputs": []
    },
    {
      "cell_type": "code",
      "metadata": {
        "id": "4hLCJnupgoCz",
        "colab_type": "code",
        "outputId": "af619fa9-c6c7-421f-f200-63d382183904",
        "colab": {
          "base_uri": "https://localhost:8080/",
          "height": 190
        }
      },
      "source": [
        "dic_MSE = dict()\n",
        "validation_loss_bottleneck = my_dictionary()\n",
        "train_loss_bottleneck = my_dictionary()\n",
        "for bottleneck in range(1,20,4):\n",
        "  model = Autoencoder(bottleneck).cuda()\n",
        "  model.to(hparams['device'])\n",
        "  list_MSE_validation = []\n",
        "  train_loss = []\n",
        "  validation_loss = []\n",
        "  criterion_MSE = nn.MSELoss()\n",
        "  criterion = nn.BCELoss()\n",
        "  optimizer =  optim.Adam(model.parameters(), lr=hparams['learning_rate'])\n",
        "  print('Bottleneck :{}'.format(bottleneck))\n",
        "  \n",
        "  for epoch in range(hparams['num_epochs']):\n",
        "    loss_train = train_epoch(train_loader,model,optimizer,criterion,hparams)\n",
        "    val_loss,MSE_validation = test_epoch(validation_loader,model,hparams)\n",
        "    train_loss.append(loss_train)\n",
        "    validation_loss.append(val_loss)\n",
        "    list_MSE_validation.append(MSE_validation)\n",
        "    print('Train epoch [{}/{}], loss:{:.4f}, validation loss = {:.4f}, MSE:{:.2f}'.format(epoch+1, hparams['num_epochs'], loss_train,val_loss,MSE_validation))\n",
        "  _,test_MSE = test_epoch(test_loader,model,hparams)\n",
        "  validation_loss_bottleneck.add(bottleneck,train_loss)\n",
        "  validation_loss_bottleneck.add(bottleneck,validation_loss)\n",
        "  dic_MSE[bottleneck]= [test_MSE.item(),list_MSE_validation[-1].item()]"
      ],
      "execution_count": 113,
      "outputs": [
        {
          "output_type": "stream",
          "text": [
            "Bottleneck :1\n",
            "Train epoch [1/1], loss:-0.2360, validation loss = -0.2727, MSE:0.87\n",
            "Bottleneck :5\n",
            "Train epoch [1/1], loss:-0.6885, validation loss = -0.6831, MSE:0.75\n",
            "Bottleneck :9\n",
            "Train epoch [1/1], loss:-0.8091, validation loss = -0.8010, MSE:0.71\n",
            "Bottleneck :13\n",
            "Train epoch [1/1], loss:-0.8573, validation loss = -0.8629, MSE:0.70\n",
            "Bottleneck :17\n",
            "Train epoch [1/1], loss:-0.8499, validation loss = -0.8406, MSE:0.70\n"
          ],
          "name": "stdout"
        }
      ]
    },
    {
      "cell_type": "markdown",
      "metadata": {
        "id": "jA9U4c-MGWtg",
        "colab_type": "text"
      },
      "source": [
        "Plot the Loss and the MSE"
      ]
    },
    {
      "cell_type": "code",
      "metadata": {
        "id": "33XfpNMJr7Wt",
        "colab_type": "code",
        "colab": {}
      },
      "source": [
        ""
      ],
      "execution_count": 0,
      "outputs": []
    },
    {
      "cell_type": "code",
      "metadata": {
        "id": "negpfwPv6J7U",
        "colab_type": "code",
        "outputId": "649f156a-7693-4ffa-a865-28f4b011cf20",
        "colab": {
          "base_uri": "https://localhost:8080/",
          "height": 449
        }
      },
      "source": [
        "bottleneck = 15\n",
        "model = Autoencoder(bottleneck).cuda()\n",
        "model.to(hparams['device'])\n",
        "list_MSE_validation = []\n",
        "list_MSE_test = []\n",
        "train_loss = []\n",
        "validation_loss = []\n",
        "list_test_loss = []\n",
        "criterion_MSE = nn.MSELoss()\n",
        "criterion = nn.BCELoss()\n",
        "optimizer =  optim.Adam(model.parameters(), lr=hparams['learning_rate'])\n",
        "for epoch in range(hparams['num_epochs']):\n",
        "  loss_train = train_epoch(train_loader,model,optimizer,criterion,hparams)\n",
        "  val_loss,MSE_validation = test_epoch(validation_loader,model,hparams)\n",
        "  test_loss,MSE_test = test_epoch(test_loader,model,hparams)\n",
        "  train_loss.append(loss_train)\n",
        "  validation_loss.append(val_loss)\n",
        "  list_test_loss.append(test_loss)\n",
        "  list_MSE_validation.append(MSE_validation)\n",
        "  list_MSE_test.append(MSE_test)\n",
        "  print('Train epoch [{}/{}], loss:{:.4f}, validation loss = {:.4f}, MSE:{:.2f}'\n",
        "  .format(epoch+1, hparams['num_epochs'], loss_train,val_loss,MSE_validation))\n"
      ],
      "execution_count": 76,
      "outputs": [
        {
          "output_type": "stream",
          "text": [
            "Train epoch [1/10], loss:-0.8233, validation loss = -0.8430, MSE:0.70\n",
            "Train epoch [2/10], loss:-1.4962, validation loss = -1.4922, MSE:0.61\n",
            "Train epoch [3/10], loss:-2.1166, validation loss = -2.0590, MSE:0.57\n",
            "Train epoch [4/10], loss:-2.7251, validation loss = -2.6475, MSE:0.56\n"
          ],
          "name": "stdout"
        },
        {
          "output_type": "error",
          "ename": "KeyboardInterrupt",
          "evalue": "ignored",
          "traceback": [
            "\u001b[0;31m---------------------------------------------------------------------------\u001b[0m",
            "\u001b[0;31mKeyboardInterrupt\u001b[0m                         Traceback (most recent call last)",
            "\u001b[0;32m<ipython-input-76-1188b040bdf6>\u001b[0m in \u001b[0;36m<module>\u001b[0;34m()\u001b[0m\n\u001b[1;32m     11\u001b[0m \u001b[0moptimizer\u001b[0m \u001b[0;34m=\u001b[0m  \u001b[0moptim\u001b[0m\u001b[0;34m.\u001b[0m\u001b[0mAdam\u001b[0m\u001b[0;34m(\u001b[0m\u001b[0mmodel\u001b[0m\u001b[0;34m.\u001b[0m\u001b[0mparameters\u001b[0m\u001b[0;34m(\u001b[0m\u001b[0;34m)\u001b[0m\u001b[0;34m,\u001b[0m \u001b[0mlr\u001b[0m\u001b[0;34m=\u001b[0m\u001b[0mhparams\u001b[0m\u001b[0;34m[\u001b[0m\u001b[0;34m'learning_rate'\u001b[0m\u001b[0;34m]\u001b[0m\u001b[0;34m)\u001b[0m\u001b[0;34m\u001b[0m\u001b[0;34m\u001b[0m\u001b[0m\n\u001b[1;32m     12\u001b[0m \u001b[0;32mfor\u001b[0m \u001b[0mepoch\u001b[0m \u001b[0;32min\u001b[0m \u001b[0mrange\u001b[0m\u001b[0;34m(\u001b[0m\u001b[0mhparams\u001b[0m\u001b[0;34m[\u001b[0m\u001b[0;34m'num_epochs'\u001b[0m\u001b[0;34m]\u001b[0m\u001b[0;34m)\u001b[0m\u001b[0;34m:\u001b[0m\u001b[0;34m\u001b[0m\u001b[0;34m\u001b[0m\u001b[0m\n\u001b[0;32m---> 13\u001b[0;31m   \u001b[0mloss_train\u001b[0m \u001b[0;34m=\u001b[0m \u001b[0mtrain_epoch\u001b[0m\u001b[0;34m(\u001b[0m\u001b[0mtrain_loader\u001b[0m\u001b[0;34m,\u001b[0m\u001b[0mmodel\u001b[0m\u001b[0;34m,\u001b[0m\u001b[0moptimizer\u001b[0m\u001b[0;34m,\u001b[0m\u001b[0mcriterion\u001b[0m\u001b[0;34m,\u001b[0m\u001b[0mhparams\u001b[0m\u001b[0;34m)\u001b[0m\u001b[0;34m\u001b[0m\u001b[0;34m\u001b[0m\u001b[0m\n\u001b[0m\u001b[1;32m     14\u001b[0m   \u001b[0mval_loss\u001b[0m\u001b[0;34m,\u001b[0m\u001b[0mMSE_validation\u001b[0m \u001b[0;34m=\u001b[0m \u001b[0mtest_epoch\u001b[0m\u001b[0;34m(\u001b[0m\u001b[0mvalidation_loader\u001b[0m\u001b[0;34m,\u001b[0m\u001b[0mmodel\u001b[0m\u001b[0;34m,\u001b[0m\u001b[0mhparams\u001b[0m\u001b[0;34m)\u001b[0m\u001b[0;34m\u001b[0m\u001b[0;34m\u001b[0m\u001b[0m\n\u001b[1;32m     15\u001b[0m   \u001b[0mtest_loss\u001b[0m\u001b[0;34m,\u001b[0m\u001b[0mMSE_test\u001b[0m \u001b[0;34m=\u001b[0m \u001b[0mtest_epoch\u001b[0m\u001b[0;34m(\u001b[0m\u001b[0mtest_loader\u001b[0m\u001b[0;34m,\u001b[0m\u001b[0mmodel\u001b[0m\u001b[0;34m,\u001b[0m\u001b[0mhparams\u001b[0m\u001b[0;34m)\u001b[0m\u001b[0;34m\u001b[0m\u001b[0;34m\u001b[0m\u001b[0m\n",
            "\u001b[0;32m<ipython-input-72-4d5c55c810ce>\u001b[0m in \u001b[0;36mtrain_epoch\u001b[0;34m(train_loader, model, optimizer, criterion, hparams)\u001b[0m\n\u001b[1;32m      3\u001b[0m   \u001b[0mavg_loss_train\u001b[0m \u001b[0;34m=\u001b[0m \u001b[0;32mNone\u001b[0m\u001b[0;34m\u001b[0m\u001b[0;34m\u001b[0m\u001b[0m\n\u001b[1;32m      4\u001b[0m   \u001b[0mavg_weight\u001b[0m \u001b[0;34m=\u001b[0m \u001b[0;36m0.1\u001b[0m\u001b[0;34m\u001b[0m\u001b[0;34m\u001b[0m\u001b[0m\n\u001b[0;32m----> 5\u001b[0;31m   \u001b[0;32mfor\u001b[0m \u001b[0mdata\u001b[0m \u001b[0;32min\u001b[0m \u001b[0mtrain_loader\u001b[0m\u001b[0;34m:\u001b[0m\u001b[0;34m\u001b[0m\u001b[0;34m\u001b[0m\u001b[0m\n\u001b[0m\u001b[1;32m      6\u001b[0m           \u001b[0moptimizer\u001b[0m\u001b[0;34m.\u001b[0m\u001b[0mzero_grad\u001b[0m\u001b[0;34m(\u001b[0m\u001b[0;34m)\u001b[0m\u001b[0;34m\u001b[0m\u001b[0;34m\u001b[0m\u001b[0m\n\u001b[1;32m      7\u001b[0m           \u001b[0mimg\u001b[0m\u001b[0;34m,\u001b[0m \u001b[0m_\u001b[0m \u001b[0;34m=\u001b[0m \u001b[0mdata\u001b[0m\u001b[0;34m\u001b[0m\u001b[0;34m\u001b[0m\u001b[0m\n",
            "\u001b[0;32m/usr/local/lib/python3.6/dist-packages/torch/utils/data/dataloader.py\u001b[0m in \u001b[0;36m__next__\u001b[0;34m(self)\u001b[0m\n\u001b[1;32m    344\u001b[0m     \u001b[0;32mdef\u001b[0m \u001b[0m__next__\u001b[0m\u001b[0;34m(\u001b[0m\u001b[0mself\u001b[0m\u001b[0;34m)\u001b[0m\u001b[0;34m:\u001b[0m\u001b[0;34m\u001b[0m\u001b[0;34m\u001b[0m\u001b[0m\n\u001b[1;32m    345\u001b[0m         \u001b[0mindex\u001b[0m \u001b[0;34m=\u001b[0m \u001b[0mself\u001b[0m\u001b[0;34m.\u001b[0m\u001b[0m_next_index\u001b[0m\u001b[0;34m(\u001b[0m\u001b[0;34m)\u001b[0m  \u001b[0;31m# may raise StopIteration\u001b[0m\u001b[0;34m\u001b[0m\u001b[0;34m\u001b[0m\u001b[0m\n\u001b[0;32m--> 346\u001b[0;31m         \u001b[0mdata\u001b[0m \u001b[0;34m=\u001b[0m \u001b[0mself\u001b[0m\u001b[0;34m.\u001b[0m\u001b[0m_dataset_fetcher\u001b[0m\u001b[0;34m.\u001b[0m\u001b[0mfetch\u001b[0m\u001b[0;34m(\u001b[0m\u001b[0mindex\u001b[0m\u001b[0;34m)\u001b[0m  \u001b[0;31m# may raise StopIteration\u001b[0m\u001b[0;34m\u001b[0m\u001b[0;34m\u001b[0m\u001b[0m\n\u001b[0m\u001b[1;32m    347\u001b[0m         \u001b[0;32mif\u001b[0m \u001b[0mself\u001b[0m\u001b[0;34m.\u001b[0m\u001b[0m_pin_memory\u001b[0m\u001b[0;34m:\u001b[0m\u001b[0;34m\u001b[0m\u001b[0;34m\u001b[0m\u001b[0m\n\u001b[1;32m    348\u001b[0m             \u001b[0mdata\u001b[0m \u001b[0;34m=\u001b[0m \u001b[0m_utils\u001b[0m\u001b[0;34m.\u001b[0m\u001b[0mpin_memory\u001b[0m\u001b[0;34m.\u001b[0m\u001b[0mpin_memory\u001b[0m\u001b[0;34m(\u001b[0m\u001b[0mdata\u001b[0m\u001b[0;34m)\u001b[0m\u001b[0;34m\u001b[0m\u001b[0;34m\u001b[0m\u001b[0m\n",
            "\u001b[0;32m/usr/local/lib/python3.6/dist-packages/torch/utils/data/_utils/fetch.py\u001b[0m in \u001b[0;36mfetch\u001b[0;34m(self, possibly_batched_index)\u001b[0m\n\u001b[1;32m     42\u001b[0m     \u001b[0;32mdef\u001b[0m \u001b[0mfetch\u001b[0m\u001b[0;34m(\u001b[0m\u001b[0mself\u001b[0m\u001b[0;34m,\u001b[0m \u001b[0mpossibly_batched_index\u001b[0m\u001b[0;34m)\u001b[0m\u001b[0;34m:\u001b[0m\u001b[0;34m\u001b[0m\u001b[0;34m\u001b[0m\u001b[0m\n\u001b[1;32m     43\u001b[0m         \u001b[0;32mif\u001b[0m \u001b[0mself\u001b[0m\u001b[0;34m.\u001b[0m\u001b[0mauto_collation\u001b[0m\u001b[0;34m:\u001b[0m\u001b[0;34m\u001b[0m\u001b[0;34m\u001b[0m\u001b[0m\n\u001b[0;32m---> 44\u001b[0;31m             \u001b[0mdata\u001b[0m \u001b[0;34m=\u001b[0m \u001b[0;34m[\u001b[0m\u001b[0mself\u001b[0m\u001b[0;34m.\u001b[0m\u001b[0mdataset\u001b[0m\u001b[0;34m[\u001b[0m\u001b[0midx\u001b[0m\u001b[0;34m]\u001b[0m \u001b[0;32mfor\u001b[0m \u001b[0midx\u001b[0m \u001b[0;32min\u001b[0m \u001b[0mpossibly_batched_index\u001b[0m\u001b[0;34m]\u001b[0m\u001b[0;34m\u001b[0m\u001b[0;34m\u001b[0m\u001b[0m\n\u001b[0m\u001b[1;32m     45\u001b[0m         \u001b[0;32melse\u001b[0m\u001b[0;34m:\u001b[0m\u001b[0;34m\u001b[0m\u001b[0;34m\u001b[0m\u001b[0m\n\u001b[1;32m     46\u001b[0m             \u001b[0mdata\u001b[0m \u001b[0;34m=\u001b[0m \u001b[0mself\u001b[0m\u001b[0;34m.\u001b[0m\u001b[0mdataset\u001b[0m\u001b[0;34m[\u001b[0m\u001b[0mpossibly_batched_index\u001b[0m\u001b[0;34m]\u001b[0m\u001b[0;34m\u001b[0m\u001b[0;34m\u001b[0m\u001b[0m\n",
            "\u001b[0;32m/usr/local/lib/python3.6/dist-packages/torch/utils/data/_utils/fetch.py\u001b[0m in \u001b[0;36m<listcomp>\u001b[0;34m(.0)\u001b[0m\n\u001b[1;32m     42\u001b[0m     \u001b[0;32mdef\u001b[0m \u001b[0mfetch\u001b[0m\u001b[0;34m(\u001b[0m\u001b[0mself\u001b[0m\u001b[0;34m,\u001b[0m \u001b[0mpossibly_batched_index\u001b[0m\u001b[0;34m)\u001b[0m\u001b[0;34m:\u001b[0m\u001b[0;34m\u001b[0m\u001b[0;34m\u001b[0m\u001b[0m\n\u001b[1;32m     43\u001b[0m         \u001b[0;32mif\u001b[0m \u001b[0mself\u001b[0m\u001b[0;34m.\u001b[0m\u001b[0mauto_collation\u001b[0m\u001b[0;34m:\u001b[0m\u001b[0;34m\u001b[0m\u001b[0;34m\u001b[0m\u001b[0m\n\u001b[0;32m---> 44\u001b[0;31m             \u001b[0mdata\u001b[0m \u001b[0;34m=\u001b[0m \u001b[0;34m[\u001b[0m\u001b[0mself\u001b[0m\u001b[0;34m.\u001b[0m\u001b[0mdataset\u001b[0m\u001b[0;34m[\u001b[0m\u001b[0midx\u001b[0m\u001b[0;34m]\u001b[0m \u001b[0;32mfor\u001b[0m \u001b[0midx\u001b[0m \u001b[0;32min\u001b[0m \u001b[0mpossibly_batched_index\u001b[0m\u001b[0;34m]\u001b[0m\u001b[0;34m\u001b[0m\u001b[0;34m\u001b[0m\u001b[0m\n\u001b[0m\u001b[1;32m     45\u001b[0m         \u001b[0;32melse\u001b[0m\u001b[0;34m:\u001b[0m\u001b[0;34m\u001b[0m\u001b[0;34m\u001b[0m\u001b[0m\n\u001b[1;32m     46\u001b[0m             \u001b[0mdata\u001b[0m \u001b[0;34m=\u001b[0m \u001b[0mself\u001b[0m\u001b[0;34m.\u001b[0m\u001b[0mdataset\u001b[0m\u001b[0;34m[\u001b[0m\u001b[0mpossibly_batched_index\u001b[0m\u001b[0;34m]\u001b[0m\u001b[0;34m\u001b[0m\u001b[0;34m\u001b[0m\u001b[0m\n",
            "\u001b[0;32m/usr/local/lib/python3.6/dist-packages/torch/utils/data/dataset.py\u001b[0m in \u001b[0;36m__getitem__\u001b[0;34m(self, idx)\u001b[0m\n\u001b[1;32m    255\u001b[0m \u001b[0;34m\u001b[0m\u001b[0m\n\u001b[1;32m    256\u001b[0m     \u001b[0;32mdef\u001b[0m \u001b[0m__getitem__\u001b[0m\u001b[0;34m(\u001b[0m\u001b[0mself\u001b[0m\u001b[0;34m,\u001b[0m \u001b[0midx\u001b[0m\u001b[0;34m)\u001b[0m\u001b[0;34m:\u001b[0m\u001b[0;34m\u001b[0m\u001b[0;34m\u001b[0m\u001b[0m\n\u001b[0;32m--> 257\u001b[0;31m         \u001b[0;32mreturn\u001b[0m \u001b[0mself\u001b[0m\u001b[0;34m.\u001b[0m\u001b[0mdataset\u001b[0m\u001b[0;34m[\u001b[0m\u001b[0mself\u001b[0m\u001b[0;34m.\u001b[0m\u001b[0mindices\u001b[0m\u001b[0;34m[\u001b[0m\u001b[0midx\u001b[0m\u001b[0;34m]\u001b[0m\u001b[0;34m]\u001b[0m\u001b[0;34m\u001b[0m\u001b[0;34m\u001b[0m\u001b[0m\n\u001b[0m\u001b[1;32m    258\u001b[0m \u001b[0;34m\u001b[0m\u001b[0m\n\u001b[1;32m    259\u001b[0m     \u001b[0;32mdef\u001b[0m \u001b[0m__len__\u001b[0m\u001b[0;34m(\u001b[0m\u001b[0mself\u001b[0m\u001b[0;34m)\u001b[0m\u001b[0;34m:\u001b[0m\u001b[0;34m\u001b[0m\u001b[0;34m\u001b[0m\u001b[0m\n",
            "\u001b[0;32m/usr/local/lib/python3.6/dist-packages/torchvision/datasets/mnist.py\u001b[0m in \u001b[0;36m__getitem__\u001b[0;34m(self, index)\u001b[0m\n\u001b[1;32m     93\u001b[0m \u001b[0;34m\u001b[0m\u001b[0m\n\u001b[1;32m     94\u001b[0m         \u001b[0;32mif\u001b[0m \u001b[0mself\u001b[0m\u001b[0;34m.\u001b[0m\u001b[0mtransform\u001b[0m \u001b[0;32mis\u001b[0m \u001b[0;32mnot\u001b[0m \u001b[0;32mNone\u001b[0m\u001b[0;34m:\u001b[0m\u001b[0;34m\u001b[0m\u001b[0;34m\u001b[0m\u001b[0m\n\u001b[0;32m---> 95\u001b[0;31m             \u001b[0mimg\u001b[0m \u001b[0;34m=\u001b[0m \u001b[0mself\u001b[0m\u001b[0;34m.\u001b[0m\u001b[0mtransform\u001b[0m\u001b[0;34m(\u001b[0m\u001b[0mimg\u001b[0m\u001b[0;34m)\u001b[0m\u001b[0;34m\u001b[0m\u001b[0;34m\u001b[0m\u001b[0m\n\u001b[0m\u001b[1;32m     96\u001b[0m \u001b[0;34m\u001b[0m\u001b[0m\n\u001b[1;32m     97\u001b[0m         \u001b[0;32mif\u001b[0m \u001b[0mself\u001b[0m\u001b[0;34m.\u001b[0m\u001b[0mtarget_transform\u001b[0m \u001b[0;32mis\u001b[0m \u001b[0;32mnot\u001b[0m \u001b[0;32mNone\u001b[0m\u001b[0;34m:\u001b[0m\u001b[0;34m\u001b[0m\u001b[0;34m\u001b[0m\u001b[0m\n",
            "\u001b[0;32m/usr/local/lib/python3.6/dist-packages/torchvision/transforms/transforms.py\u001b[0m in \u001b[0;36m__call__\u001b[0;34m(self, img)\u001b[0m\n\u001b[1;32m     68\u001b[0m     \u001b[0;32mdef\u001b[0m \u001b[0m__call__\u001b[0m\u001b[0;34m(\u001b[0m\u001b[0mself\u001b[0m\u001b[0;34m,\u001b[0m \u001b[0mimg\u001b[0m\u001b[0;34m)\u001b[0m\u001b[0;34m:\u001b[0m\u001b[0;34m\u001b[0m\u001b[0;34m\u001b[0m\u001b[0m\n\u001b[1;32m     69\u001b[0m         \u001b[0;32mfor\u001b[0m \u001b[0mt\u001b[0m \u001b[0;32min\u001b[0m \u001b[0mself\u001b[0m\u001b[0;34m.\u001b[0m\u001b[0mtransforms\u001b[0m\u001b[0;34m:\u001b[0m\u001b[0;34m\u001b[0m\u001b[0;34m\u001b[0m\u001b[0m\n\u001b[0;32m---> 70\u001b[0;31m             \u001b[0mimg\u001b[0m \u001b[0;34m=\u001b[0m \u001b[0mt\u001b[0m\u001b[0;34m(\u001b[0m\u001b[0mimg\u001b[0m\u001b[0;34m)\u001b[0m\u001b[0;34m\u001b[0m\u001b[0;34m\u001b[0m\u001b[0m\n\u001b[0m\u001b[1;32m     71\u001b[0m         \u001b[0;32mreturn\u001b[0m \u001b[0mimg\u001b[0m\u001b[0;34m\u001b[0m\u001b[0;34m\u001b[0m\u001b[0m\n\u001b[1;32m     72\u001b[0m \u001b[0;34m\u001b[0m\u001b[0m\n",
            "\u001b[0;32m/usr/local/lib/python3.6/dist-packages/torchvision/transforms/transforms.py\u001b[0m in \u001b[0;36m__call__\u001b[0;34m(self, pic)\u001b[0m\n\u001b[1;32m     99\u001b[0m             \u001b[0mTensor\u001b[0m\u001b[0;34m:\u001b[0m \u001b[0mConverted\u001b[0m \u001b[0mimage\u001b[0m\u001b[0;34m.\u001b[0m\u001b[0;34m\u001b[0m\u001b[0;34m\u001b[0m\u001b[0m\n\u001b[1;32m    100\u001b[0m         \"\"\"\n\u001b[0;32m--> 101\u001b[0;31m         \u001b[0;32mreturn\u001b[0m \u001b[0mF\u001b[0m\u001b[0;34m.\u001b[0m\u001b[0mto_tensor\u001b[0m\u001b[0;34m(\u001b[0m\u001b[0mpic\u001b[0m\u001b[0;34m)\u001b[0m\u001b[0;34m\u001b[0m\u001b[0;34m\u001b[0m\u001b[0m\n\u001b[0m\u001b[1;32m    102\u001b[0m \u001b[0;34m\u001b[0m\u001b[0m\n\u001b[1;32m    103\u001b[0m     \u001b[0;32mdef\u001b[0m \u001b[0m__repr__\u001b[0m\u001b[0;34m(\u001b[0m\u001b[0mself\u001b[0m\u001b[0;34m)\u001b[0m\u001b[0;34m:\u001b[0m\u001b[0;34m\u001b[0m\u001b[0;34m\u001b[0m\u001b[0m\n",
            "\u001b[0;32m/usr/local/lib/python3.6/dist-packages/torchvision/transforms/functional.py\u001b[0m in \u001b[0;36mto_tensor\u001b[0;34m(pic)\u001b[0m\n\u001b[1;32m     84\u001b[0m         \u001b[0mimg\u001b[0m \u001b[0;34m=\u001b[0m \u001b[0;36m255\u001b[0m \u001b[0;34m*\u001b[0m \u001b[0mtorch\u001b[0m\u001b[0;34m.\u001b[0m\u001b[0mfrom_numpy\u001b[0m\u001b[0;34m(\u001b[0m\u001b[0mnp\u001b[0m\u001b[0;34m.\u001b[0m\u001b[0marray\u001b[0m\u001b[0;34m(\u001b[0m\u001b[0mpic\u001b[0m\u001b[0;34m,\u001b[0m \u001b[0mnp\u001b[0m\u001b[0;34m.\u001b[0m\u001b[0muint8\u001b[0m\u001b[0;34m,\u001b[0m \u001b[0mcopy\u001b[0m\u001b[0;34m=\u001b[0m\u001b[0;32mFalse\u001b[0m\u001b[0;34m)\u001b[0m\u001b[0;34m)\u001b[0m\u001b[0;34m\u001b[0m\u001b[0;34m\u001b[0m\u001b[0m\n\u001b[1;32m     85\u001b[0m     \u001b[0;32melse\u001b[0m\u001b[0;34m:\u001b[0m\u001b[0;34m\u001b[0m\u001b[0;34m\u001b[0m\u001b[0m\n\u001b[0;32m---> 86\u001b[0;31m         \u001b[0mimg\u001b[0m \u001b[0;34m=\u001b[0m \u001b[0mtorch\u001b[0m\u001b[0;34m.\u001b[0m\u001b[0mByteTensor\u001b[0m\u001b[0;34m(\u001b[0m\u001b[0mtorch\u001b[0m\u001b[0;34m.\u001b[0m\u001b[0mByteStorage\u001b[0m\u001b[0;34m.\u001b[0m\u001b[0mfrom_buffer\u001b[0m\u001b[0;34m(\u001b[0m\u001b[0mpic\u001b[0m\u001b[0;34m.\u001b[0m\u001b[0mtobytes\u001b[0m\u001b[0;34m(\u001b[0m\u001b[0;34m)\u001b[0m\u001b[0;34m)\u001b[0m\u001b[0;34m)\u001b[0m\u001b[0;34m\u001b[0m\u001b[0;34m\u001b[0m\u001b[0m\n\u001b[0m\u001b[1;32m     87\u001b[0m     \u001b[0;31m# PIL image mode: L, LA, P, I, F, RGB, YCbCr, RGBA, CMYK\u001b[0m\u001b[0;34m\u001b[0m\u001b[0;34m\u001b[0m\u001b[0;34m\u001b[0m\u001b[0m\n\u001b[1;32m     88\u001b[0m     \u001b[0;32mif\u001b[0m \u001b[0mpic\u001b[0m\u001b[0;34m.\u001b[0m\u001b[0mmode\u001b[0m \u001b[0;34m==\u001b[0m \u001b[0;34m'YCbCr'\u001b[0m\u001b[0;34m:\u001b[0m\u001b[0;34m\u001b[0m\u001b[0;34m\u001b[0m\u001b[0m\n",
            "\u001b[0;31mKeyboardInterrupt\u001b[0m: "
          ]
        }
      ]
    },
    {
      "cell_type": "code",
      "metadata": {
        "id": "7Z2eM85OkyRz",
        "colab_type": "code",
        "outputId": "261718f5-3450-488f-83bd-57de29489152",
        "colab": {
          "base_uri": "https://localhost:8080/",
          "height": 514
        }
      },
      "source": [
        "plt.figure(figsize=(10,8))\n",
        "plt.xlabel('Epoch')\n",
        "plt.ylabel('BCEloss')\n",
        "plt.plot(train_loss,'r', label='train loss' )\n",
        "plt.plot(validation_loss,'b',label='validation loss')\n",
        "plt.legend()"
      ],
      "execution_count": 82,
      "outputs": [
        {
          "output_type": "execute_result",
          "data": {
            "text/plain": [
              "<matplotlib.legend.Legend at 0x7f007f6f6860>"
            ]
          },
          "metadata": {
            "tags": []
          },
          "execution_count": 82
        },
        {
          "output_type": "display_data",
          "data": {
            "image/png": "[encoded data removed]",
            "text/plain": [
              "<Figure size 720x576 with 1 Axes>"
            ]
          },
          "metadata": {
            "tags": []
          }
        }
      ]
    },
    {
      "cell_type": "markdown",
      "metadata": {
        "id": "EW95HDZbou3P",
        "colab_type": "text"
      },
      "source": [
        "##Table of the differents MSE##"
      ]
    },
    {
      "cell_type": "code",
      "metadata": {
        "id": "N0eJOldzpFx3",
        "colab_type": "code",
        "colab": {
          "base_uri": "https://localhost:8080/",
          "height": 138
        },
        "outputId": "01cc28b6-2f52-49db-ffd4-3e6bfcdba09e"
      },
      "source": [
        "data = {\"Bottleneck\":[\"Test MSE\",\"Validation MSE\"]}\n",
        "data.update(dic_MSE)\n",
        "df = pd.DataFrame(data)\n",
        "df = df.groupby('Bottleneck')\n",
        "df.first()"
      ],
      "execution_count": 114,
      "outputs": [
        {
          "output_type": "execute_result",
          "data": {
            "text/html": [
              "<div>\n",
              "<style scoped>\n",
              "    .dataframe tbody tr th:only-of-type {\n",
              "        vertical-align: middle;\n",
              "    }\n",
              "\n",
              "    .dataframe tbody tr th {\n",
              "        vertical-align: top;\n",
              "    }\n",
              "\n",
              "    .dataframe thead th {\n",
              "        text-align: right;\n",
              "    }\n",
              "</style>\n",
              "<table border=\"1\" class=\"dataframe\">\n",
              "  <thead>\n",
              "    <tr style=\"text-align: right;\">\n",
              "      <th></th>\n",
              "      <th>1</th>\n",
              "      <th>5</th>\n",
              "      <th>9</th>\n",
              "      <th>13</th>\n",
              "      <th>17</th>\n",
              "    </tr>\n",
              "    <tr>\n",
              "      <th>Bottleneck</th>\n",
              "      <th></th>\n",
              "      <th></th>\n",
              "      <th></th>\n",
              "      <th></th>\n",
              "      <th></th>\n",
              "    </tr>\n",
              "  </thead>\n",
              "  <tbody>\n",
              "    <tr>\n",
              "      <th>Test MSE</th>\n",
              "      <td>0.881309</td>\n",
              "      <td>0.753182</td>\n",
              "      <td>0.716474</td>\n",
              "      <td>0.703849</td>\n",
              "      <td>0.704460</td>\n",
              "    </tr>\n",
              "    <tr>\n",
              "      <th>Validation MSE</th>\n",
              "      <td>0.874880</td>\n",
              "      <td>0.748279</td>\n",
              "      <td>0.710395</td>\n",
              "      <td>0.697882</td>\n",
              "      <td>0.699037</td>\n",
              "    </tr>\n",
              "  </tbody>\n",
              "</table>\n",
              "</div>"
            ],
            "text/plain": [
              "                      1         5         9         13        17\n",
              "Bottleneck                                                      \n",
              "Test MSE        0.881309  0.753182  0.716474  0.703849  0.704460\n",
              "Validation MSE  0.874880  0.748279  0.710395  0.697882  0.699037"
            ]
          },
          "metadata": {
            "tags": []
          },
          "execution_count": 114
        }
      ]
    },
    {
      "cell_type": "markdown",
      "metadata": {
        "id": "IXDCWQFSqV1-",
        "colab_type": "text"
      },
      "source": [
        "Display of 5 random images and the ouput of the model"
      ]
    },
    {
      "cell_type": "code",
      "metadata": {
        "id": "JaiwCPcbqsPl",
        "colab_type": "code",
        "colab": {}
      },
      "source": [
        "#take 5 random images\n",
        "random_set_loader = torch.utils.data.DataLoader(\n",
        "     mnist_testset,\n",
        "    batch_size=5, \n",
        "    shuffle=True)\n",
        "dataiter = iter(random_set_loader)\n",
        "images,_ =dataiter.next()\n",
        "images = images.cuda()\n",
        "output = model(images)\n",
        "images = images.cpu().detach().numpy()\n",
        "output = output.cpu().detach().numpy()\n",
        "fig, axes = plt.subplots(nrows=2,ncols=5,sharex=True,sharey=True,figsize=(25,4\n",
        "))  \n",
        "for images, row in zip([images, output],axes):\n",
        "  for img,ax in zip(images,row):\n",
        "    ax.imshow(np.squeeze(img), cmap='gray')\n",
        "    ax.get_xaxis().set_visible(False)\n",
        "    ax.get_yaxis().set_visible(False)"
      ],
      "execution_count": 0,
      "outputs": []
    },
    {
      "cell_type": "markdown",
      "metadata": {
        "id": "7srcwHlp_MNl",
        "colab_type": "text"
      },
      "source": [
        "**Generate 5 new images**"
      ]
    },
    {
      "cell_type": "code",
      "metadata": {
        "id": "VsUkKTwPBBwk",
        "colab_type": "code",
        "colab": {}
      },
      "source": [
        "#for i in range(5):\n",
        "nb_images = 5\n",
        "rand_features = torch.randn(nb_images, bottleneck).to(hparams['device']) \n",
        "output = model.decoder(rand_features)\n",
        "#Visualisation\n",
        "output = output.cpu().detach().numpy()\n",
        "images_width = 28\n",
        "fig, axes = plt.subplots(nrows=1,ncols=5,sharex=True,sharey=True,figsize=(25,4))\n",
        "decoded_images = output[:nb_images]  \n",
        "for ax, img in zip(axes, decoded_images):\n",
        "    ax.imshow(np.squeeze(img), cmap='gray')\n",
        "    ax.get_xaxis().set_visible(False)\n",
        "    ax.get_yaxis().set_visible(False)"
      ],
      "execution_count": 0,
      "outputs": []
    },
    {
      "cell_type": "markdown",
      "metadata": {
        "id": "swhbaAJcdVh2",
        "colab_type": "text"
      },
      "source": [
        "#Exercice 2#"
      ]
    },
    {
      "cell_type": "markdown",
      "metadata": {
        "id": "l3ImVXmujF46",
        "colab_type": "text"
      },
      "source": [
        "We take a subset of 100 images and their associates label from the MNIST training data."
      ]
    },
    {
      "cell_type": "code",
      "metadata": {
        "id": "thhTDz6pjFG9",
        "colab_type": "code",
        "colab": {}
      },
      "source": [
        "nb_images_subnet = 100\n",
        "[trainset,_]=torch.utils.data.random_split(mnist_trainset,[nb_images_subnet,tvdataset_length-nb_images_subnet])\n",
        "train_loader = torch.utils.data.DataLoader(\n",
        "    trainset,\n",
        "    batch_size=hparams['batch_size'], \n",
        "    shuffle=True)"
      ],
      "execution_count": 0,
      "outputs": []
    },
    {
      "cell_type": "markdown",
      "metadata": {
        "id": "khqkApdIfVqv",
        "colab_type": "text"
      },
      "source": [
        "We first take the layers of the encoder part of the  model autoencoder. We take the one with a bottleneck of length 15."
      ]
    },
    {
      "cell_type": "code",
      "metadata": {
        "id": "b2vkIG0PdYJ_",
        "colab_type": "code",
        "colab": {}
      },
      "source": [
        "encoder_pretrain = model.encoder \n",
        "encoder_pretrain.eval()\n",
        "encoder_pretrain.to(hparams['device'])"
      ],
      "execution_count": 0,
      "outputs": []
    },
    {
      "cell_type": "markdown",
      "metadata": {
        "id": "IzxwhWz3li9x",
        "colab_type": "text"
      },
      "source": [
        "We create the classification model"
      ]
    },
    {
      "cell_type": "code",
      "metadata": {
        "id": "myOiDVjwmvtN",
        "colab_type": "code",
        "colab": {}
      },
      "source": [
        "bottleneck = 15\n",
        "class Classification(nn.Module):\n",
        "  def __init__(self,endoder):\n",
        "    super().__init__()\n",
        "    self.layers = endoder\n",
        "    #fully connected layers\n",
        "    self.fc = nn.Sequential(\n",
        "        nn.Linear(bottleneck,10),\n",
        "        nn.Softmax(dim=1)\n",
        "    )\n",
        "  def forward(self,x):\n",
        "    x = self.layers(x)\n",
        "    x= self.fc(x)\n",
        "    return x"
      ],
      "execution_count": 0,
      "outputs": []
    },
    {
      "cell_type": "markdown",
      "metadata": {
        "id": "AuogcDR2oMIU",
        "colab_type": "text"
      },
      "source": [
        "Training with the previous weights. "
      ]
    },
    {
      "cell_type": "code",
      "metadata": {
        "id": "PhFbZABsoslF",
        "colab_type": "code",
        "colab": {}
      },
      "source": [
        "#for layer in list(model_classifier.layers):\n",
        "#  for param in layer.parameters():\n",
        "#    param.require_grad = False    #Freeze layers of the encoder"
      ],
      "execution_count": 0,
      "outputs": []
    },
    {
      "cell_type": "code",
      "metadata": {
        "id": "SbQVpxWy_yeX",
        "colab_type": "code",
        "colab": {}
      },
      "source": [
        "def correct_predictions(predicted_batch, label_batch):\n",
        "  pred = predicted_batch.argmax(dim=1, keepdim=True) # get the index of the max log-probability\n",
        "  acum = pred.eq(label_batch.view_as(pred)).sum().item()\n",
        "  return acum\n",
        "\n",
        "def train_epoch(train_loader, network, optimizer, criterion, hparams):\n",
        "  # Activate the train=True flag inside the model\n",
        "  network.train()\n",
        "  device = hparams['device']\n",
        "  avg_loss = None\n",
        "  avg_weight = 0.1\n",
        "  for batch_idx, (data, target) in enumerate(train_loader):\n",
        "      data, target = data.to(device), target.to(device)\n",
        "      optimizer.zero_grad()\n",
        "      output = network(data)\n",
        "      loss = criterion(output, target)\n",
        "      loss.backward()\n",
        "      if avg_loss:\n",
        "        avg_loss = avg_weight * loss.item() + (1 - avg_weight) * avg_loss\n",
        "      else:\n",
        "        avg_loss = loss.item()\n",
        "      optimizer.step()\n",
        "      if batch_idx % hparams['log_interval'] == 0:\n",
        "          print('Train Epoch: {} [{}/{} ({:.0f}%)]\\tLoss: {:.6f}'.format(\n",
        "              epoch, batch_idx * len(data), len(train_loader.dataset),\n",
        "              100. * batch_idx / len(train_loader), loss.item()))\n",
        "  return avg_loss\n",
        "def test_epoch(test_loader, network, hparams):\n",
        "    network.eval()\n",
        "    device = hparams['device']\n",
        "    test_loss = 0\n",
        "    acc = 0\n",
        "    with torch.no_grad():\n",
        "        for data, target in test_loader:\n",
        "            data, target = data.to(device), target.to(device)\n",
        "            output = network(data)\n",
        "            #test_loss += criterion(output, target,reduction='sum').item() # sum up batch loss   eduction='sum'\n",
        "            # compute number of correct predictions in the batch\n",
        "            acc += correct_predictions(output, target)\n",
        "    # Average acc across all correct predictions batches now\n",
        "    test_loss /= len(test_loader.dataset)\n",
        "    test_acc = 100. * acc / len(test_loader.dataset)\n",
        "    print('\\nTest set: Average loss: {:.4f}, Accuracy: {}/{} ({:.0f}%)\\n'.format(\n",
        "        test_loss, acc, len(test_loader.dataset), test_acc,\n",
        "        ))\n",
        "    return test_loss, test_acc"
      ],
      "execution_count": 0,
      "outputs": []
    },
    {
      "cell_type": "code",
      "metadata": {
        "id": "RL5CyLd1Ir7I",
        "colab_type": "code",
        "colab": {}
      },
      "source": [
        "def epoch(model_):  \n",
        "    tr_losses = []\n",
        "    te_losses = []\n",
        "    te_accs = []\n",
        "    model_.to(hparams['device'])\n",
        "    optimizer = optim.RMSprop(model.parameters(), lr=hparams['learning_rate'])\n",
        "    criterion = F.nll_loss\n",
        "    for epoch in range(1, hparams['num_epochs'] + 50):\n",
        "      print('Epoch {}'.format(epoch))\n",
        "      tr_losses.append(train_epoch(train_loader, model_, optimizer, criterion, hparams))\n",
        "      te_loss, te_acc = test_epoch(test_loader, model_, hparams)\n",
        "      te_losses.append(te_loss)\n",
        "      te_accs.append(te_acc)   \n",
        "    return te_accs"
      ],
      "execution_count": 0,
      "outputs": []
    },
    {
      "cell_type": "code",
      "metadata": {
        "id": "gkuUBNytbuWc",
        "colab_type": "code",
        "colab": {}
      },
      "source": [
        "model_classifier = Classification(encoder_pretrain)\n",
        "te_accs=epoch(model_classifier)"
      ],
      "execution_count": 0,
      "outputs": []
    },
    {
      "cell_type": "markdown",
      "metadata": {
        "id": "clvxyd1dW6ck",
        "colab_type": "text"
      },
      "source": [
        "Model Train from scratch"
      ]
    },
    {
      "cell_type": "code",
      "metadata": {
        "id": "JAl4W7jzW-K3",
        "colab_type": "code",
        "colab": {}
      },
      "source": [
        "class Classifier_scratch(nn.Module):\n",
        "  def __init__(self):\n",
        "    super().__init__()\n",
        "    self.bottleneck = 15\n",
        "    self.layers = Encoder(self.bottleneck)\n",
        "    self.fc = nn.Sequential(\n",
        "        nn.Linear(self.bottleneck,10),\n",
        "        nn.Softmax(dim=1)\n",
        "    )\n",
        "  def forward(self,x):\n",
        "    x= self.layers(x)\n",
        "    x= self.fc(x)\n",
        "    return x"
      ],
      "execution_count": 0,
      "outputs": []
    },
    {
      "cell_type": "markdown",
      "metadata": {
        "id": "m9XO-xl_ZM8l",
        "colab_type": "text"
      },
      "source": [
        "Train the model from scratch"
      ]
    },
    {
      "cell_type": "code",
      "metadata": {
        "id": "tLJPz3qNZTqc",
        "colab_type": "code",
        "colab": {}
      },
      "source": [
        "network_scratch = Classifier_scratch()\n",
        "te_accs_scratch = epoch(network_scratch)"
      ],
      "execution_count": 0,
      "outputs": []
    },
    {
      "cell_type": "markdown",
      "metadata": {
        "id": "66fb84XHd1UG",
        "colab_type": "text"
      },
      "source": [
        "Plot all the accuracy"
      ]
    },
    {
      "cell_type": "code",
      "metadata": {
        "id": "0ZPHQsD9e5O7",
        "colab_type": "code",
        "colab": {}
      },
      "source": [
        "fig, ax = plt.subplots()\n",
        "#hide axes\n",
        "fig.patch.set_visible(False)\n",
        "ax.axis('off')\n",
        "ax.axis('tight')\n",
        "data = {'Accuracy Train model %':te_accs,'Accuracy Model from scratch %':te_accs_scratch}\n",
        "df = pd.DataFrame(data)\n",
        "ax.table(cellText=df.values, colLabels=df.columns, loc='center')\n",
        "fig.tight_layout()\n",
        "plt.show()"
      ],
      "execution_count": 0,
      "outputs": []
    }
  ]
}
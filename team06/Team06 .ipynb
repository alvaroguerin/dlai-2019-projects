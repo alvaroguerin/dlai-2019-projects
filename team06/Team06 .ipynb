{
  "nbformat": 4,
  "nbformat_minor": 0,
  "metadata": {
    "colab": {
      "name": "Team06.ipynb",
      "provenance": [],
      "collapsed_sections": []
    },
    "kernelspec": {
      "name": "python3",
      "display_name": "Python 3"
    },
    "accelerator": "GPU"
  },
  "cells": [
    {
      "cell_type": "markdown",
      "metadata": {
        "id": "UXEMd6fjMDxv",
        "colab_type": "text"
      },
      "source": [
        "#Exercise 1: Convolutional Autoencoder#\n",
        "\n",
        "Train a convolutional autoencoder on MNIST, study the influence of the bottleneck size and generate some images"
      ]
    },
    {
      "cell_type": "code",
      "metadata": {
        "id": "yI2YUDCIMl60",
        "colab_type": "code",
        "colab": {}
      },
      "source": [
        "import numpy as np\n",
        "np.random.seed(1)\n",
        "import torch\n",
        "import torch.nn as nn\n",
        "import torch.optim as optim\n",
        "import torch.nn.functional as F\n",
        "from torchvision import datasets, transforms\n",
        "torch.manual_seed(1)\n",
        "if torch.cuda.is_available():\n",
        "  torch.cuda.manual_seed_all(1)\n",
        "import matplotlib.pyplot as plt\n",
        "import pandas as pd"
      ],
      "execution_count": 0,
      "outputs": []
    },
    {
      "cell_type": "code",
      "metadata": {
        "id": "8UY29exSOCzl",
        "colab_type": "code",
        "colab": {}
      },
      "source": [
        "# Let's define some hyper-parameters\n",
        "hparams = {\n",
        "    'batch_size':64,\n",
        "    'num_epochs':2,\n",
        "    'test_batch_size':64,\n",
        "    'hidden_size':128,\n",
        "    'learning_rate':1e-3,\n",
        "    'log_interval':100,\n",
        "}\n",
        "\n",
        "# we select to work on GPU if it is available in the machine, otherwise\n",
        "# will run on CPU\n",
        "hparams['device'] = 'cuda' if torch.cuda.is_available() else 'cpu'"
      ],
      "execution_count": 0,
      "outputs": []
    },
    {
      "cell_type": "markdown",
      "metadata": {
        "id": "toHzJwqpOn4_",
        "colab_type": "text"
      },
      "source": [
        "**Load Dataset**"
      ]
    },
    {
      "cell_type": "code",
      "metadata": {
        "id": "vZ-ESSIPOu6b",
        "colab_type": "code",
        "colab": {}
      },
      "source": [
        "mnist_trainset = datasets.MNIST('data', train=True, download=True,\n",
        "                                transform=transforms.Compose([\n",
        "                                    transforms.ToTensor(),\n",
        "                                    transforms.Normalize((0.1307,), (0.3081,))                        \n",
        "                                ]))\n",
        "mnist_testset = datasets.MNIST('data', train=False, \n",
        "                               transform=transforms.Compose([\n",
        "                                   transforms.ToTensor(),\n",
        "                                   transforms.Normalize((0.1307,), (0.3081,))\n",
        "                               ]))"
      ],
      "execution_count": 0,
      "outputs": []
    },
    {
      "cell_type": "markdown",
      "metadata": {
        "id": "_ficutcOO9OD",
        "colab_type": "text"
      },
      "source": [
        "**Split data**:\n",
        "We split the data in 95% for training and 5% for validation"
      ]
    },
    {
      "cell_type": "code",
      "metadata": {
        "id": "lVjEIXDAPKPG",
        "colab_type": "code",
        "outputId": "95788a1e-85da-4518-8f63-e00a60f84123",
        "colab": {
          "base_uri": "https://localhost:8080/",
          "height": 52
        }
      },
      "source": [
        "#we take the size of the trainset and after that we take 5% of dataset\n",
        "tvdataset_length = len(mnist_trainset)\n",
        "validationset_length = int(0.05*tvdataset_length)\n",
        "#we split the dataset\n",
        "[trainset,validationset]=torch.utils.data.random_split(mnist_trainset,[tvdataset_length-validationset_length,validationset_length])\n",
        "print('Validation dataset is :{}%'.format(100*len(validationset)/len(mnist_trainset)))\n",
        "print('Training dataset is :{}%'.format(100*len(trainset)/len(mnist_trainset)))"
      ],
      "execution_count": 57,
      "outputs": [
        {
          "output_type": "stream",
          "text": [
            "Validation dataset is :5.0%\n",
            "Training dataset is :95.0%\n"
          ],
          "name": "stdout"
        }
      ]
    },
    {
      "cell_type": "markdown",
      "metadata": {
        "id": "oCw_FrqyPbEf",
        "colab_type": "text"
      },
      "source": [
        "**Loader data**\n",
        "We load the dataset with batch size "
      ]
    },
    {
      "cell_type": "code",
      "metadata": {
        "id": "E9SY3Wd2P2as",
        "colab_type": "code",
        "colab": {}
      },
      "source": [
        "train_loader = torch.utils.data.DataLoader(\n",
        "    trainset,\n",
        "    batch_size=hparams['batch_size'], \n",
        "    shuffle=True)\n",
        "\n",
        "validation_loader = torch.utils.data.DataLoader(\n",
        "    validationset,\n",
        "    batch_size=hparams['batch_size'], \n",
        "    shuffle=True)\n",
        "\n",
        "test_loader = torch.utils.data.DataLoader(\n",
        "     mnist_testset,\n",
        "    batch_size=hparams['test_batch_size'], \n",
        "    shuffle=False)"
      ],
      "execution_count": 0,
      "outputs": []
    },
    {
      "cell_type": "markdown",
      "metadata": {
        "id": "ujmQBiU-P_24",
        "colab_type": "text"
      },
      "source": [
        "## 2. Implement a convolutional autoencoder (with separate Encoder and Decoder modules). ##"
      ]
    },
    {
      "cell_type": "markdown",
      "metadata": {
        "id": "7e1z86RQQLIP",
        "colab_type": "text"
      },
      "source": [
        "**Creation of the Class Autoencoder**"
      ]
    },
    {
      "cell_type": "markdown",
      "metadata": {
        "id": "TFrAUZ3I0rXu",
        "colab_type": "text"
      },
      "source": [
        "**Define of the Class encoder**"
      ]
    },
    {
      "cell_type": "code",
      "metadata": {
        "id": "dy3qem8CxhF4",
        "colab_type": "code",
        "colab": {}
      },
      "source": [
        "class Encoder(nn.Module):\n",
        "  def __init__(self,bottleneck):\n",
        "    super().__init__()\n",
        "    self.bottleneck = bottleneck\n",
        "    self.conv1 = nn.Sequential( \n",
        "              nn.Conv2d(1,64,5,padding=2),\n",
        "              nn.MaxPool2d(2,2),\n",
        "              nn.ReLU(inplace = True),\n",
        "              nn.Dropout(0.5))\n",
        "    self.conv2 = nn.Sequential(\n",
        "              nn.Conv2d(64,32,5,padding=2),\n",
        "              nn.ReLU(inplace = True),\n",
        "              nn.Dropout(0.5)\n",
        "              )\n",
        "    self.conv3 = nn.Sequential(\n",
        "              nn.Conv2d(32,16,5,padding=2),\n",
        "              nn.MaxPool2d(2,2),\n",
        "              nn.ReLU(inplace = True),\n",
        "              nn.Dropout(0.5),\n",
        "              nn.Flatten()\n",
        "    )\n",
        "    self.fc = nn.Sequential(\n",
        "              nn.Linear(16*7*7,self.bottleneck),\n",
        "              nn.ReLU())\n",
        "  def forward(self,x):\n",
        "    x= self.conv1(x)\n",
        "    x= self.conv2(x)\n",
        "    x= self.conv3(x)\n",
        "    x= self.fc(x)\n",
        "    return x  "
      ],
      "execution_count": 0,
      "outputs": []
    },
    {
      "cell_type": "markdown",
      "metadata": {
        "id": "wKpWhH-p0y7X",
        "colab_type": "text"
      },
      "source": [
        "**Define of the class Decoder**"
      ]
    },
    {
      "cell_type": "code",
      "metadata": {
        "id": "G003wB2C03Ox",
        "colab_type": "code",
        "colab": {}
      },
      "source": [
        "class Decoder(nn.Module):\n",
        "  def __init__(self,bottleneck):\n",
        "    super().__init__()\n",
        "    self.bottleneck = bottleneck\n",
        "    self.conv1 = nn.Sequential( \n",
        "          nn.ConvTranspose2d(64,32,14,stride=2),\n",
        "          nn.BatchNorm2d(32),\n",
        "          nn.ReLU(),\n",
        "          nn.Dropout(0.5))\n",
        "    self.conv2 = nn.Sequential(\n",
        "          nn.ConvTranspose2d(32,1,2,stride=2),\n",
        "          nn.Sigmoid())\n",
        "    self.fc = nn.Sequential(\n",
        "          nn.Linear(self.bottleneck,64),\n",
        "          nn.ReLU())\n",
        "  def forward(self,x):\n",
        "    x= self.fc(x)\n",
        "    x= self.conv1(x.view(x.shape[0], 64, 1,1))\n",
        "    x= self.conv2(x)\n",
        "    return x"
      ],
      "execution_count": 0,
      "outputs": []
    },
    {
      "cell_type": "markdown",
      "metadata": {
        "id": "RjXKNbo-2K6L",
        "colab_type": "text"
      },
      "source": [
        "**Define of the class Autoencoder**"
      ]
    },
    {
      "cell_type": "code",
      "metadata": {
        "id": "gQlv3B8z2RsZ",
        "colab_type": "code",
        "colab": {}
      },
      "source": [
        "class Autoencoder(nn.Module):\n",
        "    def __init__(self,bottleneck):\n",
        "      super().__init__()\n",
        "      self.bottleneck = bottleneck\n",
        "      self.encoder = Encoder(self.bottleneck)\n",
        "      self.decoder = Decoder(self.bottleneck)\n",
        "    def forward(self,x):\n",
        "      x= self.encoder(x)\n",
        "      x= self.decoder(x)\n",
        "      return x"
      ],
      "execution_count": 0,
      "outputs": []
    },
    {
      "cell_type": "markdown",
      "metadata": {
        "id": "H8EQA1d1QjR_",
        "colab_type": "text"
      },
      "source": [
        "**Train the Model**"
      ]
    },
    {
      "cell_type": "markdown",
      "metadata": {
        "id": "-aeZYUpvYLr3",
        "colab_type": "text"
      },
      "source": [
        "Definition of the function *train epoch*. It train the weights of the model. It computes the loss of the train and it performs the backpropagation. "
      ]
    },
    {
      "cell_type": "code",
      "metadata": {
        "id": "SwXY1cVk_Df5",
        "colab_type": "code",
        "colab": {}
      },
      "source": [
        "def train_epoch(train_loader,model,optimizer,criterion,hparams):\n",
        "  model.train()\n",
        "  #avg_loss_train = None\n",
        "  #avg_weight = 0.1\n",
        "  losses = []\n",
        "  for batch_idx, data in enumerate(train_loader):\n",
        "          optimizer.zero_grad()\n",
        "          img, _ = data\n",
        "          img = img.cuda()\n",
        "          output = model(img)\n",
        "          loss = criterion(output,img)\n",
        "          loss.backward()\n",
        "          optimizer.step()\n",
        "          if batch_idx % hparams['log_interval'] == 0:\n",
        "            print('Train Epoch: {} [{}/{} ({:.0f}%)]\\tLoss: {:.6f}\\n'.format(\n",
        "                epoch, batch_idx * len(data), len(train_loader.dataset),\n",
        "                100. * batch_idx / len(train_loader), loss.item()))\n",
        "            #avg_loss_train = loss.item() \n",
        "          losses.append(loss.item())\n",
        "  return losses"
      ],
      "execution_count": 0,
      "outputs": []
    },
    {
      "cell_type": "markdown",
      "metadata": {
        "id": "r6UAzZfgczS7",
        "colab_type": "text"
      },
      "source": [
        "It is a generic fonction to evaluate the model it return the loss average and the MSE. "
      ]
    },
    {
      "cell_type": "code",
      "metadata": {
        "id": "9kH7nzyIIcnB",
        "colab_type": "code",
        "colab": {}
      },
      "source": [
        "def test_epoch(set_loader,model,hparams):\n",
        "  model.eval()\n",
        "  avg_loss_validation =0\n",
        "  MSE = 0\n",
        "  with torch.no_grad():\n",
        "    for data in set_loader:\n",
        "      img,_ = data\n",
        "      img = img.cuda()\n",
        "      output = model(img)\n",
        "      val_loss = criterion(output,img)\n",
        "      MSE += criterion_MSE(output,img)\n",
        "      avg_loss_validation+= val_loss\n",
        "  avg_loss_validation /= len(set_loader)\n",
        "  MSE /= len(set_loader) \n",
        "  return avg_loss_validation,MSE"
      ],
      "execution_count": 0,
      "outputs": []
    },
    {
      "cell_type": "markdown",
      "metadata": {
        "id": "TmmBESGtAEnu",
        "colab_type": "text"
      },
      "source": [
        "Fuction to compute the number of paramater "
      ]
    },
    {
      "cell_type": "code",
      "metadata": {
        "id": "XeFfbnFWASDm",
        "colab_type": "code",
        "colab": {}
      },
      "source": [
        "def number_param(model):\n",
        "  return sum(p.numel() for p in model.parameters())"
      ],
      "execution_count": 0,
      "outputs": []
    },
    {
      "cell_type": "markdown",
      "metadata": {
        "id": "mTxKC70ndCj7",
        "colab_type": "text"
      },
      "source": [
        "###Train of the model and evalutation of it with different bottleneck###"
      ]
    },
    {
      "cell_type": "code",
      "metadata": {
        "id": "4hLCJnupgoCz",
        "colab_type": "code",
        "outputId": "1b85ee87-5c95-4d18-b330-559d7b88b1cb",
        "colab": {
          "base_uri": "https://localhost:8080/",
          "height": 1000
        }
      },
      "source": [
        "dic_MSE = dict()\n",
        "validation_loss_bottleneck = dict()\n",
        "train_loss_bottleneck = dict()\n",
        "models = dict()\n",
        "for bottleneck in range(5,25,4):\n",
        "  model = Autoencoder(bottleneck).cuda()\n",
        "  model.to(hparams['device'])\n",
        "  models[bottleneck] = model\n",
        "  print('Bottleneck :{}'.format(bottleneck))\n",
        "  number_param_bottleneck = number_param(model)\n",
        "  print('Number param for a bottleneck of {} : {} parameters'.format(bottleneck,number_param_bottleneck))\n",
        "  list_MSE_validation = []\n",
        "  train_loss = []\n",
        "  validation_loss = []\n",
        "  criterion_MSE = nn.MSELoss()\n",
        "  criterion = nn.MSELoss()#nn.BCELoss()\n",
        "  optimizer =  optim.Adam(model.parameters(), lr=hparams['learning_rate'])\n",
        "  for epoch in range(hparams['num_epochs']):\n",
        "    train_loss.extend(train_epoch(train_loader,model,optimizer,criterion,hparams))\n",
        "    val_loss,MSE_validation = test_epoch(validation_loader,model,hparams)\n",
        "    validation_loss.append(val_loss)\n",
        "    list_MSE_validation.append(MSE_validation)\n",
        "    print('Train epoch [{}/{}], validation loss = {:.4f}, MSE:{:.2f}\\n'.format(epoch+1, hparams['num_epochs'],val_loss,MSE_validation))\n",
        "  _,test_MSE = test_epoch(test_loader,model,hparams)\n",
        "  train_loss_bottleneck[bottleneck]= train_loss\n",
        "  validation_loss_bottleneck[bottleneck] = validation_loss\n",
        "  dic_MSE[bottleneck]= [test_MSE.item(),list_MSE_validation[-1].item(),number_param_bottleneck]"
      ],
      "execution_count": 85,
      "outputs": [
        {
          "output_type": "stream",
          "text": [
            "Bottleneck :5\n",
            "Number param for a bottleneck of 5 : 471654 parameters\n",
            "Train Epoch: 0 [0/57000 (0%)]\tLoss: 0.630384\n",
            "\n",
            "Train Epoch: 0 [200/57000 (11%)]\tLoss: -1.190554\n",
            "\n",
            "Train Epoch: 0 [400/57000 (22%)]\tLoss: -2.396671\n",
            "\n",
            "Train Epoch: 0 [600/57000 (34%)]\tLoss: -3.920789\n",
            "\n",
            "Train Epoch: 0 [800/57000 (45%)]\tLoss: -5.782422\n",
            "\n",
            "Train Epoch: 0 [1000/57000 (56%)]\tLoss: -7.331224\n",
            "\n",
            "Train Epoch: 0 [1200/57000 (67%)]\tLoss: -8.716306\n",
            "\n",
            "Train Epoch: 0 [1400/57000 (79%)]\tLoss: -9.970074\n",
            "\n",
            "Train Epoch: 0 [1600/57000 (90%)]\tLoss: -11.025948\n",
            "\n",
            "Train epoch [1/2], validation loss = -11.3592, MSE:0.66\n",
            "\n",
            "Train Epoch: 1 [0/57000 (0%)]\tLoss: -11.370235\n",
            "\n",
            "Train Epoch: 1 [200/57000 (11%)]\tLoss: -12.475941\n",
            "\n",
            "Train Epoch: 1 [400/57000 (22%)]\tLoss: -13.050211\n",
            "\n",
            "Train Epoch: 1 [600/57000 (34%)]\tLoss: -13.122763\n",
            "\n",
            "Train Epoch: 1 [800/57000 (45%)]\tLoss: -14.276472\n",
            "\n",
            "Train Epoch: 1 [1000/57000 (56%)]\tLoss: -14.674782\n",
            "\n",
            "Train Epoch: 1 [1200/57000 (67%)]\tLoss: -15.445906\n",
            "\n",
            "Train Epoch: 1 [1400/57000 (79%)]\tLoss: -15.503515\n",
            "\n",
            "Train Epoch: 1 [1600/57000 (90%)]\tLoss: -15.770162\n",
            "\n",
            "Train epoch [2/2], validation loss = -16.5938, MSE:0.64\n",
            "\n",
            "Bottleneck :9\n",
            "Number param for a bottleneck of 9 : 475050 parameters\n",
            "Train Epoch: 0 [0/57000 (0%)]\tLoss: 0.879345\n",
            "\n",
            "Train Epoch: 0 [200/57000 (11%)]\tLoss: -1.251527\n",
            "\n",
            "Train Epoch: 0 [400/57000 (22%)]\tLoss: -2.103719\n",
            "\n",
            "Train Epoch: 0 [600/57000 (34%)]\tLoss: -3.725595\n",
            "\n",
            "Train Epoch: 0 [800/57000 (45%)]\tLoss: -5.021248\n",
            "\n",
            "Train Epoch: 0 [1000/57000 (56%)]\tLoss: -6.299314\n",
            "\n",
            "Train Epoch: 0 [1200/57000 (67%)]\tLoss: -7.526265\n",
            "\n",
            "Train Epoch: 0 [1400/57000 (79%)]\tLoss: -8.770333\n",
            "\n",
            "Train Epoch: 0 [1600/57000 (90%)]\tLoss: -9.952415\n",
            "\n",
            "Train epoch [1/2], validation loss = -10.4098, MSE:0.67\n",
            "\n",
            "Train Epoch: 1 [0/57000 (0%)]\tLoss: -10.467579\n",
            "\n",
            "Train Epoch: 1 [200/57000 (11%)]\tLoss: -11.569710\n",
            "\n",
            "Train Epoch: 1 [400/57000 (22%)]\tLoss: -11.861295\n",
            "\n",
            "Train Epoch: 1 [600/57000 (34%)]\tLoss: -12.945340\n",
            "\n",
            "Train Epoch: 1 [800/57000 (45%)]\tLoss: -13.598332\n",
            "\n",
            "Train Epoch: 1 [1000/57000 (56%)]\tLoss: -13.813897\n",
            "\n",
            "Train Epoch: 1 [1200/57000 (67%)]\tLoss: -14.618366\n",
            "\n",
            "Train Epoch: 1 [1400/57000 (79%)]\tLoss: -15.036824\n",
            "\n",
            "Train Epoch: 1 [1600/57000 (90%)]\tLoss: -15.812804\n",
            "\n",
            "Train epoch [2/2], validation loss = -16.3055, MSE:0.65\n",
            "\n",
            "Bottleneck :13\n",
            "Number param for a bottleneck of 13 : 478446 parameters\n",
            "Train Epoch: 0 [0/57000 (0%)]\tLoss: 1.168838\n",
            "\n",
            "Train Epoch: 0 [200/57000 (11%)]\tLoss: -0.741330\n",
            "\n",
            "Train Epoch: 0 [400/57000 (22%)]\tLoss: -2.140923\n",
            "\n",
            "Train Epoch: 0 [600/57000 (34%)]\tLoss: -3.557963\n",
            "\n",
            "Train Epoch: 0 [800/57000 (45%)]\tLoss: -5.226736\n",
            "\n",
            "Train Epoch: 0 [1000/57000 (56%)]\tLoss: -6.713405\n",
            "\n",
            "Train Epoch: 0 [1200/57000 (67%)]\tLoss: -8.399187\n",
            "\n",
            "Train Epoch: 0 [1400/57000 (79%)]\tLoss: -9.528917\n",
            "\n",
            "Train Epoch: 0 [1600/57000 (90%)]\tLoss: -10.710429\n",
            "\n",
            "Train epoch [1/2], validation loss = -10.1475, MSE:0.64\n",
            "\n",
            "Train Epoch: 1 [0/57000 (0%)]\tLoss: -11.603503\n",
            "\n",
            "Train Epoch: 1 [200/57000 (11%)]\tLoss: -12.351067\n",
            "\n",
            "Train Epoch: 1 [400/57000 (22%)]\tLoss: -13.106143\n",
            "\n",
            "Train Epoch: 1 [600/57000 (34%)]\tLoss: -13.904323\n",
            "\n",
            "Train Epoch: 1 [800/57000 (45%)]\tLoss: -14.549785\n",
            "\n",
            "Train Epoch: 1 [1000/57000 (56%)]\tLoss: -15.172739\n",
            "\n",
            "Train Epoch: 1 [1200/57000 (67%)]\tLoss: -15.961740\n",
            "\n",
            "Train Epoch: 1 [1400/57000 (79%)]\tLoss: -16.418667\n",
            "\n",
            "Train Epoch: 1 [1600/57000 (90%)]\tLoss: -16.712757\n",
            "\n",
            "Train epoch [2/2], validation loss = -16.3294, MSE:0.62\n",
            "\n",
            "Bottleneck :17\n",
            "Number param for a bottleneck of 17 : 481842 parameters\n",
            "Train Epoch: 0 [0/57000 (0%)]\tLoss: 1.012426\n",
            "\n",
            "Train Epoch: 0 [200/57000 (11%)]\tLoss: -1.029696\n",
            "\n",
            "Train Epoch: 0 [400/57000 (22%)]\tLoss: -2.486515\n",
            "\n",
            "Train Epoch: 0 [600/57000 (34%)]\tLoss: -4.249178\n",
            "\n",
            "Train Epoch: 0 [800/57000 (45%)]\tLoss: -5.906183\n",
            "\n",
            "Train Epoch: 0 [1000/57000 (56%)]\tLoss: -7.112342\n",
            "\n",
            "Train Epoch: 0 [1200/57000 (67%)]\tLoss: -8.475470\n",
            "\n",
            "Train Epoch: 0 [1400/57000 (79%)]\tLoss: -9.971992\n",
            "\n",
            "Train Epoch: 0 [1600/57000 (90%)]\tLoss: -10.737783\n",
            "\n",
            "Train epoch [1/2], validation loss = -11.8824, MSE:0.59\n",
            "\n",
            "Train Epoch: 1 [0/57000 (0%)]\tLoss: -12.112930\n",
            "\n",
            "Train Epoch: 1 [200/57000 (11%)]\tLoss: -12.691664\n",
            "\n",
            "Train Epoch: 1 [400/57000 (22%)]\tLoss: -13.251639\n",
            "\n",
            "Train Epoch: 1 [600/57000 (34%)]\tLoss: -14.091406\n",
            "\n",
            "Train Epoch: 1 [800/57000 (45%)]\tLoss: -14.804878\n",
            "\n",
            "Train Epoch: 1 [1000/57000 (56%)]\tLoss: -15.645493\n",
            "\n",
            "Train Epoch: 1 [1200/57000 (67%)]\tLoss: -16.473339\n",
            "\n",
            "Train Epoch: 1 [1400/57000 (79%)]\tLoss: -16.862347\n",
            "\n",
            "Train Epoch: 1 [1600/57000 (90%)]\tLoss: -17.247263\n",
            "\n",
            "Train epoch [2/2], validation loss = -18.1188, MSE:0.57\n",
            "\n",
            "Bottleneck :21\n",
            "Number param for a bottleneck of 21 : 485238 parameters\n",
            "Train Epoch: 0 [0/57000 (0%)]\tLoss: 1.011686\n",
            "\n",
            "Train Epoch: 0 [200/57000 (11%)]\tLoss: -1.029590\n",
            "\n",
            "Train Epoch: 0 [400/57000 (22%)]\tLoss: -2.828594\n",
            "\n",
            "Train Epoch: 0 [600/57000 (34%)]\tLoss: -4.020179\n",
            "\n",
            "Train Epoch: 0 [800/57000 (45%)]\tLoss: -5.482793\n",
            "\n",
            "Train Epoch: 0 [1000/57000 (56%)]\tLoss: -7.101158\n",
            "\n",
            "Train Epoch: 0 [1200/57000 (67%)]\tLoss: -8.759284\n",
            "\n",
            "Train Epoch: 0 [1400/57000 (79%)]\tLoss: -9.264111\n",
            "\n",
            "Train Epoch: 0 [1600/57000 (90%)]\tLoss: -10.627557\n",
            "\n",
            "Train epoch [1/2], validation loss = -10.8916, MSE:0.60\n",
            "\n",
            "Train Epoch: 1 [0/57000 (0%)]\tLoss: -11.516920\n",
            "\n",
            "Train Epoch: 1 [200/57000 (11%)]\tLoss: -12.422847\n",
            "\n",
            "Train Epoch: 1 [400/57000 (22%)]\tLoss: -12.968914\n",
            "\n",
            "Train Epoch: 1 [600/57000 (34%)]\tLoss: -14.225038\n",
            "\n",
            "Train Epoch: 1 [800/57000 (45%)]\tLoss: -14.848292\n",
            "\n",
            "Train Epoch: 1 [1000/57000 (56%)]\tLoss: -15.759631\n",
            "\n",
            "Train Epoch: 1 [1200/57000 (67%)]\tLoss: -16.295145\n",
            "\n",
            "Train Epoch: 1 [1400/57000 (79%)]\tLoss: -16.644695\n",
            "\n",
            "Train Epoch: 1 [1600/57000 (90%)]\tLoss: -17.525639\n",
            "\n",
            "Train epoch [2/2], validation loss = -17.5493, MSE:0.58\n",
            "\n"
          ],
          "name": "stdout"
        }
      ]
    },
    {
      "cell_type": "markdown",
      "metadata": {
        "id": "jA9U4c-MGWtg",
        "colab_type": "text"
      },
      "source": [
        "Plot the Loss "
      ]
    },
    {
      "cell_type": "code",
      "metadata": {
        "id": "SjyKdS4lT9Vz",
        "colab_type": "code",
        "colab": {
          "base_uri": "https://localhost:8080/",
          "height": 514
        },
        "outputId": "95aceeac-819c-40c3-99e5-de663181364e"
      },
      "source": [
        "fig, ax1 = plt.subplots(figsize=(10,8))\n",
        "plt.xlabel('Batchsize')\n",
        "plt.ylabel('MSEloss')\n",
        "form = ['-','o']\n",
        "color = ['r','b','g','k','y']\n",
        "ax2 = ax1.twiny()\n",
        "i=0\n",
        "for bottleneck in train_loss_bottleneck.keys():\n",
        "  ax1.plot(train_loss_bottleneck.get(bottleneck),color[i]+form[0], label='train loss bottleneck {}'.format(bottleneck))\n",
        "  \n",
        "  ax2.plot(validation_loss_bottleneck.get(bottleneck),color[i]+form[1],label='validation loss bottleneck {}'.format(bottleneck))\n",
        "  i+=1\n",
        "ax1.legend(bbox_to_anchor=(0.98, 0.8), loc='upper right', borderaxespad=0.)\n",
        "ax2.legend()\n",
        "plt.show()"
      ],
      "execution_count": 100,
      "outputs": [
        {
          "output_type": "display_data",
          "data": {
            "image/png": "[encoded data removed]",
            "text/plain": [
              "<Figure size 720x576 with 2 Axes>"
            ]
          },
          "metadata": {
            "tags": []
          }
        }
      ]
    },
    {
      "cell_type": "markdown",
      "metadata": {
        "id": "EW95HDZbou3P",
        "colab_type": "text"
      },
      "source": [
        "##Table of the differents MSE##"
      ]
    },
    {
      "cell_type": "code",
      "metadata": {
        "id": "N0eJOldzpFx3",
        "colab_type": "code",
        "colab": {
          "base_uri": "https://localhost:8080/",
          "height": 164
        },
        "outputId": "2c3e3f84-c70b-4481-9e71-aba7ceb1cac3"
      },
      "source": [
        "data = {\"Bottleneck\":[\"Test MSE\",\"Validation MSE\",\"number of parameters\"]}\n",
        "data.update(dic_MSE)\n",
        "df = pd.DataFrame(data)\n",
        "df = df.groupby('Bottleneck')\n",
        "df.first()"
      ],
      "execution_count": 99,
      "outputs": [
        {
          "output_type": "execute_result",
          "data": {
            "text/html": [
              "<div>\n",
              "<style scoped>\n",
              "    .dataframe tbody tr th:only-of-type {\n",
              "        vertical-align: middle;\n",
              "    }\n",
              "\n",
              "    .dataframe tbody tr th {\n",
              "        vertical-align: top;\n",
              "    }\n",
              "\n",
              "    .dataframe thead th {\n",
              "        text-align: right;\n",
              "    }\n",
              "</style>\n",
              "<table border=\"1\" class=\"dataframe\">\n",
              "  <thead>\n",
              "    <tr style=\"text-align: right;\">\n",
              "      <th></th>\n",
              "      <th>5</th>\n",
              "      <th>9</th>\n",
              "      <th>13</th>\n",
              "      <th>17</th>\n",
              "      <th>21</th>\n",
              "    </tr>\n",
              "    <tr>\n",
              "      <th>Bottleneck</th>\n",
              "      <th></th>\n",
              "      <th></th>\n",
              "      <th></th>\n",
              "      <th></th>\n",
              "      <th></th>\n",
              "    </tr>\n",
              "  </thead>\n",
              "  <tbody>\n",
              "    <tr>\n",
              "      <th>Test MSE</th>\n",
              "      <td>0.653558</td>\n",
              "      <td>0.655330</td>\n",
              "      <td>0.631896</td>\n",
              "      <td>0.578431</td>\n",
              "      <td>0.587001</td>\n",
              "    </tr>\n",
              "    <tr>\n",
              "      <th>Validation MSE</th>\n",
              "      <td>0.643902</td>\n",
              "      <td>0.646191</td>\n",
              "      <td>0.623162</td>\n",
              "      <td>0.569834</td>\n",
              "      <td>0.579055</td>\n",
              "    </tr>\n",
              "    <tr>\n",
              "      <th>number of parameters</th>\n",
              "      <td>471654.000000</td>\n",
              "      <td>475050.000000</td>\n",
              "      <td>478446.000000</td>\n",
              "      <td>481842.000000</td>\n",
              "      <td>485238.000000</td>\n",
              "    </tr>\n",
              "  </tbody>\n",
              "</table>\n",
              "</div>"
            ],
            "text/plain": [
              "                                 5   ...             21\n",
              "Bottleneck                           ...               \n",
              "Test MSE                   0.653558  ...       0.587001\n",
              "Validation MSE             0.643902  ...       0.579055\n",
              "number of parameters  471654.000000  ...  485238.000000\n",
              "\n",
              "[3 rows x 5 columns]"
            ]
          },
          "metadata": {
            "tags": []
          },
          "execution_count": 99
        }
      ]
    },
    {
      "cell_type": "markdown",
      "metadata": {
        "id": "i9o75XhPaVOz",
        "colab_type": "text"
      },
      "source": [
        "We take the model for a bottleneck of size 17"
      ]
    },
    {
      "cell_type": "code",
      "metadata": {
        "id": "BS9ij9V9ag9-",
        "colab_type": "code",
        "colab": {}
      },
      "source": [
        "bottleneck = 17\n",
        "model = models[bottleneck]"
      ],
      "execution_count": 0,
      "outputs": []
    },
    {
      "cell_type": "markdown",
      "metadata": {
        "id": "IXDCWQFSqV1-",
        "colab_type": "text"
      },
      "source": [
        "Display of 5 random images and the ouput of the model"
      ]
    },
    {
      "cell_type": "code",
      "metadata": {
        "id": "JaiwCPcbqsPl",
        "colab_type": "code",
        "outputId": "346ff847-1a0e-4bb3-99ac-23091aec013a",
        "colab": {
          "base_uri": "https://localhost:8080/",
          "height": 252
        }
      },
      "source": [
        "#take 5 random images\n",
        "random_set_loader = torch.utils.data.DataLoader(\n",
        "     mnist_testset,\n",
        "    batch_size=5, \n",
        "    shuffle=True)\n",
        "dataiter = iter(random_set_loader)\n",
        "images,_ =dataiter.next()\n",
        "images = images.cuda()\n",
        "output = model(images)\n",
        "images = images.cpu().detach().numpy()\n",
        "output = output.cpu().detach().numpy()\n",
        "fig, axes = plt.subplots(nrows=2,ncols=5,sharex=True,sharey=True,figsize=(25,4\n",
        "))  \n",
        "for images, row in zip([images, output],axes):\n",
        "  for img,ax in zip(images,row):\n",
        "    ax.imshow(np.squeeze(img), cmap='gray')\n",
        "    ax.get_xaxis().set_visible(False)\n",
        "    ax.get_yaxis().set_visible(False)"
      ],
      "execution_count": 88,
      "outputs": [
        {
          "output_type": "display_data",
          "data": {
            "image/png": "[encoded data removed]",
            "text/plain": [
              "<Figure size 1800x288 with 10 Axes>"
            ]
          },
          "metadata": {
            "tags": []
          }
        }
      ]
    },
    {
      "cell_type": "markdown",
      "metadata": {
        "id": "7srcwHlp_MNl",
        "colab_type": "text"
      },
      "source": [
        "**Generate 5 new images**"
      ]
    },
    {
      "cell_type": "code",
      "metadata": {
        "id": "VsUkKTwPBBwk",
        "colab_type": "code",
        "colab": {
          "base_uri": "https://localhost:8080/",
          "height": 252
        },
        "outputId": "72d6127b-42c5-46bd-b6b6-afa442c2f9de"
      },
      "source": [
        "#for i in range(5):\n",
        "nb_images = 5\n",
        "rand_features = torch.randn(nb_images, bottleneck).to(hparams['device']) \n",
        "output = model.decoder(rand_features)\n",
        "#Visualisation\n",
        "output = output.cpu().detach().numpy()\n",
        "images_width = 28\n",
        "fig, axes = plt.subplots(nrows=1,ncols=5,sharex=True,sharey=True,figsize=(25,4))\n",
        "decoded_images = output[:nb_images]  \n",
        "for ax, img in zip(axes, decoded_images):\n",
        "    ax.imshow(np.squeeze(img), cmap='gray')\n",
        "    ax.get_xaxis().set_visible(False)\n",
        "    ax.get_yaxis().set_visible(False)"
      ],
      "execution_count": 89,
      "outputs": [
        {
          "output_type": "display_data",
          "data": {
            "image/png": "[encoded data removed]",
            "text/plain": [
              "<Figure size 1800x288 with 5 Axes>"
            ]
          },
          "metadata": {
            "tags": []
          }
        }
      ]
    },
    {
      "cell_type": "markdown",
      "metadata": {
        "id": "swhbaAJcdVh2",
        "colab_type": "text"
      },
      "source": [
        "#Exercice 2#"
      ]
    },
    {
      "cell_type": "markdown",
      "metadata": {
        "id": "l3ImVXmujF46",
        "colab_type": "text"
      },
      "source": [
        "We take a subset of 100 images and their associates label from the MNIST training data."
      ]
    },
    {
      "cell_type": "code",
      "metadata": {
        "id": "thhTDz6pjFG9",
        "colab_type": "code",
        "colab": {}
      },
      "source": [
        "nb_images_subnet = 100\n",
        "[trainset,_]=torch.utils.data.random_split(mnist_trainset,[nb_images_subnet,tvdataset_length-nb_images_subnet])\n",
        "train_loader = torch.utils.data.DataLoader(\n",
        "    trainset,\n",
        "    batch_size=hparams['batch_size'], \n",
        "    shuffle=True)"
      ],
      "execution_count": 0,
      "outputs": []
    },
    {
      "cell_type": "markdown",
      "metadata": {
        "id": "khqkApdIfVqv",
        "colab_type": "text"
      },
      "source": [
        "We first take the layers of the encoder part of the  model autoencoder. We take the one with a bottleneck of length 15."
      ]
    },
    {
      "cell_type": "code",
      "metadata": {
        "id": "b2vkIG0PdYJ_",
        "colab_type": "code",
        "colab": {
          "base_uri": "https://localhost:8080/",
          "height": 444
        },
        "outputId": "f4a32b29-9b3c-437c-83a9-a90be16667d5"
      },
      "source": [
        "encoder_pretrain = model.encoder \n",
        "encoder_pretrain.eval()\n",
        "encoder_pretrain.to(hparams['device'])"
      ],
      "execution_count": 137,
      "outputs": [
        {
          "output_type": "execute_result",
          "data": {
            "text/plain": [
              "Encoder(\n",
              "  (conv1): Sequential(\n",
              "    (0): Conv2d(1, 64, kernel_size=(5, 5), stride=(1, 1), padding=(2, 2))\n",
              "    (1): MaxPool2d(kernel_size=2, stride=2, padding=0, dilation=1, ceil_mode=False)\n",
              "    (2): ReLU(inplace=True)\n",
              "    (3): Dropout(p=0.5, inplace=False)\n",
              "  )\n",
              "  (conv2): Sequential(\n",
              "    (0): Conv2d(64, 32, kernel_size=(5, 5), stride=(1, 1), padding=(2, 2))\n",
              "    (1): ReLU(inplace=True)\n",
              "    (2): Dropout(p=0.5, inplace=False)\n",
              "  )\n",
              "  (conv3): Sequential(\n",
              "    (0): Conv2d(32, 16, kernel_size=(5, 5), stride=(1, 1), padding=(2, 2))\n",
              "    (1): MaxPool2d(kernel_size=2, stride=2, padding=0, dilation=1, ceil_mode=False)\n",
              "    (2): ReLU(inplace=True)\n",
              "    (3): Dropout(p=0.5, inplace=False)\n",
              "    (4): Flatten()\n",
              "  )\n",
              "  (fc): Sequential(\n",
              "    (0): Linear(in_features=784, out_features=17, bias=True)\n",
              "    (1): ReLU()\n",
              "  )\n",
              ")"
            ]
          },
          "metadata": {
            "tags": []
          },
          "execution_count": 137
        }
      ]
    },
    {
      "cell_type": "markdown",
      "metadata": {
        "id": "IzxwhWz3li9x",
        "colab_type": "text"
      },
      "source": [
        "We create the classification model"
      ]
    },
    {
      "cell_type": "code",
      "metadata": {
        "id": "myOiDVjwmvtN",
        "colab_type": "code",
        "colab": {}
      },
      "source": [
        "bottleneck = 17\n",
        "class Classification(nn.Module):\n",
        "  def __init__(self,endoder):\n",
        "    super().__init__()\n",
        "    self.layers = endoder\n",
        "    #fully connected layers\n",
        "    self.fc = nn.Sequential(\n",
        "        nn.Linear(bottleneck,10),\n",
        "        nn.LogSoftmax(dim=1)\n",
        "    )\n",
        "  def forward(self,x):\n",
        "    x = self.layers(x)\n",
        "    x= self.fc(x)\n",
        "    return x"
      ],
      "execution_count": 0,
      "outputs": []
    },
    {
      "cell_type": "markdown",
      "metadata": {
        "id": "AuogcDR2oMIU",
        "colab_type": "text"
      },
      "source": [
        "Training with the previous weights. "
      ]
    },
    {
      "cell_type": "code",
      "metadata": {
        "id": "SbQVpxWy_yeX",
        "colab_type": "code",
        "colab": {}
      },
      "source": [
        "def correct_predictions(predicted_batch, label_batch):\n",
        "  pred = predicted_batch.argmax(dim=1, keepdim=True) # get the index of the max log-probability\n",
        "  acum = pred.eq(label_batch.view_as(pred)).sum().item()\n",
        "  return acum\n",
        "\n",
        "def train_epoch(train_loader, network, optimizer, criterion, hparams):\n",
        "  # Activate the train=True flag inside the model\n",
        "  network.train()\n",
        "  device = hparams['device']\n",
        "  avg_loss = None\n",
        "  avg_weight = 0.1\n",
        "  for batch_idx, (data, target) in enumerate(train_loader):\n",
        "      data, target = data.to(device), target.to(device)\n",
        "      optimizer.zero_grad()\n",
        "      output = network(data)\n",
        "      loss = criterion(output, target)\n",
        "      loss.backward()\n",
        "      if avg_loss:\n",
        "        avg_loss = avg_weight * loss.item() + (1 - avg_weight) * avg_loss\n",
        "      else:\n",
        "        avg_loss = loss.item()\n",
        "      optimizer.step()\n",
        "      if batch_idx % hparams['log_interval'] == 0:\n",
        "          print('Train Epoch: {} [{}/{} ({:.0f}%)]\\tLoss: {:.6f}'.format(\n",
        "              epoch, batch_idx * len(data), len(train_loader.dataset),\n",
        "              100. * batch_idx / len(train_loader), loss.item()))\n",
        "  return avg_loss\n",
        "def test_epoch(test_loader, network, hparams):\n",
        "    network.eval()\n",
        "    device = hparams['device']\n",
        "    test_loss = 0\n",
        "    acc = 0\n",
        "    with torch.no_grad():\n",
        "        for data, target in test_loader:\n",
        "            data, target = data.to(device), target.to(device)\n",
        "            output = network(data)\n",
        "            #test_loss += criterion(output, target,reduction='sum').item() # sum up batch loss   eduction='sum'\n",
        "            # compute number of correct predictions in the batch\n",
        "            acc += correct_predictions(output, target)\n",
        "    # Average acc across all correct predictions batches now\n",
        "    #test_loss /= len(test_loader.dataset)\n",
        "    test_acc = 100. * acc / len(test_loader.dataset)\n",
        "    print('\\nTest set: Accuracy: {}/{} ({:.0f}%)\\n'.format(\n",
        "         acc, len(test_loader.dataset), test_acc,\n",
        "        ))\n",
        "    return test_loss, test_acc"
      ],
      "execution_count": 0,
      "outputs": []
    },
    {
      "cell_type": "code",
      "metadata": {
        "id": "RL5CyLd1Ir7I",
        "colab_type": "code",
        "colab": {}
      },
      "source": [
        "def epoch(model_,optimizer_):  \n",
        "    tr_losses = []\n",
        "    te_losses = []\n",
        "    te_accs = []\n",
        "    model_.to(hparams['device'])\n",
        "    optimizer = optimizer_ \n",
        "    criterion = F.nll_loss\n",
        "    for epoch in range(1, hparams['num_epochs'] + 50):\n",
        "      print('Epoch {}'.format(epoch))\n",
        "      tr_losses.append(train_epoch(train_loader, model_, optimizer, criterion, hparams))\n",
        "      te_loss, te_acc = test_epoch(test_loader, model_, hparams)\n",
        "      te_losses.append(te_loss)\n",
        "      te_accs.append(te_acc)   \n",
        "    return te_accs"
      ],
      "execution_count": 0,
      "outputs": []
    },
    {
      "cell_type": "code",
      "metadata": {
        "id": "gkuUBNytbuWc",
        "colab_type": "code",
        "colab": {
          "base_uri": "https://localhost:8080/",
          "height": 1000
        },
        "outputId": "57140a45-45e1-4192-e285-64355b3d7ba6"
      },
      "source": [
        "model_classifier = Classification(encoder_pretrain)\n",
        "optimzer_pretrain = optim.RMSprop(model_classifier.parameters(), lr=hparams['learning_rate'])\n",
        "accs_pretrain=epoch(model_classifier,optimzer_pretrain)"
      ],
      "execution_count": 142,
      "outputs": [
        {
          "output_type": "stream",
          "text": [
            "Epoch 1\n",
            "Train Epoch: <function epoch at 0x7f5afac01f28> [0/100 (0%)]\tLoss: 11.295638\n",
            "\n",
            "Test set: Accuracy: 2404/10000 (24%)\n",
            "\n",
            "Epoch 2\n",
            "Train Epoch: <function epoch at 0x7f5afac01f28> [0/100 (0%)]\tLoss: 2.127764\n",
            "\n",
            "Test set: Accuracy: 3733/10000 (37%)\n",
            "\n",
            "Epoch 3\n",
            "Train Epoch: <function epoch at 0x7f5afac01f28> [0/100 (0%)]\tLoss: 1.711403\n",
            "\n",
            "Test set: Accuracy: 5019/10000 (50%)\n",
            "\n",
            "Epoch 4\n",
            "Train Epoch: <function epoch at 0x7f5afac01f28> [0/100 (0%)]\tLoss: 1.682743\n",
            "\n",
            "Test set: Accuracy: 5696/10000 (57%)\n",
            "\n",
            "Epoch 5\n",
            "Train Epoch: <function epoch at 0x7f5afac01f28> [0/100 (0%)]\tLoss: 1.388746\n",
            "\n",
            "Test set: Accuracy: 6242/10000 (62%)\n",
            "\n",
            "Epoch 6\n",
            "Train Epoch: <function epoch at 0x7f5afac01f28> [0/100 (0%)]\tLoss: 1.210197\n",
            "\n",
            "Test set: Accuracy: 6595/10000 (66%)\n",
            "\n",
            "Epoch 7\n",
            "Train Epoch: <function epoch at 0x7f5afac01f28> [0/100 (0%)]\tLoss: 0.976488\n",
            "\n",
            "Test set: Accuracy: 7208/10000 (72%)\n",
            "\n",
            "Epoch 8\n",
            "Train Epoch: <function epoch at 0x7f5afac01f28> [0/100 (0%)]\tLoss: 1.037449\n",
            "\n",
            "Test set: Accuracy: 6826/10000 (68%)\n",
            "\n",
            "Epoch 9\n",
            "Train Epoch: <function epoch at 0x7f5afac01f28> [0/100 (0%)]\tLoss: 0.704042\n",
            "\n",
            "Test set: Accuracy: 7518/10000 (75%)\n",
            "\n",
            "Epoch 10\n",
            "Train Epoch: <function epoch at 0x7f5afac01f28> [0/100 (0%)]\tLoss: 0.786851\n",
            "\n",
            "Test set: Accuracy: 7692/10000 (77%)\n",
            "\n",
            "Epoch 11\n",
            "Train Epoch: <function epoch at 0x7f5afac01f28> [0/100 (0%)]\tLoss: 0.790753\n",
            "\n",
            "Test set: Accuracy: 7563/10000 (76%)\n",
            "\n",
            "Epoch 12\n",
            "Train Epoch: <function epoch at 0x7f5afac01f28> [0/100 (0%)]\tLoss: 0.802907\n",
            "\n",
            "Test set: Accuracy: 7769/10000 (78%)\n",
            "\n",
            "Epoch 13\n",
            "Train Epoch: <function epoch at 0x7f5afac01f28> [0/100 (0%)]\tLoss: 0.519813\n",
            "\n",
            "Test set: Accuracy: 7902/10000 (79%)\n",
            "\n",
            "Epoch 14\n",
            "Train Epoch: <function epoch at 0x7f5afac01f28> [0/100 (0%)]\tLoss: 0.489604\n",
            "\n",
            "Test set: Accuracy: 7961/10000 (80%)\n",
            "\n",
            "Epoch 15\n",
            "Train Epoch: <function epoch at 0x7f5afac01f28> [0/100 (0%)]\tLoss: 0.574625\n",
            "\n",
            "Test set: Accuracy: 7902/10000 (79%)\n",
            "\n",
            "Epoch 16\n",
            "Train Epoch: <function epoch at 0x7f5afac01f28> [0/100 (0%)]\tLoss: 0.475957\n",
            "\n",
            "Test set: Accuracy: 8020/10000 (80%)\n",
            "\n",
            "Epoch 17\n",
            "Train Epoch: <function epoch at 0x7f5afac01f28> [0/100 (0%)]\tLoss: 0.608174\n",
            "\n",
            "Test set: Accuracy: 8062/10000 (81%)\n",
            "\n",
            "Epoch 18\n",
            "Train Epoch: <function epoch at 0x7f5afac01f28> [0/100 (0%)]\tLoss: 0.392570\n",
            "\n",
            "Test set: Accuracy: 8094/10000 (81%)\n",
            "\n",
            "Epoch 19\n",
            "Train Epoch: <function epoch at 0x7f5afac01f28> [0/100 (0%)]\tLoss: 0.530129\n",
            "\n",
            "Test set: Accuracy: 8038/10000 (80%)\n",
            "\n",
            "Epoch 20\n",
            "Train Epoch: <function epoch at 0x7f5afac01f28> [0/100 (0%)]\tLoss: 0.220607\n",
            "\n",
            "Test set: Accuracy: 8049/10000 (80%)\n",
            "\n",
            "Epoch 21\n",
            "Train Epoch: <function epoch at 0x7f5afac01f28> [0/100 (0%)]\tLoss: 0.322710\n",
            "\n",
            "Test set: Accuracy: 8154/10000 (82%)\n",
            "\n",
            "Epoch 22\n",
            "Train Epoch: <function epoch at 0x7f5afac01f28> [0/100 (0%)]\tLoss: 0.280079\n",
            "\n",
            "Test set: Accuracy: 8079/10000 (81%)\n",
            "\n",
            "Epoch 23\n",
            "Train Epoch: <function epoch at 0x7f5afac01f28> [0/100 (0%)]\tLoss: 0.193088\n",
            "\n",
            "Test set: Accuracy: 8148/10000 (81%)\n",
            "\n",
            "Epoch 24\n",
            "Train Epoch: <function epoch at 0x7f5afac01f28> [0/100 (0%)]\tLoss: 0.259206\n",
            "\n",
            "Test set: Accuracy: 8146/10000 (81%)\n",
            "\n",
            "Epoch 25\n",
            "Train Epoch: <function epoch at 0x7f5afac01f28> [0/100 (0%)]\tLoss: 0.184743\n",
            "\n",
            "Test set: Accuracy: 8211/10000 (82%)\n",
            "\n",
            "Epoch 26\n",
            "Train Epoch: <function epoch at 0x7f5afac01f28> [0/100 (0%)]\tLoss: 0.167001\n",
            "\n",
            "Test set: Accuracy: 8179/10000 (82%)\n",
            "\n",
            "Epoch 27\n",
            "Train Epoch: <function epoch at 0x7f5afac01f28> [0/100 (0%)]\tLoss: 0.272708\n",
            "\n",
            "Test set: Accuracy: 8236/10000 (82%)\n",
            "\n",
            "Epoch 28\n",
            "Train Epoch: <function epoch at 0x7f5afac01f28> [0/100 (0%)]\tLoss: 0.177124\n",
            "\n",
            "Test set: Accuracy: 8298/10000 (83%)\n",
            "\n",
            "Epoch 29\n",
            "Train Epoch: <function epoch at 0x7f5afac01f28> [0/100 (0%)]\tLoss: 0.264313\n",
            "\n",
            "Test set: Accuracy: 8378/10000 (84%)\n",
            "\n",
            "Epoch 30\n",
            "Train Epoch: <function epoch at 0x7f5afac01f28> [0/100 (0%)]\tLoss: 0.120556\n",
            "\n",
            "Test set: Accuracy: 8443/10000 (84%)\n",
            "\n",
            "Epoch 31\n",
            "Train Epoch: <function epoch at 0x7f5afac01f28> [0/100 (0%)]\tLoss: 0.264896\n",
            "\n",
            "Test set: Accuracy: 8439/10000 (84%)\n",
            "\n",
            "Epoch 32\n",
            "Train Epoch: <function epoch at 0x7f5afac01f28> [0/100 (0%)]\tLoss: 0.117504\n",
            "\n",
            "Test set: Accuracy: 8370/10000 (84%)\n",
            "\n",
            "Epoch 33\n",
            "Train Epoch: <function epoch at 0x7f5afac01f28> [0/100 (0%)]\tLoss: 0.148952\n",
            "\n",
            "Test set: Accuracy: 8310/10000 (83%)\n",
            "\n",
            "Epoch 34\n",
            "Train Epoch: <function epoch at 0x7f5afac01f28> [0/100 (0%)]\tLoss: 0.184636\n",
            "\n",
            "Test set: Accuracy: 8362/10000 (84%)\n",
            "\n",
            "Epoch 35\n",
            "Train Epoch: <function epoch at 0x7f5afac01f28> [0/100 (0%)]\tLoss: 0.174985\n",
            "\n",
            "Test set: Accuracy: 8453/10000 (85%)\n",
            "\n",
            "Epoch 36\n",
            "Train Epoch: <function epoch at 0x7f5afac01f28> [0/100 (0%)]\tLoss: 0.239136\n",
            "\n",
            "Test set: Accuracy: 8407/10000 (84%)\n",
            "\n",
            "Epoch 37\n",
            "Train Epoch: <function epoch at 0x7f5afac01f28> [0/100 (0%)]\tLoss: 0.149546\n",
            "\n",
            "Test set: Accuracy: 8417/10000 (84%)\n",
            "\n",
            "Epoch 38\n",
            "Train Epoch: <function epoch at 0x7f5afac01f28> [0/100 (0%)]\tLoss: 0.145667\n",
            "\n",
            "Test set: Accuracy: 8405/10000 (84%)\n",
            "\n",
            "Epoch 39\n",
            "Train Epoch: <function epoch at 0x7f5afac01f28> [0/100 (0%)]\tLoss: 0.216004\n",
            "\n",
            "Test set: Accuracy: 8391/10000 (84%)\n",
            "\n",
            "Epoch 40\n",
            "Train Epoch: <function epoch at 0x7f5afac01f28> [0/100 (0%)]\tLoss: 0.126007\n",
            "\n",
            "Test set: Accuracy: 8458/10000 (85%)\n",
            "\n",
            "Epoch 41\n",
            "Train Epoch: <function epoch at 0x7f5afac01f28> [0/100 (0%)]\tLoss: 0.072367\n",
            "\n",
            "Test set: Accuracy: 8379/10000 (84%)\n",
            "\n",
            "Epoch 42\n",
            "Train Epoch: <function epoch at 0x7f5afac01f28> [0/100 (0%)]\tLoss: 0.125522\n",
            "\n",
            "Test set: Accuracy: 8530/10000 (85%)\n",
            "\n",
            "Epoch 43\n",
            "Train Epoch: <function epoch at 0x7f5afac01f28> [0/100 (0%)]\tLoss: 0.170858\n",
            "\n",
            "Test set: Accuracy: 8480/10000 (85%)\n",
            "\n",
            "Epoch 44\n",
            "Train Epoch: <function epoch at 0x7f5afac01f28> [0/100 (0%)]\tLoss: 0.091313\n",
            "\n",
            "Test set: Accuracy: 8512/10000 (85%)\n",
            "\n",
            "Epoch 45\n",
            "Train Epoch: <function epoch at 0x7f5afac01f28> [0/100 (0%)]\tLoss: 0.152567\n",
            "\n",
            "Test set: Accuracy: 8428/10000 (84%)\n",
            "\n",
            "Epoch 46\n",
            "Train Epoch: <function epoch at 0x7f5afac01f28> [0/100 (0%)]\tLoss: 0.165738\n",
            "\n",
            "Test set: Accuracy: 8524/10000 (85%)\n",
            "\n",
            "Epoch 47\n",
            "Train Epoch: <function epoch at 0x7f5afac01f28> [0/100 (0%)]\tLoss: 0.104504\n",
            "\n",
            "Test set: Accuracy: 8398/10000 (84%)\n",
            "\n",
            "Epoch 48\n",
            "Train Epoch: <function epoch at 0x7f5afac01f28> [0/100 (0%)]\tLoss: 0.081753\n",
            "\n",
            "Test set: Accuracy: 8284/10000 (83%)\n",
            "\n",
            "Epoch 49\n",
            "Train Epoch: <function epoch at 0x7f5afac01f28> [0/100 (0%)]\tLoss: 0.116230\n",
            "\n",
            "Test set: Accuracy: 8425/10000 (84%)\n",
            "\n",
            "Epoch 50\n",
            "Train Epoch: <function epoch at 0x7f5afac01f28> [0/100 (0%)]\tLoss: 0.024030\n",
            "\n",
            "Test set: Accuracy: 8355/10000 (84%)\n",
            "\n",
            "Epoch 51\n",
            "Train Epoch: <function epoch at 0x7f5afac01f28> [0/100 (0%)]\tLoss: 0.083113\n",
            "\n",
            "Test set: Accuracy: 8410/10000 (84%)\n",
            "\n"
          ],
          "name": "stdout"
        }
      ]
    },
    {
      "cell_type": "markdown",
      "metadata": {
        "id": "dKtHrHXKXjZy",
        "colab_type": "text"
      },
      "source": [
        "Fine-tunning with the same learning rate "
      ]
    },
    {
      "cell_type": "code",
      "metadata": {
        "id": "cCvMNgBqhnlb",
        "colab_type": "code",
        "colab": {}
      },
      "source": [
        "fine_tuning_features = model.encoder\n",
        "fine_tuning_model= Classification(fine_tuning_features)\n",
        "optimzer_fine_tuning = optim.SGD([\n",
        "                {'params': fine_tuning_model.layers.parameters()},\n",
        "                {'params': fine_tuning_model.fc.parameters(), 'lr':hparams['learning_rate'] }\n",
        "            ], lr=1e-6, momentum=0.9)\n"
      ],
      "execution_count": 0,
      "outputs": []
    },
    {
      "cell_type": "markdown",
      "metadata": {
        "id": "nY0VinWRe1fL",
        "colab_type": "text"
      },
      "source": [
        "Train the model fine tuning with the normal learning rate"
      ]
    },
    {
      "cell_type": "code",
      "metadata": {
        "id": "5PgFL9GofBxf",
        "colab_type": "code",
        "colab": {
          "base_uri": "https://localhost:8080/",
          "height": 1000
        },
        "outputId": "2d84f613-0f61-44b0-96fc-3bde652263bf"
      },
      "source": [
        "acc_fine_tuning =epoch(fine_tuning_model,optimzer_fine_tuning)"
      ],
      "execution_count": 144,
      "outputs": [
        {
          "output_type": "stream",
          "text": [
            "Epoch 1\n",
            "Train Epoch: <function epoch at 0x7f5afac01f28> [0/100 (0%)]\tLoss: 12.201880\n",
            "\n",
            "Test set: Accuracy: 590/10000 (6%)\n",
            "\n",
            "Epoch 2\n",
            "Train Epoch: <function epoch at 0x7f5afac01f28> [0/100 (0%)]\tLoss: 10.663253\n",
            "\n",
            "Test set: Accuracy: 1801/10000 (18%)\n",
            "\n",
            "Epoch 3\n",
            "Train Epoch: <function epoch at 0x7f5afac01f28> [0/100 (0%)]\tLoss: 6.600730\n",
            "\n",
            "Test set: Accuracy: 3054/10000 (31%)\n",
            "\n",
            "Epoch 4\n",
            "Train Epoch: <function epoch at 0x7f5afac01f28> [0/100 (0%)]\tLoss: 6.360655\n",
            "\n",
            "Test set: Accuracy: 3529/10000 (35%)\n",
            "\n",
            "Epoch 5\n",
            "Train Epoch: <function epoch at 0x7f5afac01f28> [0/100 (0%)]\tLoss: 4.871706\n",
            "\n",
            "Test set: Accuracy: 3493/10000 (35%)\n",
            "\n",
            "Epoch 6\n",
            "Train Epoch: <function epoch at 0x7f5afac01f28> [0/100 (0%)]\tLoss: 4.107152\n",
            "\n",
            "Test set: Accuracy: 4125/10000 (41%)\n",
            "\n",
            "Epoch 7\n",
            "Train Epoch: <function epoch at 0x7f5afac01f28> [0/100 (0%)]\tLoss: 3.055625\n",
            "\n",
            "Test set: Accuracy: 5387/10000 (54%)\n",
            "\n",
            "Epoch 8\n",
            "Train Epoch: <function epoch at 0x7f5afac01f28> [0/100 (0%)]\tLoss: 3.268137\n",
            "\n",
            "Test set: Accuracy: 6237/10000 (62%)\n",
            "\n",
            "Epoch 9\n",
            "Train Epoch: <function epoch at 0x7f5afac01f28> [0/100 (0%)]\tLoss: 2.228729\n",
            "\n",
            "Test set: Accuracy: 6893/10000 (69%)\n",
            "\n",
            "Epoch 10\n",
            "Train Epoch: <function epoch at 0x7f5afac01f28> [0/100 (0%)]\tLoss: 1.574101\n",
            "\n",
            "Test set: Accuracy: 7399/10000 (74%)\n",
            "\n",
            "Epoch 11\n",
            "Train Epoch: <function epoch at 0x7f5afac01f28> [0/100 (0%)]\tLoss: 1.004088\n",
            "\n",
            "Test set: Accuracy: 7598/10000 (76%)\n",
            "\n",
            "Epoch 12\n",
            "Train Epoch: <function epoch at 0x7f5afac01f28> [0/100 (0%)]\tLoss: 1.007893\n",
            "\n",
            "Test set: Accuracy: 7669/10000 (77%)\n",
            "\n",
            "Epoch 13\n",
            "Train Epoch: <function epoch at 0x7f5afac01f28> [0/100 (0%)]\tLoss: 0.887944\n",
            "\n",
            "Test set: Accuracy: 7744/10000 (77%)\n",
            "\n",
            "Epoch 14\n",
            "Train Epoch: <function epoch at 0x7f5afac01f28> [0/100 (0%)]\tLoss: 1.472981\n",
            "\n",
            "Test set: Accuracy: 7793/10000 (78%)\n",
            "\n",
            "Epoch 15\n",
            "Train Epoch: <function epoch at 0x7f5afac01f28> [0/100 (0%)]\tLoss: 0.881727\n",
            "\n",
            "Test set: Accuracy: 7837/10000 (78%)\n",
            "\n",
            "Epoch 16\n",
            "Train Epoch: <function epoch at 0x7f5afac01f28> [0/100 (0%)]\tLoss: 0.694528\n",
            "\n",
            "Test set: Accuracy: 7869/10000 (79%)\n",
            "\n",
            "Epoch 17\n",
            "Train Epoch: <function epoch at 0x7f5afac01f28> [0/100 (0%)]\tLoss: 0.530427\n",
            "\n",
            "Test set: Accuracy: 7892/10000 (79%)\n",
            "\n",
            "Epoch 18\n",
            "Train Epoch: <function epoch at 0x7f5afac01f28> [0/100 (0%)]\tLoss: 0.824213\n",
            "\n",
            "Test set: Accuracy: 7909/10000 (79%)\n",
            "\n",
            "Epoch 19\n",
            "Train Epoch: <function epoch at 0x7f5afac01f28> [0/100 (0%)]\tLoss: 0.679453\n",
            "\n",
            "Test set: Accuracy: 7921/10000 (79%)\n",
            "\n",
            "Epoch 20\n",
            "Train Epoch: <function epoch at 0x7f5afac01f28> [0/100 (0%)]\tLoss: 0.235555\n",
            "\n",
            "Test set: Accuracy: 7960/10000 (80%)\n",
            "\n",
            "Epoch 21\n",
            "Train Epoch: <function epoch at 0x7f5afac01f28> [0/100 (0%)]\tLoss: 0.162715\n",
            "\n",
            "Test set: Accuracy: 7995/10000 (80%)\n",
            "\n",
            "Epoch 22\n",
            "Train Epoch: <function epoch at 0x7f5afac01f28> [0/100 (0%)]\tLoss: 0.595278\n",
            "\n",
            "Test set: Accuracy: 8046/10000 (80%)\n",
            "\n",
            "Epoch 23\n",
            "Train Epoch: <function epoch at 0x7f5afac01f28> [0/100 (0%)]\tLoss: 0.307036\n",
            "\n",
            "Test set: Accuracy: 8106/10000 (81%)\n",
            "\n",
            "Epoch 24\n",
            "Train Epoch: <function epoch at 0x7f5afac01f28> [0/100 (0%)]\tLoss: 0.187744\n",
            "\n",
            "Test set: Accuracy: 8154/10000 (82%)\n",
            "\n",
            "Epoch 25\n",
            "Train Epoch: <function epoch at 0x7f5afac01f28> [0/100 (0%)]\tLoss: 0.249051\n",
            "\n",
            "Test set: Accuracy: 8201/10000 (82%)\n",
            "\n",
            "Epoch 26\n",
            "Train Epoch: <function epoch at 0x7f5afac01f28> [0/100 (0%)]\tLoss: 0.115910\n",
            "\n",
            "Test set: Accuracy: 8224/10000 (82%)\n",
            "\n",
            "Epoch 27\n",
            "Train Epoch: <function epoch at 0x7f5afac01f28> [0/100 (0%)]\tLoss: 0.278536\n",
            "\n",
            "Test set: Accuracy: 8261/10000 (83%)\n",
            "\n",
            "Epoch 28\n",
            "Train Epoch: <function epoch at 0x7f5afac01f28> [0/100 (0%)]\tLoss: 0.348862\n",
            "\n",
            "Test set: Accuracy: 8284/10000 (83%)\n",
            "\n",
            "Epoch 29\n",
            "Train Epoch: <function epoch at 0x7f5afac01f28> [0/100 (0%)]\tLoss: 0.178504\n",
            "\n",
            "Test set: Accuracy: 8296/10000 (83%)\n",
            "\n",
            "Epoch 30\n",
            "Train Epoch: <function epoch at 0x7f5afac01f28> [0/100 (0%)]\tLoss: 0.145167\n",
            "\n",
            "Test set: Accuracy: 8291/10000 (83%)\n",
            "\n",
            "Epoch 31\n",
            "Train Epoch: <function epoch at 0x7f5afac01f28> [0/100 (0%)]\tLoss: 0.120342\n",
            "\n",
            "Test set: Accuracy: 8268/10000 (83%)\n",
            "\n",
            "Epoch 32\n",
            "Train Epoch: <function epoch at 0x7f5afac01f28> [0/100 (0%)]\tLoss: 0.460504\n",
            "\n",
            "Test set: Accuracy: 8251/10000 (83%)\n",
            "\n",
            "Epoch 33\n",
            "Train Epoch: <function epoch at 0x7f5afac01f28> [0/100 (0%)]\tLoss: 0.242371\n",
            "\n",
            "Test set: Accuracy: 8246/10000 (82%)\n",
            "\n",
            "Epoch 34\n",
            "Train Epoch: <function epoch at 0x7f5afac01f28> [0/100 (0%)]\tLoss: 0.209824\n",
            "\n",
            "Test set: Accuracy: 8254/10000 (83%)\n",
            "\n",
            "Epoch 35\n",
            "Train Epoch: <function epoch at 0x7f5afac01f28> [0/100 (0%)]\tLoss: 0.204474\n",
            "\n",
            "Test set: Accuracy: 8271/10000 (83%)\n",
            "\n",
            "Epoch 36\n",
            "Train Epoch: <function epoch at 0x7f5afac01f28> [0/100 (0%)]\tLoss: 0.087603\n",
            "\n",
            "Test set: Accuracy: 8278/10000 (83%)\n",
            "\n",
            "Epoch 37\n",
            "Train Epoch: <function epoch at 0x7f5afac01f28> [0/100 (0%)]\tLoss: 0.075142\n",
            "\n",
            "Test set: Accuracy: 8293/10000 (83%)\n",
            "\n",
            "Epoch 38\n",
            "Train Epoch: <function epoch at 0x7f5afac01f28> [0/100 (0%)]\tLoss: 0.186345\n",
            "\n",
            "Test set: Accuracy: 8307/10000 (83%)\n",
            "\n",
            "Epoch 39\n",
            "Train Epoch: <function epoch at 0x7f5afac01f28> [0/100 (0%)]\tLoss: 0.191811\n",
            "\n",
            "Test set: Accuracy: 8309/10000 (83%)\n",
            "\n",
            "Epoch 40\n",
            "Train Epoch: <function epoch at 0x7f5afac01f28> [0/100 (0%)]\tLoss: 0.220950\n",
            "\n",
            "Test set: Accuracy: 8314/10000 (83%)\n",
            "\n",
            "Epoch 41\n",
            "Train Epoch: <function epoch at 0x7f5afac01f28> [0/100 (0%)]\tLoss: 0.145002\n",
            "\n",
            "Test set: Accuracy: 8311/10000 (83%)\n",
            "\n",
            "Epoch 42\n",
            "Train Epoch: <function epoch at 0x7f5afac01f28> [0/100 (0%)]\tLoss: 0.079303\n",
            "\n",
            "Test set: Accuracy: 8306/10000 (83%)\n",
            "\n",
            "Epoch 43\n",
            "Train Epoch: <function epoch at 0x7f5afac01f28> [0/100 (0%)]\tLoss: 0.192170\n",
            "\n",
            "Test set: Accuracy: 8308/10000 (83%)\n",
            "\n",
            "Epoch 44\n",
            "Train Epoch: <function epoch at 0x7f5afac01f28> [0/100 (0%)]\tLoss: 0.234635\n",
            "\n",
            "Test set: Accuracy: 8307/10000 (83%)\n",
            "\n",
            "Epoch 45\n",
            "Train Epoch: <function epoch at 0x7f5afac01f28> [0/100 (0%)]\tLoss: 0.128956\n",
            "\n",
            "Test set: Accuracy: 8296/10000 (83%)\n",
            "\n",
            "Epoch 46\n",
            "Train Epoch: <function epoch at 0x7f5afac01f28> [0/100 (0%)]\tLoss: 0.208597\n",
            "\n",
            "Test set: Accuracy: 8291/10000 (83%)\n",
            "\n",
            "Epoch 47\n",
            "Train Epoch: <function epoch at 0x7f5afac01f28> [0/100 (0%)]\tLoss: 0.124406\n",
            "\n",
            "Test set: Accuracy: 8280/10000 (83%)\n",
            "\n",
            "Epoch 48\n",
            "Train Epoch: <function epoch at 0x7f5afac01f28> [0/100 (0%)]\tLoss: 0.271282\n",
            "\n",
            "Test set: Accuracy: 8295/10000 (83%)\n",
            "\n",
            "Epoch 49\n",
            "Train Epoch: <function epoch at 0x7f5afac01f28> [0/100 (0%)]\tLoss: 0.101743\n",
            "\n",
            "Test set: Accuracy: 8307/10000 (83%)\n",
            "\n",
            "Epoch 50\n",
            "Train Epoch: <function epoch at 0x7f5afac01f28> [0/100 (0%)]\tLoss: 0.111576\n",
            "\n",
            "Test set: Accuracy: 8314/10000 (83%)\n",
            "\n",
            "Epoch 51\n",
            "Train Epoch: <function epoch at 0x7f5afac01f28> [0/100 (0%)]\tLoss: 0.213123\n",
            "\n",
            "Test set: Accuracy: 8324/10000 (83%)\n",
            "\n"
          ],
          "name": "stdout"
        }
      ]
    },
    {
      "cell_type": "markdown",
      "metadata": {
        "id": "clvxyd1dW6ck",
        "colab_type": "text"
      },
      "source": [
        "Model Train from scratch"
      ]
    },
    {
      "cell_type": "code",
      "metadata": {
        "id": "gZS0J0_d0LuY",
        "colab_type": "code",
        "colab": {
          "base_uri": "https://localhost:8080/",
          "height": 1000
        },
        "outputId": "79e3b29c-a748-48cb-84ad-8fc448666dde"
      },
      "source": [
        "bottleneck = 17\n",
        "networ_scratch = Classification(Encoder(17))\n",
        "optimzer_scratch = optim.RMSprop(model_classifier.parameters(), lr=hparams['learning_rate'])\n",
        "accs_scratch = epoch(network_scratch,optimzer_scratch)"
      ],
      "execution_count": 145,
      "outputs": [
        {
          "output_type": "stream",
          "text": [
            "Epoch 1\n",
            "Train Epoch: <function epoch at 0x7f5afac01f28> [0/100 (0%)]\tLoss: -0.098724\n",
            "\n",
            "Test set: Accuracy: 974/10000 (10%)\n",
            "\n",
            "Epoch 2\n",
            "Train Epoch: <function epoch at 0x7f5afac01f28> [0/100 (0%)]\tLoss: -0.098795\n",
            "\n",
            "Test set: Accuracy: 974/10000 (10%)\n",
            "\n",
            "Epoch 3\n",
            "Train Epoch: <function epoch at 0x7f5afac01f28> [0/100 (0%)]\tLoss: -0.101008\n",
            "\n",
            "Test set: Accuracy: 974/10000 (10%)\n",
            "\n",
            "Epoch 4\n",
            "Train Epoch: <function epoch at 0x7f5afac01f28> [0/100 (0%)]\tLoss: -0.097297\n",
            "\n",
            "Test set: Accuracy: 974/10000 (10%)\n",
            "\n",
            "Epoch 5\n",
            "Train Epoch: <function epoch at 0x7f5afac01f28> [0/100 (0%)]\tLoss: -0.100301\n",
            "\n",
            "Test set: Accuracy: 974/10000 (10%)\n",
            "\n",
            "Epoch 6\n",
            "Train Epoch: <function epoch at 0x7f5afac01f28> [0/100 (0%)]\tLoss: -0.100569\n",
            "\n",
            "Test set: Accuracy: 974/10000 (10%)\n",
            "\n",
            "Epoch 7\n",
            "Train Epoch: <function epoch at 0x7f5afac01f28> [0/100 (0%)]\tLoss: -0.098615\n",
            "\n",
            "Test set: Accuracy: 974/10000 (10%)\n",
            "\n",
            "Epoch 8\n",
            "Train Epoch: <function epoch at 0x7f5afac01f28> [0/100 (0%)]\tLoss: -0.099151\n",
            "\n",
            "Test set: Accuracy: 974/10000 (10%)\n",
            "\n",
            "Epoch 9\n",
            "Train Epoch: <function epoch at 0x7f5afac01f28> [0/100 (0%)]\tLoss: -0.099100\n",
            "\n",
            "Test set: Accuracy: 974/10000 (10%)\n",
            "\n",
            "Epoch 10\n",
            "Train Epoch: <function epoch at 0x7f5afac01f28> [0/100 (0%)]\tLoss: -0.099121\n",
            "\n",
            "Test set: Accuracy: 974/10000 (10%)\n",
            "\n",
            "Epoch 11\n",
            "Train Epoch: <function epoch at 0x7f5afac01f28> [0/100 (0%)]\tLoss: -0.098213\n",
            "\n",
            "Test set: Accuracy: 974/10000 (10%)\n",
            "\n",
            "Epoch 12\n",
            "Train Epoch: <function epoch at 0x7f5afac01f28> [0/100 (0%)]\tLoss: -0.097754\n",
            "\n",
            "Test set: Accuracy: 974/10000 (10%)\n",
            "\n",
            "Epoch 13\n",
            "Train Epoch: <function epoch at 0x7f5afac01f28> [0/100 (0%)]\tLoss: -0.098301\n",
            "\n",
            "Test set: Accuracy: 974/10000 (10%)\n",
            "\n",
            "Epoch 14\n",
            "Train Epoch: <function epoch at 0x7f5afac01f28> [0/100 (0%)]\tLoss: -0.098289\n",
            "\n",
            "Test set: Accuracy: 974/10000 (10%)\n",
            "\n",
            "Epoch 15\n",
            "Train Epoch: <function epoch at 0x7f5afac01f28> [0/100 (0%)]\tLoss: -0.098641\n",
            "\n",
            "Test set: Accuracy: 974/10000 (10%)\n",
            "\n",
            "Epoch 16\n",
            "Train Epoch: <function epoch at 0x7f5afac01f28> [0/100 (0%)]\tLoss: -0.098784\n",
            "\n",
            "Test set: Accuracy: 974/10000 (10%)\n",
            "\n",
            "Epoch 17\n",
            "Train Epoch: <function epoch at 0x7f5afac01f28> [0/100 (0%)]\tLoss: -0.097663\n",
            "\n",
            "Test set: Accuracy: 974/10000 (10%)\n",
            "\n",
            "Epoch 18\n",
            "Train Epoch: <function epoch at 0x7f5afac01f28> [0/100 (0%)]\tLoss: -0.098491\n",
            "\n",
            "Test set: Accuracy: 974/10000 (10%)\n",
            "\n",
            "Epoch 19\n",
            "Train Epoch: <function epoch at 0x7f5afac01f28> [0/100 (0%)]\tLoss: -0.099534\n",
            "\n",
            "Test set: Accuracy: 974/10000 (10%)\n",
            "\n",
            "Epoch 20\n",
            "Train Epoch: <function epoch at 0x7f5afac01f28> [0/100 (0%)]\tLoss: -0.099487\n",
            "\n",
            "Test set: Accuracy: 974/10000 (10%)\n",
            "\n",
            "Epoch 21\n",
            "Train Epoch: <function epoch at 0x7f5afac01f28> [0/100 (0%)]\tLoss: -0.098281\n",
            "\n",
            "Test set: Accuracy: 974/10000 (10%)\n",
            "\n",
            "Epoch 22\n",
            "Train Epoch: <function epoch at 0x7f5afac01f28> [0/100 (0%)]\tLoss: -0.098390\n",
            "\n",
            "Test set: Accuracy: 974/10000 (10%)\n",
            "\n",
            "Epoch 23\n",
            "Train Epoch: <function epoch at 0x7f5afac01f28> [0/100 (0%)]\tLoss: -0.095904\n",
            "\n",
            "Test set: Accuracy: 974/10000 (10%)\n",
            "\n",
            "Epoch 24\n",
            "Train Epoch: <function epoch at 0x7f5afac01f28> [0/100 (0%)]\tLoss: -0.099396\n",
            "\n",
            "Test set: Accuracy: 974/10000 (10%)\n",
            "\n",
            "Epoch 25\n",
            "Train Epoch: <function epoch at 0x7f5afac01f28> [0/100 (0%)]\tLoss: -0.100017\n",
            "\n",
            "Test set: Accuracy: 974/10000 (10%)\n",
            "\n",
            "Epoch 26\n",
            "Train Epoch: <function epoch at 0x7f5afac01f28> [0/100 (0%)]\tLoss: -0.097570\n",
            "\n",
            "Test set: Accuracy: 974/10000 (10%)\n",
            "\n",
            "Epoch 27\n",
            "Train Epoch: <function epoch at 0x7f5afac01f28> [0/100 (0%)]\tLoss: -0.101037\n",
            "\n",
            "Test set: Accuracy: 974/10000 (10%)\n",
            "\n",
            "Epoch 28\n",
            "Train Epoch: <function epoch at 0x7f5afac01f28> [0/100 (0%)]\tLoss: -0.098189\n",
            "\n",
            "Test set: Accuracy: 974/10000 (10%)\n",
            "\n",
            "Epoch 29\n",
            "Train Epoch: <function epoch at 0x7f5afac01f28> [0/100 (0%)]\tLoss: -0.099003\n",
            "\n",
            "Test set: Accuracy: 974/10000 (10%)\n",
            "\n",
            "Epoch 30\n",
            "Train Epoch: <function epoch at 0x7f5afac01f28> [0/100 (0%)]\tLoss: -0.099374\n",
            "\n",
            "Test set: Accuracy: 974/10000 (10%)\n",
            "\n",
            "Epoch 31\n",
            "Train Epoch: <function epoch at 0x7f5afac01f28> [0/100 (0%)]\tLoss: -0.098435\n",
            "\n",
            "Test set: Accuracy: 974/10000 (10%)\n",
            "\n",
            "Epoch 32\n",
            "Train Epoch: <function epoch at 0x7f5afac01f28> [0/100 (0%)]\tLoss: -0.097249\n",
            "\n",
            "Test set: Accuracy: 974/10000 (10%)\n",
            "\n",
            "Epoch 33\n",
            "Train Epoch: <function epoch at 0x7f5afac01f28> [0/100 (0%)]\tLoss: -0.099586\n",
            "\n",
            "Test set: Accuracy: 974/10000 (10%)\n",
            "\n",
            "Epoch 34\n",
            "Train Epoch: <function epoch at 0x7f5afac01f28> [0/100 (0%)]\tLoss: -0.099976\n",
            "\n",
            "Test set: Accuracy: 974/10000 (10%)\n",
            "\n",
            "Epoch 35\n",
            "Train Epoch: <function epoch at 0x7f5afac01f28> [0/100 (0%)]\tLoss: -0.098842\n",
            "\n",
            "Test set: Accuracy: 974/10000 (10%)\n",
            "\n",
            "Epoch 36\n",
            "Train Epoch: <function epoch at 0x7f5afac01f28> [0/100 (0%)]\tLoss: -0.100534\n",
            "\n",
            "Test set: Accuracy: 974/10000 (10%)\n",
            "\n",
            "Epoch 37\n",
            "Train Epoch: <function epoch at 0x7f5afac01f28> [0/100 (0%)]\tLoss: -0.098571\n",
            "\n",
            "Test set: Accuracy: 974/10000 (10%)\n",
            "\n",
            "Epoch 38\n",
            "Train Epoch: <function epoch at 0x7f5afac01f28> [0/100 (0%)]\tLoss: -0.096553\n",
            "\n",
            "Test set: Accuracy: 974/10000 (10%)\n",
            "\n",
            "Epoch 39\n",
            "Train Epoch: <function epoch at 0x7f5afac01f28> [0/100 (0%)]\tLoss: -0.097088\n",
            "\n",
            "Test set: Accuracy: 974/10000 (10%)\n",
            "\n",
            "Epoch 40\n",
            "Train Epoch: <function epoch at 0x7f5afac01f28> [0/100 (0%)]\tLoss: -0.098119\n",
            "\n",
            "Test set: Accuracy: 974/10000 (10%)\n",
            "\n",
            "Epoch 41\n",
            "Train Epoch: <function epoch at 0x7f5afac01f28> [0/100 (0%)]\tLoss: -0.100254\n",
            "\n",
            "Test set: Accuracy: 974/10000 (10%)\n",
            "\n",
            "Epoch 42\n",
            "Train Epoch: <function epoch at 0x7f5afac01f28> [0/100 (0%)]\tLoss: -0.097606\n",
            "\n",
            "Test set: Accuracy: 974/10000 (10%)\n",
            "\n",
            "Epoch 43\n",
            "Train Epoch: <function epoch at 0x7f5afac01f28> [0/100 (0%)]\tLoss: -0.097459\n",
            "\n",
            "Test set: Accuracy: 974/10000 (10%)\n",
            "\n",
            "Epoch 44\n",
            "Train Epoch: <function epoch at 0x7f5afac01f28> [0/100 (0%)]\tLoss: -0.098259\n",
            "\n",
            "Test set: Accuracy: 974/10000 (10%)\n",
            "\n",
            "Epoch 45\n",
            "Train Epoch: <function epoch at 0x7f5afac01f28> [0/100 (0%)]\tLoss: -0.097940\n",
            "\n",
            "Test set: Accuracy: 974/10000 (10%)\n",
            "\n",
            "Epoch 46\n",
            "Train Epoch: <function epoch at 0x7f5afac01f28> [0/100 (0%)]\tLoss: -0.096781\n",
            "\n",
            "Test set: Accuracy: 974/10000 (10%)\n",
            "\n",
            "Epoch 47\n",
            "Train Epoch: <function epoch at 0x7f5afac01f28> [0/100 (0%)]\tLoss: -0.098436\n",
            "\n",
            "Test set: Accuracy: 974/10000 (10%)\n",
            "\n",
            "Epoch 48\n",
            "Train Epoch: <function epoch at 0x7f5afac01f28> [0/100 (0%)]\tLoss: -0.100310\n",
            "\n",
            "Test set: Accuracy: 974/10000 (10%)\n",
            "\n",
            "Epoch 49\n",
            "Train Epoch: <function epoch at 0x7f5afac01f28> [0/100 (0%)]\tLoss: -0.101254\n",
            "\n",
            "Test set: Accuracy: 974/10000 (10%)\n",
            "\n",
            "Epoch 50\n",
            "Train Epoch: <function epoch at 0x7f5afac01f28> [0/100 (0%)]\tLoss: -0.099792\n",
            "\n",
            "Test set: Accuracy: 974/10000 (10%)\n",
            "\n",
            "Epoch 51\n",
            "Train Epoch: <function epoch at 0x7f5afac01f28> [0/100 (0%)]\tLoss: -0.096091\n",
            "\n",
            "Test set: Accuracy: 974/10000 (10%)\n",
            "\n"
          ],
          "name": "stdout"
        }
      ]
    },
    {
      "cell_type": "markdown",
      "metadata": {
        "id": "m9XO-xl_ZM8l",
        "colab_type": "text"
      },
      "source": [
        "Train the model from scratch"
      ]
    },
    {
      "cell_type": "markdown",
      "metadata": {
        "id": "66fb84XHd1UG",
        "colab_type": "text"
      },
      "source": [
        "Plot all the accuracy"
      ]
    },
    {
      "cell_type": "code",
      "metadata": {
        "id": "0ZPHQsD9e5O7",
        "colab_type": "code",
        "colab": {
          "base_uri": "https://localhost:8080/",
          "height": 795
        },
        "outputId": "9b3f56a8-e042-496e-c73c-f152037d2f4d"
      },
      "source": [
        "fig, ax = plt.subplots()\n",
        "#hide axes\n",
        "fig.patch.set_visible(False)\n",
        "ax.axis('off')\n",
        "ax.axis('tight')\n",
        "data = {'Accuracy Train model %':accs_pretrain,'Accuracy model Fine-tuning %':acc_fine_tuning,'Accuracy Model from scratch %':accs_scratch}\n",
        "df = pd.DataFrame(data)\n",
        "ax.table(cellText=df.values, colLabels=df.columns, loc='center')\n",
        "fig.tight_layout()\n",
        "plt.show()"
      ],
      "execution_count": 146,
      "outputs": [
        {
          "output_type": "display_data",
          "data": {
            "image/png": "[encoded data removed]",
            "text/plain": [
              "<Figure size 432x288 with 1 Axes>"
            ]
          },
          "metadata": {
            "tags": []
          }
        }
      ]
    }
  ]
}